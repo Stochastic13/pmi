{
 "metadata": {
  "name": ""
 },
 "nbformat": 3,
 "nbformat_minor": 0,
 "worksheets": [
  {
   "cells": [
    {
     "cell_type": "heading",
     "level": 1,
     "metadata": {},
     "source": [
      "How to model cross-linking data. A tutorial.\n",
      "\n",
      "\n"
     ]
    },
    {
     "cell_type": "markdown",
     "metadata": {},
     "source": [
      "This tutorial is meant to be used with IMP and IMP.pmi. See installation notes. "
     ]
    },
    {
     "cell_type": "markdown",
     "metadata": {},
     "source": [
      "Import IMP modules"
     ]
    },
    {
     "cell_type": "code",
     "collapsed": false,
     "input": [
      "import IMP\n",
      "import IMP.core\n",
      "import IMP.base\n",
      "import IMP.algebra\n",
      "import IMP.atom\n",
      "import IMP.container"
     ],
     "language": "python",
     "metadata": {},
     "outputs": [],
     "prompt_number": 1
    },
    {
     "cell_type": "markdown",
     "metadata": {},
     "source": [
      "Import IMP.pmi submodules"
     ]
    },
    {
     "cell_type": "code",
     "collapsed": false,
     "input": [
      "import IMP.pmi\n",
      "import IMP.pmi.restraints.stereochemistry as stereochemistry\n",
      "import IMP.pmi.restraints.crosslinking as crosslinking\n",
      "import IMP.pmi.representation as representation\n",
      "import IMP.pmi.tools as tools\n",
      "import IMP.pmi.samplers as samplers\n",
      "import IMP.pmi.output as output"
     ],
     "language": "python",
     "metadata": {},
     "outputs": [
      {
       "ename": "ImportError",
       "evalue": "No module named stereochemistry",
       "output_type": "pyerr",
       "traceback": [
        "\u001b[0;31m---------------------------------------------------------------------------\u001b[0m\n\u001b[0;31mImportError\u001b[0m                               Traceback (most recent call last)",
        "\u001b[0;32m<ipython-input-4-14b1a61c262f>\u001b[0m in \u001b[0;36m<module>\u001b[0;34m()\u001b[0m\n\u001b[1;32m      1\u001b[0m \u001b[0;32mimport\u001b[0m \u001b[0mIMP\u001b[0m\u001b[0;34m.\u001b[0m\u001b[0mpmi\u001b[0m\u001b[0;34m\u001b[0m\u001b[0m\n\u001b[0;32m----> 2\u001b[0;31m \u001b[0;32mimport\u001b[0m \u001b[0mIMP\u001b[0m\u001b[0;34m.\u001b[0m\u001b[0mpmi\u001b[0m\u001b[0;34m.\u001b[0m\u001b[0mrestraints\u001b[0m\u001b[0;34m.\u001b[0m\u001b[0mstereochemistry\u001b[0m \u001b[0;32mas\u001b[0m \u001b[0mstereochemistry\u001b[0m\u001b[0;34m\u001b[0m\u001b[0m\n\u001b[0m\u001b[1;32m      3\u001b[0m \u001b[0;32mimport\u001b[0m \u001b[0mIMP\u001b[0m\u001b[0;34m.\u001b[0m\u001b[0mpmi\u001b[0m\u001b[0;34m.\u001b[0m\u001b[0mrestraints\u001b[0m\u001b[0;34m.\u001b[0m\u001b[0mcrosslinking\u001b[0m \u001b[0;32mas\u001b[0m \u001b[0mcrosslinking\u001b[0m\u001b[0;34m\u001b[0m\u001b[0m\n\u001b[1;32m      4\u001b[0m \u001b[0;32mimport\u001b[0m \u001b[0mIMP\u001b[0m\u001b[0;34m.\u001b[0m\u001b[0mpmi\u001b[0m\u001b[0;34m.\u001b[0m\u001b[0mrepresentation\u001b[0m \u001b[0;32mas\u001b[0m \u001b[0mrepresentation\u001b[0m\u001b[0;34m\u001b[0m\u001b[0m\n\u001b[1;32m      5\u001b[0m \u001b[0;32mimport\u001b[0m \u001b[0mIMP\u001b[0m\u001b[0;34m.\u001b[0m\u001b[0mpmi\u001b[0m\u001b[0;34m.\u001b[0m\u001b[0mtools\u001b[0m \u001b[0;32mas\u001b[0m \u001b[0mtools\u001b[0m\u001b[0;34m\u001b[0m\u001b[0m\n",
        "\u001b[0;31mImportError\u001b[0m: No module named stereochemistry"
       ]
      }
     ],
     "prompt_number": 4
    },
    {
     "cell_type": "code",
     "collapsed": false,
     "input": [
      "IMP.base.set_log_level(IMP.base.SILENT)"
     ],
     "language": "python",
     "metadata": {},
     "outputs": []
    },
    {
     "cell_type": "markdown",
     "metadata": {},
     "source": [
      "Input parameters"
     ]
    },
    {
     "cell_type": "code",
     "collapsed": false,
     "input": [
      "pdbfile=IMP.pmi.get_data_path(\"1WCM.pdb\")\n",
      "fastafile=IMP.pmi.get_data_path(\"1WCM.fasta.txt\")\n",
      "fastids=tools.get_ids_from_fasta_file(fastafile)\n",
      "missing_bead_size=20"
     ],
     "language": "python",
     "metadata": {},
     "outputs": []
    },
    {
     "cell_type": "code",
     "collapsed": false,
     "input": [],
     "language": "python",
     "metadata": {},
     "outputs": []
    },
    {
     "cell_type": "code",
     "collapsed": false,
     "input": [
      "#         Component  pdbfile    chainid  rgb color     fastafile     sequence id \n",
      "#                                                                    in fastafile\n",
      "data = [(\"Rpb1\",     pdbfile,   \"A\",     0.00000000,  (fastafile,    0)),\n",
      "        (\"Rpb2\",     pdbfile,   \"B\",     0.09090909,  (fastafile,    1)),\n",
      "        (\"Rpb3\",     pdbfile,   \"C\",     0.18181818,  (fastafile,    2)),\n",
      "        (\"Rpb4\",     pdbfile,   \"D\",     0.27272727,  (fastafile,    3)),\n",
      "        (\"Rpb5\",     pdbfile,   \"E\",     0.36363636,  (fastafile,    4)),\n",
      "        (\"Rpb6\",     pdbfile,   \"F\",     0.45454545,  (fastafile,    5)),\n",
      "        (\"Rpb7\",     pdbfile,   \"G\",     0.54545455,  (fastafile,    6)),\n",
      "        (\"Rpb8\",     pdbfile,   \"H\",     0.63636364,  (fastafile,    7)),\n",
      "        (\"Rpb9\",     pdbfile,   \"I\",     0.72727273,  (fastafile,    8)),\n",
      "        (\"Rpb10\",    pdbfile,   \"L\",     0.81818182,  (fastafile,    9)),\n",
      "        (\"Rpb11\",    pdbfile,   \"J\",     0.90909091,  (fastafile,   10)),\n",
      "        (\"Rpb12\",    pdbfile,   \"K\",     1.00000000,  (fastafile,   11))]                    \n",
      "\n",
      "#mapping the file columns for crosslinks\n",
      "crosslink_file='polii_xlinks.csv'\n",
      "\n",
      "columnmap={}\n",
      "columnmap[\"Protein1\"]=\"pep1.accession\"\n",
      "columnmap[\"Protein2\"]=\"pep2.accession\"\n",
      "columnmap[\"Residue1\"]=\"pep1.xlinked_aa\"\n",
      "columnmap[\"Residue2\"]=\"pep2.xlinked_aa\"\n",
      "\n",
      "\n",
      "#create the representation\n",
      "log_objects=[]\n",
      "optimizable_objects=[]\n",
      "\n",
      "m=IMP.Model()\n",
      "r=representation.Representation(m) \n",
      "\n",
      "hierarchies={}\n",
      "\n",
      "for d in data:\n",
      "    component_name=d[0]\n",
      "    pdb_file=d[1]\n",
      "    chain_id=d[2]\n",
      "    color_id=d[3]\n",
      "    fasta_file=d[4][0]\n",
      "    fasta_file_id=d[4][1]\n",
      "    #avoid to add a component with the same name\n",
      "    r.create_component(component_name,\n",
      "                       color=color_id)\n",
      "                       \n",
      "    r.add_component_sequence(component_name,\n",
      "                             fasta_file,\n",
      "                             id=fastids[fasta_file_id])\n",
      "                             \n",
      "    hierarchies=r.autobuild_model(component_name,\n",
      "                                   pdb_file,\n",
      "                                   chain_id,\n",
      "                                   resolutions=[1,10],\n",
      "                                   missingbeadsize=missing_bead_size)\n",
      "                                   \n",
      "    r.show_component_table(component_name)\n",
      "    \n",
      "    r.set_rigid_bodies([component_name])\n",
      "    \n",
      "    #r.set_chain_of_super_rigid_bodies(hierarchies,min_length=2,max_length=2)\n",
      "    \n",
      "    r.setup_component_sequence_connectivity(component_name,resolution=1)\n",
      "    \n",
      "    \n",
      "\n",
      "#put it at the end of rigid bodies\n",
      "r.set_floppy_bodies()\n",
      "\n",
      "\n",
      "\n",
      "r.shuffle_configuration(100,avoidcollision=True)\n",
      "\n",
      "log_objects.append(r)\n",
      "\n",
      "ev=stereochemistry.ExcludedVolumeSphere(r,resolution=10)\n",
      "ev.add_to_model()\n",
      "log_objects.append(ev)\n",
      "\n",
      "xl = crosslinking.SigmoidalCrossLinkMS(\n",
      "        r, \n",
      "        crosslink_file,\n",
      "        inflection=25,\n",
      "        slope=2.0,\n",
      "        amplitude=5.0,\n",
      "        linear_slope=0.03,\n",
      "        resolution=1,\n",
      "        columnmapping=columnmap,\n",
      "        csvfile=True)  \n",
      "xl.add_to_model()\n",
      "log_objects.append(xl)\n",
      "\n",
      "#move the movers outside ang get the movers from representation and restraints\n",
      "#helper function to generate samplers samplers.get_movers([r,xl])\n",
      "# something like: mc = samplers.MonteCarlo(m,samplers.get_movers([r,xl]), 1.0)\n",
      "mc = samplers.MonteCarlo(m,[r], 1.0)\n",
      "mc.set_simulated_annealing(min_temp=1.0,\n",
      "                           max_temp=5.0,\n",
      "                           min_temp_time=200,\n",
      "                           max_temp_time=50)\n",
      "log_objects.append(mc)\n",
      "\n",
      "\n",
      "o = output.Output()\n",
      "rmf=o.init_rmf(\"conformations.rmf3\",[r.prot])\n",
      "#there is a function in IMP: redundant!\n",
      "#for the pdb use write_pdb_of_c_alphas\n",
      "#write_pdb_of_c_alphas(IMP.pmi.tools.select(r,resolution=1))\n",
      "o.add_restraints_to_rmf(\"conformations.rmf3\",[xl])\n",
      "o.init_stat2(\"modeling.stat\",log_objects)\n",
      "#remove the frame index\n",
      "o.write_rmf(\"conformations.rmf3\")\n",
      "\n",
      "o.write_rmf(\"conformations.rmf3\")\n",
      "\n",
      "\n",
      "for i in range(2,100):\n",
      "   print i\n",
      "   mc.optimize(10)\n",
      "   o.write_rmf(\"conformations.rmf3\")\n",
      "   o.write_stats2()\n",
      "o.close_rmf(\"conformations.rmf3\")"
     ],
     "language": "python",
     "metadata": {},
     "outputs": []
    }
   ],
   "metadata": {}
  }
 ]
}