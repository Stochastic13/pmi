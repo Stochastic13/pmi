{
 "metadata": {
  "name": ""
 },
 "nbformat": 3,
 "nbformat_minor": 0,
 "worksheets": [
  {
   "cells": [
    {
     "cell_type": "heading",
     "level": 1,
     "metadata": {},
     "source": [
      "How to model cross-linking data. A tutorial.\n",
      "\n",
      "\n"
     ]
    },
    {
     "cell_type": "markdown",
     "metadata": {},
     "source": [
      "This tutorial is meant to be used with IMP and IMP.pmi. See installation notes. "
     ]
    },
    {
     "cell_type": "markdown",
     "metadata": {},
     "source": [
      "Import IMP modules"
     ]
    },
    {
     "cell_type": "code",
     "collapsed": false,
     "input": [
      "import IMP\n",
      "import IMP.core\n",
      "import IMP.base\n",
      "import IMP.algebra\n",
      "import IMP.atom\n",
      "import IMP.container"
     ],
     "language": "python",
     "metadata": {},
     "outputs": [],
     "prompt_number": 1
    },
    {
     "cell_type": "markdown",
     "metadata": {},
     "source": [
      "Import IMP.pmi submodules"
     ]
    },
    {
     "cell_type": "code",
     "collapsed": false,
     "input": [
      "import IMP.pmi\n",
      "import IMP.pmi.restraints.stereochemistry as stereochemistry\n",
      "import IMP.pmi.restraints.crosslinking as crosslinking\n",
      "import IMP.pmi.representation as representation\n",
      "import IMP.pmi.tools as tools\n",
      "import IMP.pmi.samplers as samplers\n",
      "import IMP.pmi.output as output\n",
      "import IMP.pmi.macros as macros"
     ],
     "language": "python",
     "metadata": {},
     "outputs": [
      {
       "ename": "ImportError",
       "evalue": "No module named macros",
       "output_type": "pyerr",
       "traceback": [
        "\u001b[0;31m---------------------------------------------------------------------------\u001b[0m\n\u001b[0;31mImportError\u001b[0m                               Traceback (most recent call last)",
        "\u001b[0;32m<ipython-input-9-b848c6af80e5>\u001b[0m in \u001b[0;36m<module>\u001b[0;34m()\u001b[0m\n\u001b[1;32m      6\u001b[0m \u001b[0;32mimport\u001b[0m \u001b[0mIMP\u001b[0m\u001b[0;34m.\u001b[0m\u001b[0mpmi\u001b[0m\u001b[0;34m.\u001b[0m\u001b[0msamplers\u001b[0m \u001b[0;32mas\u001b[0m \u001b[0msamplers\u001b[0m\u001b[0;34m\u001b[0m\u001b[0m\n\u001b[1;32m      7\u001b[0m \u001b[0;32mimport\u001b[0m \u001b[0mIMP\u001b[0m\u001b[0;34m.\u001b[0m\u001b[0mpmi\u001b[0m\u001b[0;34m.\u001b[0m\u001b[0moutput\u001b[0m \u001b[0;32mas\u001b[0m \u001b[0moutput\u001b[0m\u001b[0;34m\u001b[0m\u001b[0m\n\u001b[0;32m----> 8\u001b[0;31m \u001b[0;32mimport\u001b[0m \u001b[0mIMP\u001b[0m\u001b[0;34m.\u001b[0m\u001b[0mpmi\u001b[0m\u001b[0;34m.\u001b[0m\u001b[0mmacros\u001b[0m \u001b[0;32mas\u001b[0m \u001b[0mmacros\u001b[0m\u001b[0;34m\u001b[0m\u001b[0m\n\u001b[0m",
        "\u001b[0;31mImportError\u001b[0m: No module named macros"
       ]
      }
     ],
     "prompt_number": 9
    },
    {
     "cell_type": "code",
     "collapsed": false,
     "input": [
      "#IMP.base.set_log_level(IMP.base.SILENT)"
     ],
     "language": "python",
     "metadata": {},
     "outputs": [],
     "prompt_number": 3
    },
    {
     "cell_type": "markdown",
     "metadata": {},
     "source": [
      "Input parameters"
     ]
    },
    {
     "cell_type": "code",
     "collapsed": false,
     "input": [
      "pdbfile=IMP.pmi.get_data_path(\"1WCM.pdb\")\n",
      "fastafile=IMP.pmi.get_data_path(\"1WCM.fasta.txt\")\n",
      "fastids=tools.get_ids_from_fasta_file(fastafile)\n",
      "missing_bead_size=20"
     ],
     "language": "python",
     "metadata": {},
     "outputs": [],
     "prompt_number": 4
    },
    {
     "cell_type": "markdown",
     "metadata": {},
     "source": [
      "Define a data table, consisting of the Component name, the pdbfile from where you want to read the coordinates, the chain name, the color assignemd in the rmf file, the fasta file and the index of the sequence in a the fasta file"
     ]
    },
    {
     "cell_type": "code",
     "collapsed": false,
     "input": [
      "#         Component  pdbfile    chainid  rgb color     fastafile     sequence id \n",
      "#                                                                    in fastafile\n",
      "data = [(\"Rpb1\",     pdbfile,   \"A\",     0.00000000,  (fastafile,    0)),\n",
      "        (\"Rpb2\",     pdbfile,   \"B\",     0.09090909,  (fastafile,    1)),\n",
      "        (\"Rpb3\",     pdbfile,   \"C\",     0.18181818,  (fastafile,    2)),\n",
      "        (\"Rpb4\",     pdbfile,   \"D\",     0.27272727,  (fastafile,    3)),\n",
      "        (\"Rpb5\",     pdbfile,   \"E\",     0.36363636,  (fastafile,    4)),\n",
      "        (\"Rpb6\",     pdbfile,   \"F\",     0.45454545,  (fastafile,    5)),\n",
      "        (\"Rpb7\",     pdbfile,   \"G\",     0.54545455,  (fastafile,    6)),\n",
      "        (\"Rpb8\",     pdbfile,   \"H\",     0.63636364,  (fastafile,    7)),\n",
      "        (\"Rpb9\",     pdbfile,   \"I\",     0.72727273,  (fastafile,    8)),\n",
      "        (\"Rpb10\",    pdbfile,   \"L\",     0.81818182,  (fastafile,    9)),\n",
      "        (\"Rpb11\",    pdbfile,   \"J\",     0.90909091,  (fastafile,   10)),\n",
      "        (\"Rpb12\",    pdbfile,   \"K\",     1.00000000,  (fastafile,   11))]                    "
     ],
     "language": "python",
     "metadata": {},
     "outputs": [],
     "prompt_number": 5
    },
    {
     "cell_type": "markdown",
     "metadata": {},
     "source": [
      "mapping the file columns for crosslinks"
     ]
    },
    {
     "cell_type": "code",
     "collapsed": false,
     "input": [
      "crosslink_file='polii_xlinks.csv'\n",
      "\n",
      "columnmap={}\n",
      "columnmap[\"Protein1\"]=\"pep1.accession\"\n",
      "columnmap[\"Protein2\"]=\"pep2.accession\"\n",
      "columnmap[\"Residue1\"]=\"pep1.xlinked_aa\"\n",
      "columnmap[\"Residue2\"]=\"pep2.xlinked_aa\""
     ],
     "language": "python",
     "metadata": {},
     "outputs": [],
     "prompt_number": 6
    },
    {
     "cell_type": "markdown",
     "metadata": {},
     "source": [
      "create the representation"
     ]
    },
    {
     "cell_type": "code",
     "collapsed": false,
     "input": [
      "log_objects=[]\n",
      "optimizable_objects=[]\n",
      "\n",
      "m=IMP.Model()\n"
     ],
     "language": "python",
     "metadata": {},
     "outputs": [],
     "prompt_number": 7
    },
    {
     "cell_type": "code",
     "collapsed": false,
     "input": [
      "r=macros.BuildModel0(data,resolutions=[1,10],missing_bead_size=missing_bead_size)\n",
      "\n",
      "log_objects.append(r)"
     ],
     "language": "python",
     "metadata": {},
     "outputs": [
      {
       "ename": "NameError",
       "evalue": "name 'macros' is not defined",
       "output_type": "pyerr",
       "traceback": [
        "\u001b[0;31m---------------------------------------------------------------------------\u001b[0m\n\u001b[0;31mNameError\u001b[0m                                 Traceback (most recent call last)",
        "\u001b[0;32m<ipython-input-8-3daaf906b99a>\u001b[0m in \u001b[0;36m<module>\u001b[0;34m()\u001b[0m\n\u001b[0;32m----> 1\u001b[0;31m \u001b[0mr\u001b[0m\u001b[0;34m=\u001b[0m\u001b[0mmacros\u001b[0m\u001b[0;34m.\u001b[0m\u001b[0mBuildModel0\u001b[0m\u001b[0;34m(\u001b[0m\u001b[0mdata\u001b[0m\u001b[0;34m,\u001b[0m\u001b[0mresolutions\u001b[0m\u001b[0;34m=\u001b[0m\u001b[0;34m[\u001b[0m\u001b[0;36m1\u001b[0m\u001b[0;34m,\u001b[0m\u001b[0;36m10\u001b[0m\u001b[0;34m]\u001b[0m\u001b[0;34m,\u001b[0m\u001b[0mmissing_bead_size\u001b[0m\u001b[0;34m=\u001b[0m\u001b[0mmissing_bead_size\u001b[0m\u001b[0;34m)\u001b[0m\u001b[0;34m\u001b[0m\u001b[0m\n\u001b[0m\u001b[1;32m      2\u001b[0m \u001b[0;34m\u001b[0m\u001b[0m\n\u001b[1;32m      3\u001b[0m \u001b[0mlog_objects\u001b[0m\u001b[0;34m.\u001b[0m\u001b[0mappend\u001b[0m\u001b[0;34m(\u001b[0m\u001b[0mr\u001b[0m\u001b[0;34m)\u001b[0m\u001b[0;34m\u001b[0m\u001b[0m\n",
        "\u001b[0;31mNameError\u001b[0m: name 'macros' is not defined"
       ]
      }
     ],
     "prompt_number": 8
    },
    {
     "cell_type": "code",
     "collapsed": false,
     "input": [
      "r.shuffle_configuration(100,avoidcollision=True)\n",
      "\n"
     ],
     "language": "python",
     "metadata": {},
     "outputs": [
      {
       "output_type": "stream",
       "stream": "stdout",
       "text": [
        "shuffle_configuration: rigid body placed close to other 4691 particles, trying again...\n",
        "shuffle_configuration: rigid body name: ['Rpb1']_rigid_body\n",
        "shuffle_configuration: rigid body placed close to other 167 particles, trying again...\n",
        "shuffle_configuration: rigid body name: ['Rpb1']_rigid_body\n",
        "shuffle_configuration: rigid body placed close to other 24 particles, trying again..."
       ]
      },
      {
       "output_type": "stream",
       "stream": "stdout",
       "text": [
        "\n",
        "shuffle_configuration: rigid body name: ['Rpb2']_rigid_body\n",
        "shuffle_configuration: rigid body placed close to other 336 particles, trying again..."
       ]
      },
      {
       "output_type": "stream",
       "stream": "stdout",
       "text": [
        "\n",
        "shuffle_configuration: rigid body name: ['Rpb3']_rigid_body\n",
        "shuffle_configuration: rigid body placed close to other 1873 particles, trying again..."
       ]
      },
      {
       "output_type": "stream",
       "stream": "stdout",
       "text": [
        "\n",
        "shuffle_configuration: rigid body name: ['Rpb4']_rigid_body\n",
        "shuffle_configuration: rigid body placed close to other 598 particles, trying again..."
       ]
      },
      {
       "output_type": "stream",
       "stream": "stdout",
       "text": [
        "\n",
        "shuffle_configuration: rigid body name: ['Rpb4']_rigid_body\n",
        "shuffle_configuration: rigid body placed close to other 962 particles, trying again..."
       ]
      },
      {
       "output_type": "stream",
       "stream": "stdout",
       "text": [
        "\n",
        "shuffle_configuration: rigid body name: ['Rpb5']_rigid_body\n",
        "shuffle_configuration: rigid body placed close to other 212 particles, trying again..."
       ]
      },
      {
       "output_type": "stream",
       "stream": "stdout",
       "text": [
        "\n",
        "shuffle_configuration: rigid body name: ['Rpb9']_rigid_body\n"
       ]
      }
     ],
     "prompt_number": 9
    },
    {
     "cell_type": "code",
     "collapsed": false,
     "input": [
      "ev=stereochemistry.ExcludedVolumeSphere(r,resolution=10)\n",
      "ev.add_to_model()\n",
      "log_objects.append(ev)"
     ],
     "language": "python",
     "metadata": {},
     "outputs": [],
     "prompt_number": 10
    },
    {
     "cell_type": "code",
     "collapsed": false,
     "input": [
      "xl = crosslinking.SigmoidalCrossLinkMS(\n",
      "        r, \n",
      "        crosslink_file,\n",
      "        inflection=30,\n",
      "        slope=2.0,\n",
      "        amplitude=5.0,\n",
      "        linear_slope=0.1,\n",
      "        resolution=1,\n",
      "        columnmapping=columnmap,\n",
      "        csvfile=True)  \n",
      "xl.add_to_model()\n",
      "log_objects.append(xl)"
     ],
     "language": "python",
     "metadata": {},
     "outputs": [
      {
       "output_type": "stream",
       "stream": "stdout",
       "text": [
        "SigmoidalCrossLinkMS> crosslink 171 Rpb5 67 Rpb6 was already found, adding 5 to the amplitude, amplitude is now 10\n",
        "SigmoidalCrossLinkMS> crosslink 70 Rpb6 166 Rpb5 was already found, adding 5 to the amplitude, amplitude is now 10"
       ]
      },
      {
       "output_type": "stream",
       "stream": "stdout",
       "text": [
        "\n",
        "SigmoidalCrossLinkMS: WARNING> residue 212 of chain Rpb4 is not there"
       ]
      },
      {
       "output_type": "stream",
       "stream": "stdout",
       "text": [
        "\n",
        "SigmoidalCrossLinkMS> crosslink 15 Rpb1 70 Rpb6 was already found, adding 5 to the amplitude, amplitude is now 10"
       ]
      },
      {
       "output_type": "stream",
       "stream": "stdout",
       "text": [
        "\n",
        "SigmoidalCrossLinkMS> crosslink 471 Rpb2 423 Rpb2 was already found, adding 5 to the amplitude, amplitude is now 10"
       ]
      },
      {
       "output_type": "stream",
       "stream": "stdout",
       "text": [
        "\n",
        "SigmoidalCrossLinkMS> crosslink 201 Rpb5 941 Rpb1 was already found, adding 5 to the amplitude, amplitude is now 10"
       ]
      },
      {
       "output_type": "stream",
       "stream": "stdout",
       "text": [
        "\n"
       ]
      }
     ],
     "prompt_number": 11
    },
    {
     "cell_type": "code",
     "collapsed": false,
     "input": [
      "#move the movers outside ang get the movers from representation and restraints\n",
      "#helper function to generate samplers samplers.get_movers([r,xl])\n",
      "# something like: mc = samplers.MonteCarlo(m,samplers.get_movers([r,xl]), 1.0)\n",
      "mc = samplers.MonteCarlo(m,[r], 1.0)\n",
      "mc.set_simulated_annealing(min_temp=1.0,\n",
      "                           max_temp=5.0,\n",
      "                           min_temp_time=200,\n",
      "                           max_temp_time=50)\n",
      "log_objects.append(mc)"
     ],
     "language": "python",
     "metadata": {},
     "outputs": [],
     "prompt_number": 12
    },
    {
     "cell_type": "code",
     "collapsed": false,
     "input": [
      "o = output.Output()\n",
      "rmf=o.init_rmf(\"conformations.rmf3\",[r.prot])\n",
      "#there is a function in IMP: redundant!\n",
      "#for the pdb use write_pdb_of_c_alphas\n",
      "#write_pdb_of_c_alphas(IMP.pmi.tools.select(r,resolution=1))\n",
      "o.add_restraints_to_rmf(\"conformations.rmf3\",[xl])\n",
      "o.init_stat2(\"modeling.stat\",log_objects)\n",
      "#remove the frame index\n",
      "o.write_rmf(\"conformations.rmf3\")\n",
      "\n",
      "o.write_rmf(\"conformations.rmf3\")"
     ],
     "language": "python",
     "metadata": {},
     "outputs": [],
     "prompt_number": 13
    },
    {
     "cell_type": "code",
     "collapsed": false,
     "input": [
      "for i in range(0,1000):\n",
      "   print i\n",
      "   mc.optimize(10)\n",
      "   o.write_rmf(\"conformations.rmf3\")\n",
      "   o.write_stats2()\n",
      "   print [(k,r.get_output()[k]) for k in  r.get_output() if \"DRMS\" in k]\n",
      "o.close_rmf(\"conformations.rmf3\")"
     ],
     "language": "python",
     "metadata": {},
     "outputs": [
      {
       "output_type": "stream",
       "stream": "stdout",
       "text": [
        "0\n",
        "[('SimplifiedModel_Reference_RelativeDRMS_None', 314.1222762612189)]"
       ]
      },
      {
       "output_type": "stream",
       "stream": "stdout",
       "text": [
        "\n",
        "1\n",
        "[('SimplifiedModel_Reference_RelativeDRMS_None', 305.2306382186934)]"
       ]
      },
      {
       "output_type": "stream",
       "stream": "stdout",
       "text": [
        "\n",
        "2\n",
        "[('SimplifiedModel_Reference_RelativeDRMS_None', 289.9350479967168)]"
       ]
      },
      {
       "output_type": "stream",
       "stream": "stdout",
       "text": [
        "\n",
        "3\n",
        "[('SimplifiedModel_Reference_RelativeDRMS_None', 284.8568464418865)]"
       ]
      },
      {
       "output_type": "stream",
       "stream": "stdout",
       "text": [
        "\n",
        "4\n",
        "[('SimplifiedModel_Reference_RelativeDRMS_None', 272.84856172817325)]"
       ]
      },
      {
       "output_type": "stream",
       "stream": "stdout",
       "text": [
        "\n",
        "5\n",
        "[('SimplifiedModel_Reference_RelativeDRMS_None', 262.6976035682827)]"
       ]
      },
      {
       "output_type": "stream",
       "stream": "stdout",
       "text": [
        "\n",
        "6\n",
        "[('SimplifiedModel_Reference_RelativeDRMS_None', 255.19599321355824)]"
       ]
      },
      {
       "output_type": "stream",
       "stream": "stdout",
       "text": [
        "\n",
        "7\n",
        "[('SimplifiedModel_Reference_RelativeDRMS_None', 246.97890803328812)]"
       ]
      },
      {
       "output_type": "stream",
       "stream": "stdout",
       "text": [
        "\n",
        "8\n",
        "[('SimplifiedModel_Reference_RelativeDRMS_None', 233.24944834510683)]"
       ]
      },
      {
       "output_type": "stream",
       "stream": "stdout",
       "text": [
        "\n",
        "9\n",
        "[('SimplifiedModel_Reference_RelativeDRMS_None', 224.71802048393934)]"
       ]
      },
      {
       "output_type": "stream",
       "stream": "stdout",
       "text": [
        "\n",
        "10\n",
        "[('SimplifiedModel_Reference_RelativeDRMS_None', 212.94285897135956)]"
       ]
      },
      {
       "output_type": "stream",
       "stream": "stdout",
       "text": [
        "\n",
        "11\n",
        "[('SimplifiedModel_Reference_RelativeDRMS_None', 204.44021150032182)]"
       ]
      },
      {
       "output_type": "stream",
       "stream": "stdout",
       "text": [
        "\n",
        "12\n",
        "[('SimplifiedModel_Reference_RelativeDRMS_None', 195.35550615750955)]"
       ]
      },
      {
       "output_type": "stream",
       "stream": "stdout",
       "text": [
        "\n",
        "13\n",
        "[('SimplifiedModel_Reference_RelativeDRMS_None', 185.85018585342155)]"
       ]
      },
      {
       "output_type": "stream",
       "stream": "stdout",
       "text": [
        "\n",
        "14\n",
        "[('SimplifiedModel_Reference_RelativeDRMS_None', 181.21476467092464)]"
       ]
      },
      {
       "output_type": "stream",
       "stream": "stdout",
       "text": [
        "\n",
        "15\n",
        "[('SimplifiedModel_Reference_RelativeDRMS_None', 169.8088844494843)]"
       ]
      },
      {
       "output_type": "stream",
       "stream": "stdout",
       "text": [
        "\n",
        "16\n",
        "[('SimplifiedModel_Reference_RelativeDRMS_None', 166.66631072487598)]"
       ]
      },
      {
       "output_type": "stream",
       "stream": "stdout",
       "text": [
        "\n",
        "17\n",
        "[('SimplifiedModel_Reference_RelativeDRMS_None', 158.15262188475958)]"
       ]
      },
      {
       "output_type": "stream",
       "stream": "stdout",
       "text": [
        "\n",
        "18\n",
        "[('SimplifiedModel_Reference_RelativeDRMS_None', 153.80534894975668)]"
       ]
      },
      {
       "output_type": "stream",
       "stream": "stdout",
       "text": [
        "\n",
        "19\n",
        "[('SimplifiedModel_Reference_RelativeDRMS_None', 147.00639094570684)]"
       ]
      },
      {
       "output_type": "stream",
       "stream": "stdout",
       "text": [
        "\n",
        "20\n",
        "[('SimplifiedModel_Reference_RelativeDRMS_None', 144.1499477030767)]"
       ]
      },
      {
       "output_type": "stream",
       "stream": "stdout",
       "text": [
        "\n",
        "21\n",
        "[('SimplifiedModel_Reference_RelativeDRMS_None', 138.79485078840517)]"
       ]
      },
      {
       "output_type": "stream",
       "stream": "stdout",
       "text": [
        "\n",
        "22\n",
        "[('SimplifiedModel_Reference_RelativeDRMS_None', 133.18208812129973)]"
       ]
      },
      {
       "output_type": "stream",
       "stream": "stdout",
       "text": [
        "\n",
        "23\n",
        "[('SimplifiedModel_Reference_RelativeDRMS_None', 124.58774674457337)]"
       ]
      },
      {
       "output_type": "stream",
       "stream": "stdout",
       "text": [
        "\n",
        "24\n",
        "[('SimplifiedModel_Reference_RelativeDRMS_None', 119.11475743508096)]"
       ]
      },
      {
       "output_type": "stream",
       "stream": "stdout",
       "text": [
        "\n",
        "25\n",
        "[('SimplifiedModel_Reference_RelativeDRMS_None', 115.06563388458359)]"
       ]
      },
      {
       "output_type": "stream",
       "stream": "stdout",
       "text": [
        "\n",
        "26\n",
        "[('SimplifiedModel_Reference_RelativeDRMS_None', 115.64368646631593)]"
       ]
      },
      {
       "output_type": "stream",
       "stream": "stdout",
       "text": [
        "\n",
        "27\n",
        "[('SimplifiedModel_Reference_RelativeDRMS_None', 112.63519262295554)]"
       ]
      },
      {
       "output_type": "stream",
       "stream": "stdout",
       "text": [
        "\n",
        "28\n",
        "[('SimplifiedModel_Reference_RelativeDRMS_None', 110.86162257901348)]"
       ]
      },
      {
       "output_type": "stream",
       "stream": "stdout",
       "text": [
        "\n",
        "29\n",
        "[('SimplifiedModel_Reference_RelativeDRMS_None', 109.14799337961578)]"
       ]
      },
      {
       "output_type": "stream",
       "stream": "stdout",
       "text": [
        "\n",
        "30\n",
        "[('SimplifiedModel_Reference_RelativeDRMS_None', 107.30758627472123)]"
       ]
      },
      {
       "output_type": "stream",
       "stream": "stdout",
       "text": [
        "\n",
        "31\n",
        "[('SimplifiedModel_Reference_RelativeDRMS_None', 102.16754755418464)]"
       ]
      },
      {
       "output_type": "stream",
       "stream": "stdout",
       "text": [
        "\n",
        "32\n",
        "[('SimplifiedModel_Reference_RelativeDRMS_None', 98.44973575763274)]"
       ]
      },
      {
       "output_type": "stream",
       "stream": "stdout",
       "text": [
        "\n",
        "33\n",
        "[('SimplifiedModel_Reference_RelativeDRMS_None', 94.5174255810753)]"
       ]
      },
      {
       "output_type": "stream",
       "stream": "stdout",
       "text": [
        "\n",
        "34\n",
        "[('SimplifiedModel_Reference_RelativeDRMS_None', 92.53884933334852)]"
       ]
      },
      {
       "output_type": "stream",
       "stream": "stdout",
       "text": [
        "\n",
        "35\n",
        "[('SimplifiedModel_Reference_RelativeDRMS_None', 91.59910601243945)]"
       ]
      },
      {
       "output_type": "stream",
       "stream": "stdout",
       "text": [
        "\n",
        "36\n",
        "[('SimplifiedModel_Reference_RelativeDRMS_None', 93.40190342362759)]"
       ]
      },
      {
       "output_type": "stream",
       "stream": "stdout",
       "text": [
        "\n",
        "37\n",
        "[('SimplifiedModel_Reference_RelativeDRMS_None', 90.07113942298895)]"
       ]
      },
      {
       "output_type": "stream",
       "stream": "stdout",
       "text": [
        "\n",
        "38\n",
        "[('SimplifiedModel_Reference_RelativeDRMS_None', 88.79591523155563)]"
       ]
      },
      {
       "output_type": "stream",
       "stream": "stdout",
       "text": [
        "\n",
        "39\n",
        "[('SimplifiedModel_Reference_RelativeDRMS_None', 88.83202682979112)]"
       ]
      },
      {
       "output_type": "stream",
       "stream": "stdout",
       "text": [
        "\n",
        "40\n",
        "[('SimplifiedModel_Reference_RelativeDRMS_None', 87.96621966963815)]"
       ]
      },
      {
       "output_type": "stream",
       "stream": "stdout",
       "text": [
        "\n",
        "41\n",
        "[('SimplifiedModel_Reference_RelativeDRMS_None', 89.29392117229445)]"
       ]
      },
      {
       "output_type": "stream",
       "stream": "stdout",
       "text": [
        "\n",
        "42\n",
        "[('SimplifiedModel_Reference_RelativeDRMS_None', 87.8726695775464)]"
       ]
      },
      {
       "output_type": "stream",
       "stream": "stdout",
       "text": [
        "\n",
        "43\n",
        "[('SimplifiedModel_Reference_RelativeDRMS_None', 89.20897177121168)]"
       ]
      },
      {
       "output_type": "stream",
       "stream": "stdout",
       "text": [
        "\n",
        "44\n",
        "[('SimplifiedModel_Reference_RelativeDRMS_None', 90.65870461765343)]"
       ]
      },
      {
       "output_type": "stream",
       "stream": "stdout",
       "text": [
        "\n",
        "45\n",
        "[('SimplifiedModel_Reference_RelativeDRMS_None', 89.32672897684279)]"
       ]
      },
      {
       "output_type": "stream",
       "stream": "stdout",
       "text": [
        "\n",
        "46\n",
        "[('SimplifiedModel_Reference_RelativeDRMS_None', 87.55929925738502)]"
       ]
      },
      {
       "output_type": "stream",
       "stream": "stdout",
       "text": [
        "\n",
        "47\n",
        "[('SimplifiedModel_Reference_RelativeDRMS_None', 88.61300167224438)]"
       ]
      },
      {
       "output_type": "stream",
       "stream": "stdout",
       "text": [
        "\n",
        "48\n",
        "[('SimplifiedModel_Reference_RelativeDRMS_None', 89.08291453691405)]"
       ]
      },
      {
       "output_type": "stream",
       "stream": "stdout",
       "text": [
        "\n",
        "49\n",
        "[('SimplifiedModel_Reference_RelativeDRMS_None', 88.80254926750062)]"
       ]
      },
      {
       "output_type": "stream",
       "stream": "stdout",
       "text": [
        "\n",
        "50\n",
        "[('SimplifiedModel_Reference_RelativeDRMS_None', 90.76732942164035)]"
       ]
      },
      {
       "output_type": "stream",
       "stream": "stdout",
       "text": [
        "\n",
        "51\n",
        "[('SimplifiedModel_Reference_RelativeDRMS_None', 86.63054541800189)]"
       ]
      },
      {
       "output_type": "stream",
       "stream": "stdout",
       "text": [
        "\n",
        "52\n",
        "[('SimplifiedModel_Reference_RelativeDRMS_None', 88.76238194313359)]"
       ]
      },
      {
       "output_type": "stream",
       "stream": "stdout",
       "text": [
        "\n",
        "53\n",
        "[('SimplifiedModel_Reference_RelativeDRMS_None', 88.55463645971987)]"
       ]
      },
      {
       "output_type": "stream",
       "stream": "stdout",
       "text": [
        "\n",
        "54\n",
        "[('SimplifiedModel_Reference_RelativeDRMS_None', 88.61606368095022)]"
       ]
      },
      {
       "output_type": "stream",
       "stream": "stdout",
       "text": [
        "\n",
        "55\n",
        "[('SimplifiedModel_Reference_RelativeDRMS_None', 88.29425062202284)]"
       ]
      },
      {
       "output_type": "stream",
       "stream": "stdout",
       "text": [
        "\n",
        "56\n",
        "[('SimplifiedModel_Reference_RelativeDRMS_None', 85.63438514190314)]"
       ]
      },
      {
       "output_type": "stream",
       "stream": "stdout",
       "text": [
        "\n",
        "57\n",
        "[('SimplifiedModel_Reference_RelativeDRMS_None', 86.28998394245883)]"
       ]
      },
      {
       "output_type": "stream",
       "stream": "stdout",
       "text": [
        "\n",
        "58\n",
        "[('SimplifiedModel_Reference_RelativeDRMS_None', 86.58365376589725)]"
       ]
      },
      {
       "output_type": "stream",
       "stream": "stdout",
       "text": [
        "\n",
        "59\n",
        "[('SimplifiedModel_Reference_RelativeDRMS_None', 88.99725444228751)]"
       ]
      },
      {
       "output_type": "stream",
       "stream": "stdout",
       "text": [
        "\n",
        "60\n",
        "[('SimplifiedModel_Reference_RelativeDRMS_None', 87.74823583008245)]"
       ]
      },
      {
       "output_type": "stream",
       "stream": "stdout",
       "text": [
        "\n",
        "61\n",
        "[('SimplifiedModel_Reference_RelativeDRMS_None', 86.34796364544938)]"
       ]
      },
      {
       "output_type": "stream",
       "stream": "stdout",
       "text": [
        "\n",
        "62\n",
        "[('SimplifiedModel_Reference_RelativeDRMS_None', 84.64048802313553)]"
       ]
      },
      {
       "output_type": "stream",
       "stream": "stdout",
       "text": [
        "\n",
        "63\n",
        "[('SimplifiedModel_Reference_RelativeDRMS_None', 84.75194641957223)]"
       ]
      },
      {
       "output_type": "stream",
       "stream": "stdout",
       "text": [
        "\n",
        "64\n",
        "[('SimplifiedModel_Reference_RelativeDRMS_None', 84.51140826665436)]"
       ]
      },
      {
       "output_type": "stream",
       "stream": "stdout",
       "text": [
        "\n",
        "65\n",
        "[('SimplifiedModel_Reference_RelativeDRMS_None', 84.00864175616671)]"
       ]
      },
      {
       "output_type": "stream",
       "stream": "stdout",
       "text": [
        "\n",
        "66\n",
        "[('SimplifiedModel_Reference_RelativeDRMS_None', 82.760075339592)]"
       ]
      },
      {
       "output_type": "stream",
       "stream": "stdout",
       "text": [
        "\n",
        "67\n",
        "[('SimplifiedModel_Reference_RelativeDRMS_None', 81.8828289329644)]"
       ]
      },
      {
       "output_type": "stream",
       "stream": "stdout",
       "text": [
        "\n",
        "68\n",
        "[('SimplifiedModel_Reference_RelativeDRMS_None', 80.63153546623325)]"
       ]
      },
      {
       "output_type": "stream",
       "stream": "stdout",
       "text": [
        "\n",
        "69\n",
        "[('SimplifiedModel_Reference_RelativeDRMS_None', 79.71183991129189)]"
       ]
      },
      {
       "output_type": "stream",
       "stream": "stdout",
       "text": [
        "\n",
        "70\n",
        "[('SimplifiedModel_Reference_RelativeDRMS_None', 79.96558256395568)]"
       ]
      },
      {
       "output_type": "stream",
       "stream": "stdout",
       "text": [
        "\n",
        "71\n",
        "[('SimplifiedModel_Reference_RelativeDRMS_None', 79.58092572489994)]"
       ]
      },
      {
       "output_type": "stream",
       "stream": "stdout",
       "text": [
        "\n",
        "72\n",
        "[('SimplifiedModel_Reference_RelativeDRMS_None', 80.59925498160126)]"
       ]
      },
      {
       "output_type": "stream",
       "stream": "stdout",
       "text": [
        "\n",
        "73\n",
        "[('SimplifiedModel_Reference_RelativeDRMS_None', 81.91327924534734)]"
       ]
      },
      {
       "output_type": "stream",
       "stream": "stdout",
       "text": [
        "\n",
        "74\n",
        "[('SimplifiedModel_Reference_RelativeDRMS_None', 82.28670921470601)]"
       ]
      },
      {
       "output_type": "stream",
       "stream": "stdout",
       "text": [
        "\n",
        "75\n",
        "[('SimplifiedModel_Reference_RelativeDRMS_None', 84.99361856344385)]"
       ]
      },
      {
       "output_type": "stream",
       "stream": "stdout",
       "text": [
        "\n",
        "76\n",
        "[('SimplifiedModel_Reference_RelativeDRMS_None', 84.02549215223263)]"
       ]
      },
      {
       "output_type": "stream",
       "stream": "stdout",
       "text": [
        "\n",
        "77\n",
        "[('SimplifiedModel_Reference_RelativeDRMS_None', 82.4963883166733)]"
       ]
      },
      {
       "output_type": "stream",
       "stream": "stdout",
       "text": [
        "\n",
        "78\n",
        "[('SimplifiedModel_Reference_RelativeDRMS_None', 81.76426561123542)]"
       ]
      },
      {
       "output_type": "stream",
       "stream": "stdout",
       "text": [
        "\n",
        "79\n",
        "[('SimplifiedModel_Reference_RelativeDRMS_None', 82.72005610008169)]"
       ]
      },
      {
       "output_type": "stream",
       "stream": "stdout",
       "text": [
        "\n",
        "80\n",
        "[('SimplifiedModel_Reference_RelativeDRMS_None', 82.07998455629165)]"
       ]
      },
      {
       "output_type": "stream",
       "stream": "stdout",
       "text": [
        "\n",
        "81\n",
        "[('SimplifiedModel_Reference_RelativeDRMS_None', 82.30791512798942)]"
       ]
      },
      {
       "output_type": "stream",
       "stream": "stdout",
       "text": [
        "\n",
        "82\n",
        "[('SimplifiedModel_Reference_RelativeDRMS_None', 82.4408637949257)]"
       ]
      },
      {
       "output_type": "stream",
       "stream": "stdout",
       "text": [
        "\n",
        "83\n",
        "[('SimplifiedModel_Reference_RelativeDRMS_None', 82.75793333632083)]"
       ]
      },
      {
       "output_type": "stream",
       "stream": "stdout",
       "text": [
        "\n",
        "84\n",
        "[('SimplifiedModel_Reference_RelativeDRMS_None', 81.8962052639168)]"
       ]
      },
      {
       "output_type": "stream",
       "stream": "stdout",
       "text": [
        "\n",
        "85\n",
        "[('SimplifiedModel_Reference_RelativeDRMS_None', 80.81469900331282)]"
       ]
      },
      {
       "output_type": "stream",
       "stream": "stdout",
       "text": [
        "\n",
        "86\n",
        "[('SimplifiedModel_Reference_RelativeDRMS_None', 83.32180576214168)]"
       ]
      },
      {
       "output_type": "stream",
       "stream": "stdout",
       "text": [
        "\n",
        "87\n",
        "[('SimplifiedModel_Reference_RelativeDRMS_None', 84.22297210409721)]"
       ]
      },
      {
       "output_type": "stream",
       "stream": "stdout",
       "text": [
        "\n",
        "88\n",
        "[('SimplifiedModel_Reference_RelativeDRMS_None', 82.75256578098343)]"
       ]
      },
      {
       "output_type": "stream",
       "stream": "stdout",
       "text": [
        "\n",
        "89\n",
        "[('SimplifiedModel_Reference_RelativeDRMS_None', 82.25150776190333)]"
       ]
      },
      {
       "output_type": "stream",
       "stream": "stdout",
       "text": [
        "\n",
        "90\n",
        "[('SimplifiedModel_Reference_RelativeDRMS_None', 83.06456548556801)]"
       ]
      },
      {
       "output_type": "stream",
       "stream": "stdout",
       "text": [
        "\n",
        "91\n",
        "[('SimplifiedModel_Reference_RelativeDRMS_None', 83.33031149969405)]"
       ]
      },
      {
       "output_type": "stream",
       "stream": "stdout",
       "text": [
        "\n",
        "92\n",
        "[('SimplifiedModel_Reference_RelativeDRMS_None', 83.0565105950749)]"
       ]
      },
      {
       "output_type": "stream",
       "stream": "stdout",
       "text": [
        "\n",
        "93\n",
        "[('SimplifiedModel_Reference_RelativeDRMS_None', 83.77416779394063)]"
       ]
      },
      {
       "output_type": "stream",
       "stream": "stdout",
       "text": [
        "\n",
        "94\n",
        "[('SimplifiedModel_Reference_RelativeDRMS_None', 86.93737782633508)]"
       ]
      },
      {
       "output_type": "stream",
       "stream": "stdout",
       "text": [
        "\n",
        "95\n",
        "[('SimplifiedModel_Reference_RelativeDRMS_None', 87.01723184955284)]"
       ]
      },
      {
       "output_type": "stream",
       "stream": "stdout",
       "text": [
        "\n",
        "96\n",
        "[('SimplifiedModel_Reference_RelativeDRMS_None', 84.77149479712895)]"
       ]
      },
      {
       "output_type": "stream",
       "stream": "stdout",
       "text": [
        "\n",
        "97\n",
        "[('SimplifiedModel_Reference_RelativeDRMS_None', 86.52042125845482)]"
       ]
      },
      {
       "output_type": "stream",
       "stream": "stdout",
       "text": [
        "\n",
        "98\n",
        "[('SimplifiedModel_Reference_RelativeDRMS_None', 87.59346096978852)]"
       ]
      },
      {
       "output_type": "stream",
       "stream": "stdout",
       "text": [
        "\n",
        "99\n",
        "[('SimplifiedModel_Reference_RelativeDRMS_None', 84.26971921557846)]"
       ]
      },
      {
       "output_type": "stream",
       "stream": "stdout",
       "text": [
        "\n",
        "100\n",
        "[('SimplifiedModel_Reference_RelativeDRMS_None', 82.50152958886417)]"
       ]
      },
      {
       "output_type": "stream",
       "stream": "stdout",
       "text": [
        "\n",
        "101\n",
        "[('SimplifiedModel_Reference_RelativeDRMS_None', 82.70259389692428)]"
       ]
      },
      {
       "output_type": "stream",
       "stream": "stdout",
       "text": [
        "\n",
        "102\n",
        "[('SimplifiedModel_Reference_RelativeDRMS_None', 84.3932540902045)]"
       ]
      },
      {
       "output_type": "stream",
       "stream": "stdout",
       "text": [
        "\n",
        "103\n",
        "[('SimplifiedModel_Reference_RelativeDRMS_None', 83.83911697549989)]"
       ]
      },
      {
       "output_type": "stream",
       "stream": "stdout",
       "text": [
        "\n",
        "104\n",
        "[('SimplifiedModel_Reference_RelativeDRMS_None', 85.79478753686386)]"
       ]
      },
      {
       "output_type": "stream",
       "stream": "stdout",
       "text": [
        "\n",
        "105\n",
        "[('SimplifiedModel_Reference_RelativeDRMS_None', 84.73214832793312)]"
       ]
      },
      {
       "output_type": "stream",
       "stream": "stdout",
       "text": [
        "\n",
        "106\n",
        "[('SimplifiedModel_Reference_RelativeDRMS_None', 85.91269301993424)]"
       ]
      },
      {
       "output_type": "stream",
       "stream": "stdout",
       "text": [
        "\n",
        "107\n",
        "[('SimplifiedModel_Reference_RelativeDRMS_None', 87.02485486143934)]"
       ]
      },
      {
       "output_type": "stream",
       "stream": "stdout",
       "text": [
        "\n",
        "108\n",
        "[('SimplifiedModel_Reference_RelativeDRMS_None', 88.03024784495342)]"
       ]
      },
      {
       "output_type": "stream",
       "stream": "stdout",
       "text": [
        "\n",
        "109\n",
        "[('SimplifiedModel_Reference_RelativeDRMS_None', 85.73039824884975)]"
       ]
      },
      {
       "output_type": "stream",
       "stream": "stdout",
       "text": [
        "\n",
        "110\n",
        "[('SimplifiedModel_Reference_RelativeDRMS_None', 86.81248199176294)]"
       ]
      },
      {
       "output_type": "stream",
       "stream": "stdout",
       "text": [
        "\n",
        "111\n",
        "[('SimplifiedModel_Reference_RelativeDRMS_None', 89.70202872371105)]"
       ]
      },
      {
       "output_type": "stream",
       "stream": "stdout",
       "text": [
        "\n",
        "112\n",
        "[('SimplifiedModel_Reference_RelativeDRMS_None', 90.13741934491328)]"
       ]
      },
      {
       "output_type": "stream",
       "stream": "stdout",
       "text": [
        "\n",
        "113\n",
        "[('SimplifiedModel_Reference_RelativeDRMS_None', 87.45992755394131)]"
       ]
      },
      {
       "output_type": "stream",
       "stream": "stdout",
       "text": [
        "\n",
        "114\n",
        "[('SimplifiedModel_Reference_RelativeDRMS_None', 86.11287100785111)]"
       ]
      },
      {
       "output_type": "stream",
       "stream": "stdout",
       "text": [
        "\n",
        "115\n",
        "[('SimplifiedModel_Reference_RelativeDRMS_None', 87.44525666073194)]"
       ]
      },
      {
       "output_type": "stream",
       "stream": "stdout",
       "text": [
        "\n",
        "116\n",
        "[('SimplifiedModel_Reference_RelativeDRMS_None', 88.23927597178263)]"
       ]
      },
      {
       "output_type": "stream",
       "stream": "stdout",
       "text": [
        "\n",
        "117\n",
        "[('SimplifiedModel_Reference_RelativeDRMS_None', 89.50656332512054)]"
       ]
      },
      {
       "output_type": "stream",
       "stream": "stdout",
       "text": [
        "\n",
        "118\n",
        "[('SimplifiedModel_Reference_RelativeDRMS_None', 89.29650569326178)]"
       ]
      },
      {
       "output_type": "stream",
       "stream": "stdout",
       "text": [
        "\n",
        "119\n",
        "[('SimplifiedModel_Reference_RelativeDRMS_None', 93.27238580945523)]"
       ]
      },
      {
       "output_type": "stream",
       "stream": "stdout",
       "text": [
        "\n",
        "120\n",
        "[('SimplifiedModel_Reference_RelativeDRMS_None', 93.33799943453839)]"
       ]
      },
      {
       "output_type": "stream",
       "stream": "stdout",
       "text": [
        "\n",
        "121\n",
        "[('SimplifiedModel_Reference_RelativeDRMS_None', 93.08010384863326)]"
       ]
      },
      {
       "output_type": "stream",
       "stream": "stdout",
       "text": [
        "\n",
        "122\n",
        "[('SimplifiedModel_Reference_RelativeDRMS_None', 92.268854393977)]"
       ]
      },
      {
       "output_type": "stream",
       "stream": "stdout",
       "text": [
        "\n",
        "123\n",
        "[('SimplifiedModel_Reference_RelativeDRMS_None', 93.56162660652981)]"
       ]
      },
      {
       "output_type": "stream",
       "stream": "stdout",
       "text": [
        "\n",
        "124\n",
        "[('SimplifiedModel_Reference_RelativeDRMS_None', 96.548057713264)]"
       ]
      },
      {
       "output_type": "stream",
       "stream": "stdout",
       "text": [
        "\n",
        "125\n",
        "[('SimplifiedModel_Reference_RelativeDRMS_None', 95.2831542344159)]"
       ]
      },
      {
       "output_type": "stream",
       "stream": "stdout",
       "text": [
        "\n",
        "126\n",
        "[('SimplifiedModel_Reference_RelativeDRMS_None', 95.40539090601553)]"
       ]
      },
      {
       "output_type": "stream",
       "stream": "stdout",
       "text": [
        "\n",
        "127\n",
        "[('SimplifiedModel_Reference_RelativeDRMS_None', 97.73092305649803)]"
       ]
      },
      {
       "output_type": "stream",
       "stream": "stdout",
       "text": [
        "\n",
        "128\n",
        "[('SimplifiedModel_Reference_RelativeDRMS_None', 94.78660979229849)]"
       ]
      },
      {
       "output_type": "stream",
       "stream": "stdout",
       "text": [
        "\n",
        "129\n",
        "[('SimplifiedModel_Reference_RelativeDRMS_None', 99.25605048411111)]"
       ]
      },
      {
       "output_type": "stream",
       "stream": "stdout",
       "text": [
        "\n",
        "130\n",
        "[('SimplifiedModel_Reference_RelativeDRMS_None', 101.97503537525064)]"
       ]
      },
      {
       "output_type": "stream",
       "stream": "stdout",
       "text": [
        "\n",
        "131\n",
        "[('SimplifiedModel_Reference_RelativeDRMS_None', 104.13519269321141)]"
       ]
      },
      {
       "output_type": "stream",
       "stream": "stdout",
       "text": [
        "\n",
        "132\n",
        "[('SimplifiedModel_Reference_RelativeDRMS_None', 103.03288395352625)]"
       ]
      },
      {
       "output_type": "stream",
       "stream": "stdout",
       "text": [
        "\n",
        "133\n",
        "[('SimplifiedModel_Reference_RelativeDRMS_None', 103.0121654697517)]"
       ]
      },
      {
       "output_type": "stream",
       "stream": "stdout",
       "text": [
        "\n",
        "134\n",
        "[('SimplifiedModel_Reference_RelativeDRMS_None', 105.30641833197885)]"
       ]
      },
      {
       "output_type": "stream",
       "stream": "stdout",
       "text": [
        "\n",
        "135\n",
        "[('SimplifiedModel_Reference_RelativeDRMS_None', 104.87543513224534)]"
       ]
      },
      {
       "output_type": "stream",
       "stream": "stdout",
       "text": [
        "\n",
        "136\n",
        "[('SimplifiedModel_Reference_RelativeDRMS_None', 106.09843671511007)]"
       ]
      },
      {
       "output_type": "stream",
       "stream": "stdout",
       "text": [
        "\n",
        "137\n",
        "[('SimplifiedModel_Reference_RelativeDRMS_None', 109.18480403148592)]"
       ]
      },
      {
       "output_type": "stream",
       "stream": "stdout",
       "text": [
        "\n",
        "138\n",
        "[('SimplifiedModel_Reference_RelativeDRMS_None', 109.64154115005859)]"
       ]
      },
      {
       "output_type": "stream",
       "stream": "stdout",
       "text": [
        "\n",
        "139\n",
        "[('SimplifiedModel_Reference_RelativeDRMS_None', 108.65112848049694)]"
       ]
      },
      {
       "output_type": "stream",
       "stream": "stdout",
       "text": [
        "\n",
        "140\n",
        "[('SimplifiedModel_Reference_RelativeDRMS_None', 108.2509422344814)]"
       ]
      },
      {
       "output_type": "stream",
       "stream": "stdout",
       "text": [
        "\n",
        "141\n",
        "[('SimplifiedModel_Reference_RelativeDRMS_None', 107.25255685459169)]"
       ]
      },
      {
       "output_type": "stream",
       "stream": "stdout",
       "text": [
        "\n",
        "142\n",
        "[('SimplifiedModel_Reference_RelativeDRMS_None', 106.95530268026629)]"
       ]
      },
      {
       "output_type": "stream",
       "stream": "stdout",
       "text": [
        "\n",
        "143\n",
        "[('SimplifiedModel_Reference_RelativeDRMS_None', 106.34405733440916)]"
       ]
      },
      {
       "output_type": "stream",
       "stream": "stdout",
       "text": [
        "\n",
        "144\n",
        "[('SimplifiedModel_Reference_RelativeDRMS_None', 106.24883822304442)]"
       ]
      },
      {
       "output_type": "stream",
       "stream": "stdout",
       "text": [
        "\n",
        "145\n",
        "[('SimplifiedModel_Reference_RelativeDRMS_None', 105.08917537467241)]"
       ]
      },
      {
       "output_type": "stream",
       "stream": "stdout",
       "text": [
        "\n",
        "146\n",
        "[('SimplifiedModel_Reference_RelativeDRMS_None', 107.42060875956048)]"
       ]
      },
      {
       "output_type": "stream",
       "stream": "stdout",
       "text": [
        "\n",
        "147\n",
        "[('SimplifiedModel_Reference_RelativeDRMS_None', 108.9999654403757)]"
       ]
      },
      {
       "output_type": "stream",
       "stream": "stdout",
       "text": [
        "\n",
        "148\n",
        "[('SimplifiedModel_Reference_RelativeDRMS_None', 111.62540574760841)]"
       ]
      },
      {
       "output_type": "stream",
       "stream": "stdout",
       "text": [
        "\n",
        "149\n",
        "[('SimplifiedModel_Reference_RelativeDRMS_None', 112.02586064327926)]"
       ]
      },
      {
       "output_type": "stream",
       "stream": "stdout",
       "text": [
        "\n",
        "150\n",
        "[('SimplifiedModel_Reference_RelativeDRMS_None', 111.77753436209004)]"
       ]
      },
      {
       "output_type": "stream",
       "stream": "stdout",
       "text": [
        "\n",
        "151\n",
        "[('SimplifiedModel_Reference_RelativeDRMS_None', 109.48730159144381)]"
       ]
      },
      {
       "output_type": "stream",
       "stream": "stdout",
       "text": [
        "\n",
        "152\n",
        "[('SimplifiedModel_Reference_RelativeDRMS_None', 111.89885375850416)]"
       ]
      },
      {
       "output_type": "stream",
       "stream": "stdout",
       "text": [
        "\n",
        "153\n",
        "[('SimplifiedModel_Reference_RelativeDRMS_None', 108.82003279048251)]"
       ]
      },
      {
       "output_type": "stream",
       "stream": "stdout",
       "text": [
        "\n",
        "154\n",
        "[('SimplifiedModel_Reference_RelativeDRMS_None', 110.0086149876813)]"
       ]
      },
      {
       "output_type": "stream",
       "stream": "stdout",
       "text": [
        "\n",
        "155\n",
        "[('SimplifiedModel_Reference_RelativeDRMS_None', 110.99550983301219)]"
       ]
      },
      {
       "output_type": "stream",
       "stream": "stdout",
       "text": [
        "\n",
        "156\n",
        "[('SimplifiedModel_Reference_RelativeDRMS_None', 113.15147506217266)]"
       ]
      },
      {
       "output_type": "stream",
       "stream": "stdout",
       "text": [
        "\n",
        "157\n",
        "[('SimplifiedModel_Reference_RelativeDRMS_None', 113.30411482822677)]"
       ]
      },
      {
       "output_type": "stream",
       "stream": "stdout",
       "text": [
        "\n",
        "158\n",
        "[('SimplifiedModel_Reference_RelativeDRMS_None', 110.71946251392772)]"
       ]
      },
      {
       "output_type": "stream",
       "stream": "stdout",
       "text": [
        "\n",
        "159\n",
        "[('SimplifiedModel_Reference_RelativeDRMS_None', 111.49900076125577)]"
       ]
      },
      {
       "output_type": "stream",
       "stream": "stdout",
       "text": [
        "\n",
        "160\n",
        "[('SimplifiedModel_Reference_RelativeDRMS_None', 115.34357348469783)]"
       ]
      },
      {
       "output_type": "stream",
       "stream": "stdout",
       "text": [
        "\n",
        "161\n",
        "[('SimplifiedModel_Reference_RelativeDRMS_None', 111.51718982905302)]"
       ]
      },
      {
       "output_type": "stream",
       "stream": "stdout",
       "text": [
        "\n",
        "162\n",
        "[('SimplifiedModel_Reference_RelativeDRMS_None', 112.19231589052136)]"
       ]
      },
      {
       "output_type": "stream",
       "stream": "stdout",
       "text": [
        "\n",
        "163\n",
        "[('SimplifiedModel_Reference_RelativeDRMS_None', 115.23775951963376)]"
       ]
      },
      {
       "output_type": "stream",
       "stream": "stdout",
       "text": [
        "\n",
        "164\n",
        "[('SimplifiedModel_Reference_RelativeDRMS_None', 116.97032754662669)]"
       ]
      },
      {
       "output_type": "stream",
       "stream": "stdout",
       "text": [
        "\n",
        "165\n",
        "[('SimplifiedModel_Reference_RelativeDRMS_None', 116.26645370108008)]"
       ]
      },
      {
       "output_type": "stream",
       "stream": "stdout",
       "text": [
        "\n",
        "166\n",
        "[('SimplifiedModel_Reference_RelativeDRMS_None', 115.72549108538053)]"
       ]
      },
      {
       "output_type": "stream",
       "stream": "stdout",
       "text": [
        "\n",
        "167\n",
        "[('SimplifiedModel_Reference_RelativeDRMS_None', 116.33200087243125)]"
       ]
      },
      {
       "output_type": "stream",
       "stream": "stdout",
       "text": [
        "\n",
        "168\n",
        "[('SimplifiedModel_Reference_RelativeDRMS_None', 117.44158629289853)]"
       ]
      },
      {
       "output_type": "stream",
       "stream": "stdout",
       "text": [
        "\n",
        "169\n",
        "[('SimplifiedModel_Reference_RelativeDRMS_None', 117.88335361652906)]"
       ]
      },
      {
       "output_type": "stream",
       "stream": "stdout",
       "text": [
        "\n",
        "170\n",
        "[('SimplifiedModel_Reference_RelativeDRMS_None', 118.34791912343192)]"
       ]
      },
      {
       "output_type": "stream",
       "stream": "stdout",
       "text": [
        "\n",
        "171\n",
        "[('SimplifiedModel_Reference_RelativeDRMS_None', 120.29021805498223)]"
       ]
      },
      {
       "output_type": "stream",
       "stream": "stdout",
       "text": [
        "\n",
        "172\n",
        "[('SimplifiedModel_Reference_RelativeDRMS_None', 122.86473775389969)]"
       ]
      },
      {
       "output_type": "stream",
       "stream": "stdout",
       "text": [
        "\n",
        "173\n",
        "[('SimplifiedModel_Reference_RelativeDRMS_None', 123.46581508462053)]"
       ]
      },
      {
       "output_type": "stream",
       "stream": "stdout",
       "text": [
        "\n",
        "174\n",
        "[('SimplifiedModel_Reference_RelativeDRMS_None', 125.0444929038927)]"
       ]
      },
      {
       "output_type": "stream",
       "stream": "stdout",
       "text": [
        "\n",
        "175\n",
        "[('SimplifiedModel_Reference_RelativeDRMS_None', 117.9469876149585)]"
       ]
      },
      {
       "output_type": "stream",
       "stream": "stdout",
       "text": [
        "\n",
        "176\n",
        "[('SimplifiedModel_Reference_RelativeDRMS_None', 117.85995085203217)]"
       ]
      },
      {
       "output_type": "stream",
       "stream": "stdout",
       "text": [
        "\n",
        "177\n",
        "[('SimplifiedModel_Reference_RelativeDRMS_None', 117.14235336200623)]"
       ]
      },
      {
       "output_type": "stream",
       "stream": "stdout",
       "text": [
        "\n",
        "178\n",
        "[('SimplifiedModel_Reference_RelativeDRMS_None', 116.79563262262239)]"
       ]
      },
      {
       "output_type": "stream",
       "stream": "stdout",
       "text": [
        "\n",
        "179\n",
        "[('SimplifiedModel_Reference_RelativeDRMS_None', 117.20147266140292)]"
       ]
      },
      {
       "output_type": "stream",
       "stream": "stdout",
       "text": [
        "\n",
        "180\n",
        "[('SimplifiedModel_Reference_RelativeDRMS_None', 114.3922477085306)]"
       ]
      },
      {
       "output_type": "stream",
       "stream": "stdout",
       "text": [
        "\n",
        "181\n",
        "[('SimplifiedModel_Reference_RelativeDRMS_None', 117.23684789040952)]"
       ]
      },
      {
       "output_type": "stream",
       "stream": "stdout",
       "text": [
        "\n",
        "182\n",
        "[('SimplifiedModel_Reference_RelativeDRMS_None', 117.24286551945872)]"
       ]
      },
      {
       "output_type": "stream",
       "stream": "stdout",
       "text": [
        "\n",
        "183\n",
        "[('SimplifiedModel_Reference_RelativeDRMS_None', 121.90854922406614)]"
       ]
      },
      {
       "output_type": "stream",
       "stream": "stdout",
       "text": [
        "\n",
        "184\n",
        "[('SimplifiedModel_Reference_RelativeDRMS_None', 121.67770817372771)]"
       ]
      },
      {
       "output_type": "stream",
       "stream": "stdout",
       "text": [
        "\n",
        "185\n",
        "[('SimplifiedModel_Reference_RelativeDRMS_None', 122.09148991041468)]"
       ]
      },
      {
       "output_type": "stream",
       "stream": "stdout",
       "text": [
        "\n",
        "186\n",
        "[('SimplifiedModel_Reference_RelativeDRMS_None', 121.73318655060288)]"
       ]
      },
      {
       "output_type": "stream",
       "stream": "stdout",
       "text": [
        "\n",
        "187\n",
        "[('SimplifiedModel_Reference_RelativeDRMS_None', 121.83244903528316)]"
       ]
      },
      {
       "output_type": "stream",
       "stream": "stdout",
       "text": [
        "\n",
        "188\n",
        "[('SimplifiedModel_Reference_RelativeDRMS_None', 115.3793887619578)]"
       ]
      },
      {
       "output_type": "stream",
       "stream": "stdout",
       "text": [
        "\n",
        "189\n",
        "[('SimplifiedModel_Reference_RelativeDRMS_None', 116.67409266130997)]"
       ]
      },
      {
       "output_type": "stream",
       "stream": "stdout",
       "text": [
        "\n",
        "190\n",
        "[('SimplifiedModel_Reference_RelativeDRMS_None', 115.15778132214442)]"
       ]
      },
      {
       "output_type": "stream",
       "stream": "stdout",
       "text": [
        "\n",
        "191\n",
        "[('SimplifiedModel_Reference_RelativeDRMS_None', 115.59586850506737)]"
       ]
      },
      {
       "output_type": "stream",
       "stream": "stdout",
       "text": [
        "\n",
        "192\n",
        "[('SimplifiedModel_Reference_RelativeDRMS_None', 116.73412307874133)]"
       ]
      },
      {
       "output_type": "stream",
       "stream": "stdout",
       "text": [
        "\n",
        "193\n",
        "[('SimplifiedModel_Reference_RelativeDRMS_None', 120.63535577657672)]"
       ]
      },
      {
       "output_type": "stream",
       "stream": "stdout",
       "text": [
        "\n",
        "194\n",
        "[('SimplifiedModel_Reference_RelativeDRMS_None', 121.04723902723018)]"
       ]
      },
      {
       "output_type": "stream",
       "stream": "stdout",
       "text": [
        "\n",
        "195\n",
        "[('SimplifiedModel_Reference_RelativeDRMS_None', 120.46737015411757)]"
       ]
      },
      {
       "output_type": "stream",
       "stream": "stdout",
       "text": [
        "\n",
        "196\n",
        "[('SimplifiedModel_Reference_RelativeDRMS_None', 118.71417266385862)]"
       ]
      },
      {
       "output_type": "stream",
       "stream": "stdout",
       "text": [
        "\n",
        "197\n",
        "[('SimplifiedModel_Reference_RelativeDRMS_None', 117.89861638772007)]"
       ]
      },
      {
       "output_type": "stream",
       "stream": "stdout",
       "text": [
        "\n",
        "198\n",
        "[('SimplifiedModel_Reference_RelativeDRMS_None', 118.55113371327501)]"
       ]
      },
      {
       "output_type": "stream",
       "stream": "stdout",
       "text": [
        "\n",
        "199\n",
        "[('SimplifiedModel_Reference_RelativeDRMS_None', 117.10931393390604)]"
       ]
      },
      {
       "output_type": "stream",
       "stream": "stdout",
       "text": [
        "\n",
        "200\n",
        "[('SimplifiedModel_Reference_RelativeDRMS_None', 116.20312776927803)]"
       ]
      },
      {
       "output_type": "stream",
       "stream": "stdout",
       "text": [
        "\n",
        "201\n",
        "[('SimplifiedModel_Reference_RelativeDRMS_None', 112.97762857970602)]"
       ]
      },
      {
       "output_type": "stream",
       "stream": "stdout",
       "text": [
        "\n",
        "202\n",
        "[('SimplifiedModel_Reference_RelativeDRMS_None', 114.38338279467601)]"
       ]
      },
      {
       "output_type": "stream",
       "stream": "stdout",
       "text": [
        "\n",
        "203\n",
        "[('SimplifiedModel_Reference_RelativeDRMS_None', 114.19472984463407)]"
       ]
      },
      {
       "output_type": "stream",
       "stream": "stdout",
       "text": [
        "\n",
        "204\n",
        "[('SimplifiedModel_Reference_RelativeDRMS_None', 115.8771188643228)]"
       ]
      },
      {
       "output_type": "stream",
       "stream": "stdout",
       "text": [
        "\n",
        "205\n",
        "[('SimplifiedModel_Reference_RelativeDRMS_None', 113.41957217636842)]"
       ]
      },
      {
       "output_type": "stream",
       "stream": "stdout",
       "text": [
        "\n",
        "206\n",
        "[('SimplifiedModel_Reference_RelativeDRMS_None', 115.10197890350108)]"
       ]
      },
      {
       "output_type": "stream",
       "stream": "stdout",
       "text": [
        "\n",
        "207\n",
        "[('SimplifiedModel_Reference_RelativeDRMS_None', 114.49466016367889)]"
       ]
      },
      {
       "output_type": "stream",
       "stream": "stdout",
       "text": [
        "\n",
        "208\n",
        "[('SimplifiedModel_Reference_RelativeDRMS_None', 113.74276097788382)]"
       ]
      },
      {
       "output_type": "stream",
       "stream": "stdout",
       "text": [
        "\n",
        "209\n",
        "[('SimplifiedModel_Reference_RelativeDRMS_None', 112.58694010850834)]"
       ]
      },
      {
       "output_type": "stream",
       "stream": "stdout",
       "text": [
        "\n",
        "210\n",
        "[('SimplifiedModel_Reference_RelativeDRMS_None', 110.54178809630986)]"
       ]
      },
      {
       "output_type": "stream",
       "stream": "stdout",
       "text": [
        "\n",
        "211\n",
        "[('SimplifiedModel_Reference_RelativeDRMS_None', 108.69237217727526)]"
       ]
      },
      {
       "output_type": "stream",
       "stream": "stdout",
       "text": [
        "\n",
        "212\n",
        "[('SimplifiedModel_Reference_RelativeDRMS_None', 110.95577196076604)]"
       ]
      },
      {
       "output_type": "stream",
       "stream": "stdout",
       "text": [
        "\n",
        "213\n",
        "[('SimplifiedModel_Reference_RelativeDRMS_None', 115.02549977605884)]"
       ]
      },
      {
       "output_type": "stream",
       "stream": "stdout",
       "text": [
        "\n",
        "214\n",
        "[('SimplifiedModel_Reference_RelativeDRMS_None', 115.17161435100324)]"
       ]
      },
      {
       "output_type": "stream",
       "stream": "stdout",
       "text": [
        "\n",
        "215\n",
        "[('SimplifiedModel_Reference_RelativeDRMS_None', 115.18892619226506)]"
       ]
      },
      {
       "output_type": "stream",
       "stream": "stdout",
       "text": [
        "\n",
        "216\n",
        "[('SimplifiedModel_Reference_RelativeDRMS_None', 115.79147273646574)]"
       ]
      },
      {
       "output_type": "stream",
       "stream": "stdout",
       "text": [
        "\n",
        "217\n",
        "[('SimplifiedModel_Reference_RelativeDRMS_None', 118.00694834291001)]"
       ]
      },
      {
       "output_type": "stream",
       "stream": "stdout",
       "text": [
        "\n",
        "218\n",
        "[('SimplifiedModel_Reference_RelativeDRMS_None', 121.3048427863513)]"
       ]
      },
      {
       "output_type": "stream",
       "stream": "stdout",
       "text": [
        "\n",
        "219\n",
        "[('SimplifiedModel_Reference_RelativeDRMS_None', 122.21702398043126)]"
       ]
      },
      {
       "output_type": "stream",
       "stream": "stdout",
       "text": [
        "\n",
        "220\n",
        "[('SimplifiedModel_Reference_RelativeDRMS_None', 121.05160011586862)]"
       ]
      },
      {
       "output_type": "stream",
       "stream": "stdout",
       "text": [
        "\n",
        "221\n",
        "[('SimplifiedModel_Reference_RelativeDRMS_None', 122.35954810991251)]"
       ]
      },
      {
       "output_type": "stream",
       "stream": "stdout",
       "text": [
        "\n",
        "222\n",
        "[('SimplifiedModel_Reference_RelativeDRMS_None', 120.27534177730327)]"
       ]
      },
      {
       "output_type": "stream",
       "stream": "stdout",
       "text": [
        "\n",
        "223\n",
        "[('SimplifiedModel_Reference_RelativeDRMS_None', 120.20060773965588)]"
       ]
      },
      {
       "output_type": "stream",
       "stream": "stdout",
       "text": [
        "\n",
        "224\n",
        "[('SimplifiedModel_Reference_RelativeDRMS_None', 119.42713174687398)]"
       ]
      },
      {
       "output_type": "stream",
       "stream": "stdout",
       "text": [
        "\n",
        "225\n",
        "[('SimplifiedModel_Reference_RelativeDRMS_None', 120.79384069396437)]"
       ]
      },
      {
       "output_type": "stream",
       "stream": "stdout",
       "text": [
        "\n",
        "226\n",
        "[('SimplifiedModel_Reference_RelativeDRMS_None', 119.63466758749118)]"
       ]
      },
      {
       "output_type": "stream",
       "stream": "stdout",
       "text": [
        "\n",
        "227\n",
        "[('SimplifiedModel_Reference_RelativeDRMS_None', 119.38670645477757)]"
       ]
      },
      {
       "output_type": "stream",
       "stream": "stdout",
       "text": [
        "\n",
        "228\n",
        "[('SimplifiedModel_Reference_RelativeDRMS_None', 116.39790359098726)]"
       ]
      },
      {
       "output_type": "stream",
       "stream": "stdout",
       "text": [
        "\n",
        "229\n",
        "[('SimplifiedModel_Reference_RelativeDRMS_None', 115.24379032789844)]"
       ]
      },
      {
       "output_type": "stream",
       "stream": "stdout",
       "text": [
        "\n",
        "230\n",
        "[('SimplifiedModel_Reference_RelativeDRMS_None', 118.69917592654956)]"
       ]
      },
      {
       "output_type": "stream",
       "stream": "stdout",
       "text": [
        "\n",
        "231\n",
        "[('SimplifiedModel_Reference_RelativeDRMS_None', 117.56103497267763)]"
       ]
      },
      {
       "output_type": "stream",
       "stream": "stdout",
       "text": [
        "\n",
        "232\n",
        "[('SimplifiedModel_Reference_RelativeDRMS_None', 118.14586894908012)]"
       ]
      },
      {
       "output_type": "stream",
       "stream": "stdout",
       "text": [
        "\n",
        "233\n",
        "[('SimplifiedModel_Reference_RelativeDRMS_None', 121.00891143505412)]"
       ]
      },
      {
       "output_type": "stream",
       "stream": "stdout",
       "text": [
        "\n",
        "234\n",
        "[('SimplifiedModel_Reference_RelativeDRMS_None', 123.10445465618105)]"
       ]
      },
      {
       "output_type": "stream",
       "stream": "stdout",
       "text": [
        "\n",
        "235\n",
        "[('SimplifiedModel_Reference_RelativeDRMS_None', 122.36777119046643)]"
       ]
      },
      {
       "output_type": "stream",
       "stream": "stdout",
       "text": [
        "\n",
        "236\n",
        "[('SimplifiedModel_Reference_RelativeDRMS_None', 119.78281073765498)]"
       ]
      },
      {
       "output_type": "stream",
       "stream": "stdout",
       "text": [
        "\n",
        "237\n",
        "[('SimplifiedModel_Reference_RelativeDRMS_None', 119.04529636621632)]"
       ]
      },
      {
       "output_type": "stream",
       "stream": "stdout",
       "text": [
        "\n",
        "238\n",
        "[('SimplifiedModel_Reference_RelativeDRMS_None', 117.54883761937876)]"
       ]
      },
      {
       "output_type": "stream",
       "stream": "stdout",
       "text": [
        "\n",
        "239\n",
        "[('SimplifiedModel_Reference_RelativeDRMS_None', 119.20647441706595)]"
       ]
      },
      {
       "output_type": "stream",
       "stream": "stdout",
       "text": [
        "\n",
        "240\n",
        "[('SimplifiedModel_Reference_RelativeDRMS_None', 117.07875485449856)]"
       ]
      },
      {
       "output_type": "stream",
       "stream": "stdout",
       "text": [
        "\n",
        "241\n",
        "[('SimplifiedModel_Reference_RelativeDRMS_None', 119.31774743567004)]"
       ]
      },
      {
       "output_type": "stream",
       "stream": "stdout",
       "text": [
        "\n",
        "242\n",
        "[('SimplifiedModel_Reference_RelativeDRMS_None', 121.13275278594435)]"
       ]
      },
      {
       "output_type": "stream",
       "stream": "stdout",
       "text": [
        "\n",
        "243\n",
        "[('SimplifiedModel_Reference_RelativeDRMS_None', 117.02924141442791)]"
       ]
      },
      {
       "output_type": "stream",
       "stream": "stdout",
       "text": [
        "\n",
        "244\n",
        "[('SimplifiedModel_Reference_RelativeDRMS_None', 114.01895981261562)]"
       ]
      },
      {
       "output_type": "stream",
       "stream": "stdout",
       "text": [
        "\n",
        "245\n",
        "[('SimplifiedModel_Reference_RelativeDRMS_None', 115.70897938972828)]"
       ]
      },
      {
       "output_type": "stream",
       "stream": "stdout",
       "text": [
        "\n",
        "246\n",
        "[('SimplifiedModel_Reference_RelativeDRMS_None', 116.32524294356641)]"
       ]
      },
      {
       "output_type": "stream",
       "stream": "stdout",
       "text": [
        "\n",
        "247\n",
        "[('SimplifiedModel_Reference_RelativeDRMS_None', 117.34890751683879)]"
       ]
      },
      {
       "output_type": "stream",
       "stream": "stdout",
       "text": [
        "\n",
        "248\n",
        "[('SimplifiedModel_Reference_RelativeDRMS_None', 117.38863613431975)]"
       ]
      },
      {
       "output_type": "stream",
       "stream": "stdout",
       "text": [
        "\n",
        "249\n",
        "[('SimplifiedModel_Reference_RelativeDRMS_None', 112.35132474652377)]"
       ]
      },
      {
       "output_type": "stream",
       "stream": "stdout",
       "text": [
        "\n",
        "250\n",
        "[('SimplifiedModel_Reference_RelativeDRMS_None', 113.15866425668236)]"
       ]
      },
      {
       "output_type": "stream",
       "stream": "stdout",
       "text": [
        "\n",
        "251\n",
        "[('SimplifiedModel_Reference_RelativeDRMS_None', 112.43945049023151)]"
       ]
      },
      {
       "output_type": "stream",
       "stream": "stdout",
       "text": [
        "\n",
        "252\n",
        "[('SimplifiedModel_Reference_RelativeDRMS_None', 110.53725708012925)]"
       ]
      },
      {
       "output_type": "stream",
       "stream": "stdout",
       "text": [
        "\n",
        "253\n",
        "[('SimplifiedModel_Reference_RelativeDRMS_None', 112.01699530279494)]"
       ]
      },
      {
       "output_type": "stream",
       "stream": "stdout",
       "text": [
        "\n",
        "254\n",
        "[('SimplifiedModel_Reference_RelativeDRMS_None', 112.94669610073998)]"
       ]
      },
      {
       "output_type": "stream",
       "stream": "stdout",
       "text": [
        "\n",
        "255\n",
        "[('SimplifiedModel_Reference_RelativeDRMS_None', 112.1177621131402)]"
       ]
      },
      {
       "output_type": "stream",
       "stream": "stdout",
       "text": [
        "\n",
        "256\n",
        "[('SimplifiedModel_Reference_RelativeDRMS_None', 109.14693903552296)]"
       ]
      },
      {
       "output_type": "stream",
       "stream": "stdout",
       "text": [
        "\n",
        "257\n",
        "[('SimplifiedModel_Reference_RelativeDRMS_None', 109.46239667973003)]"
       ]
      },
      {
       "output_type": "stream",
       "stream": "stdout",
       "text": [
        "\n",
        "258\n",
        "[('SimplifiedModel_Reference_RelativeDRMS_None', 108.89320295899424)]"
       ]
      },
      {
       "output_type": "stream",
       "stream": "stdout",
       "text": [
        "\n",
        "259\n",
        "[('SimplifiedModel_Reference_RelativeDRMS_None', 106.01552160630695)]"
       ]
      },
      {
       "output_type": "stream",
       "stream": "stdout",
       "text": [
        "\n",
        "260\n",
        "[('SimplifiedModel_Reference_RelativeDRMS_None', 105.49107090458689)]"
       ]
      },
      {
       "output_type": "stream",
       "stream": "stdout",
       "text": [
        "\n",
        "261\n",
        "[('SimplifiedModel_Reference_RelativeDRMS_None', 108.31513075756365)]"
       ]
      },
      {
       "output_type": "stream",
       "stream": "stdout",
       "text": [
        "\n",
        "262\n",
        "[('SimplifiedModel_Reference_RelativeDRMS_None', 107.59420248977534)]"
       ]
      },
      {
       "output_type": "stream",
       "stream": "stdout",
       "text": [
        "\n",
        "263\n",
        "[('SimplifiedModel_Reference_RelativeDRMS_None', 107.79731987811175)]"
       ]
      },
      {
       "output_type": "stream",
       "stream": "stdout",
       "text": [
        "\n",
        "264\n",
        "[('SimplifiedModel_Reference_RelativeDRMS_None', 107.52867138579136)]"
       ]
      },
      {
       "output_type": "stream",
       "stream": "stdout",
       "text": [
        "\n",
        "265\n",
        "[('SimplifiedModel_Reference_RelativeDRMS_None', 103.8892530092529)]"
       ]
      },
      {
       "output_type": "stream",
       "stream": "stdout",
       "text": [
        "\n",
        "266\n",
        "[('SimplifiedModel_Reference_RelativeDRMS_None', 103.85042918518062)]"
       ]
      },
      {
       "output_type": "stream",
       "stream": "stdout",
       "text": [
        "\n",
        "267\n",
        "[('SimplifiedModel_Reference_RelativeDRMS_None', 102.14626936607432)]"
       ]
      },
      {
       "output_type": "stream",
       "stream": "stdout",
       "text": [
        "\n",
        "268\n",
        "[('SimplifiedModel_Reference_RelativeDRMS_None', 100.5218982140516)]"
       ]
      },
      {
       "output_type": "stream",
       "stream": "stdout",
       "text": [
        "\n",
        "269\n",
        "[('SimplifiedModel_Reference_RelativeDRMS_None', 101.92615443106193)]"
       ]
      },
      {
       "output_type": "stream",
       "stream": "stdout",
       "text": [
        "\n",
        "270\n",
        "[('SimplifiedModel_Reference_RelativeDRMS_None', 103.15349507170868)]"
       ]
      },
      {
       "output_type": "stream",
       "stream": "stdout",
       "text": [
        "\n",
        "271\n",
        "[('SimplifiedModel_Reference_RelativeDRMS_None', 104.34265238205886)]"
       ]
      },
      {
       "output_type": "stream",
       "stream": "stdout",
       "text": [
        "\n",
        "272\n",
        "[('SimplifiedModel_Reference_RelativeDRMS_None', 106.44666829560056)]"
       ]
      },
      {
       "output_type": "stream",
       "stream": "stdout",
       "text": [
        "\n",
        "273\n",
        "[('SimplifiedModel_Reference_RelativeDRMS_None', 106.8803645693414)]"
       ]
      },
      {
       "output_type": "stream",
       "stream": "stdout",
       "text": [
        "\n",
        "274\n",
        "[('SimplifiedModel_Reference_RelativeDRMS_None', 107.76965862487778)]"
       ]
      },
      {
       "output_type": "stream",
       "stream": "stdout",
       "text": [
        "\n",
        "275\n",
        "[('SimplifiedModel_Reference_RelativeDRMS_None', 109.14228550753393)]"
       ]
      },
      {
       "output_type": "stream",
       "stream": "stdout",
       "text": [
        "\n",
        "276\n",
        "[('SimplifiedModel_Reference_RelativeDRMS_None', 106.10953626156876)]"
       ]
      },
      {
       "output_type": "stream",
       "stream": "stdout",
       "text": [
        "\n",
        "277\n",
        "[('SimplifiedModel_Reference_RelativeDRMS_None', 108.25552826508591)]"
       ]
      },
      {
       "output_type": "stream",
       "stream": "stdout",
       "text": [
        "\n",
        "278\n",
        "[('SimplifiedModel_Reference_RelativeDRMS_None', 102.28168996678797)]"
       ]
      },
      {
       "output_type": "stream",
       "stream": "stdout",
       "text": [
        "\n",
        "279\n",
        "[('SimplifiedModel_Reference_RelativeDRMS_None', 102.37450600893142)]"
       ]
      },
      {
       "output_type": "stream",
       "stream": "stdout",
       "text": [
        "\n",
        "280\n",
        "[('SimplifiedModel_Reference_RelativeDRMS_None', 103.60447955321261)]"
       ]
      },
      {
       "output_type": "stream",
       "stream": "stdout",
       "text": [
        "\n",
        "281\n",
        "[('SimplifiedModel_Reference_RelativeDRMS_None', 100.8000155193412)]"
       ]
      },
      {
       "output_type": "stream",
       "stream": "stdout",
       "text": [
        "\n",
        "282\n",
        "[('SimplifiedModel_Reference_RelativeDRMS_None', 98.08215376024123)]"
       ]
      },
      {
       "output_type": "stream",
       "stream": "stdout",
       "text": [
        "\n",
        "283\n",
        "[('SimplifiedModel_Reference_RelativeDRMS_None', 101.05191699967665)]"
       ]
      },
      {
       "output_type": "stream",
       "stream": "stdout",
       "text": [
        "\n",
        "284\n",
        "[('SimplifiedModel_Reference_RelativeDRMS_None', 101.56275152431225)]"
       ]
      },
      {
       "output_type": "stream",
       "stream": "stdout",
       "text": [
        "\n",
        "285\n",
        "[('SimplifiedModel_Reference_RelativeDRMS_None', 103.8325947851971)]"
       ]
      },
      {
       "output_type": "stream",
       "stream": "stdout",
       "text": [
        "\n",
        "286\n",
        "[('SimplifiedModel_Reference_RelativeDRMS_None', 104.9942164968563)]"
       ]
      },
      {
       "output_type": "stream",
       "stream": "stdout",
       "text": [
        "\n",
        "287\n",
        "[('SimplifiedModel_Reference_RelativeDRMS_None', 102.76316474926882)]"
       ]
      },
      {
       "output_type": "stream",
       "stream": "stdout",
       "text": [
        "\n",
        "288\n",
        "[('SimplifiedModel_Reference_RelativeDRMS_None', 102.87271828805758)]"
       ]
      },
      {
       "output_type": "stream",
       "stream": "stdout",
       "text": [
        "\n",
        "289\n",
        "[('SimplifiedModel_Reference_RelativeDRMS_None', 100.73550343667925)]"
       ]
      },
      {
       "output_type": "stream",
       "stream": "stdout",
       "text": [
        "\n",
        "290\n",
        "[('SimplifiedModel_Reference_RelativeDRMS_None', 103.93807232434769)]"
       ]
      },
      {
       "output_type": "stream",
       "stream": "stdout",
       "text": [
        "\n",
        "291\n",
        "[('SimplifiedModel_Reference_RelativeDRMS_None', 101.18639333912105)]"
       ]
      },
      {
       "output_type": "stream",
       "stream": "stdout",
       "text": [
        "\n",
        "292\n",
        "[('SimplifiedModel_Reference_RelativeDRMS_None', 99.74167791953482)]"
       ]
      },
      {
       "output_type": "stream",
       "stream": "stdout",
       "text": [
        "\n",
        "293\n",
        "[('SimplifiedModel_Reference_RelativeDRMS_None', 98.79596910252693)]"
       ]
      },
      {
       "output_type": "stream",
       "stream": "stdout",
       "text": [
        "\n",
        "294\n",
        "[('SimplifiedModel_Reference_RelativeDRMS_None', 99.3342291964754)]"
       ]
      },
      {
       "output_type": "stream",
       "stream": "stdout",
       "text": [
        "\n",
        "295\n",
        "[('SimplifiedModel_Reference_RelativeDRMS_None', 97.67679427156727)]"
       ]
      },
      {
       "output_type": "stream",
       "stream": "stdout",
       "text": [
        "\n",
        "296\n",
        "[('SimplifiedModel_Reference_RelativeDRMS_None', 95.77120633416767)]"
       ]
      },
      {
       "output_type": "stream",
       "stream": "stdout",
       "text": [
        "\n",
        "297\n",
        "[('SimplifiedModel_Reference_RelativeDRMS_None', 96.49500133898034)]"
       ]
      },
      {
       "output_type": "stream",
       "stream": "stdout",
       "text": [
        "\n",
        "298\n",
        "[('SimplifiedModel_Reference_RelativeDRMS_None', 96.37475861037005)]"
       ]
      },
      {
       "output_type": "stream",
       "stream": "stdout",
       "text": [
        "\n",
        "299\n",
        "[('SimplifiedModel_Reference_RelativeDRMS_None', 95.10034814030877)]"
       ]
      },
      {
       "output_type": "stream",
       "stream": "stdout",
       "text": [
        "\n",
        "300\n",
        "[('SimplifiedModel_Reference_RelativeDRMS_None', 95.69865171650717)]"
       ]
      },
      {
       "output_type": "stream",
       "stream": "stdout",
       "text": [
        "\n",
        "301\n",
        "[('SimplifiedModel_Reference_RelativeDRMS_None', 95.01749447894456)]"
       ]
      },
      {
       "output_type": "stream",
       "stream": "stdout",
       "text": [
        "\n",
        "302\n",
        "[('SimplifiedModel_Reference_RelativeDRMS_None', 97.24474765143631)]"
       ]
      },
      {
       "output_type": "stream",
       "stream": "stdout",
       "text": [
        "\n",
        "303\n",
        "[('SimplifiedModel_Reference_RelativeDRMS_None', 99.79250435303642)]"
       ]
      },
      {
       "output_type": "stream",
       "stream": "stdout",
       "text": [
        "\n",
        "304\n",
        "[('SimplifiedModel_Reference_RelativeDRMS_None', 99.10074762008638)]"
       ]
      },
      {
       "output_type": "stream",
       "stream": "stdout",
       "text": [
        "\n",
        "305\n",
        "[('SimplifiedModel_Reference_RelativeDRMS_None', 102.73947719333573)]"
       ]
      },
      {
       "output_type": "stream",
       "stream": "stdout",
       "text": [
        "\n",
        "306\n",
        "[('SimplifiedModel_Reference_RelativeDRMS_None', 101.0295546912194)]"
       ]
      },
      {
       "output_type": "stream",
       "stream": "stdout",
       "text": [
        "\n",
        "307\n",
        "[('SimplifiedModel_Reference_RelativeDRMS_None', 100.18764131373388)]"
       ]
      },
      {
       "output_type": "stream",
       "stream": "stdout",
       "text": [
        "\n",
        "308\n",
        "[('SimplifiedModel_Reference_RelativeDRMS_None', 97.1342155948943)]"
       ]
      },
      {
       "output_type": "stream",
       "stream": "stdout",
       "text": [
        "\n",
        "309\n",
        "[('SimplifiedModel_Reference_RelativeDRMS_None', 94.62535685648159)]"
       ]
      },
      {
       "output_type": "stream",
       "stream": "stdout",
       "text": [
        "\n",
        "310\n",
        "[('SimplifiedModel_Reference_RelativeDRMS_None', 95.97485742683726)]"
       ]
      },
      {
       "output_type": "stream",
       "stream": "stdout",
       "text": [
        "\n",
        "311\n",
        "[('SimplifiedModel_Reference_RelativeDRMS_None', 95.15409684915899)]"
       ]
      },
      {
       "output_type": "stream",
       "stream": "stdout",
       "text": [
        "\n",
        "312\n",
        "[('SimplifiedModel_Reference_RelativeDRMS_None', 93.55145983580577)]"
       ]
      },
      {
       "output_type": "stream",
       "stream": "stdout",
       "text": [
        "\n",
        "313\n",
        "[('SimplifiedModel_Reference_RelativeDRMS_None', 91.06440157924621)]"
       ]
      },
      {
       "output_type": "stream",
       "stream": "stdout",
       "text": [
        "\n",
        "314\n",
        "[('SimplifiedModel_Reference_RelativeDRMS_None', 91.79901878866623)]"
       ]
      },
      {
       "output_type": "stream",
       "stream": "stdout",
       "text": [
        "\n",
        "315\n",
        "[('SimplifiedModel_Reference_RelativeDRMS_None', 94.24537845870779)]"
       ]
      },
      {
       "output_type": "stream",
       "stream": "stdout",
       "text": [
        "\n",
        "316\n",
        "[('SimplifiedModel_Reference_RelativeDRMS_None', 95.82935037901575)]"
       ]
      },
      {
       "output_type": "stream",
       "stream": "stdout",
       "text": [
        "\n",
        "317\n",
        "[('SimplifiedModel_Reference_RelativeDRMS_None', 94.3859855822168)]"
       ]
      },
      {
       "output_type": "stream",
       "stream": "stdout",
       "text": [
        "\n",
        "318\n",
        "[('SimplifiedModel_Reference_RelativeDRMS_None', 95.99087057074321)]"
       ]
      },
      {
       "output_type": "stream",
       "stream": "stdout",
       "text": [
        "\n",
        "319\n",
        "[('SimplifiedModel_Reference_RelativeDRMS_None', 94.22494557643812)]"
       ]
      },
      {
       "output_type": "stream",
       "stream": "stdout",
       "text": [
        "\n",
        "320\n",
        "[('SimplifiedModel_Reference_RelativeDRMS_None', 95.08483694357288)]"
       ]
      },
      {
       "output_type": "stream",
       "stream": "stdout",
       "text": [
        "\n",
        "321\n",
        "[('SimplifiedModel_Reference_RelativeDRMS_None', 93.27669455798343)]"
       ]
      },
      {
       "output_type": "stream",
       "stream": "stdout",
       "text": [
        "\n",
        "322\n",
        "[('SimplifiedModel_Reference_RelativeDRMS_None', 95.36785092018923)]"
       ]
      },
      {
       "output_type": "stream",
       "stream": "stdout",
       "text": [
        "\n",
        "323\n",
        "[('SimplifiedModel_Reference_RelativeDRMS_None', 94.8743940823393)]"
       ]
      },
      {
       "output_type": "stream",
       "stream": "stdout",
       "text": [
        "\n",
        "324\n",
        "[('SimplifiedModel_Reference_RelativeDRMS_None', 95.34194292704017)]"
       ]
      },
      {
       "output_type": "stream",
       "stream": "stdout",
       "text": [
        "\n",
        "325\n",
        "[('SimplifiedModel_Reference_RelativeDRMS_None', 95.95383345170306)]"
       ]
      },
      {
       "output_type": "stream",
       "stream": "stdout",
       "text": [
        "\n",
        "326\n",
        "[('SimplifiedModel_Reference_RelativeDRMS_None', 94.43445141194583)]"
       ]
      },
      {
       "output_type": "stream",
       "stream": "stdout",
       "text": [
        "\n",
        "327\n",
        "[('SimplifiedModel_Reference_RelativeDRMS_None', 93.28436500513595)]"
       ]
      },
      {
       "output_type": "stream",
       "stream": "stdout",
       "text": [
        "\n",
        "328\n",
        "[('SimplifiedModel_Reference_RelativeDRMS_None', 93.40044170161227)]"
       ]
      },
      {
       "output_type": "stream",
       "stream": "stdout",
       "text": [
        "\n",
        "329\n",
        "[('SimplifiedModel_Reference_RelativeDRMS_None', 93.0931802102283)]"
       ]
      },
      {
       "output_type": "stream",
       "stream": "stdout",
       "text": [
        "\n",
        "330\n",
        "[('SimplifiedModel_Reference_RelativeDRMS_None', 92.61873843923581)]"
       ]
      },
      {
       "output_type": "stream",
       "stream": "stdout",
       "text": [
        "\n",
        "331\n",
        "[('SimplifiedModel_Reference_RelativeDRMS_None', 91.87427003854948)]"
       ]
      },
      {
       "output_type": "stream",
       "stream": "stdout",
       "text": [
        "\n",
        "332\n",
        "[('SimplifiedModel_Reference_RelativeDRMS_None', 90.86760492304403)]"
       ]
      },
      {
       "output_type": "stream",
       "stream": "stdout",
       "text": [
        "\n",
        "333\n",
        "[('SimplifiedModel_Reference_RelativeDRMS_None', 92.45177745998461)]"
       ]
      },
      {
       "output_type": "stream",
       "stream": "stdout",
       "text": [
        "\n",
        "334\n",
        "[('SimplifiedModel_Reference_RelativeDRMS_None', 92.78995162763223)]"
       ]
      },
      {
       "output_type": "stream",
       "stream": "stdout",
       "text": [
        "\n",
        "335\n",
        "[('SimplifiedModel_Reference_RelativeDRMS_None', 93.45667073564303)]"
       ]
      },
      {
       "output_type": "stream",
       "stream": "stdout",
       "text": [
        "\n",
        "336\n",
        "[('SimplifiedModel_Reference_RelativeDRMS_None', 91.64302385261689)]"
       ]
      },
      {
       "output_type": "stream",
       "stream": "stdout",
       "text": [
        "\n",
        "337\n",
        "[('SimplifiedModel_Reference_RelativeDRMS_None', 93.13446098974016)]"
       ]
      },
      {
       "output_type": "stream",
       "stream": "stdout",
       "text": [
        "\n",
        "338\n",
        "[('SimplifiedModel_Reference_RelativeDRMS_None', 93.00099504389529)]"
       ]
      },
      {
       "output_type": "stream",
       "stream": "stdout",
       "text": [
        "\n",
        "339\n",
        "[('SimplifiedModel_Reference_RelativeDRMS_None', 91.39201428443084)]"
       ]
      },
      {
       "output_type": "stream",
       "stream": "stdout",
       "text": [
        "\n",
        "340\n",
        "[('SimplifiedModel_Reference_RelativeDRMS_None', 90.14317020374894)]"
       ]
      },
      {
       "output_type": "stream",
       "stream": "stdout",
       "text": [
        "\n",
        "341\n",
        "[('SimplifiedModel_Reference_RelativeDRMS_None', 88.04583263592605)]"
       ]
      },
      {
       "output_type": "stream",
       "stream": "stdout",
       "text": [
        "\n",
        "342\n",
        "[('SimplifiedModel_Reference_RelativeDRMS_None', 86.96142852491792)]"
       ]
      },
      {
       "output_type": "stream",
       "stream": "stdout",
       "text": [
        "\n",
        "343\n",
        "[('SimplifiedModel_Reference_RelativeDRMS_None', 87.55399312599697)]"
       ]
      },
      {
       "output_type": "stream",
       "stream": "stdout",
       "text": [
        "\n",
        "344\n",
        "[('SimplifiedModel_Reference_RelativeDRMS_None', 90.40909859582004)]"
       ]
      },
      {
       "output_type": "stream",
       "stream": "stdout",
       "text": [
        "\n",
        "345\n",
        "[('SimplifiedModel_Reference_RelativeDRMS_None', 93.59503618923536)]"
       ]
      },
      {
       "output_type": "stream",
       "stream": "stdout",
       "text": [
        "\n",
        "346\n",
        "[('SimplifiedModel_Reference_RelativeDRMS_None', 95.16527249622587)]"
       ]
      },
      {
       "output_type": "stream",
       "stream": "stdout",
       "text": [
        "\n",
        "347\n",
        "[('SimplifiedModel_Reference_RelativeDRMS_None', 94.42034427881653)]"
       ]
      },
      {
       "output_type": "stream",
       "stream": "stdout",
       "text": [
        "\n",
        "348\n",
        "[('SimplifiedModel_Reference_RelativeDRMS_None', 94.18340994135704)]"
       ]
      },
      {
       "output_type": "stream",
       "stream": "stdout",
       "text": [
        "\n",
        "349\n",
        "[('SimplifiedModel_Reference_RelativeDRMS_None', 94.01801951032432)]"
       ]
      },
      {
       "output_type": "stream",
       "stream": "stdout",
       "text": [
        "\n",
        "350\n",
        "[('SimplifiedModel_Reference_RelativeDRMS_None', 95.21898499233177)]"
       ]
      },
      {
       "output_type": "stream",
       "stream": "stdout",
       "text": [
        "\n",
        "351\n",
        "[('SimplifiedModel_Reference_RelativeDRMS_None', 97.56038524274305)]"
       ]
      },
      {
       "output_type": "stream",
       "stream": "stdout",
       "text": [
        "\n",
        "352\n",
        "[('SimplifiedModel_Reference_RelativeDRMS_None', 99.66968430578841)]"
       ]
      },
      {
       "output_type": "stream",
       "stream": "stdout",
       "text": [
        "\n",
        "353\n",
        "[('SimplifiedModel_Reference_RelativeDRMS_None', 99.28268861623903)]"
       ]
      },
      {
       "output_type": "stream",
       "stream": "stdout",
       "text": [
        "\n",
        "354\n",
        "[('SimplifiedModel_Reference_RelativeDRMS_None', 102.41661933480825)]"
       ]
      },
      {
       "output_type": "stream",
       "stream": "stdout",
       "text": [
        "\n",
        "355\n",
        "[('SimplifiedModel_Reference_RelativeDRMS_None', 101.70053136717712)]"
       ]
      },
      {
       "output_type": "stream",
       "stream": "stdout",
       "text": [
        "\n",
        "356\n",
        "[('SimplifiedModel_Reference_RelativeDRMS_None', 104.09219044922894)]"
       ]
      },
      {
       "output_type": "stream",
       "stream": "stdout",
       "text": [
        "\n",
        "357\n",
        "[('SimplifiedModel_Reference_RelativeDRMS_None', 102.45762191935043)]"
       ]
      },
      {
       "output_type": "stream",
       "stream": "stdout",
       "text": [
        "\n",
        "358\n",
        "[('SimplifiedModel_Reference_RelativeDRMS_None', 100.74285072166641)]"
       ]
      },
      {
       "output_type": "stream",
       "stream": "stdout",
       "text": [
        "\n",
        "359\n",
        "[('SimplifiedModel_Reference_RelativeDRMS_None', 100.61952473171317)]"
       ]
      },
      {
       "output_type": "stream",
       "stream": "stdout",
       "text": [
        "\n",
        "360\n",
        "[('SimplifiedModel_Reference_RelativeDRMS_None', 102.61749015874001)]"
       ]
      },
      {
       "output_type": "stream",
       "stream": "stdout",
       "text": [
        "\n",
        "361\n",
        "[('SimplifiedModel_Reference_RelativeDRMS_None', 106.88491867969059)]"
       ]
      },
      {
       "output_type": "stream",
       "stream": "stdout",
       "text": [
        "\n",
        "362\n",
        "[('SimplifiedModel_Reference_RelativeDRMS_None', 106.7657369793712)]"
       ]
      },
      {
       "output_type": "stream",
       "stream": "stdout",
       "text": [
        "\n",
        "363\n",
        "[('SimplifiedModel_Reference_RelativeDRMS_None', 108.81677723791383)]"
       ]
      },
      {
       "output_type": "stream",
       "stream": "stdout",
       "text": [
        "\n",
        "364\n",
        "[('SimplifiedModel_Reference_RelativeDRMS_None', 108.82129389739745)]"
       ]
      },
      {
       "output_type": "stream",
       "stream": "stdout",
       "text": [
        "\n",
        "365\n",
        "[('SimplifiedModel_Reference_RelativeDRMS_None', 110.81945548238414)]"
       ]
      },
      {
       "output_type": "stream",
       "stream": "stdout",
       "text": [
        "\n",
        "366\n",
        "[('SimplifiedModel_Reference_RelativeDRMS_None', 108.5962788296882)]"
       ]
      },
      {
       "output_type": "stream",
       "stream": "stdout",
       "text": [
        "\n",
        "367\n",
        "[('SimplifiedModel_Reference_RelativeDRMS_None', 106.73061392555319)]"
       ]
      },
      {
       "output_type": "stream",
       "stream": "stdout",
       "text": [
        "\n",
        "368\n",
        "[('SimplifiedModel_Reference_RelativeDRMS_None', 104.63062612362316)]"
       ]
      },
      {
       "output_type": "stream",
       "stream": "stdout",
       "text": [
        "\n",
        "369\n",
        "[('SimplifiedModel_Reference_RelativeDRMS_None', 106.89958799158825)]"
       ]
      },
      {
       "output_type": "stream",
       "stream": "stdout",
       "text": [
        "\n",
        "370\n",
        "[('SimplifiedModel_Reference_RelativeDRMS_None', 110.64665686990661)]"
       ]
      },
      {
       "output_type": "stream",
       "stream": "stdout",
       "text": [
        "\n",
        "371\n",
        "[('SimplifiedModel_Reference_RelativeDRMS_None', 113.34632202754163)]"
       ]
      },
      {
       "output_type": "stream",
       "stream": "stdout",
       "text": [
        "\n",
        "372\n",
        "[('SimplifiedModel_Reference_RelativeDRMS_None', 115.27840828519409)]"
       ]
      },
      {
       "output_type": "stream",
       "stream": "stdout",
       "text": [
        "\n",
        "373\n",
        "[('SimplifiedModel_Reference_RelativeDRMS_None', 113.76616501324459)]"
       ]
      },
      {
       "output_type": "stream",
       "stream": "stdout",
       "text": [
        "\n",
        "374\n",
        "[('SimplifiedModel_Reference_RelativeDRMS_None', 116.361883548311)]"
       ]
      },
      {
       "output_type": "stream",
       "stream": "stdout",
       "text": [
        "\n",
        "375\n",
        "[('SimplifiedModel_Reference_RelativeDRMS_None', 118.59737161093314)]"
       ]
      },
      {
       "output_type": "stream",
       "stream": "stdout",
       "text": [
        "\n",
        "376\n",
        "[('SimplifiedModel_Reference_RelativeDRMS_None', 122.24069079828034)]"
       ]
      },
      {
       "output_type": "stream",
       "stream": "stdout",
       "text": [
        "\n",
        "377\n",
        "[('SimplifiedModel_Reference_RelativeDRMS_None', 121.06491764686061)]"
       ]
      },
      {
       "output_type": "stream",
       "stream": "stdout",
       "text": [
        "\n",
        "378\n",
        "[('SimplifiedModel_Reference_RelativeDRMS_None', 122.12394927781422)]"
       ]
      },
      {
       "output_type": "stream",
       "stream": "stdout",
       "text": [
        "\n",
        "379\n",
        "[('SimplifiedModel_Reference_RelativeDRMS_None', 122.50101145492391)]"
       ]
      },
      {
       "output_type": "stream",
       "stream": "stdout",
       "text": [
        "\n",
        "380\n",
        "[('SimplifiedModel_Reference_RelativeDRMS_None', 123.47371562252485)]"
       ]
      },
      {
       "output_type": "stream",
       "stream": "stdout",
       "text": [
        "\n",
        "381\n",
        "[('SimplifiedModel_Reference_RelativeDRMS_None', 124.88506905836182)]"
       ]
      },
      {
       "output_type": "stream",
       "stream": "stdout",
       "text": [
        "\n",
        "382\n",
        "[('SimplifiedModel_Reference_RelativeDRMS_None', 127.69098322097368)]"
       ]
      },
      {
       "output_type": "stream",
       "stream": "stdout",
       "text": [
        "\n",
        "383\n",
        "[('SimplifiedModel_Reference_RelativeDRMS_None', 127.88123448944927)]"
       ]
      },
      {
       "output_type": "stream",
       "stream": "stdout",
       "text": [
        "\n",
        "384\n",
        "[('SimplifiedModel_Reference_RelativeDRMS_None', 127.8614899756163)]"
       ]
      },
      {
       "output_type": "stream",
       "stream": "stdout",
       "text": [
        "\n",
        "385\n",
        "[('SimplifiedModel_Reference_RelativeDRMS_None', 127.69109245933394)]"
       ]
      },
      {
       "output_type": "stream",
       "stream": "stdout",
       "text": [
        "\n",
        "386\n",
        "[('SimplifiedModel_Reference_RelativeDRMS_None', 127.74374427493812)]"
       ]
      },
      {
       "output_type": "stream",
       "stream": "stdout",
       "text": [
        "\n",
        "387\n",
        "[('SimplifiedModel_Reference_RelativeDRMS_None', 130.59474076776627)]"
       ]
      },
      {
       "output_type": "stream",
       "stream": "stdout",
       "text": [
        "\n",
        "388\n",
        "[('SimplifiedModel_Reference_RelativeDRMS_None', 129.48842038077134)]"
       ]
      },
      {
       "output_type": "stream",
       "stream": "stdout",
       "text": [
        "\n",
        "389\n",
        "[('SimplifiedModel_Reference_RelativeDRMS_None', 134.83634936383513)]"
       ]
      },
      {
       "output_type": "stream",
       "stream": "stdout",
       "text": [
        "\n",
        "390\n",
        "[('SimplifiedModel_Reference_RelativeDRMS_None', 129.7824516593693)]"
       ]
      },
      {
       "output_type": "stream",
       "stream": "stdout",
       "text": [
        "\n",
        "391\n",
        "[('SimplifiedModel_Reference_RelativeDRMS_None', 130.95762904263697)]"
       ]
      },
      {
       "output_type": "stream",
       "stream": "stdout",
       "text": [
        "\n",
        "392\n",
        "[('SimplifiedModel_Reference_RelativeDRMS_None', 130.3394568608114)]"
       ]
      },
      {
       "output_type": "stream",
       "stream": "stdout",
       "text": [
        "\n",
        "393\n",
        "[('SimplifiedModel_Reference_RelativeDRMS_None', 129.47776362924068)]"
       ]
      },
      {
       "output_type": "stream",
       "stream": "stdout",
       "text": [
        "\n",
        "394\n",
        "[('SimplifiedModel_Reference_RelativeDRMS_None', 130.79277998252908)]"
       ]
      },
      {
       "output_type": "stream",
       "stream": "stdout",
       "text": [
        "\n",
        "395\n",
        "[('SimplifiedModel_Reference_RelativeDRMS_None', 132.26407108730893)]"
       ]
      },
      {
       "output_type": "stream",
       "stream": "stdout",
       "text": [
        "\n",
        "396\n",
        "[('SimplifiedModel_Reference_RelativeDRMS_None', 132.50340344613022)]"
       ]
      },
      {
       "output_type": "stream",
       "stream": "stdout",
       "text": [
        "\n",
        "397\n",
        "[('SimplifiedModel_Reference_RelativeDRMS_None', 131.5346666181206)]"
       ]
      },
      {
       "output_type": "stream",
       "stream": "stdout",
       "text": [
        "\n",
        "398\n",
        "[('SimplifiedModel_Reference_RelativeDRMS_None', 129.00084963569566)]"
       ]
      },
      {
       "output_type": "stream",
       "stream": "stdout",
       "text": [
        "\n",
        "399\n",
        "[('SimplifiedModel_Reference_RelativeDRMS_None', 125.71986340923831)]"
       ]
      },
      {
       "output_type": "stream",
       "stream": "stdout",
       "text": [
        "\n",
        "400\n",
        "[('SimplifiedModel_Reference_RelativeDRMS_None', 128.54645612666076)]"
       ]
      },
      {
       "output_type": "stream",
       "stream": "stdout",
       "text": [
        "\n",
        "401\n",
        "[('SimplifiedModel_Reference_RelativeDRMS_None', 127.04732348567521)]"
       ]
      },
      {
       "output_type": "stream",
       "stream": "stdout",
       "text": [
        "\n",
        "402\n",
        "[('SimplifiedModel_Reference_RelativeDRMS_None', 127.08809574416583)]"
       ]
      },
      {
       "output_type": "stream",
       "stream": "stdout",
       "text": [
        "\n",
        "403\n",
        "[('SimplifiedModel_Reference_RelativeDRMS_None', 122.33371116204786)]"
       ]
      },
      {
       "output_type": "stream",
       "stream": "stdout",
       "text": [
        "\n",
        "404\n",
        "[('SimplifiedModel_Reference_RelativeDRMS_None', 125.70327690122242)]"
       ]
      },
      {
       "output_type": "stream",
       "stream": "stdout",
       "text": [
        "\n",
        "405\n",
        "[('SimplifiedModel_Reference_RelativeDRMS_None', 123.71622607851872)]"
       ]
      },
      {
       "output_type": "stream",
       "stream": "stdout",
       "text": [
        "\n",
        "406\n",
        "[('SimplifiedModel_Reference_RelativeDRMS_None', 125.81267119928415)]"
       ]
      },
      {
       "output_type": "stream",
       "stream": "stdout",
       "text": [
        "\n",
        "407\n",
        "[('SimplifiedModel_Reference_RelativeDRMS_None', 129.61037681568178)]"
       ]
      },
      {
       "output_type": "stream",
       "stream": "stdout",
       "text": [
        "\n",
        "408\n",
        "[('SimplifiedModel_Reference_RelativeDRMS_None', 127.05522343224075)]"
       ]
      },
      {
       "output_type": "stream",
       "stream": "stdout",
       "text": [
        "\n",
        "409\n",
        "[('SimplifiedModel_Reference_RelativeDRMS_None', 123.10288647905689)]"
       ]
      },
      {
       "output_type": "stream",
       "stream": "stdout",
       "text": [
        "\n",
        "410\n",
        "[('SimplifiedModel_Reference_RelativeDRMS_None', 125.23563420781538)]"
       ]
      },
      {
       "output_type": "stream",
       "stream": "stdout",
       "text": [
        "\n",
        "411\n",
        "[('SimplifiedModel_Reference_RelativeDRMS_None', 127.59203853313929)]"
       ]
      },
      {
       "output_type": "stream",
       "stream": "stdout",
       "text": [
        "\n",
        "412\n",
        "[('SimplifiedModel_Reference_RelativeDRMS_None', 127.60602693642085)]"
       ]
      },
      {
       "output_type": "stream",
       "stream": "stdout",
       "text": [
        "\n",
        "413\n",
        "[('SimplifiedModel_Reference_RelativeDRMS_None', 129.73603143059762)]"
       ]
      },
      {
       "output_type": "stream",
       "stream": "stdout",
       "text": [
        "\n",
        "414\n",
        "[('SimplifiedModel_Reference_RelativeDRMS_None', 127.6052012865629)]"
       ]
      },
      {
       "output_type": "stream",
       "stream": "stdout",
       "text": [
        "\n",
        "415\n",
        "[('SimplifiedModel_Reference_RelativeDRMS_None', 125.82641884826852)]"
       ]
      },
      {
       "output_type": "stream",
       "stream": "stdout",
       "text": [
        "\n",
        "416\n",
        "[('SimplifiedModel_Reference_RelativeDRMS_None', 125.89388798391265)]"
       ]
      },
      {
       "output_type": "stream",
       "stream": "stdout",
       "text": [
        "\n",
        "417\n",
        "[('SimplifiedModel_Reference_RelativeDRMS_None', 122.20108859644644)]"
       ]
      },
      {
       "output_type": "stream",
       "stream": "stdout",
       "text": [
        "\n",
        "418\n",
        "[('SimplifiedModel_Reference_RelativeDRMS_None', 120.57961529360337)]"
       ]
      },
      {
       "output_type": "stream",
       "stream": "stdout",
       "text": [
        "\n",
        "419\n",
        "[('SimplifiedModel_Reference_RelativeDRMS_None', 120.18533894867839)]"
       ]
      },
      {
       "output_type": "stream",
       "stream": "stdout",
       "text": [
        "\n",
        "420\n",
        "[('SimplifiedModel_Reference_RelativeDRMS_None', 122.61635733945036)]"
       ]
      },
      {
       "output_type": "stream",
       "stream": "stdout",
       "text": [
        "\n",
        "421\n",
        "[('SimplifiedModel_Reference_RelativeDRMS_None', 126.74921019452043)]"
       ]
      },
      {
       "output_type": "stream",
       "stream": "stdout",
       "text": [
        "\n",
        "422\n",
        "[('SimplifiedModel_Reference_RelativeDRMS_None', 124.90920871564197)]"
       ]
      },
      {
       "output_type": "stream",
       "stream": "stdout",
       "text": [
        "\n",
        "423\n",
        "[('SimplifiedModel_Reference_RelativeDRMS_None', 122.444932383027)]"
       ]
      },
      {
       "output_type": "stream",
       "stream": "stdout",
       "text": [
        "\n",
        "424\n",
        "[('SimplifiedModel_Reference_RelativeDRMS_None', 126.01187805896464)]"
       ]
      },
      {
       "output_type": "stream",
       "stream": "stdout",
       "text": [
        "\n",
        "425\n",
        "[('SimplifiedModel_Reference_RelativeDRMS_None', 123.43944566973963)]"
       ]
      },
      {
       "output_type": "stream",
       "stream": "stdout",
       "text": [
        "\n",
        "426\n",
        "[('SimplifiedModel_Reference_RelativeDRMS_None', 123.2046523197085)]"
       ]
      },
      {
       "output_type": "stream",
       "stream": "stdout",
       "text": [
        "\n",
        "427\n",
        "[('SimplifiedModel_Reference_RelativeDRMS_None', 122.23341694216526)]"
       ]
      },
      {
       "output_type": "stream",
       "stream": "stdout",
       "text": [
        "\n",
        "428\n",
        "[('SimplifiedModel_Reference_RelativeDRMS_None', 121.15262104725015)]"
       ]
      },
      {
       "output_type": "stream",
       "stream": "stdout",
       "text": [
        "\n",
        "429\n",
        "[('SimplifiedModel_Reference_RelativeDRMS_None', 119.92628087955588)]"
       ]
      },
      {
       "output_type": "stream",
       "stream": "stdout",
       "text": [
        "\n",
        "430\n",
        "[('SimplifiedModel_Reference_RelativeDRMS_None', 120.93992849040175)]"
       ]
      },
      {
       "output_type": "stream",
       "stream": "stdout",
       "text": [
        "\n",
        "431\n",
        "[('SimplifiedModel_Reference_RelativeDRMS_None', 124.43182784596968)]"
       ]
      },
      {
       "output_type": "stream",
       "stream": "stdout",
       "text": [
        "\n",
        "432\n",
        "[('SimplifiedModel_Reference_RelativeDRMS_None', 128.7610663889071)]"
       ]
      },
      {
       "output_type": "stream",
       "stream": "stdout",
       "text": [
        "\n",
        "433\n",
        "[('SimplifiedModel_Reference_RelativeDRMS_None', 132.12843719831656)]"
       ]
      },
      {
       "output_type": "stream",
       "stream": "stdout",
       "text": [
        "\n",
        "434\n",
        "[('SimplifiedModel_Reference_RelativeDRMS_None', 131.51816372022884)]"
       ]
      },
      {
       "output_type": "stream",
       "stream": "stdout",
       "text": [
        "\n",
        "435\n",
        "[('SimplifiedModel_Reference_RelativeDRMS_None', 129.11719776874946)]"
       ]
      },
      {
       "output_type": "stream",
       "stream": "stdout",
       "text": [
        "\n",
        "436\n",
        "[('SimplifiedModel_Reference_RelativeDRMS_None', 130.4525963896879)]"
       ]
      },
      {
       "output_type": "stream",
       "stream": "stdout",
       "text": [
        "\n",
        "437\n",
        "[('SimplifiedModel_Reference_RelativeDRMS_None', 132.07225043158903)]"
       ]
      },
      {
       "output_type": "stream",
       "stream": "stdout",
       "text": [
        "\n",
        "438\n",
        "[('SimplifiedModel_Reference_RelativeDRMS_None', 132.26877286046357)]"
       ]
      },
      {
       "output_type": "stream",
       "stream": "stdout",
       "text": [
        "\n",
        "439\n",
        "[('SimplifiedModel_Reference_RelativeDRMS_None', 130.2487364381418)]"
       ]
      },
      {
       "output_type": "stream",
       "stream": "stdout",
       "text": [
        "\n",
        "440\n",
        "[('SimplifiedModel_Reference_RelativeDRMS_None', 131.60807917519668)]"
       ]
      },
      {
       "output_type": "stream",
       "stream": "stdout",
       "text": [
        "\n",
        "441\n",
        "[('SimplifiedModel_Reference_RelativeDRMS_None', 130.84394865348963)]"
       ]
      },
      {
       "output_type": "stream",
       "stream": "stdout",
       "text": [
        "\n",
        "442\n",
        "[('SimplifiedModel_Reference_RelativeDRMS_None', 129.67936208895216)]"
       ]
      },
      {
       "output_type": "stream",
       "stream": "stdout",
       "text": [
        "\n",
        "443\n",
        "[('SimplifiedModel_Reference_RelativeDRMS_None', 132.66939549990119)]"
       ]
      },
      {
       "output_type": "stream",
       "stream": "stdout",
       "text": [
        "\n",
        "444\n",
        "[('SimplifiedModel_Reference_RelativeDRMS_None', 132.28799048653264)]"
       ]
      },
      {
       "output_type": "stream",
       "stream": "stdout",
       "text": [
        "\n",
        "445\n",
        "[('SimplifiedModel_Reference_RelativeDRMS_None', 132.13250075951854)]"
       ]
      },
      {
       "output_type": "stream",
       "stream": "stdout",
       "text": [
        "\n",
        "446\n",
        "[('SimplifiedModel_Reference_RelativeDRMS_None', 132.0058348106375)]"
       ]
      },
      {
       "output_type": "stream",
       "stream": "stdout",
       "text": [
        "\n",
        "447\n",
        "[('SimplifiedModel_Reference_RelativeDRMS_None', 132.43063910010525)]"
       ]
      },
      {
       "output_type": "stream",
       "stream": "stdout",
       "text": [
        "\n",
        "448\n",
        "[('SimplifiedModel_Reference_RelativeDRMS_None', 129.73341212892578)]"
       ]
      },
      {
       "output_type": "stream",
       "stream": "stdout",
       "text": [
        "\n",
        "449\n",
        "[('SimplifiedModel_Reference_RelativeDRMS_None', 132.03143386076547)]"
       ]
      },
      {
       "output_type": "stream",
       "stream": "stdout",
       "text": [
        "\n",
        "450\n",
        "[('SimplifiedModel_Reference_RelativeDRMS_None', 129.8858127264419)]"
       ]
      },
      {
       "output_type": "stream",
       "stream": "stdout",
       "text": [
        "\n",
        "451\n",
        "[('SimplifiedModel_Reference_RelativeDRMS_None', 131.16015960299015)]"
       ]
      },
      {
       "output_type": "stream",
       "stream": "stdout",
       "text": [
        "\n",
        "452\n",
        "[('SimplifiedModel_Reference_RelativeDRMS_None', 132.0952130629992)]"
       ]
      },
      {
       "output_type": "stream",
       "stream": "stdout",
       "text": [
        "\n",
        "453\n",
        "[('SimplifiedModel_Reference_RelativeDRMS_None', 131.57012482468014)]"
       ]
      },
      {
       "output_type": "stream",
       "stream": "stdout",
       "text": [
        "\n",
        "454\n",
        "[('SimplifiedModel_Reference_RelativeDRMS_None', 130.45771983400897)]"
       ]
      },
      {
       "output_type": "stream",
       "stream": "stdout",
       "text": [
        "\n",
        "455\n",
        "[('SimplifiedModel_Reference_RelativeDRMS_None', 128.46319418591548)]"
       ]
      },
      {
       "output_type": "stream",
       "stream": "stdout",
       "text": [
        "\n",
        "456\n",
        "[('SimplifiedModel_Reference_RelativeDRMS_None', 128.4963710030575)]"
       ]
      },
      {
       "output_type": "stream",
       "stream": "stdout",
       "text": [
        "\n",
        "457\n",
        "[('SimplifiedModel_Reference_RelativeDRMS_None', 131.4489794930323)]"
       ]
      },
      {
       "output_type": "stream",
       "stream": "stdout",
       "text": [
        "\n",
        "458\n",
        "[('SimplifiedModel_Reference_RelativeDRMS_None', 134.28078874765006)]"
       ]
      },
      {
       "output_type": "stream",
       "stream": "stdout",
       "text": [
        "\n",
        "459\n",
        "[('SimplifiedModel_Reference_RelativeDRMS_None', 132.86985747942686)]"
       ]
      },
      {
       "output_type": "stream",
       "stream": "stdout",
       "text": [
        "\n",
        "460\n",
        "[('SimplifiedModel_Reference_RelativeDRMS_None', 136.93762092817488)]"
       ]
      },
      {
       "output_type": "stream",
       "stream": "stdout",
       "text": [
        "\n",
        "461\n",
        "[('SimplifiedModel_Reference_RelativeDRMS_None', 132.13757000659353)]"
       ]
      },
      {
       "output_type": "stream",
       "stream": "stdout",
       "text": [
        "\n",
        "462\n",
        "[('SimplifiedModel_Reference_RelativeDRMS_None', 136.06319494184456)]"
       ]
      },
      {
       "output_type": "stream",
       "stream": "stdout",
       "text": [
        "\n",
        "463\n",
        "[('SimplifiedModel_Reference_RelativeDRMS_None', 136.5991369110287)]"
       ]
      },
      {
       "output_type": "stream",
       "stream": "stdout",
       "text": [
        "\n",
        "464\n",
        "[('SimplifiedModel_Reference_RelativeDRMS_None', 138.72480841554983)]"
       ]
      },
      {
       "output_type": "stream",
       "stream": "stdout",
       "text": [
        "\n",
        "465\n",
        "[('SimplifiedModel_Reference_RelativeDRMS_None', 133.54573115052216)]"
       ]
      },
      {
       "output_type": "stream",
       "stream": "stdout",
       "text": [
        "\n",
        "466\n",
        "[('SimplifiedModel_Reference_RelativeDRMS_None', 134.6124195809126)]"
       ]
      },
      {
       "output_type": "stream",
       "stream": "stdout",
       "text": [
        "\n",
        "467\n",
        "[('SimplifiedModel_Reference_RelativeDRMS_None', 134.27888097829478)]"
       ]
      },
      {
       "output_type": "stream",
       "stream": "stdout",
       "text": [
        "\n",
        "468\n",
        "[('SimplifiedModel_Reference_RelativeDRMS_None', 135.82096135385663)]"
       ]
      },
      {
       "output_type": "stream",
       "stream": "stdout",
       "text": [
        "\n",
        "469\n",
        "[('SimplifiedModel_Reference_RelativeDRMS_None', 134.07969160681566)]"
       ]
      },
      {
       "output_type": "stream",
       "stream": "stdout",
       "text": [
        "\n",
        "470\n",
        "[('SimplifiedModel_Reference_RelativeDRMS_None', 137.9022982005286)]"
       ]
      },
      {
       "output_type": "stream",
       "stream": "stdout",
       "text": [
        "\n",
        "471\n",
        "[('SimplifiedModel_Reference_RelativeDRMS_None', 134.48254671343486)]"
       ]
      },
      {
       "output_type": "stream",
       "stream": "stdout",
       "text": [
        "\n",
        "472\n",
        "[('SimplifiedModel_Reference_RelativeDRMS_None', 135.6008367643008)]"
       ]
      },
      {
       "output_type": "stream",
       "stream": "stdout",
       "text": [
        "\n",
        "473\n",
        "[('SimplifiedModel_Reference_RelativeDRMS_None', 136.378477314566)]"
       ]
      },
      {
       "output_type": "stream",
       "stream": "stdout",
       "text": [
        "\n",
        "474\n",
        "[('SimplifiedModel_Reference_RelativeDRMS_None', 134.71110940986648)]"
       ]
      },
      {
       "output_type": "stream",
       "stream": "stdout",
       "text": [
        "\n",
        "475\n",
        "[('SimplifiedModel_Reference_RelativeDRMS_None', 130.7926651283187)]"
       ]
      },
      {
       "output_type": "stream",
       "stream": "stdout",
       "text": [
        "\n",
        "476\n",
        "[('SimplifiedModel_Reference_RelativeDRMS_None', 131.59555526221305)]"
       ]
      },
      {
       "output_type": "stream",
       "stream": "stdout",
       "text": [
        "\n",
        "477\n",
        "[('SimplifiedModel_Reference_RelativeDRMS_None', 130.93692035565024)]"
       ]
      },
      {
       "output_type": "stream",
       "stream": "stdout",
       "text": [
        "\n",
        "478\n",
        "[('SimplifiedModel_Reference_RelativeDRMS_None', 133.61989186558966)]"
       ]
      },
      {
       "output_type": "stream",
       "stream": "stdout",
       "text": [
        "\n",
        "479\n",
        "[('SimplifiedModel_Reference_RelativeDRMS_None', 133.58176349662637)]"
       ]
      },
      {
       "output_type": "stream",
       "stream": "stdout",
       "text": [
        "\n",
        "480\n",
        "[('SimplifiedModel_Reference_RelativeDRMS_None', 134.9770358382876)]"
       ]
      },
      {
       "output_type": "stream",
       "stream": "stdout",
       "text": [
        "\n",
        "481\n",
        "[('SimplifiedModel_Reference_RelativeDRMS_None', 135.221377045956)]"
       ]
      },
      {
       "output_type": "stream",
       "stream": "stdout",
       "text": [
        "\n",
        "482\n",
        "[('SimplifiedModel_Reference_RelativeDRMS_None', 136.89489953476743)]"
       ]
      },
      {
       "output_type": "stream",
       "stream": "stdout",
       "text": [
        "\n",
        "483\n",
        "[('SimplifiedModel_Reference_RelativeDRMS_None', 141.9692939335339)]"
       ]
      },
      {
       "output_type": "stream",
       "stream": "stdout",
       "text": [
        "\n",
        "484\n",
        "[('SimplifiedModel_Reference_RelativeDRMS_None', 142.07741509717457)]"
       ]
      },
      {
       "output_type": "stream",
       "stream": "stdout",
       "text": [
        "\n",
        "485\n",
        "[('SimplifiedModel_Reference_RelativeDRMS_None', 142.7885362223309)]"
       ]
      },
      {
       "output_type": "stream",
       "stream": "stdout",
       "text": [
        "\n",
        "486\n",
        "[('SimplifiedModel_Reference_RelativeDRMS_None', 142.2006473490458)]"
       ]
      },
      {
       "output_type": "stream",
       "stream": "stdout",
       "text": [
        "\n",
        "487\n",
        "[('SimplifiedModel_Reference_RelativeDRMS_None', 143.74973619563264)]"
       ]
      },
      {
       "output_type": "stream",
       "stream": "stdout",
       "text": [
        "\n",
        "488\n",
        "[('SimplifiedModel_Reference_RelativeDRMS_None', 142.00266531151038)]"
       ]
      },
      {
       "output_type": "stream",
       "stream": "stdout",
       "text": [
        "\n",
        "489\n",
        "[('SimplifiedModel_Reference_RelativeDRMS_None', 144.51262702876113)]"
       ]
      },
      {
       "output_type": "stream",
       "stream": "stdout",
       "text": [
        "\n",
        "490\n",
        "[('SimplifiedModel_Reference_RelativeDRMS_None', 145.13314498671076)]"
       ]
      },
      {
       "output_type": "stream",
       "stream": "stdout",
       "text": [
        "\n",
        "491\n",
        "[('SimplifiedModel_Reference_RelativeDRMS_None', 144.7066255075413)]"
       ]
      },
      {
       "output_type": "stream",
       "stream": "stdout",
       "text": [
        "\n",
        "492\n",
        "[('SimplifiedModel_Reference_RelativeDRMS_None', 154.00559767521787)]"
       ]
      },
      {
       "output_type": "stream",
       "stream": "stdout",
       "text": [
        "\n",
        "493\n",
        "[('SimplifiedModel_Reference_RelativeDRMS_None', 153.82935542529302)]"
       ]
      },
      {
       "output_type": "stream",
       "stream": "stdout",
       "text": [
        "\n",
        "494\n",
        "[('SimplifiedModel_Reference_RelativeDRMS_None', 158.9065501560415)]"
       ]
      },
      {
       "output_type": "stream",
       "stream": "stdout",
       "text": [
        "\n",
        "495\n",
        "[('SimplifiedModel_Reference_RelativeDRMS_None', 159.31915248112145)]"
       ]
      },
      {
       "output_type": "stream",
       "stream": "stdout",
       "text": [
        "\n",
        "496\n",
        "[('SimplifiedModel_Reference_RelativeDRMS_None', 159.47749679738217)]"
       ]
      },
      {
       "output_type": "stream",
       "stream": "stdout",
       "text": [
        "\n",
        "497\n",
        "[('SimplifiedModel_Reference_RelativeDRMS_None', 161.64524821282313)]"
       ]
      },
      {
       "output_type": "stream",
       "stream": "stdout",
       "text": [
        "\n",
        "498\n",
        "[('SimplifiedModel_Reference_RelativeDRMS_None', 162.6182942859565)]"
       ]
      },
      {
       "output_type": "stream",
       "stream": "stdout",
       "text": [
        "\n",
        "499\n",
        "[('SimplifiedModel_Reference_RelativeDRMS_None', 162.43078546897587)]"
       ]
      },
      {
       "output_type": "stream",
       "stream": "stdout",
       "text": [
        "\n",
        "500\n",
        "[('SimplifiedModel_Reference_RelativeDRMS_None', 166.86672352136424)]"
       ]
      },
      {
       "output_type": "stream",
       "stream": "stdout",
       "text": [
        "\n",
        "501\n",
        "[('SimplifiedModel_Reference_RelativeDRMS_None', 170.7902253774234)]"
       ]
      },
      {
       "output_type": "stream",
       "stream": "stdout",
       "text": [
        "\n",
        "502\n",
        "[('SimplifiedModel_Reference_RelativeDRMS_None', 172.5685933365729)]"
       ]
      },
      {
       "output_type": "stream",
       "stream": "stdout",
       "text": [
        "\n",
        "503\n",
        "[('SimplifiedModel_Reference_RelativeDRMS_None', 172.6711467218994)]"
       ]
      },
      {
       "output_type": "stream",
       "stream": "stdout",
       "text": [
        "\n",
        "504\n",
        "[('SimplifiedModel_Reference_RelativeDRMS_None', 173.31458806597456)]"
       ]
      },
      {
       "output_type": "stream",
       "stream": "stdout",
       "text": [
        "\n",
        "505\n",
        "[('SimplifiedModel_Reference_RelativeDRMS_None', 173.69065630937004)]"
       ]
      },
      {
       "output_type": "stream",
       "stream": "stdout",
       "text": [
        "\n",
        "506\n",
        "[('SimplifiedModel_Reference_RelativeDRMS_None', 173.85506587783544)]"
       ]
      },
      {
       "output_type": "stream",
       "stream": "stdout",
       "text": [
        "\n",
        "507\n",
        "[('SimplifiedModel_Reference_RelativeDRMS_None', 176.0567851617003)]"
       ]
      },
      {
       "output_type": "stream",
       "stream": "stdout",
       "text": [
        "\n",
        "508\n",
        "[('SimplifiedModel_Reference_RelativeDRMS_None', 175.62006450243356)]"
       ]
      },
      {
       "output_type": "stream",
       "stream": "stdout",
       "text": [
        "\n",
        "509\n",
        "[('SimplifiedModel_Reference_RelativeDRMS_None', 175.88377313649687)]"
       ]
      },
      {
       "output_type": "stream",
       "stream": "stdout",
       "text": [
        "\n",
        "510\n",
        "[('SimplifiedModel_Reference_RelativeDRMS_None', 179.0595740492404)]"
       ]
      },
      {
       "output_type": "stream",
       "stream": "stdout",
       "text": [
        "\n",
        "511\n",
        "[('SimplifiedModel_Reference_RelativeDRMS_None', 185.4590440997937)]"
       ]
      },
      {
       "output_type": "stream",
       "stream": "stdout",
       "text": [
        "\n",
        "512\n",
        "[('SimplifiedModel_Reference_RelativeDRMS_None', 187.2914199629794)]"
       ]
      },
      {
       "output_type": "stream",
       "stream": "stdout",
       "text": [
        "\n",
        "513\n",
        "[('SimplifiedModel_Reference_RelativeDRMS_None', 183.4479139042261)]"
       ]
      },
      {
       "output_type": "stream",
       "stream": "stdout",
       "text": [
        "\n",
        "514\n",
        "[('SimplifiedModel_Reference_RelativeDRMS_None', 185.94612593376004)]"
       ]
      },
      {
       "output_type": "stream",
       "stream": "stdout",
       "text": [
        "\n",
        "515\n",
        "[('SimplifiedModel_Reference_RelativeDRMS_None', 182.5065103455777)]"
       ]
      },
      {
       "output_type": "stream",
       "stream": "stdout",
       "text": [
        "\n",
        "516\n",
        "[('SimplifiedModel_Reference_RelativeDRMS_None', 184.00229973576285)]"
       ]
      },
      {
       "output_type": "stream",
       "stream": "stdout",
       "text": [
        "\n",
        "517\n",
        "[('SimplifiedModel_Reference_RelativeDRMS_None', 181.97137273883754)]"
       ]
      },
      {
       "output_type": "stream",
       "stream": "stdout",
       "text": [
        "\n",
        "518\n",
        "[('SimplifiedModel_Reference_RelativeDRMS_None', 179.47631759469047)]"
       ]
      },
      {
       "output_type": "stream",
       "stream": "stdout",
       "text": [
        "\n",
        "519\n",
        "[('SimplifiedModel_Reference_RelativeDRMS_None', 177.08145149447637)]"
       ]
      },
      {
       "output_type": "stream",
       "stream": "stdout",
       "text": [
        "\n",
        "520\n",
        "[('SimplifiedModel_Reference_RelativeDRMS_None', 176.20040290420167)]"
       ]
      },
      {
       "output_type": "stream",
       "stream": "stdout",
       "text": [
        "\n",
        "521\n",
        "[('SimplifiedModel_Reference_RelativeDRMS_None', 174.79019435942627)]"
       ]
      },
      {
       "output_type": "stream",
       "stream": "stdout",
       "text": [
        "\n",
        "522\n",
        "[('SimplifiedModel_Reference_RelativeDRMS_None', 175.24870846977745)]"
       ]
      },
      {
       "output_type": "stream",
       "stream": "stdout",
       "text": [
        "\n",
        "523\n",
        "[('SimplifiedModel_Reference_RelativeDRMS_None', 175.93684425889683)]"
       ]
      },
      {
       "output_type": "stream",
       "stream": "stdout",
       "text": [
        "\n",
        "524\n",
        "[('SimplifiedModel_Reference_RelativeDRMS_None', 177.98740242882045)]"
       ]
      },
      {
       "output_type": "stream",
       "stream": "stdout",
       "text": [
        "\n",
        "525\n",
        "[('SimplifiedModel_Reference_RelativeDRMS_None', 174.66361001240224)]"
       ]
      },
      {
       "output_type": "stream",
       "stream": "stdout",
       "text": [
        "\n",
        "526\n",
        "[('SimplifiedModel_Reference_RelativeDRMS_None', 169.24614554174377)]"
       ]
      },
      {
       "output_type": "stream",
       "stream": "stdout",
       "text": [
        "\n",
        "527\n",
        "[('SimplifiedModel_Reference_RelativeDRMS_None', 171.25201504221485)]"
       ]
      },
      {
       "output_type": "stream",
       "stream": "stdout",
       "text": [
        "\n",
        "528\n",
        "[('SimplifiedModel_Reference_RelativeDRMS_None', 170.1525792811894)]"
       ]
      },
      {
       "output_type": "stream",
       "stream": "stdout",
       "text": [
        "\n",
        "529\n",
        "[('SimplifiedModel_Reference_RelativeDRMS_None', 168.7348401212924)]"
       ]
      },
      {
       "output_type": "stream",
       "stream": "stdout",
       "text": [
        "\n",
        "530\n",
        "[('SimplifiedModel_Reference_RelativeDRMS_None', 166.74877779950492)]"
       ]
      },
      {
       "output_type": "stream",
       "stream": "stdout",
       "text": [
        "\n",
        "531\n",
        "[('SimplifiedModel_Reference_RelativeDRMS_None', 163.6398732876108)]"
       ]
      },
      {
       "output_type": "stream",
       "stream": "stdout",
       "text": [
        "\n",
        "532\n",
        "[('SimplifiedModel_Reference_RelativeDRMS_None', 162.29134165744298)]"
       ]
      },
      {
       "output_type": "stream",
       "stream": "stdout",
       "text": [
        "\n",
        "533\n",
        "[('SimplifiedModel_Reference_RelativeDRMS_None', 165.82020408224636)]"
       ]
      },
      {
       "output_type": "stream",
       "stream": "stdout",
       "text": [
        "\n",
        "534\n",
        "[('SimplifiedModel_Reference_RelativeDRMS_None', 165.94007650690006)]"
       ]
      },
      {
       "output_type": "stream",
       "stream": "stdout",
       "text": [
        "\n",
        "535\n",
        "[('SimplifiedModel_Reference_RelativeDRMS_None', 169.3411589435851)]"
       ]
      },
      {
       "output_type": "stream",
       "stream": "stdout",
       "text": [
        "\n",
        "536\n",
        "[('SimplifiedModel_Reference_RelativeDRMS_None', 171.52459705530333)]"
       ]
      },
      {
       "output_type": "stream",
       "stream": "stdout",
       "text": [
        "\n",
        "537\n",
        "[('SimplifiedModel_Reference_RelativeDRMS_None', 173.52742809985511)]"
       ]
      },
      {
       "output_type": "stream",
       "stream": "stdout",
       "text": [
        "\n",
        "538\n",
        "[('SimplifiedModel_Reference_RelativeDRMS_None', 175.78306522267576)]"
       ]
      },
      {
       "output_type": "stream",
       "stream": "stdout",
       "text": [
        "\n",
        "539\n",
        "[('SimplifiedModel_Reference_RelativeDRMS_None', 176.13122661414891)]"
       ]
      },
      {
       "output_type": "stream",
       "stream": "stdout",
       "text": [
        "\n",
        "540\n",
        "[('SimplifiedModel_Reference_RelativeDRMS_None', 180.08351554892)]"
       ]
      },
      {
       "output_type": "stream",
       "stream": "stdout",
       "text": [
        "\n",
        "541\n",
        "[('SimplifiedModel_Reference_RelativeDRMS_None', 180.56142996690474)]"
       ]
      },
      {
       "output_type": "stream",
       "stream": "stdout",
       "text": [
        "\n",
        "542\n",
        "[('SimplifiedModel_Reference_RelativeDRMS_None', 182.42528800154457)]"
       ]
      },
      {
       "output_type": "stream",
       "stream": "stdout",
       "text": [
        "\n",
        "543\n",
        "[('SimplifiedModel_Reference_RelativeDRMS_None', 180.02252556559637)]"
       ]
      },
      {
       "output_type": "stream",
       "stream": "stdout",
       "text": [
        "\n",
        "544\n",
        "[('SimplifiedModel_Reference_RelativeDRMS_None', 175.75124678650457)]"
       ]
      },
      {
       "output_type": "stream",
       "stream": "stdout",
       "text": [
        "\n",
        "545\n",
        "[('SimplifiedModel_Reference_RelativeDRMS_None', 170.3387905676546)]"
       ]
      },
      {
       "output_type": "stream",
       "stream": "stdout",
       "text": [
        "\n",
        "546\n",
        "[('SimplifiedModel_Reference_RelativeDRMS_None', 170.99048372723334)]"
       ]
      },
      {
       "output_type": "stream",
       "stream": "stdout",
       "text": [
        "\n",
        "547\n",
        "[('SimplifiedModel_Reference_RelativeDRMS_None', 170.5114792224762)]"
       ]
      },
      {
       "output_type": "stream",
       "stream": "stdout",
       "text": [
        "\n",
        "548\n",
        "[('SimplifiedModel_Reference_RelativeDRMS_None', 167.70654641341784)]"
       ]
      },
      {
       "output_type": "stream",
       "stream": "stdout",
       "text": [
        "\n",
        "549\n",
        "[('SimplifiedModel_Reference_RelativeDRMS_None', 173.0328769977572)]"
       ]
      },
      {
       "output_type": "stream",
       "stream": "stdout",
       "text": [
        "\n",
        "550\n",
        "[('SimplifiedModel_Reference_RelativeDRMS_None', 166.31713823881046)]"
       ]
      },
      {
       "output_type": "stream",
       "stream": "stdout",
       "text": [
        "\n",
        "551\n",
        "[('SimplifiedModel_Reference_RelativeDRMS_None', 165.61320697649703)]"
       ]
      },
      {
       "output_type": "stream",
       "stream": "stdout",
       "text": [
        "\n",
        "552\n",
        "[('SimplifiedModel_Reference_RelativeDRMS_None', 162.3936813836082)]"
       ]
      },
      {
       "output_type": "stream",
       "stream": "stdout",
       "text": [
        "\n",
        "553\n",
        "[('SimplifiedModel_Reference_RelativeDRMS_None', 162.01104099560538)]"
       ]
      },
      {
       "output_type": "stream",
       "stream": "stdout",
       "text": [
        "\n",
        "554\n",
        "[('SimplifiedModel_Reference_RelativeDRMS_None', 160.68312041875242)]"
       ]
      },
      {
       "output_type": "stream",
       "stream": "stdout",
       "text": [
        "\n",
        "555\n",
        "[('SimplifiedModel_Reference_RelativeDRMS_None', 160.82029592304588)]"
       ]
      },
      {
       "output_type": "stream",
       "stream": "stdout",
       "text": [
        "\n",
        "556\n",
        "[('SimplifiedModel_Reference_RelativeDRMS_None', 160.8693004899012)]"
       ]
      },
      {
       "output_type": "stream",
       "stream": "stdout",
       "text": [
        "\n",
        "557\n",
        "[('SimplifiedModel_Reference_RelativeDRMS_None', 159.0298022920123)]"
       ]
      },
      {
       "output_type": "stream",
       "stream": "stdout",
       "text": [
        "\n",
        "558\n",
        "[('SimplifiedModel_Reference_RelativeDRMS_None', 155.91715066094847)]"
       ]
      },
      {
       "output_type": "stream",
       "stream": "stdout",
       "text": [
        "\n",
        "559\n",
        "[('SimplifiedModel_Reference_RelativeDRMS_None', 151.92405932843047)]"
       ]
      },
      {
       "output_type": "stream",
       "stream": "stdout",
       "text": [
        "\n",
        "560\n",
        "[('SimplifiedModel_Reference_RelativeDRMS_None', 152.92177603572011)]"
       ]
      },
      {
       "output_type": "stream",
       "stream": "stdout",
       "text": [
        "\n",
        "561\n",
        "[('SimplifiedModel_Reference_RelativeDRMS_None', 156.81110494363026)]"
       ]
      },
      {
       "output_type": "stream",
       "stream": "stdout",
       "text": [
        "\n",
        "562\n",
        "[('SimplifiedModel_Reference_RelativeDRMS_None', 157.5912280744616)]"
       ]
      },
      {
       "output_type": "stream",
       "stream": "stdout",
       "text": [
        "\n",
        "563\n",
        "[('SimplifiedModel_Reference_RelativeDRMS_None', 156.91202393448455)]"
       ]
      },
      {
       "output_type": "stream",
       "stream": "stdout",
       "text": [
        "\n",
        "564\n",
        "[('SimplifiedModel_Reference_RelativeDRMS_None', 157.84405318281208)]"
       ]
      },
      {
       "output_type": "stream",
       "stream": "stdout",
       "text": [
        "\n",
        "565\n",
        "[('SimplifiedModel_Reference_RelativeDRMS_None', 158.56293680430562)]"
       ]
      },
      {
       "output_type": "stream",
       "stream": "stdout",
       "text": [
        "\n",
        "566\n",
        "[('SimplifiedModel_Reference_RelativeDRMS_None', 158.9945331815797)]"
       ]
      },
      {
       "output_type": "stream",
       "stream": "stdout",
       "text": [
        "\n",
        "567\n",
        "[('SimplifiedModel_Reference_RelativeDRMS_None', 157.75061695710957)]"
       ]
      },
      {
       "output_type": "stream",
       "stream": "stdout",
       "text": [
        "\n",
        "568\n",
        "[('SimplifiedModel_Reference_RelativeDRMS_None', 158.1771766814453)]"
       ]
      },
      {
       "output_type": "stream",
       "stream": "stdout",
       "text": [
        "\n",
        "569\n",
        "[('SimplifiedModel_Reference_RelativeDRMS_None', 157.5584546441791)]"
       ]
      },
      {
       "output_type": "stream",
       "stream": "stdout",
       "text": [
        "\n",
        "570\n",
        "[('SimplifiedModel_Reference_RelativeDRMS_None', 156.8884330286834)]"
       ]
      },
      {
       "output_type": "stream",
       "stream": "stdout",
       "text": [
        "\n",
        "571\n",
        "[('SimplifiedModel_Reference_RelativeDRMS_None', 155.00505717991854)]"
       ]
      },
      {
       "output_type": "stream",
       "stream": "stdout",
       "text": [
        "\n",
        "572\n",
        "[('SimplifiedModel_Reference_RelativeDRMS_None', 156.13207482637026)]"
       ]
      },
      {
       "output_type": "stream",
       "stream": "stdout",
       "text": [
        "\n",
        "573\n",
        "[('SimplifiedModel_Reference_RelativeDRMS_None', 155.23680524883383)]"
       ]
      },
      {
       "output_type": "stream",
       "stream": "stdout",
       "text": [
        "\n",
        "574\n",
        "[('SimplifiedModel_Reference_RelativeDRMS_None', 154.04961893739855)]"
       ]
      },
      {
       "output_type": "stream",
       "stream": "stdout",
       "text": [
        "\n",
        "575\n",
        "[('SimplifiedModel_Reference_RelativeDRMS_None', 154.32533383897126)]"
       ]
      },
      {
       "output_type": "stream",
       "stream": "stdout",
       "text": [
        "\n",
        "576\n",
        "[('SimplifiedModel_Reference_RelativeDRMS_None', 154.6570098751284)]"
       ]
      },
      {
       "output_type": "stream",
       "stream": "stdout",
       "text": [
        "\n",
        "577\n",
        "[('SimplifiedModel_Reference_RelativeDRMS_None', 158.27422929411273)]"
       ]
      },
      {
       "output_type": "stream",
       "stream": "stdout",
       "text": [
        "\n",
        "578\n",
        "[('SimplifiedModel_Reference_RelativeDRMS_None', 158.24464223338774)]"
       ]
      },
      {
       "output_type": "stream",
       "stream": "stdout",
       "text": [
        "\n",
        "579\n",
        "[('SimplifiedModel_Reference_RelativeDRMS_None', 161.21048701377407)]"
       ]
      },
      {
       "output_type": "stream",
       "stream": "stdout",
       "text": [
        "\n",
        "580\n",
        "[('SimplifiedModel_Reference_RelativeDRMS_None', 164.8640867008053)]"
       ]
      },
      {
       "output_type": "stream",
       "stream": "stdout",
       "text": [
        "\n",
        "581\n",
        "[('SimplifiedModel_Reference_RelativeDRMS_None', 162.5790139022047)]"
       ]
      },
      {
       "output_type": "stream",
       "stream": "stdout",
       "text": [
        "\n",
        "582\n",
        "[('SimplifiedModel_Reference_RelativeDRMS_None', 164.80144363025184)]"
       ]
      },
      {
       "output_type": "stream",
       "stream": "stdout",
       "text": [
        "\n",
        "583\n",
        "[('SimplifiedModel_Reference_RelativeDRMS_None', 163.8451382241735)]"
       ]
      },
      {
       "output_type": "stream",
       "stream": "stdout",
       "text": [
        "\n",
        "584\n",
        "[('SimplifiedModel_Reference_RelativeDRMS_None', 165.49022703444427)]"
       ]
      },
      {
       "output_type": "stream",
       "stream": "stdout",
       "text": [
        "\n",
        "585\n",
        "[('SimplifiedModel_Reference_RelativeDRMS_None', 164.36867597750276)]"
       ]
      },
      {
       "output_type": "stream",
       "stream": "stdout",
       "text": [
        "\n",
        "586\n",
        "[('SimplifiedModel_Reference_RelativeDRMS_None', 161.10214256102947)]"
       ]
      },
      {
       "output_type": "stream",
       "stream": "stdout",
       "text": [
        "\n",
        "587\n",
        "[('SimplifiedModel_Reference_RelativeDRMS_None', 164.32905255186748)]"
       ]
      },
      {
       "output_type": "stream",
       "stream": "stdout",
       "text": [
        "\n",
        "588\n",
        "[('SimplifiedModel_Reference_RelativeDRMS_None', 164.32142907449742)]"
       ]
      },
      {
       "output_type": "stream",
       "stream": "stdout",
       "text": [
        "\n",
        "589\n",
        "[('SimplifiedModel_Reference_RelativeDRMS_None', 167.77502453967196)]"
       ]
      },
      {
       "output_type": "stream",
       "stream": "stdout",
       "text": [
        "\n",
        "590\n",
        "[('SimplifiedModel_Reference_RelativeDRMS_None', 169.84938642385794)]"
       ]
      },
      {
       "output_type": "stream",
       "stream": "stdout",
       "text": [
        "\n",
        "591\n",
        "[('SimplifiedModel_Reference_RelativeDRMS_None', 169.46815985011688)]"
       ]
      },
      {
       "output_type": "stream",
       "stream": "stdout",
       "text": [
        "\n",
        "592\n",
        "[('SimplifiedModel_Reference_RelativeDRMS_None', 171.57855665673557)]"
       ]
      },
      {
       "output_type": "stream",
       "stream": "stdout",
       "text": [
        "\n",
        "593\n",
        "[('SimplifiedModel_Reference_RelativeDRMS_None', 171.42013762646297)]"
       ]
      },
      {
       "output_type": "stream",
       "stream": "stdout",
       "text": [
        "\n",
        "594\n",
        "[('SimplifiedModel_Reference_RelativeDRMS_None', 169.62737117232763)]"
       ]
      },
      {
       "output_type": "stream",
       "stream": "stdout",
       "text": [
        "\n",
        "595\n",
        "[('SimplifiedModel_Reference_RelativeDRMS_None', 170.97201843827463)]"
       ]
      },
      {
       "output_type": "stream",
       "stream": "stdout",
       "text": [
        "\n",
        "596\n",
        "[('SimplifiedModel_Reference_RelativeDRMS_None', 173.82700079063852)]"
       ]
      },
      {
       "output_type": "stream",
       "stream": "stdout",
       "text": [
        "\n",
        "597\n",
        "[('SimplifiedModel_Reference_RelativeDRMS_None', 176.31102120437612)]"
       ]
      },
      {
       "output_type": "stream",
       "stream": "stdout",
       "text": [
        "\n",
        "598\n",
        "[('SimplifiedModel_Reference_RelativeDRMS_None', 175.24781210815698)]"
       ]
      },
      {
       "output_type": "stream",
       "stream": "stdout",
       "text": [
        "\n",
        "599\n",
        "[('SimplifiedModel_Reference_RelativeDRMS_None', 176.82185251232923)]"
       ]
      },
      {
       "output_type": "stream",
       "stream": "stdout",
       "text": [
        "\n",
        "600\n",
        "[('SimplifiedModel_Reference_RelativeDRMS_None', 171.16166479563032)]"
       ]
      },
      {
       "output_type": "stream",
       "stream": "stdout",
       "text": [
        "\n",
        "601\n",
        "[('SimplifiedModel_Reference_RelativeDRMS_None', 171.4318948698215)]"
       ]
      },
      {
       "output_type": "stream",
       "stream": "stdout",
       "text": [
        "\n",
        "602\n",
        "[('SimplifiedModel_Reference_RelativeDRMS_None', 169.375854111299)]"
       ]
      },
      {
       "output_type": "stream",
       "stream": "stdout",
       "text": [
        "\n",
        "603\n",
        "[('SimplifiedModel_Reference_RelativeDRMS_None', 168.84299502549575)]"
       ]
      },
      {
       "output_type": "stream",
       "stream": "stdout",
       "text": [
        "\n",
        "604\n",
        "[('SimplifiedModel_Reference_RelativeDRMS_None', 168.9824002057367)]"
       ]
      },
      {
       "output_type": "stream",
       "stream": "stdout",
       "text": [
        "\n",
        "605\n",
        "[('SimplifiedModel_Reference_RelativeDRMS_None', 174.2809542956933)]"
       ]
      },
      {
       "output_type": "stream",
       "stream": "stdout",
       "text": [
        "\n",
        "606\n",
        "[('SimplifiedModel_Reference_RelativeDRMS_None', 176.29351161165755)]"
       ]
      },
      {
       "output_type": "stream",
       "stream": "stdout",
       "text": [
        "\n",
        "607\n",
        "[('SimplifiedModel_Reference_RelativeDRMS_None', 178.95198804015928)]"
       ]
      },
      {
       "output_type": "stream",
       "stream": "stdout",
       "text": [
        "\n",
        "608\n",
        "[('SimplifiedModel_Reference_RelativeDRMS_None', 174.87730577718654)]"
       ]
      },
      {
       "output_type": "stream",
       "stream": "stdout",
       "text": [
        "\n",
        "609\n",
        "[('SimplifiedModel_Reference_RelativeDRMS_None', 173.7650073598734)]"
       ]
      },
      {
       "output_type": "stream",
       "stream": "stdout",
       "text": [
        "\n",
        "610\n",
        "[('SimplifiedModel_Reference_RelativeDRMS_None', 173.5094566751311)]"
       ]
      },
      {
       "output_type": "stream",
       "stream": "stdout",
       "text": [
        "\n",
        "611\n",
        "[('SimplifiedModel_Reference_RelativeDRMS_None', 176.1099752054679)]"
       ]
      },
      {
       "output_type": "stream",
       "stream": "stdout",
       "text": [
        "\n",
        "612\n",
        "[('SimplifiedModel_Reference_RelativeDRMS_None', 178.78557554854854)]"
       ]
      },
      {
       "output_type": "stream",
       "stream": "stdout",
       "text": [
        "\n",
        "613\n",
        "[('SimplifiedModel_Reference_RelativeDRMS_None', 171.28079653101713)]"
       ]
      },
      {
       "output_type": "stream",
       "stream": "stdout",
       "text": [
        "\n",
        "614\n",
        "[('SimplifiedModel_Reference_RelativeDRMS_None', 168.94857614893914)]"
       ]
      },
      {
       "output_type": "stream",
       "stream": "stdout",
       "text": [
        "\n",
        "615\n",
        "[('SimplifiedModel_Reference_RelativeDRMS_None', 168.5609332823609)]"
       ]
      },
      {
       "output_type": "stream",
       "stream": "stdout",
       "text": [
        "\n",
        "616\n",
        "[('SimplifiedModel_Reference_RelativeDRMS_None', 168.96163020555827)]"
       ]
      },
      {
       "output_type": "stream",
       "stream": "stdout",
       "text": [
        "\n",
        "617\n",
        "[('SimplifiedModel_Reference_RelativeDRMS_None', 168.92346070673898)]"
       ]
      },
      {
       "output_type": "stream",
       "stream": "stdout",
       "text": [
        "\n",
        "618\n",
        "[('SimplifiedModel_Reference_RelativeDRMS_None', 170.7167093235543)]"
       ]
      },
      {
       "output_type": "stream",
       "stream": "stdout",
       "text": [
        "\n",
        "619\n",
        "[('SimplifiedModel_Reference_RelativeDRMS_None', 170.68154445036436)]"
       ]
      },
      {
       "output_type": "stream",
       "stream": "stdout",
       "text": [
        "\n",
        "620\n",
        "[('SimplifiedModel_Reference_RelativeDRMS_None', 167.03864722199765)]"
       ]
      },
      {
       "output_type": "stream",
       "stream": "stdout",
       "text": [
        "\n",
        "621\n",
        "[('SimplifiedModel_Reference_RelativeDRMS_None', 163.8468319686407)]"
       ]
      },
      {
       "output_type": "stream",
       "stream": "stdout",
       "text": [
        "\n",
        "622\n",
        "[('SimplifiedModel_Reference_RelativeDRMS_None', 160.55259800527955)]"
       ]
      },
      {
       "output_type": "stream",
       "stream": "stdout",
       "text": [
        "\n",
        "623\n",
        "[('SimplifiedModel_Reference_RelativeDRMS_None', 163.33791284310985)]"
       ]
      },
      {
       "output_type": "stream",
       "stream": "stdout",
       "text": [
        "\n",
        "624\n",
        "[('SimplifiedModel_Reference_RelativeDRMS_None', 158.6358669050367)]"
       ]
      },
      {
       "output_type": "stream",
       "stream": "stdout",
       "text": [
        "\n",
        "625\n",
        "[('SimplifiedModel_Reference_RelativeDRMS_None', 158.36287543541386)]"
       ]
      },
      {
       "output_type": "stream",
       "stream": "stdout",
       "text": [
        "\n",
        "626\n",
        "[('SimplifiedModel_Reference_RelativeDRMS_None', 157.2223356585767)]"
       ]
      },
      {
       "output_type": "stream",
       "stream": "stdout",
       "text": [
        "\n",
        "627\n",
        "[('SimplifiedModel_Reference_RelativeDRMS_None', 154.48126109992123)]"
       ]
      },
      {
       "output_type": "stream",
       "stream": "stdout",
       "text": [
        "\n",
        "628\n",
        "[('SimplifiedModel_Reference_RelativeDRMS_None', 157.18362143532352)]"
       ]
      },
      {
       "output_type": "stream",
       "stream": "stdout",
       "text": [
        "\n",
        "629\n",
        "[('SimplifiedModel_Reference_RelativeDRMS_None', 158.65215476019964)]"
       ]
      },
      {
       "output_type": "stream",
       "stream": "stdout",
       "text": [
        "\n",
        "630\n",
        "[('SimplifiedModel_Reference_RelativeDRMS_None', 157.24543575508338)]"
       ]
      },
      {
       "output_type": "stream",
       "stream": "stdout",
       "text": [
        "\n",
        "631\n",
        "[('SimplifiedModel_Reference_RelativeDRMS_None', 159.3302647988273)]"
       ]
      },
      {
       "output_type": "stream",
       "stream": "stdout",
       "text": [
        "\n",
        "632\n",
        "[('SimplifiedModel_Reference_RelativeDRMS_None', 161.51538407331734)]"
       ]
      },
      {
       "output_type": "stream",
       "stream": "stdout",
       "text": [
        "\n",
        "633\n",
        "[('SimplifiedModel_Reference_RelativeDRMS_None', 161.77660495388648)]"
       ]
      },
      {
       "output_type": "stream",
       "stream": "stdout",
       "text": [
        "\n",
        "634\n",
        "[('SimplifiedModel_Reference_RelativeDRMS_None', 162.12313174588937)]"
       ]
      },
      {
       "output_type": "stream",
       "stream": "stdout",
       "text": [
        "\n",
        "635\n",
        "[('SimplifiedModel_Reference_RelativeDRMS_None', 164.20036059827785)]"
       ]
      },
      {
       "output_type": "stream",
       "stream": "stdout",
       "text": [
        "\n",
        "636\n",
        "[('SimplifiedModel_Reference_RelativeDRMS_None', 160.74651489465273)]"
       ]
      },
      {
       "output_type": "stream",
       "stream": "stdout",
       "text": [
        "\n",
        "637\n",
        "[('SimplifiedModel_Reference_RelativeDRMS_None', 160.46884011910768)]"
       ]
      },
      {
       "output_type": "stream",
       "stream": "stdout",
       "text": [
        "\n",
        "638\n",
        "[('SimplifiedModel_Reference_RelativeDRMS_None', 161.4801214840697)]"
       ]
      },
      {
       "output_type": "stream",
       "stream": "stdout",
       "text": [
        "\n",
        "639\n",
        "[('SimplifiedModel_Reference_RelativeDRMS_None', 160.35137897247893)]"
       ]
      },
      {
       "output_type": "stream",
       "stream": "stdout",
       "text": [
        "\n",
        "640\n",
        "[('SimplifiedModel_Reference_RelativeDRMS_None', 160.57947663002068)]"
       ]
      },
      {
       "output_type": "stream",
       "stream": "stdout",
       "text": [
        "\n",
        "641\n",
        "[('SimplifiedModel_Reference_RelativeDRMS_None', 160.50206984264145)]"
       ]
      },
      {
       "output_type": "stream",
       "stream": "stdout",
       "text": [
        "\n",
        "642\n",
        "[('SimplifiedModel_Reference_RelativeDRMS_None', 162.31668592770686)]"
       ]
      },
      {
       "output_type": "stream",
       "stream": "stdout",
       "text": [
        "\n",
        "643\n",
        "[('SimplifiedModel_Reference_RelativeDRMS_None', 162.11283088677095)]"
       ]
      },
      {
       "output_type": "stream",
       "stream": "stdout",
       "text": [
        "\n",
        "644\n",
        "[('SimplifiedModel_Reference_RelativeDRMS_None', 163.1469455614843)]"
       ]
      },
      {
       "output_type": "stream",
       "stream": "stdout",
       "text": [
        "\n",
        "645\n",
        "[('SimplifiedModel_Reference_RelativeDRMS_None', 164.34121150956332)]"
       ]
      },
      {
       "output_type": "stream",
       "stream": "stdout",
       "text": [
        "\n",
        "646\n",
        "[('SimplifiedModel_Reference_RelativeDRMS_None', 163.51584485994738)]"
       ]
      },
      {
       "output_type": "stream",
       "stream": "stdout",
       "text": [
        "\n",
        "647\n",
        "[('SimplifiedModel_Reference_RelativeDRMS_None', 158.63565276235485)]"
       ]
      },
      {
       "output_type": "stream",
       "stream": "stdout",
       "text": [
        "\n",
        "648\n",
        "[('SimplifiedModel_Reference_RelativeDRMS_None', 158.00960325017047)]"
       ]
      },
      {
       "output_type": "stream",
       "stream": "stdout",
       "text": [
        "\n",
        "649\n",
        "[('SimplifiedModel_Reference_RelativeDRMS_None', 159.33702678175987)]"
       ]
      },
      {
       "output_type": "stream",
       "stream": "stdout",
       "text": [
        "\n",
        "650\n",
        "[('SimplifiedModel_Reference_RelativeDRMS_None', 159.82686600643532)]"
       ]
      },
      {
       "output_type": "stream",
       "stream": "stdout",
       "text": [
        "\n",
        "651\n",
        "[('SimplifiedModel_Reference_RelativeDRMS_None', 162.16278103136187)]"
       ]
      },
      {
       "output_type": "stream",
       "stream": "stdout",
       "text": [
        "\n",
        "652\n",
        "[('SimplifiedModel_Reference_RelativeDRMS_None', 162.20202156537772)]"
       ]
      },
      {
       "output_type": "stream",
       "stream": "stdout",
       "text": [
        "\n",
        "653\n",
        "[('SimplifiedModel_Reference_RelativeDRMS_None', 161.3626560482247)]"
       ]
      },
      {
       "output_type": "stream",
       "stream": "stdout",
       "text": [
        "\n",
        "654\n",
        "[('SimplifiedModel_Reference_RelativeDRMS_None', 160.91764673105698)]"
       ]
      },
      {
       "output_type": "stream",
       "stream": "stdout",
       "text": [
        "\n",
        "655\n",
        "[('SimplifiedModel_Reference_RelativeDRMS_None', 162.45223393442103)]"
       ]
      },
      {
       "output_type": "stream",
       "stream": "stdout",
       "text": [
        "\n",
        "656\n",
        "[('SimplifiedModel_Reference_RelativeDRMS_None', 162.45199972632557)]"
       ]
      },
      {
       "output_type": "stream",
       "stream": "stdout",
       "text": [
        "\n",
        "657\n",
        "[('SimplifiedModel_Reference_RelativeDRMS_None', 159.6903967004178)]"
       ]
      },
      {
       "output_type": "stream",
       "stream": "stdout",
       "text": [
        "\n",
        "658\n",
        "[('SimplifiedModel_Reference_RelativeDRMS_None', 158.33154850468665)]"
       ]
      },
      {
       "output_type": "stream",
       "stream": "stdout",
       "text": [
        "\n",
        "659\n",
        "[('SimplifiedModel_Reference_RelativeDRMS_None', 158.73614793399128)]"
       ]
      },
      {
       "output_type": "stream",
       "stream": "stdout",
       "text": [
        "\n",
        "660\n",
        "[('SimplifiedModel_Reference_RelativeDRMS_None', 158.7717888258548)]"
       ]
      },
      {
       "output_type": "stream",
       "stream": "stdout",
       "text": [
        "\n",
        "661\n",
        "[('SimplifiedModel_Reference_RelativeDRMS_None', 156.13904440110852)]"
       ]
      },
      {
       "output_type": "stream",
       "stream": "stdout",
       "text": [
        "\n",
        "662\n",
        "[('SimplifiedModel_Reference_RelativeDRMS_None', 159.15835685431264)]"
       ]
      },
      {
       "output_type": "stream",
       "stream": "stdout",
       "text": [
        "\n",
        "663\n",
        "[('SimplifiedModel_Reference_RelativeDRMS_None', 158.6090544804175)]"
       ]
      },
      {
       "output_type": "stream",
       "stream": "stdout",
       "text": [
        "\n",
        "664\n",
        "[('SimplifiedModel_Reference_RelativeDRMS_None', 161.08582020102398)]"
       ]
      },
      {
       "output_type": "stream",
       "stream": "stdout",
       "text": [
        "\n",
        "665\n",
        "[('SimplifiedModel_Reference_RelativeDRMS_None', 161.33745473633536)]"
       ]
      },
      {
       "output_type": "stream",
       "stream": "stdout",
       "text": [
        "\n",
        "666\n",
        "[('SimplifiedModel_Reference_RelativeDRMS_None', 161.29797545017834)]"
       ]
      },
      {
       "output_type": "stream",
       "stream": "stdout",
       "text": [
        "\n",
        "667\n",
        "[('SimplifiedModel_Reference_RelativeDRMS_None', 159.19115640994553)]"
       ]
      },
      {
       "output_type": "stream",
       "stream": "stdout",
       "text": [
        "\n",
        "668\n",
        "[('SimplifiedModel_Reference_RelativeDRMS_None', 155.84056076617435)]"
       ]
      },
      {
       "output_type": "stream",
       "stream": "stdout",
       "text": [
        "\n",
        "669\n",
        "[('SimplifiedModel_Reference_RelativeDRMS_None', 153.15890951828104)]"
       ]
      },
      {
       "output_type": "stream",
       "stream": "stdout",
       "text": [
        "\n",
        "670\n",
        "[('SimplifiedModel_Reference_RelativeDRMS_None', 151.81811453042815)]"
       ]
      },
      {
       "output_type": "stream",
       "stream": "stdout",
       "text": [
        "\n",
        "671\n",
        "[('SimplifiedModel_Reference_RelativeDRMS_None', 154.67506006640872)]"
       ]
      },
      {
       "output_type": "stream",
       "stream": "stdout",
       "text": [
        "\n",
        "672\n",
        "[('SimplifiedModel_Reference_RelativeDRMS_None', 153.8975720638397)]"
       ]
      },
      {
       "output_type": "stream",
       "stream": "stdout",
       "text": [
        "\n",
        "673\n",
        "[('SimplifiedModel_Reference_RelativeDRMS_None', 151.34939813105518)]"
       ]
      },
      {
       "output_type": "stream",
       "stream": "stdout",
       "text": [
        "\n",
        "674\n",
        "[('SimplifiedModel_Reference_RelativeDRMS_None', 148.3338690755775)]"
       ]
      },
      {
       "output_type": "stream",
       "stream": "stdout",
       "text": [
        "\n",
        "675\n",
        "[('SimplifiedModel_Reference_RelativeDRMS_None', 147.81423165761112)]"
       ]
      },
      {
       "output_type": "stream",
       "stream": "stdout",
       "text": [
        "\n",
        "676\n",
        "[('SimplifiedModel_Reference_RelativeDRMS_None', 146.97580684467906)]"
       ]
      },
      {
       "output_type": "stream",
       "stream": "stdout",
       "text": [
        "\n",
        "677\n",
        "[('SimplifiedModel_Reference_RelativeDRMS_None', 148.04641429314063)]"
       ]
      },
      {
       "output_type": "stream",
       "stream": "stdout",
       "text": [
        "\n",
        "678\n",
        "[('SimplifiedModel_Reference_RelativeDRMS_None', 143.8982313359943)]"
       ]
      },
      {
       "output_type": "stream",
       "stream": "stdout",
       "text": [
        "\n",
        "679\n",
        "[('SimplifiedModel_Reference_RelativeDRMS_None', 147.5333368204146)]"
       ]
      },
      {
       "output_type": "stream",
       "stream": "stdout",
       "text": [
        "\n",
        "680\n",
        "[('SimplifiedModel_Reference_RelativeDRMS_None', 145.48806131847616)]"
       ]
      },
      {
       "output_type": "stream",
       "stream": "stdout",
       "text": [
        "\n",
        "681\n",
        "[('SimplifiedModel_Reference_RelativeDRMS_None', 144.08008654428795)]"
       ]
      },
      {
       "output_type": "stream",
       "stream": "stdout",
       "text": [
        "\n",
        "682\n",
        "[('SimplifiedModel_Reference_RelativeDRMS_None', 144.23082075632732)]"
       ]
      },
      {
       "output_type": "stream",
       "stream": "stdout",
       "text": [
        "\n",
        "683\n",
        "[('SimplifiedModel_Reference_RelativeDRMS_None', 143.16347549379927)]"
       ]
      },
      {
       "output_type": "stream",
       "stream": "stdout",
       "text": [
        "\n",
        "684\n",
        "[('SimplifiedModel_Reference_RelativeDRMS_None', 139.52712765860934)]"
       ]
      },
      {
       "output_type": "stream",
       "stream": "stdout",
       "text": [
        "\n",
        "685\n",
        "[('SimplifiedModel_Reference_RelativeDRMS_None', 139.4633152327147)]"
       ]
      },
      {
       "output_type": "stream",
       "stream": "stdout",
       "text": [
        "\n",
        "686\n",
        "[('SimplifiedModel_Reference_RelativeDRMS_None', 141.4187189095775)]"
       ]
      },
      {
       "output_type": "stream",
       "stream": "stdout",
       "text": [
        "\n",
        "687\n",
        "[('SimplifiedModel_Reference_RelativeDRMS_None', 139.26885813435678)]"
       ]
      },
      {
       "output_type": "stream",
       "stream": "stdout",
       "text": [
        "\n",
        "688\n",
        "[('SimplifiedModel_Reference_RelativeDRMS_None', 139.58016583880107)]"
       ]
      },
      {
       "output_type": "stream",
       "stream": "stdout",
       "text": [
        "\n",
        "689\n",
        "[('SimplifiedModel_Reference_RelativeDRMS_None', 144.51468219598374)]"
       ]
      },
      {
       "output_type": "stream",
       "stream": "stdout",
       "text": [
        "\n",
        "690\n",
        "[('SimplifiedModel_Reference_RelativeDRMS_None', 142.60365012736634)]"
       ]
      },
      {
       "output_type": "stream",
       "stream": "stdout",
       "text": [
        "\n",
        "691\n",
        "[('SimplifiedModel_Reference_RelativeDRMS_None', 145.55927698682035)]"
       ]
      },
      {
       "output_type": "stream",
       "stream": "stdout",
       "text": [
        "\n",
        "692\n",
        "[('SimplifiedModel_Reference_RelativeDRMS_None', 142.77334747913469)]"
       ]
      },
      {
       "output_type": "stream",
       "stream": "stdout",
       "text": [
        "\n",
        "693\n",
        "[('SimplifiedModel_Reference_RelativeDRMS_None', 143.00022590315504)]"
       ]
      },
      {
       "output_type": "stream",
       "stream": "stdout",
       "text": [
        "\n",
        "694\n",
        "[('SimplifiedModel_Reference_RelativeDRMS_None', 140.748188718674)]"
       ]
      },
      {
       "output_type": "stream",
       "stream": "stdout",
       "text": [
        "\n",
        "695\n",
        "[('SimplifiedModel_Reference_RelativeDRMS_None', 143.8281758293122)]"
       ]
      },
      {
       "output_type": "stream",
       "stream": "stdout",
       "text": [
        "\n",
        "696\n",
        "[('SimplifiedModel_Reference_RelativeDRMS_None', 143.70243609905435)]"
       ]
      },
      {
       "output_type": "stream",
       "stream": "stdout",
       "text": [
        "\n",
        "697\n",
        "[('SimplifiedModel_Reference_RelativeDRMS_None', 147.20725867654278)]"
       ]
      },
      {
       "output_type": "stream",
       "stream": "stdout",
       "text": [
        "\n",
        "698\n",
        "[('SimplifiedModel_Reference_RelativeDRMS_None', 147.0023240329864)]"
       ]
      },
      {
       "output_type": "stream",
       "stream": "stdout",
       "text": [
        "\n",
        "699\n",
        "[('SimplifiedModel_Reference_RelativeDRMS_None', 147.8260976789981)]"
       ]
      },
      {
       "output_type": "stream",
       "stream": "stdout",
       "text": [
        "\n",
        "700\n",
        "[('SimplifiedModel_Reference_RelativeDRMS_None', 147.72361723237566)]"
       ]
      },
      {
       "output_type": "stream",
       "stream": "stdout",
       "text": [
        "\n",
        "701\n",
        "[('SimplifiedModel_Reference_RelativeDRMS_None', 148.10967398578683)]"
       ]
      },
      {
       "output_type": "stream",
       "stream": "stdout",
       "text": [
        "\n",
        "702\n",
        "[('SimplifiedModel_Reference_RelativeDRMS_None', 144.862015712176)]"
       ]
      },
      {
       "output_type": "stream",
       "stream": "stdout",
       "text": [
        "\n",
        "703\n",
        "[('SimplifiedModel_Reference_RelativeDRMS_None', 147.12562008994573)]"
       ]
      },
      {
       "output_type": "stream",
       "stream": "stdout",
       "text": [
        "\n",
        "704\n",
        "[('SimplifiedModel_Reference_RelativeDRMS_None', 145.43178880764256)]"
       ]
      },
      {
       "output_type": "stream",
       "stream": "stdout",
       "text": [
        "\n",
        "705\n",
        "[('SimplifiedModel_Reference_RelativeDRMS_None', 145.79696127412524)]"
       ]
      },
      {
       "output_type": "stream",
       "stream": "stdout",
       "text": [
        "\n",
        "706\n",
        "[('SimplifiedModel_Reference_RelativeDRMS_None', 145.760917781378)]"
       ]
      },
      {
       "output_type": "stream",
       "stream": "stdout",
       "text": [
        "\n",
        "707\n",
        "[('SimplifiedModel_Reference_RelativeDRMS_None', 141.88175272465548)]"
       ]
      },
      {
       "output_type": "stream",
       "stream": "stdout",
       "text": [
        "\n",
        "708\n",
        "[('SimplifiedModel_Reference_RelativeDRMS_None', 145.96880944842104)]"
       ]
      },
      {
       "output_type": "stream",
       "stream": "stdout",
       "text": [
        "\n",
        "709\n",
        "[('SimplifiedModel_Reference_RelativeDRMS_None', 146.9830903195978)]"
       ]
      },
      {
       "output_type": "stream",
       "stream": "stdout",
       "text": [
        "\n",
        "710\n",
        "[('SimplifiedModel_Reference_RelativeDRMS_None', 152.1570178893006)]"
       ]
      },
      {
       "output_type": "stream",
       "stream": "stdout",
       "text": [
        "\n",
        "711\n",
        "[('SimplifiedModel_Reference_RelativeDRMS_None', 152.28284182019604)]"
       ]
      },
      {
       "output_type": "stream",
       "stream": "stdout",
       "text": [
        "\n",
        "712\n",
        "[('SimplifiedModel_Reference_RelativeDRMS_None', 151.67824369965197)]"
       ]
      },
      {
       "output_type": "stream",
       "stream": "stdout",
       "text": [
        "\n",
        "713\n",
        "[('SimplifiedModel_Reference_RelativeDRMS_None', 156.5352175071747)]"
       ]
      },
      {
       "output_type": "stream",
       "stream": "stdout",
       "text": [
        "\n",
        "714\n",
        "[('SimplifiedModel_Reference_RelativeDRMS_None', 155.1049734980553)]"
       ]
      },
      {
       "output_type": "stream",
       "stream": "stdout",
       "text": [
        "\n",
        "715\n",
        "[('SimplifiedModel_Reference_RelativeDRMS_None', 154.59069284133938)]"
       ]
      },
      {
       "output_type": "stream",
       "stream": "stdout",
       "text": [
        "\n",
        "716\n",
        "[('SimplifiedModel_Reference_RelativeDRMS_None', 152.4164783240106)]"
       ]
      },
      {
       "output_type": "stream",
       "stream": "stdout",
       "text": [
        "\n",
        "717\n",
        "[('SimplifiedModel_Reference_RelativeDRMS_None', 148.71980554267444)]"
       ]
      },
      {
       "output_type": "stream",
       "stream": "stdout",
       "text": [
        "\n",
        "718\n",
        "[('SimplifiedModel_Reference_RelativeDRMS_None', 146.22376931964592)]"
       ]
      },
      {
       "output_type": "stream",
       "stream": "stdout",
       "text": [
        "\n",
        "719\n",
        "[('SimplifiedModel_Reference_RelativeDRMS_None', 148.91146667261302)]"
       ]
      },
      {
       "output_type": "stream",
       "stream": "stdout",
       "text": [
        "\n",
        "720\n",
        "[('SimplifiedModel_Reference_RelativeDRMS_None', 152.5761935853036)]"
       ]
      },
      {
       "output_type": "stream",
       "stream": "stdout",
       "text": [
        "\n",
        "721\n",
        "[('SimplifiedModel_Reference_RelativeDRMS_None', 147.86559235627814)]"
       ]
      },
      {
       "output_type": "stream",
       "stream": "stdout",
       "text": [
        "\n",
        "722\n",
        "[('SimplifiedModel_Reference_RelativeDRMS_None', 150.93099903164955)]"
       ]
      },
      {
       "output_type": "stream",
       "stream": "stdout",
       "text": [
        "\n",
        "723\n",
        "[('SimplifiedModel_Reference_RelativeDRMS_None', 151.26481234773527)]"
       ]
      },
      {
       "output_type": "stream",
       "stream": "stdout",
       "text": [
        "\n",
        "724\n",
        "[('SimplifiedModel_Reference_RelativeDRMS_None', 153.61771997700907)]"
       ]
      },
      {
       "output_type": "stream",
       "stream": "stdout",
       "text": [
        "\n",
        "725\n",
        "[('SimplifiedModel_Reference_RelativeDRMS_None', 153.0877696209729)]"
       ]
      },
      {
       "output_type": "stream",
       "stream": "stdout",
       "text": [
        "\n",
        "726\n",
        "[('SimplifiedModel_Reference_RelativeDRMS_None', 156.03171584260994)]"
       ]
      },
      {
       "output_type": "stream",
       "stream": "stdout",
       "text": [
        "\n",
        "727\n",
        "[('SimplifiedModel_Reference_RelativeDRMS_None', 160.50343598547508)]"
       ]
      },
      {
       "output_type": "stream",
       "stream": "stdout",
       "text": [
        "\n",
        "728\n",
        "[('SimplifiedModel_Reference_RelativeDRMS_None', 159.91406062975426)]"
       ]
      },
      {
       "output_type": "stream",
       "stream": "stdout",
       "text": [
        "\n",
        "729\n",
        "[('SimplifiedModel_Reference_RelativeDRMS_None', 162.90802265066677)]"
       ]
      },
      {
       "output_type": "stream",
       "stream": "stdout",
       "text": [
        "\n",
        "730\n",
        "[('SimplifiedModel_Reference_RelativeDRMS_None', 161.81138877525507)]"
       ]
      },
      {
       "output_type": "stream",
       "stream": "stdout",
       "text": [
        "\n",
        "731\n",
        "[('SimplifiedModel_Reference_RelativeDRMS_None', 158.13253180553528)]"
       ]
      },
      {
       "output_type": "stream",
       "stream": "stdout",
       "text": [
        "\n",
        "732\n",
        "[('SimplifiedModel_Reference_RelativeDRMS_None', 154.27703765614638)]"
       ]
      },
      {
       "output_type": "stream",
       "stream": "stdout",
       "text": [
        "\n",
        "733\n",
        "[('SimplifiedModel_Reference_RelativeDRMS_None', 153.45799260918682)]"
       ]
      },
      {
       "output_type": "stream",
       "stream": "stdout",
       "text": [
        "\n",
        "734\n",
        "[('SimplifiedModel_Reference_RelativeDRMS_None', 158.83427072479364)]"
       ]
      },
      {
       "output_type": "stream",
       "stream": "stdout",
       "text": [
        "\n",
        "735\n",
        "[('SimplifiedModel_Reference_RelativeDRMS_None', 159.54423179210832)]"
       ]
      },
      {
       "output_type": "stream",
       "stream": "stdout",
       "text": [
        "\n",
        "736\n",
        "[('SimplifiedModel_Reference_RelativeDRMS_None', 156.3056777406276)]"
       ]
      },
      {
       "output_type": "stream",
       "stream": "stdout",
       "text": [
        "\n",
        "737\n",
        "[('SimplifiedModel_Reference_RelativeDRMS_None', 156.63295069767074)]"
       ]
      },
      {
       "output_type": "stream",
       "stream": "stdout",
       "text": [
        "\n",
        "738\n",
        "[('SimplifiedModel_Reference_RelativeDRMS_None', 152.26635033081922)]"
       ]
      },
      {
       "output_type": "stream",
       "stream": "stdout",
       "text": [
        "\n",
        "739\n",
        "[('SimplifiedModel_Reference_RelativeDRMS_None', 157.96528674076072)]"
       ]
      },
      {
       "output_type": "stream",
       "stream": "stdout",
       "text": [
        "\n",
        "740\n",
        "[('SimplifiedModel_Reference_RelativeDRMS_None', 159.03133554871312)]"
       ]
      },
      {
       "output_type": "stream",
       "stream": "stdout",
       "text": [
        "\n",
        "741\n",
        "[('SimplifiedModel_Reference_RelativeDRMS_None', 157.62425483179248)]"
       ]
      },
      {
       "output_type": "stream",
       "stream": "stdout",
       "text": [
        "\n",
        "742\n",
        "[('SimplifiedModel_Reference_RelativeDRMS_None', 160.9924083425102)]"
       ]
      },
      {
       "output_type": "stream",
       "stream": "stdout",
       "text": [
        "\n",
        "743\n",
        "[('SimplifiedModel_Reference_RelativeDRMS_None', 163.7308025660853)]"
       ]
      },
      {
       "output_type": "stream",
       "stream": "stdout",
       "text": [
        "\n",
        "744\n",
        "[('SimplifiedModel_Reference_RelativeDRMS_None', 164.4327757250002)]"
       ]
      },
      {
       "output_type": "stream",
       "stream": "stdout",
       "text": [
        "\n",
        "745\n",
        "[('SimplifiedModel_Reference_RelativeDRMS_None', 165.94557493914752)]"
       ]
      },
      {
       "output_type": "stream",
       "stream": "stdout",
       "text": [
        "\n",
        "746\n",
        "[('SimplifiedModel_Reference_RelativeDRMS_None', 169.75903379928644)]"
       ]
      },
      {
       "output_type": "stream",
       "stream": "stdout",
       "text": [
        "\n",
        "747\n",
        "[('SimplifiedModel_Reference_RelativeDRMS_None', 169.65845498794533)]"
       ]
      },
      {
       "output_type": "stream",
       "stream": "stdout",
       "text": [
        "\n",
        "748\n",
        "[('SimplifiedModel_Reference_RelativeDRMS_None', 169.31254844056934)]"
       ]
      },
      {
       "output_type": "stream",
       "stream": "stdout",
       "text": [
        "\n",
        "749\n",
        "[('SimplifiedModel_Reference_RelativeDRMS_None', 171.91161939191005)]"
       ]
      },
      {
       "output_type": "stream",
       "stream": "stdout",
       "text": [
        "\n",
        "750\n",
        "[('SimplifiedModel_Reference_RelativeDRMS_None', 167.66402552056385)]"
       ]
      },
      {
       "output_type": "stream",
       "stream": "stdout",
       "text": [
        "\n",
        "751\n",
        "[('SimplifiedModel_Reference_RelativeDRMS_None', 160.9098073833426)]"
       ]
      },
      {
       "output_type": "stream",
       "stream": "stdout",
       "text": [
        "\n",
        "752\n",
        "[('SimplifiedModel_Reference_RelativeDRMS_None', 160.3019043588249)]"
       ]
      },
      {
       "output_type": "stream",
       "stream": "stdout",
       "text": [
        "\n",
        "753\n",
        "[('SimplifiedModel_Reference_RelativeDRMS_None', 157.59628844412526)]"
       ]
      },
      {
       "output_type": "stream",
       "stream": "stdout",
       "text": [
        "\n",
        "754\n",
        "[('SimplifiedModel_Reference_RelativeDRMS_None', 160.13788758249044)]"
       ]
      },
      {
       "output_type": "stream",
       "stream": "stdout",
       "text": [
        "\n",
        "755\n",
        "[('SimplifiedModel_Reference_RelativeDRMS_None', 160.81629604458416)]"
       ]
      },
      {
       "output_type": "stream",
       "stream": "stdout",
       "text": [
        "\n",
        "756\n",
        "[('SimplifiedModel_Reference_RelativeDRMS_None', 158.1180183755389)]"
       ]
      },
      {
       "output_type": "stream",
       "stream": "stdout",
       "text": [
        "\n",
        "757\n",
        "[('SimplifiedModel_Reference_RelativeDRMS_None', 158.39482225381482)]"
       ]
      },
      {
       "output_type": "stream",
       "stream": "stdout",
       "text": [
        "\n",
        "758\n",
        "[('SimplifiedModel_Reference_RelativeDRMS_None', 157.02042175256506)]"
       ]
      },
      {
       "output_type": "stream",
       "stream": "stdout",
       "text": [
        "\n",
        "759\n",
        "[('SimplifiedModel_Reference_RelativeDRMS_None', 158.58252410098297)]"
       ]
      },
      {
       "output_type": "stream",
       "stream": "stdout",
       "text": [
        "\n",
        "760\n",
        "[('SimplifiedModel_Reference_RelativeDRMS_None', 162.68525434024943)]"
       ]
      },
      {
       "output_type": "stream",
       "stream": "stdout",
       "text": [
        "\n",
        "761\n",
        "[('SimplifiedModel_Reference_RelativeDRMS_None', 159.66314483182276)]"
       ]
      },
      {
       "output_type": "stream",
       "stream": "stdout",
       "text": [
        "\n",
        "762\n",
        "[('SimplifiedModel_Reference_RelativeDRMS_None', 165.07747836840548)]"
       ]
      },
      {
       "output_type": "stream",
       "stream": "stdout",
       "text": [
        "\n",
        "763\n",
        "[('SimplifiedModel_Reference_RelativeDRMS_None', 164.35493756398586)]"
       ]
      },
      {
       "output_type": "stream",
       "stream": "stdout",
       "text": [
        "\n",
        "764\n",
        "[('SimplifiedModel_Reference_RelativeDRMS_None', 162.2072336553639)]"
       ]
      },
      {
       "output_type": "stream",
       "stream": "stdout",
       "text": [
        "\n",
        "765\n",
        "[('SimplifiedModel_Reference_RelativeDRMS_None', 163.46446133962405)]"
       ]
      },
      {
       "output_type": "stream",
       "stream": "stdout",
       "text": [
        "\n",
        "766\n",
        "[('SimplifiedModel_Reference_RelativeDRMS_None', 168.34709404376662)]"
       ]
      },
      {
       "output_type": "stream",
       "stream": "stdout",
       "text": [
        "\n",
        "767\n",
        "[('SimplifiedModel_Reference_RelativeDRMS_None', 164.7978136442029)]"
       ]
      },
      {
       "output_type": "stream",
       "stream": "stdout",
       "text": [
        "\n",
        "768\n",
        "[('SimplifiedModel_Reference_RelativeDRMS_None', 160.76876047125646)]"
       ]
      },
      {
       "output_type": "stream",
       "stream": "stdout",
       "text": [
        "\n",
        "769\n",
        "[('SimplifiedModel_Reference_RelativeDRMS_None', 160.02593048975734)]"
       ]
      },
      {
       "output_type": "stream",
       "stream": "stdout",
       "text": [
        "\n",
        "770\n",
        "[('SimplifiedModel_Reference_RelativeDRMS_None', 160.34700880149666)]"
       ]
      },
      {
       "output_type": "stream",
       "stream": "stdout",
       "text": [
        "\n",
        "771\n",
        "[('SimplifiedModel_Reference_RelativeDRMS_None', 158.98551056236653)]"
       ]
      },
      {
       "output_type": "stream",
       "stream": "stdout",
       "text": [
        "\n",
        "772\n",
        "[('SimplifiedModel_Reference_RelativeDRMS_None', 156.750879713676)]"
       ]
      },
      {
       "output_type": "stream",
       "stream": "stdout",
       "text": [
        "\n",
        "773\n",
        "[('SimplifiedModel_Reference_RelativeDRMS_None', 159.86961343913757)]"
       ]
      },
      {
       "output_type": "stream",
       "stream": "stdout",
       "text": [
        "\n",
        "774\n",
        "[('SimplifiedModel_Reference_RelativeDRMS_None', 160.84921879575367)]"
       ]
      },
      {
       "output_type": "stream",
       "stream": "stdout",
       "text": [
        "\n",
        "775\n",
        "[('SimplifiedModel_Reference_RelativeDRMS_None', 164.75501243440397)]"
       ]
      },
      {
       "output_type": "stream",
       "stream": "stdout",
       "text": [
        "\n",
        "776\n",
        "[('SimplifiedModel_Reference_RelativeDRMS_None', 163.72220040119504)]"
       ]
      },
      {
       "output_type": "stream",
       "stream": "stdout",
       "text": [
        "\n",
        "777\n",
        "[('SimplifiedModel_Reference_RelativeDRMS_None', 162.1286057512873)]"
       ]
      },
      {
       "output_type": "stream",
       "stream": "stdout",
       "text": [
        "\n",
        "778\n",
        "[('SimplifiedModel_Reference_RelativeDRMS_None', 163.98250497319785)]"
       ]
      },
      {
       "output_type": "stream",
       "stream": "stdout",
       "text": [
        "\n",
        "779\n",
        "[('SimplifiedModel_Reference_RelativeDRMS_None', 163.3105774061608)]"
       ]
      },
      {
       "output_type": "stream",
       "stream": "stdout",
       "text": [
        "\n",
        "780\n",
        "[('SimplifiedModel_Reference_RelativeDRMS_None', 163.11162093261018)]"
       ]
      },
      {
       "output_type": "stream",
       "stream": "stdout",
       "text": [
        "\n",
        "781\n",
        "[('SimplifiedModel_Reference_RelativeDRMS_None', 158.09159868995533)]"
       ]
      },
      {
       "output_type": "stream",
       "stream": "stdout",
       "text": [
        "\n",
        "782\n",
        "[('SimplifiedModel_Reference_RelativeDRMS_None', 154.29699203546141)]"
       ]
      },
      {
       "output_type": "stream",
       "stream": "stdout",
       "text": [
        "\n",
        "783\n",
        "[('SimplifiedModel_Reference_RelativeDRMS_None', 157.15496840802805)]"
       ]
      },
      {
       "output_type": "stream",
       "stream": "stdout",
       "text": [
        "\n",
        "784\n",
        "[('SimplifiedModel_Reference_RelativeDRMS_None', 157.83623877261135)]"
       ]
      },
      {
       "output_type": "stream",
       "stream": "stdout",
       "text": [
        "\n",
        "785\n",
        "[('SimplifiedModel_Reference_RelativeDRMS_None', 158.73680869701516)]"
       ]
      },
      {
       "output_type": "stream",
       "stream": "stdout",
       "text": [
        "\n",
        "786\n",
        "[('SimplifiedModel_Reference_RelativeDRMS_None', 160.9001128275839)]"
       ]
      },
      {
       "output_type": "stream",
       "stream": "stdout",
       "text": [
        "\n",
        "787\n",
        "[('SimplifiedModel_Reference_RelativeDRMS_None', 163.07521423191977)]"
       ]
      },
      {
       "output_type": "stream",
       "stream": "stdout",
       "text": [
        "\n",
        "788\n",
        "[('SimplifiedModel_Reference_RelativeDRMS_None', 159.570646258703)]"
       ]
      },
      {
       "output_type": "stream",
       "stream": "stdout",
       "text": [
        "\n",
        "789\n",
        "[('SimplifiedModel_Reference_RelativeDRMS_None', 165.66449436423585)]"
       ]
      },
      {
       "output_type": "stream",
       "stream": "stdout",
       "text": [
        "\n",
        "790\n",
        "[('SimplifiedModel_Reference_RelativeDRMS_None', 165.2183408978972)]"
       ]
      },
      {
       "output_type": "stream",
       "stream": "stdout",
       "text": [
        "\n",
        "791\n",
        "[('SimplifiedModel_Reference_RelativeDRMS_None', 161.04666091046022)]"
       ]
      },
      {
       "output_type": "stream",
       "stream": "stdout",
       "text": [
        "\n",
        "792\n",
        "[('SimplifiedModel_Reference_RelativeDRMS_None', 158.8684119917813)]"
       ]
      },
      {
       "output_type": "stream",
       "stream": "stdout",
       "text": [
        "\n",
        "793\n",
        "[('SimplifiedModel_Reference_RelativeDRMS_None', 163.87425626861352)]"
       ]
      },
      {
       "output_type": "stream",
       "stream": "stdout",
       "text": [
        "\n",
        "794\n",
        "[('SimplifiedModel_Reference_RelativeDRMS_None', 161.80177475028736)]"
       ]
      },
      {
       "output_type": "stream",
       "stream": "stdout",
       "text": [
        "\n",
        "795\n",
        "[('SimplifiedModel_Reference_RelativeDRMS_None', 164.0319061730606)]"
       ]
      },
      {
       "output_type": "stream",
       "stream": "stdout",
       "text": [
        "\n",
        "796\n",
        "[('SimplifiedModel_Reference_RelativeDRMS_None', 168.69725217132446)]"
       ]
      },
      {
       "output_type": "stream",
       "stream": "stdout",
       "text": [
        "\n",
        "797\n",
        "[('SimplifiedModel_Reference_RelativeDRMS_None', 165.8356822734342)]"
       ]
      },
      {
       "output_type": "stream",
       "stream": "stdout",
       "text": [
        "\n",
        "798\n",
        "[('SimplifiedModel_Reference_RelativeDRMS_None', 166.4778872964674)]"
       ]
      },
      {
       "output_type": "stream",
       "stream": "stdout",
       "text": [
        "\n",
        "799\n",
        "[('SimplifiedModel_Reference_RelativeDRMS_None', 167.79650930427283)]"
       ]
      },
      {
       "output_type": "stream",
       "stream": "stdout",
       "text": [
        "\n",
        "800\n",
        "[('SimplifiedModel_Reference_RelativeDRMS_None', 168.3186183216293)]"
       ]
      },
      {
       "output_type": "stream",
       "stream": "stdout",
       "text": [
        "\n",
        "801\n",
        "[('SimplifiedModel_Reference_RelativeDRMS_None', 168.86563366167087)]"
       ]
      },
      {
       "output_type": "stream",
       "stream": "stdout",
       "text": [
        "\n",
        "802\n",
        "[('SimplifiedModel_Reference_RelativeDRMS_None', 168.57669646798485)]"
       ]
      },
      {
       "output_type": "stream",
       "stream": "stdout",
       "text": [
        "\n",
        "803\n",
        "[('SimplifiedModel_Reference_RelativeDRMS_None', 167.07715350724607)]"
       ]
      },
      {
       "output_type": "stream",
       "stream": "stdout",
       "text": [
        "\n",
        "804\n",
        "[('SimplifiedModel_Reference_RelativeDRMS_None', 170.65744541001396)]"
       ]
      },
      {
       "output_type": "stream",
       "stream": "stdout",
       "text": [
        "\n",
        "805\n",
        "[('SimplifiedModel_Reference_RelativeDRMS_None', 174.95239183808422)]"
       ]
      },
      {
       "output_type": "stream",
       "stream": "stdout",
       "text": [
        "\n",
        "806\n",
        "[('SimplifiedModel_Reference_RelativeDRMS_None', 171.7694845262974)]"
       ]
      },
      {
       "output_type": "stream",
       "stream": "stdout",
       "text": [
        "\n",
        "807\n",
        "[('SimplifiedModel_Reference_RelativeDRMS_None', 178.79134068078724)]"
       ]
      },
      {
       "output_type": "stream",
       "stream": "stdout",
       "text": [
        "\n",
        "808\n",
        "[('SimplifiedModel_Reference_RelativeDRMS_None', 177.7944934383387)]"
       ]
      },
      {
       "output_type": "stream",
       "stream": "stdout",
       "text": [
        "\n",
        "809\n",
        "[('SimplifiedModel_Reference_RelativeDRMS_None', 176.204289198487)]"
       ]
      },
      {
       "output_type": "stream",
       "stream": "stdout",
       "text": [
        "\n",
        "810\n",
        "[('SimplifiedModel_Reference_RelativeDRMS_None', 170.3377776794733)]"
       ]
      },
      {
       "output_type": "stream",
       "stream": "stdout",
       "text": [
        "\n",
        "811\n",
        "[('SimplifiedModel_Reference_RelativeDRMS_None', 166.48335163468954)]"
       ]
      },
      {
       "output_type": "stream",
       "stream": "stdout",
       "text": [
        "\n",
        "812\n",
        "[('SimplifiedModel_Reference_RelativeDRMS_None', 168.56958992847242)]"
       ]
      },
      {
       "output_type": "stream",
       "stream": "stdout",
       "text": [
        "\n",
        "813\n",
        "[('SimplifiedModel_Reference_RelativeDRMS_None', 166.61464098575777)]"
       ]
      },
      {
       "output_type": "stream",
       "stream": "stdout",
       "text": [
        "\n",
        "814\n",
        "[('SimplifiedModel_Reference_RelativeDRMS_None', 162.4492745963014)]"
       ]
      },
      {
       "output_type": "stream",
       "stream": "stdout",
       "text": [
        "\n",
        "815\n",
        "[('SimplifiedModel_Reference_RelativeDRMS_None', 162.23840115752242)]"
       ]
      },
      {
       "output_type": "stream",
       "stream": "stdout",
       "text": [
        "\n",
        "816\n",
        "[('SimplifiedModel_Reference_RelativeDRMS_None', 159.60236820075886)]"
       ]
      },
      {
       "output_type": "stream",
       "stream": "stdout",
       "text": [
        "\n",
        "817\n",
        "[('SimplifiedModel_Reference_RelativeDRMS_None', 159.71248311527174)]"
       ]
      },
      {
       "output_type": "stream",
       "stream": "stdout",
       "text": [
        "\n",
        "818\n",
        "[('SimplifiedModel_Reference_RelativeDRMS_None', 157.76237953178844)]"
       ]
      },
      {
       "output_type": "stream",
       "stream": "stdout",
       "text": [
        "\n",
        "819\n",
        "[('SimplifiedModel_Reference_RelativeDRMS_None', 163.40785583921226)]"
       ]
      },
      {
       "output_type": "stream",
       "stream": "stdout",
       "text": [
        "\n",
        "820\n",
        "[('SimplifiedModel_Reference_RelativeDRMS_None', 161.51270945647587)]"
       ]
      },
      {
       "output_type": "stream",
       "stream": "stdout",
       "text": [
        "\n",
        "821\n",
        "[('SimplifiedModel_Reference_RelativeDRMS_None', 162.18484767003457)]"
       ]
      },
      {
       "output_type": "stream",
       "stream": "stdout",
       "text": [
        "\n",
        "822\n",
        "[('SimplifiedModel_Reference_RelativeDRMS_None', 168.72841562156262)]"
       ]
      },
      {
       "output_type": "stream",
       "stream": "stdout",
       "text": [
        "\n",
        "823\n",
        "[('SimplifiedModel_Reference_RelativeDRMS_None', 173.62449676060916)]"
       ]
      },
      {
       "output_type": "stream",
       "stream": "stdout",
       "text": [
        "\n",
        "824\n",
        "[('SimplifiedModel_Reference_RelativeDRMS_None', 175.46419652527317)]"
       ]
      },
      {
       "output_type": "stream",
       "stream": "stdout",
       "text": [
        "\n",
        "825\n",
        "[('SimplifiedModel_Reference_RelativeDRMS_None', 172.5120636978094)]"
       ]
      },
      {
       "output_type": "stream",
       "stream": "stdout",
       "text": [
        "\n",
        "826\n",
        "[('SimplifiedModel_Reference_RelativeDRMS_None', 174.92928504187861)]"
       ]
      },
      {
       "output_type": "stream",
       "stream": "stdout",
       "text": [
        "\n",
        "827\n",
        "[('SimplifiedModel_Reference_RelativeDRMS_None', 168.19809259365184)]"
       ]
      },
      {
       "output_type": "stream",
       "stream": "stdout",
       "text": [
        "\n",
        "828\n",
        "[('SimplifiedModel_Reference_RelativeDRMS_None', 167.61835117621058)]"
       ]
      },
      {
       "output_type": "stream",
       "stream": "stdout",
       "text": [
        "\n",
        "829\n",
        "[('SimplifiedModel_Reference_RelativeDRMS_None', 169.777969822516)]"
       ]
      },
      {
       "output_type": "stream",
       "stream": "stdout",
       "text": [
        "\n",
        "830\n",
        "[('SimplifiedModel_Reference_RelativeDRMS_None', 168.64083315043646)]"
       ]
      },
      {
       "output_type": "stream",
       "stream": "stdout",
       "text": [
        "\n",
        "831\n",
        "[('SimplifiedModel_Reference_RelativeDRMS_None', 169.48885048601682)]"
       ]
      },
      {
       "output_type": "stream",
       "stream": "stdout",
       "text": [
        "\n",
        "832\n",
        "[('SimplifiedModel_Reference_RelativeDRMS_None', 172.26453404543258)]"
       ]
      },
      {
       "output_type": "stream",
       "stream": "stdout",
       "text": [
        "\n",
        "833\n",
        "[('SimplifiedModel_Reference_RelativeDRMS_None', 169.13189971491178)]"
       ]
      },
      {
       "output_type": "stream",
       "stream": "stdout",
       "text": [
        "\n",
        "834\n",
        "[('SimplifiedModel_Reference_RelativeDRMS_None', 167.30441975970191)]"
       ]
      },
      {
       "output_type": "stream",
       "stream": "stdout",
       "text": [
        "\n",
        "835\n",
        "[('SimplifiedModel_Reference_RelativeDRMS_None', 167.08210425339936)]"
       ]
      },
      {
       "output_type": "stream",
       "stream": "stdout",
       "text": [
        "\n",
        "836\n",
        "[('SimplifiedModel_Reference_RelativeDRMS_None', 168.00167837702)]"
       ]
      },
      {
       "output_type": "stream",
       "stream": "stdout",
       "text": [
        "\n",
        "837\n",
        "[('SimplifiedModel_Reference_RelativeDRMS_None', 175.51168018283582)]"
       ]
      },
      {
       "output_type": "stream",
       "stream": "stdout",
       "text": [
        "\n",
        "838\n",
        "[('SimplifiedModel_Reference_RelativeDRMS_None', 176.96252627602647)]"
       ]
      },
      {
       "output_type": "stream",
       "stream": "stdout",
       "text": [
        "\n",
        "839\n",
        "[('SimplifiedModel_Reference_RelativeDRMS_None', 175.15116006808603)]"
       ]
      },
      {
       "output_type": "stream",
       "stream": "stdout",
       "text": [
        "\n",
        "840\n",
        "[('SimplifiedModel_Reference_RelativeDRMS_None', 171.87513689230002)]"
       ]
      },
      {
       "output_type": "stream",
       "stream": "stdout",
       "text": [
        "\n",
        "841\n",
        "[('SimplifiedModel_Reference_RelativeDRMS_None', 176.35007439436964)]"
       ]
      },
      {
       "output_type": "stream",
       "stream": "stdout",
       "text": [
        "\n",
        "842\n",
        "[('SimplifiedModel_Reference_RelativeDRMS_None', 175.28209086147436)]"
       ]
      },
      {
       "output_type": "stream",
       "stream": "stdout",
       "text": [
        "\n",
        "843\n",
        "[('SimplifiedModel_Reference_RelativeDRMS_None', 177.21537574810338)]"
       ]
      },
      {
       "output_type": "stream",
       "stream": "stdout",
       "text": [
        "\n",
        "844\n",
        "[('SimplifiedModel_Reference_RelativeDRMS_None', 176.59617194460088)]"
       ]
      },
      {
       "output_type": "stream",
       "stream": "stdout",
       "text": [
        "\n",
        "845\n",
        "[('SimplifiedModel_Reference_RelativeDRMS_None', 173.05576868267073)]"
       ]
      },
      {
       "output_type": "stream",
       "stream": "stdout",
       "text": [
        "\n",
        "846\n",
        "[('SimplifiedModel_Reference_RelativeDRMS_None', 171.26590468971102)]"
       ]
      },
      {
       "output_type": "stream",
       "stream": "stdout",
       "text": [
        "\n",
        "847\n",
        "[('SimplifiedModel_Reference_RelativeDRMS_None', 179.78675315701742)]"
       ]
      },
      {
       "output_type": "stream",
       "stream": "stdout",
       "text": [
        "\n",
        "848\n",
        "[('SimplifiedModel_Reference_RelativeDRMS_None', 183.97425981145406)]"
       ]
      },
      {
       "output_type": "stream",
       "stream": "stdout",
       "text": [
        "\n",
        "849\n",
        "[('SimplifiedModel_Reference_RelativeDRMS_None', 185.75856619853704)]"
       ]
      },
      {
       "output_type": "stream",
       "stream": "stdout",
       "text": [
        "\n",
        "850\n",
        "[('SimplifiedModel_Reference_RelativeDRMS_None', 187.67650002785695)]"
       ]
      },
      {
       "output_type": "stream",
       "stream": "stdout",
       "text": [
        "\n",
        "851\n",
        "[('SimplifiedModel_Reference_RelativeDRMS_None', 194.40500273774452)]"
       ]
      },
      {
       "output_type": "stream",
       "stream": "stdout",
       "text": [
        "\n",
        "852\n",
        "[('SimplifiedModel_Reference_RelativeDRMS_None', 200.8729733467585)]"
       ]
      },
      {
       "output_type": "stream",
       "stream": "stdout",
       "text": [
        "\n",
        "853\n",
        "[('SimplifiedModel_Reference_RelativeDRMS_None', 200.92173447303034)]"
       ]
      },
      {
       "output_type": "stream",
       "stream": "stdout",
       "text": [
        "\n",
        "854\n",
        "[('SimplifiedModel_Reference_RelativeDRMS_None', 196.5514414605196)]"
       ]
      },
      {
       "output_type": "stream",
       "stream": "stdout",
       "text": [
        "\n",
        "855\n",
        "[('SimplifiedModel_Reference_RelativeDRMS_None', 202.95516285175944)]"
       ]
      },
      {
       "output_type": "stream",
       "stream": "stdout",
       "text": [
        "\n",
        "856\n",
        "[('SimplifiedModel_Reference_RelativeDRMS_None', 203.22466953164616)]"
       ]
      },
      {
       "output_type": "stream",
       "stream": "stdout",
       "text": [
        "\n",
        "857\n",
        "[('SimplifiedModel_Reference_RelativeDRMS_None', 199.68412574201648)]"
       ]
      },
      {
       "output_type": "stream",
       "stream": "stdout",
       "text": [
        "\n",
        "858\n",
        "[('SimplifiedModel_Reference_RelativeDRMS_None', 203.7097596966429)]"
       ]
      },
      {
       "output_type": "stream",
       "stream": "stdout",
       "text": [
        "\n",
        "859\n",
        "[('SimplifiedModel_Reference_RelativeDRMS_None', 203.5301641633055)]"
       ]
      },
      {
       "output_type": "stream",
       "stream": "stdout",
       "text": [
        "\n",
        "860\n",
        "[('SimplifiedModel_Reference_RelativeDRMS_None', 202.61482332076577)]"
       ]
      },
      {
       "output_type": "stream",
       "stream": "stdout",
       "text": [
        "\n",
        "861\n",
        "[('SimplifiedModel_Reference_RelativeDRMS_None', 203.58408950115142)]"
       ]
      },
      {
       "output_type": "stream",
       "stream": "stdout",
       "text": [
        "\n",
        "862\n",
        "[('SimplifiedModel_Reference_RelativeDRMS_None', 201.49785125354802)]"
       ]
      },
      {
       "output_type": "stream",
       "stream": "stdout",
       "text": [
        "\n",
        "863\n",
        "[('SimplifiedModel_Reference_RelativeDRMS_None', 201.30721332842327)]"
       ]
      },
      {
       "output_type": "stream",
       "stream": "stdout",
       "text": [
        "\n",
        "864\n",
        "[('SimplifiedModel_Reference_RelativeDRMS_None', 199.8676943258143)]"
       ]
      },
      {
       "output_type": "stream",
       "stream": "stdout",
       "text": [
        "\n",
        "865\n",
        "[('SimplifiedModel_Reference_RelativeDRMS_None', 200.07347302713907)]"
       ]
      },
      {
       "output_type": "stream",
       "stream": "stdout",
       "text": [
        "\n",
        "866\n",
        "[('SimplifiedModel_Reference_RelativeDRMS_None', 197.3933662099631)]"
       ]
      },
      {
       "output_type": "stream",
       "stream": "stdout",
       "text": [
        "\n",
        "867\n",
        "[('SimplifiedModel_Reference_RelativeDRMS_None', 199.2532274710906)]"
       ]
      },
      {
       "output_type": "stream",
       "stream": "stdout",
       "text": [
        "\n",
        "868\n",
        "[('SimplifiedModel_Reference_RelativeDRMS_None', 199.4589317831245)]"
       ]
      },
      {
       "output_type": "stream",
       "stream": "stdout",
       "text": [
        "\n",
        "869\n",
        "[('SimplifiedModel_Reference_RelativeDRMS_None', 199.5836495402111)]"
       ]
      },
      {
       "output_type": "stream",
       "stream": "stdout",
       "text": [
        "\n",
        "870\n",
        "[('SimplifiedModel_Reference_RelativeDRMS_None', 204.8249501644858)]"
       ]
      },
      {
       "output_type": "stream",
       "stream": "stdout",
       "text": [
        "\n",
        "871\n",
        "[('SimplifiedModel_Reference_RelativeDRMS_None', 201.24091392727897)]"
       ]
      },
      {
       "output_type": "stream",
       "stream": "stdout",
       "text": [
        "\n",
        "872\n",
        "[('SimplifiedModel_Reference_RelativeDRMS_None', 206.0328111592011)]"
       ]
      },
      {
       "output_type": "stream",
       "stream": "stdout",
       "text": [
        "\n",
        "873\n",
        "[('SimplifiedModel_Reference_RelativeDRMS_None', 206.09243109092807)]"
       ]
      },
      {
       "output_type": "stream",
       "stream": "stdout",
       "text": [
        "\n",
        "874\n",
        "[('SimplifiedModel_Reference_RelativeDRMS_None', 212.66464046958802)]"
       ]
      },
      {
       "output_type": "stream",
       "stream": "stdout",
       "text": [
        "\n",
        "875\n",
        "[('SimplifiedModel_Reference_RelativeDRMS_None', 215.9720091246308)]"
       ]
      },
      {
       "output_type": "stream",
       "stream": "stdout",
       "text": [
        "\n",
        "876\n",
        "[('SimplifiedModel_Reference_RelativeDRMS_None', 213.1792285057566)]"
       ]
      },
      {
       "output_type": "stream",
       "stream": "stdout",
       "text": [
        "\n",
        "877\n",
        "[('SimplifiedModel_Reference_RelativeDRMS_None', 215.60422529378508)]"
       ]
      },
      {
       "output_type": "stream",
       "stream": "stdout",
       "text": [
        "\n",
        "878\n",
        "[('SimplifiedModel_Reference_RelativeDRMS_None', 217.91380409696382)]"
       ]
      },
      {
       "output_type": "stream",
       "stream": "stdout",
       "text": [
        "\n",
        "879\n",
        "[('SimplifiedModel_Reference_RelativeDRMS_None', 219.21422215000882)]"
       ]
      },
      {
       "output_type": "stream",
       "stream": "stdout",
       "text": [
        "\n",
        "880\n",
        "[('SimplifiedModel_Reference_RelativeDRMS_None', 218.4610802106533)]"
       ]
      },
      {
       "output_type": "stream",
       "stream": "stdout",
       "text": [
        "\n",
        "881\n",
        "[('SimplifiedModel_Reference_RelativeDRMS_None', 225.42408332533114)]"
       ]
      },
      {
       "output_type": "stream",
       "stream": "stdout",
       "text": [
        "\n",
        "882\n",
        "[('SimplifiedModel_Reference_RelativeDRMS_None', 230.10327051094896)]"
       ]
      },
      {
       "output_type": "stream",
       "stream": "stdout",
       "text": [
        "\n",
        "883\n",
        "[('SimplifiedModel_Reference_RelativeDRMS_None', 232.643667097407)]"
       ]
      },
      {
       "output_type": "stream",
       "stream": "stdout",
       "text": [
        "\n",
        "884\n",
        "[('SimplifiedModel_Reference_RelativeDRMS_None', 235.73010198111683)]"
       ]
      },
      {
       "output_type": "stream",
       "stream": "stdout",
       "text": [
        "\n",
        "885\n",
        "[('SimplifiedModel_Reference_RelativeDRMS_None', 236.39123842909981)]"
       ]
      },
      {
       "output_type": "stream",
       "stream": "stdout",
       "text": [
        "\n",
        "886\n",
        "[('SimplifiedModel_Reference_RelativeDRMS_None', 246.492178694919)]"
       ]
      },
      {
       "output_type": "stream",
       "stream": "stdout",
       "text": [
        "\n",
        "887\n",
        "[('SimplifiedModel_Reference_RelativeDRMS_None', 252.01472204569)]"
       ]
      },
      {
       "output_type": "stream",
       "stream": "stdout",
       "text": [
        "\n",
        "888\n",
        "[('SimplifiedModel_Reference_RelativeDRMS_None', 244.49552790330307)]"
       ]
      },
      {
       "output_type": "stream",
       "stream": "stdout",
       "text": [
        "\n",
        "889\n",
        "[('SimplifiedModel_Reference_RelativeDRMS_None', 240.71837587179294)]"
       ]
      },
      {
       "output_type": "stream",
       "stream": "stdout",
       "text": [
        "\n",
        "890\n",
        "[('SimplifiedModel_Reference_RelativeDRMS_None', 243.76983397819544)]"
       ]
      },
      {
       "output_type": "stream",
       "stream": "stdout",
       "text": [
        "\n",
        "891\n",
        "[('SimplifiedModel_Reference_RelativeDRMS_None', 243.9550527110033)]"
       ]
      },
      {
       "output_type": "stream",
       "stream": "stdout",
       "text": [
        "\n",
        "892\n",
        "[('SimplifiedModel_Reference_RelativeDRMS_None', 249.89634866169857)]"
       ]
      },
      {
       "output_type": "stream",
       "stream": "stdout",
       "text": [
        "\n",
        "893\n",
        "[('SimplifiedModel_Reference_RelativeDRMS_None', 248.1406908552103)]"
       ]
      },
      {
       "output_type": "stream",
       "stream": "stdout",
       "text": [
        "\n",
        "894\n",
        "[('SimplifiedModel_Reference_RelativeDRMS_None', 246.5667631109112)]"
       ]
      },
      {
       "output_type": "stream",
       "stream": "stdout",
       "text": [
        "\n",
        "895\n",
        "[('SimplifiedModel_Reference_RelativeDRMS_None', 244.6037703451796)]"
       ]
      },
      {
       "output_type": "stream",
       "stream": "stdout",
       "text": [
        "\n",
        "896\n",
        "[('SimplifiedModel_Reference_RelativeDRMS_None', 240.88183547281298)]"
       ]
      },
      {
       "output_type": "stream",
       "stream": "stdout",
       "text": [
        "\n",
        "897\n",
        "[('SimplifiedModel_Reference_RelativeDRMS_None', 244.14017071335033)]"
       ]
      },
      {
       "output_type": "stream",
       "stream": "stdout",
       "text": [
        "\n",
        "898\n",
        "[('SimplifiedModel_Reference_RelativeDRMS_None', 243.46568706282517)]"
       ]
      },
      {
       "output_type": "stream",
       "stream": "stdout",
       "text": [
        "\n",
        "899\n",
        "[('SimplifiedModel_Reference_RelativeDRMS_None', 245.86578603590965)]"
       ]
      },
      {
       "output_type": "stream",
       "stream": "stdout",
       "text": [
        "\n",
        "900\n",
        "[('SimplifiedModel_Reference_RelativeDRMS_None', 248.47139104079451)]"
       ]
      },
      {
       "output_type": "stream",
       "stream": "stdout",
       "text": [
        "\n",
        "901\n",
        "[('SimplifiedModel_Reference_RelativeDRMS_None', 245.2882301103348)]"
       ]
      },
      {
       "output_type": "stream",
       "stream": "stdout",
       "text": [
        "\n",
        "902\n",
        "[('SimplifiedModel_Reference_RelativeDRMS_None', 243.93408684270364)]"
       ]
      },
      {
       "output_type": "stream",
       "stream": "stdout",
       "text": [
        "\n",
        "903\n",
        "[('SimplifiedModel_Reference_RelativeDRMS_None', 249.55991696876293)]"
       ]
      },
      {
       "output_type": "stream",
       "stream": "stdout",
       "text": [
        "\n",
        "904\n",
        "[('SimplifiedModel_Reference_RelativeDRMS_None', 248.16533803663572)]"
       ]
      },
      {
       "output_type": "stream",
       "stream": "stdout",
       "text": [
        "\n",
        "905\n",
        "[('SimplifiedModel_Reference_RelativeDRMS_None', 246.61137982560646)]"
       ]
      },
      {
       "output_type": "stream",
       "stream": "stdout",
       "text": [
        "\n",
        "906\n",
        "[('SimplifiedModel_Reference_RelativeDRMS_None', 248.17201083913912)]"
       ]
      },
      {
       "output_type": "stream",
       "stream": "stdout",
       "text": [
        "\n",
        "907\n",
        "[('SimplifiedModel_Reference_RelativeDRMS_None', 252.3582767424215)]"
       ]
      },
      {
       "output_type": "stream",
       "stream": "stdout",
       "text": [
        "\n",
        "908\n",
        "[('SimplifiedModel_Reference_RelativeDRMS_None', 257.2490823303472)]"
       ]
      },
      {
       "output_type": "stream",
       "stream": "stdout",
       "text": [
        "\n",
        "909\n",
        "[('SimplifiedModel_Reference_RelativeDRMS_None', 250.30896898615683)]"
       ]
      },
      {
       "output_type": "stream",
       "stream": "stdout",
       "text": [
        "\n",
        "910\n",
        "[('SimplifiedModel_Reference_RelativeDRMS_None', 252.22975492045424)]"
       ]
      },
      {
       "output_type": "stream",
       "stream": "stdout",
       "text": [
        "\n",
        "911\n",
        "[('SimplifiedModel_Reference_RelativeDRMS_None', 250.33845172487466)]"
       ]
      },
      {
       "output_type": "stream",
       "stream": "stdout",
       "text": [
        "\n",
        "912\n",
        "[('SimplifiedModel_Reference_RelativeDRMS_None', 253.36921751471627)]"
       ]
      },
      {
       "output_type": "stream",
       "stream": "stdout",
       "text": [
        "\n",
        "913\n",
        "[('SimplifiedModel_Reference_RelativeDRMS_None', 254.5058848465307)]"
       ]
      },
      {
       "output_type": "stream",
       "stream": "stdout",
       "text": [
        "\n",
        "914\n",
        "[('SimplifiedModel_Reference_RelativeDRMS_None', 254.83126873146475)]"
       ]
      },
      {
       "output_type": "stream",
       "stream": "stdout",
       "text": [
        "\n",
        "915\n",
        "[('SimplifiedModel_Reference_RelativeDRMS_None', 254.0078811338552)]"
       ]
      },
      {
       "output_type": "stream",
       "stream": "stdout",
       "text": [
        "\n",
        "916\n",
        "[('SimplifiedModel_Reference_RelativeDRMS_None', 252.50720781051194)]"
       ]
      },
      {
       "output_type": "stream",
       "stream": "stdout",
       "text": [
        "\n",
        "917\n",
        "[('SimplifiedModel_Reference_RelativeDRMS_None', 252.1606718278227)]"
       ]
      },
      {
       "output_type": "stream",
       "stream": "stdout",
       "text": [
        "\n",
        "918\n",
        "[('SimplifiedModel_Reference_RelativeDRMS_None', 253.5486442490365)]"
       ]
      },
      {
       "output_type": "stream",
       "stream": "stdout",
       "text": [
        "\n",
        "919\n",
        "[('SimplifiedModel_Reference_RelativeDRMS_None', 247.86726465416345)]"
       ]
      },
      {
       "output_type": "stream",
       "stream": "stdout",
       "text": [
        "\n",
        "920\n",
        "[('SimplifiedModel_Reference_RelativeDRMS_None', 249.31419662787417)]"
       ]
      },
      {
       "output_type": "stream",
       "stream": "stdout",
       "text": [
        "\n",
        "921\n",
        "[('SimplifiedModel_Reference_RelativeDRMS_None', 251.09807326037654)]"
       ]
      },
      {
       "output_type": "stream",
       "stream": "stdout",
       "text": [
        "\n",
        "922\n",
        "[('SimplifiedModel_Reference_RelativeDRMS_None', 249.28919088925093)]"
       ]
      },
      {
       "output_type": "stream",
       "stream": "stdout",
       "text": [
        "\n",
        "923\n",
        "[('SimplifiedModel_Reference_RelativeDRMS_None', 250.74619566341306)]"
       ]
      },
      {
       "output_type": "stream",
       "stream": "stdout",
       "text": [
        "\n",
        "924\n",
        "[('SimplifiedModel_Reference_RelativeDRMS_None', 250.02148347458316)]"
       ]
      },
      {
       "output_type": "stream",
       "stream": "stdout",
       "text": [
        "\n",
        "925\n",
        "[('SimplifiedModel_Reference_RelativeDRMS_None', 255.2730141107283)]"
       ]
      },
      {
       "output_type": "stream",
       "stream": "stdout",
       "text": [
        "\n",
        "926\n",
        "[('SimplifiedModel_Reference_RelativeDRMS_None', 252.249416957896)]"
       ]
      },
      {
       "output_type": "stream",
       "stream": "stdout",
       "text": [
        "\n",
        "927\n",
        "[('SimplifiedModel_Reference_RelativeDRMS_None', 254.18981142380397)]"
       ]
      },
      {
       "output_type": "stream",
       "stream": "stdout",
       "text": [
        "\n",
        "928\n",
        "[('SimplifiedModel_Reference_RelativeDRMS_None', 254.36367929699293)]"
       ]
      },
      {
       "output_type": "stream",
       "stream": "stdout",
       "text": [
        "\n",
        "929\n",
        "[('SimplifiedModel_Reference_RelativeDRMS_None', 250.34836516210785)]"
       ]
      },
      {
       "output_type": "stream",
       "stream": "stdout",
       "text": [
        "\n",
        "930\n",
        "[('SimplifiedModel_Reference_RelativeDRMS_None', 246.5412017355571)]"
       ]
      },
      {
       "output_type": "stream",
       "stream": "stdout",
       "text": [
        "\n",
        "931\n",
        "[('SimplifiedModel_Reference_RelativeDRMS_None', 247.53779530373393)]"
       ]
      },
      {
       "output_type": "stream",
       "stream": "stdout",
       "text": [
        "\n",
        "932\n",
        "[('SimplifiedModel_Reference_RelativeDRMS_None', 241.69827284795682)]"
       ]
      },
      {
       "output_type": "stream",
       "stream": "stdout",
       "text": [
        "\n",
        "933\n",
        "[('SimplifiedModel_Reference_RelativeDRMS_None', 244.11763470369792)]"
       ]
      },
      {
       "output_type": "stream",
       "stream": "stdout",
       "text": [
        "\n",
        "934\n",
        "[('SimplifiedModel_Reference_RelativeDRMS_None', 243.16530286091182)]"
       ]
      },
      {
       "output_type": "stream",
       "stream": "stdout",
       "text": [
        "\n",
        "935\n",
        "[('SimplifiedModel_Reference_RelativeDRMS_None', 241.75256636419292)]"
       ]
      },
      {
       "output_type": "stream",
       "stream": "stdout",
       "text": [
        "\n",
        "936\n",
        "[('SimplifiedModel_Reference_RelativeDRMS_None', 239.82910238519065)]"
       ]
      },
      {
       "output_type": "stream",
       "stream": "stdout",
       "text": [
        "\n",
        "937\n",
        "[('SimplifiedModel_Reference_RelativeDRMS_None', 232.25018888543232)]"
       ]
      },
      {
       "output_type": "stream",
       "stream": "stdout",
       "text": [
        "\n",
        "938\n",
        "[('SimplifiedModel_Reference_RelativeDRMS_None', 236.56272110635274)]"
       ]
      },
      {
       "output_type": "stream",
       "stream": "stdout",
       "text": [
        "\n",
        "939\n",
        "[('SimplifiedModel_Reference_RelativeDRMS_None', 239.245691043176)]"
       ]
      },
      {
       "output_type": "stream",
       "stream": "stdout",
       "text": [
        "\n",
        "940\n",
        "[('SimplifiedModel_Reference_RelativeDRMS_None', 240.1447704476544)]"
       ]
      },
      {
       "output_type": "stream",
       "stream": "stdout",
       "text": [
        "\n",
        "941\n",
        "[('SimplifiedModel_Reference_RelativeDRMS_None', 240.92531623819892)]"
       ]
      },
      {
       "output_type": "stream",
       "stream": "stdout",
       "text": [
        "\n",
        "942\n",
        "[('SimplifiedModel_Reference_RelativeDRMS_None', 246.45131004499456)]"
       ]
      },
      {
       "output_type": "stream",
       "stream": "stdout",
       "text": [
        "\n",
        "943\n",
        "[('SimplifiedModel_Reference_RelativeDRMS_None', 248.8036675573325)]"
       ]
      },
      {
       "output_type": "stream",
       "stream": "stdout",
       "text": [
        "\n",
        "944\n",
        "[('SimplifiedModel_Reference_RelativeDRMS_None', 246.45019260102853)]"
       ]
      },
      {
       "output_type": "stream",
       "stream": "stdout",
       "text": [
        "\n",
        "945\n",
        "[('SimplifiedModel_Reference_RelativeDRMS_None', 254.2271563032017)]"
       ]
      },
      {
       "output_type": "stream",
       "stream": "stdout",
       "text": [
        "\n",
        "946\n",
        "[('SimplifiedModel_Reference_RelativeDRMS_None', 253.3226080965028)]"
       ]
      },
      {
       "output_type": "stream",
       "stream": "stdout",
       "text": [
        "\n",
        "947\n",
        "[('SimplifiedModel_Reference_RelativeDRMS_None', 249.2236307659527)]"
       ]
      },
      {
       "output_type": "stream",
       "stream": "stdout",
       "text": [
        "\n",
        "948\n",
        "[('SimplifiedModel_Reference_RelativeDRMS_None', 241.61796282349366)]"
       ]
      },
      {
       "output_type": "stream",
       "stream": "stdout",
       "text": [
        "\n",
        "949\n",
        "[('SimplifiedModel_Reference_RelativeDRMS_None', 240.87063239948407)]"
       ]
      },
      {
       "output_type": "stream",
       "stream": "stdout",
       "text": [
        "\n",
        "950\n",
        "[('SimplifiedModel_Reference_RelativeDRMS_None', 236.79824389210168)]"
       ]
      },
      {
       "output_type": "stream",
       "stream": "stdout",
       "text": [
        "\n",
        "951\n",
        "[('SimplifiedModel_Reference_RelativeDRMS_None', 243.24894107515584)]"
       ]
      },
      {
       "output_type": "stream",
       "stream": "stdout",
       "text": [
        "\n",
        "952\n",
        "[('SimplifiedModel_Reference_RelativeDRMS_None', 247.57456614863642)]"
       ]
      },
      {
       "output_type": "stream",
       "stream": "stdout",
       "text": [
        "\n",
        "953\n",
        "[('SimplifiedModel_Reference_RelativeDRMS_None', 245.73897115239714)]"
       ]
      },
      {
       "output_type": "stream",
       "stream": "stdout",
       "text": [
        "\n",
        "954\n",
        "[('SimplifiedModel_Reference_RelativeDRMS_None', 242.56878536471484)]"
       ]
      },
      {
       "output_type": "stream",
       "stream": "stdout",
       "text": [
        "\n",
        "955\n",
        "[('SimplifiedModel_Reference_RelativeDRMS_None', 239.6918280475367)]"
       ]
      },
      {
       "output_type": "stream",
       "stream": "stdout",
       "text": [
        "\n",
        "956\n",
        "[('SimplifiedModel_Reference_RelativeDRMS_None', 248.30885238871005)]"
       ]
      },
      {
       "output_type": "stream",
       "stream": "stdout",
       "text": [
        "\n",
        "957\n",
        "[('SimplifiedModel_Reference_RelativeDRMS_None', 245.11957650922835)]"
       ]
      },
      {
       "output_type": "stream",
       "stream": "stdout",
       "text": [
        "\n",
        "958\n",
        "[('SimplifiedModel_Reference_RelativeDRMS_None', 240.183525932947)]"
       ]
      },
      {
       "output_type": "stream",
       "stream": "stdout",
       "text": [
        "\n",
        "959\n",
        "[('SimplifiedModel_Reference_RelativeDRMS_None', 244.24914963611022)]"
       ]
      },
      {
       "output_type": "stream",
       "stream": "stdout",
       "text": [
        "\n",
        "960\n",
        "[('SimplifiedModel_Reference_RelativeDRMS_None', 246.083919795004)]"
       ]
      },
      {
       "output_type": "stream",
       "stream": "stdout",
       "text": [
        "\n",
        "961\n",
        "[('SimplifiedModel_Reference_RelativeDRMS_None', 241.69377309828738)]"
       ]
      },
      {
       "output_type": "stream",
       "stream": "stdout",
       "text": [
        "\n",
        "962\n",
        "[('SimplifiedModel_Reference_RelativeDRMS_None', 246.66946647190144)]"
       ]
      },
      {
       "output_type": "stream",
       "stream": "stdout",
       "text": [
        "\n",
        "963\n",
        "[('SimplifiedModel_Reference_RelativeDRMS_None', 248.40317281711097)]"
       ]
      },
      {
       "output_type": "stream",
       "stream": "stdout",
       "text": [
        "\n",
        "964\n",
        "[('SimplifiedModel_Reference_RelativeDRMS_None', 249.55765728666725)]"
       ]
      },
      {
       "output_type": "stream",
       "stream": "stdout",
       "text": [
        "\n",
        "965\n",
        "[('SimplifiedModel_Reference_RelativeDRMS_None', 248.68789592733637)]"
       ]
      },
      {
       "output_type": "stream",
       "stream": "stdout",
       "text": [
        "\n",
        "966\n",
        "[('SimplifiedModel_Reference_RelativeDRMS_None', 251.0449533774265)]"
       ]
      },
      {
       "output_type": "stream",
       "stream": "stdout",
       "text": [
        "\n",
        "967\n",
        "[('SimplifiedModel_Reference_RelativeDRMS_None', 247.8142237312472)]"
       ]
      },
      {
       "output_type": "stream",
       "stream": "stdout",
       "text": [
        "\n",
        "968\n",
        "[('SimplifiedModel_Reference_RelativeDRMS_None', 245.6344680996069)]"
       ]
      },
      {
       "output_type": "stream",
       "stream": "stdout",
       "text": [
        "\n",
        "969\n",
        "[('SimplifiedModel_Reference_RelativeDRMS_None', 251.86754524294264)]"
       ]
      },
      {
       "output_type": "stream",
       "stream": "stdout",
       "text": [
        "\n",
        "970\n",
        "[('SimplifiedModel_Reference_RelativeDRMS_None', 250.25183882104915)]"
       ]
      },
      {
       "output_type": "stream",
       "stream": "stdout",
       "text": [
        "\n",
        "971\n",
        "[('SimplifiedModel_Reference_RelativeDRMS_None', 255.5058163632039)]"
       ]
      },
      {
       "output_type": "stream",
       "stream": "stdout",
       "text": [
        "\n",
        "972\n",
        "[('SimplifiedModel_Reference_RelativeDRMS_None', 262.45341225817424)]"
       ]
      },
      {
       "output_type": "stream",
       "stream": "stdout",
       "text": [
        "\n",
        "973\n",
        "[('SimplifiedModel_Reference_RelativeDRMS_None', 261.2464498038463)]"
       ]
      },
      {
       "output_type": "stream",
       "stream": "stdout",
       "text": [
        "\n",
        "974\n",
        "[('SimplifiedModel_Reference_RelativeDRMS_None', 257.6350475716203)]"
       ]
      },
      {
       "output_type": "stream",
       "stream": "stdout",
       "text": [
        "\n",
        "975\n",
        "[('SimplifiedModel_Reference_RelativeDRMS_None', 256.76759334452584)]"
       ]
      },
      {
       "output_type": "stream",
       "stream": "stdout",
       "text": [
        "\n",
        "976\n",
        "[('SimplifiedModel_Reference_RelativeDRMS_None', 251.05460774628096)]"
       ]
      },
      {
       "output_type": "stream",
       "stream": "stdout",
       "text": [
        "\n",
        "977\n",
        "[('SimplifiedModel_Reference_RelativeDRMS_None', 252.88187805833098)]"
       ]
      },
      {
       "output_type": "stream",
       "stream": "stdout",
       "text": [
        "\n",
        "978\n",
        "[('SimplifiedModel_Reference_RelativeDRMS_None', 260.073470106624)]"
       ]
      },
      {
       "output_type": "stream",
       "stream": "stdout",
       "text": [
        "\n",
        "979\n",
        "[('SimplifiedModel_Reference_RelativeDRMS_None', 258.80661667177446)]"
       ]
      },
      {
       "output_type": "stream",
       "stream": "stdout",
       "text": [
        "\n",
        "980\n",
        "[('SimplifiedModel_Reference_RelativeDRMS_None', 259.08048865831887)]"
       ]
      },
      {
       "output_type": "stream",
       "stream": "stdout",
       "text": [
        "\n",
        "981\n",
        "[('SimplifiedModel_Reference_RelativeDRMS_None', 258.28046051559613)]"
       ]
      },
      {
       "output_type": "stream",
       "stream": "stdout",
       "text": [
        "\n",
        "982\n",
        "[('SimplifiedModel_Reference_RelativeDRMS_None', 259.22204597926117)]"
       ]
      },
      {
       "output_type": "stream",
       "stream": "stdout",
       "text": [
        "\n",
        "983\n",
        "[('SimplifiedModel_Reference_RelativeDRMS_None', 265.20898182810623)]"
       ]
      },
      {
       "output_type": "stream",
       "stream": "stdout",
       "text": [
        "\n",
        "984\n",
        "[('SimplifiedModel_Reference_RelativeDRMS_None', 258.8155695383094)]"
       ]
      },
      {
       "output_type": "stream",
       "stream": "stdout",
       "text": [
        "\n",
        "985\n",
        "[('SimplifiedModel_Reference_RelativeDRMS_None', 257.10469367149557)]"
       ]
      },
      {
       "output_type": "stream",
       "stream": "stdout",
       "text": [
        "\n",
        "986\n",
        "[('SimplifiedModel_Reference_RelativeDRMS_None', 261.2345946196752)]"
       ]
      },
      {
       "output_type": "stream",
       "stream": "stdout",
       "text": [
        "\n",
        "987\n",
        "[('SimplifiedModel_Reference_RelativeDRMS_None', 260.5441667581173)]"
       ]
      },
      {
       "output_type": "stream",
       "stream": "stdout",
       "text": [
        "\n",
        "988\n",
        "[('SimplifiedModel_Reference_RelativeDRMS_None', 263.9262208066054)]"
       ]
      },
      {
       "output_type": "stream",
       "stream": "stdout",
       "text": [
        "\n",
        "989\n",
        "[('SimplifiedModel_Reference_RelativeDRMS_None', 266.4390353979394)]"
       ]
      },
      {
       "output_type": "stream",
       "stream": "stdout",
       "text": [
        "\n",
        "990\n",
        "[('SimplifiedModel_Reference_RelativeDRMS_None', 269.6410389208671)]"
       ]
      },
      {
       "output_type": "stream",
       "stream": "stdout",
       "text": [
        "\n",
        "991\n",
        "[('SimplifiedModel_Reference_RelativeDRMS_None', 263.5320440016525)]"
       ]
      },
      {
       "output_type": "stream",
       "stream": "stdout",
       "text": [
        "\n",
        "992\n",
        "[('SimplifiedModel_Reference_RelativeDRMS_None', 263.7652948880712)]"
       ]
      },
      {
       "output_type": "stream",
       "stream": "stdout",
       "text": [
        "\n",
        "993\n",
        "[('SimplifiedModel_Reference_RelativeDRMS_None', 256.98756427094133)]"
       ]
      },
      {
       "output_type": "stream",
       "stream": "stdout",
       "text": [
        "\n",
        "994\n",
        "[('SimplifiedModel_Reference_RelativeDRMS_None', 260.3319602919167)]"
       ]
      },
      {
       "output_type": "stream",
       "stream": "stdout",
       "text": [
        "\n",
        "995\n",
        "[('SimplifiedModel_Reference_RelativeDRMS_None', 262.74698247397305)]"
       ]
      },
      {
       "output_type": "stream",
       "stream": "stdout",
       "text": [
        "\n",
        "996\n",
        "[('SimplifiedModel_Reference_RelativeDRMS_None', 263.07321193452856)]"
       ]
      },
      {
       "output_type": "stream",
       "stream": "stdout",
       "text": [
        "\n",
        "997\n",
        "[('SimplifiedModel_Reference_RelativeDRMS_None', 265.9537109090233)]"
       ]
      },
      {
       "output_type": "stream",
       "stream": "stdout",
       "text": [
        "\n",
        "998\n",
        "[('SimplifiedModel_Reference_RelativeDRMS_None', 267.33644721175676)]"
       ]
      },
      {
       "output_type": "stream",
       "stream": "stdout",
       "text": [
        "\n",
        "999\n",
        "[('SimplifiedModel_Reference_RelativeDRMS_None', 261.9978561551045)]"
       ]
      },
      {
       "output_type": "stream",
       "stream": "stdout",
       "text": [
        "\n"
       ]
      }
     ],
     "prompt_number": 14
    },
    {
     "cell_type": "code",
     "collapsed": false,
     "input": [
      "po=IMP.pmi.output.ProcessOutput(\"modeling.stat\")"
     ],
     "language": "python",
     "metadata": {},
     "outputs": [],
     "prompt_number": 16
    },
    {
     "cell_type": "code",
     "collapsed": false,
     "input": [
      "po.show_keys()"
     ],
     "language": "python",
     "metadata": {},
     "outputs": [
      {
       "output_type": "stream",
       "stream": "stdout",
       "text": [
        "ExcludedVolumeSphere_None                                        SigmoidalCrossLinkMS_Distance_59:Rpb10_813:Rpb2                  \n",
        "LinkerRestraint-Rpb10_1-20_bead-Rpb10_21-24_bead_None            SigmoidalCrossLinkMS_Distance_606:Rpb2_606:Rpb2                  \n",
        "LinkerRestraint-Rpb10_21-24_bead-Rpb10_25_pdb_None               SigmoidalCrossLinkMS_Distance_652:Rpb2_606:Rpb2                  \n",
        "LinkerRestraint-Rpb11_65_pdb-Rpb11_66-85_bead_None               SigmoidalCrossLinkMS_Distance_67:Rpb6_161:Rpb5                   \n",
        "LinkerRestraint-Rpb11_66-85_bead-Rpb11_86-105_bead_None          SigmoidalCrossLinkMS_Distance_67:Rpb6_166:Rpb5                   \n",
        "LinkerRestraint-Rpb11_86-105_bead-Rpb11_106-120_bead_None        SigmoidalCrossLinkMS_Distance_688:Rpb1_728:Rpb1                  \n",
        "LinkerRestraint-Rpb1_1081_pdb-Rpb1_1082-1091_bead_None           SigmoidalCrossLinkMS_Distance_689:Rpb1_728:Rpb1                  \n",
        "LinkerRestraint-Rpb1_1082-1091_bead-Rpb1_1092_pdb_None           SigmoidalCrossLinkMS_Distance_68:Rpb10_149:Rpb3                  \n",
        "LinkerRestraint-Rpb1_1176_pdb-Rpb1_1177-1186_bead_None           SigmoidalCrossLinkMS_Distance_68:Rpb10_59:Rpb10                  \n",
        "LinkerRestraint-Rpb1_1177-1186_bead-Rpb1_1187_pdb_None           SigmoidalCrossLinkMS_Distance_705:Rpb1_1093:Rpb1                 \n",
        "LinkerRestraint-Rpb1_1243_pdb-Rpb1_1244-1253_bead_None           SigmoidalCrossLinkMS_Distance_705:Rpb1_1286:Rpb1                 \n",
        "LinkerRestraint-Rpb1_1244-1253_bead-Rpb1_1254_pdb_None           SigmoidalCrossLinkMS_Distance_705:Rpb1_689:Rpb1                  \n",
        "LinkerRestraint-Rpb1_1455_pdb-Rpb1_1456-1475_bead_None           SigmoidalCrossLinkMS_Distance_70:Rpb6_171:Rpb5                   \n",
        "LinkerRestraint-Rpb1_1456-1475_bead-Rpb1_1476-1495_bead_None     SigmoidalCrossLinkMS_Distance_71:Rpb4_75:Rpb4                    \n",
        "LinkerRestraint-Rpb1_1476-1495_bead-Rpb1_1496-1515_bead_None     SigmoidalCrossLinkMS_Distance_72:Rpb6_166:Rpb5                   \n",
        "LinkerRestraint-Rpb1_1496-1515_bead-Rpb1_1516-1535_bead_None     SigmoidalCrossLinkMS_Distance_72:Rpb6_171:Rpb5                   \n",
        "LinkerRestraint-Rpb1_1516-1535_bead-Rpb1_1536-1555_bead_None     SigmoidalCrossLinkMS_Distance_738:Rpb1_728:Rpb1                  \n",
        "LinkerRestraint-Rpb1_1536-1555_bead-Rpb1_1556-1575_bead_None     SigmoidalCrossLinkMS_Distance_73:Rpb7_70:Rpb6                    \n",
        "LinkerRestraint-Rpb1_1556-1575_bead-Rpb1_1576-1595_bead_None     SigmoidalCrossLinkMS_Distance_73:Rpb7_72:Rpb6                    \n",
        "LinkerRestraint-Rpb1_1576-1595_bead-Rpb1_1596-1615_bead_None     SigmoidalCrossLinkMS_Distance_76:Rpb4_71:Rpb4                    \n",
        "LinkerRestraint-Rpb1_1596-1615_bead-Rpb1_1616-1635_bead_None     SigmoidalCrossLinkMS_Distance_76:Rpb6_1003:Rpb1                  \n",
        "LinkerRestraint-Rpb1_1616-1635_bead-Rpb1_1636-1655_bead_None     SigmoidalCrossLinkMS_Distance_76:Rpb6_23:Rpb7                    \n",
        "LinkerRestraint-Rpb1_1636-1655_bead-Rpb1_1656-1675_bead_None     SigmoidalCrossLinkMS_Distance_773:Rpb1_1093:Rpb1                 \n",
        "LinkerRestraint-Rpb1_1656-1675_bead-Rpb1_1676-1695_bead_None     SigmoidalCrossLinkMS_Distance_775:Rpb2_1102:Rpb2                 \n",
        "LinkerRestraint-Rpb1_1676-1695_bead-Rpb1_1696-1715_bead_None     SigmoidalCrossLinkMS_Distance_775:Rpb2_987:Rpb2                  \n",
        "LinkerRestraint-Rpb1_1696-1715_bead-Rpb1_1716-1733_bead_None     SigmoidalCrossLinkMS_Distance_830:Rpb1_1092:Rpb1                 \n",
        "LinkerRestraint-Rpb1_186_pdb-Rpb1_187-194_bead_None              SigmoidalCrossLinkMS_Distance_830:Rpb1_1093:Rpb1                 \n",
        "LinkerRestraint-Rpb1_187-194_bead-Rpb1_195_pdb_None              SigmoidalCrossLinkMS_Distance_830:Rpb1_1102:Rpb1                 \n",
        "LinkerRestraint-Rpb1_1_bead-Rpb1_2_pdb_None                      SigmoidalCrossLinkMS_Distance_830:Rpb1_507:Rpb2                  \n",
        "LinkerRestraint-Rpb2_1-19_bead-Rpb2_20_pdb_None                  SigmoidalCrossLinkMS_Distance_843:Rpb1_332:Rpb1                  \n",
        "LinkerRestraint-Rpb2_134_pdb-Rpb2_135-154_bead_None              SigmoidalCrossLinkMS_Distance_84:Rpb11_55:Rpb11                  \n",
        "LinkerRestraint-Rpb2_135-154_bead-Rpb2_155-163_bead_None         SigmoidalCrossLinkMS_Distance_864:Rpb2_471:Rpb2                  \n",
        "LinkerRestraint-Rpb2_155-163_bead-Rpb2_164_pdb_None              SigmoidalCrossLinkMS_Distance_864:Rpb2_58:Rpb12                  \n",
        "LinkerRestraint-Rpb2_335_pdb-Rpb2_336-344_bead_None              SigmoidalCrossLinkMS_Distance_864:Rpb2_934:Rpb2                  \n",
        "LinkerRestraint-Rpb2_336-344_bead-Rpb2_345_pdb_None              SigmoidalCrossLinkMS_Distance_865:Rpb2_934:Rpb2                  \n",
        "LinkerRestraint-Rpb2_437_pdb-Rpb2_438-445_bead_None              SigmoidalCrossLinkMS_Distance_880:Rpb1_620:Rpb1                  \n",
        "LinkerRestraint-Rpb2_438-445_bead-Rpb2_446_pdb_None              SigmoidalCrossLinkMS_Distance_886:Rpb2_343:Rpb1                  \n",
        "LinkerRestraint-Rpb2_467_pdb-Rpb2_468-476_bead_None              SigmoidalCrossLinkMS_Distance_88:Rpb11_55:Rpb11                  \n",
        "LinkerRestraint-Rpb2_468-476_bead-Rpb2_477_pdb_None              SigmoidalCrossLinkMS_Distance_934:Rpb2_330:Rpb1                  \n",
        "LinkerRestraint-Rpb2_502_pdb-Rpb2_503-508_bead_None              SigmoidalCrossLinkMS_Distance_934:Rpb2_332:Rpb1                  \n",
        "LinkerRestraint-Rpb2_503-508_bead-Rpb2_509_pdb_None              SigmoidalCrossLinkMS_Distance_934:Rpb2_343:Rpb1                  \n",
        "LinkerRestraint-Rpb2_668_pdb-Rpb2_669-677_bead_None              SigmoidalCrossLinkMS_Distance_934:Rpb2_419:Rpb1                  \n",
        "LinkerRestraint-Rpb2_669-677_bead-Rpb2_678_pdb_None              SigmoidalCrossLinkMS_Distance_934:Rpb2_49:Rpb1                   \n",
        "LinkerRestraint-Rpb2_70_pdb-Rpb2_71-89_bead_None                 SigmoidalCrossLinkMS_Distance_938:Rpb1_941:Rpb1                  \n",
        "LinkerRestraint-Rpb2_71-89_bead-Rpb2_90_pdb_None                 SigmoidalCrossLinkMS_Distance_941:Rpb1_201:Rpb5                  \n",
        "LinkerRestraint-Rpb2_715_pdb-Rpb2_716-721_bead_None              SigmoidalCrossLinkMS_Distance_94:Rpb2_164:Rpb2                   \n",
        "LinkerRestraint-Rpb2_716-721_bead-Rpb2_722_pdb_None              SigmoidalCrossLinkMS_Distance_962:Rpb2_58:Rpb12                  \n",
        "LinkerRestraint-Rpb2_919_pdb-Rpb2_920-932_bead_None              SigmoidalCrossLinkMS_Distance_972:Rpb2_1102:Rpb2                 \n",
        "LinkerRestraint-Rpb2_920-932_bead-Rpb2_933_pdb_None              SigmoidalCrossLinkMS_Distance_972:Rpb2_962:Rpb2                  \n",
        "LinkerRestraint-Rpb3_1-2_bead-Rpb3_3_pdb_None                    SigmoidalCrossLinkMS_Distance_979:Rpb2_1102:Rpb2                 \n",
        "LinkerRestraint-Rpb3_268_pdb-Rpb3_269-288_bead_None              SigmoidalCrossLinkMS_Distance_979:Rpb2_987:Rpb2                  \n",
        "LinkerRestraint-Rpb3_269-288_bead-Rpb3_289-308_bead_None         SigmoidalCrossLinkMS_Distance_99:Rpb2_164:Rpb2                   \n",
        "LinkerRestraint-Rpb3_289-308_bead-Rpb3_309-318_bead_None         SigmoidalCrossLinkMS_Score_None                                  \n",
        "LinkerRestraint-Rpb4_1-3_bead-Rpb4_4_pdb_None                    SigmoidalCrossLinkMS_Score_standard_1003:Rpb1_166:Rpb5           \n",
        "LinkerRestraint-Rpb4_117_bead-Rpb4_118_pdb_None                  SigmoidalCrossLinkMS_Score_standard_1003:Rpb1_197:Rpb5           \n",
        "LinkerRestraint-Rpb4_76_pdb-Rpb4_77-96_bead_None                 SigmoidalCrossLinkMS_Score_standard_1003:Rpb1_67:Rpb6            \n",
        "LinkerRestraint-Rpb4_77-96_bead-Rpb4_97-116_bead_None            SigmoidalCrossLinkMS_Score_standard_1057:Rpb2_199:Rpb3           \n",
        "LinkerRestraint-Rpb4_97-116_bead-Rpb4_117_bead_None              SigmoidalCrossLinkMS_Score_standard_1093:Rpb1_1102:Rpb1          \n",
        "LinkerRestraint-Rpb5_1_bead-Rpb5_2_pdb_None                      SigmoidalCrossLinkMS_Score_standard_1102:Rpb1_332:Rpb1           \n",
        "LinkerRestraint-Rpb6_1-20_bead-Rpb6_21-40_bead_None              SigmoidalCrossLinkMS_Score_standard_1102:Rpb1_510:Rpb2           \n",
        "LinkerRestraint-Rpb6_21-40_bead-Rpb6_41-60_bead_None             SigmoidalCrossLinkMS_Score_standard_1102:Rpb2_987:Rpb2           \n",
        "LinkerRestraint-Rpb6_41-60_bead-Rpb6_61-71_bead_None             SigmoidalCrossLinkMS_Score_standard_1109:Rpb1_507:Rpb2           \n",
        "LinkerRestraint-Rpb6_61-71_bead-Rpb6_72_pdb_None                 SigmoidalCrossLinkMS_Score_standard_1112:Rpb1_1093:Rpb1          \n",
        "LinkerRestraint-Rpb8_1_bead-Rpb8_2_pdb_None                      SigmoidalCrossLinkMS_Score_standard_1112:Rpb1_1102:Rpb1          \n",
        "LinkerRestraint-Rpb8_63_pdb-Rpb8_64-75_bead_None                 SigmoidalCrossLinkMS_Score_standard_1112:Rpb1_507:Rpb2           \n",
        "LinkerRestraint-Rpb8_64-75_bead-Rpb8_76_pdb_None                 SigmoidalCrossLinkMS_Score_standard_1112:Rpb1_773:Rpb1           \n",
        "LinkerRestraint-Rpb9_120_pdb-Rpb9_121-122_bead_None              SigmoidalCrossLinkMS_Score_standard_1112:Rpb1_830:Rpb1           \n",
        "LinkerRestraint-Rpb9_1_bead-Rpb9_2_pdb_None                      SigmoidalCrossLinkMS_Score_standard_1132:Rpb1_1286:Rpb1          \n",
        "MonteCarlo_Acceptance_Floppy_Bodies_SimplifiedModel_12           SigmoidalCrossLinkMS_Score_standard_1132:Rpb1_705:Rpb1           \n",
        "MonteCarlo_Acceptance_Floppy_Bodies_SimplifiedModel_13           SigmoidalCrossLinkMS_Score_standard_1148:Rpb2_1:Rpb1             \n",
        "MonteCarlo_Acceptance_Floppy_Bodies_SimplifiedModel_14           SigmoidalCrossLinkMS_Score_standard_121:Rpb4_60:Rpb4             \n",
        "MonteCarlo_Acceptance_Floppy_Bodies_SimplifiedModel_15           SigmoidalCrossLinkMS_Score_standard_123:Rpb6_129:Rpb6            \n",
        "MonteCarlo_Acceptance_Floppy_Bodies_SimplifiedModel_16           SigmoidalCrossLinkMS_Score_standard_1262:Rpb1_1246:Rpb1          \n",
        "MonteCarlo_Acceptance_Floppy_Bodies_SimplifiedModel_17           SigmoidalCrossLinkMS_Score_standard_129:Rpb1_161:Rpb5            \n",
        "MonteCarlo_Acceptance_Floppy_Bodies_SimplifiedModel_18           SigmoidalCrossLinkMS_Score_standard_129:Rpb1_171:Rpb5            \n",
        "MonteCarlo_Acceptance_Floppy_Bodies_SimplifiedModel_19           SigmoidalCrossLinkMS_Score_standard_129:Rpb1_67:Rpb6             \n",
        "MonteCarlo_Acceptance_Floppy_Bodies_SimplifiedModel_20           SigmoidalCrossLinkMS_Score_standard_1300:Rpb1_1093:Rpb1          \n",
        "MonteCarlo_Acceptance_Floppy_Bodies_SimplifiedModel_21           SigmoidalCrossLinkMS_Score_standard_1300:Rpb1_1286:Rpb1          \n",
        "MonteCarlo_Acceptance_Floppy_Bodies_SimplifiedModel_22           SigmoidalCrossLinkMS_Score_standard_1350:Rpb1_1093:Rpb1          \n",
        "MonteCarlo_Acceptance_Floppy_Bodies_SimplifiedModel_23           SigmoidalCrossLinkMS_Score_standard_1350:Rpb1_201:Rpb5           \n",
        "MonteCarlo_Acceptance_Floppy_Bodies_SimplifiedModel_24           SigmoidalCrossLinkMS_Score_standard_140:Rpb7_139:Rpb4            \n",
        "MonteCarlo_Acceptance_Floppy_Bodies_SimplifiedModel_25           SigmoidalCrossLinkMS_Score_standard_148:Rpb2_87:Rpb2             \n",
        "MonteCarlo_Acceptance_Floppy_Bodies_SimplifiedModel_26           SigmoidalCrossLinkMS_Score_standard_152:Rpb5_201:Rpb5            \n",
        "MonteCarlo_Acceptance_Floppy_Bodies_SimplifiedModel_27           SigmoidalCrossLinkMS_Score_standard_154:Rpb3_161:Rpb3            \n",
        "MonteCarlo_Acceptance_Floppy_Bodies_SimplifiedModel_28           SigmoidalCrossLinkMS_Score_standard_15:Rpb1_171:Rpb5             \n",
        "MonteCarlo_Acceptance_Floppy_Bodies_SimplifiedModel_29           SigmoidalCrossLinkMS_Score_standard_15:Rpb1_176:Rpb1             \n",
        "MonteCarlo_Acceptance_Floppy_Bodies_SimplifiedModel_30           SigmoidalCrossLinkMS_Score_standard_15:Rpb1_1:Rpb1               \n",
        "MonteCarlo_Acceptance_Floppy_Bodies_SimplifiedModel_31           SigmoidalCrossLinkMS_Score_standard_15:Rpb1_34:Rpb1              \n",
        "MonteCarlo_Acceptance_Floppy_Bodies_SimplifiedModel_32           SigmoidalCrossLinkMS_Score_standard_15:Rpb1_67:Rpb6              \n",
        "MonteCarlo_Acceptance_Floppy_Bodies_SimplifiedModel_33           SigmoidalCrossLinkMS_Score_standard_15:Rpb1_72:Rpb6              \n",
        "MonteCarlo_Acceptance_Floppy_Bodies_SimplifiedModel_34           SigmoidalCrossLinkMS_Score_standard_15:Rpb1_73:Rpb7              \n",
        "MonteCarlo_Acceptance_Floppy_Bodies_SimplifiedModel_35           SigmoidalCrossLinkMS_Score_standard_15:Rpb3_137:Rpb3             \n",
        "MonteCarlo_Acceptance_Floppy_Bodies_SimplifiedModel_36           SigmoidalCrossLinkMS_Score_standard_171:Rpb5_166:Rpb5            \n",
        "MonteCarlo_Acceptance_Floppy_Bodies_SimplifiedModel_37           SigmoidalCrossLinkMS_Score_standard_18:Rpb11_253:Rpb3            \n",
        "MonteCarlo_Acceptance_Floppy_Bodies_SimplifiedModel_38           SigmoidalCrossLinkMS_Score_standard_1:Rpb1_343:Rpb1              \n",
        "MonteCarlo_Acceptance_Floppy_Bodies_SimplifiedModel_39           SigmoidalCrossLinkMS_Score_standard_1:Rpb1_72:Rpb6               \n",
        "MonteCarlo_Acceptance_Floppy_Bodies_SimplifiedModel_40           SigmoidalCrossLinkMS_Score_standard_1:Rpb1_886:Rpb2              \n",
        "MonteCarlo_Acceptance_Floppy_Bodies_SimplifiedModel_41           SigmoidalCrossLinkMS_Score_standard_1:Rpb1_934:Rpb2              \n",
        "MonteCarlo_Acceptance_Floppy_Bodies_SimplifiedModel_42           SigmoidalCrossLinkMS_Score_standard_201:Rpb5_197:Rpb5            \n",
        "MonteCarlo_Acceptance_Floppy_Bodies_SimplifiedModel_43           SigmoidalCrossLinkMS_Score_standard_20:Rpb11_72:Rpb11            \n",
        "MonteCarlo_Acceptance_Floppy_Bodies_SimplifiedModel_44           SigmoidalCrossLinkMS_Score_standard_227:Rpb2_1093:Rpb1           \n",
        "MonteCarlo_Acceptance_Floppy_Bodies_SimplifiedModel_45           SigmoidalCrossLinkMS_Score_standard_227:Rpb2_507:Rpb2            \n",
        "MonteCarlo_Acceptance_Floppy_Bodies_SimplifiedModel_46           SigmoidalCrossLinkMS_Score_standard_227:Rpb2_510:Rpb2            \n",
        "MonteCarlo_Acceptance_Floppy_Bodies_SimplifiedModel_47           SigmoidalCrossLinkMS_Score_standard_228:Rpb2_246:Rpb2            \n",
        "MonteCarlo_Acceptance_Floppy_Bodies_SimplifiedModel_48           SigmoidalCrossLinkMS_Score_standard_228:Rpb2_257:Rpb2            \n",
        "MonteCarlo_Acceptance_Floppy_Bodies_SimplifiedModel_49           SigmoidalCrossLinkMS_Score_standard_228:Rpb2_270:Rpb2            \n",
        "MonteCarlo_Acceptance_Floppy_Bodies_SimplifiedModel_50           SigmoidalCrossLinkMS_Score_standard_228:Rpb2_277:Rpb2            \n",
        "MonteCarlo_Acceptance_Floppy_Bodies_SimplifiedModel_51           SigmoidalCrossLinkMS_Score_standard_228:Rpb2_510:Rpb2            \n",
        "MonteCarlo_Acceptance_Floppy_Bodies_SimplifiedModel_52           SigmoidalCrossLinkMS_Score_standard_23:Rpb7_70:Rpb6              \n",
        "MonteCarlo_Acceptance_Floppy_Bodies_SimplifiedModel_53           SigmoidalCrossLinkMS_Score_standard_23:Rpb7_76:Rpb4              \n",
        "MonteCarlo_Acceptance_Floppy_Bodies_SimplifiedModel_54           SigmoidalCrossLinkMS_Score_standard_246:Rpb2_471:Rpb2            \n",
        "MonteCarlo_Acceptance_Floppy_Bodies_SimplifiedModel_55           SigmoidalCrossLinkMS_Score_standard_246:Rpb2_507:Rpb2            \n",
        "MonteCarlo_Acceptance_Floppy_Bodies_SimplifiedModel_56           SigmoidalCrossLinkMS_Score_standard_253:Rpb3_161:Rpb3            \n",
        "MonteCarlo_Acceptance_Floppy_Bodies_SimplifiedModel_57           SigmoidalCrossLinkMS_Score_standard_253:Rpb3_165:Rpb3            \n",
        "MonteCarlo_Acceptance_Floppy_Bodies_SimplifiedModel_58           SigmoidalCrossLinkMS_Score_standard_26:Rpb11_644:Rpb1            \n",
        "MonteCarlo_Acceptance_Floppy_Bodies_SimplifiedModel_59           SigmoidalCrossLinkMS_Score_standard_277:Rpb2_246:Rpb2            \n",
        "MonteCarlo_Acceptance_Floppy_Bodies_SimplifiedModel_60           SigmoidalCrossLinkMS_Score_standard_323:Rpb1_176:Rpb1            \n",
        "MonteCarlo_Acceptance_Floppy_Bodies_SimplifiedModel_61           SigmoidalCrossLinkMS_Score_standard_323:Rpb1_330:Rpb1            \n",
        "MonteCarlo_Acceptance_Floppy_Bodies_SimplifiedModel_62           SigmoidalCrossLinkMS_Score_standard_323:Rpb1_332:Rpb1            \n",
        "MonteCarlo_Acceptance_Floppy_Bodies_SimplifiedModel_63           SigmoidalCrossLinkMS_Score_standard_330:Rpb1_176:Rpb1            \n",
        "MonteCarlo_Acceptance_Rigid_Bodies_SimplifiedModel_0             SigmoidalCrossLinkMS_Score_standard_330:Rpb1_471:Rpb2            \n",
        "MonteCarlo_Acceptance_Rigid_Bodies_SimplifiedModel_1             SigmoidalCrossLinkMS_Score_standard_330:Rpb1_507:Rpb2            \n",
        "MonteCarlo_Acceptance_Rigid_Bodies_SimplifiedModel_10            SigmoidalCrossLinkMS_Score_standard_332:Rpb1_176:Rpb1            \n",
        "MonteCarlo_Acceptance_Rigid_Bodies_SimplifiedModel_11            SigmoidalCrossLinkMS_Score_standard_332:Rpb1_471:Rpb2            \n",
        "MonteCarlo_Acceptance_Rigid_Bodies_SimplifiedModel_2             SigmoidalCrossLinkMS_Score_standard_343:Rpb1_1102:Rpb2           \n",
        "MonteCarlo_Acceptance_Rigid_Bodies_SimplifiedModel_3             SigmoidalCrossLinkMS_Score_standard_343:Rpb1_330:Rpb1            \n",
        "MonteCarlo_Acceptance_Rigid_Bodies_SimplifiedModel_4             SigmoidalCrossLinkMS_Score_standard_343:Rpb1_332:Rpb1            \n",
        "MonteCarlo_Acceptance_Rigid_Bodies_SimplifiedModel_5             SigmoidalCrossLinkMS_Score_standard_34:Rpb1_49:Rpb1              \n",
        "MonteCarlo_Acceptance_Rigid_Bodies_SimplifiedModel_6             SigmoidalCrossLinkMS_Score_standard_353:Rpb2_345:Rpb2            \n",
        "MonteCarlo_Acceptance_Rigid_Bodies_SimplifiedModel_7             SigmoidalCrossLinkMS_Score_standard_353:Rpb2_347:Rpb2            \n",
        "MonteCarlo_Acceptance_Rigid_Bodies_SimplifiedModel_8             SigmoidalCrossLinkMS_Score_standard_358:Rpb2_246:Rpb2            \n",
        "MonteCarlo_Acceptance_Rigid_Bodies_SimplifiedModel_9             SigmoidalCrossLinkMS_Score_standard_368:Rpb1_37:Rpb11            \n",
        "MonteCarlo_Nframe                                                SigmoidalCrossLinkMS_Score_standard_368:Rpb1_461:Rpb1            \n",
        "MonteCarlo_Temperature                                           SigmoidalCrossLinkMS_Score_standard_372:Rpb1_1102:Rpb2           \n",
        "SigmoidalCrossLinkMS_Distance_1003:Rpb1_166:Rpb5                 SigmoidalCrossLinkMS_Score_standard_372:Rpb1_403:Rpb1            \n",
        "SigmoidalCrossLinkMS_Distance_1003:Rpb1_197:Rpb5                 SigmoidalCrossLinkMS_Score_standard_37:Rpb11_165:Rpb3            \n",
        "SigmoidalCrossLinkMS_Distance_1003:Rpb1_67:Rpb6                  SigmoidalCrossLinkMS_Score_standard_403:Rpb1_1102:Rpb2           \n",
        "SigmoidalCrossLinkMS_Distance_1057:Rpb2_199:Rpb3                 SigmoidalCrossLinkMS_Score_standard_403:Rpb1_1:Rpb1              \n",
        "SigmoidalCrossLinkMS_Distance_1093:Rpb1_1102:Rpb1                SigmoidalCrossLinkMS_Score_standard_426:Rpb2_422:Rpb2            \n",
        "SigmoidalCrossLinkMS_Distance_1102:Rpb1_332:Rpb1                 SigmoidalCrossLinkMS_Score_standard_426:Rpb2_471:Rpb2            \n",
        "SigmoidalCrossLinkMS_Distance_1102:Rpb1_510:Rpb2                 SigmoidalCrossLinkMS_Score_standard_431:Rpb1_1:Rpb1              \n",
        "SigmoidalCrossLinkMS_Distance_1102:Rpb2_987:Rpb2                 SigmoidalCrossLinkMS_Score_standard_458:Rpb2_471:Rpb2            \n",
        "SigmoidalCrossLinkMS_Distance_1109:Rpb1_507:Rpb2                 SigmoidalCrossLinkMS_Score_standard_45:Rpb5_20:Rpb5              \n",
        "SigmoidalCrossLinkMS_Distance_1112:Rpb1_1093:Rpb1                SigmoidalCrossLinkMS_Score_standard_461:Rpb1_644:Rpb1            \n",
        "SigmoidalCrossLinkMS_Distance_1112:Rpb1_1102:Rpb1                SigmoidalCrossLinkMS_Score_standard_470:Rpb2_423:Rpb2            \n",
        "SigmoidalCrossLinkMS_Distance_1112:Rpb1_507:Rpb2                 SigmoidalCrossLinkMS_Score_standard_471:Rpb2_323:Rpb1            \n",
        "SigmoidalCrossLinkMS_Distance_1112:Rpb1_773:Rpb1                 SigmoidalCrossLinkMS_Score_standard_471:Rpb2_422:Rpb2            \n",
        "SigmoidalCrossLinkMS_Distance_1112:Rpb1_830:Rpb1                 SigmoidalCrossLinkMS_Score_standard_471:Rpb2_507:Rpb2            \n",
        "SigmoidalCrossLinkMS_Distance_1132:Rpb1_1286:Rpb1                SigmoidalCrossLinkMS_Score_standard_507:Rpb2_1093:Rpb1           \n",
        "SigmoidalCrossLinkMS_Distance_1132:Rpb1_705:Rpb1                 SigmoidalCrossLinkMS_Score_standard_507:Rpb2_1102:Rpb1           \n",
        "SigmoidalCrossLinkMS_Distance_1148:Rpb2_1:Rpb1                   SigmoidalCrossLinkMS_Score_standard_507:Rpb2_228:Rpb2            \n",
        "SigmoidalCrossLinkMS_Distance_121:Rpb4_60:Rpb4                   SigmoidalCrossLinkMS_Score_standard_507:Rpb2_332:Rpb1            \n",
        "SigmoidalCrossLinkMS_Distance_123:Rpb6_129:Rpb6                  SigmoidalCrossLinkMS_Score_standard_59:Rpb10_813:Rpb2            \n",
        "SigmoidalCrossLinkMS_Distance_1262:Rpb1_1246:Rpb1                SigmoidalCrossLinkMS_Score_standard_606:Rpb2_606:Rpb2            \n",
        "SigmoidalCrossLinkMS_Distance_129:Rpb1_161:Rpb5                  SigmoidalCrossLinkMS_Score_standard_652:Rpb2_606:Rpb2            \n",
        "SigmoidalCrossLinkMS_Distance_129:Rpb1_171:Rpb5                  SigmoidalCrossLinkMS_Score_standard_67:Rpb6_161:Rpb5             \n",
        "SigmoidalCrossLinkMS_Distance_129:Rpb1_67:Rpb6                   SigmoidalCrossLinkMS_Score_standard_67:Rpb6_166:Rpb5             \n",
        "SigmoidalCrossLinkMS_Distance_1300:Rpb1_1093:Rpb1                SigmoidalCrossLinkMS_Score_standard_688:Rpb1_728:Rpb1            \n",
        "SigmoidalCrossLinkMS_Distance_1300:Rpb1_1286:Rpb1                SigmoidalCrossLinkMS_Score_standard_689:Rpb1_728:Rpb1            \n",
        "SigmoidalCrossLinkMS_Distance_1350:Rpb1_1093:Rpb1                SigmoidalCrossLinkMS_Score_standard_68:Rpb10_149:Rpb3            \n",
        "SigmoidalCrossLinkMS_Distance_1350:Rpb1_201:Rpb5                 SigmoidalCrossLinkMS_Score_standard_68:Rpb10_59:Rpb10            \n",
        "SigmoidalCrossLinkMS_Distance_140:Rpb7_139:Rpb4                  SigmoidalCrossLinkMS_Score_standard_705:Rpb1_1093:Rpb1           \n",
        "SigmoidalCrossLinkMS_Distance_148:Rpb2_87:Rpb2                   SigmoidalCrossLinkMS_Score_standard_705:Rpb1_1286:Rpb1           \n",
        "SigmoidalCrossLinkMS_Distance_152:Rpb5_201:Rpb5                  SigmoidalCrossLinkMS_Score_standard_705:Rpb1_689:Rpb1            \n",
        "SigmoidalCrossLinkMS_Distance_154:Rpb3_161:Rpb3                  SigmoidalCrossLinkMS_Score_standard_70:Rpb6_171:Rpb5             \n",
        "SigmoidalCrossLinkMS_Distance_15:Rpb1_171:Rpb5                   SigmoidalCrossLinkMS_Score_standard_71:Rpb4_75:Rpb4              \n",
        "SigmoidalCrossLinkMS_Distance_15:Rpb1_176:Rpb1                   SigmoidalCrossLinkMS_Score_standard_72:Rpb6_166:Rpb5             \n",
        "SigmoidalCrossLinkMS_Distance_15:Rpb1_1:Rpb1                     SigmoidalCrossLinkMS_Score_standard_72:Rpb6_171:Rpb5             \n",
        "SigmoidalCrossLinkMS_Distance_15:Rpb1_34:Rpb1                    SigmoidalCrossLinkMS_Score_standard_738:Rpb1_728:Rpb1            \n",
        "SigmoidalCrossLinkMS_Distance_15:Rpb1_67:Rpb6                    SigmoidalCrossLinkMS_Score_standard_73:Rpb7_70:Rpb6              \n",
        "SigmoidalCrossLinkMS_Distance_15:Rpb1_72:Rpb6                    SigmoidalCrossLinkMS_Score_standard_73:Rpb7_72:Rpb6              \n",
        "SigmoidalCrossLinkMS_Distance_15:Rpb1_73:Rpb7                    SigmoidalCrossLinkMS_Score_standard_76:Rpb4_71:Rpb4              \n",
        "SigmoidalCrossLinkMS_Distance_15:Rpb3_137:Rpb3                   SigmoidalCrossLinkMS_Score_standard_76:Rpb6_1003:Rpb1            \n",
        "SigmoidalCrossLinkMS_Distance_171:Rpb5_166:Rpb5                  SigmoidalCrossLinkMS_Score_standard_76:Rpb6_23:Rpb7              \n",
        "SigmoidalCrossLinkMS_Distance_18:Rpb11_253:Rpb3                  SigmoidalCrossLinkMS_Score_standard_773:Rpb1_1093:Rpb1           \n",
        "SigmoidalCrossLinkMS_Distance_1:Rpb1_343:Rpb1                    SigmoidalCrossLinkMS_Score_standard_775:Rpb2_1102:Rpb2           \n",
        "SigmoidalCrossLinkMS_Distance_1:Rpb1_72:Rpb6                     SigmoidalCrossLinkMS_Score_standard_775:Rpb2_987:Rpb2            \n",
        "SigmoidalCrossLinkMS_Distance_1:Rpb1_886:Rpb2                    SigmoidalCrossLinkMS_Score_standard_830:Rpb1_1092:Rpb1           \n",
        "SigmoidalCrossLinkMS_Distance_1:Rpb1_934:Rpb2                    SigmoidalCrossLinkMS_Score_standard_830:Rpb1_1093:Rpb1           \n",
        "SigmoidalCrossLinkMS_Distance_201:Rpb5_197:Rpb5                  SigmoidalCrossLinkMS_Score_standard_830:Rpb1_1102:Rpb1           \n",
        "SigmoidalCrossLinkMS_Distance_20:Rpb11_72:Rpb11                  SigmoidalCrossLinkMS_Score_standard_830:Rpb1_507:Rpb2            \n",
        "SigmoidalCrossLinkMS_Distance_227:Rpb2_1093:Rpb1                 SigmoidalCrossLinkMS_Score_standard_843:Rpb1_332:Rpb1            \n",
        "SigmoidalCrossLinkMS_Distance_227:Rpb2_507:Rpb2                  SigmoidalCrossLinkMS_Score_standard_84:Rpb11_55:Rpb11            \n",
        "SigmoidalCrossLinkMS_Distance_227:Rpb2_510:Rpb2                  SigmoidalCrossLinkMS_Score_standard_864:Rpb2_471:Rpb2            \n",
        "SigmoidalCrossLinkMS_Distance_228:Rpb2_246:Rpb2                  SigmoidalCrossLinkMS_Score_standard_864:Rpb2_58:Rpb12            \n",
        "SigmoidalCrossLinkMS_Distance_228:Rpb2_257:Rpb2                  SigmoidalCrossLinkMS_Score_standard_864:Rpb2_934:Rpb2            \n",
        "SigmoidalCrossLinkMS_Distance_228:Rpb2_270:Rpb2                  SigmoidalCrossLinkMS_Score_standard_865:Rpb2_934:Rpb2            \n",
        "SigmoidalCrossLinkMS_Distance_228:Rpb2_277:Rpb2                  SigmoidalCrossLinkMS_Score_standard_880:Rpb1_620:Rpb1            \n",
        "SigmoidalCrossLinkMS_Distance_228:Rpb2_510:Rpb2                  SigmoidalCrossLinkMS_Score_standard_886:Rpb2_343:Rpb1            \n",
        "SigmoidalCrossLinkMS_Distance_23:Rpb7_70:Rpb6                    SigmoidalCrossLinkMS_Score_standard_88:Rpb11_55:Rpb11            \n",
        "SigmoidalCrossLinkMS_Distance_23:Rpb7_76:Rpb4                    SigmoidalCrossLinkMS_Score_standard_934:Rpb2_330:Rpb1            \n",
        "SigmoidalCrossLinkMS_Distance_246:Rpb2_471:Rpb2                  SigmoidalCrossLinkMS_Score_standard_934:Rpb2_332:Rpb1            \n",
        "SigmoidalCrossLinkMS_Distance_246:Rpb2_507:Rpb2                  SigmoidalCrossLinkMS_Score_standard_934:Rpb2_343:Rpb1            \n",
        "SigmoidalCrossLinkMS_Distance_253:Rpb3_161:Rpb3                  SigmoidalCrossLinkMS_Score_standard_934:Rpb2_419:Rpb1            \n",
        "SigmoidalCrossLinkMS_Distance_253:Rpb3_165:Rpb3                  SigmoidalCrossLinkMS_Score_standard_934:Rpb2_49:Rpb1             \n",
        "SigmoidalCrossLinkMS_Distance_26:Rpb11_644:Rpb1                  SigmoidalCrossLinkMS_Score_standard_938:Rpb1_941:Rpb1            \n",
        "SigmoidalCrossLinkMS_Distance_277:Rpb2_246:Rpb2                  SigmoidalCrossLinkMS_Score_standard_941:Rpb1_201:Rpb5            \n",
        "SigmoidalCrossLinkMS_Distance_323:Rpb1_176:Rpb1                  SigmoidalCrossLinkMS_Score_standard_94:Rpb2_164:Rpb2             \n",
        "SigmoidalCrossLinkMS_Distance_323:Rpb1_330:Rpb1                  SigmoidalCrossLinkMS_Score_standard_962:Rpb2_58:Rpb12            \n",
        "SigmoidalCrossLinkMS_Distance_323:Rpb1_332:Rpb1                  SigmoidalCrossLinkMS_Score_standard_972:Rpb2_1102:Rpb2           \n",
        "SigmoidalCrossLinkMS_Distance_330:Rpb1_176:Rpb1                  SigmoidalCrossLinkMS_Score_standard_972:Rpb2_962:Rpb2            \n",
        "SigmoidalCrossLinkMS_Distance_330:Rpb1_471:Rpb2                  SigmoidalCrossLinkMS_Score_standard_979:Rpb2_1102:Rpb2           \n",
        "SigmoidalCrossLinkMS_Distance_330:Rpb1_507:Rpb2                  SigmoidalCrossLinkMS_Score_standard_979:Rpb2_987:Rpb2            \n",
        "SigmoidalCrossLinkMS_Distance_332:Rpb1_176:Rpb1                  SigmoidalCrossLinkMS_Score_standard_99:Rpb2_164:Rpb2             \n",
        "SigmoidalCrossLinkMS_Distance_332:Rpb1_471:Rpb2                  SimplifiedModel_Link_SortedSegments_Rpb10_None                   \n",
        "SigmoidalCrossLinkMS_Distance_343:Rpb1_1102:Rpb2                 SimplifiedModel_Link_SortedSegments_Rpb11_None                   \n",
        "SigmoidalCrossLinkMS_Distance_343:Rpb1_330:Rpb1                  SimplifiedModel_Link_SortedSegments_Rpb12_None                   \n",
        "SigmoidalCrossLinkMS_Distance_343:Rpb1_332:Rpb1                  SimplifiedModel_Link_SortedSegments_Rpb1_None                    \n",
        "SigmoidalCrossLinkMS_Distance_34:Rpb1_49:Rpb1                    SimplifiedModel_Link_SortedSegments_Rpb2_None                    \n",
        "SigmoidalCrossLinkMS_Distance_353:Rpb2_345:Rpb2                  SimplifiedModel_Link_SortedSegments_Rpb3_None                    \n",
        "SigmoidalCrossLinkMS_Distance_353:Rpb2_347:Rpb2                  SimplifiedModel_Link_SortedSegments_Rpb4_None                    \n",
        "SigmoidalCrossLinkMS_Distance_358:Rpb2_246:Rpb2                  SimplifiedModel_Link_SortedSegments_Rpb5_None                    \n",
        "SigmoidalCrossLinkMS_Distance_368:Rpb1_37:Rpb11                  SimplifiedModel_Link_SortedSegments_Rpb6_None                    \n",
        "SigmoidalCrossLinkMS_Distance_368:Rpb1_461:Rpb1                  SimplifiedModel_Link_SortedSegments_Rpb7_None                    \n",
        "SigmoidalCrossLinkMS_Distance_372:Rpb1_1102:Rpb2                 SimplifiedModel_Link_SortedSegments_Rpb8_None                    \n",
        "SigmoidalCrossLinkMS_Distance_372:Rpb1_403:Rpb1                  SimplifiedModel_Link_SortedSegments_Rpb9_None                    \n",
        "SigmoidalCrossLinkMS_Distance_37:Rpb11_165:Rpb3                  SimplifiedModel_Link_UnmodeledRegions_Rpb10_None                 \n",
        "SigmoidalCrossLinkMS_Distance_403:Rpb1_1102:Rpb2                 SimplifiedModel_Link_UnmodeledRegions_Rpb11_None                 \n",
        "SigmoidalCrossLinkMS_Distance_403:Rpb1_1:Rpb1                    SimplifiedModel_Link_UnmodeledRegions_Rpb12_None                 \n",
        "SigmoidalCrossLinkMS_Distance_426:Rpb2_422:Rpb2                  SimplifiedModel_Link_UnmodeledRegions_Rpb1_None                  \n",
        "SigmoidalCrossLinkMS_Distance_426:Rpb2_471:Rpb2                  SimplifiedModel_Link_UnmodeledRegions_Rpb2_None                  \n",
        "SigmoidalCrossLinkMS_Distance_431:Rpb1_1:Rpb1                    SimplifiedModel_Link_UnmodeledRegions_Rpb3_None                  \n",
        "SigmoidalCrossLinkMS_Distance_458:Rpb2_471:Rpb2                  SimplifiedModel_Link_UnmodeledRegions_Rpb4_None                  \n",
        "SigmoidalCrossLinkMS_Distance_45:Rpb5_20:Rpb5                    SimplifiedModel_Link_UnmodeledRegions_Rpb5_None                  \n",
        "SigmoidalCrossLinkMS_Distance_461:Rpb1_644:Rpb1                  SimplifiedModel_Link_UnmodeledRegions_Rpb6_None                  \n",
        "SigmoidalCrossLinkMS_Distance_470:Rpb2_423:Rpb2                  SimplifiedModel_Link_UnmodeledRegions_Rpb7_None                  \n",
        "SigmoidalCrossLinkMS_Distance_471:Rpb2_323:Rpb1                  SimplifiedModel_Link_UnmodeledRegions_Rpb8_None                  \n",
        "SigmoidalCrossLinkMS_Distance_471:Rpb2_422:Rpb2                  SimplifiedModel_Link_UnmodeledRegions_Rpb9_None                  \n",
        "SigmoidalCrossLinkMS_Distance_471:Rpb2_507:Rpb2                  SimplifiedModel_Linker_Score_None                                \n",
        "SigmoidalCrossLinkMS_Distance_507:Rpb2_1093:Rpb1                 SimplifiedModel_Reference_GlobalRMSD_None                        \n",
        "SigmoidalCrossLinkMS_Distance_507:Rpb2_1102:Rpb1                 SimplifiedModel_Reference_RelativeDRMS_None                      \n",
        "SigmoidalCrossLinkMS_Distance_507:Rpb2_228:Rpb2                  SimplifiedModel_Total_Score_None                                 \n",
        "SigmoidalCrossLinkMS_Distance_507:Rpb2_332:Rpb1                                                                                   \n"
       ]
      }
     ],
     "prompt_number": 17
    },
    {
     "cell_type": "code",
     "collapsed": false,
     "input": [
      "fs=po.get_fields([\"SimplifiedModel_Total_Score_None\", \"SimplifiedModel_Reference_RelativeDRMS_None\", \"ExcludedVolumeSphere_None\"])"
     ],
     "language": "python",
     "metadata": {},
     "outputs": [],
     "prompt_number": 18
    },
    {
     "cell_type": "code",
     "collapsed": false,
     "input": [
      "%  matplotlib inline\n",
      "IMP.pmi.output.plot_scatter_xy_data(fs[\"SimplifiedModel_Reference_RelativeDRMS_None\"],\n",
      "                                    fs[\"SimplifiedModel_Total_Score_None\"],\n",
      "                                    labelx=\"RMSD\",labely=\"Score\",\n",
      "                                    xmin=0,xmax=200,ymin=600,ymax=2000)"
     ],
     "language": "python",
     "metadata": {},
     "outputs": [
      {
       "output_type": "stream",
       "stream": "stderr",
       "text": [
        "/Library/Python/2.7/site-packages/matplotlib-1.3.0-py2.7-macosx-10.8-intel.egg/matplotlib/axes.py:4747: UserWarning: No labeled objects found. Use label='...' kwarg on individual plots.\n",
        "  warnings.warn(\"No labeled objects found. \"\n"
       ]
      },
      {
       "metadata": {},
       "output_type": "display_data",
       "png": "[encoded data removed]",
       "text": [
        "<matplotlib.figure.Figure at 0x1154ab990>"
       ]
      }
     ],
     "prompt_number": 19
    },
    {
     "cell_type": "code",
     "collapsed": false,
     "input": [
      "IMP.pmi.output.plot_fields(fs,framemin=100)"
     ],
     "language": "python",
     "metadata": {},
     "outputs": [
      {
       "metadata": {},
       "output_type": "display_data",
       "png": "[encoded data removed]",
       "text": [
        "<matplotlib.figure.Figure at 0x117f81b90>"
       ]
      }
     ],
     "prompt_number": 20
    },
    {
     "cell_type": "code",
     "collapsed": false,
     "input": [
      "IMP.pmi.output.plot_field_histogram(\"RMSD\",fs[\"SimplifiedModel_Reference_RelativeDRMS_None\"],valuename=\"RMSD [Ang]\")"
     ],
     "language": "python",
     "metadata": {},
     "outputs": [
      {
       "metadata": {},
       "output_type": "display_data",
       "png": "[encoded data removed]",
       "text": [
        "<matplotlib.figure.Figure at 0x116a13d90>"
       ]
      }
     ],
     "prompt_number": 21
    },
    {
     "cell_type": "code",
     "collapsed": false,
     "input": [],
     "language": "python",
     "metadata": {},
     "outputs": []
    }
   ],
   "metadata": {}
  }
 ]
}