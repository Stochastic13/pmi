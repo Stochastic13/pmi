{
 "metadata": {
  "name": ""
 },
 "nbformat": 3,
 "nbformat_minor": 0,
 "worksheets": [
  {
   "cells": [
    {
     "cell_type": "heading",
     "level": 1,
     "metadata": {},
     "source": [
      "How to model cross-linking data. A tutorial.\n",
      "\n",
      "\n"
     ]
    },
    {
     "cell_type": "markdown",
     "metadata": {},
     "source": [
      "This tutorial is meant to be used with IMP and IMP.pmi. See installation notes. "
     ]
    },
    {
     "cell_type": "markdown",
     "metadata": {},
     "source": [
      "Import IMP modules"
     ]
    },
    {
     "cell_type": "code",
     "collapsed": false,
     "input": [
      "import IMP\n",
      "import IMP.core\n",
      "import IMP.base\n",
      "import IMP.algebra\n",
      "import IMP.atom\n",
      "import IMP.container"
     ],
     "language": "python",
     "metadata": {},
     "outputs": [],
     "prompt_number": 1
    },
    {
     "cell_type": "markdown",
     "metadata": {},
     "source": [
      "Import IMP.pmi submodules"
     ]
    },
    {
     "cell_type": "code",
     "collapsed": false,
     "input": [
      "import IMP.pmi\n",
      "import IMP.pmi.restraints.stereochemistry as stereochemistry\n",
      "import IMP.pmi.restraints.crosslinking as crosslinking\n",
      "import IMP.pmi.representation as representation\n",
      "import IMP.pmi.tools as tools\n",
      "import IMP.pmi.samplers as samplers\n",
      "import IMP.pmi.output as output"
     ],
     "language": "python",
     "metadata": {},
     "outputs": [],
     "prompt_number": 2
    },
    {
     "cell_type": "code",
     "collapsed": false,
     "input": [
      "#IMP.base.set_log_level(IMP.base.SILENT)"
     ],
     "language": "python",
     "metadata": {},
     "outputs": [],
     "prompt_number": 3
    },
    {
     "cell_type": "markdown",
     "metadata": {},
     "source": [
      "Input parameters"
     ]
    },
    {
     "cell_type": "code",
     "collapsed": false,
     "input": [
      "pdbfile=IMP.pmi.get_data_path(\"1WCM.pdb\")\n",
      "fastafile=IMP.pmi.get_data_path(\"1WCM.fasta.txt\")\n",
      "fastids=tools.get_ids_from_fasta_file(fastafile)\n",
      "missing_bead_size=20"
     ],
     "language": "python",
     "metadata": {},
     "outputs": [],
     "prompt_number": 5
    },
    {
     "cell_type": "markdown",
     "metadata": {},
     "source": [
      "Define a data table, consisting of the Component name, the pdbfile from where you want to read the coordinates, the chain name, the color assignemd in the rmf file, the fasta file and the index of the sequence in a the fasta file"
     ]
    },
    {
     "cell_type": "code",
     "collapsed": false,
     "input": [
      "#         Component  pdbfile    chainid  rgb color     fastafile     sequence id \n",
      "#                                                                    in fastafile\n",
      "data = [(\"Rpb1\",     pdbfile,   \"A\",     0.00000000,  (fastafile,    0)),\n",
      "        (\"Rpb2\",     pdbfile,   \"B\",     0.09090909,  (fastafile,    1)),\n",
      "        (\"Rpb3\",     pdbfile,   \"C\",     0.18181818,  (fastafile,    2)),\n",
      "        (\"Rpb4\",     pdbfile,   \"D\",     0.27272727,  (fastafile,    3)),\n",
      "        (\"Rpb5\",     pdbfile,   \"E\",     0.36363636,  (fastafile,    4)),\n",
      "        (\"Rpb6\",     pdbfile,   \"F\",     0.45454545,  (fastafile,    5)),\n",
      "        (\"Rpb7\",     pdbfile,   \"G\",     0.54545455,  (fastafile,    6)),\n",
      "        (\"Rpb8\",     pdbfile,   \"H\",     0.63636364,  (fastafile,    7)),\n",
      "        (\"Rpb9\",     pdbfile,   \"I\",     0.72727273,  (fastafile,    8)),\n",
      "        (\"Rpb10\",    pdbfile,   \"L\",     0.81818182,  (fastafile,    9)),\n",
      "        (\"Rpb11\",    pdbfile,   \"J\",     0.90909091,  (fastafile,   10)),\n",
      "        (\"Rpb12\",    pdbfile,   \"K\",     1.00000000,  (fastafile,   11))]                    "
     ],
     "language": "python",
     "metadata": {},
     "outputs": [],
     "prompt_number": 6
    },
    {
     "cell_type": "markdown",
     "metadata": {},
     "source": [
      "mapping the file columns for crosslinks"
     ]
    },
    {
     "cell_type": "code",
     "collapsed": false,
     "input": [
      "crosslink_file='polii_xlinks.csv'\n",
      "\n",
      "columnmap={}\n",
      "columnmap[\"Protein1\"]=\"pep1.accession\"\n",
      "columnmap[\"Protein2\"]=\"pep2.accession\"\n",
      "columnmap[\"Residue1\"]=\"pep1.xlinked_aa\"\n",
      "columnmap[\"Residue2\"]=\"pep2.xlinked_aa\""
     ],
     "language": "python",
     "metadata": {},
     "outputs": [],
     "prompt_number": 7
    },
    {
     "cell_type": "markdown",
     "metadata": {},
     "source": [
      "create the representation"
     ]
    },
    {
     "cell_type": "code",
     "collapsed": false,
     "input": [
      "log_objects=[]\n",
      "optimizable_objects=[]\n",
      "\n",
      "m=IMP.Model()\n",
      "r=representation.Representation(m) "
     ],
     "language": "python",
     "metadata": {},
     "outputs": [],
     "prompt_number": 8
    },
    {
     "cell_type": "code",
     "collapsed": false,
     "input": [
      "hierarchies={}\n",
      "\n",
      "for d in data:\n",
      "    component_name=d[0]\n",
      "    pdb_file=d[1]\n",
      "    chain_id=d[2]\n",
      "    color_id=d[3]\n",
      "    fasta_file=d[4][0]\n",
      "    fasta_file_id=d[4][1]\n",
      "    #avoid to add a component with the same name\n",
      "    r.create_component(component_name,\n",
      "                       color=color_id)\n",
      "                       \n",
      "    r.add_component_sequence(component_name,\n",
      "                             fasta_file,\n",
      "                             id=fastids[fasta_file_id])\n",
      "                             \n",
      "    hierarchies=r.autobuild_model(component_name,\n",
      "                                   pdb_file,\n",
      "                                   chain_id,\n",
      "                                   resolutions=[1,10],\n",
      "                                   missingbeadsize=missing_bead_size)\n",
      "                                   \n",
      "    r.show_component_table(component_name)\n",
      "    \n",
      "    r.set_rigid_bodies([component_name])\n",
      "    \n",
      "    #r.set_chain_of_super_rigid_bodies(hierarchies,min_length=2,max_length=2)\n",
      "    \n",
      "    r.setup_component_sequence_connectivity(component_name,resolution=1)\n",
      "    \n",
      "    \n",
      "r.setup_bonds()\n",
      "#put it at the end of rigid bodies\n",
      "r.set_floppy_bodies()\n",
      "\n",
      "#set current coordinates as reference for RMSD calculation \n",
      "r.set_current_coordinates_as_reference_for_rmsd(\"Reference\")"
     ],
     "language": "python",
     "metadata": {},
     "outputs": [
      {
       "output_type": "stream",
       "stream": "stdout",
       "text": [
        "autobuild_model: constructing Rpb1 from pdb /Users/riccardopellarin/imp-200114/imp-fast/data/pmi/1WCM.pdb and chain A\n",
        "autobuild_model: constructing fragment (1, 1) as a bead"
       ]
      },
      {
       "output_type": "stream",
       "stream": "stdout",
       "text": [
        "\n",
        "autobuild_model: constructing fragment (2, 186) from pdb\n",
        "autobuild_model: constructing fragment (187, 194) as a bead"
       ]
      },
      {
       "output_type": "stream",
       "stream": "stdout",
       "text": [
        "\n",
        "autobuild_model: constructing fragment (195, 1081) from pdb\n",
        "autobuild_model: constructing fragment (1082, 1091) as a bead"
       ]
      },
      {
       "output_type": "stream",
       "stream": "stdout",
       "text": [
        "\n",
        "autobuild_model: constructing fragment (1092, 1176) from pdb\n",
        "autobuild_model: constructing fragment (1177, 1186) as a bead"
       ]
      },
      {
       "output_type": "stream",
       "stream": "stdout",
       "text": [
        "\n",
        "autobuild_model: constructing fragment (1187, 1243) from pdb\n",
        "autobuild_model: constructing fragment (1244, 1253) as a bead"
       ]
      },
      {
       "output_type": "stream",
       "stream": "stdout",
       "text": [
        "\n",
        "autobuild_model: constructing fragment (1254, 1455) from pdb\n",
        "autobuild_model: constructing fragment (1456, 1733) as a bead"
       ]
      },
      {
       "output_type": "stream",
       "stream": "stdout",
       "text": [
        "\n",
        "                Rpb1       1"
       ]
      },
      {
       "output_type": "stream",
       "stream": "stdout",
       "text": [
        "          Rpb1_1_bead     1.0\n",
        "                Rpb1       2           Rpb1_2_pdb     1.0        Rpb1_2_11_pdb    10.0\n",
        "                Rpb1       3           Rpb1_3_pdb     1.0        Rpb1_2_11_pdb    10.0\n",
        "                Rpb1       4           Rpb1_4_pdb     1.0        Rpb1_2_11_pdb    10.0\n",
        "                Rpb1       5           Rpb1_5_pdb     1.0        Rpb1_2_11_pdb    10.0\n",
        "                Rpb1       6           Rpb1_6_pdb     1.0        Rpb1_2_11_pdb    10.0\n",
        "                Rpb1       7           Rpb1_7_pdb     1.0        Rpb1_2_11_pdb    10.0\n",
        "                Rpb1       8           Rpb1_8_pdb     1.0        Rpb1_2_11_pdb    10.0\n",
        "                Rpb1       9           Rpb1_9_pdb     1.0        Rpb1_2_11_pdb    10.0\n",
        "                Rpb1      10          Rpb1_10_pdb     1.0        Rpb1_2_11_pdb    10.0\n",
        "                Rpb1      11          Rpb1_11_pdb     1.0        Rpb1_2_11_pdb    10.0\n",
        "                Rpb1      12          Rpb1_12_pdb     1.0       Rpb1_12_21_pdb    10.0\n",
        "                Rpb1      13          Rpb1_13_pdb     1.0       Rpb1_12_21_pdb    10.0\n",
        "                Rpb1      14          Rpb1_14_pdb     1.0       Rpb1_12_21_pdb    10.0\n",
        "                Rpb1      15          Rpb1_15_pdb     1.0       Rpb1_12_21_pdb    10.0\n",
        "                Rpb1      16          Rpb1_16_pdb     1.0       Rpb1_12_21_pdb    10.0\n",
        "                Rpb1      17          Rpb1_17_pdb     1.0       Rpb1_12_21_pdb    10.0\n",
        "                Rpb1      18          Rpb1_18_pdb     1.0       Rpb1_12_21_pdb    10.0\n",
        "                Rpb1      19          Rpb1_19_pdb     1.0       Rpb1_12_21_pdb    10.0\n",
        "                Rpb1      20          Rpb1_20_pdb     1.0       Rpb1_12_21_pdb    10.0\n",
        "                Rpb1      21          Rpb1_21_pdb     1.0       Rpb1_12_21_pdb    10.0\n",
        "                Rpb1      22          Rpb1_22_pdb     1.0       Rpb1_22_31_pdb    10.0\n",
        "                Rpb1      23          Rpb1_23_pdb     1.0       Rpb1_22_31_pdb    10.0\n",
        "                Rpb1      24          Rpb1_24_pdb     1.0       Rpb1_22_31_pdb    10.0\n",
        "                Rpb1      25          Rpb1_25_pdb     1.0       Rpb1_22_31_pdb    10.0\n",
        "                Rpb1      26          Rpb1_26_pdb     1.0       Rpb1_22_31_pdb    10.0\n",
        "                Rpb1      27          Rpb1_27_pdb     1.0       Rpb1_22_31_pdb    10.0\n",
        "                Rpb1      28          Rpb1_28_pdb     1.0       Rpb1_22_31_pdb    10.0\n",
        "                Rpb1      29          Rpb1_29_pdb     1.0       Rpb1_22_31_pdb    10.0\n",
        "                Rpb1      30          Rpb1_30_pdb     1.0       Rpb1_22_31_pdb    10.0\n",
        "                Rpb1      31          Rpb1_31_pdb     1.0       Rpb1_22_31_pdb    10.0\n",
        "                Rpb1      32          Rpb1_32_pdb     1.0       Rpb1_32_41_pdb    10.0\n",
        "                Rpb1      33          Rpb1_33_pdb     1.0       Rpb1_32_41_pdb    10.0\n",
        "                Rpb1      34          Rpb1_34_pdb     1.0       Rpb1_32_41_pdb    10.0\n",
        "                Rpb1      35          Rpb1_35_pdb     1.0       Rpb1_32_41_pdb    10.0\n",
        "                Rpb1      36          Rpb1_36_pdb     1.0       Rpb1_32_41_pdb    10.0\n",
        "                Rpb1      37          Rpb1_37_pdb     1.0       Rpb1_32_41_pdb    10.0\n",
        "                Rpb1      38          Rpb1_38_pdb     1.0       Rpb1_32_41_pdb    10.0\n",
        "                Rpb1      39          Rpb1_39_pdb     1.0       Rpb1_32_41_pdb    10.0\n",
        "                Rpb1      40          Rpb1_40_pdb     1.0       Rpb1_32_41_pdb    10.0\n",
        "                Rpb1      41          Rpb1_41_pdb     1.0       Rpb1_32_41_pdb    10.0\n",
        "                Rpb1      42          Rpb1_42_pdb     1.0       Rpb1_42_51_pdb    10.0\n",
        "                Rpb1      43          Rpb1_43_pdb     1.0       Rpb1_42_51_pdb    10.0\n",
        "                Rpb1      44          Rpb1_44_pdb     1.0       Rpb1_42_51_pdb    10.0\n",
        "                Rpb1      45          Rpb1_45_pdb     1.0       Rpb1_42_51_pdb    10.0\n",
        "                Rpb1      46          Rpb1_46_pdb     1.0       Rpb1_42_51_pdb    10.0\n",
        "                Rpb1      47          Rpb1_47_pdb     1.0       Rpb1_42_51_pdb    10.0\n",
        "                Rpb1      48          Rpb1_48_pdb     1.0       Rpb1_42_51_pdb    10.0\n",
        "                Rpb1      49          Rpb1_49_pdb     1.0       Rpb1_42_51_pdb    10.0\n",
        "                Rpb1      50          Rpb1_50_pdb     1.0       Rpb1_42_51_pdb    10.0\n",
        "                Rpb1      51          Rpb1_51_pdb     1.0       Rpb1_42_51_pdb    10.0\n",
        "                Rpb1      52          Rpb1_52_pdb     1.0       Rpb1_52_61_pdb    10.0\n",
        "                Rpb1      53          Rpb1_53_pdb     1.0       Rpb1_52_61_pdb    10.0\n",
        "                Rpb1      54          Rpb1_54_pdb     1.0       Rpb1_52_61_pdb    10.0\n",
        "                Rpb1      55          Rpb1_55_pdb     1.0       Rpb1_52_61_pdb    10.0\n",
        "                Rpb1      56          Rpb1_56_pdb     1.0       Rpb1_52_61_pdb    10.0\n",
        "                Rpb1      57          Rpb1_57_pdb     1.0       Rpb1_52_61_pdb    10.0\n",
        "                Rpb1      58          Rpb1_58_pdb     1.0       Rpb1_52_61_pdb    10.0\n",
        "                Rpb1      59          Rpb1_59_pdb     1.0       Rpb1_52_61_pdb    10.0\n",
        "                Rpb1      60          Rpb1_60_pdb     1.0       Rpb1_52_61_pdb    10.0\n",
        "                Rpb1      61          Rpb1_61_pdb     1.0       Rpb1_52_61_pdb    10.0\n",
        "                Rpb1      62          Rpb1_62_pdb     1.0       Rpb1_62_71_pdb    10.0\n",
        "                Rpb1      63          Rpb1_63_pdb     1.0       Rpb1_62_71_pdb    10.0\n",
        "                Rpb1      64          Rpb1_64_pdb     1.0       Rpb1_62_71_pdb    10.0\n",
        "                Rpb1      65          Rpb1_65_pdb     1.0       Rpb1_62_71_pdb    10.0\n",
        "                Rpb1      66          Rpb1_66_pdb     1.0       Rpb1_62_71_pdb    10.0\n",
        "                Rpb1      67          Rpb1_67_pdb     1.0       Rpb1_62_71_pdb    10.0\n",
        "                Rpb1      68          Rpb1_68_pdb     1.0       Rpb1_62_71_pdb    10.0\n",
        "                Rpb1      69          Rpb1_69_pdb     1.0       Rpb1_62_71_pdb    10.0\n",
        "                Rpb1      70          Rpb1_70_pdb     1.0       Rpb1_62_71_pdb    10.0\n",
        "                Rpb1      71          Rpb1_71_pdb     1.0       Rpb1_62_71_pdb    10.0\n",
        "                Rpb1      72          Rpb1_72_pdb     1.0       Rpb1_72_81_pdb    10.0\n",
        "                Rpb1      73          Rpb1_73_pdb     1.0       Rpb1_72_81_pdb    10.0\n",
        "                Rpb1      74          Rpb1_74_pdb     1.0       Rpb1_72_81_pdb    10.0\n",
        "                Rpb1      75          Rpb1_75_pdb     1.0       Rpb1_72_81_pdb    10.0\n",
        "                Rpb1      76          Rpb1_76_pdb     1.0       Rpb1_72_81_pdb    10.0\n",
        "                Rpb1      77          Rpb1_77_pdb     1.0       Rpb1_72_81_pdb    10.0\n",
        "                Rpb1      78          Rpb1_78_pdb     1.0       Rpb1_72_81_pdb    10.0\n",
        "                Rpb1      79          Rpb1_79_pdb     1.0       Rpb1_72_81_pdb    10.0\n",
        "                Rpb1      80          Rpb1_80_pdb     1.0       Rpb1_72_81_pdb    10.0\n",
        "                Rpb1      81          Rpb1_81_pdb     1.0       Rpb1_72_81_pdb    10.0\n",
        "                Rpb1      82          Rpb1_82_pdb     1.0       Rpb1_82_91_pdb    10.0\n",
        "                Rpb1      83          Rpb1_83_pdb     1.0       Rpb1_82_91_pdb    10.0\n",
        "                Rpb1      84          Rpb1_84_pdb     1.0       Rpb1_82_91_pdb    10.0\n",
        "                Rpb1      85          Rpb1_85_pdb     1.0       Rpb1_82_91_pdb    10.0\n",
        "                Rpb1      86          Rpb1_86_pdb     1.0       Rpb1_82_91_pdb    10.0\n",
        "                Rpb1      87          Rpb1_87_pdb     1.0       Rpb1_82_91_pdb    10.0\n",
        "                Rpb1      88          Rpb1_88_pdb     1.0       Rpb1_82_91_pdb    10.0\n",
        "                Rpb1      89          Rpb1_89_pdb     1.0       Rpb1_82_91_pdb    10.0\n",
        "                Rpb1      90          Rpb1_90_pdb     1.0       Rpb1_82_91_pdb    10.0\n",
        "                Rpb1      91          Rpb1_91_pdb     1.0       Rpb1_82_91_pdb    10.0\n",
        "                Rpb1      92          Rpb1_92_pdb     1.0      Rpb1_92_101_pdb    10.0\n",
        "                Rpb1      93          Rpb1_93_pdb     1.0      Rpb1_92_101_pdb    10.0\n",
        "                Rpb1      94          Rpb1_94_pdb     1.0      Rpb1_92_101_pdb    10.0\n",
        "                Rpb1      95          Rpb1_95_pdb     1.0      Rpb1_92_101_pdb    10.0\n",
        "                Rpb1      96          Rpb1_96_pdb     1.0      Rpb1_92_101_pdb    10.0\n",
        "                Rpb1      97          Rpb1_97_pdb     1.0      Rpb1_92_101_pdb    10.0\n",
        "                Rpb1      98          Rpb1_98_pdb     1.0      Rpb1_92_101_pdb    10.0\n",
        "                Rpb1      99          Rpb1_99_pdb     1.0      Rpb1_92_101_pdb    10.0\n",
        "                Rpb1     100         Rpb1_100_pdb     1.0      Rpb1_92_101_pdb    10.0\n",
        "                Rpb1     101         Rpb1_101_pdb     1.0      Rpb1_92_101_pdb    10.0\n",
        "                Rpb1     102         Rpb1_102_pdb     1.0     Rpb1_102_111_pdb    10.0\n",
        "                Rpb1     103         Rpb1_103_pdb     1.0     Rpb1_102_111_pdb    10.0\n",
        "                Rpb1     104         Rpb1_104_pdb     1.0     Rpb1_102_111_pdb    10.0\n",
        "                Rpb1     105         Rpb1_105_pdb     1.0     Rpb1_102_111_pdb    10.0\n",
        "                Rpb1     106         Rpb1_106_pdb     1.0     Rpb1_102_111_pdb    10.0\n",
        "                Rpb1     107         Rpb1_107_pdb     1.0     Rpb1_102_111_pdb    10.0\n",
        "                Rpb1     108         Rpb1_108_pdb     1.0     Rpb1_102_111_pdb    10.0\n",
        "                Rpb1     109         Rpb1_109_pdb     1.0     Rpb1_102_111_pdb    10.0\n",
        "                Rpb1     110         Rpb1_110_pdb     1.0     Rpb1_102_111_pdb    10.0\n",
        "                Rpb1     111         Rpb1_111_pdb     1.0     Rpb1_102_111_pdb    10.0\n",
        "                Rpb1     112         Rpb1_112_pdb     1.0     Rpb1_112_121_pdb    10.0\n",
        "                Rpb1     113         Rpb1_113_pdb     1.0     Rpb1_112_121_pdb    10.0\n",
        "                Rpb1     114         Rpb1_114_pdb     1.0     Rpb1_112_121_pdb    10.0\n",
        "                Rpb1     115         Rpb1_115_pdb     1.0     Rpb1_112_121_pdb    10.0\n",
        "                Rpb1     116         Rpb1_116_pdb     1.0     Rpb1_112_121_pdb    10.0\n",
        "                Rpb1     117         Rpb1_117_pdb     1.0     Rpb1_112_121_pdb    10.0\n",
        "                Rpb1     118         Rpb1_118_pdb     1.0     Rpb1_112_121_pdb    10.0\n",
        "                Rpb1     119         Rpb1_119_pdb     1.0     Rpb1_112_121_pdb    10.0\n",
        "                Rpb1     120         Rpb1_120_pdb     1.0     Rpb1_112_121_pdb    10.0\n",
        "                Rpb1     121         Rpb1_121_pdb     1.0     Rpb1_112_121_pdb    10.0\n",
        "                Rpb1     122         Rpb1_122_pdb     1.0     Rpb1_122_131_pdb    10.0\n",
        "                Rpb1     123         Rpb1_123_pdb     1.0     Rpb1_122_131_pdb    10.0\n",
        "                Rpb1     124         Rpb1_124_pdb     1.0     Rpb1_122_131_pdb    10.0\n",
        "                Rpb1     125         Rpb1_125_pdb     1.0     Rpb1_122_131_pdb    10.0\n",
        "                Rpb1     126         Rpb1_126_pdb     1.0     Rpb1_122_131_pdb    10.0\n",
        "                Rpb1     127         Rpb1_127_pdb     1.0     Rpb1_122_131_pdb    10.0\n",
        "                Rpb1     128         Rpb1_128_pdb     1.0     Rpb1_122_131_pdb    10.0\n",
        "                Rpb1     129         Rpb1_129_pdb     1.0     Rpb1_122_131_pdb    10.0\n",
        "                Rpb1     130         Rpb1_130_pdb     1.0     Rpb1_122_131_pdb    10.0\n",
        "                Rpb1     131         Rpb1_131_pdb     1.0     Rpb1_122_131_pdb    10.0\n",
        "                Rpb1     132         Rpb1_132_pdb     1.0     Rpb1_132_141_pdb    10.0\n",
        "                Rpb1     133         Rpb1_133_pdb     1.0     Rpb1_132_141_pdb    10.0\n",
        "                Rpb1     134         Rpb1_134_pdb     1.0     Rpb1_132_141_pdb    10.0\n",
        "                Rpb1     135         Rpb1_135_pdb     1.0     Rpb1_132_141_pdb    10.0\n",
        "                Rpb1     136         Rpb1_136_pdb     1.0     Rpb1_132_141_pdb    10.0\n",
        "                Rpb1     137         Rpb1_137_pdb     1.0     Rpb1_132_141_pdb    10.0\n",
        "                Rpb1     138         Rpb1_138_pdb     1.0     Rpb1_132_141_pdb    10.0\n",
        "                Rpb1     139         Rpb1_139_pdb     1.0     Rpb1_132_141_pdb    10.0\n",
        "                Rpb1     140         Rpb1_140_pdb     1.0     Rpb1_132_141_pdb    10.0\n",
        "                Rpb1     141         Rpb1_141_pdb     1.0     Rpb1_132_141_pdb    10.0\n",
        "                Rpb1     142         Rpb1_142_pdb     1.0     Rpb1_142_151_pdb    10.0\n",
        "                Rpb1     143         Rpb1_143_pdb     1.0     Rpb1_142_151_pdb    10.0\n",
        "                Rpb1     144         Rpb1_144_pdb     1.0     Rpb1_142_151_pdb    10.0\n",
        "                Rpb1     145         Rpb1_145_pdb     1.0     Rpb1_142_151_pdb    10.0\n",
        "                Rpb1     146         Rpb1_146_pdb     1.0     Rpb1_142_151_pdb    10.0\n",
        "                Rpb1     147         Rpb1_147_pdb     1.0     Rpb1_142_151_pdb    10.0\n",
        "                Rpb1     148         Rpb1_148_pdb     1.0     Rpb1_142_151_pdb    10.0\n",
        "                Rpb1     149         Rpb1_149_pdb     1.0     Rpb1_142_151_pdb    10.0\n",
        "                Rpb1     150         Rpb1_150_pdb     1.0     Rpb1_142_151_pdb    10.0\n",
        "                Rpb1     151         Rpb1_151_pdb     1.0     Rpb1_142_151_pdb    10.0\n",
        "                Rpb1     152         Rpb1_152_pdb     1.0     Rpb1_152_161_pdb    10.0\n",
        "                Rpb1     153         Rpb1_153_pdb     1.0     Rpb1_152_161_pdb    10.0\n",
        "                Rpb1     154         Rpb1_154_pdb     1.0     Rpb1_152_161_pdb    10.0\n",
        "                Rpb1     155         Rpb1_155_pdb     1.0     Rpb1_152_161_pdb    10.0\n",
        "                Rpb1     156         Rpb1_156_pdb     1.0     Rpb1_152_161_pdb    10.0\n",
        "                Rpb1     157         Rpb1_157_pdb     1.0     Rpb1_152_161_pdb    10.0\n",
        "                Rpb1     158         Rpb1_158_pdb     1.0     Rpb1_152_161_pdb    10.0\n",
        "                Rpb1     159         Rpb1_159_pdb     1.0     Rpb1_152_161_pdb    10.0\n",
        "                Rpb1     160         Rpb1_160_pdb     1.0     Rpb1_152_161_pdb    10.0\n",
        "                Rpb1     161         Rpb1_161_pdb     1.0     Rpb1_152_161_pdb    10.0\n",
        "                Rpb1     162         Rpb1_162_pdb     1.0     Rpb1_162_171_pdb    10.0\n",
        "                Rpb1     163         Rpb1_163_pdb     1.0     Rpb1_162_171_pdb    10.0\n",
        "                Rpb1     164         Rpb1_164_pdb     1.0     Rpb1_162_171_pdb    10.0\n",
        "                Rpb1     165         Rpb1_165_pdb     1.0     Rpb1_162_171_pdb    10.0\n",
        "                Rpb1     166         Rpb1_166_pdb     1.0     Rpb1_162_171_pdb    10.0\n",
        "                Rpb1     167         Rpb1_167_pdb     1.0     Rpb1_162_171_pdb    10.0\n",
        "                Rpb1     168         Rpb1_168_pdb     1.0     Rpb1_162_171_pdb    10.0\n",
        "                Rpb1     169         Rpb1_169_pdb     1.0     Rpb1_162_171_pdb    10.0\n",
        "                Rpb1     170         Rpb1_170_pdb     1.0     Rpb1_162_171_pdb    10.0\n",
        "                Rpb1     171         Rpb1_171_pdb     1.0     Rpb1_162_171_pdb    10.0\n",
        "                Rpb1     172         Rpb1_172_pdb     1.0     Rpb1_172_181_pdb    10.0\n",
        "                Rpb1     173         Rpb1_173_pdb     1.0     Rpb1_172_181_pdb    10.0\n",
        "                Rpb1     174         Rpb1_174_pdb     1.0     Rpb1_172_181_pdb    10.0\n",
        "                Rpb1     175         Rpb1_175_pdb     1.0     Rpb1_172_181_pdb    10.0\n",
        "                Rpb1     176         Rpb1_176_pdb     1.0     Rpb1_172_181_pdb    10.0\n",
        "                Rpb1     177         Rpb1_177_pdb     1.0     Rpb1_172_181_pdb    10.0\n",
        "                Rpb1     178         Rpb1_178_pdb     1.0     Rpb1_172_181_pdb    10.0\n",
        "                Rpb1     179         Rpb1_179_pdb     1.0     Rpb1_172_181_pdb    10.0\n",
        "                Rpb1     180         Rpb1_180_pdb     1.0     Rpb1_172_181_pdb    10.0\n",
        "                Rpb1     181         Rpb1_181_pdb     1.0     Rpb1_172_181_pdb    10.0\n",
        "                Rpb1     182         Rpb1_182_pdb     1.0     Rpb1_182_186_pdb    10.0\n",
        "                Rpb1     183         Rpb1_183_pdb     1.0     Rpb1_182_186_pdb    10.0\n",
        "                Rpb1     184         Rpb1_184_pdb     1.0     Rpb1_182_186_pdb    10.0\n",
        "                Rpb1     185         Rpb1_185_pdb     1.0     Rpb1_182_186_pdb    10.0\n",
        "                Rpb1     186         Rpb1_186_pdb     1.0     Rpb1_182_186_pdb    10.0\n",
        "                Rpb1     187    Rpb1_187-194_bead     8.0\n",
        "                Rpb1     188    Rpb1_187-194_bead     8.0\n",
        "                Rpb1     189    Rpb1_187-194_bead     8.0\n",
        "                Rpb1     190    Rpb1_187-194_bead     8.0\n",
        "                Rpb1     191    Rpb1_187-194_bead     8.0\n",
        "                Rpb1     192    Rpb1_187-194_bead     8.0\n",
        "                Rpb1     193    Rpb1_187-194_bead     8.0\n",
        "                Rpb1     194    Rpb1_187-194_bead     8.0\n",
        "                Rpb1     195         Rpb1_195_pdb     1.0     Rpb1_195_204_pdb    10.0\n",
        "                Rpb1     196         Rpb1_196_pdb     1.0     Rpb1_195_204_pdb    10.0\n",
        "                Rpb1     197         Rpb1_197_pdb     1.0     Rpb1_195_204_pdb    10.0\n",
        "                Rpb1     198         Rpb1_198_pdb     1.0     Rpb1_195_204_pdb    10.0\n",
        "                Rpb1     199         Rpb1_199_pdb     1.0     Rpb1_195_204_pdb    10.0\n",
        "                Rpb1     200         Rpb1_200_pdb     1.0     Rpb1_195_204_pdb    10.0\n",
        "                Rpb1     201         Rpb1_201_pdb     1.0     Rpb1_195_204_pdb    10.0\n",
        "                Rpb1     202         Rpb1_202_pdb     1.0     Rpb1_195_204_pdb    10.0\n",
        "                Rpb1     203         Rpb1_203_pdb     1.0     Rpb1_195_204_pdb    10.0\n",
        "                Rpb1     204         Rpb1_204_pdb     1.0     Rpb1_195_204_pdb    10.0\n",
        "                Rpb1     205         Rpb1_205_pdb     1.0     Rpb1_205_214_pdb    10.0\n",
        "                Rpb1     206         Rpb1_206_pdb     1.0     Rpb1_205_214_pdb    10.0\n",
        "                Rpb1     207         Rpb1_207_pdb     1.0     Rpb1_205_214_pdb    10.0\n",
        "                Rpb1     208         Rpb1_208_pdb     1.0     Rpb1_205_214_pdb    10.0\n",
        "                Rpb1     209         Rpb1_209_pdb     1.0     Rpb1_205_214_pdb    10.0\n",
        "                Rpb1     210         Rpb1_210_pdb     1.0     Rpb1_205_214_pdb    10.0\n",
        "                Rpb1     211         Rpb1_211_pdb     1.0     Rpb1_205_214_pdb    10.0\n",
        "                Rpb1     212         Rpb1_212_pdb     1.0     Rpb1_205_214_pdb    10.0\n",
        "                Rpb1     213         Rpb1_213_pdb     1.0     Rpb1_205_214_pdb    10.0\n",
        "                Rpb1     214         Rpb1_214_pdb     1.0     Rpb1_205_214_pdb    10.0\n",
        "                Rpb1     215         Rpb1_215_pdb     1.0     Rpb1_215_224_pdb    10.0\n",
        "                Rpb1     216         Rpb1_216_pdb     1.0     Rpb1_215_224_pdb    10.0\n",
        "                Rpb1     217         Rpb1_217_pdb     1.0     Rpb1_215_224_pdb    10.0\n",
        "                Rpb1     218         Rpb1_218_pdb     1.0     Rpb1_215_224_pdb    10.0\n",
        "                Rpb1     219         Rpb1_219_pdb     1.0     Rpb1_215_224_pdb    10.0\n",
        "                Rpb1     220         Rpb1_220_pdb     1.0     Rpb1_215_224_pdb    10.0\n",
        "                Rpb1     221         Rpb1_221_pdb     1.0     Rpb1_215_224_pdb    10.0\n",
        "                Rpb1     222         Rpb1_222_pdb     1.0     Rpb1_215_224_pdb    10.0\n",
        "                Rpb1     223         Rpb1_223_pdb     1.0     Rpb1_215_224_pdb    10.0\n",
        "                Rpb1     224         Rpb1_224_pdb     1.0     Rpb1_215_224_pdb    10.0\n",
        "                Rpb1     225         Rpb1_225_pdb     1.0     Rpb1_225_234_pdb    10.0\n",
        "                Rpb1     226         Rpb1_226_pdb     1.0     Rpb1_225_234_pdb    10.0\n",
        "                Rpb1     227         Rpb1_227_pdb     1.0     Rpb1_225_234_pdb    10.0\n",
        "                Rpb1     228         Rpb1_228_pdb     1.0     Rpb1_225_234_pdb    10.0\n",
        "                Rpb1     229         Rpb1_229_pdb     1.0     Rpb1_225_234_pdb    10.0\n",
        "                Rpb1     230         Rpb1_230_pdb     1.0     Rpb1_225_234_pdb    10.0\n",
        "                Rpb1     231         Rpb1_231_pdb     1.0     Rpb1_225_234_pdb    10.0\n",
        "                Rpb1     232         Rpb1_232_pdb     1.0     Rpb1_225_234_pdb    10.0\n",
        "                Rpb1     233         Rpb1_233_pdb     1.0     Rpb1_225_234_pdb    10.0\n",
        "                Rpb1     234         Rpb1_234_pdb     1.0     Rpb1_225_234_pdb    10.0\n",
        "                Rpb1     235         Rpb1_235_pdb     1.0     Rpb1_235_244_pdb    10.0\n",
        "                Rpb1     236         Rpb1_236_pdb     1.0     Rpb1_235_244_pdb    10.0\n",
        "                Rpb1     237         Rpb1_237_pdb     1.0     Rpb1_235_244_pdb    10.0\n",
        "                Rpb1     238         Rpb1_238_pdb     1.0     Rpb1_235_244_pdb    10.0\n",
        "                Rpb1     239         Rpb1_239_pdb     1.0     Rpb1_235_244_pdb    10.0\n",
        "                Rpb1     240         Rpb1_240_pdb     1.0     Rpb1_235_244_pdb    10.0\n",
        "                Rpb1     241         Rpb1_241_pdb     1.0     Rpb1_235_244_pdb    10.0\n",
        "                Rpb1     242         Rpb1_242_pdb     1.0     Rpb1_235_244_pdb    10.0\n",
        "                Rpb1     243         Rpb1_243_pdb     1.0     Rpb1_235_244_pdb    10.0\n",
        "                Rpb1     244         Rpb1_244_pdb     1.0     Rpb1_235_244_pdb    10.0\n",
        "                Rpb1     245         Rpb1_245_pdb     1.0     Rpb1_245_254_pdb    10.0\n",
        "                Rpb1     246         Rpb1_246_pdb     1.0     Rpb1_245_254_pdb    10.0\n",
        "                Rpb1     247         Rpb1_247_pdb     1.0     Rpb1_245_254_pdb    10.0\n",
        "                Rpb1     248         Rpb1_248_pdb     1.0     Rpb1_245_254_pdb    10.0\n",
        "                Rpb1     249         Rpb1_249_pdb     1.0     Rpb1_245_254_pdb    10.0\n",
        "                Rpb1     250         Rpb1_250_pdb     1.0     Rpb1_245_254_pdb    10.0\n",
        "                Rpb1     251         Rpb1_251_pdb     1.0     Rpb1_245_254_pdb    10.0\n",
        "                Rpb1     252         Rpb1_252_pdb     1.0     Rpb1_245_254_pdb    10.0\n",
        "                Rpb1     253         Rpb1_253_pdb     1.0     Rpb1_245_254_pdb    10.0\n",
        "                Rpb1     254         Rpb1_254_pdb     1.0     Rpb1_245_254_pdb    10.0\n",
        "                Rpb1     255         Rpb1_255_pdb     1.0     Rpb1_255_264_pdb    10.0\n",
        "                Rpb1     256         Rpb1_256_pdb     1.0     Rpb1_255_264_pdb    10.0\n",
        "                Rpb1     257         Rpb1_257_pdb     1.0     Rpb1_255_264_pdb    10.0\n",
        "                Rpb1     258         Rpb1_258_pdb     1.0     Rpb1_255_264_pdb    10.0\n",
        "                Rpb1     259         Rpb1_259_pdb     1.0     Rpb1_255_264_pdb    10.0\n",
        "                Rpb1     260         Rpb1_260_pdb     1.0     Rpb1_255_264_pdb    10.0\n",
        "                Rpb1     261         Rpb1_261_pdb     1.0     Rpb1_255_264_pdb    10.0\n",
        "                Rpb1     262         Rpb1_262_pdb     1.0     Rpb1_255_264_pdb    10.0\n",
        "                Rpb1     263         Rpb1_263_pdb     1.0     Rpb1_255_264_pdb    10.0\n",
        "                Rpb1     264         Rpb1_264_pdb     1.0     Rpb1_255_264_pdb    10.0\n",
        "                Rpb1     265         Rpb1_265_pdb     1.0     Rpb1_265_274_pdb    10.0\n",
        "                Rpb1     266         Rpb1_266_pdb     1.0     Rpb1_265_274_pdb    10.0\n",
        "                Rpb1     267         Rpb1_267_pdb     1.0     Rpb1_265_274_pdb    10.0\n",
        "                Rpb1     268         Rpb1_268_pdb     1.0     Rpb1_265_274_pdb    10.0\n",
        "                Rpb1     269         Rpb1_269_pdb     1.0     Rpb1_265_274_pdb    10.0\n",
        "                Rpb1     270         Rpb1_270_pdb     1.0     Rpb1_265_274_pdb    10.0\n",
        "                Rpb1     271         Rpb1_271_pdb     1.0     Rpb1_265_274_pdb    10.0\n",
        "                Rpb1     272         Rpb1_272_pdb     1.0     Rpb1_265_274_pdb    10.0\n",
        "                Rpb1     273         Rpb1_273_pdb     1.0     Rpb1_265_274_pdb    10.0\n",
        "                Rpb1     274         Rpb1_274_pdb     1.0     Rpb1_265_274_pdb    10.0\n",
        "                Rpb1     275         Rpb1_275_pdb     1.0     Rpb1_275_284_pdb    10.0\n",
        "                Rpb1     276         Rpb1_276_pdb     1.0     Rpb1_275_284_pdb    10.0\n",
        "                Rpb1     277         Rpb1_277_pdb     1.0     Rpb1_275_284_pdb    10.0\n",
        "                Rpb1     278         Rpb1_278_pdb     1.0     Rpb1_275_284_pdb    10.0\n",
        "                Rpb1     279         Rpb1_279_pdb     1.0     Rpb1_275_284_pdb    10.0\n",
        "                Rpb1     280         Rpb1_280_pdb     1.0     Rpb1_275_284_pdb    10.0\n",
        "                Rpb1     281         Rpb1_281_pdb     1.0     Rpb1_275_284_pdb    10.0\n",
        "                Rpb1     282         Rpb1_282_pdb     1.0     Rpb1_275_284_pdb    10.0\n",
        "                Rpb1     283         Rpb1_283_pdb     1.0     Rpb1_275_284_pdb    10.0\n",
        "                Rpb1     284         Rpb1_284_pdb     1.0     Rpb1_275_284_pdb    10.0\n",
        "                Rpb1     285         Rpb1_285_pdb     1.0     Rpb1_285_294_pdb    10.0\n",
        "                Rpb1     286         Rpb1_286_pdb     1.0     Rpb1_285_294_pdb    10.0\n",
        "                Rpb1     287         Rpb1_287_pdb     1.0     Rpb1_285_294_pdb    10.0\n",
        "                Rpb1     288         Rpb1_288_pdb     1.0     Rpb1_285_294_pdb    10.0\n",
        "                Rpb1     289         Rpb1_289_pdb     1.0     Rpb1_285_294_pdb    10.0\n",
        "                Rpb1     290         Rpb1_290_pdb     1.0     Rpb1_285_294_pdb    10.0\n",
        "                Rpb1     291         Rpb1_291_pdb     1.0     Rpb1_285_294_pdb    10.0\n",
        "                Rpb1     292         Rpb1_292_pdb     1.0     Rpb1_285_294_pdb    10.0\n",
        "                Rpb1     293         Rpb1_293_pdb     1.0     Rpb1_285_294_pdb    10.0\n",
        "                Rpb1     294         Rpb1_294_pdb     1.0     Rpb1_285_294_pdb    10.0\n",
        "                Rpb1     295         Rpb1_295_pdb     1.0     Rpb1_295_304_pdb    10.0\n",
        "                Rpb1     296         Rpb1_296_pdb     1.0     Rpb1_295_304_pdb    10.0\n",
        "                Rpb1     297         Rpb1_297_pdb     1.0     Rpb1_295_304_pdb    10.0\n",
        "                Rpb1     298         Rpb1_298_pdb     1.0     Rpb1_295_304_pdb    10.0\n",
        "                Rpb1     299         Rpb1_299_pdb     1.0     Rpb1_295_304_pdb    10.0\n",
        "                Rpb1     300         Rpb1_300_pdb     1.0     Rpb1_295_304_pdb    10.0\n",
        "                Rpb1     301         Rpb1_301_pdb     1.0     Rpb1_295_304_pdb    10.0\n",
        "                Rpb1     302         Rpb1_302_pdb     1.0     Rpb1_295_304_pdb    10.0\n",
        "                Rpb1     303         Rpb1_303_pdb     1.0     Rpb1_295_304_pdb    10.0\n",
        "                Rpb1     304         Rpb1_304_pdb     1.0     Rpb1_295_304_pdb    10.0\n",
        "                Rpb1     305         Rpb1_305_pdb     1.0     Rpb1_305_314_pdb    10.0\n",
        "                Rpb1     306         Rpb1_306_pdb     1.0     Rpb1_305_314_pdb    10.0\n",
        "                Rpb1     307         Rpb1_307_pdb     1.0     Rpb1_305_314_pdb    10.0\n",
        "                Rpb1     308         Rpb1_308_pdb     1.0     Rpb1_305_314_pdb    10.0\n",
        "                Rpb1     309         Rpb1_309_pdb     1.0     Rpb1_305_314_pdb    10.0\n",
        "                Rpb1     310         Rpb1_310_pdb     1.0     Rpb1_305_314_pdb    10.0\n",
        "                Rpb1     311         Rpb1_311_pdb     1.0     Rpb1_305_314_pdb    10.0\n",
        "                Rpb1     312         Rpb1_312_pdb     1.0     Rpb1_305_314_pdb    10.0\n",
        "                Rpb1     313         Rpb1_313_pdb     1.0     Rpb1_305_314_pdb    10.0\n",
        "                Rpb1     314         Rpb1_314_pdb     1.0     Rpb1_305_314_pdb    10.0\n",
        "                Rpb1     315         Rpb1_315_pdb     1.0     Rpb1_315_324_pdb    10.0\n",
        "                Rpb1     316         Rpb1_316_pdb     1.0     Rpb1_315_324_pdb    10.0\n",
        "                Rpb1     317         Rpb1_317_pdb     1.0     Rpb1_315_324_pdb    10.0\n",
        "                Rpb1     318         Rpb1_318_pdb     1.0     Rpb1_315_324_pdb    10.0\n",
        "                Rpb1     319 "
       ]
      },
      {
       "output_type": "stream",
       "stream": "stdout",
       "text": [
        "        Rpb1_319_pdb     1.0     Rpb1_315_324_pdb    10.0\n",
        "                Rpb1     320         Rpb1_320_pdb     1.0     Rpb1_315_324_pdb    10.0\n",
        "                Rpb1     321         Rpb1_321_pdb     1.0     Rpb1_315_324_pdb    10.0\n",
        "                Rpb1     322         Rpb1_322_pdb     1.0     Rpb1_315_324_pdb    10.0\n",
        "                Rpb1     323         Rpb1_323_pdb     1.0     Rpb1_315_324_pdb    10.0\n",
        "                Rpb1     324         Rpb1_324_pdb     1.0     Rpb1_315_324_pdb    10.0\n",
        "                Rpb1     325         Rpb1_325_pdb     1.0     Rpb1_325_334_pdb    10.0\n",
        "                Rpb1     326         Rpb1_326_pdb     1.0     Rpb1_325_334_pdb    10.0\n",
        "                Rpb1     327         Rpb1_327_pdb     1.0     Rpb1_325_334_pdb    10.0\n",
        "                Rpb1     328         Rpb1_328_pdb     1.0     Rpb1_325_334_pdb    10.0\n",
        "                Rpb1     329         Rpb1_329_pdb     1.0     Rpb1_325_334_pdb    10.0\n",
        "                Rpb1     330         Rpb1_330_pdb     1.0     Rpb1_325_334_pdb    10.0\n",
        "                Rpb1     331         Rpb1_331_pdb     1.0     Rpb1_325_334_pdb    10.0\n",
        "                Rpb1     332         Rpb1_332_pdb     1.0     Rpb1_325_334_pdb    10.0\n",
        "                Rpb1     333         Rpb1_333_pdb     1.0     Rpb1_325_334_pdb    10.0\n",
        "                Rpb1     334         Rpb1_334_pdb     1.0     Rpb1_325_334_pdb    10.0\n",
        "                Rpb1     335         Rpb1_335_pdb     1.0     Rpb1_335_344_pdb    10.0\n",
        "                Rpb1     336         Rpb1_336_pdb     1.0     Rpb1_335_344_pdb    10.0\n",
        "                Rpb1     337         Rpb1_337_pdb     1.0     Rpb1_335_344_pdb    10.0\n",
        "                Rpb1     338         Rpb1_338_pdb     1.0     Rpb1_335_344_pdb    10.0\n",
        "                Rpb1     339         Rpb1_339_pdb     1.0     Rpb1_335_344_pdb    10.0\n",
        "                Rpb1     340         Rpb1_340_pdb     1.0     Rpb1_335_344_pdb    10.0\n",
        "                Rpb1     341 "
       ]
      },
      {
       "output_type": "stream",
       "stream": "stdout",
       "text": [
        "        Rpb1_341_pdb     1.0     Rpb1_335_344_pdb    10.0\n",
        "                Rpb1     342         Rpb1_342_pdb     1.0     Rpb1_335_344_pdb    10.0\n",
        "                Rpb1     343         Rpb1_343_pdb     1.0     Rpb1_335_344_pdb    10.0\n",
        "                Rpb1     344         Rpb1_344_pdb     1.0     Rpb1_335_344_pdb    10.0\n",
        "                Rpb1     345         Rpb1_345_pdb     1.0     Rpb1_345_354_pdb    10.0\n",
        "                Rpb1     346         Rpb1_346_pdb     1.0     Rpb1_345_354_pdb    10.0\n",
        "                Rpb1     347         Rpb1_347_pdb     1.0     Rpb1_345_354_pdb    10.0\n",
        "                Rpb1     348         Rpb1_348_pdb     1.0     Rpb1_345_354_pdb    10.0\n",
        "                Rpb1     349         Rpb1_349_pdb     1.0     Rpb1_345_354_pdb    10.0\n",
        "                Rpb1     350         Rpb1_350_pdb     1.0     Rpb1_345_354_pdb    10.0\n",
        "                Rpb1     351         Rpb1_351_pdb     1.0     Rpb1_345_354_pdb    10.0\n",
        "                Rpb1     352         Rpb1_352_pdb     1.0     Rpb1_345_354_pdb    10.0\n",
        "                Rpb1     353         Rpb1_353_pdb     1.0     Rpb1_345_354_pdb    10.0\n",
        "                Rpb1     354         Rpb1_354_pdb     1.0     Rpb1_345_354_pdb    10.0\n",
        "                Rpb1     355         Rpb1_355_pdb     1.0     Rpb1_355_364_pdb    10.0\n",
        "                Rpb1     356         Rpb1_356_pdb     1.0     Rpb1_355_364_pdb    10.0\n",
        "                Rpb1     357         Rpb1_357_pdb     1.0     Rpb1_355_364_pdb    10.0\n",
        "                Rpb1     358         Rpb1_358_pdb     1.0     Rpb1_355_364_pdb    10.0\n",
        "                Rpb1     359         Rpb1_359_pdb     1.0     Rpb1_355_364_pdb    10.0\n",
        "                Rpb1     360         Rpb1_360_pdb     1.0     Rpb1_355_364_pdb    10.0\n",
        "                Rpb1     361         Rpb1_361_pdb     1.0     Rpb1_355_364_pdb    10.0\n",
        "                Rpb1     362         Rpb1_362_pdb     1.0     Rpb1_355_364_pdb    10.0\n",
        "                Rpb1     363         Rpb1_363_pdb     1.0     Rpb1_355_364_pdb    10.0\n",
        "                Rpb1     364         Rpb1_364_pdb     1.0     Rpb1_355_364_pdb    10.0\n",
        "                Rpb1     365         Rpb1_365_pdb     1.0     Rpb1_365_374_pdb    10.0\n",
        "                Rpb1     366         Rpb1_366_pdb     1.0     Rpb1_365_374_pdb    10.0\n",
        "                Rpb1     367         Rpb1_367_pdb     1.0     Rpb1_365_374_pdb    10.0\n",
        "                Rpb1     368         Rpb1_368_pdb     1.0     Rpb1_365_374_pdb    10.0\n",
        "                Rpb1     369         Rpb1_369_pdb     1.0     Rpb1_365_374_pdb    10.0\n",
        "                Rpb1     370         Rpb1_370_pdb     1.0     Rpb1_365_374_pdb    10.0\n",
        "                Rpb1     371         Rpb1_371_pdb     1.0     Rpb1_365_374_pdb    10.0\n",
        "                Rpb1     372         Rpb1_372_pdb     1.0     Rpb1_365_374_pdb    10.0\n",
        "                Rpb1     373         Rpb1_373_pdb     1.0     Rpb1_365_374_pdb    10.0\n",
        "                Rpb1     374         Rpb1_374_pdb     1.0     Rpb1_365_374_pdb    10.0\n",
        "                Rpb1     375         Rpb1_375_pdb     1.0     Rpb1_375_384_pdb    10.0\n",
        "                Rpb1     376         Rpb1_376_pdb     1.0     Rpb1_375_384_pdb    10.0\n",
        "                Rpb1     377         Rpb1_377_pdb     1.0     Rpb1_375_384_pdb    10.0\n",
        "                Rpb1     378         Rpb1_378_pdb     1.0     Rpb1_375_384_pdb    10.0\n",
        "                Rpb1     379         Rpb1_379_pdb     1.0     Rpb1_375_384_pdb    10.0\n",
        "                Rpb1     380         Rpb1_380_pdb     1.0     Rpb1_375_384_pdb    10.0\n",
        "                Rpb1     381         Rpb1_381_pdb     1.0     Rpb1_375_384_pdb    10.0\n",
        "                Rpb1     382         Rpb1_382_pdb     1.0     Rpb1_375_384_pdb    10.0\n",
        "                Rpb1     383         Rpb1_383_pdb     1.0     Rpb1_375_384_pdb    10.0\n",
        "                Rpb1     384         Rpb1_384_pdb     1.0     Rpb1_375_384_pdb    10.0\n",
        "                Rpb1     385         Rpb1_385_pdb     1.0     Rpb1_385_394_pdb    10.0\n",
        "                Rpb1     386         Rpb1_386_pdb     1.0     Rpb1_385_394_pdb    10.0\n",
        "                Rpb1     387         Rpb1_387_pdb     1.0     Rpb1_385_394_pdb    10.0\n",
        "                Rpb1     388         Rpb1_388_pdb     1.0     Rpb1_385_394_pdb    10.0\n",
        "                Rpb1     389         Rpb1_389_pdb     1.0     Rpb1_385_394_pdb    10.0\n",
        "                Rpb1     390         Rpb1_390_pdb     1.0     Rpb1_385_394_pdb    10.0\n",
        "                Rpb1     391         Rpb1_391_pdb     1.0     Rpb1_385_394_pdb    10.0\n",
        "                Rpb1     392         Rpb1_392_pdb     1.0     Rpb1_385_394_pdb    10.0\n",
        "                Rpb1     393         Rpb1_393_pdb     1.0     Rpb1_385_394_pdb    10.0\n",
        "                Rpb1     394         Rpb1_394_pdb     1.0     Rpb1_385_394_pdb    10.0\n",
        "                Rpb1     395         Rpb1_395_pdb     1.0     Rpb1_395_404_pdb    10.0\n",
        "                Rpb1     396         Rpb1_396_pdb     1.0     Rpb1_395_404_pdb    10.0\n",
        "                Rpb1     397         Rpb1_397_pdb     1.0     Rpb1_395_404_pdb    10.0\n",
        "                Rpb1     398         Rpb1_398_pdb     1.0     Rpb1_395_404_pdb    10.0\n",
        "                Rpb1     399         Rpb1_399_pdb     1.0     Rpb1_395_404_pdb    10.0\n",
        "                Rpb1     400         Rpb1_400_pdb     1.0     Rpb1_395_404_pdb    10.0\n",
        "                Rpb1     401         Rpb1_401_pdb     1.0     Rpb1_395_404_pdb    10.0\n",
        "                Rpb1     402         Rpb1_402_pdb     1.0     Rpb1_395_404_pdb    10.0\n",
        "                Rpb1     403         Rpb1_403_pdb     1.0     Rpb1_395_404_pdb    10.0\n",
        "                Rpb1     404         Rpb1_404_pdb     1.0     Rpb1_395_404_pdb    10.0\n",
        "                Rpb1     405         Rpb1_405_pdb     1.0     Rpb1_405_414_pdb    10.0\n",
        "                Rpb1     406         Rpb1_406_pdb     1.0     Rpb1_405_414_pdb    10.0\n",
        "                Rpb1     407         Rpb1_407_pdb     1.0     Rpb1_405_414_pdb    10.0\n",
        "                Rpb1     408         Rpb1_408_pdb     1.0     Rpb1_405_414_pdb    10.0\n",
        "                Rpb1     409         Rpb1_409_pdb     1.0     Rpb1_405_414_pdb    10.0\n",
        "                Rpb1     410         Rpb1_410_pdb     1.0     Rpb1_405_414_pdb    10.0\n",
        "                Rpb1     411         Rpb1_411_pdb     1.0     Rpb1_405_414_pdb    10.0\n",
        "                Rpb1     412         Rpb1_412_pdb     1.0     Rpb1_405_414_pdb    10.0\n",
        "                Rpb1     413         Rpb1_413_pdb     1.0     Rpb1_405_414_pdb    10.0\n",
        "                Rpb1     414         Rpb1_414_pdb     1.0     Rpb1_405_414_pdb    10.0\n",
        "                Rpb1     415         Rpb1_415_pdb     1.0     Rpb1_415_424_pdb    10.0\n",
        "                Rpb1     416         Rpb1_416_pdb     1.0     Rpb1_415_424_pdb    10.0\n",
        "                Rpb1     417         Rpb1_417_pdb     1.0     Rpb1_415_424_pdb    10.0\n",
        "                Rpb1     418         Rpb1_418_pdb     1.0     Rpb1_415_424_pdb    10.0\n",
        "                Rpb1     419         Rpb1_419_pdb     1.0     Rpb1_415_424_pdb    10.0\n",
        "                Rpb1     420         Rpb1_420_pdb     1.0     Rpb1_415_424_pdb    10.0\n",
        "                Rpb1     421         Rpb1_421_pdb     1.0     Rpb1_415_424_pdb    10.0\n",
        "                Rpb1     422         Rpb1_422_pdb     1.0     Rpb1_415_424_pdb    10.0\n",
        "                Rpb1     423         Rpb1_423_pdb     1.0     Rpb1_415_424_pdb    10.0\n",
        "                Rpb1     424         Rpb1_424_pdb     1.0     Rpb1_415_424_pdb    10.0\n",
        "                Rpb1     425         Rpb1_425_pdb     1.0     Rpb1_425_434_pdb    10.0\n",
        "                Rpb1     426         Rpb1_426_pdb     1.0     Rpb1_425_434_pdb    10.0\n",
        "                Rpb1     427         Rpb1_427_pdb     1.0     Rpb1_425_434_pdb    10.0\n",
        "                Rpb1     428         Rpb1_428_pdb     1.0     Rpb1_425_434_pdb    10.0\n",
        "                Rpb1     429         Rpb1_429_pdb     1.0     Rpb1_425_434_pdb    10.0\n",
        "                Rpb1     430         Rpb1_430_pdb     1.0     Rpb1_425_434_pdb    10.0\n",
        "                Rpb1     431         Rpb1_431_pdb     1.0     Rpb1_425_434_pdb    10.0\n",
        "                Rpb1     432         Rpb1_432_pdb     1.0     Rpb1_425_434_pdb    10.0\n",
        "                Rpb1     433         Rpb1_433_pdb     1.0     Rpb1_425_434_pdb    10.0\n",
        "                Rpb1     434         Rpb1_434_pdb     1.0     Rpb1_425_434_pdb    10.0\n",
        "                Rpb1     435         Rpb1_435_pdb     1.0     Rpb1_435_444_pdb    10.0\n",
        "                Rpb1     436         Rpb1_436_pdb     1.0     Rpb1_435_444_pdb    10.0\n",
        "                Rpb1     437         Rpb1_437_pdb     1.0     Rpb1_435_444_pdb    10.0\n",
        "                Rpb1     438         Rpb1_438_pdb     1.0     Rpb1_435_444_pdb    10.0\n",
        "                Rpb1     439         Rpb1_439_pdb     1.0     Rpb1_435_444_pdb    10.0\n",
        "                Rpb1     440         Rpb1_440_pdb     1.0     Rpb1_435_444_pdb    10.0\n",
        "                Rpb1     441         Rpb1_441_pdb     1.0     Rpb1_435_444_pdb    10.0\n",
        "                Rpb1     442         Rpb1_442_pdb     1.0     Rpb1_435_444_pdb    10.0\n",
        "                Rpb1     443         Rpb1_443_pdb     1.0     Rpb1_435_444_pdb    10.0\n",
        "                Rpb1     444         Rpb1_444_pdb     1.0     Rpb1_435_444_pdb    10.0\n",
        "                Rpb1     445         Rpb1_445_pdb     1.0     Rpb1_445_454_pdb    10.0\n",
        "                Rpb1     446         Rpb1_446_pdb     1.0     Rpb1_445_454_pdb    10.0\n",
        "                Rpb1     447         Rpb1_447_pdb     1.0     Rpb1_445_454_pdb    10.0\n",
        "                Rpb1     448         Rpb1_448_pdb     1.0     Rpb1_445_454_pdb    10.0\n",
        "                Rpb1     449         Rpb1_449_pdb     1.0     Rpb1_445_454_pdb    10.0\n",
        "                Rpb1     450         Rpb1_450_pdb     1.0     Rpb1_445_454_pdb    10.0\n",
        "                Rpb1     451         Rpb1_451_pdb     1.0     Rpb1_445_454_pdb    10.0\n",
        "                Rpb1     452         Rpb1_452_pdb     1.0     Rpb1_445_454_pdb    10.0\n",
        "                Rpb1     453         Rpb1_453_pdb     1.0     Rpb1_445_454_pdb    10.0\n",
        "                Rpb1     454         Rpb1_454_pdb     1.0     Rpb1_445_454_pdb    10.0\n",
        "                Rpb1     455         Rpb1_455_pdb     1.0     Rpb1_455_464_pdb    10.0\n",
        "                Rpb1     456         Rpb1_456_pdb     1.0     Rpb1_455_464_pdb    10.0\n",
        "                Rpb1     457         Rpb1_457_pdb     1.0     Rpb1_455_464_pdb    10.0\n",
        "                Rpb1     458         Rpb1_458_pdb     1.0     Rpb1_455_464_pdb    10.0\n",
        "                Rpb1     459         Rpb1_459_pdb     1.0     Rpb1_455_464_pdb    10.0\n",
        "                Rpb1     460         Rpb1_460_pdb     1.0     Rpb1_455_464_pdb    10.0\n",
        "                Rpb1     461         Rpb1_461_pdb     1.0     Rpb1_455_464_pdb    10.0\n",
        "                Rpb1     462         Rpb1_462_pdb     1.0     Rpb1_455_464_pdb    10.0\n",
        "                Rpb1     463         Rpb1_463_pdb     1.0     Rpb1_455_464_pdb    10.0\n",
        "                Rpb1     464         Rpb1_464_pdb     1.0     Rpb1_455_464_pdb    10.0\n",
        "                Rpb1     465         Rpb1_465_pdb     1.0     Rpb1_465_474_pdb    10.0\n",
        "                Rpb1     466         Rpb1_466_pdb     1.0     Rpb1_465_474_pdb    10.0\n",
        "                Rpb1     467         Rpb1_467_pdb     1.0     Rpb1_465_474_pdb    10.0\n",
        "                Rpb1     468         Rpb1_468_pdb     1.0     Rpb1_465_474_pdb    10.0\n",
        "                Rpb1     469         Rpb1_469_pdb     1.0     Rpb1_465_474_pdb    10.0\n",
        "                Rpb1     470         Rpb1_470_pdb     1.0     Rpb1_465_474_pdb    10.0\n",
        "                Rpb1     471         Rpb1_471_pdb     1.0     Rpb1_465_474_pdb    10.0\n",
        "                Rpb1     472         Rpb1_472_pdb     1.0     Rpb1_465_474_pdb    10.0\n",
        "                Rpb1     473         Rpb1_473_pdb     1.0     Rpb1_465_474_pdb    10.0\n",
        "                Rpb1     474         Rpb1_474_pdb     1.0     Rpb1_465_474_pdb    10.0\n",
        "                Rpb1     475         Rpb1_475_pdb     1.0     Rpb1_475_484_pdb    10.0\n",
        "                Rpb1     476         Rpb1_476_pdb     1.0     Rpb1_475_484_pdb    10.0\n",
        "                Rpb1     477         Rpb1_477_pdb     1.0     Rpb1_475_484_pdb    10.0\n",
        "                Rpb1     478         Rpb1_478_pdb     1.0     Rpb1_475_484_pdb    10.0\n",
        "                Rpb1     479         Rpb1_479_pdb     1.0     Rpb1_475_484_pdb    10.0\n",
        "                Rpb1     480         Rpb1_480_pdb     1.0     Rpb1_475_484_pdb    10.0\n",
        "                Rpb1     481         Rpb1_481_pdb     1.0     Rpb1_475_484_pdb    10.0\n",
        "                Rpb1     482         Rpb1_482_pdb     1.0     Rpb1_475_484_pdb    10.0\n",
        "                Rpb1     483         Rpb1_483_pdb     1.0     Rpb1_475_484_pdb    10.0\n",
        "                Rpb1     484 "
       ]
      },
      {
       "output_type": "stream",
       "stream": "stdout",
       "text": [
        "        Rpb1_484_pdb     1.0     Rpb1_475_484_pdb    10.0\n",
        "                Rpb1     485         Rpb1_485_pdb     1.0     Rpb1_485_494_pdb    10.0\n",
        "                Rpb1     486         Rpb1_486_pdb     1.0     Rpb1_485_494_pdb    10.0\n",
        "                Rpb1     487         Rpb1_487_pdb     1.0     Rpb1_485_494_pdb    10.0\n",
        "                Rpb1     488         Rpb1_488_pdb     1.0     Rpb1_485_494_pdb    10.0\n",
        "                Rpb1     489         Rpb1_489_pdb     1.0     Rpb1_485_494_pdb    10.0\n",
        "                Rpb1     490         Rpb1_490_pdb     1.0     Rpb1_485_494_pdb    10.0\n",
        "                Rpb1     491         Rpb1_491_pdb     1.0     Rpb1_485_494_pdb    10.0\n",
        "                Rpb1     492         Rpb1_492_pdb     1.0     Rpb1_485_494_pdb    10.0\n",
        "                Rpb1     493         Rpb1_493_pdb     1.0     Rpb1_485_494_pdb    10.0\n",
        "                Rpb1     494         Rpb1_494_pdb     1.0     Rpb1_485_494_pdb    10.0\n",
        "                Rpb1     495         Rpb1_495_pdb     1.0     Rpb1_495_504_pdb    10.0\n",
        "                Rpb1     496         Rpb1_496_pdb     1.0     Rpb1_495_504_pdb    10.0\n",
        "                Rpb1     497         Rpb1_497_pdb     1.0     Rpb1_495_504_pdb    10.0\n",
        "                Rpb1     498         Rpb1_498_pdb     1.0     Rpb1_495_504_pdb    10.0\n",
        "                Rpb1     499         Rpb1_499_pdb     1.0     Rpb1_495_504_pdb    10.0\n",
        "                Rpb1     500         Rpb1_500_pdb     1.0     Rpb1_495_504_pdb    10.0\n",
        "                Rpb1     501         Rpb1_501_pdb     1.0     Rpb1_495_504_pdb    10.0\n",
        "                Rpb1     502         Rpb1_502_pdb     1.0     Rpb1_495_504_pdb    10.0\n",
        "                Rpb1     503         Rpb1_503_pdb     1.0     Rpb1_495_504_pdb    10.0\n",
        "                Rpb1     504         Rpb1_504_pdb     1.0     Rpb1_495_504_pdb    10.0\n",
        "                Rpb1     505         Rpb1_505_pdb     1.0     Rpb1_505_514_pdb    10.0\n",
        "                Rpb1     506         Rpb1_506_pdb     1.0     Rpb1_505_514_pdb    10.0\n",
        "                Rpb1     507         Rpb1_507_pdb     1.0     Rpb1_505_514_pdb    10.0\n",
        "                Rpb1     508         Rpb1_508_pdb     1.0     Rpb1_505_514_pdb    10.0\n",
        "                Rpb1     509         Rpb1_509_pdb     1.0     Rpb1_505_514_pdb    10.0\n",
        "                Rpb1     510         Rpb1_510_pdb     1.0     Rpb1_505_514_pdb    10.0\n",
        "                Rpb1     511         Rpb1_511_pdb     1.0     Rpb1_505_514_pdb    10.0\n",
        "                Rpb1     512         Rpb1_512_pdb     1.0     Rpb1_505_514_pdb    10.0\n",
        "                Rpb1     513         Rpb1_513_pdb     1.0     Rpb1_505_514_pdb    10.0\n",
        "                Rpb1     514         Rpb1_514_pdb     1.0     Rpb1_505_514_pdb    10.0\n",
        "                Rpb1     515         Rpb1_515_pdb     1.0     Rpb1_515_524_pdb    10.0\n",
        "                Rpb1     516         Rpb1_516_pdb     1.0     Rpb1_515_524_pdb    10.0\n",
        "                Rpb1     517         Rpb1_517_pdb     1.0     Rpb1_515_524_pdb    10.0\n",
        "                Rpb1     518         Rpb1_518_pdb     1.0     Rpb1_515_524_pdb    10.0\n",
        "                Rpb1     519         Rpb1_519_pdb     1.0     Rpb1_515_524_pdb    10.0\n",
        "                Rpb1     520         Rpb1_520_pdb     1.0     Rpb1_515_524_pdb    10.0\n",
        "                Rpb1     521         Rpb1_521_pdb     1.0     Rpb1_515_524_pdb    10.0\n",
        "                Rpb1     522         Rpb1_522_pdb     1.0     Rpb1_515_524_pdb    10.0\n",
        "                Rpb1     523         Rpb1_523_pdb     1.0     Rpb1_515_524_pdb    10.0\n",
        "                Rpb1     524         Rpb1_524_pdb     1.0     Rpb1_515_524_pdb    10.0\n",
        "                Rpb1     525         Rpb1_525_pdb     1.0     Rpb1_525_534_pdb    10.0\n",
        "                Rpb1     526         Rpb1_526_pdb     1.0     Rpb1_525_534_pdb    10.0\n",
        "                Rpb1     527         Rpb1_527_pdb     1.0     Rpb1_525_534_pdb    10.0\n",
        "                Rpb1     528         Rpb1_528_pdb     1.0     Rpb1_525_534_pdb    10.0\n",
        "                Rpb1     529         Rpb1_529_pdb     1.0     Rpb1_525_534_pdb    10.0\n",
        "                Rpb1     530         Rpb1_530_pdb     1.0     Rpb1_525_534_pdb    10.0\n",
        "                Rpb1     531         Rpb1_531_pdb     1.0     Rpb1_525_534_pdb    10.0\n",
        "                Rpb1     532         Rpb1_532_pdb     1.0     Rpb1_525_534_pdb    10.0\n",
        "                Rpb1     533         Rpb1_533_pdb     1.0     Rpb1_525_534_pdb    10.0\n",
        "                Rpb1     534         Rpb1_534_pdb     1.0     Rpb1_525_534_pdb    10.0\n",
        "                Rpb1     535         Rpb1_535_pdb     1.0     Rpb1_535_544_pdb    10.0\n",
        "                Rpb1     536         Rpb1_536_pdb     1.0     Rpb1_535_544_pdb    10.0\n",
        "                Rpb1     537         Rpb1_537_pdb     1.0     Rpb1_535_544_pdb    10.0\n",
        "                Rpb1     538         Rpb1_538_pdb     1.0     Rpb1_535_544_pdb    10.0\n",
        "                Rpb1     539         Rpb1_539_pdb     1.0     Rpb1_535_544_pdb    10.0\n",
        "                Rpb1     540         Rpb1_540_pdb     1.0     Rpb1_535_544_pdb    10.0\n",
        "                Rpb1     541         Rpb1_541_pdb     1.0     Rpb1_535_544_pdb    10.0\n",
        "                Rpb1     542         Rpb1_542_pdb     1.0     Rpb1_535_544_pdb    10.0\n",
        "                Rpb1     543         Rpb1_543_pdb     1.0     Rpb1_535_544_pdb    10.0\n",
        "                Rpb1     544         Rpb1_544_pdb     1.0     Rpb1_535_544_pdb    10.0\n",
        "                Rpb1     545         Rpb1_545_pdb     1.0     Rpb1_545_554_pdb    10.0\n",
        "                Rpb1     546         Rpb1_546_pdb     1.0     Rpb1_545_554_pdb    10.0\n",
        "                Rpb1     547         Rpb1_547_pdb     1.0     Rpb1_545_554_pdb    10.0\n",
        "                Rpb1     548         Rpb1_548_pdb     1.0     Rpb1_545_554_pdb    10.0\n",
        "                Rpb1     549         Rpb1_549_pdb     1.0     Rpb1_545_554_pdb    10.0\n",
        "                Rpb1     550         Rpb1_550_pdb     1.0     Rpb1_545_554_pdb    10.0\n",
        "                Rpb1     551         Rpb1_551_pdb     1.0     Rpb1_545_554_pdb    10.0\n",
        "                Rpb1     552         Rpb1_552_pdb     1.0     Rpb1_545_554_pdb    10.0\n",
        "                Rpb1     553         Rpb1_553_pdb     1.0     Rpb1_545_554_pdb    10.0\n",
        "                Rpb1     554         Rpb1_554_pdb     1.0     Rpb1_545_554_pdb    10.0\n",
        "                Rpb1     555         Rpb1_555_pdb     1.0     Rpb1_555_564_pdb    10.0\n",
        "                Rpb1     556         Rpb1_556_pdb     1.0     Rpb1_555_564_pdb    10.0\n",
        "                Rpb1     557         Rpb1_557_pdb     1.0     Rpb1_555_564_pdb    10.0\n",
        "                Rpb1     558         Rpb1_558_pdb     1.0     Rpb1_555_564_pdb    10.0\n",
        "                Rpb1     559         Rpb1_559_pdb     1.0     Rpb1_555_564_pdb    10.0\n",
        "                Rpb1     560         Rpb1_560_pdb     1.0     Rpb1_555_564_pdb    10.0\n",
        "                Rpb1     561         Rpb1_561_pdb     1.0     Rpb1_555_564_pdb    10.0\n",
        "                Rpb1     562         Rpb1_562_pdb     1.0     Rpb1_555_564_pdb    10.0\n",
        "                Rpb1     563         Rpb1_563_pdb     1.0     Rpb1_555_564_pdb    10.0\n",
        "                Rpb1     564         Rpb1_564_pdb     1.0     Rpb1_555_564_pdb    10.0\n",
        "                Rpb1     565         Rpb1_565_pdb     1.0     Rpb1_565_574_pdb    10.0\n",
        "                Rpb1     566         Rpb1_566_pdb     1.0     Rpb1_565_574_pdb    10.0\n",
        "                Rpb1     567         Rpb1_567_pdb     1.0     Rpb1_565_574_pdb    10.0\n",
        "                Rpb1     568         Rpb1_568_pdb     1.0     Rpb1_565_574_pdb    10.0\n",
        "                Rpb1     569         Rpb1_569_pdb     1.0     Rpb1_565_574_pdb    10.0\n",
        "                Rpb1     570         Rpb1_570_pdb     1.0     Rpb1_565_574_pdb    10.0\n",
        "                Rpb1     571         Rpb1_571_pdb     1.0     Rpb1_565_574_pdb    10.0\n",
        "                Rpb1     572         Rpb1_572_pdb     1.0     Rpb1_565_574_pdb    10.0\n",
        "                Rpb1     573         Rpb1_573_pdb     1.0     Rpb1_565_574_pdb    10.0\n",
        "                Rpb1     574         Rpb1_574_pdb     1.0     Rpb1_565_574_pdb    10.0\n",
        "                Rpb1     575         Rpb1_575_pdb     1.0     Rpb1_575_584_pdb    10.0\n",
        "                Rpb1     576         Rpb1_576_pdb     1.0     Rpb1_575_584_pdb    10.0\n",
        "                Rpb1     577         Rpb1_577_pdb     1.0     Rpb1_575_584_pdb    10.0\n",
        "                Rpb1     578         Rpb1_578_pdb     1.0     Rpb1_575_584_pdb    10.0\n",
        "                Rpb1     579         Rpb1_579_pdb     1.0     Rpb1_575_584_pdb    10.0\n",
        "                Rpb1     580         Rpb1_580_pdb     1.0     Rpb1_575_584_pdb    10.0\n",
        "                Rpb1     581         Rpb1_581_pdb     1.0     Rpb1_575_584_pdb    10.0\n",
        "                Rpb1     582         Rpb1_582_pdb     1.0     Rpb1_575_584_pdb    10.0\n",
        "                Rpb1     583         Rpb1_583_pdb     1.0     Rpb1_575_584_pdb    10.0\n",
        "                Rpb1     584         Rpb1_584_pdb     1.0     Rpb1_575_584_pdb    10.0\n",
        "                Rpb1     585         Rpb1_585_pdb     1.0     Rpb1_585_594_pdb    10.0\n",
        "                Rpb1     586         Rpb1_586_pdb     1.0     Rpb1_585_594_pdb    10.0\n",
        "                Rpb1     587         Rpb1_587_pdb     1.0     Rpb1_585_594_pdb    10.0\n",
        "                Rpb1     588         Rpb1_588_pdb     1.0     Rpb1_585_594_pdb    10.0\n",
        "                Rpb1     589         Rpb1_589_pdb     1.0     Rpb1_585_594_pdb    10.0\n",
        "                Rpb1     590         Rpb1_590_pdb     1.0     Rpb1_585_594_pdb    10.0\n",
        "                Rpb1     591         Rpb1_591_pdb     1.0     Rpb1_585_594_pdb    10.0\n",
        "                Rpb1     592         Rpb1_592_pdb     1.0     Rpb1_585_594_pdb    10.0\n",
        "                Rpb1     593         Rpb1_593_pdb     1.0     Rpb1_585_594_pdb    10.0\n",
        "                Rpb1     594         Rpb1_594_pdb     1.0     Rpb1_585_594_pdb    10.0\n",
        "                Rpb1     595         Rpb1_595_pdb     1.0     Rpb1_595_604_pdb    10.0\n",
        "                Rpb1     596         Rpb1_596_pdb     1.0     Rpb1_595_604_pdb    10.0\n",
        "                Rpb1     597         Rpb1_597_pdb     1.0     Rpb1_595_604_pdb    10.0\n",
        "                Rpb1     598         Rpb1_598_pdb     1.0     Rpb1_595_604_pdb    10.0\n",
        "                Rpb1     599         Rpb1_599_pdb     1.0     Rpb1_595_604_pdb    10.0\n",
        "                Rpb1     600         Rpb1_600_pdb     1.0     Rpb1_595_604_pdb    10.0\n",
        "                Rpb1     601         Rpb1_601_pdb     1.0     Rpb1_595_604_pdb    10.0\n",
        "                Rpb1     602         Rpb1_602_pdb     1.0     Rpb1_595_604_pdb    10.0\n",
        "                Rpb1     603         Rpb1_603_pdb     1.0     Rpb1_595_604_pdb    10.0\n",
        "                Rpb1     604         Rpb1_604_pdb     1.0     Rpb1_595_604_pdb    10.0\n",
        "                Rpb1     605         Rpb1_605_pdb     1.0     Rpb1_605_614_pdb    10.0\n",
        "                Rpb1     606         Rpb1_606_pdb     1.0     Rpb1_605_614_pdb    10.0\n",
        "                Rpb1     607         Rpb1_607_pdb     1.0     Rpb1_605_614_pdb    10.0\n",
        "                Rpb1     608         Rpb1_608_pdb     1.0     Rpb1_605_614_pdb    10.0\n",
        "                Rpb1     609         Rpb1_609_pdb     1.0     Rpb1_605_614_pdb    10.0\n",
        "                Rpb1     610         Rpb1_610_pdb     1.0     Rpb1_605_614_pdb    10.0\n",
        "                Rpb1     611         Rpb1_611_pdb     1.0     Rpb1_605_614_pdb    10.0\n",
        "                Rpb1     612         Rpb1_612_pdb     1.0     Rpb1_605_614_pdb    10.0\n",
        "                Rpb1     613         Rpb1_613_pdb     1.0     Rpb1_605_614_pdb    10.0\n",
        "                Rpb1     614         Rpb1_614_pdb     1.0     Rpb1_605_614_pdb    10.0\n",
        "                Rpb1     615         Rpb1_615_pdb     1.0     Rpb1_615_624_pdb    10.0\n",
        "                Rpb1     616         Rpb1_616_pdb     1.0     Rpb1_615_624_pdb    10.0\n",
        "                Rpb1     617         Rpb1_617_pdb     1.0     Rpb1_615_624_pdb    10.0\n",
        "                Rpb1     618         Rpb1_618_pdb     1.0     Rpb1_615_624_pdb    10.0\n",
        "                Rpb1     619         Rpb1_619_pdb     1.0     Rpb1_615_624_pdb    10.0\n",
        "                Rpb1     620         Rpb1_620_pdb     1.0     Rpb1_615_624_pdb    10.0\n",
        "                Rpb1     621         Rpb1_621_pdb     1.0     Rpb1_615_624_pdb    10.0\n",
        "                Rpb1     622         Rpb1_622_pdb     1.0     Rpb1_615_624_pdb    10.0\n",
        "                Rpb1     623         Rpb1_623_pdb     1.0     Rpb1_615_624_pdb    10.0\n",
        "                Rpb1     624         Rpb1_624_pdb     1.0     Rpb1_615_624_pdb    10.0\n",
        "                Rpb1     625         Rpb1_625_pdb     1.0     Rpb1_625_634_pdb    10.0\n",
        "                Rpb1     626         Rpb1_626_pdb     1.0     Rpb1_625_634_pdb    10.0\n",
        "                Rpb1     627         Rpb1_627_pdb     1.0     Rpb1_625_634_pdb    10.0\n",
        "                Rpb1     628         Rpb1_628_pdb     1.0     Rpb1_625_634_pdb    10.0\n",
        "                Rpb1     629         Rpb1_629_pdb     1.0     Rpb1_625_634_pdb    10.0\n",
        "                Rpb1     630         Rpb1_630_pdb     1.0     Rpb1_625_634_pdb    10.0\n",
        "                Rpb1     631         Rpb1_631_pdb     1.0     Rpb1_625_634_pdb    10.0\n",
        "                Rpb1     632         Rpb1_632_pdb     1.0     Rpb1_625_634_pdb    10.0\n",
        "                Rpb1     633         Rpb1_633_pdb     1.0     Rpb1_625_634_pdb    10.0\n",
        "                Rpb1     634         Rpb1_634_pdb     1.0     Rpb1_625_634_pdb    10.0\n",
        "                Rpb1     635         Rpb1_635_pdb     1.0     Rpb1_635_644_pdb    10.0\n",
        "                Rpb1     636         Rpb1_636_pdb     1.0     Rpb1_635_644_pdb    10.0\n",
        "                Rpb1     637         Rpb1_637_pdb     1.0     Rpb1_635_644_pdb    10.0\n",
        "                Rpb1     638         Rpb1_638_pdb     1.0     Rpb1_635_644_pdb    10.0\n",
        "                Rpb1     639         Rpb1_639_pdb     1.0     Rpb1_635_644_pdb    10.0\n",
        "                Rpb1     640         Rpb1_640_pdb     1.0     Rpb1_635_644_pdb    10.0\n",
        "                Rpb1     641         Rpb1_641_pdb     1.0     Rpb1_635_644_pdb    10.0\n",
        "                Rpb1     642         Rpb1_642_pdb     1.0     Rpb1_635_644_pdb    10.0\n",
        "                Rpb1     643         Rpb1_643_pdb     1.0     Rpb1_635_644_pdb    10.0\n",
        "                Rpb1     644         Rpb1_644_pdb     1.0     Rpb1_635_644_pdb    10.0\n",
        "                Rpb1     645         Rpb1_645_pdb     1.0     Rpb1_645_654_pdb    10.0\n",
        "                Rpb1     646         Rpb1_646_pdb     1.0     Rpb1_645_654_pdb    10.0\n",
        "                Rpb1     647         Rpb1_647_pdb     1.0     Rpb1_645_654_pdb    10.0\n",
        "                Rpb1     648         Rpb1_648_pdb     1.0     Rpb1_645_654_pdb    10.0\n",
        "                Rpb1     649         Rpb1_649_pdb     1.0     Rpb1_645_654_pdb    10.0\n",
        "                Rpb1     650         Rpb1_650_pdb     1.0     Rpb1_645_654_pdb    10.0\n",
        "                Rpb1     651         Rpb1_651_pdb     1.0     Rpb1_645_654_pdb    10.0\n",
        "                Rpb1     652         Rpb1_652_pdb     1.0     Rpb1_645_654_pdb    10.0\n",
        "                Rpb1     653         Rpb1_653_pdb     1.0     Rpb1_645_654_pdb    10.0\n",
        "                Rpb1     654         Rpb1_654_pdb     1.0     Rpb1_645_654_pdb    10.0\n",
        "                Rpb1     655         Rpb1_655_pdb     1.0     Rpb1_655_664_pdb    10.0\n",
        "                Rpb1     656         Rpb1_656_pdb     1.0     Rpb1_655_664_pdb    10.0\n",
        "                Rpb1     657         Rpb1_657_pdb     1.0     Rpb1_655_664_pdb    10.0\n",
        "                Rpb1     658         Rpb1_658_pdb     1.0     Rpb1_655_664_pdb    10.0\n",
        "                Rpb1     659         Rpb1_659_pdb     1.0     Rpb1_655_664_pdb    10.0\n",
        "                Rpb1     660         Rpb1_660_pdb     1.0     Rpb1_655_664_pdb    10.0\n",
        "                Rpb1     661         Rpb1_661_pdb     1.0     Rpb1_655_664_pdb    10.0\n",
        "                Rpb1     662         Rpb1_662_pdb     1.0     Rpb1_655_664_pdb    10.0\n",
        "                Rpb1     663         Rpb1_663_pdb     1.0     Rpb1_655_664_pdb    10.0\n",
        "                Rpb1     664         Rpb1_664_pdb     1.0     Rpb1_655_664_pdb    10.0\n",
        "                Rpb1     665         Rpb1_665_pdb     1.0     Rpb1_665_674_pdb    10.0\n",
        "                Rpb1     666         Rpb1_666_pdb     1.0     Rpb1_665_674_pdb    10.0\n",
        "                Rpb1     667         Rpb1_667_pdb     1.0     Rpb1_665_674_pdb    10.0\n",
        "                Rpb1     668         Rpb1_668_pdb     1.0     Rpb1_665_674_pdb    10.0\n",
        "                Rpb1     669         Rpb1_669_pdb     1.0     Rpb1_665_674_pdb    10.0\n",
        "                Rpb1     670         Rpb1_670_pdb     1.0     Rpb1_665_674_pdb    10.0\n",
        "                Rpb1     671         Rpb1_671_pdb     1.0     Rpb1_665_674_pdb    10.0\n",
        "                Rpb1     672         Rpb1_672_pdb     1.0     Rpb1_665_674_pdb    10.0\n",
        "                Rpb1     673         Rpb1_673_pdb     1.0     Rpb1_665_674_pdb    10.0\n",
        "                Rpb1     674         Rpb1_674_pdb     1.0     Rpb1_665_674_pdb    10.0\n",
        "                Rpb1     675         Rpb1_675_pdb     1.0     Rpb1_675_684_pdb    10.0\n",
        "                Rpb1     676         Rpb1_676_pdb     1.0     Rpb1_675_684_pdb    10.0\n",
        "                Rpb1     677         Rpb1_677_pdb     1.0     Rpb1_675_684_pdb    10.0\n",
        "                Rpb1     678         Rpb1_678_pdb     1.0     Rpb1_675_684_pdb    10.0\n",
        "                Rpb1     679         Rpb1_679_pdb     1.0     Rpb1_675_684_pdb    10.0\n",
        "                Rpb1     680         Rpb1_680_pdb     1.0     Rpb1_675_684_pdb    10.0\n",
        "                Rpb1     681         Rpb1_681_pdb     1.0     Rpb1_675_684_pdb    10.0\n",
        "                Rpb1     682         Rpb1_682_pdb     1.0     Rpb1_675_684_pdb    10.0\n",
        "                Rpb1     683         Rpb1_683_pdb     1.0     Rpb1_675_684_pdb    10.0\n",
        "                Rpb1     684         Rpb1_684_pdb     1.0     Rpb1_675_684_pdb    10.0\n",
        "                Rpb1     685         Rpb1_685_pdb     1.0     Rpb1_685_694_pdb    10.0\n",
        "                Rpb1     686         Rpb1_686_pdb     1.0     Rpb1_685_694_pdb    10.0\n",
        "                Rpb1     687         Rpb1_687_pdb     1.0     Rpb1_685_694_pdb    10.0\n",
        "                Rpb1     688         Rpb1_688_pdb     1.0     Rpb1_685_694_pdb    10.0\n",
        "                Rpb1     689         Rpb1_689_pdb     1.0     Rpb1_685_694_pdb    10.0\n",
        "                Rpb1     690         Rpb1_690_pdb     1.0     Rpb1_685_694_pdb    10.0\n",
        "                Rpb1     691         Rpb1_691_pdb     1.0     Rpb1_685_694_pdb    10.0\n",
        "                Rpb1     692         Rpb1_692_pdb     1.0     Rpb1_685_694_pdb    10.0\n",
        "                Rpb1     693         Rpb1_693_pdb     1.0     Rpb1_685_694_pdb    10.0\n",
        "                Rpb1     694         Rpb1_694_pdb     1.0     Rpb1_685_694_pdb    10.0\n",
        "                Rpb1     695         Rpb1_695_pdb     1.0     Rpb1_695_704_pdb    10.0\n",
        "                Rpb1     696         Rpb1_696_pdb     1.0     Rpb1_695_704_pdb    10.0\n",
        "                Rpb1     697         Rpb1_697_pdb     1.0     Rpb1_695_704_pdb    10.0\n",
        "                Rpb1     698         Rpb1_698_pdb     1.0     Rpb1_695_704_pdb    10.0\n",
        "                Rpb1     699         Rpb1_699_pdb     1.0     Rpb1_695_704_pdb    10.0\n",
        "                Rpb1     700         Rpb1_700_pdb     1.0     Rpb1_695_704_pdb    10.0\n",
        "                Rpb1     701         Rpb1_701_pdb     1.0     Rpb1_695_704_pdb    10.0\n",
        "                Rpb1     702         Rpb1_702_pdb     1.0     Rpb1_695_704_pdb    10.0\n",
        "                Rpb1     703         Rpb1_703_pdb     1.0     Rpb1_695_704_pdb    10.0\n",
        "                Rpb1     704         Rpb1_704_pdb     1.0     Rpb1_695_704_pdb    10.0\n",
        "                Rpb1     705         Rpb1_705_pdb     1.0     Rpb1_705_714_pdb    10.0\n",
        "                Rpb1     706         Rpb1_706_pdb     1.0     Rpb1_705_714_pdb    10.0\n",
        "                Rpb1     707         Rpb1_707_pdb     1.0     Rpb1_705_714_pdb    10.0\n",
        "                Rpb1     708         Rpb1_708_pdb     1.0     Rpb1_705_714_pdb    10.0\n",
        "                Rpb1     709         Rpb1_709_pdb     1.0     Rpb1_705_714_pdb    10.0\n",
        "                Rpb1     710         Rpb1_710_pdb     1.0     Rpb1_705_714_pdb    10.0\n",
        "                Rpb1     711         Rpb1_711_pdb     1.0     Rpb1_705_714_pdb    10.0\n",
        "                Rpb1     712         Rpb1_712_pdb     1.0     Rpb1_705_714_pdb    10.0\n",
        "                Rpb1     713         Rpb1_713_pdb     1.0     Rpb1_705_714_pdb    10.0\n",
        "                Rpb1     714         Rpb1_714_pdb     1.0     Rpb1_705_714_pdb    10.0\n",
        "                Rpb1     715         Rpb1_715_pdb     1.0     Rpb1_715_724_pdb    10.0\n",
        "                Rpb1     716         Rpb1_716_pdb     1.0     Rpb1_715_724_pdb    10.0\n",
        "                Rpb1     717         Rpb1_717_pdb     1.0     Rpb1_715_724_pdb    10.0\n",
        "                Rpb1     718         Rpb1_718_pdb     1.0     Rpb1_715_724_pdb    10.0\n",
        "                Rpb1     719         Rpb1_719_pdb     1.0     Rpb1_715_724_pdb    10.0\n",
        "                Rpb1     720         Rpb1_720_pdb     1.0     Rpb1_715_724_pdb    10.0\n",
        "                Rpb1     721         Rpb1_721_pdb     1.0     Rpb1_715_724_pdb    10.0\n",
        "                Rpb1     722         Rpb1_722_pdb     1.0     Rpb1_715_724_pdb    10.0\n",
        "                Rpb1     723         Rpb1_723_pdb     1.0     Rpb1_715_724_pdb    10.0\n",
        "                Rpb1     724         Rpb1_724_pdb     1.0     Rpb1_715_724_pdb    10.0\n",
        "                Rpb1     725         Rpb1_725_pdb     1.0     Rpb1_725_734_pdb    10.0\n",
        "                Rpb1     726         Rpb1_726_pdb     1.0     Rpb1_725_734_pdb    10.0\n",
        "                Rpb1     727         Rpb1_727_pdb     1.0     Rpb1_725_734_pdb    10.0\n",
        "                Rpb1     728         Rpb1_728_pdb     1.0     Rpb1_725_734_pdb    10.0\n",
        "                Rpb1     729         Rpb1_729_pdb     1.0     Rpb1_725_734_pdb    10.0\n",
        "                Rpb1     730         Rpb1_730_pdb     1.0     Rpb1_725_734_pdb    10.0\n",
        "                Rpb1     731         Rpb1_731_pdb     1.0     Rpb1_725_734_pdb    10.0\n",
        "                Rpb1     732         Rpb1_732_pdb     1.0     Rpb1_725_734_pdb    10.0\n",
        "                Rpb1     733         Rpb1_733_pdb     1.0     Rpb1_725_734_pdb    10.0\n",
        "                Rpb1     734         Rpb1_734_pdb     1.0     Rpb1_725_734_pdb    10.0\n",
        "                Rpb1     735         Rpb1_735_pdb     1.0     Rpb1_735_744_pdb    10.0\n",
        "                Rpb1     736         Rpb1_736_pdb     1.0     Rpb1_735_744_pdb    10.0\n",
        "                Rpb1     737         Rpb1_737_pdb     1.0     Rpb1_735_744_pdb    10.0\n",
        "                Rpb1     738         Rpb1_738_pdb     1.0     Rpb1_735_744_pdb    10.0\n",
        "                Rpb1     739         Rpb1_739_pdb     1.0     Rpb1_735_744_pdb    10.0\n",
        "                Rpb1     740         Rpb1_740_pdb     1.0     Rpb1_735_744_pdb    10.0\n",
        "                Rpb1     741         Rpb1_741_pdb     1.0     Rpb1_735_744_pdb    10.0\n",
        "                Rpb1     742         Rpb1_742_pdb     1.0     Rpb1_735_744_pdb    10.0\n",
        "                Rpb1     743         Rpb1_743_pdb     1.0     Rpb1_735_744_pdb    10.0\n",
        "                Rpb1     744         Rpb1_744_pdb     1.0     Rpb1_735_744_pdb    10.0\n",
        "                Rpb1     745         Rpb1_745_pdb     1.0     Rpb1_745_754_pdb    10.0\n",
        "                Rpb1     746 "
       ]
      },
      {
       "output_type": "stream",
       "stream": "stdout",
       "text": [
        "        Rpb1_746_pdb     1.0     Rpb1_745_754_pdb    10.0\n",
        "                Rpb1     747         Rpb1_747_pdb     1.0     Rpb1_745_754_pdb    10.0\n",
        "                Rpb1     748         Rpb1_748_pdb     1.0     Rpb1_745_754_pdb    10.0\n",
        "                Rpb1     749         Rpb1_749_pdb     1.0     Rpb1_745_754_pdb    10.0\n",
        "                Rpb1     750         Rpb1_750_pdb     1.0     Rpb1_745_754_pdb    10.0\n",
        "                Rpb1     751         Rpb1_751_pdb     1.0     Rpb1_745_754_pdb    10.0\n",
        "                Rpb1     752         Rpb1_752_pdb     1.0     Rpb1_745_754_pdb    10.0\n",
        "                Rpb1     753         Rpb1_753_pdb     1.0     Rpb1_745_754_pdb    10.0\n",
        "                Rpb1     754         Rpb1_754_pdb     1.0     Rpb1_745_754_pdb    10.0\n",
        "                Rpb1     755         Rpb1_755_pdb     1.0     Rpb1_755_764_pdb    10.0\n",
        "                Rpb1     756         Rpb1_756_pdb     1.0     Rpb1_755_764_pdb    10.0\n",
        "                Rpb1     757         Rpb1_757_pdb     1.0     Rpb1_755_764_pdb    10.0\n",
        "                Rpb1     758         Rpb1_758_pdb     1.0     Rpb1_755_764_pdb    10.0\n",
        "                Rpb1     759         Rpb1_759_pdb     1.0     Rpb1_755_764_pdb    10.0\n",
        "                Rpb1     760         Rpb1_760_pdb     1.0     Rpb1_755_764_pdb    10.0\n",
        "                Rpb1     761         Rpb1_761_pdb     1.0     Rpb1_755_764_pdb    10.0\n",
        "                Rpb1     762         Rpb1_762_pdb     1.0     Rpb1_755_764_pdb    10.0\n",
        "                Rpb1     763         Rpb1_763_pdb     1.0     Rpb1_755_764_pdb    10.0\n",
        "                Rpb1     764         Rpb1_764_pdb     1.0     Rpb1_755_764_pdb    10.0\n",
        "                Rpb1     765         Rpb1_765_pdb     1.0     Rpb1_765_774_pdb    10.0\n",
        "                Rpb1     766         Rpb1_766_pdb     1.0     Rpb1_765_774_pdb    10.0\n",
        "                Rpb1     767         Rpb1_767_pdb     1.0     Rpb1_765_774_pdb    10.0\n",
        "                Rpb1     768         Rpb1_768_pdb     1.0     Rpb1_765_774_pdb    10.0\n",
        "                Rpb1     769         Rpb1_769_pdb     1.0     Rpb1_765_774_pdb    10.0\n",
        "                Rpb1     770         Rpb1_770_pdb     1.0     Rpb1_765_774_pdb    10.0\n",
        "                Rpb1     771         Rpb1_771_pdb     1.0     Rpb1_765_774_pdb    10.0\n",
        "                Rpb1     772         Rpb1_772_pdb     1.0     Rpb1_765_774_pdb    10.0\n",
        "                Rpb1     773         Rpb1_773_pdb     1.0     Rpb1_765_774_pdb    10.0\n",
        "                Rpb1     774         Rpb1_774_pdb     1.0     Rpb1_765_774_pdb    10.0\n",
        "                Rpb1     775         Rpb1_775_pdb     1.0     Rpb1_775_784_pdb    10.0\n",
        "                Rpb1     776         Rpb1_776_pdb     1.0     Rpb1_775_784_pdb    10.0\n",
        "                Rpb1     777         Rpb1_777_pdb     1.0     Rpb1_775_784_pdb    10.0\n",
        "                Rpb1     778         Rpb1_778_pdb     1.0     Rpb1_775_784_pdb    10.0\n",
        "                Rpb1     779         Rpb1_779_pdb     1.0     Rpb1_775_784_pdb    10.0\n",
        "                Rpb1     780         Rpb1_780_pdb     1.0     Rpb1_775_784_pdb    10.0\n",
        "                Rpb1     781         Rpb1_781_pdb     1.0     Rpb1_775_784_pdb    10.0\n",
        "                Rpb1     782         Rpb1_782_pdb     1.0     Rpb1_775_784_pdb    10.0\n",
        "                Rpb1     783         Rpb1_783_pdb     1.0     Rpb1_775_784_pdb    10.0\n",
        "                Rpb1     784         Rpb1_784_pdb     1.0     Rpb1_775_784_pdb    10.0\n",
        "                Rpb1     785         Rpb1_785_pdb     1.0     Rpb1_785_794_pdb    10.0\n",
        "                Rpb1     786         Rpb1_786_pdb     1.0     Rpb1_785_794_pdb    10.0\n",
        "                Rpb1     787         Rpb1_787_pdb     1.0     Rpb1_785_794_pdb    10.0\n",
        "                Rpb1     788         Rpb1_788_pdb     1.0     Rpb1_785_794_pdb    10.0\n",
        "                Rpb1     789         Rpb1_789_pdb     1.0     Rpb1_785_794_pdb    10.0\n",
        "                Rpb1     790         Rpb1_790_pdb     1.0     Rpb1_785_794_pdb    10.0\n",
        "                Rpb1     791         Rpb1_791_pdb     1.0     Rpb1_785_794_pdb    10.0\n",
        "                Rpb1     792         Rpb1_792_pdb     1.0     Rpb1_785_794_pdb    10.0\n",
        "                Rpb1     793         Rpb1_793_pdb     1.0     Rpb1_785_794_pdb    10.0\n",
        "                Rpb1     794         Rpb1_794_pdb     1.0     Rpb1_785_794_pdb    10.0\n",
        "                Rpb1     795         Rpb1_795_pdb     1.0     Rpb1_795_804_pdb    10.0\n",
        "                Rpb1     796         Rpb1_796_pdb     1.0     Rpb1_795_804_pdb    10.0\n",
        "                Rpb1     797         Rpb1_797_pdb     1.0     Rpb1_795_804_pdb    10.0\n",
        "                Rpb1     798         Rpb1_798_pdb     1.0     Rpb1_795_804_pdb    10.0\n",
        "                Rpb1     799         Rpb1_799_pdb     1.0     Rpb1_795_804_pdb    10.0\n",
        "                Rpb1     800         Rpb1_800_pdb     1.0     Rpb1_795_804_pdb    10.0\n",
        "                Rpb1     801         Rpb1_801_pdb     1.0     Rpb1_795_804_pdb    10.0\n",
        "                Rpb1     802         Rpb1_802_pdb     1.0     Rpb1_795_804_pdb    10.0\n",
        "                Rpb1     803         Rpb1_803_pdb     1.0     Rpb1_795_804_pdb    10.0\n",
        "                Rpb1     804         Rpb1_804_pdb     1.0     Rpb1_795_804_pdb    10.0\n",
        "                Rpb1     805         Rpb1_805_pdb     1.0     Rpb1_805_814_pdb    10.0\n",
        "                Rpb1     806         Rpb1_806_pdb     1.0     Rpb1_805_814_pdb    10.0\n",
        "                Rpb1     807         Rpb1_807_pdb     1.0     Rpb1_805_814_pdb    10.0\n",
        "                Rpb1     808         Rpb1_808_pdb     1.0     Rpb1_805_814_pdb    10.0\n",
        "                Rpb1     809         Rpb1_809_pdb     1.0     Rpb1_805_814_pdb    10.0\n",
        "                Rpb1     810         Rpb1_810_pdb     1.0     Rpb1_805_814_pdb    10.0\n",
        "                Rpb1     811         Rpb1_811_pdb     1.0     Rpb1_805_814_pdb    10.0\n",
        "                Rpb1     812         Rpb1_812_pdb     1.0     Rpb1_805_814_pdb    10.0\n",
        "                Rpb1     813         Rpb1_813_pdb     1.0     Rpb1_805_814_pdb    10.0\n",
        "                Rpb1     814         Rpb1_814_pdb     1.0     Rpb1_805_814_pdb    10.0\n",
        "                Rpb1     815         Rpb1_815_pdb     1.0     Rpb1_815_824_pdb    10.0\n",
        "                Rpb1     816         Rpb1_816_pdb     1.0     Rpb1_815_824_pdb    10.0\n",
        "                Rpb1     817         Rpb1_817_pdb     1.0     Rpb1_815_824_pdb    10.0\n",
        "                Rpb1     818         Rpb1_818_pdb     1.0     Rpb1_815_824_pdb    10.0\n",
        "                Rpb1     819         Rpb1_819_pdb     1.0     Rpb1_815_824_pdb    10.0\n",
        "                Rpb1     820         Rpb1_820_pdb     1.0     Rpb1_815_824_pdb    10.0\n",
        "                Rpb1     821         Rpb1_821_pdb     1.0     Rpb1_815_824_pdb    10.0\n",
        "                Rpb1     822         Rpb1_822_pdb     1.0     Rpb1_815_824_pdb    10.0\n",
        "                Rpb1     823         Rpb1_823_pdb     1.0     Rpb1_815_824_pdb    10.0\n",
        "                Rpb1     824         Rpb1_824_pdb     1.0     Rpb1_815_824_pdb    10.0\n",
        "                Rpb1     825         Rpb1_825_pdb     1.0     Rpb1_825_834_pdb    10.0\n",
        "                Rpb1     826         Rpb1_826_pdb     1.0     Rpb1_825_834_pdb    10.0\n",
        "                Rpb1     827         Rpb1_827_pdb     1.0     Rpb1_825_834_pdb    10.0\n",
        "                Rpb1     828         Rpb1_828_pdb     1.0     Rpb1_825_834_pdb    10.0\n",
        "                Rpb1     829         Rpb1_829_pdb     1.0     Rpb1_825_834_pdb    10.0\n",
        "                Rpb1     830         Rpb1_830_pdb     1.0     Rpb1_825_834_pdb    10.0\n",
        "                Rpb1     831         Rpb1_831_pdb     1.0     Rpb1_825_834_pdb    10.0\n",
        "                Rpb1     832         Rpb1_832_pdb     1.0     Rpb1_825_834_pdb    10.0\n",
        "                Rpb1     833         Rpb1_833_pdb     1.0     Rpb1_825_834_pdb    10.0\n",
        "                Rpb1     834         Rpb1_834_pdb     1.0     Rpb1_825_834_pdb    10.0\n",
        "                Rpb1     835         Rpb1_835_pdb     1.0     Rpb1_835_844_pdb    10.0\n",
        "                Rpb1     836         Rpb1_836_pdb     1.0     Rpb1_835_844_pdb    10.0\n",
        "                Rpb1     837         Rpb1_837_pdb     1.0     Rpb1_835_844_pdb    10.0\n",
        "                Rpb1     838         Rpb1_838_pdb     1.0     Rpb1_835_844_pdb    10.0\n",
        "                Rpb1     839         Rpb1_839_pdb     1.0     Rpb1_835_844_pdb    10.0\n",
        "                Rpb1     840         Rpb1_840_pdb     1.0     Rpb1_835_844_pdb    10.0\n",
        "                Rpb1     841         Rpb1_841_pdb     1.0     Rpb1_835_844_pdb    10.0\n",
        "                Rpb1     842         Rpb1_842_pdb     1.0     Rpb1_835_844_pdb    10.0\n",
        "                Rpb1     843         Rpb1_843_pdb     1.0     Rpb1_835_844_pdb    10.0\n",
        "                Rpb1     844         Rpb1_844_pdb     1.0     Rpb1_835_844_pdb    10.0\n",
        "                Rpb1     845         Rpb1_845_pdb     1.0     Rpb1_845_854_pdb    10.0\n",
        "                Rpb1     846         Rpb1_846_pdb     1.0     Rpb1_845_854_pdb    10.0\n",
        "                Rpb1     847         Rpb1_847_pdb     1.0     Rpb1_845_854_pdb    10.0\n",
        "                Rpb1     848         Rpb1_848_pdb     1.0     Rpb1_845_854_pdb    10.0\n",
        "                Rpb1     849         Rpb1_849_pdb     1.0     Rpb1_845_854_pdb    10.0\n",
        "                Rpb1     850         Rpb1_850_pdb     1.0     Rpb1_845_854_pdb    10.0\n",
        "                Rpb1     851         Rpb1_851_pdb     1.0     Rpb1_845_854_pdb    10.0\n",
        "                Rpb1     852         Rpb1_852_pdb     1.0     Rpb1_845_854_pdb    10.0\n",
        "                Rpb1     853         Rpb1_853_pdb     1.0     Rpb1_845_854_pdb    10.0\n",
        "                Rpb1     854         Rpb1_854_pdb     1.0     Rpb1_845_854_pdb    10.0\n",
        "                Rpb1     855         Rpb1_855_pdb     1.0     Rpb1_855_864_pdb    10.0\n",
        "                Rpb1     856         Rpb1_856_pdb     1.0     Rpb1_855_864_pdb    10.0\n",
        "                Rpb1     857         Rpb1_857_pdb     1.0     Rpb1_855_864_pdb    10.0\n",
        "                Rpb1     858         Rpb1_858_pdb     1.0     Rpb1_855_864_pdb    10.0\n",
        "                Rpb1     859         Rpb1_859_pdb     1.0     Rpb1_855_864_pdb    10.0\n",
        "                Rpb1     860         Rpb1_860_pdb     1.0     Rpb1_855_864_pdb    10.0\n",
        "                Rpb1     861         Rpb1_861_pdb     1.0     Rpb1_855_864_pdb    10.0\n",
        "                Rpb1     862         Rpb1_862_pdb     1.0     Rpb1_855_864_pdb    10.0\n",
        "                Rpb1     863         Rpb1_863_pdb     1.0     Rpb1_855_864_pdb    10.0\n",
        "                Rpb1     864         Rpb1_864_pdb     1.0     Rpb1_855_864_pdb    10.0\n",
        "                Rpb1     865         Rpb1_865_pdb     1.0     Rpb1_865_874_pdb    10.0\n",
        "                Rpb1     866         Rpb1_866_pdb     1.0     Rpb1_865_874_pdb    10.0\n",
        "                Rpb1     867         Rpb1_867_pdb     1.0     Rpb1_865_874_pdb    10.0\n",
        "                Rpb1     868         Rpb1_868_pdb     1.0     Rpb1_865_874_pdb    10.0\n",
        "                Rpb1     869         Rpb1_869_pdb     1.0     Rpb1_865_874_pdb    10.0\n",
        "                Rpb1     870         Rpb1_870_pdb     1.0     Rpb1_865_874_pdb    10.0\n",
        "                Rpb1     871         Rpb1_871_pdb     1.0     Rpb1_865_874_pdb    10.0\n",
        "                Rpb1     872         Rpb1_872_pdb     1.0     Rpb1_865_874_pdb    10.0\n",
        "                Rpb1     873         Rpb1_873_pdb     1.0     Rpb1_865_874_pdb    10.0\n",
        "                Rpb1     874         Rpb1_874_pdb     1.0     Rpb1_865_874_pdb    10.0\n",
        "                Rpb1     875         Rpb1_875_pdb     1.0     Rpb1_875_884_pdb    10.0\n",
        "                Rpb1     876         Rpb1_876_pdb     1.0     Rpb1_875_884_pdb    10.0\n",
        "                Rpb1     877         Rpb1_877_pdb     1.0     Rpb1_875_884_pdb    10.0\n",
        "                Rpb1     878         Rpb1_878_pdb     1.0     Rpb1_875_884_pdb    10.0\n",
        "                Rpb1     879         Rpb1_879_pdb     1.0     Rpb1_875_884_pdb    10.0\n",
        "                Rpb1     880         Rpb1_880_pdb     1.0     Rpb1_875_884_pdb    10.0\n",
        "                Rpb1     881         Rpb1_881_pdb     1.0     Rpb1_875_884_pdb    10.0\n",
        "                Rpb1     882         Rpb1_882_pdb     1.0     Rpb1_875_884_pdb    10.0\n",
        "                Rpb1     883         Rpb1_883_pdb     1.0     Rpb1_875_884_pdb    10.0\n",
        "                Rpb1     884         Rpb1_884_pdb     1.0     Rpb1_875_884_pdb    10.0\n",
        "                Rpb1     885         Rpb1_885_pdb     1.0     Rpb1_885_894_pdb    10.0\n",
        "                Rpb1     886         Rpb1_886_pdb     1.0     Rpb1_885_894_pdb    10.0\n",
        "                Rpb1     887         Rpb1_887_pdb     1.0     Rpb1_885_894_pdb    10.0\n",
        "                Rpb1     888         Rpb1_888_pdb     1.0     Rpb1_885_894_pdb    10.0\n",
        "                Rpb1     889         Rpb1_889_pdb     1.0     Rpb1_885_894_pdb    10.0\n",
        "                Rpb1     890         Rpb1_890_pdb     1.0     Rpb1_885_894_pdb    10.0\n",
        "                Rpb1     891         Rpb1_891_pdb     1.0     Rpb1_885_894_pdb    10.0\n",
        "                Rpb1     892         Rpb1_892_pdb     1.0     Rpb1_885_894_pdb    10.0\n",
        "                Rpb1     893         Rpb1_893_pdb     1.0     Rpb1_885_894_pdb    10.0\n",
        "                Rpb1     894         Rpb1_894_pdb     1.0     Rpb1_885_894_pdb    10.0\n",
        "                Rpb1     895         Rpb1_895_pdb     1.0     Rpb1_895_904_pdb    10.0\n",
        "                Rpb1     896         Rpb1_896_pdb     1.0     Rpb1_895_904_pdb    10.0\n",
        "                Rpb1     897         Rpb1_897_pdb     1.0     Rpb1_895_904_pdb    10.0\n",
        "                Rpb1     898         Rpb1_898_pdb     1.0     Rpb1_895_904_pdb    10.0\n",
        "                Rpb1     899         Rpb1_899_pdb     1.0     Rpb1_895_904_pdb    10.0\n",
        "                Rpb1     900         Rpb1_900_pdb     1.0     Rpb1_895_904_pdb    10.0\n",
        "                Rpb1     901         Rpb1_901_pdb     1.0     Rpb1_895_904_pdb    10.0\n",
        "                Rpb1     902         Rpb1_902_pdb     1.0     Rpb1_895_904_pdb    10.0\n",
        "                Rpb1     903         Rpb1_903_pdb     1.0     Rpb1_895_904_pdb    10.0\n",
        "                Rpb1     904         Rpb1_904_pdb     1.0     Rpb1_895_904_pdb    10.0\n",
        "                Rpb1     905         Rpb1_905_pdb     1.0     Rpb1_905_914_pdb    10.0\n",
        "                Rpb1     906         Rpb1_906_pdb     1.0     Rpb1_905_914_pdb    10.0\n",
        "                Rpb1     907         Rpb1_907_pdb     1.0     Rpb1_905_914_pdb    10.0\n",
        "                Rpb1     908         Rpb1_908_pdb     1.0     Rpb1_905_914_pdb    10.0\n",
        "                Rpb1     909         Rpb1_909_pdb     1.0     Rpb1_905_914_pdb    10.0\n",
        "                Rpb1     910         Rpb1_910_pdb     1.0     Rpb1_905_914_pdb    10.0\n",
        "                Rpb1     911         Rpb1_911_pdb     1.0     Rpb1_905_914_pdb    10.0\n",
        "                Rpb1     912         Rpb1_912_pdb     1.0     Rpb1_905_914_pdb    10.0\n",
        "                Rpb1     913         Rpb1_913_pdb     1.0     Rpb1_905_914_pdb    10.0\n",
        "                Rpb1     914         Rpb1_914_pdb     1.0     Rpb1_905_914_pdb    10.0\n",
        "                Rpb1     915         Rpb1_915_pdb     1.0     Rpb1_915_924_pdb    10.0\n",
        "                Rpb1     916         Rpb1_916_pdb     1.0     Rpb1_915_924_pdb    10.0\n",
        "                Rpb1     917         Rpb1_917_pdb     1.0     Rpb1_915_924_pdb    10.0\n",
        "                Rpb1     918         Rpb1_918_pdb     1.0     Rpb1_915_924_pdb    10.0\n",
        "                Rpb1     919         Rpb1_919_pdb     1.0     Rpb1_915_924_pdb    10.0\n",
        "                Rpb1     920         Rpb1_920_pdb     1.0     Rpb1_915_924_pdb    10.0\n",
        "                Rpb1     921         Rpb1_921_pdb     1.0     Rpb1_915_924_pdb    10.0\n",
        "                Rpb1     922         Rpb1_922_pdb     1.0     Rpb1_915_924_pdb    10.0\n",
        "                Rpb1     923         Rpb1_923_pdb     1.0     Rpb1_915_924_pdb    10.0\n",
        "                Rpb1     924         Rpb1_924_pdb     1.0     Rpb1_915_924_pdb    10.0\n",
        "                Rpb1     925         Rpb1_925_pdb     1.0     Rpb1_925_934_pdb    10.0\n",
        "                Rpb1     926         Rpb1_926_pdb     1.0     Rpb1_925_934_pdb    10.0\n",
        "                Rpb1     927         Rpb1_927_pdb     1.0     Rpb1_925_934_pdb    10.0\n",
        "                Rpb1     928         Rpb1_928_pdb     1.0     Rpb1_925_934_pdb    10.0\n",
        "                Rpb1     929         Rpb1_929_pdb     1.0     Rpb1_925_934_pdb    10.0\n",
        "                Rpb1     930         Rpb1_930_pdb     1.0     Rpb1_925_934_pdb    10.0\n",
        "                Rpb1     931         Rpb1_931_pdb     1.0     Rpb1_925_934_pdb    10.0\n",
        "                Rpb1     932         Rpb1_932_pdb     1.0     Rpb1_925_934_pdb    10.0\n",
        "                Rpb1     933         Rpb1_933_pdb     1.0     Rpb1_925_934_pdb    10.0\n",
        "                Rpb1     934         Rpb1_934_pdb     1.0     Rpb1_925_934_pdb    10.0\n",
        "                Rpb1     935         Rpb1_935_pdb     1.0     Rpb1_935_944_pdb    10.0\n",
        "                Rpb1     936         Rpb1_936_pdb     1.0     Rpb1_935_944_pdb    10.0\n",
        "                Rpb1     937         Rpb1_937_pdb     1.0     Rpb1_935_944_pdb    10.0\n",
        "                Rpb1     938         Rpb1_938_pdb     1.0     Rpb1_935_944_pdb    10.0\n",
        "                Rpb1     939         Rpb1_939_pdb     1.0     Rpb1_935_944_pdb    10.0\n",
        "                Rpb1     940         Rpb1_940_pdb     1.0     Rpb1_935_944_pdb    10.0\n",
        "                Rpb1     941         Rpb1_941_pdb     1.0     Rpb1_935_944_pdb    10.0\n",
        "                Rpb1     942         Rpb1_942_pdb     1.0     Rpb1_935_944_pdb    10.0\n",
        "                Rpb1     943         Rpb1_943_pdb     1.0     Rpb1_935_944_pdb    10.0\n",
        "                Rpb1     944         Rpb1_944_pdb     1.0     Rpb1_935_944_pdb    10.0\n",
        "                Rpb1     945         Rpb1_945_pdb     1.0     Rpb1_945_954_pdb    10.0\n",
        "                Rpb1     946         Rpb1_946_pdb     1.0     Rpb1_945_954_pdb    10.0\n",
        "                Rpb1     947         Rpb1_947_pdb     1.0     Rpb1_945_954_pdb    10.0\n",
        "                Rpb1     948         Rpb1_948_pdb     1.0     Rpb1_945_954_pdb    10.0\n",
        "                Rpb1     949         Rpb1_949_pdb     1.0     Rpb1_945_954_pdb    10.0\n",
        "                Rpb1     950         Rpb1_950_pdb     1.0     Rpb1_945_954_pdb    10.0\n",
        "                Rpb1     951         Rpb1_951_pdb     1.0     Rpb1_945_954_pdb    10.0\n",
        "                Rpb1     952         Rpb1_952_pdb     1.0     Rpb1_945_954_pdb    10.0\n",
        "                Rpb1     953         Rpb1_953_pdb     1.0     Rpb1_945_954_pdb    10.0\n",
        "                Rpb1     954         Rpb1_954_pdb     1.0     Rpb1_945_954_pdb    10.0\n",
        "                Rpb1     955         Rpb1_955_pdb     1.0     Rpb1_955_964_pdb    10.0\n",
        "                Rpb1     956         Rpb1_956_pdb     1.0     Rpb1_955_964_pdb    10.0\n",
        "                Rpb1     957         Rpb1_957_pdb     1.0     Rpb1_955_964_pdb    10.0\n",
        "                Rpb1     958         Rpb1_958_pdb     1.0     Rpb1_955_964_pdb    10.0\n",
        "                Rpb1     959         Rpb1_959_pdb     1.0     Rpb1_955_964_pdb    10.0\n",
        "                Rpb1     960         Rpb1_960_pdb     1.0     Rpb1_955_964_pdb    10.0\n",
        "                Rpb1     961         Rpb1_961_pdb     1.0     Rpb1_955_964_pdb    10.0\n",
        "                Rpb1     962         Rpb1_962_pdb     1.0     Rpb1_955_964_pdb    10.0\n",
        "                Rpb1     963         Rpb1_963_pdb     1.0     Rpb1_955_964_pdb    10.0\n",
        "                Rpb1     964         Rpb1_964_pdb     1.0     Rpb1_955_964_pdb    10.0\n",
        "                Rpb1     965         Rpb1_965_pdb     1.0     Rpb1_965_974_pdb    10.0\n",
        "                Rpb1     966         Rpb1_966_pdb     1.0     Rpb1_965_974_pdb    10.0\n",
        "                Rpb1     967 "
       ]
      },
      {
       "output_type": "stream",
       "stream": "stdout",
       "text": [
        "        Rpb1_967_pdb     1.0     Rpb1_965_974_pdb    10.0\n",
        "                Rpb1     968         Rpb1_968_pdb     1.0     Rpb1_965_974_pdb    10.0\n",
        "                Rpb1     969         Rpb1_969_pdb     1.0     Rpb1_965_974_pdb    10.0\n",
        "                Rpb1     970         Rpb1_970_pdb     1.0     Rpb1_965_974_pdb    10.0\n",
        "                Rpb1     971         Rpb1_971_pdb     1.0     Rpb1_965_974_pdb    10.0\n",
        "                Rpb1     972         Rpb1_972_pdb     1.0     Rpb1_965_974_pdb    10.0\n",
        "                Rpb1     973         Rpb1_973_pdb     1.0     Rpb1_965_974_pdb    10.0\n",
        "                Rpb1     974         Rpb1_974_pdb     1.0     Rpb1_965_974_pdb    10.0\n",
        "                Rpb1     975         Rpb1_975_pdb     1.0     Rpb1_975_984_pdb    10.0\n",
        "                Rpb1     976         Rpb1_976_pdb     1.0     Rpb1_975_984_pdb    10.0\n",
        "                Rpb1     977         Rpb1_977_pdb     1.0     Rpb1_975_984_pdb    10.0\n",
        "                Rpb1     978         Rpb1_978_pdb     1.0     Rpb1_975_984_pdb    10.0\n",
        "                Rpb1     979         Rpb1_979_pdb     1.0     Rpb1_975_984_pdb    10.0\n",
        "                Rpb1     980         Rpb1_980_pdb     1.0     Rpb1_975_984_pdb    10.0\n",
        "                Rpb1     981         Rpb1_981_pdb     1.0     Rpb1_975_984_pdb    10.0\n",
        "                Rpb1     982         Rpb1_982_pdb     1.0     Rpb1_975_984_pdb    10.0\n",
        "                Rpb1     983         Rpb1_983_pdb     1.0     Rpb1_975_984_pdb    10.0\n",
        "                Rpb1     984         Rpb1_984_pdb     1.0     Rpb1_975_984_pdb    10.0\n",
        "                Rpb1     985         Rpb1_985_pdb     1.0     Rpb1_985_994_pdb    10.0\n",
        "                Rpb1     986         Rpb1_986_pdb     1.0     Rpb1_985_994_pdb    10.0\n",
        "                Rpb1     987         Rpb1_987_pdb     1.0     Rpb1_985_994_pdb    10.0\n",
        "                Rpb1     988         Rpb1_988_pdb     1.0     Rpb1_985_994_pdb    10.0\n",
        "                Rpb1     989         Rpb1_989_pdb     1.0     Rpb1_985_994_pdb    10.0\n",
        "                Rpb1     990         Rpb1_990_pdb     1.0     Rpb1_985_994_pdb    10.0\n",
        "                Rpb1     991         Rpb1_991_pdb     1.0     Rpb1_985_994_pdb    10.0\n",
        "                Rpb1     992         Rpb1_992_pdb     1.0     Rpb1_985_994_pdb    10.0\n",
        "                Rpb1     993         Rpb1_993_pdb     1.0     Rpb1_985_994_pdb    10.0\n",
        "                Rpb1     994         Rpb1_994_pdb     1.0     Rpb1_985_994_pdb    10.0\n",
        "                Rpb1     995         Rpb1_995_pdb     1.0    Rpb1_995_1004_pdb    10.0\n",
        "                Rpb1     996         Rpb1_996_pdb     1.0    Rpb1_995_1004_pdb    10.0\n",
        "                Rpb1     997         Rpb1_997_pdb     1.0    Rpb1_995_1004_pdb    10.0\n",
        "                Rpb1     998         Rpb1_998_pdb     1.0    Rpb1_995_1004_pdb    10.0\n",
        "                Rpb1     999         Rpb1_999_pdb     1.0    Rpb1_995_1004_pdb    10.0\n",
        "                Rpb1    1000        Rpb1_1000_pdb     1.0    Rpb1_995_1004_pdb    10.0\n",
        "                Rpb1    1001        Rpb1_1001_pdb     1.0    Rpb1_995_1004_pdb    10.0\n",
        "                Rpb1    1002        Rpb1_1002_pdb     1.0    Rpb1_995_1004_pdb    10.0\n",
        "                Rpb1    1003        Rpb1_1003_pdb     1.0    Rpb1_995_1004_pdb    10.0\n",
        "                Rpb1    1004        Rpb1_1004_pdb     1.0    Rpb1_995_1004_pdb    10.0\n",
        "                Rpb1    1005        Rpb1_1005_pdb     1.0   Rpb1_1005_1014_pdb    10.0\n",
        "                Rpb1    1006        Rpb1_1006_pdb     1.0   Rpb1_1005_1014_pdb    10.0\n",
        "                Rpb1    1007        Rpb1_1007_pdb     1.0   Rpb1_1005_1014_pdb    10.0\n",
        "                Rpb1    1008        Rpb1_1008_pdb     1.0   Rpb1_1005_1014_pdb    10.0\n",
        "                Rpb1    1009        Rpb1_1009_pdb     1.0   Rpb1_1005_1014_pdb    10.0\n",
        "                Rpb1    1010        Rpb1_1010_pdb     1.0   Rpb1_1005_1014_pdb    10.0\n",
        "                Rpb1    1011        Rpb1_1011_pdb     1.0   Rpb1_1005_1014_pdb    10.0\n",
        "                Rpb1    1012        Rpb1_1012_pdb     1.0   Rpb1_1005_1014_pdb    10.0\n",
        "                Rpb1    1013        Rpb1_1013_pdb     1.0   Rpb1_1005_1014_pdb    10.0\n",
        "                Rpb1    1014        Rpb1_1014_pdb     1.0   Rpb1_1005_1014_pdb    10.0\n",
        "                Rpb1    1015        Rpb1_1015_pdb     1.0   Rpb1_1015_1024_pdb    10.0\n",
        "                Rpb1    1016        Rpb1_1016_pdb     1.0   Rpb1_1015_1024_pdb    10.0\n",
        "                Rpb1    1017        Rpb1_1017_pdb     1.0   Rpb1_1015_1024_pdb    10.0\n",
        "                Rpb1    1018        Rpb1_1018_pdb     1.0   Rpb1_1015_1024_pdb    10.0\n",
        "                Rpb1    1019        Rpb1_1019_pdb     1.0   Rpb1_1015_1024_pdb    10.0\n",
        "                Rpb1    1020        Rpb1_1020_pdb     1.0   Rpb1_1015_1024_pdb    10.0\n",
        "                Rpb1    1021        Rpb1_1021_pdb     1.0   Rpb1_1015_1024_pdb    10.0\n",
        "                Rpb1    1022        Rpb1_1022_pdb     1.0   Rpb1_1015_1024_pdb    10.0\n",
        "                Rpb1    1023        Rpb1_1023_pdb     1.0   Rpb1_1015_1024_pdb    10.0\n",
        "                Rpb1    1024        Rpb1_1024_pdb     1.0   Rpb1_1015_1024_pdb    10.0\n",
        "                Rpb1    1025        Rpb1_1025_pdb     1.0   Rpb1_1025_1034_pdb    10.0\n",
        "                Rpb1    1026        Rpb1_1026_pdb     1.0   Rpb1_1025_1034_pdb    10.0\n",
        "                Rpb1    1027        Rpb1_1027_pdb     1.0   Rpb1_1025_1034_pdb    10.0\n",
        "                Rpb1    1028        Rpb1_1028_pdb     1.0   Rpb1_1025_1034_pdb    10.0\n",
        "                Rpb1    1029        Rpb1_1029_pdb     1.0   Rpb1_1025_1034_pdb    10.0\n",
        "                Rpb1    1030        Rpb1_1030_pdb     1.0   Rpb1_1025_1034_pdb    10.0\n",
        "                Rpb1    1031        Rpb1_1031_pdb     1.0   Rpb1_1025_1034_pdb    10.0\n",
        "                Rpb1    1032        Rpb1_1032_pdb     1.0   Rpb1_1025_1034_pdb    10.0\n",
        "                Rpb1    1033        Rpb1_1033_pdb     1.0   Rpb1_1025_1034_pdb    10.0\n",
        "                Rpb1    1034        Rpb1_1034_pdb     1.0   Rpb1_1025_1034_pdb    10.0\n",
        "                Rpb1    1035        Rpb1_1035_pdb     1.0   Rpb1_1035_1044_pdb    10.0\n",
        "                Rpb1    1036        Rpb1_1036_pdb     1.0   Rpb1_1035_1044_pdb    10.0\n",
        "                Rpb1    1037        Rpb1_1037_pdb     1.0   Rpb1_1035_1044_pdb    10.0\n",
        "                Rpb1    1038        Rpb1_1038_pdb     1.0   Rpb1_1035_1044_pdb    10.0\n",
        "                Rpb1    1039        Rpb1_1039_pdb     1.0   Rpb1_1035_1044_pdb    10.0\n",
        "                Rpb1    1040        Rpb1_1040_pdb     1.0   Rpb1_1035_1044_pdb    10.0\n",
        "                Rpb1    1041        Rpb1_1041_pdb     1.0   Rpb1_1035_1044_pdb    10.0\n",
        "                Rpb1    1042        Rpb1_1042_pdb     1.0   Rpb1_1035_1044_pdb    10.0\n",
        "                Rpb1    1043        Rpb1_1043_pdb     1.0   Rpb1_1035_1044_pdb    10.0\n",
        "                Rpb1    1044        Rpb1_1044_pdb     1.0   Rpb1_1035_1044_pdb    10.0\n",
        "                Rpb1    1045        Rpb1_1045_pdb     1.0   Rpb1_1045_1054_pdb    10.0\n",
        "                Rpb1    1046        Rpb1_1046_pdb     1.0   Rpb1_1045_1054_pdb    10.0\n",
        "                Rpb1    1047        Rpb1_1047_pdb     1.0   Rpb1_1045_1054_pdb    10.0\n",
        "                Rpb1    1048        Rpb1_1048_pdb     1.0   Rpb1_1045_1054_pdb    10.0\n",
        "                Rpb1    1049        Rpb1_1049_pdb     1.0   Rpb1_1045_1054_pdb    10.0\n",
        "                Rpb1    1050        Rpb1_1050_pdb     1.0   Rpb1_1045_1054_pdb    10.0\n",
        "                Rpb1    1051        Rpb1_1051_pdb     1.0   Rpb1_1045_1054_pdb    10.0\n",
        "                Rpb1    1052        Rpb1_1052_pdb     1.0   Rpb1_1045_1054_pdb    10.0\n",
        "                Rpb1    1053        Rpb1_1053_pdb     1.0   Rpb1_1045_1054_pdb    10.0\n",
        "                Rpb1    1054        Rpb1_1054_pdb     1.0   Rpb1_1045_1054_pdb    10.0\n",
        "                Rpb1    1055        Rpb1_1055_pdb     1.0   Rpb1_1055_1064_pdb    10.0\n",
        "                Rpb1    1056        Rpb1_1056_pdb     1.0   Rpb1_1055_1064_pdb    10.0\n",
        "                Rpb1    1057        Rpb1_1057_pdb     1.0   Rpb1_1055_1064_pdb    10.0\n",
        "                Rpb1    1058        Rpb1_1058_pdb     1.0   Rpb1_1055_1064_pdb    10.0\n",
        "                Rpb1    1059        Rpb1_1059_pdb     1.0   Rpb1_1055_1064_pdb    10.0\n",
        "                Rpb1    1060        Rpb1_1060_pdb     1.0   Rpb1_1055_1064_pdb    10.0\n",
        "                Rpb1    1061        Rpb1_1061_pdb     1.0   Rpb1_1055_1064_pdb    10.0\n",
        "                Rpb1    1062        Rpb1_1062_pdb     1.0   Rpb1_1055_1064_pdb    10.0\n",
        "                Rpb1    1063        Rpb1_1063_pdb     1.0   Rpb1_1055_1064_pdb    10.0\n",
        "                Rpb1    1064        Rpb1_1064_pdb     1.0   Rpb1_1055_1064_pdb    10.0\n",
        "                Rpb1    1065        Rpb1_1065_pdb     1.0   Rpb1_1065_1074_pdb    10.0\n",
        "                Rpb1    1066        Rpb1_1066_pdb     1.0   Rpb1_1065_1074_pdb    10.0\n",
        "                Rpb1    1067        Rpb1_1067_pdb     1.0   Rpb1_1065_1074_pdb    10.0\n",
        "                Rpb1    1068        Rpb1_1068_pdb     1.0   Rpb1_1065_1074_pdb    10.0\n",
        "                Rpb1    1069        Rpb1_1069_pdb     1.0   Rpb1_1065_1074_pdb    10.0\n",
        "                Rpb1    1070        Rpb1_1070_pdb     1.0   Rpb1_1065_1074_pdb    10.0\n",
        "                Rpb1    1071        Rpb1_1071_pdb     1.0   Rpb1_1065_1074_pdb    10.0\n",
        "                Rpb1    1072        Rpb1_1072_pdb     1.0   Rpb1_1065_1074_pdb    10.0\n",
        "                Rpb1    1073        Rpb1_1073_pdb     1.0   Rpb1_1065_1074_pdb    10.0\n",
        "                Rpb1    1074        Rpb1_1074_pdb     1.0   Rpb1_1065_1074_pdb    10.0\n",
        "                Rpb1    1075        Rpb1_1075_pdb     1.0   Rpb1_1075_1081_pdb    10.0\n",
        "                Rpb1    1076        Rpb1_1076_pdb     1.0   Rpb1_1075_1081_pdb    10.0\n",
        "                Rpb1    1077        Rpb1_1077_pdb     1.0   Rpb1_1075_1081_pdb    10.0\n",
        "                Rpb1    1078        Rpb1_1078_pdb     1.0   Rpb1_1075_1081_pdb    10.0\n",
        "                Rpb1    1079        Rpb1_1079_pdb     1.0   Rpb1_1075_1081_pdb    10.0\n",
        "                Rpb1    1080        Rpb1_1080_pdb     1.0   Rpb1_1075_1081_pdb    10.0\n",
        "                Rpb1    1081        Rpb1_1081_pdb     1.0   Rpb1_1075_1081_pdb    10.0\n",
        "                Rpb1    1082  Rpb1_1082-1091_bead    10.0\n",
        "                Rpb1    1083  Rpb1_1082-1091_bead    10.0\n",
        "                Rpb1    1084  Rpb1_1082-1091_bead    10.0\n",
        "                Rpb1    1085  Rpb1_1082-1091_bead    10.0\n",
        "                Rpb1    1086  Rpb1_1082-1091_bead    10.0\n",
        "                Rpb1    1087  Rpb1_1082-1091_bead    10.0\n",
        "                Rpb1    1088  Rpb1_1082-1091_bead    10.0\n",
        "                Rpb1    1089  Rpb1_1082-1091_bead    10.0\n",
        "                Rpb1    1090  Rpb1_1082-1091_bead    10.0\n",
        "                Rpb1    1091  Rpb1_1082-1091_bead    10.0\n",
        "                Rpb1    1092        Rpb1_1092_pdb     1.0   Rpb1_1092_1101_pdb    10.0\n",
        "                Rpb1    1093        Rpb1_1093_pdb     1.0   Rpb1_1092_1101_pdb    10.0\n",
        "                Rpb1    1094        Rpb1_1094_pdb     1.0   Rpb1_1092_1101_pdb    10.0\n",
        "                Rpb1    1095        Rpb1_1095_pdb     1.0   Rpb1_1092_1101_pdb    10.0\n",
        "                Rpb1    1096        Rpb1_1096_pdb     1.0   Rpb1_1092_1101_pdb    10.0\n",
        "                Rpb1    1097        Rpb1_1097_pdb     1.0   Rpb1_1092_1101_pdb    10.0\n",
        "                Rpb1    1098        Rpb1_1098_pdb     1.0   Rpb1_1092_1101_pdb    10.0\n",
        "                Rpb1    1099        Rpb1_1099_pdb     1.0   Rpb1_1092_1101_pdb    10.0\n",
        "                Rpb1    1100        Rpb1_1100_pdb     1.0   Rpb1_1092_1101_pdb    10.0\n",
        "                Rpb1    1101        Rpb1_1101_pdb     1.0   Rpb1_1092_1101_pdb    10.0\n",
        "                Rpb1    1102        Rpb1_1102_pdb     1.0   Rpb1_1102_1111_pdb    10.0\n",
        "                Rpb1    1103        Rpb1_1103_pdb     1.0   Rpb1_1102_1111_pdb    10.0\n",
        "                Rpb1    1104        Rpb1_1104_pdb     1.0   Rpb1_1102_1111_pdb    10.0\n",
        "                Rpb1    1105        Rpb1_1105_pdb     1.0   Rpb1_1102_1111_pdb    10.0\n",
        "                Rpb1    1106        Rpb1_1106_pdb     1.0   Rpb1_1102_1111_pdb    10.0\n",
        "                Rpb1    1107        Rpb1_1107_pdb     1.0   Rpb1_1102_1111_pdb    10.0\n",
        "                Rpb1    1108        Rpb1_1108_pdb     1.0   Rpb1_1102_1111_pdb    10.0\n",
        "                Rpb1    1109        Rpb1_1109_pdb     1.0   Rpb1_1102_1111_pdb    10.0\n",
        "                Rpb1    1110        Rpb1_1110_pdb     1.0   Rpb1_1102_1111_pdb    10.0\n",
        "                Rpb1    1111        Rpb1_1111_pdb     1.0   Rpb1_1102_1111_pdb    10.0\n",
        "                Rpb1    1112        Rpb1_1112_pdb     1.0   Rpb1_1112_1121_pdb    10.0\n",
        "                Rpb1    1113        Rpb1_1113_pdb     1.0   Rpb1_1112_1121_pdb    10.0\n",
        "                Rpb1    1114        Rpb1_1114_pdb     1.0   Rpb1_1112_1121_pdb    10.0\n",
        "                Rpb1    1115        Rpb1_1115_pdb     1.0   Rpb1_1112_1121_pdb    10.0\n",
        "                Rpb1    1116        Rpb1_1116_pdb     1.0   Rpb1_1112_1121_pdb    10.0\n",
        "                Rpb1    1117        Rpb1_1117_pdb     1.0   Rpb1_1112_1121_pdb    10.0\n",
        "                Rpb1    1118        Rpb1_1118_pdb     1.0   Rpb1_1112_1121_pdb    10.0\n",
        "                Rpb1    1119        Rpb1_1119_pdb     1.0   Rpb1_1112_1121_pdb    10.0\n",
        "                Rpb1    1120        Rpb1_1120_pdb     1.0   Rpb1_1112_1121_pdb    10.0\n",
        "                Rpb1    1121        Rpb1_1121_pdb     1.0   Rpb1_1112_1121_pdb    10.0\n",
        "                Rpb1    1122        Rpb1_1122_pdb     1.0   Rpb1_1122_1131_pdb    10.0\n",
        "                Rpb1    1123        Rpb1_1123_pdb     1.0   Rpb1_1122_1131_pdb    10.0\n",
        "                Rpb1    1124        Rpb1_1124_pdb     1.0   Rpb1_1122_1131_pdb    10.0\n",
        "                Rpb1    1125        Rpb1_1125_pdb     1.0   Rpb1_1122_1131_pdb    10.0\n",
        "                Rpb1    1126        Rpb1_1126_pdb     1.0   Rpb1_1122_1131_pdb    10.0\n",
        "                Rpb1    1127        Rpb1_1127_pdb     1.0   Rpb1_1122_1131_pdb    10.0\n",
        "                Rpb1    1128        Rpb1_1128_pdb     1.0   Rpb1_1122_1131_pdb    10.0\n",
        "                Rpb1    1129        Rpb1_1129_pdb     1.0   Rpb1_1122_1131_pdb    10.0\n",
        "                Rpb1    1130        Rpb1_1130_pdb     1.0   Rpb1_1122_1131_pdb    10.0\n",
        "                Rpb1    1131        Rpb1_1131_pdb     1.0   Rpb1_1122_1131_pdb    10.0\n",
        "                Rpb1    1132        Rpb1_1132_pdb     1.0   Rpb1_1132_1141_pdb    10.0\n",
        "                Rpb1    1133        Rpb1_1133_pdb     1.0   Rpb1_1132_1141_pdb    10.0\n",
        "                Rpb1    1134        Rpb1_1134_pdb     1.0   Rpb1_1132_1141_pdb    10.0\n",
        "                Rpb1    1135        Rpb1_1135_pdb     1.0   Rpb1_1132_1141_pdb    10.0\n",
        "                Rpb1    1136        Rpb1_1136_pdb     1.0   Rpb1_1132_1141_pdb    10.0\n",
        "                Rpb1    1137        Rpb1_1137_pdb     1.0   Rpb1_1132_1141_pdb    10.0\n",
        "                Rpb1    1138        Rpb1_1138_pdb     1.0   Rpb1_1132_1141_pdb    10.0\n",
        "                Rpb1    1139        Rpb1_1139_pdb     1.0   Rpb1_1132_1141_pdb    10.0\n",
        "                Rpb1    1140        Rpb1_1140_pdb     1.0   Rpb1_1132_1141_pdb    10.0\n",
        "                Rpb1    1141        Rpb1_1141_pdb     1.0   Rpb1_1132_1141_pdb    10.0\n",
        "                Rpb1    1142        Rpb1_1142_pdb     1.0   Rpb1_1142_1151_pdb    10.0\n"
       ]
      },
      {
       "output_type": "stream",
       "stream": "stdout",
       "text": [
        "                Rpb1    1143        Rpb1_1143_pdb     1.0   Rpb1_1142_1151_pdb    10.0\n",
        "                Rpb1    1144        Rpb1_1144_pdb     1.0   Rpb1_1142_1151_pdb    10.0\n",
        "                Rpb1    1145        Rpb1_1145_pdb     1.0   Rpb1_1142_1151_pdb    10.0\n",
        "                Rpb1    1146        Rpb1_1146_pdb     1.0   Rpb1_1142_1151_pdb    10.0\n",
        "                Rpb1    1147        Rpb1_1147_pdb     1.0   Rpb1_1142_1151_pdb    10.0\n",
        "                Rpb1    1148        Rpb1_1148_pdb     1.0   Rpb1_1142_1151_pdb    10.0\n",
        "                Rpb1    1149        Rpb1_1149_pdb     1.0   Rpb1_1142_1151_pdb    10.0\n",
        "                Rpb1    1150        Rpb1_1150_pdb     1.0   Rpb1_1142_1151_pdb    10.0\n",
        "                Rpb1    1151        Rpb1_1151_pdb     1.0   Rpb1_1142_1151_pdb    10.0\n",
        "                Rpb1    1152        Rpb1_1152_pdb     1.0   Rpb1_1152_1161_pdb    10.0\n",
        "                Rpb1    1153        Rpb1_1153_pdb     1.0   Rpb1_1152_1161_pdb    10.0\n",
        "                Rpb1    1154        Rpb1_1154_pdb     1.0   Rpb1_1152_1161_pdb    10.0\n",
        "                Rpb1    1155        Rpb1_1155_pdb     1.0   Rpb1_1152_1161_pdb    10.0\n",
        "                Rpb1    1156        Rpb1_1156_pdb     1.0   Rpb1_1152_1161_pdb    10.0\n",
        "                Rpb1    1157        Rpb1_1157_pdb     1.0   Rpb1_1152_1161_pdb    10.0\n",
        "                Rpb1    1158        Rpb1_1158_pdb     1.0   Rpb1_1152_1161_pdb    10.0\n",
        "                Rpb1    1159        Rpb1_1159_pdb     1.0   Rpb1_1152_1161_pdb    10.0\n",
        "                Rpb1    1160        Rpb1_1160_pdb     1.0   Rpb1_1152_1161_pdb    10.0\n",
        "                Rpb1    1161        Rpb1_1161_pdb     1.0   Rpb1_1152_1161_pdb    10.0\n",
        "                Rpb1    1162        Rpb1_1162_pdb     1.0   Rpb1_1162_1171_pdb    10.0\n",
        "                Rpb1    1163        Rpb1_1163_pdb     1.0   Rpb1_1162_1171_pdb    10.0\n",
        "                Rpb1    1164        Rpb1_1164_pdb     1.0   Rpb1_1162_1171_pdb    10.0\n",
        "                Rpb1    1165        Rpb1_1165_pdb     1.0   Rpb1_1162_1171_pdb    10.0\n",
        "                Rpb1    1166        Rpb1_1166_pdb     1.0   Rpb1_1162_1171_pdb    10.0\n",
        "                Rpb1    1167        Rpb1_1167_pdb     1.0   Rpb1_1162_1171_pdb    10.0\n",
        "                Rpb1    1168        Rpb1_1168_pdb     1.0   Rpb1_1162_1171_pdb    10.0\n",
        "                Rpb1    1169        Rpb1_1169_pdb     1.0   Rpb1_1162_1171_pdb    10.0\n",
        "                Rpb1    1170        Rpb1_1170_pdb     1.0   Rpb1_1162_1171_pdb    10.0\n",
        "                Rpb1    1171        Rpb1_1171_pdb     1.0   Rpb1_1162_1171_pdb    10.0\n",
        "                Rpb1    1172        Rpb1_1172_pdb     1.0   Rpb1_1172_1176_pdb    10.0\n",
        "                Rpb1    1173        Rpb1_1173_pdb     1.0   Rpb1_1172_1176_pdb    10.0\n",
        "                Rpb1    1174        Rpb1_1174_pdb     1.0   Rpb1_1172_1176_pdb    10.0\n",
        "                Rpb1    1175        Rpb1_1175_pdb     1.0   Rpb1_1172_1176_pdb    10.0\n",
        "                Rpb1    1176        Rpb1_1176_pdb     1.0   Rpb1_1172_1176_pdb    10.0\n",
        "                Rpb1    1177  Rpb1_1177-1186_bead    10.0\n",
        "                Rpb1    1178  Rpb1_1177-1186_bead    10.0\n",
        "                Rpb1    1179  Rpb1_1177-1186_bead    10.0\n",
        "                Rpb1    1180  Rpb1_1177-1186_bead    10.0\n",
        "                Rpb1    1181  Rpb1_1177-1186_bead    10.0\n",
        "                Rpb1    1182  Rpb1_1177-1186_bead    10.0\n",
        "                Rpb1    1183  Rpb1_1177-1186_bead    10.0\n",
        "                Rpb1    1184  Rpb1_1177-1186_bead    10.0\n",
        "                Rpb1    1185  Rpb1_1177-1186_bead    10.0\n",
        "                Rpb1    1186  Rpb1_1177-1186_bead    10.0\n",
        "                Rpb1    1187        Rpb1_1187_pdb     1.0   Rpb1_1187_1196_pdb    10.0\n",
        "                Rpb1    1188        Rpb1_1188_pdb     1.0   Rpb1_1187_1196_pdb    10.0\n",
        "                Rpb1    1189        Rpb1_1189_pdb     1.0   Rpb1_1187_1196_pdb    10.0\n",
        "                Rpb1    1190        Rpb1_1190_pdb     1.0   Rpb1_1187_1196_pdb    10.0\n",
        "                Rpb1    1191        Rpb1_1191_pdb     1.0   Rpb1_1187_1196_pdb    10.0\n",
        "                Rpb1    1192        Rpb1_1192_pdb     1.0   Rpb1_1187_1196_pdb    10.0\n",
        "                Rpb1    1193        Rpb1_1193_pdb     1.0   Rpb1_1187_1196_pdb    10.0\n",
        "                Rpb1    1194        Rpb1_1194_pdb     1.0   Rpb1_1187_1196_pdb    10.0\n",
        "                Rpb1    1195        Rpb1_1195_pdb     1.0   Rpb1_1187_1196_pdb    10.0\n",
        "                Rpb1    1196        Rpb1_1196_pdb     1.0   Rpb1_1187_1196_pdb    10.0\n",
        "                Rpb1    1197        Rpb1_1197_pdb     1.0   Rpb1_1197_1206_pdb    10.0\n",
        "                Rpb1    1198        Rpb1_1198_pdb     1.0   Rpb1_1197_1206_pdb    10.0\n",
        "                Rpb1    1199        Rpb1_1199_pdb     1.0   Rpb1_1197_1206_pdb    10.0\n",
        "                Rpb1    1200        Rpb1_1200_pdb     1.0   Rpb1_1197_1206_pdb    10.0\n",
        "                Rpb1    1201        Rpb1_1201_pdb     1.0   Rpb1_1197_1206_pdb    10.0\n",
        "                Rpb1    1202        Rpb1_1202_pdb     1.0   Rpb1_1197_1206_pdb    10.0\n",
        "                Rpb1    1203        Rpb1_1203_pdb     1.0   Rpb1_1197_1206_pdb    10.0\n",
        "                Rpb1    1204        Rpb1_1204_pdb     1.0   Rpb1_1197_1206_pdb    10.0\n",
        "                Rpb1    1205        Rpb1_1205_pdb     1.0   Rpb1_1197_1206_pdb    10.0\n",
        "                Rpb1    1206        Rpb1_1206_pdb     1.0   Rpb1_1197_1206_pdb    10.0\n",
        "                Rpb1    1207        Rpb1_1207_pdb     1.0   Rpb1_1207_1216_pdb    10.0\n",
        "                Rpb1    1208        Rpb1_1208_pdb     1.0   Rpb1_1207_1216_pdb    10.0\n",
        "                Rpb1    1209        Rpb1_1209_pdb     1.0   Rpb1_1207_1216_pdb    10.0\n",
        "                Rpb1    1210        Rpb1_1210_pdb     1.0   Rpb1_1207_1216_pdb    10.0\n",
        "                Rpb1    1211        Rpb1_1211_pdb     1.0   Rpb1_1207_1216_pdb    10.0\n",
        "                Rpb1    1212        Rpb1_1212_pdb     1.0   Rpb1_1207_1216_pdb    10.0\n",
        "                Rpb1    1213        Rpb1_1213_pdb     1.0   Rpb1_1207_1216_pdb    10.0\n",
        "                Rpb1    1214        Rpb1_1214_pdb     1.0   Rpb1_1207_1216_pdb    10.0\n",
        "                Rpb1    1215        Rpb1_1215_pdb     1.0   Rpb1_1207_1216_pdb    10.0\n",
        "                Rpb1    1216        Rpb1_1216_pdb     1.0   Rpb1_1207_1216_pdb    10.0\n",
        "                Rpb1    1217        Rpb1_1217_pdb     1.0   Rpb1_1217_1226_pdb    10.0\n",
        "                Rpb1    1218        Rpb1_1218_pdb     1.0   Rpb1_1217_1226_pdb    10.0\n",
        "                Rpb1    1219        Rpb1_1219_pdb     1.0   Rpb1_1217_1226_pdb    10.0\n",
        "                Rpb1    1220        Rpb1_1220_pdb     1.0   Rpb1_1217_1226_pdb    10.0\n",
        "                Rpb1    1221        Rpb1_1221_pdb     1.0   Rpb1_1217_1226_pdb    10.0\n",
        "                Rpb1    1222        Rpb1_1222_pdb     1.0   Rpb1_1217_1226_pdb    10.0\n",
        "                Rpb1    1223        Rpb1_1223_pdb     1.0   Rpb1_1217_1226_pdb    10.0\n",
        "                Rpb1    1224        Rpb1_1224_pdb     1.0   Rpb1_1217_1226_pdb    10.0\n",
        "                Rpb1    1225        Rpb1_1225_pdb     1.0   Rpb1_1217_1226_pdb    10.0\n",
        "                Rpb1    1226        Rpb1_1226_pdb     1.0   Rpb1_1217_1226_pdb    10.0\n",
        "                Rpb1    1227        Rpb1_1227_pdb     1.0   Rpb1_1227_1236_pdb    10.0\n",
        "                Rpb1    1228        Rpb1_1228_pdb     1.0   Rpb1_1227_1236_pdb    10.0\n",
        "                Rpb1    1229        Rpb1_1229_pdb     1.0   Rpb1_1227_1236_pdb    10.0\n",
        "                Rpb1    1230        Rpb1_1230_pdb     1.0   Rpb1_1227_1236_pdb    10.0\n",
        "                Rpb1    1231        Rpb1_1231_pdb     1.0   Rpb1_1227_1236_pdb    10.0\n",
        "                Rpb1    1232        Rpb1_1232_pdb     1.0   Rpb1_1227_1236_pdb    10.0\n",
        "                Rpb1    1233        Rpb1_1233_pdb     1.0   Rpb1_1227_1236_pdb    10.0\n",
        "                Rpb1    1234        Rpb1_1234_pdb     1.0   Rpb1_1227_1236_pdb    10.0\n",
        "                Rpb1    1235        Rpb1_1235_pdb     1.0   Rpb1_1227_1236_pdb    10.0\n",
        "                Rpb1    1236        Rpb1_1236_pdb     1.0   Rpb1_1227_1236_pdb    10.0\n",
        "                Rpb1    1237        Rpb1_1237_pdb     1.0   Rpb1_1237_1243_pdb    10.0\n",
        "                Rpb1    1238        Rpb1_1238_pdb     1.0   Rpb1_1237_1243_pdb    10.0\n",
        "                Rpb1    1239        Rpb1_1239_pdb     1.0   Rpb1_1237_1243_pdb    10.0\n",
        "                Rpb1    1240        Rpb1_1240_pdb     1.0   Rpb1_1237_1243_pdb    10.0\n",
        "                Rpb1    1241        Rpb1_1241_pdb     1.0   Rpb1_1237_1243_pdb    10.0\n",
        "                Rpb1    1242        Rpb1_1242_pdb     1.0   Rpb1_1237_1243_pdb    10.0\n",
        "                Rpb1    1243        Rpb1_1243_pdb     1.0   Rpb1_1237_1243_pdb    10.0\n",
        "                Rpb1    1244  Rpb1_1244-1253_bead    10.0\n",
        "                Rpb1    1245  Rpb1_1244-1253_bead    10.0\n",
        "                Rpb1    1246  Rpb1_1244-1253_bead    10.0\n",
        "                Rpb1    1247  Rpb1_1244-1253_bead    10.0\n",
        "                Rpb1    1248  Rpb1_1244-1253_bead    10.0\n",
        "                Rpb1    1249  Rpb1_1244-1253_bead    10.0\n",
        "                Rpb1    1250  Rpb1_1244-1253_bead    10.0\n",
        "                Rpb1    1251  Rpb1_1244-1253_bead    10.0\n",
        "                Rpb1    1252  Rpb1_1244-1253_bead    10.0\n",
        "                Rpb1    1253  Rpb1_1244-1253_bead    10.0\n",
        "                Rpb1    1254        Rpb1_1254_pdb     1.0   Rpb1_1254_1263_pdb    10.0\n",
        "                Rpb1    1255        Rpb1_1255_pdb     1.0   Rpb1_1254_1263_pdb    10.0\n",
        "                Rpb1    1256        Rpb1_1256_pdb     1.0   Rpb1_1254_1263_pdb    10.0\n",
        "                Rpb1    1257        Rpb1_1257_pdb     1.0   Rpb1_1254_1263_pdb    10.0\n",
        "                Rpb1    1258        Rpb1_1258_pdb     1.0   Rpb1_1254_1263_pdb    10.0\n",
        "                Rpb1    1259        Rpb1_1259_pdb     1.0   Rpb1_1254_1263_pdb    10.0\n",
        "                Rpb1    1260        Rpb1_1260_pdb     1.0   Rpb1_1254_1263_pdb    10.0\n",
        "                Rpb1    1261        Rpb1_1261_pdb     1.0   Rpb1_1254_1263_pdb    10.0\n",
        "                Rpb1    1262        Rpb1_1262_pdb     1.0   Rpb1_1254_1263_pdb    10.0\n",
        "                Rpb1    1263        Rpb1_1263_pdb     1.0   Rpb1_1254_1263_pdb    10.0\n",
        "                Rpb1    1264        Rpb1_1264_pdb     1.0   Rpb1_1264_1273_pdb    10.0\n",
        "                Rpb1    1265        Rpb1_1265_pdb     1.0   Rpb1_1264_1273_pdb    10.0\n",
        "                Rpb1    1266        Rpb1_1266_pdb     1.0   Rpb1_1264_1273_pdb    10.0\n",
        "                Rpb1    1267        Rpb1_1267_pdb     1.0   Rpb1_1264_1273_pdb    10.0\n",
        "                Rpb1    1268        Rpb1_1268_pdb     1.0   Rpb1_1264_1273_pdb    10.0\n",
        "                Rpb1    1269        Rpb1_1269_pdb     1.0   Rpb1_1264_1273_pdb    10.0\n",
        "                Rpb1    1270        Rpb1_1270_pdb     1.0   Rpb1_1264_1273_pdb    10.0\n",
        "                Rpb1    1271        Rpb1_1271_pdb     1.0   Rpb1_1264_1273_pdb    10.0\n",
        "                Rpb1    1272        Rpb1_1272_pdb     1.0   Rpb1_1264_1273_pdb    10.0\n",
        "                Rpb1    1273        Rpb1_1273_pdb     1.0   Rpb1_1264_1273_pdb    10.0\n",
        "                Rpb1    1274        Rpb1_1274_pdb     1.0   Rpb1_1274_1283_pdb    10.0\n",
        "                Rpb1    1275        Rpb1_1275_pdb     1.0   Rpb1_1274_1283_pdb    10.0\n",
        "                Rpb1    1276        Rpb1_1276_pdb     1.0   Rpb1_1274_1283_pdb    10.0\n",
        "                Rpb1    1277        Rpb1_1277_pdb     1.0   Rpb1_1274_1283_pdb    10.0\n",
        "                Rpb1    1278        Rpb1_1278_pdb     1.0   Rpb1_1274_1283_pdb    10.0\n",
        "                Rpb1    1279        Rpb1_1279_pdb     1.0   Rpb1_1274_1283_pdb    10.0\n",
        "                Rpb1    1280        Rpb1_1280_pdb     1.0   Rpb1_1274_1283_pdb    10.0\n",
        "                Rpb1    1281        Rpb1_1281_pdb     1.0   Rpb1_1274_1283_pdb    10.0\n",
        "                Rpb1    1282        Rpb1_1282_pdb     1.0   Rpb1_1274_1283_pdb    10.0\n",
        "                Rpb1    1283        Rpb1_1283_pdb     1.0   Rpb1_1274_1283_pdb    10.0\n",
        "                Rpb1    1284        Rpb1_1284_pdb     1.0   Rpb1_1284_1293_pdb    10.0\n",
        "                Rpb1    1285        Rpb1_1285_pdb     1.0   Rpb1_1284_1293_pdb    10.0\n",
        "                Rpb1    1286        Rpb1_1286_pdb     1.0   Rpb1_1284_1293_pdb    10.0\n",
        "                Rpb1    1287        Rpb1_1287_pdb     1.0   Rpb1_1284_1293_pdb    10.0\n",
        "                Rpb1    1288        Rpb1_1288_pdb     1.0   Rpb1_1284_1293_pdb    10.0\n",
        "                Rpb1    1289        Rpb1_1289_pdb     1.0   Rpb1_1284_1293_pdb    10.0\n",
        "                Rpb1    1290        Rpb1_1290_pdb     1.0   Rpb1_1284_1293_pdb    10.0\n",
        "                Rpb1    1291        Rpb1_1291_pdb     1.0   Rpb1_1284_1293_pdb    10.0\n",
        "                Rpb1    1292        Rpb1_1292_pdb     1.0   Rpb1_1284_1293_pdb    10.0\n",
        "                Rpb1    1293        Rpb1_1293_pdb     1.0   Rpb1_1284_1293_pdb    10.0\n",
        "                Rpb1    1294        Rpb1_1294_pdb     1.0   Rpb1_1294_1303_pdb    10.0\n",
        "                Rpb1    1295        Rpb1_1295_pdb     1.0   Rpb1_1294_1303_pdb    10.0\n",
        "                Rpb1    1296        Rpb1_1296_pdb     1.0   Rpb1_1294_1303_pdb    10.0\n",
        "                Rpb1    1297        Rpb1_1297_pdb     1.0   Rpb1_1294_1303_pdb    10.0\n",
        "                Rpb1    1298        Rpb1_1298_pdb     1.0   Rpb1_1294_1303_pdb    10.0\n",
        "                Rpb1    1299        Rpb1_1299_pdb     1.0   Rpb1_1294_1303_pdb    10.0\n",
        "                Rpb1    1300        Rpb1_1300_pdb     1.0   Rpb1_1294_1303_pdb    10.0\n",
        "                Rpb1    1301        Rpb1_1301_pdb     1.0   Rpb1_1294_1303_pdb    10.0\n",
        "                Rpb1    1302        Rpb1_1302_pdb     1.0   Rpb1_1294_1303_pdb    10.0\n",
        "                Rpb1    1303        Rpb1_1303_pdb     1.0   Rpb1_1294_1303_pdb    10.0\n",
        "                Rpb1    1304        Rpb1_1304_pdb     1.0   Rpb1_1304_1313_pdb    10.0\n",
        "                Rpb1    1305        Rpb1_1305_pdb     1.0   Rpb1_1304_1313_pdb    10.0\n",
        "                Rpb1    1306        Rpb1_1306_pdb     1.0   Rpb1_1304_1313_pdb    10.0\n",
        "                Rpb1    1307        Rpb1_1307_pdb     1.0   Rpb1_1304_1313_pdb    10.0\n",
        "                Rpb1    1308        Rpb1_1308_pdb     1.0   Rpb1_1304_1313_pdb    10.0\n",
        "                Rpb1    1309        Rpb1_1309_pdb     1.0   Rpb1_1304_1313_pdb    10.0\n",
        "                Rpb1    1310        Rpb1_1310_pdb     1.0   Rpb1_1304_1313_pdb    10.0\n",
        "                Rpb1    1311        Rpb1_1311_pdb     1.0   Rpb1_1304_1313_pdb    10.0\n",
        "                Rpb1    1312        Rpb1_1312_pdb     1.0   Rpb1_1304_1313_pdb    10.0\n",
        "                Rpb1    1313        Rpb1_1313_pdb     1.0   Rpb1_1304_1313_pdb    10.0\n",
        "                Rpb1    1314        Rpb1_1314_pdb     1.0   Rpb1_1314_1323_pdb    10.0\n",
        "                Rpb1    1315        Rpb1_1315_pdb     1.0   Rpb1_1314_1323_pdb    10.0\n",
        "                Rpb1    1316        Rpb1_1316_pdb     1.0   Rpb1_1314_1323_pdb    10.0\n",
        "                Rpb1    1317        Rpb1_1317_pdb     1.0   Rpb1_1314_1323_pdb    10.0\n",
        "                Rpb1    1318        Rpb1_1318_pdb     1.0   Rpb1_1314_1323_pdb    10.0\n",
        "                Rpb1    1319        Rpb1_1319_pdb     1.0   Rpb1_1314_1323_pdb    10.0\n",
        "                Rpb1    1320        Rpb1_1320_pdb     1.0   Rpb1_1314_1323_pdb    10.0\n",
        "                Rpb1    1321        Rpb1_1321_pdb     1.0   Rpb1_1314_1323_pdb    10.0\n",
        "                Rpb1    1322        Rpb1_1322_pdb     1.0   Rpb1_1314_1323_pdb    10.0\n",
        "                Rpb1    1323        Rpb1_1323_pdb     1.0   Rpb1_1314_1323_pdb    10.0\n",
        "                Rpb1    1324        Rpb1_1324_pdb     1.0   Rpb1_1324_1333_pdb    10.0\n",
        "                Rpb1    1325        Rpb1_1325_pdb     1.0   Rpb1_1324_1333_pdb    10.0\n",
        "                Rpb1    1326        Rpb1_1326_pdb     1.0   Rpb1_1324_1333_pdb    10.0\n",
        "                Rpb1    1327        Rpb1_1327_pdb     1.0   Rpb1_1324_1333_pdb    10.0\n",
        "                Rpb1    1328        Rpb1_1328_pdb     1.0   Rpb1_1324_1333_pdb    10.0\n",
        "                Rpb1    1329        Rpb1_1329_pdb     1.0   Rpb1_1324_1333_pdb    10.0\n",
        "                Rpb1    1330        Rpb1_1330_pdb     1.0   Rpb1_1324_1333_pdb    10.0\n",
        "                Rpb1    1331        Rpb1_1331_pdb     1.0   Rpb1_1324_1333_pdb    10.0\n",
        "                Rpb1    1332        Rpb1_1332_pdb     1.0   Rpb1_1324_1333_pdb    10.0\n",
        "                Rpb1    1333        Rpb1_1333_pdb     1.0   Rpb1_1324_1333_pdb    10.0\n",
        "                Rpb1    1334        Rpb1_1334_pdb     1.0   Rpb1_1334_1343_pdb    10.0\n",
        "                Rpb1    1335        Rpb1_1335_pdb     1.0   Rpb1_1334_1343_pdb    10.0\n",
        "                Rpb1    1336        Rpb1_1336_pdb     1.0   Rpb1_1334_1343_pdb    10.0\n",
        "                Rpb1    1337        Rpb1_1337_pdb     1.0   Rpb1_1334_1343_pdb    10.0\n",
        "                Rpb1    1338        Rpb1_1338_pdb     1.0   Rpb1_1334_1343_pdb    10.0\n",
        "                Rpb1    1339        Rpb1_1339_pdb     1.0   Rpb1_1334_1343_pdb    10.0\n",
        "                Rpb1    1340        Rpb1_1340_pdb     1.0   Rpb1_1334_1343_pdb    10.0\n",
        "                Rpb1    1341        Rpb1_1341_pdb     1.0   Rpb1_1334_1343_pdb    10.0\n",
        "                Rpb1    1342        Rpb1_1342_pdb     1.0   Rpb1_1334_1343_pdb    10.0\n",
        "                Rpb1    1343        Rpb1_1343_pdb     1.0   Rpb1_1334_1343_pdb    10.0\n",
        "                Rpb1    1344        Rpb1_1344_pdb     1.0   Rpb1_1344_1353_pdb    10.0\n",
        "                Rpb1    1345        Rpb1_1345_pdb     1.0   Rpb1_1344_1353_pdb    10.0\n",
        "                Rpb1    1346        Rpb1_1346_pdb     1.0   Rpb1_1344_1353_pdb    10.0\n",
        "                Rpb1    1347        Rpb1_1347_pdb     1.0   Rpb1_1344_1353_pdb    10.0\n",
        "                Rpb1    1348        Rpb1_1348_pdb     1.0   Rpb1_1344_1353_pdb    10.0\n",
        "                Rpb1    1349        Rpb1_1349_pdb     1.0   Rpb1_1344_1353_pdb    10.0\n",
        "                Rpb1    1350        Rpb1_1350_pdb     1.0   Rpb1_1344_1353_pdb    10.0\n",
        "                Rpb1    1351        Rpb1_1351_pdb     1.0   Rpb1_1344_1353_pdb    10.0\n",
        "                Rpb1    1352        Rpb1_1352_pdb     1.0   Rpb1_1344_1353_pdb    10.0\n",
        "                Rpb1    1353        Rpb1_1353_pdb     1.0   Rpb1_1344_1353_pdb    10.0\n",
        "                Rpb1    1354        Rpb1_1354_pdb     1.0   Rpb1_1354_1363_pdb    10.0\n",
        "                Rpb1    1355        Rpb1_1355_pdb     1.0   Rpb1_1354_1363_pdb    10.0\n",
        "                Rpb1    1356        Rpb1_1356_pdb     1.0   Rpb1_1354_1363_pdb    10.0\n",
        "                Rpb1    1357        Rpb1_1357_pdb     1.0   Rpb1_1354_1363_pdb    10.0\n",
        "                Rpb1    1358        Rpb1_1358_pdb     1.0   Rpb1_1354_1363_pdb    10.0\n",
        "                Rpb1    1359        Rpb1_1359_pdb     1.0   Rpb1_1354_1363_pdb    10.0\n",
        "                Rpb1    1360        Rpb1_1360_pdb     1.0   Rpb1_1354_1363_pdb    10.0\n",
        "                Rpb1    1361        Rpb1_1361_pdb     1.0   Rpb1_1354_1363_pdb    10.0\n",
        "                Rpb1    1362        Rpb1_1362_pdb     1.0   Rpb1_1354_1363_pdb    10.0\n",
        "                Rpb1    1363        Rpb1_1363_pdb     1.0   Rpb1_1354_1363_pdb    10.0\n",
        "                Rpb1    1364        Rpb1_1364_pdb     1.0   Rpb1_1364_1373_pdb    10.0\n",
        "                Rpb1    1365        Rpb1_1365_pdb     1.0   Rpb1_1364_1373_pdb    10.0\n",
        "                Rpb1    1366        Rpb1_1366_pdb     1.0   Rpb1_1364_1373_pdb    10.0\n",
        "                Rpb1    1367        Rpb1_1367_pdb     1.0   Rpb1_1364_1373_pdb    10.0\n",
        "                Rpb1    1368        Rpb1_1368_pdb     1.0   Rpb1_1364_1373_pdb    10.0\n",
        "                Rpb1    1369        Rpb1_1369_pdb     1.0   Rpb1_1364_1373_pdb    10.0\n",
        "                Rpb1    1370        Rpb1_1370_pdb     1.0   Rpb1_1364_1373_pdb    10.0\n",
        "                Rpb1    1371        Rpb1_1371_pdb     1.0   Rpb1_1364_1373_pdb    10.0\n",
        "                Rpb1    1372        Rpb1_1372_pdb     1.0   Rpb1_1364_1373_pdb    10.0\n",
        "                Rpb1    1373        Rpb1_1373_pdb     1.0   Rpb1_1364_1373_pdb    10.0\n",
        "                Rpb1    1374        Rpb1_1374_pdb     1.0   Rpb1_1374_1383_pdb    10.0\n",
        "                Rpb1    1375        Rpb1_1375_pdb     1.0   Rpb1_1374_1383_pdb    10.0\n",
        "                Rpb1    1376        Rpb1_1376_pdb     1.0   Rpb1_1374_1383_pdb    10.0\n",
        "                Rpb1    1377        Rpb1_1377_pdb     1.0   Rpb1_1374_1383_pdb    10.0\n",
        "                Rpb1    1378        Rpb1_1378_pdb     1.0   Rpb1_1374_1383_pdb    10.0\n",
        "                Rpb1    1379        Rpb1_1379_pdb     1.0   Rpb1_1374_1383_pdb    10.0\n",
        "                Rpb1    1380        Rpb1_1380_pdb     1.0   Rpb1_1374_1383_pdb    10.0\n",
        "                Rpb1    1381        Rpb1_1381_pdb     1.0   Rpb1_1374_1383_pdb    10.0\n",
        "                Rpb1    1382        Rpb1_1382_pdb     1.0   Rpb1_1374_1383_pdb    10.0\n",
        "                Rpb1    1383        Rpb1_1383_pdb     1.0   Rpb1_1374_1383_pdb    10.0\n",
        "                Rpb1    1384        Rpb1_1384_pdb     1.0   Rpb1_1384_1393_pdb    10.0\n",
        "                Rpb1    1385        Rpb1_1385_pdb     1.0   Rpb1_1384_1393_pdb    10.0\n",
        "                Rpb1    1386        Rpb1_1386_pdb     1.0   Rpb1_1384_1393_pdb    10.0\n",
        "                Rpb1    1387        Rpb1_1387_pdb     1.0   Rpb1_1384_1393_pdb    10.0\n",
        "                Rpb1    1388        Rpb1_1388_pdb     1.0   Rpb1_1384_1393_pdb    10.0\n",
        "                Rpb1    1389        Rpb1_1389_pdb     1.0   Rpb1_1384_1393_pdb    10.0\n",
        "                Rpb1    1390        Rpb1_1390_pdb     1.0   Rpb1_1384_1393_pdb    10.0\n",
        "                Rpb1    1391        Rpb1_1391_pdb     1.0   Rpb1_1384_1393_pdb    10.0\n",
        "                Rpb1    1392        Rpb1_1392_pdb     1.0   Rpb1_1384_1393_pdb    10.0\n",
        "                Rpb1    1393        Rpb1_1393_pdb     1.0   Rpb1_1384_1393_pdb    10.0\n",
        "                Rpb1    1394        Rpb1_1394_pdb     1.0   Rpb1_1394_1403_pdb    10.0\n",
        "                Rpb1    1395        Rpb1_1395_pdb     1.0   Rpb1_1394_1403_pdb    10.0\n",
        "                Rpb1    1396        Rpb1_1396_pdb     1.0   Rpb1_1394_1403_pdb    10.0\n",
        "                Rpb1    1397        Rpb1_1397_pdb     1.0   Rpb1_1394_1403_pdb    10.0\n",
        "                Rpb1    1398        Rpb1_1398_pdb     1.0   Rpb1_1394_1403_pdb    10.0\n",
        "                Rpb1    1399        Rpb1_1399_pdb     1.0   Rpb1_1394_1403_pdb    10.0\n",
        "                Rpb1    1400        Rpb1_1400_pdb     1.0   Rpb1_1394_1403_pdb    10.0\n",
        "                Rpb1    1401        Rpb1_1401_pdb     1.0   Rpb1_1394_1403_pdb    10.0\n",
        "                Rpb1    1402        Rpb1_1402_pdb     1.0   Rpb1_1394_1403_pdb    10.0\n",
        "                Rpb1    1403        Rpb1_1403_pdb     1.0   Rpb1_1394_1403_pdb    10.0\n",
        "                Rpb1    1404        Rpb1_1404_pdb     1.0   Rpb1_1404_1413_pdb    10.0\n",
        "                Rpb1    1405        Rpb1_1405_pdb     1.0   Rpb1_1404_1413_pdb    10.0\n",
        "                Rpb1    1406        Rpb1_1406_pdb     1.0   Rpb1_1404_1413_pdb    10.0\n",
        "                Rpb1    1407        Rpb1_1407_pdb     1.0   Rpb1_1404_1413_pdb    10.0\n",
        "                Rpb1    1408        Rpb1_1408_pdb     1.0   Rpb1_1404_1413_pdb    10.0\n",
        "                Rpb1    1409        Rpb1_1409_pdb     1.0   Rpb1_1404_1413_pdb    10.0\n",
        "                Rpb1    1410        Rpb1_1410_pdb     1.0   Rpb1_1404_1413_pdb    10.0\n",
        "                Rpb1    1411        Rpb1_1411_pdb     1.0   Rpb1_1404_1413_pdb    10.0\n",
        "                Rpb1    1412        Rpb1_1412_pdb     1.0   Rpb1_1404_1413_pdb    10.0\n",
        "                Rpb1    1413        Rpb1_1413_pdb     1.0   Rpb1_1404_1413_pdb    10.0\n",
        "                Rpb1    1414        Rpb1_1414_pdb     1.0   Rpb1_1414_1423_pdb    10.0\n",
        "                Rpb1    1415        Rpb1_1415_pdb     1.0   Rpb1_1414_1423_pdb    10.0\n",
        "                Rpb1    1416        Rpb1_1416_pdb     1.0   Rpb1_1414_1423_pdb    10.0\n",
        "                Rpb1    1417        Rpb1_1417_pdb     1.0   Rpb1_1414_1423_pdb    10.0\n",
        "                Rpb1    1418        Rpb1_1418_pdb     1.0   Rpb1_1414_1423_pdb    10.0\n",
        "                Rpb1    1419        Rpb1_1419_pdb     1.0   Rpb1_1414_1423_pdb    10.0\n",
        "                Rpb1    1420        Rpb1_1420_pdb     1.0   Rpb1_1414_1423_pdb    10.0\n",
        "                Rpb1    1421        Rpb1_1421_pdb     1.0   Rpb1_1414_1423_pdb    10.0\n",
        "                Rpb1    1422        Rpb1_1422_pdb     1.0   Rpb1_1414_1423_pdb    10.0\n",
        "                Rpb1    1423        Rpb1_1423_pdb     1.0   Rpb1_1414_1423_pdb    10.0\n",
        "                Rpb1    1424        Rpb1_1424_pdb     1.0   Rpb1_1424_1433_pdb    10.0\n",
        "                Rpb1    1425        Rpb1_1425_pdb     1.0   Rpb1_1424_1433_pdb    10.0\n",
        "                Rpb1    1426        Rpb1_1426_pdb     1.0   Rpb1_1424_1433_pdb    10.0\n",
        "                Rpb1    1427        Rpb1_1427_pdb     1.0   Rpb1_1424_1433_pdb    10.0\n",
        "                Rpb1    1428        Rpb1_1428_pdb     1.0   Rpb1_1424_1433_pdb    10.0\n",
        "                Rpb1    1429        Rpb1_1429_pdb     1.0   Rpb1_1424_1433_pdb    10.0\n",
        "                Rpb1    1430        Rpb1_1430_pdb     1.0   Rpb1_1424_1433_pdb    10.0\n",
        "                Rpb1    1431        Rpb1_1431_pdb     1.0   Rpb1_1424_1433_pdb    10.0\n",
        "                Rpb1    1432        Rpb1_1432_pdb     1.0   Rpb1_1424_1433_pdb    10.0\n",
        "                Rpb1    1433        Rpb1_1433_pdb     1.0   Rpb1_1424_1433_pdb    10.0\n",
        "                Rpb1    1434        Rpb1_1434_pdb     1.0   Rpb1_1434_1443_pdb    10.0\n",
        "                Rpb1    1435        Rpb1_1435_pdb     1.0   Rpb1_1434_1443_pdb    10.0\n",
        "                Rpb1    1436        Rpb1_1436_pdb     1.0   Rpb1_1434_1443_pdb    10.0\n",
        "                Rpb1    1437        Rpb1_1437_pdb     1.0   Rpb1_1434_1443_pdb    10.0\n",
        "                Rpb1    1438        Rpb1_1438_pdb     1.0   Rpb1_1434_1443_pdb    10.0\n",
        "                Rpb1    1439        Rpb1_1439_pdb     1.0   Rpb1_1434_1443_pdb    10.0\n",
        "                Rpb1    1440        Rpb1_1440_pdb     1.0   Rpb1_1434_1443_pdb    10.0\n",
        "                Rpb1    1441        Rpb1_1441_pdb     1.0   Rpb1_1434_1443_pdb    10.0\n",
        "                Rpb1    1442        Rpb1_1442_pdb     1.0   Rpb1_1434_1443_pdb    10.0\n",
        "                Rpb1    1443        Rpb1_1443_pdb     1.0   Rpb1_1434_1443_pdb    10.0\n",
        "                Rpb1    1444        Rpb1_1444_pdb     1.0   Rpb1_1444_1453_pdb    10.0\n",
        "                Rpb1    1445        Rpb1_1445_pdb     1.0   Rpb1_1444_1453_pdb    10.0\n",
        "                Rpb1    1446        Rpb1_1446_pdb     1.0   Rpb1_1444_1453_pdb    10.0\n",
        "                Rpb1    1447        Rpb1_1447_pdb     1.0   Rpb1_1444_1453_pdb    10.0\n",
        "                Rpb1    1448        Rpb1_1448_pdb     1.0   Rpb1_1444_1453_pdb    10.0\n",
        "                Rpb1    1449        Rpb1_1449_pdb     1.0   Rpb1_1444_1453_pdb    10.0\n",
        "                Rpb1    1450        Rpb1_1450_pdb     1.0   Rpb1_1444_1453_pdb    10.0\n",
        "                Rpb1    1451        Rpb1_1451_pdb     1.0   Rpb1_1444_1453_pdb    10.0\n",
        "                Rpb1    1452        Rpb1_1452_pdb     1.0   Rpb1_1444_1453_pdb    10.0\n",
        "                Rpb1    1453        Rpb1_1453_pdb     1.0   Rpb1_1444_1453_pdb    10.0\n",
        "                Rpb1    1454        Rpb1_1454_pdb     1.0   Rpb1_1454_1455_pdb    10.0\n",
        "                Rpb1    1455        Rpb1_1455_pdb     1.0   Rpb1_1454_1455_pdb    10.0\n",
        "                Rpb1    1456  Rpb1_1456-1475_bead    20.0\n",
        "                Rpb1    1457  Rpb1_1456-1475_bead    20.0\n",
        "                Rpb1    1458  Rpb1_1456-1475_bead    20.0\n",
        "                Rpb1    1459  Rpb1_1456-1475_bead    20.0\n",
        "                Rpb1    1460  Rpb1_1456-1475_bead    20.0\n",
        "                Rpb1    1461  Rpb1_1456-1475_bead    20.0\n",
        "                Rpb1    1462  Rpb1_1456-1475_bead    20.0\n",
        "                Rpb1    1463  Rpb1_1456-1475_bead    20.0\n",
        "                Rpb1    1464  Rpb1_1456-1475_bead    20.0\n",
        "                Rpb1    1465  Rpb1_1456-1475_bead    20.0\n",
        "                Rpb1    1466  Rpb1_1456-1475_bead    20.0\n",
        "                Rpb1    1467  Rpb1_1456-1475_bead    20.0\n",
        "                Rpb1    1468  Rpb1_1456-1475_bead    20.0\n",
        "                Rpb1    1469  Rpb1_1456-1475_bead    20.0\n",
        "                Rpb1    1470  Rpb1_1456-1475_bead    20.0\n",
        "                Rpb1    1471  Rpb1_1456-1475_bead    20.0\n",
        "                Rpb1    1472  Rpb1_1456-1475_bead    20.0\n",
        "                Rpb1    1473  Rpb1_1456-1475_bead    20.0\n",
        "                Rpb1    1474  Rpb1_1456-1475_bead    20.0\n",
        "                Rpb1    1475  Rpb1_1456-1475_bead    20.0\n",
        "                Rpb1    1476  Rpb1_1476-1495_bead    20.0\n",
        "                Rpb1    1477  Rpb1_1476-1495_bead    20.0\n",
        "                Rpb1    1478  Rpb1_1476-1495_bead    20.0\n",
        "                Rpb1    1479  Rpb1_1476-1495_bead    20.0\n",
        "                Rpb1    1480  Rpb1_1476-1495_bead    20.0\n",
        "                Rpb1    1481  Rpb1_1476-1495_bead    20.0\n",
        "                Rpb1    1482  Rpb1_1476-1495_bead    20.0\n",
        "                Rpb1    1483  Rpb1_1476-1495_bead    20.0\n",
        "                Rpb1    1484  Rpb1_1476-1495_bead    20.0\n",
        "                Rpb1    1485  Rpb1_1476-1495_bead    20.0\n",
        "                Rpb1    1486  Rpb1_1476-1495_bead    20.0\n",
        "                Rpb1    1487  Rpb1_1476-1495_bead    20.0\n",
        "                Rpb1    1488  Rpb1_1476-1495_bead    20.0\n",
        "                Rpb1    1489  Rpb1_1476-1495_bead    20.0\n",
        "                Rpb1    1490  Rpb1_1476-1495_bead    20.0\n",
        "                Rpb1    1491  Rpb1_1476-1495_bead    20.0\n",
        "                Rpb1    1492  Rpb1_1476-1495_bead    20.0\n",
        "                Rpb1    1493  Rpb1_1476-1495_bead    20.0\n",
        "                Rpb1    1494  Rpb1_1476-1495_bead    20.0\n",
        "                Rpb1    1495  Rpb1_1476-1495_bead    20.0\n",
        "                Rpb1    1496  Rpb1_1496-1515_bead    20.0\n",
        "                Rpb1    1497  Rpb1_1496-1515_bead    20.0\n",
        "                Rpb1    1498  Rpb1_1496-1515_bead    20.0\n",
        "                Rpb1    1499  Rpb1_1496-1515_bead    20.0\n",
        "                Rpb1    1500  Rpb1_1496-1515_bead    20.0\n",
        "                Rpb1    1501  Rpb1_1496-1515_bead    20.0\n",
        "                Rpb1    1502  Rpb1_1496-1515_bead    20.0\n",
        "                Rpb1    1503  Rpb1_1496-1515_bead    20.0\n",
        "                Rpb1    1504  Rpb1_1496-1515_bead    20.0\n",
        "                Rpb1    1505  Rpb1_1496-1515_bead    20.0\n",
        "                Rpb1    1506  Rpb1_1496-1515_bead    20.0\n",
        "                Rpb1    1507  Rpb1_1496-1515_bead    20.0\n",
        "                Rpb1    1508  Rpb1_1496-1515_bead    20.0\n",
        "                Rpb1    1509  Rpb1_1496-1515_bead    20.0\n",
        "                Rpb1    1510  Rpb1_1496-1515_bead    20.0\n",
        "                Rpb1    1511  Rpb1_1496-1515_bead    20.0\n",
        "                Rpb1    1512  Rpb1_1496-1515_bead    20.0\n",
        "                Rpb1    1513  Rpb1_1496-1515_bead    20.0\n",
        "                Rpb1    1514  Rpb1_1496-1515_bead    20.0\n",
        "                Rpb1    1515  Rpb1_1496-1515_bead    20.0\n",
        "                Rpb1    1516  Rpb1_1516-1535_bead    20.0\n",
        "                Rpb1    1517  Rpb1_1516-1535_bead    20.0\n",
        "                Rpb1    1518  Rpb1_1516-1535_bead    20.0\n",
        "                Rpb1    1519  Rpb1_1516-1535_bead    20.0\n",
        "                Rpb1    1520  Rpb1_1516-1535_bead    20.0\n",
        "                Rpb1    1521  Rpb1_1516-1535_bead    20.0\n",
        "                Rpb1    1522  Rpb1_1516-1535_bead    20.0\n",
        "                Rpb1    1523  Rpb1_1516-1535_bead    20.0\n",
        "                Rpb1    1524  Rpb1_1516-1535_bead    20.0\n",
        "                Rpb1    1525  Rpb1_1516-1535_bead    20.0\n",
        "                Rpb1    1526  Rpb1_1516-1535_bead    20.0\n",
        "                Rpb1    1527  Rpb1_1516-1535_bead    20.0\n",
        "                Rpb1    1528  Rpb1_1516-1535_bead    20.0\n",
        "                Rpb1    1529  Rpb1_1516-1535_bead    20.0\n",
        "                Rpb1    1530  Rpb1_1516-1535_bead    20.0\n",
        "                Rpb1    1531  Rpb1_1516-1535_bead    20.0\n",
        "                Rpb1    1532  Rpb1_1516-1535_bead    20.0\n",
        "                Rpb1    1533  Rpb1_1516-1535_bead    20.0\n",
        "                Rpb1    1534  Rpb1_1516-1535_bead    20.0\n",
        "                Rpb1    1535  Rpb1_1516-1535_bead    20.0\n",
        "                Rpb1    1536  Rpb1_1536-1555_bead    20.0\n",
        "                Rpb1    1537  Rpb1_1536-1555_bead    20.0\n",
        "                Rpb1    1538  Rpb1_1536-1555_bead    20.0\n",
        "                Rpb1    1539  Rpb1_1536-1555_bead    20.0\n",
        "                Rpb1    1540  Rpb1_1536-1555_bead    20.0\n",
        "                Rpb1    1541  Rpb1_1536-1555_bead    20.0\n",
        "                Rpb1    1542  Rpb1_1536-1555_bead    20.0\n",
        "                Rpb1    1543  Rpb1_1536-1555_bead    20.0\n",
        "                Rpb1    1544  Rpb1_1536-1555_bead    20.0\n",
        "                Rpb1    1545  Rpb1_1536-1555_bead    20.0\n",
        "                Rpb1    1546  Rpb1_1536-1555_bead    20.0\n",
        "                Rpb1    1547  Rpb1_1536-1555_bead    20.0\n",
        "                Rpb1    1548  Rpb1_1536-1555_bead    20.0\n",
        "                Rpb1    1549  Rpb1_1536-1555_bead    20.0\n",
        "                Rpb1    1550  Rpb1_1536-1555_bead    20.0\n",
        "                Rpb1    1551  Rpb1_1536-1555_bead    20.0\n",
        "                Rpb1    1552  Rpb1_1536-1555_bead    20.0\n",
        "                Rpb1    1553  Rpb1_1536-1555_bead    20.0\n",
        "                Rpb1    1554  Rpb1_1536-1555_bead    20.0\n",
        "                Rpb1    1555  Rpb1_1536-1555_bead    20.0\n",
        "                Rpb1    1556  Rpb1_1556-1575_bead    20.0\n",
        "                Rpb1    1557  Rpb1_1556-1575_bead    20.0\n",
        "                Rpb1    1558  Rpb1_1556-1575_bead    20.0\n",
        "                Rpb1    1559  Rpb1_1556-1575_bead    20.0\n",
        "                Rpb1    1560  Rpb1_1556-1575_bead    20.0\n",
        "                Rpb1    1561  Rpb1_1556-1575_bead    20.0\n",
        "                Rpb1    1562  Rpb1_1556-1575_bead    20.0\n",
        "                Rpb1    1563  Rpb1_1556-1575_bead    20.0\n",
        "                Rpb1    1564  Rpb1_1556-1575_bead    20.0\n",
        "                Rpb1    1565  Rpb1_1556-1575_bead    20.0\n",
        "                Rpb1    1566  Rpb1_1556-1575_bead    20.0\n",
        "                Rpb1    1567  Rpb1_1556-1575_bead    20.0\n",
        "                Rpb1    1568  Rpb1_1556-1575_bead    20.0\n",
        "                Rpb1    1569  Rpb1_1556-1575_bead    20.0\n",
        "                Rpb1    1570  Rpb1_1556-1575_bead    20.0\n",
        "                Rpb1    1571  Rpb1_1556-1575_bead    20.0\n",
        "                Rpb1    1572  Rpb1_1556-1575_bead    20.0\n",
        "                Rpb1    1573  Rpb1_1556-1575_bead    20.0\n",
        "                Rpb1    1574  Rpb1_1556-1575_bead    20.0"
       ]
      },
      {
       "output_type": "stream",
       "stream": "stdout",
       "text": [
        "\n",
        "                Rpb1    1575  Rpb1_1556-1575_bead    20.0\n",
        "                Rpb1    1576  Rpb1_1576-1595_bead    20.0\n",
        "                Rpb1    1577  Rpb1_1576-1595_bead    20.0\n",
        "                Rpb1    1578  Rpb1_1576-1595_bead    20.0\n",
        "                Rpb1    1579  Rpb1_1576-1595_bead    20.0\n",
        "                Rpb1    1580  Rpb1_1576-1595_bead    20.0\n",
        "                Rpb1    1581  Rpb1_1576-1595_bead    20.0\n",
        "                Rpb1    1582  Rpb1_1576-1595_bead    20.0\n",
        "                Rpb1    1583  Rpb1_1576-1595_bead    20.0\n",
        "                Rpb1    1584  Rpb1_1576-1595_bead    20.0\n",
        "                Rpb1    1585  Rpb1_1576-1595_bead    20.0\n",
        "                Rpb1    1586  Rpb1_1576-1595_bead    20.0\n",
        "                Rpb1    1587  Rpb1_1576-1595_bead    20.0\n",
        "                Rpb1    1588  Rpb1_1576-1595_bead    20.0\n",
        "                Rpb1    1589  Rpb1_1576-1595_bead    20.0\n",
        "                Rpb1    1590  Rpb1_1576-1595_bead    20.0\n",
        "                Rpb1    1591  Rpb1_1576-1595_bead    20.0\n",
        "                Rpb1    1592  Rpb1_1576-1595_bead    20.0\n",
        "                Rpb1    1593  Rpb1_1576-1595_bead    20.0\n",
        "                Rpb1    1594  Rpb1_1576-1595_bead    20.0\n",
        "                Rpb1    1595  Rpb1_1576-1595_bead    20.0\n",
        "                Rpb1    1596  Rpb1_1596-1615_bead    20.0\n",
        "                Rpb1    1597  Rpb1_1596-1615_bead    20.0\n",
        "                Rpb1    1598  Rpb1_1596-1615_bead    20.0\n",
        "                Rpb1    1599  Rpb1_1596-1615_bead    20.0\n",
        "                Rpb1    1600  Rpb1_1596-1615_bead    20.0\n",
        "                Rpb1    1601  Rpb1_1596-1615_bead    20.0\n",
        "                Rpb1    1602  Rpb1_1596-1615_bead    20.0\n",
        "                Rpb1    1603  Rpb1_1596-1615_bead    20.0\n",
        "                Rpb1    1604  Rpb1_1596-1615_bead    20.0\n",
        "                Rpb1    1605  Rpb1_1596-1615_bead    20.0\n",
        "                Rpb1    1606  Rpb1_1596-1615_bead    20.0\n",
        "                Rpb1    1607  Rpb1_1596-1615_bead    20.0\n",
        "                Rpb1    1608  Rpb1_1596-1615_bead    20.0\n",
        "                Rpb1    1609  Rpb1_1596-1615_bead    20.0\n",
        "                Rpb1    1610  Rpb1_1596-1615_bead    20.0\n",
        "                Rpb1    1611  Rpb1_1596-1615_bead    20.0\n",
        "                Rpb1    1612  Rpb1_1596-1615_bead    20.0\n",
        "                Rpb1    1613  Rpb1_1596-1615_bead    20.0\n",
        "                Rpb1    1614  Rpb1_1596-1615_bead    20.0\n",
        "                Rpb1    1615  Rpb1_1596-1615_bead    20.0\n",
        "                Rpb1    1616  Rpb1_1616-1635_bead    20.0\n",
        "                Rpb1    1617  Rpb1_1616-1635_bead    20.0\n",
        "                Rpb1    1618  Rpb1_1616-1635_bead    20.0\n",
        "                Rpb1    1619  Rpb1_1616-1635_bead    20.0\n",
        "                Rpb1    1620  Rpb1_1616-1635_bead    20.0\n",
        "                Rpb1    1621  Rpb1_1616-1635_bead    20.0\n",
        "                Rpb1    1622  Rpb1_1616-1635_bead    20.0\n",
        "                Rpb1    1623  Rpb1_1616-1635_bead    20.0\n",
        "                Rpb1    1624  Rpb1_1616-1635_bead    20.0\n",
        "                Rpb1    1625  Rpb1_1616-1635_bead    20.0\n",
        "                Rpb1    1626  Rpb1_1616-1635_bead    20.0\n",
        "                Rpb1    1627  Rpb1_1616-1635_bead    20.0\n",
        "                Rpb1    1628  Rpb1_1616-1635_bead    20.0\n",
        "                Rpb1    1629  Rpb1_1616-1635_bead    20.0\n",
        "                Rpb1    1630  Rpb1_1616-1635_bead    20.0\n",
        "                Rpb1    1631  Rpb1_1616-1635_bead    20.0\n",
        "                Rpb1    1632  Rpb1_1616-1635_bead    20.0\n",
        "                Rpb1    1633  Rpb1_1616-1635_bead    20.0\n",
        "                Rpb1    1634  Rpb1_1616-1635_bead    20.0\n",
        "                Rpb1    1635  Rpb1_1616-1635_bead    20.0\n",
        "                Rpb1    1636  Rpb1_1636-1655_bead    20.0\n",
        "                Rpb1    1637  Rpb1_1636-1655_bead    20.0\n",
        "                Rpb1    1638  Rpb1_1636-1655_bead    20.0\n",
        "                Rpb1    1639  Rpb1_1636-1655_bead    20.0\n",
        "                Rpb1    1640  Rpb1_1636-1655_bead    20.0\n",
        "                Rpb1    1641  Rpb1_1636-1655_bead    20.0\n",
        "                Rpb1    1642  Rpb1_1636-1655_bead    20.0\n",
        "                Rpb1    1643  Rpb1_1636-1655_bead    20.0\n",
        "                Rpb1    1644  Rpb1_1636-1655_bead    20.0\n",
        "                Rpb1    1645  Rpb1_1636-1655_bead    20.0\n",
        "                Rpb1    1646  Rpb1_1636-1655_bead    20.0\n",
        "                Rpb1    1647  Rpb1_1636-1655_bead    20.0\n",
        "                Rpb1    1648  Rpb1_1636-1655_bead    20.0\n",
        "                Rpb1    1649  Rpb1_1636-1655_bead    20.0\n",
        "                Rpb1    1650  Rpb1_1636-1655_bead    20.0\n",
        "                Rpb1    1651  Rpb1_1636-1655_bead    20.0\n",
        "                Rpb1    1652  Rpb1_1636-1655_bead    20.0\n",
        "                Rpb1    1653  Rpb1_1636-1655_bead    20.0\n",
        "                Rpb1    1654  Rpb1_1636-1655_bead    20.0\n",
        "                Rpb1    1655  Rpb1_1636-1655_bead    20.0\n",
        "                Rpb1    1656  Rpb1_1656-1675_bead    20.0\n",
        "                Rpb1    1657  Rpb1_1656-1675_bead    20.0\n",
        "                Rpb1    1658  Rpb1_1656-1675_bead    20.0\n",
        "                Rpb1    1659  Rpb1_1656-1675_bead    20.0\n",
        "                Rpb1    1660  Rpb1_1656-1675_bead    20.0\n",
        "                Rpb1    1661  Rpb1_1656-1675_bead    20.0\n",
        "                Rpb1    1662  Rpb1_1656-1675_bead    20.0\n",
        "                Rpb1    1663  Rpb1_1656-1675_bead    20.0\n",
        "                Rpb1    1664  Rpb1_1656-1675_bead    20.0\n",
        "                Rpb1    1665  Rpb1_1656-1675_bead    20.0\n",
        "                Rpb1    1666  Rpb1_1656-1675_bead    20.0\n",
        "                Rpb1    1667  Rpb1_1656-1675_bead    20.0\n",
        "                Rpb1    1668  Rpb1_1656-1675_bead    20.0\n",
        "                Rpb1    1669  Rpb1_1656-1675_bead    20.0\n",
        "                Rpb1    1670  Rpb1_1656-1675_bead    20.0\n",
        "                Rpb1    1671  Rpb1_1656-1675_bead    20.0\n",
        "                Rpb1    1672  Rpb1_1656-1675_bead    20.0\n",
        "                Rpb1    1673  Rpb1_1656-1675_bead    20.0\n",
        "                Rpb1    1674  Rpb1_1656-1675_bead    20.0\n",
        "                Rpb1    1675  Rpb1_1656-1675_bead    20.0\n",
        "                Rpb1    1676  Rpb1_1676-1695_bead    20.0\n",
        "                Rpb1    1677  Rpb1_1676-1695_bead    20.0\n",
        "                Rpb1    1678  Rpb1_1676-1695_bead    20.0\n",
        "                Rpb1    1679  Rpb1_1676-1695_bead    20.0\n",
        "                Rpb1    1680  Rpb1_1676-1695_bead    20.0\n",
        "                Rpb1    1681  Rpb1_1676-1695_bead    20.0\n",
        "                Rpb1    1682  Rpb1_1676-1695_bead    20.0\n",
        "                Rpb1    1683  Rpb1_1676-1695_bead    20.0\n",
        "                Rpb1    1684  Rpb1_1676-1695_bead    20.0\n",
        "                Rpb1    1685  Rpb1_1676-1695_bead    20.0\n",
        "                Rpb1    1686  Rpb1_1676-1695_bead    20.0\n",
        "                Rpb1    1687  Rpb1_1676-1695_bead    20.0\n",
        "                Rpb1    1688  Rpb1_1676-1695_bead    20.0\n",
        "                Rpb1    1689  Rpb1_1676-1695_bead    20.0\n",
        "                Rpb1    1690  Rpb1_1676-1695_bead    20.0\n",
        "                Rpb1    1691  Rpb1_1676-1695_bead    20.0\n",
        "                Rpb1    1692  Rpb1_1676-1695_bead    20.0\n",
        "                Rpb1    1693  Rpb1_1676-1695_bead    20.0\n",
        "                Rpb1    1694  Rpb1_1676-1695_bead    20.0\n",
        "                Rpb1    1695  Rpb1_1676-1695_bead    20.0\n",
        "                Rpb1    1696  Rpb1_1696-1715_bead    20.0\n",
        "                Rpb1    1697  Rpb1_1696-1715_bead    20.0\n",
        "                Rpb1    1698  Rpb1_1696-1715_bead    20.0\n",
        "                Rpb1    1699  Rpb1_1696-1715_bead    20.0\n",
        "                Rpb1    1700  Rpb1_1696-1715_bead    20.0\n",
        "                Rpb1    1701  Rpb1_1696-1715_bead    20.0\n",
        "                Rpb1    1702  Rpb1_1696-1715_bead    20.0\n",
        "                Rpb1    1703  Rpb1_1696-1715_bead    20.0\n",
        "                Rpb1    1704  Rpb1_1696-1715_bead    20.0\n",
        "                Rpb1    1705  Rpb1_1696-1715_bead    20.0\n",
        "                Rpb1    1706  Rpb1_1696-1715_bead    20.0\n",
        "                Rpb1    1707  Rpb1_1696-1715_bead    20.0\n",
        "                Rpb1    1708  Rpb1_1696-1715_bead    20.0\n",
        "                Rpb1    1709  Rpb1_1696-1715_bead    20.0\n",
        "                Rpb1    1710  Rpb1_1696-1715_bead    20.0\n",
        "                Rpb1    1711  Rpb1_1696-1715_bead    20.0\n",
        "                Rpb1    1712  Rpb1_1696-1715_bead    20.0\n",
        "                Rpb1    1713  Rpb1_1696-1715_bead    20.0\n",
        "                Rpb1    1714  Rpb1_1696-1715_bead    20.0\n",
        "                Rpb1    1715  Rpb1_1696-1715_bead    20.0\n",
        "                Rpb1    1716  Rpb1_1716-1733_bead    18.0\n",
        "                Rpb1    1717  Rpb1_1716-1733_bead    18.0\n",
        "                Rpb1    1718  Rpb1_1716-1733_bead    18.0\n",
        "                Rpb1    1719  Rpb1_1716-1733_bead    18.0\n",
        "                Rpb1    1720  Rpb1_1716-1733_bead    18.0\n",
        "                Rpb1    1721  Rpb1_1716-1733_bead    18.0\n",
        "                Rpb1    1722  Rpb1_1716-1733_bead    18.0\n",
        "                Rpb1    1723  Rpb1_1716-1733_bead    18.0\n",
        "                Rpb1    1724  Rpb1_1716-1733_bead    18.0\n",
        "                Rpb1    1725  Rpb1_1716-1733_bead    18.0\n",
        "                Rpb1    1726  Rpb1_1716-1733_bead    18.0\n",
        "                Rpb1    1727  Rpb1_1716-1733_bead    18.0\n",
        "                Rpb1    1728  Rpb1_1716-1733_bead    18.0\n",
        "                Rpb1    1729  Rpb1_1716-1733_bead    18.0\n",
        "                Rpb1    1730  Rpb1_1716-1733_bead    18.0\n",
        "                Rpb1    1731  Rpb1_1716-1733_bead    18.0\n",
        "                Rpb1    1732  Rpb1_1716-1733_bead    18.0\n",
        "                Rpb1    1733  Rpb1_1716-1733_bead    18.0\n",
        "Adding sequence connectivity restraint between"
       ]
      },
      {
       "output_type": "stream",
       "stream": "stdout",
       "text": [
        " Rpb1_1_bead  and  Rpb1_2_pdb\n",
        "Adding sequence connectivity restraint between Rpb1_186_pdb  and  Rpb1_187-194_bead\n",
        "Adding sequence connectivity restraint between Rpb1_187-194_bead  and  Rpb1_195_pdb\n",
        "Adding sequence connectivity restraint between Rpb1_1081_pdb  and  Rpb1_1082-1091_bead\n",
        "Adding sequence connectivity restraint between Rpb1_1082-1091_bead  and  Rpb1_1092_pdb\n",
        "Adding sequence connectivity restraint between Rpb1_1176_pdb  and  Rpb1_1177-1186_bead\n",
        "Adding sequence connectivity restraint between Rpb1_1177-1186_bead  and  Rpb1_1187_pdb\n",
        "Adding sequence connectivity restraint between Rpb1_1243_pdb  and  Rpb1_1244-1253_bead\n",
        "Adding sequence connectivity restraint between Rpb1_1244-1253_bead  and  Rpb1_1254_pdb\n",
        "Adding sequence connectivity restraint between Rpb1_1455_pdb  and  Rpb1_1456-1475_bead\n",
        "Adding sequence connectivity restraint between Rpb1_1456-1475_bead  and  Rpb1_1476-1495_bead\n",
        "Adding sequence connectivity restraint between Rpb1_1476-1495_bead  and  Rpb1_1496-1515_bead\n",
        "Adding sequence connectivity restraint between Rpb1_1496-1515_bead  and  Rpb1_1516-1535_bead\n",
        "Adding sequence connectivity restraint between Rpb1_1516-1535_bead  and  Rpb1_1536-1555_bead\n",
        "Adding sequence connectivity restraint between Rpb1_1536-1555_bead  and  Rpb1_1556-1575_bead\n",
        "Adding sequence connectivity restraint between Rpb1_1556-1575_bead  and  Rpb1_1576-1595_bead\n",
        "Adding sequence connectivity restraint between Rpb1_1576-1595_bead  and  Rpb1_1596-1615_bead\n",
        "Adding sequence connectivity restraint between Rpb1_1596-1615_bead  and  Rpb1_1616-1635_bead\n",
        "Adding sequence connectivity restraint between Rpb1_1616-1635_bead  and  Rpb1_1636-1655_bead\n",
        "Adding sequence connectivity restraint between Rpb1_1636-1655_bead  and  Rpb1_1656-1675_bead\n",
        "Adding sequence connectivity restraint between Rpb1_1656-1675_bead  and  Rpb1_1676-1695_bead\n",
        "Adding sequence connectivity restraint between Rpb1_1676-1695_bead  and  Rpb1_1696-1715_bead\n",
        "Adding sequence connectivity restraint between Rpb1_1696-1715_bead  and  Rpb1_1716-1733_bead\n",
        "autobuild_model: constructing Rpb2 from pdb /Users/riccardopellarin/imp-200114/imp-fast/data/pmi/1WCM.pdb and chain B\n",
        "autobuild_model: constructing fragment (1, 19) as a bead"
       ]
      },
      {
       "output_type": "stream",
       "stream": "stdout",
       "text": [
        "\n",
        "autobuild_model: constructing fragment (20, 70) from pdb\n",
        "autobuild_model: constructing fragment (71, 89) as a bead"
       ]
      },
      {
       "output_type": "stream",
       "stream": "stdout",
       "text": [
        "\n",
        "autobuild_model: constructing fragment (90, 134) from pdb\n",
        "autobuild_model: constructing fragment (135, 163) as a bead"
       ]
      },
      {
       "output_type": "stream",
       "stream": "stdout",
       "text": [
        "\n",
        "autobuild_model: constructing fragment (164, 335) from pdb\n",
        "autobuild_model: constructing fragment (336, 344) as a bead"
       ]
      },
      {
       "output_type": "stream",
       "stream": "stdout",
       "text": [
        "\n",
        "autobuild_model: constructing fragment (345, 437) from pdb\n",
        "autobuild_model: constructing fragment (438, 445) as a bead"
       ]
      },
      {
       "output_type": "stream",
       "stream": "stdout",
       "text": [
        "\n",
        "autobuild_model: constructing fragment (446, 467) from pdb\n",
        "autobuild_model: constructing fragment (468, 476) as a bead"
       ]
      },
      {
       "output_type": "stream",
       "stream": "stdout",
       "text": [
        "\n",
        "autobuild_model: constructing fragment (477, 502) from pdb\n",
        "autobuild_model: constructing fragment (503, 508) as a bead"
       ]
      },
      {
       "output_type": "stream",
       "stream": "stdout",
       "text": [
        "\n",
        "autobuild_model: constructing fragment (509, 668) from pdb\n",
        "autobuild_model: constructing fragment (669, 677) as a bead"
       ]
      },
      {
       "output_type": "stream",
       "stream": "stdout",
       "text": [
        "\n",
        "autobuild_model: constructing fragment (678, 715) from pdb\n",
        "autobuild_model: constructing fragment (716, 721) as a bead"
       ]
      },
      {
       "output_type": "stream",
       "stream": "stdout",
       "text": [
        "\n",
        "autobuild_model: constructing fragment (722, 919) from pdb\n",
        "autobuild_model: constructing fragment (920, 932) as a bead"
       ]
      },
      {
       "output_type": "stream",
       "stream": "stdout",
       "text": [
        "\n",
        "autobuild_model: constructing fragment (933, 1224) from pdb\n",
        "                Rpb2       1"
       ]
      },
      {
       "output_type": "stream",
       "stream": "stdout",
       "text": [
        "       Rpb2_1-19_bead    19.0\n",
        "                Rpb2       2       Rpb2_1-19_bead    19.0\n",
        "                Rpb2       3       Rpb2_1-19_bead    19.0\n",
        "                Rpb2       4       Rpb2_1-19_bead    19.0\n",
        "                Rpb2       5       Rpb2_1-19_bead    19.0\n",
        "                Rpb2       6       Rpb2_1-19_bead    19.0\n",
        "                Rpb2       7       Rpb2_1-19_bead    19.0\n",
        "                Rpb2       8       Rpb2_1-19_bead    19.0\n",
        "                Rpb2       9       Rpb2_1-19_bead    19.0\n",
        "                Rpb2      10       Rpb2_1-19_bead    19.0\n",
        "                Rpb2      11       Rpb2_1-19_bead    19.0\n",
        "                Rpb2      12       Rpb2_1-19_bead    19.0\n",
        "                Rpb2      13       Rpb2_1-19_bead    19.0\n",
        "                Rpb2      14       Rpb2_1-19_bead    19.0\n",
        "                Rpb2      15       Rpb2_1-19_bead    19.0\n",
        "                Rpb2      16       Rpb2_1-19_bead    19.0\n",
        "                Rpb2      17       Rpb2_1-19_bead    19.0\n",
        "                Rpb2      18       Rpb2_1-19_bead    19.0\n",
        "                Rpb2      19       Rpb2_1-19_bead    19.0\n",
        "                Rpb2      20          Rpb2_20_pdb     1.0       Rpb2_20_29_pdb    10.0\n",
        "                Rpb2      21          Rpb2_21_pdb     1.0       Rpb2_20_29_pdb    10.0\n",
        "                Rpb2      22          Rpb2_22_pdb     1.0       Rpb2_20_29_pdb    10.0\n",
        "                Rpb2      23          Rpb2_23_pdb     1.0       Rpb2_20_29_pdb    10.0\n",
        "                Rpb2      24          Rpb2_24_pdb     1.0       Rpb2_20_29_pdb    10.0\n",
        "                Rpb2      25          Rpb2_25_pdb     1.0       Rpb2_20_29_pdb    10.0\n",
        "                Rpb2      26          Rpb2_26_pdb     1.0       Rpb2_20_29_pdb    10.0\n",
        "                Rpb2      27          Rpb2_27_pdb     1.0       Rpb2_20_29_pdb    10.0\n",
        "                Rpb2      28          Rpb2_28_pdb     1.0       Rpb2_20_29_pdb    10.0\n",
        "                Rpb2      29          Rpb2_29_pdb     1.0       Rpb2_20_29_pdb    10.0\n",
        "                Rpb2      30          Rpb2_30_pdb     1.0       Rpb2_30_39_pdb    10.0\n",
        "                Rpb2      31          Rpb2_31_pdb     1.0       Rpb2_30_39_pdb    10.0\n",
        "                Rpb2      32          Rpb2_32_pdb     1.0       Rpb2_30_39_pdb    10.0\n",
        "                Rpb2      33          Rpb2_33_pdb     1.0       Rpb2_30_39_pdb    10.0\n",
        "                Rpb2      34          Rpb2_34_pdb     1.0       Rpb2_30_39_pdb    10.0\n",
        "                Rpb2      35          Rpb2_35_pdb     1.0       Rpb2_30_39_pdb    10.0\n",
        "                Rpb2      36          Rpb2_36_pdb     1.0       Rpb2_30_39_pdb    10.0\n",
        "                Rpb2      37          Rpb2_37_pdb     1.0       Rpb2_30_39_pdb    10.0\n",
        "                Rpb2      38          Rpb2_38_pdb     1.0       Rpb2_30_39_pdb    10.0\n",
        "                Rpb2      39          Rpb2_39_pdb     1.0       Rpb2_30_39_pdb    10.0\n",
        "                Rpb2      40          Rpb2_40_pdb     1.0       Rpb2_40_49_pdb    10.0\n",
        "                Rpb2      41          Rpb2_41_pdb     1.0       Rpb2_40_49_pdb    10.0\n",
        "                Rpb2      42          Rpb2_42_pdb     1.0       Rpb2_40_49_pdb    10.0\n",
        "                Rpb2      43          Rpb2_43_pdb     1.0       Rpb2_40_49_pdb    10.0\n",
        "                Rpb2      44          Rpb2_44_pdb     1.0       Rpb2_40_49_pdb    10.0\n",
        "                Rpb2      45          Rpb2_45_pdb     1.0       Rpb2_40_49_pdb    10.0\n",
        "                Rpb2      46          Rpb2_46_pdb     1.0       Rpb2_40_49_pdb    10.0\n",
        "                Rpb2      47          Rpb2_47_pdb     1.0       Rpb2_40_49_pdb    10.0\n",
        "                Rpb2      48          Rpb2_48_pdb     1.0       Rpb2_40_49_pdb    10.0\n",
        "                Rpb2      49          Rpb2_49_pdb     1.0       Rpb2_40_49_pdb    10.0\n",
        "                Rpb2      50          Rpb2_50_pdb     1.0       Rpb2_50_59_pdb    10.0\n",
        "                Rpb2      51          Rpb2_51_pdb     1.0       Rpb2_50_59_pdb    10.0\n",
        "                Rpb2      52          Rpb2_52_pdb     1.0       Rpb2_50_59_pdb    10.0\n",
        "                Rpb2      53          Rpb2_53_pdb     1.0       Rpb2_50_59_pdb    10.0\n",
        "                Rpb2      54          Rpb2_54_pdb     1.0       Rpb2_50_59_pdb    10.0\n",
        "                Rpb2      55          Rpb2_55_pdb     1.0       Rpb2_50_59_pdb    10.0\n",
        "                Rpb2      56          Rpb2_56_pdb     1.0       Rpb2_50_59_pdb    10.0\n",
        "                Rpb2      57          Rpb2_57_pdb     1.0       Rpb2_50_59_pdb    10.0\n",
        "                Rpb2      58          Rpb2_58_pdb     1.0       Rpb2_50_59_pdb    10.0\n",
        "                Rpb2      59          Rpb2_59_pdb     1.0       Rpb2_50_59_pdb    10.0\n",
        "                Rpb2      60          Rpb2_60_pdb     1.0       Rpb2_60_69_pdb    10.0\n",
        "                Rpb2      61          Rpb2_61_pdb     1.0       Rpb2_60_69_pdb    10.0\n",
        "                Rpb2      62          Rpb2_62_pdb     1.0       Rpb2_60_69_pdb    10.0\n",
        "                Rpb2      63          Rpb2_63_pdb     1.0       Rpb2_60_69_pdb    10.0\n",
        "                Rpb2      64          Rpb2_64_pdb     1.0       Rpb2_60_69_pdb    10.0\n",
        "                Rpb2      65          Rpb2_65_pdb     1.0       Rpb2_60_69_pdb    10.0\n",
        "                Rpb2      66          Rpb2_66_pdb     1.0       Rpb2_60_69_pdb    10.0\n",
        "                Rpb2      67          Rpb2_67_pdb     1.0       Rpb2_60_69_pdb    10.0\n",
        "                Rpb2      68          Rpb2_68_pdb     1.0       Rpb2_60_69_pdb    10.0\n",
        "                Rpb2      69          Rpb2_69_pdb     1.0       Rpb2_60_69_pdb    10.0\n",
        "                Rpb2      70          Rpb2_70_pdb     1.0          Rpb2_70_pdb    10.0\n",
        "                Rpb2      71      Rpb2_71-89_bead    19.0\n",
        "                Rpb2      72      Rpb2_71-89_bead    19.0\n",
        "                Rpb2      73      Rpb2_71-89_bead    19.0\n",
        "                Rpb2      74      Rpb2_71-89_bead    19.0\n",
        "                Rpb2      75      Rpb2_71-89_bead    19.0\n",
        "                Rpb2      76      Rpb2_71-89_bead    19.0\n",
        "                Rpb2      77      Rpb2_71-89_bead    19.0\n",
        "                Rpb2      78      Rpb2_71-89_bead    19.0\n",
        "                Rpb2      79      Rpb2_71-89_bead    19.0\n",
        "                Rpb2      80      Rpb2_71-89_bead    19.0\n",
        "                Rpb2      81      Rpb2_71-89_bead    19.0\n",
        "                Rpb2      82      Rpb2_71-89_bead    19.0\n",
        "                Rpb2      83      Rpb2_71-89_bead    19.0\n",
        "                Rpb2      84      Rpb2_71-89_bead    19.0\n",
        "                Rpb2      85      Rpb2_71-89_bead    19.0\n",
        "                Rpb2      86      Rpb2_71-89_bead    19.0\n",
        "                Rpb2      87      Rpb2_71-89_bead    19.0\n",
        "                Rpb2      88      Rpb2_71-89_bead    19.0\n",
        "                Rpb2      89      Rpb2_71-89_bead    19.0\n",
        "                Rpb2      90          Rpb2_90_pdb     1.0       Rpb2_90_99_pdb    10.0\n",
        "                Rpb2      91          Rpb2_91_pdb     1.0       Rpb2_90_99_pdb    10.0\n",
        "                Rpb2      92          Rpb2_92_pdb     1.0       Rpb2_90_99_pdb    10.0\n",
        "                Rpb2      93          Rpb2_93_pdb     1.0       Rpb2_90_99_pdb    10.0\n",
        "                Rpb2      94          Rpb2_94_pdb     1.0       Rpb2_90_99_pdb    10.0\n",
        "                Rpb2      95          Rpb2_95_pdb     1.0       Rpb2_90_99_pdb    10.0\n",
        "                Rpb2      96          Rpb2_96_pdb     1.0       Rpb2_90_99_pdb    10.0\n",
        "                Rpb2      97          Rpb2_97_pdb     1.0       Rpb2_90_99_pdb    10.0\n",
        "                Rpb2      98          Rpb2_98_pdb     1.0       Rpb2_90_99_pdb    10.0\n",
        "                Rpb2      99          Rpb2_99_pdb     1.0       Rpb2_90_99_pdb    10.0\n",
        "                Rpb2     100         Rpb2_100_pdb     1.0     Rpb2_100_109_pdb    10.0\n",
        "                Rpb2     101         Rpb2_101_pdb     1.0     Rpb2_100_109_pdb    10.0\n",
        "                Rpb2     102         Rpb2_102_pdb     1.0     Rpb2_100_109_pdb    10.0\n",
        "                Rpb2     103         Rpb2_103_pdb     1.0     Rpb2_100_109_pdb    10.0\n",
        "                Rpb2     104         Rpb2_104_pdb     1.0     Rpb2_100_109_pdb    10.0\n",
        "                Rpb2     105         Rpb2_105_pdb     1.0     Rpb2_100_109_pdb    10.0\n",
        "                Rpb2     106         Rpb2_106_pdb     1.0     Rpb2_100_109_pdb    10.0\n",
        "                Rpb2     107         Rpb2_107_pdb     1.0     Rpb2_100_109_pdb    10.0\n",
        "                Rpb2     108         Rpb2_108_pdb     1.0     Rpb2_100_109_pdb    10.0\n",
        "                Rpb2     109         Rpb2_109_pdb     1.0     Rpb2_100_109_pdb    10.0\n",
        "                Rpb2     110         Rpb2_110_pdb     1.0     Rpb2_110_119_pdb    10.0\n",
        "                Rpb2     111         Rpb2_111_pdb     1.0     Rpb2_110_119_pdb    10.0\n",
        "                Rpb2     112         Rpb2_112_pdb     1.0     Rpb2_110_119_pdb    10.0\n",
        "                Rpb2     113         Rpb2_113_pdb     1.0     Rpb2_110_119_pdb    10.0\n",
        "                Rpb2     114         Rpb2_114_pdb     1.0     Rpb2_110_119_pdb    10.0\n",
        "                Rpb2     115         Rpb2_115_pdb     1.0     Rpb2_110_119_pdb    10.0\n",
        "                Rpb2     116         Rpb2_116_pdb     1.0     Rpb2_110_119_pdb    10.0\n",
        "                Rpb2     117         Rpb2_117_pdb     1.0     Rpb2_110_119_pdb    10.0\n",
        "                Rpb2     118         Rpb2_118_pdb     1.0     Rpb2_110_119_pdb    10.0\n",
        "                Rpb2     119         Rpb2_119_pdb     1.0     Rpb2_110_119_pdb    10.0\n",
        "                Rpb2     120         Rpb2_120_pdb     1.0     Rpb2_120_129_pdb    10.0\n",
        "                Rpb2     121         Rpb2_121_pdb     1.0     Rpb2_120_129_pdb    10.0\n",
        "                Rpb2     122         Rpb2_122_pdb     1.0     Rpb2_120_129_pdb    10.0\n",
        "                Rpb2     123         Rpb2_123_pdb     1.0     Rpb2_120_129_pdb    10.0\n",
        "                Rpb2     124         Rpb2_124_pdb     1.0     Rpb2_120_129_pdb    10.0\n",
        "                Rpb2     125         Rpb2_125_pdb     1.0     Rpb2_120_129_pdb    10.0\n",
        "                Rpb2     126         Rpb2_126_pdb     1.0     Rpb2_120_129_pdb    10.0\n",
        "                Rpb2     127         Rpb2_127_pdb     1.0     Rpb2_120_129_pdb    10.0\n",
        "                Rpb2     128         Rpb2_128_pdb     1.0     Rpb2_120_129_pdb    10.0\n",
        "                Rpb2     129         Rpb2_129_pdb     1.0     Rpb2_120_129_pdb    10.0\n",
        "                Rpb2     130         Rpb2_130_pdb     1.0     Rpb2_130_134_pdb    10.0\n",
        "                Rpb2     131         Rpb2_131_pdb     1.0     Rpb2_130_134_pdb    10.0\n",
        "                Rpb2     132         Rpb2_132_pdb     1.0     Rpb2_130_134_pdb    10.0\n",
        "                Rpb2     133         Rpb2_133_pdb     1.0     Rpb2_130_134_pdb    10.0\n",
        "                Rpb2     134         Rpb2_134_pdb     1.0     Rpb2_130_134_pdb    10.0\n",
        "                Rpb2     135    Rpb2_135-154_bead    20.0\n",
        "                Rpb2     136    Rpb2_135-154_bead    20.0\n",
        "                Rpb2     137    Rpb2_135-154_bead    20.0\n",
        "                Rpb2     138    Rpb2_135-154_bead    20.0\n",
        "                Rpb2     139    Rpb2_135-154_bead    20.0\n",
        "                Rpb2     140    Rpb2_135-154_bead    20.0\n",
        "                Rpb2     141    Rpb2_135-154_bead    20.0\n",
        "                Rpb2     142    Rpb2_135-154_bead    20.0\n",
        "                Rpb2     143    Rpb2_135-154_bead    20.0\n",
        "                Rpb2     144    Rpb2_135-154_bead    20.0\n",
        "                Rpb2     145    Rpb2_135-154_bead    20.0\n",
        "                Rpb2     146    Rpb2_135-154_bead    20.0\n",
        "                Rpb2     147    Rpb2_135-154_bead    20.0\n",
        "                Rpb2     148    Rpb2_135-154_bead    20.0\n",
        "                Rpb2     149    Rpb2_135-154_bead    20.0\n",
        "                Rpb2     150    Rpb2_135-154_bead    20.0\n",
        "                Rpb2     151    Rpb2_135-154_bead    20.0\n",
        "                Rpb2     152    Rpb2_135-154_bead    20.0\n",
        "                Rpb2     153    Rpb2_135-154_bead    20.0\n",
        "                Rpb2     154    Rpb2_135-154_bead    20.0\n",
        "                Rpb2     155    Rpb2_155-163_bead     9.0\n",
        "                Rpb2     156    Rpb2_155-163_bead     9.0\n",
        "                Rpb2     157    Rpb2_155-163_bead     9.0\n",
        "                Rpb2     158    Rpb2_155-163_bead     9.0\n",
        "                Rpb2     159    Rpb2_155-163_bead     9.0\n",
        "                Rpb2     160    Rpb2_155-163_bead     9.0\n",
        "                Rpb2     161    Rpb2_155-163_bead     9.0\n",
        "                Rpb2     162    Rpb2_155-163_bead     9.0\n",
        "                Rpb2     163    Rpb2_155-163_bead     9.0\n",
        "                Rpb2     164         Rpb2_164_pdb     1.0     Rpb2_164_173_pdb    10.0\n",
        "                Rpb2     165         Rpb2_165_pdb     1.0     Rpb2_164_173_pdb    10.0\n",
        "                Rpb2     166         Rpb2_166_pdb     1.0     Rpb2_164_173_pdb    10.0\n",
        "                Rpb2     167         Rpb2_167_pdb     1.0     Rpb2_164_173_pdb    10.0\n",
        "                Rpb2     168         Rpb2_168_pdb     1.0     Rpb2_164_173_pdb    10.0\n",
        "                Rpb2     169         Rpb2_169_pdb     1.0     Rpb2_164_173_pdb    10.0\n",
        "                Rpb2     170         Rpb2_170_pdb     1.0     Rpb2_164_173_pdb    10.0\n",
        "                Rpb2     171         Rpb2_171_pdb     1.0     Rpb2_164_173_pdb    10.0\n",
        "                Rpb2     172         Rpb2_172_pdb     1.0     Rpb2_164_173_pdb    10.0\n",
        "                Rpb2     173         Rpb2_173_pdb     1.0     Rpb2_164_173_pdb    10.0\n",
        "                Rpb2     174         Rpb2_174_pdb     1.0     Rpb2_174_183_pdb    10.0\n",
        "                Rpb2     175         Rpb2_175_pdb     1.0     Rpb2_174_183_pdb    10.0\n",
        "                Rpb2     176         Rpb2_176_pdb     1.0     Rpb2_174_183_pdb    10.0\n",
        "                Rpb2     177         Rpb2_177_pdb     1.0     Rpb2_174_183_pdb    10.0\n",
        "                Rpb2     178         Rpb2_178_pdb     1.0     Rpb2_174_183_pdb    10.0\n",
        "                Rpb2     179         Rpb2_179_pdb     1.0     Rpb2_174_183_pdb    10.0\n",
        "                Rpb2     180         Rpb2_180_pdb     1.0     Rpb2_174_183_pdb    10.0\n",
        "                Rpb2     181         Rpb2_181_pdb     1.0     Rpb2_174_183_pdb    10.0\n",
        "                Rpb2     182         Rpb2_182_pdb     1.0     Rpb2_174_183_pdb    10.0\n",
        "                Rpb2     183         Rpb2_183_pdb     1.0     Rpb2_174_183_pdb    10.0\n",
        "                Rpb2     184         Rpb2_184_pdb     1.0     Rpb2_184_193_pdb    10.0\n",
        "                Rpb2     185         Rpb2_185_pdb     1.0     Rpb2_184_193_pdb    10.0\n",
        "                Rpb2     186         Rpb2_186_pdb     1.0     Rpb2_184_193_pdb    10.0\n",
        "                Rpb2     187         Rpb2_187_pdb     1.0     Rpb2_184_193_pdb    10.0\n",
        "                Rpb2     188         Rpb2_188_pdb     1.0     Rpb2_184_193_pdb    10.0\n",
        "                Rpb2     189         Rpb2_189_pdb     1.0     Rpb2_184_193_pdb    10.0\n",
        "                Rpb2     190         Rpb2_190_pdb     1.0     Rpb2_184_193_pdb    10.0\n",
        "                Rpb2     191         Rpb2_191_pdb     1.0     Rpb2_184_193_pdb    10.0\n",
        "                Rpb2     192         Rpb2_192_pdb     1.0     Rpb2_184_193_pdb    10.0\n",
        "                Rpb2     193         Rpb2_193_pdb     1.0     Rpb2_184_193_pdb    10.0\n",
        "                Rpb2     194         Rpb2_194_pdb     1.0     Rpb2_194_203_pdb    10.0\n",
        "                Rpb2     195         Rpb2_195_pdb     1.0     Rpb2_194_203_pdb    10.0\n",
        "                Rpb2     196 "
       ]
      },
      {
       "output_type": "stream",
       "stream": "stdout",
       "text": [
        "        Rpb2_196_pdb     1.0     Rpb2_194_203_pdb    10.0\n",
        "                Rpb2     197         Rpb2_197_pdb     1.0     Rpb2_194_203_pdb    10.0\n",
        "                Rpb2     198         Rpb2_198_pdb     1.0     Rpb2_194_203_pdb    10.0\n",
        "                Rpb2     199         Rpb2_199_pdb     1.0     Rpb2_194_203_pdb    10.0\n",
        "                Rpb2     200         Rpb2_200_pdb     1.0     Rpb2_194_203_pdb    10.0\n",
        "                Rpb2     201         Rpb2_201_pdb     1.0     Rpb2_194_203_pdb    10.0\n",
        "                Rpb2     202         Rpb2_202_pdb     1.0     Rpb2_194_203_pdb    10.0\n",
        "                Rpb2     203         Rpb2_203_pdb     1.0     Rpb2_194_203_pdb    10.0\n",
        "                Rpb2     204         Rpb2_204_pdb     1.0     Rpb2_204_213_pdb    10.0\n",
        "                Rpb2     205         Rpb2_205_pdb     1.0     Rpb2_204_213_pdb    10.0\n",
        "                Rpb2     206         Rpb2_206_pdb     1.0     Rpb2_204_213_pdb    10.0\n",
        "                Rpb2     207         Rpb2_207_pdb     1.0     Rpb2_204_213_pdb    10.0\n",
        "                Rpb2     208         Rpb2_208_pdb     1.0     Rpb2_204_213_pdb    10.0\n",
        "                Rpb2     209         Rpb2_209_pdb     1.0     Rpb2_204_213_pdb    10.0\n",
        "                Rpb2     210         Rpb2_210_pdb     1.0     Rpb2_204_213_pdb    10.0\n",
        "                Rpb2     211         Rpb2_211_pdb     1.0     Rpb2_204_213_pdb    10.0\n",
        "                Rpb2     212         Rpb2_212_pdb     1.0     Rpb2_204_213_pdb    10.0\n",
        "                Rpb2     213         Rpb2_213_pdb     1.0     Rpb2_204_213_pdb    10.0\n",
        "                Rpb2     214         Rpb2_214_pdb     1.0     Rpb2_214_223_pdb    10.0\n",
        "                Rpb2     215         Rpb2_215_pdb     1.0     Rpb2_214_223_pdb    10.0\n",
        "                Rpb2     216         Rpb2_216_pdb     1.0     Rpb2_214_223_pdb    10.0\n",
        "                Rpb2     217         Rpb2_217_pdb     1.0     Rpb2_214_223_pdb    10.0\n",
        "                Rpb2     218         Rpb2_218_pdb     1.0     Rpb2_214_223_pdb    10.0\n",
        "                Rpb2     219         Rpb2_219_pdb     1.0     Rpb2_214_223_pdb    10.0\n",
        "                Rpb2     220         Rpb2_220_pdb     1.0     Rpb2_214_223_pdb    10.0\n",
        "                Rpb2     221         Rpb2_221_pdb     1.0     Rpb2_214_223_pdb    10.0\n",
        "                Rpb2     222         Rpb2_222_pdb     1.0     Rpb2_214_223_pdb    10.0\n",
        "                Rpb2     223         Rpb2_223_pdb     1.0     Rpb2_214_223_pdb    10.0\n",
        "                Rpb2     224         Rpb2_224_pdb     1.0     Rpb2_224_233_pdb    10.0\n",
        "                Rpb2     225         Rpb2_225_pdb     1.0     Rpb2_224_233_pdb    10.0\n",
        "                Rpb2     226         Rpb2_226_pdb     1.0     Rpb2_224_233_pdb    10.0\n",
        "                Rpb2     227         Rpb2_227_pdb     1.0     Rpb2_224_233_pdb    10.0\n",
        "                Rpb2     228         Rpb2_228_pdb     1.0     Rpb2_224_233_pdb    10.0\n",
        "                Rpb2     229         Rpb2_229_pdb     1.0     Rpb2_224_233_pdb    10.0\n",
        "                Rpb2     230         Rpb2_230_pdb     1.0     Rpb2_224_233_pdb    10.0\n",
        "                Rpb2     231         Rpb2_231_pdb     1.0     Rpb2_224_233_pdb    10.0\n",
        "                Rpb2     232         Rpb2_232_pdb     1.0     Rpb2_224_233_pdb    10.0\n",
        "                Rpb2     233         Rpb2_233_pdb     1.0     Rpb2_224_233_pdb    10.0\n",
        "                Rpb2     234         Rpb2_234_pdb     1.0     Rpb2_234_243_pdb    10.0\n",
        "                Rpb2     235         Rpb2_235_pdb     1.0     Rpb2_234_243_pdb    10.0\n",
        "                Rpb2     236         Rpb2_236_pdb     1.0     Rpb2_234_243_pdb    10.0\n",
        "                Rpb2     237         Rpb2_237_pdb     1.0     Rpb2_234_243_pdb    10.0\n",
        "                Rpb2     238         Rpb2_238_pdb     1.0     Rpb2_234_243_pdb    10.0\n",
        "                Rpb2     239         Rpb2_239_pdb     1.0     Rpb2_234_243_pdb    10.0\n",
        "                Rpb2     240         Rpb2_240_pdb     1.0     Rpb2_234_243_pdb    10.0\n",
        "                Rpb2     241         Rpb2_241_pdb     1.0     Rpb2_234_243_pdb    10.0\n",
        "                Rpb2     242         Rpb2_242_pdb     1.0     Rpb2_234_243_pdb    10.0\n",
        "                Rpb2     243         Rpb2_243_pdb     1.0     Rpb2_234_243_pdb    10.0\n",
        "                Rpb2     244         Rpb2_244_pdb     1.0     Rpb2_244_253_pdb    10.0\n",
        "                Rpb2     245         Rpb2_245_pdb     1.0     Rpb2_244_253_pdb    10.0\n",
        "                Rpb2     246         Rpb2_246_pdb     1.0     Rpb2_244_253_pdb    10.0\n",
        "                Rpb2     247         Rpb2_247_pdb     1.0     Rpb2_244_253_pdb    10.0\n",
        "                Rpb2     248         Rpb2_248_pdb     1.0     Rpb2_244_253_pdb    10.0\n",
        "                Rpb2     249         Rpb2_249_pdb     1.0     Rpb2_244_253_pdb    10.0\n",
        "                Rpb2     250         Rpb2_250_pdb     1.0     Rpb2_244_253_pdb    10.0\n",
        "                Rpb2     251         Rpb2_251_pdb     1.0     Rpb2_244_253_pdb    10.0\n",
        "                Rpb2     252         Rpb2_252_pdb     1.0     Rpb2_244_253_pdb    10.0\n",
        "                Rpb2     253         Rpb2_253_pdb     1.0     Rpb2_244_253_pdb    10.0\n",
        "                Rpb2     254         Rpb2_254_pdb     1.0     Rpb2_254_263_pdb    10.0\n",
        "                Rpb2     255         Rpb2_255_pdb     1.0     Rpb2_254_263_pdb    10.0\n",
        "                Rpb2     256         Rpb2_256_pdb     1.0     Rpb2_254_263_pdb    10.0\n",
        "                Rpb2     257         Rpb2_257_pdb     1.0     Rpb2_254_263_pdb    10.0\n",
        "                Rpb2     258         Rpb2_258_pdb     1.0     Rpb2_254_263_pdb    10.0\n",
        "                Rpb2     259         Rpb2_259_pdb     1.0     Rpb2_254_263_pdb    10.0\n",
        "                Rpb2     260         Rpb2_260_pdb     1.0     Rpb2_254_263_pdb    10.0\n",
        "                Rpb2     261         Rpb2_261_pdb     1.0     Rpb2_254_263_pdb    10.0\n",
        "                Rpb2     262         Rpb2_262_pdb     1.0     Rpb2_254_263_pdb    10.0\n",
        "                Rpb2     263         Rpb2_263_pdb     1.0     Rpb2_254_263_pdb    10.0\n",
        "                Rpb2     264         Rpb2_264_pdb     1.0     Rpb2_264_273_pdb    10.0\n",
        "                Rpb2     265         Rpb2_265_pdb     1.0     Rpb2_264_273_pdb    10.0\n",
        "                Rpb2     266         Rpb2_266_pdb     1.0     Rpb2_264_273_pdb    10.0\n",
        "                Rpb2     267         Rpb2_267_pdb     1.0     Rpb2_264_273_pdb    10.0\n",
        "                Rpb2     268         Rpb2_268_pdb     1.0     Rpb2_264_273_pdb    10.0\n",
        "                Rpb2     269         Rpb2_269_pdb     1.0     Rpb2_264_273_pdb    10.0\n",
        "                Rpb2     270         Rpb2_270_pdb     1.0     Rpb2_264_273_pdb    10.0\n",
        "                Rpb2     271         Rpb2_271_pdb     1.0     Rpb2_264_273_pdb    10.0\n",
        "                Rpb2     272         Rpb2_272_pdb     1.0     Rpb2_264_273_pdb    10.0\n",
        "                Rpb2     273         Rpb2_273_pdb     1.0     Rpb2_264_273_pdb    10.0\n",
        "                Rpb2     274         Rpb2_274_pdb     1.0     Rpb2_274_283_pdb    10.0\n",
        "                Rpb2     275         Rpb2_275_pdb     1.0     Rpb2_274_283_pdb    10.0\n",
        "                Rpb2     276         Rpb2_276_pdb     1.0     Rpb2_274_283_pdb    10.0\n",
        "                Rpb2     277         Rpb2_277_pdb     1.0     Rpb2_274_283_pdb    10.0\n",
        "                Rpb2     278         Rpb2_278_pdb     1.0     Rpb2_274_283_pdb    10.0\n",
        "                Rpb2     279         Rpb2_279_pdb     1.0     Rpb2_274_283_pdb    10.0\n",
        "                Rpb2     280         Rpb2_280_pdb     1.0     Rpb2_274_283_pdb    10.0\n",
        "                Rpb2     281         Rpb2_281_pdb     1.0     Rpb2_274_283_pdb    10.0\n",
        "                Rpb2     282         Rpb2_282_pdb     1.0     Rpb2_274_283_pdb    10.0\n",
        "                Rpb2     283         Rpb2_283_pdb     1.0     Rpb2_274_283_pdb    10.0\n",
        "                Rpb2     284         Rpb2_284_pdb     1.0     Rpb2_284_293_pdb    10.0\n",
        "                Rpb2     285         Rpb2_285_pdb     1.0     Rpb2_284_293_pdb    10.0\n",
        "                Rpb2     286         Rpb2_286_pdb     1.0     Rpb2_284_293_pdb    10.0\n",
        "                Rpb2     287         Rpb2_287_pdb     1.0     Rpb2_284_293_pdb    10.0\n",
        "                Rpb2     288         Rpb2_288_pdb     1.0     Rpb2_284_293_pdb    10.0\n",
        "                Rpb2     289         Rpb2_289_pdb     1.0     Rpb2_284_293_pdb    10.0\n",
        "                Rpb2     290         Rpb2_290_pdb     1.0     Rpb2_284_293_pdb    10.0\n",
        "                Rpb2     291         Rpb2_291_pdb     1.0     Rpb2_284_293_pdb    10.0\n",
        "                Rpb2     292         Rpb2_292_pdb     1.0     Rpb2_284_293_pdb    10.0\n",
        "                Rpb2     293         Rpb2_293_pdb     1.0     Rpb2_284_293_pdb    10.0\n",
        "                Rpb2     294         Rpb2_294_pdb     1.0     Rpb2_294_303_pdb    10.0\n",
        "                Rpb2     295         Rpb2_295_pdb     1.0     Rpb2_294_303_pdb    10.0\n",
        "                Rpb2     296         Rpb2_296_pdb     1.0     Rpb2_294_303_pdb    10.0\n",
        "                Rpb2     297         Rpb2_297_pdb     1.0     Rpb2_294_303_pdb    10.0\n",
        "                Rpb2     298         Rpb2_298_pdb     1.0     Rpb2_294_303_pdb    10.0\n",
        "                Rpb2     299         Rpb2_299_pdb     1.0     Rpb2_294_303_pdb    10.0\n",
        "                Rpb2     300         Rpb2_300_pdb     1.0     Rpb2_294_303_pdb    10.0\n",
        "                Rpb2     301         Rpb2_301_pdb     1.0     Rpb2_294_303_pdb    10.0\n",
        "                Rpb2     302"
       ]
      },
      {
       "output_type": "stream",
       "stream": "stdout",
       "text": [
        "         Rpb2_302_pdb     1.0     Rpb2_294_303_pdb    10.0\n",
        "                Rpb2     303         Rpb2_303_pdb     1.0     Rpb2_294_303_pdb    10.0\n",
        "                Rpb2     304         Rpb2_304_pdb     1.0     Rpb2_304_313_pdb    10.0\n",
        "                Rpb2     305         Rpb2_305_pdb     1.0     Rpb2_304_313_pdb    10.0\n",
        "                Rpb2     306         Rpb2_306_pdb     1.0     Rpb2_304_313_pdb    10.0\n",
        "                Rpb2     307         Rpb2_307_pdb     1.0     Rpb2_304_313_pdb    10.0\n",
        "                Rpb2     308         Rpb2_308_pdb     1.0     Rpb2_304_313_pdb    10.0\n",
        "                Rpb2     309         Rpb2_309_pdb     1.0     Rpb2_304_313_pdb    10.0\n",
        "                Rpb2     310         Rpb2_310_pdb     1.0     Rpb2_304_313_pdb    10.0\n",
        "                Rpb2     311         Rpb2_311_pdb     1.0     Rpb2_304_313_pdb    10.0\n",
        "                Rpb2     312         Rpb2_312_pdb     1.0     Rpb2_304_313_pdb    10.0\n",
        "                Rpb2     313         Rpb2_313_pdb     1.0     Rpb2_304_313_pdb    10.0\n",
        "                Rpb2     314         Rpb2_314_pdb     1.0     Rpb2_314_323_pdb    10.0\n",
        "                Rpb2     315         Rpb2_315_pdb     1.0     Rpb2_314_323_pdb    10.0\n",
        "                Rpb2     316         Rpb2_316_pdb     1.0     Rpb2_314_323_pdb    10.0\n",
        "                Rpb2     317         Rpb2_317_pdb     1.0     Rpb2_314_323_pdb    10.0\n",
        "                Rpb2     318         Rpb2_318_pdb     1.0     Rpb2_314_323_pdb    10.0\n",
        "                Rpb2     319         Rpb2_319_pdb     1.0     Rpb2_314_323_pdb    10.0\n",
        "                Rpb2     320         Rpb2_320_pdb     1.0     Rpb2_314_323_pdb    10.0\n",
        "                Rpb2     321         Rpb2_321_pdb     1.0     Rpb2_314_323_pdb    10.0\n",
        "                Rpb2     322         Rpb2_322_pdb     1.0     Rpb2_314_323_pdb    10.0\n",
        "                Rpb2     323         Rpb2_323_pdb     1.0     Rpb2_314_323_pdb    10.0\n",
        "                Rpb2     324         Rpb2_324_pdb     1.0     Rpb2_324_333_pdb    10.0\n",
        "                Rpb2     325         Rpb2_325_pdb     1.0     Rpb2_324_333_pdb    10.0\n",
        "                Rpb2     326         Rpb2_326_pdb     1.0     Rpb2_324_333_pdb    10.0\n",
        "                Rpb2     327         Rpb2_327_pdb     1.0     Rpb2_324_333_pdb    10.0\n",
        "                Rpb2     328         Rpb2_328_pdb     1.0     Rpb2_324_333_pdb    10.0\n",
        "                Rpb2     329         Rpb2_329_pdb     1.0     Rpb2_324_333_pdb    10.0\n",
        "                Rpb2     330         Rpb2_330_pdb     1.0     Rpb2_324_333_pdb    10.0\n",
        "                Rpb2     331         Rpb2_331_pdb     1.0     Rpb2_324_333_pdb    10.0\n",
        "                Rpb2     332         Rpb2_332_pdb     1.0     Rpb2_324_333_pdb    10.0\n",
        "                Rpb2     333         Rpb2_333_pdb     1.0     Rpb2_324_333_pdb    10.0\n",
        "                Rpb2     334         Rpb2_334_pdb     1.0     Rpb2_334_335_pdb    10.0\n",
        "                Rpb2     335         Rpb2_335_pdb     1.0     Rpb2_334_335_pdb    10.0\n",
        "                Rpb2     336    Rpb2_336-344_bead     9.0\n",
        "                Rpb2     337    Rpb2_336-344_bead     9.0\n",
        "                Rpb2     338    Rpb2_336-344_bead     9.0\n",
        "                Rpb2     339    Rpb2_336-344_bead     9.0\n",
        "                Rpb2     340    Rpb2_336-344_bead     9.0\n",
        "                Rpb2     341    Rpb2_336-344_bead     9.0\n",
        "                Rpb2     342    Rpb2_336-344_bead     9.0\n",
        "                Rpb2     343    Rpb2_336-344_bead     9.0\n",
        "                Rpb2     344    Rpb2_336-344_bead     9.0\n",
        "                Rpb2     345         Rpb2_345_pdb     1.0     Rpb2_345_354_pdb    10.0\n",
        "                Rpb2     346         Rpb2_346_pdb     1.0     Rpb2_345_354_pdb    10.0\n",
        "                Rpb2     347         Rpb2_347_pdb     1.0     Rpb2_345_354_pdb    10.0\n",
        "                Rpb2     348         Rpb2_348_pdb     1.0     Rpb2_345_354_pdb    10.0\n",
        "                Rpb2     349         Rpb2_349_pdb     1.0     Rpb2_345_354_pdb    10.0\n",
        "                Rpb2     350         Rpb2_350_pdb     1.0     Rpb2_345_354_pdb    10.0\n",
        "                Rpb2     351         Rpb2_351_pdb     1.0     Rpb2_345_354_pdb    10.0\n",
        "                Rpb2     352         Rpb2_352_pdb     1.0     Rpb2_345_354_pdb    10.0\n",
        "                Rpb2     353         Rpb2_353_pdb     1.0     Rpb2_345_354_pdb    10.0\n",
        "                Rpb2     354         Rpb2_354_pdb     1.0     Rpb2_345_354_pdb    10.0\n",
        "                Rpb2     355         Rpb2_355_pdb     1.0     Rpb2_355_364_pdb    10.0\n",
        "                Rpb2     356         Rpb2_356_pdb     1.0     Rpb2_355_364_pdb    10.0\n",
        "                Rpb2     357         Rpb2_357_pdb     1.0     Rpb2_355_364_pdb    10.0\n",
        "                Rpb2     358         Rpb2_358_pdb     1.0     Rpb2_355_364_pdb    10.0\n",
        "                Rpb2     359         Rpb2_359_pdb     1.0     Rpb2_355_364_pdb    10.0\n",
        "                Rpb2     360         Rpb2_360_pdb     1.0     Rpb2_355_364_pdb    10.0\n",
        "                Rpb2     361         Rpb2_361_pdb     1.0     Rpb2_355_364_pdb    10.0\n",
        "                Rpb2     362         Rpb2_362_pdb     1.0     Rpb2_355_364_pdb    10.0\n",
        "                Rpb2     363         Rpb2_363_pdb     1.0     Rpb2_355_364_pdb    10.0\n",
        "                Rpb2     364         Rpb2_364_pdb     1.0     Rpb2_355_364_pdb    10.0\n",
        "                Rpb2     365         Rpb2_365_pdb     1.0     Rpb2_365_374_pdb    10.0\n",
        "                Rpb2     366         Rpb2_366_pdb     1.0     Rpb2_365_374_pdb    10.0\n",
        "                Rpb2     367         Rpb2_367_pdb     1.0     Rpb2_365_374_pdb    10.0\n",
        "                Rpb2     368         Rpb2_368_pdb     1.0     Rpb2_365_374_pdb    10.0\n",
        "                Rpb2     369         Rpb2_369_pdb     1.0     Rpb2_365_374_pdb    10.0\n",
        "                Rpb2     370         Rpb2_370_pdb     1.0     Rpb2_365_374_pdb    10.0\n",
        "                Rpb2     371         Rpb2_371_pdb     1.0     Rpb2_365_374_pdb    10.0\n",
        "                Rpb2     372         Rpb2_372_pdb     1.0     Rpb2_365_374_pdb    10.0\n",
        "                Rpb2     373         Rpb2_373_pdb     1.0     Rpb2_365_374_pdb    10.0\n",
        "                Rpb2     374         Rpb2_374_pdb     1.0     Rpb2_365_374_pdb    10.0\n",
        "                Rpb2     375         Rpb2_375_pdb     1.0     Rpb2_375_384_pdb    10.0\n",
        "                Rpb2     376         Rpb2_376_pdb     1.0     Rpb2_375_384_pdb    10.0\n",
        "                Rpb2     377         Rpb2_377_pdb     1.0     Rpb2_375_384_pdb    10.0\n",
        "                Rpb2     378         Rpb2_378_pdb     1.0     Rpb2_375_384_pdb    10.0\n",
        "                Rpb2     379         Rpb2_379_pdb     1.0     Rpb2_375_384_pdb    10.0\n",
        "                Rpb2     380         Rpb2_380_pdb     1.0     Rpb2_375_384_pdb    10.0\n",
        "                Rpb2     381         Rpb2_381_pdb     1.0     Rpb2_375_384_pdb    10.0\n",
        "                Rpb2     382         Rpb2_382_pdb     1.0     Rpb2_375_384_pdb    10.0\n",
        "                Rpb2     383         Rpb2_383_pdb     1.0     Rpb2_375_384_pdb    10.0\n",
        "                Rpb2     384         Rpb2_384_pdb     1.0     Rpb2_375_384_pdb    10.0\n",
        "                Rpb2     385         Rpb2_385_pdb     1.0     Rpb2_385_394_pdb    10.0\n",
        "                Rpb2     386         Rpb2_386_pdb     1.0     Rpb2_385_394_pdb    10.0\n",
        "                Rpb2     387         Rpb2_387_pdb     1.0     Rpb2_385_394_pdb    10.0\n",
        "                Rpb2     388         Rpb2_388_pdb     1.0     Rpb2_385_394_pdb    10.0\n",
        "                Rpb2     389         Rpb2_389_pdb     1.0     Rpb2_385_394_pdb    10.0\n",
        "                Rpb2     390         Rpb2_390_pdb     1.0     Rpb2_385_394_pdb    10.0\n",
        "                Rpb2     391         Rpb2_391_pdb     1.0     Rpb2_385_394_pdb    10.0\n",
        "                Rpb2     392         Rpb2_392_pdb     1.0     Rpb2_385_394_pdb    10.0\n",
        "                Rpb2     393         Rpb2_393_pdb     1.0     Rpb2_385_394_pdb    10.0\n",
        "                Rpb2     394         Rpb2_394_pdb     1.0     Rpb2_385_394_pdb    10.0\n",
        "                Rpb2     395         Rpb2_395_pdb     1.0     Rpb2_395_404_pdb    10.0\n",
        "                Rpb2     396         Rpb2_396_pdb     1.0     Rpb2_395_404_pdb    10.0\n",
        "                Rpb2     397         Rpb2_397_pdb     1.0     Rpb2_395_404_pdb    10.0\n",
        "                Rpb2     398         Rpb2_398_pdb     1.0     Rpb2_395_404_pdb    10.0\n",
        "                Rpb2     399         Rpb2_399_pdb     1.0     Rpb2_395_404_pdb    10.0\n",
        "                Rpb2     400         Rpb2_400_pdb     1.0     Rpb2_395_404_pdb    10.0\n",
        "                Rpb2     401         Rpb2_401_pdb     1.0     Rpb2_395_404_pdb    10.0\n",
        "                Rpb2     402         Rpb2_402_pdb     1.0     Rpb2_395_404_pdb    10.0\n",
        "                Rpb2     403         Rpb2_403_pdb     1.0     Rpb2_395_404_pdb    10.0\n",
        "                Rpb2     404         Rpb2_404_pdb     1.0     Rpb2_395_404_pdb    10.0\n",
        "                Rpb2     405         Rpb2_405_pdb     1.0     Rpb2_405_414_pdb    10.0\n",
        "                Rpb2     406         Rpb2_406_pdb     1.0     Rpb2_405_414_pdb    10.0\n",
        "                Rpb2     407         Rpb2_407_pdb     1.0     Rpb2_405_414_pdb    10.0\n",
        "                Rpb2     408         Rpb2_408_pdb     1.0     Rpb2_405_414_pdb    10.0\n",
        "                Rpb2     409         Rpb2_409_pdb     1.0     Rpb2_405_414_pdb    10.0\n",
        "                Rpb2     410         Rpb2_410_pdb     1.0     Rpb2_405_414_pdb    10.0\n",
        "                Rpb2     411         Rpb2_411_pdb     1.0     Rpb2_405_414_pdb    10.0\n",
        "                Rpb2     412         Rpb2_412_pdb     1.0     Rpb2_405_414_pdb    10.0\n",
        "                Rpb2     413         Rpb2_413_pdb     1.0     Rpb2_405_414_pdb    10.0\n",
        "                Rpb2     414         Rpb2_414_pdb     1.0     Rpb2_405_414_pdb    10.0\n",
        "                Rpb2     415         Rpb2_415_pdb     1.0     Rpb2_415_424_pdb    10.0\n",
        "                Rpb2     416         Rpb2_416_pdb     1.0     Rpb2_415_424_pdb    10.0\n",
        "                Rpb2     417         Rpb2_417_pdb     1.0     Rpb2_415_424_pdb    10.0\n",
        "                Rpb2     418         Rpb2_418_pdb     1.0     Rpb2_415_424_pdb    10.0\n",
        "                Rpb2     419         Rpb2_419_pdb     1.0     Rpb2_415_424_pdb    10.0\n",
        "                Rpb2     420         Rpb2_420_pdb     1.0     Rpb2_415_424_pdb    10.0\n",
        "                Rpb2     421         Rpb2_421_pdb     1.0     Rpb2_415_424_pdb    10.0\n",
        "                Rpb2     422         Rpb2_422_pdb     1.0     Rpb2_415_424_pdb    10.0\n",
        "                Rpb2     423         Rpb2_423_pdb     1.0     Rpb2_415_424_pdb    10.0\n",
        "                Rpb2     424         Rpb2_424_pdb     1.0     Rpb2_415_424_pdb    10.0\n",
        "                Rpb2     425         Rpb2_425_pdb     1.0     Rpb2_425_434_pdb    10.0\n",
        "                Rpb2     426         Rpb2_426_pdb     1.0     Rpb2_425_434_pdb    10.0\n",
        "                Rpb2     427         Rpb2_427_pdb     1.0     Rpb2_425_434_pdb    10.0\n",
        "                Rpb2     428         Rpb2_428_pdb     1.0     Rpb2_425_434_pdb    10.0\n",
        "                Rpb2     429         Rpb2_429_pdb     1.0     Rpb2_425_434_pdb    10.0\n",
        "                Rpb2     430         Rpb2_430_pdb     1.0     Rpb2_425_434_pdb    10.0\n",
        "                Rpb2     431         Rpb2_431_pdb     1.0     Rpb2_425_434_pdb    10.0\n",
        "                Rpb2     432         Rpb2_432_pdb     1.0     Rpb2_425_434_pdb    10.0\n",
        "                Rpb2     433         Rpb2_433_pdb     1.0     Rpb2_425_434_pdb    10.0\n",
        "                Rpb2     434         Rpb2_434_pdb     1.0     Rpb2_425_434_pdb    10.0\n",
        "                Rpb2     435         Rpb2_435_pdb     1.0     Rpb2_435_437_pdb    10.0\n",
        "                Rpb2     436         Rpb2_436_pdb     1.0     Rpb2_435_437_pdb    10.0\n",
        "                Rpb2     437         Rpb2_437_pdb     1.0     Rpb2_435_437_pdb    10.0\n",
        "                Rpb2     438    Rpb2_438-445_bead     8.0\n",
        "                Rpb2     439    Rpb2_438-445_bead     8.0\n",
        "                Rpb2     440    Rpb2_438-445_bead     8.0\n",
        "                Rpb2     441    Rpb2_438-445_bead     8.0\n",
        "                Rpb2     442    Rpb2_438-445_bead     8.0\n",
        "                Rpb2     443    Rpb2_438-445_bead     8.0\n",
        "                Rpb2     444    Rpb2_438-445_bead     8.0\n",
        "                Rpb2     445    Rpb2_438-445_bead     8.0\n",
        "                Rpb2     446         Rpb2_446_pdb     1.0     Rpb2_446_455_pdb    10.0\n",
        "                Rpb2     447         Rpb2_447_pdb     1.0     Rpb2_446_455_pdb    10.0\n",
        "                Rpb2     448         Rpb2_448_pdb     1.0     Rpb2_446_455_pdb    10.0\n",
        "                Rpb2     449         Rpb2_449_pdb     1.0     Rpb2_446_455_pdb    10.0\n",
        "                Rpb2     450         Rpb2_450_pdb     1.0     Rpb2_446_455_pdb    10.0\n",
        "                Rpb2     451         Rpb2_451_pdb     1.0     Rpb2_446_455_pdb    10.0\n",
        "                Rpb2     452         Rpb2_452_pdb     1.0     Rpb2_446_455_pdb    10.0\n",
        "                Rpb2     453         Rpb2_453_pdb     1.0     Rpb2_446_455_pdb    10.0\n",
        "                Rpb2     454         Rpb2_454_pdb     1.0     Rpb2_446_455_pdb    10.0\n",
        "                Rpb2     455         Rpb2_455_pdb     1.0     Rpb2_446_455_pdb    10.0\n",
        "                Rpb2     456         Rpb2_456_pdb     1.0     Rpb2_456_465_pdb    10.0\n",
        "                Rpb2     457         Rpb2_457_pdb     1.0     Rpb2_456_465_pdb    10.0\n",
        "                Rpb2     458         Rpb2_458_pdb     1.0     Rpb2_456_465_pdb    10.0\n",
        "                Rpb2     459         Rpb2_459_pdb     1.0     Rpb2_456_465_pdb    10.0\n",
        "                Rpb2     460         Rpb2_460_pdb     1.0     Rpb2_456_465_pdb    10.0\n",
        "                Rpb2     461         Rpb2_461_pdb     1.0     Rpb2_456_465_pdb    10.0\n",
        "                Rpb2     462         Rpb2_462_pdb     1.0     Rpb2_456_465_pdb    10.0\n",
        "                Rpb2     463         Rpb2_463_pdb     1.0     Rpb2_456_465_pdb    10.0\n",
        "                Rpb2     464         Rpb2_464_pdb     1.0     Rpb2_456_465_pdb    10.0\n",
        "                Rpb2     465         Rpb2_465_pdb     1.0     Rpb2_456_465_pdb    10.0\n",
        "                Rpb2     466         Rpb2_466_pdb     1.0     Rpb2_466_467_pdb    10.0\n",
        "                Rpb2     467         Rpb2_467_pdb     1.0     Rpb2_466_467_pdb    10.0\n",
        "                Rpb2     468    Rpb2_468-476_bead     9.0\n",
        "                Rpb2     469    Rpb2_468-476_bead     9.0\n",
        "                Rpb2     470    Rpb2_468-476_bead     9.0\n",
        "                Rpb2     471    Rpb2_468-476_bead     9.0\n",
        "                Rpb2     472    Rpb2_468-476_bead     9.0\n",
        "                Rpb2     473    Rpb2_468-476_bead     9.0\n",
        "                Rpb2     474    Rpb2_468-476_bead     9.0\n",
        "                Rpb2     475    Rpb2_468-476_bead     9.0\n",
        "                Rpb2     476    Rpb2_468-476_bead     9.0\n",
        "                Rpb2     477         Rpb2_477_pdb     1.0     Rpb2_477_486_pdb    10.0\n",
        "                Rpb2     478         Rpb2_478_pdb     1.0     Rpb2_477_486_pdb    10.0\n",
        "                Rpb2     479         Rpb2_479_pdb     1.0     Rpb2_477_486_pdb    10.0\n",
        "                Rpb2     480         Rpb2_480_pdb     1.0     Rpb2_477_486_pdb    10.0\n",
        "                Rpb2     481         Rpb2_481_pdb     1.0     Rpb2_477_486_pdb    10.0\n",
        "                Rpb2     482         Rpb2_482_pdb     1.0     Rpb2_477_486_pdb    10.0\n",
        "                Rpb2     483         Rpb2_483_pdb     1.0     Rpb2_477_486_pdb    10.0\n",
        "                Rpb2     484         Rpb2_484_pdb     1.0     Rpb2_477_486_pdb    10.0\n",
        "                Rpb2     485         Rpb2_485_pdb     1.0     Rpb2_477_486_pdb    10.0\n",
        "                Rpb2     486         Rpb2_486_pdb     1.0     Rpb2_477_486_pdb    10.0\n",
        "                Rpb2     487         Rpb2_487_pdb     1.0     Rpb2_487_496_pdb    10.0\n",
        "                Rpb2     488         Rpb2_488_pdb     1.0     Rpb2_487_496_pdb    10.0\n",
        "                Rpb2     489         Rpb2_489_pdb     1.0     Rpb2_487_496_pdb    10.0\n",
        "                Rpb2     490         Rpb2_490_pdb     1.0     Rpb2_487_496_pdb    10.0\n",
        "                Rpb2     491         Rpb2_491_pdb     1.0     Rpb2_487_496_pdb    10.0\n",
        "                Rpb2     492         Rpb2_492_pdb     1.0     Rpb2_487_496_pdb    10.0\n",
        "                Rpb2     493         Rpb2_493_pdb     1.0     Rpb2_487_496_pdb    10.0\n",
        "                Rpb2     494         Rpb2_494_pdb     1.0     Rpb2_487_496_pdb    10.0\n",
        "                Rpb2     495         Rpb2_495_pdb     1.0     Rpb2_487_496_pdb    10.0\n",
        "                Rpb2     496         Rpb2_496_pdb     1.0     Rpb2_487_496_pdb    10.0\n",
        "                Rpb2     497         Rpb2_497_pdb     1.0     Rpb2_497_502_pdb    10.0\n",
        "                Rpb2     498         Rpb2_498_pdb     1.0     Rpb2_497_502_pdb    10.0\n",
        "                Rpb2     499         Rpb2_499_pdb     1.0     Rpb2_497_502_pdb    10.0\n",
        "                Rpb2     500         Rpb2_500_pdb     1.0     Rpb2_497_502_pdb    10.0\n",
        "                Rpb2     501         Rpb2_501_pdb     1.0     Rpb2_497_502_pdb    10.0\n",
        "                Rpb2     502         Rpb2_502_pdb     1.0     Rpb2_497_502_pdb    10.0\n",
        "                Rpb2     503    Rpb2_503-508_bead     6.0\n",
        "                Rpb2     504    Rpb2_503-508_bead     6.0\n",
        "                Rpb2     505    Rpb2_503-508_bead     6.0\n",
        "                Rpb2     506    Rpb2_503-508_bead     6.0\n",
        "                Rpb2     507    Rpb2_503-508_bead     6.0\n",
        "                Rpb2     508    Rpb2_503-508_bead     6.0\n",
        "                Rpb2     509         Rpb2_509_pdb     1.0     Rpb2_509_518_pdb    10.0\n",
        "                Rpb2     510         Rpb2_510_pdb     1.0     Rpb2_509_518_pdb    10.0\n",
        "                Rpb2     511         Rpb2_511_pdb     1.0     Rpb2_509_518_pdb    10.0\n",
        "                Rpb2     512         Rpb2_512_pdb     1.0     Rpb2_509_518_pdb    10.0\n",
        "                Rpb2     513         Rpb2_513_pdb     1.0     Rpb2_509_518_pdb    10.0\n",
        "                Rpb2     514         Rpb2_514_pdb     1.0     Rpb2_509_518_pdb    10.0\n",
        "                Rpb2     515         Rpb2_515_pdb     1.0     Rpb2_509_518_pdb    10.0\n",
        "                Rpb2     516         Rpb2_516_pdb     1.0     Rpb2_509_518_pdb    10.0\n",
        "                Rpb2     517         Rpb2_517_pdb     1.0     Rpb2_509_518_pdb    10.0\n",
        "                Rpb2     518         Rpb2_518_pdb     1.0     Rpb2_509_518_pdb    10.0\n",
        "                Rpb2     519         Rpb2_519_pdb     1.0     Rpb2_519_528_pdb    10.0\n",
        "                Rpb2     520         Rpb2_520_pdb     1.0     Rpb2_519_528_pdb    10.0\n",
        "                Rpb2     521         Rpb2_521_pdb     1.0     Rpb2_519_528_pdb    10.0\n",
        "                Rpb2     522         Rpb2_522_pdb     1.0     Rpb2_519_528_pdb    10.0\n",
        "                Rpb2     523         Rpb2_523_pdb     1.0     Rpb2_519_528_pdb    10.0\n",
        "                Rpb2     524         Rpb2_524_pdb     1.0     Rpb2_519_528_pdb    10.0\n",
        "                Rpb2     525         Rpb2_525_pdb     1.0     Rpb2_519_528_pdb    10.0\n",
        "                Rpb2     526         Rpb2_526_pdb     1.0     Rpb2_519_528_pdb    10.0\n",
        "                Rpb2     527         Rpb2_527_pdb     1.0     Rpb2_519_528_pdb    10.0\n",
        "                Rpb2     528         Rpb2_528_pdb     1.0     Rpb2_519_528_pdb    10.0\n",
        "                Rpb2     529         Rpb2_529_pdb     1.0     Rpb2_529_538_pdb    10.0\n",
        "                Rpb2     530         Rpb2_530_pdb     1.0     Rpb2_529_538_pdb    10.0\n",
        "                Rpb2     531         Rpb2_531_pdb     1.0     Rpb2_529_538_pdb    10.0\n",
        "                Rpb2     532         Rpb2_532_pdb     1.0     Rpb2_529_538_pdb    10.0\n",
        "                Rpb2     533         Rpb2_533_pdb     1.0     Rpb2_529_538_pdb    10.0\n",
        "                Rpb2     534         Rpb2_534_pdb     1.0     Rpb2_529_538_pdb    10.0\n",
        "                Rpb2     535         Rpb2_535_pdb     1.0     Rpb2_529_538_pdb    10.0\n",
        "                Rpb2     536         Rpb2_536_pdb     1.0     Rpb2_529_538_pdb    10.0\n",
        "                Rpb2     537         Rpb2_537_pdb     1.0     Rpb2_529_538_pdb    10.0\n",
        "                Rpb2     538         Rpb2_538_pdb     1.0     Rpb2_529_538_pdb    10.0\n",
        "                Rpb2     539         Rpb2_539_pdb     1.0     Rpb2_539_548_pdb    10.0\n",
        "                Rpb2     540         Rpb2_540_pdb     1.0     Rpb2_539_548_pdb    10.0\n",
        "                Rpb2     541         Rpb2_541_pdb     1.0     Rpb2_539_548_pdb    10.0\n",
        "                Rpb2     542         Rpb2_542_pdb     1.0     Rpb2_539_548_pdb    10.0\n",
        "                Rpb2     543         Rpb2_543_pdb     1.0     Rpb2_539_548_pdb    10.0\n",
        "                Rpb2     544         Rpb2_544_pdb     1.0     Rpb2_539_548_pdb    10.0\n",
        "                Rpb2     545         Rpb2_545_pdb     1.0     Rpb2_539_548_pdb    10.0\n",
        "                Rpb2     546         Rpb2_546_pdb     1.0     Rpb2_539_548_pdb    10.0\n",
        "                Rpb2     547         Rpb2_547_pdb     1.0     Rpb2_539_548_pdb    10.0\n",
        "                Rpb2     548         Rpb2_548_pdb     1.0     Rpb2_539_548_pdb    10.0\n",
        "                Rpb2     549         Rpb2_549_pdb     1.0     Rpb2_549_558_pdb    10.0\n",
        "                Rpb2     550         Rpb2_550_pdb     1.0     Rpb2_549_558_pdb    10.0\n",
        "                Rpb2     551         Rpb2_551_pdb     1.0     Rpb2_549_558_pdb    10.0\n",
        "                Rpb2     552         Rpb2_552_pdb     1.0     Rpb2_549_558_pdb    10.0\n",
        "                Rpb2     553         Rpb2_553_pdb     1.0     Rpb2_549_558_pdb    10.0\n",
        "                Rpb2     554         Rpb2_554_pdb     1.0     Rpb2_549_558_pdb    10.0\n",
        "                Rpb2     555         Rpb2_555_pdb     1.0     Rpb2_549_558_pdb    10.0\n",
        "                Rpb2     556         Rpb2_556_pdb     1.0     Rpb2_549_558_pdb    10.0\n",
        "                Rpb2     557         Rpb2_557_pdb     1.0     Rpb2_549_558_pdb    10.0\n",
        "                Rpb2     558         Rpb2_558_pdb     1.0     Rpb2_549_558_pdb    10.0\n",
        "                Rpb2     559         Rpb2_559_pdb     1.0     Rpb2_559_568_pdb    10.0\n",
        "                Rpb2     560         Rpb2_560_pdb     1.0     Rpb2_559_568_pdb    10.0\n",
        "                Rpb2     561         Rpb2_561_pdb     1.0     Rpb2_559_568_pdb    10.0\n",
        "                Rpb2     562         Rpb2_562_pdb     1.0     Rpb2_559_568_pdb    10.0\n",
        "                Rpb2     563         Rpb2_563_pdb     1.0     Rpb2_559_568_pdb    10.0\n",
        "                Rpb2     564         Rpb2_564_pdb     1.0     Rpb2_559_568_pdb    10.0\n",
        "                Rpb2     565         Rpb2_565_pdb     1.0     Rpb2_559_568_pdb    10.0\n",
        "                Rpb2     566         Rpb2_566_pdb     1.0     Rpb2_559_568_pdb    10.0\n",
        "                Rpb2     567         Rpb2_567_pdb     1.0     Rpb2_559_568_pdb    10.0\n",
        "                Rpb2     568         Rpb2_568_pdb     1.0     Rpb2_559_568_pdb    10.0\n",
        "                Rpb2     569         Rpb2_569_pdb     1.0     Rpb2_569_578_pdb    10.0\n",
        "                Rpb2     570         Rpb2_570_pdb     1.0     Rpb2_569_578_pdb    10.0\n",
        "                Rpb2     571         Rpb2_571_pdb     1.0     Rpb2_569_578_pdb    10.0\n",
        "                Rpb2     572         Rpb2_572_pdb     1.0     Rpb2_569_578_pdb    10.0\n",
        "                Rpb2     573         Rpb2_573_pdb     1.0     Rpb2_569_578_pdb    10.0\n",
        "                Rpb2     574         Rpb2_574_pdb     1.0     Rpb2_569_578_pdb    10.0\n",
        "                Rpb2     575         Rpb2_575_pdb     1.0     Rpb2_569_578_pdb    10.0\n",
        "                Rpb2     576         Rpb2_576_pdb     1.0     Rpb2_569_578_pdb    10.0\n",
        "                Rpb2     577         Rpb2_577_pdb     1.0     Rpb2_569_578_pdb    10.0\n",
        "                Rpb2     578         Rpb2_578_pdb     1.0     Rpb2_569_578_pdb    10.0\n",
        "                Rpb2     579         Rpb2_579_pdb     1.0     Rpb2_579_588_pdb    10.0\n",
        "                Rpb2     580         Rpb2_580_pdb     1.0     Rpb2_579_588_pdb    10.0\n",
        "                Rpb2     581         Rpb2_581_pdb     1.0     Rpb2_579_588_pdb    10.0\n",
        "                Rpb2     582         Rpb2_582_pdb     1.0     Rpb2_579_588_pdb    10.0\n",
        "                Rpb2     583         Rpb2_583_pdb     1.0     Rpb2_579_588_pdb    10.0\n",
        "                Rpb2     584         Rpb2_584_pdb     1.0     Rpb2_579_588_pdb    10.0\n",
        "                Rpb2     585         Rpb2_585_pdb     1.0     Rpb2_579_588_pdb    10.0\n",
        "                Rpb2     586         Rpb2_586_pdb     1.0     Rpb2_579_588_pdb    10.0\n",
        "                Rpb2     587         Rpb2_587_pdb     1.0     Rpb2_579_588_pdb    10.0\n",
        "                Rpb2     588         Rpb2_588_pdb     1.0     Rpb2_579_588_pdb    10.0\n",
        "                Rpb2     589         Rpb2_589_pdb     1.0     Rpb2_589_598_pdb    10.0\n",
        "                Rpb2     590         Rpb2_590_pdb     1.0     Rpb2_589_598_pdb    10.0\n",
        "                Rpb2     591         Rpb2_591_pdb     1.0     Rpb2_589_598_pdb    10.0\n",
        "                Rpb2     592         Rpb2_592_pdb     1.0     Rpb2_589_598_pdb    10.0\n",
        "                Rpb2     593         Rpb2_593_pdb     1.0     Rpb2_589_598_pdb    10.0\n",
        "                Rpb2     594         Rpb2_594_pdb     1.0     Rpb2_589_598_pdb    10.0\n",
        "                Rpb2     595         Rpb2_595_pdb     1.0     Rpb2_589_598_pdb    10.0\n",
        "                Rpb2     596         Rpb2_596_pdb     1.0     Rpb2_589_598_pdb    10.0\n",
        "                Rpb2     597         Rpb2_597_pdb     1.0     Rpb2_589_598_pdb    10.0\n",
        "                Rpb2     598         Rpb2_598_pdb     1.0     Rpb2_589_598_pdb    10.0\n",
        "                Rpb2     599         Rpb2_599_pdb     1.0     Rpb2_599_608_pdb    10.0\n",
        "                Rpb2     600         Rpb2_600_pdb     1.0     Rpb2_599_608_pdb    10.0\n",
        "                Rpb2     601         Rpb2_601_pdb     1.0     Rpb2_599_608_pdb    10.0\n",
        "                Rpb2     602         Rpb2_602_pdb     1.0     Rpb2_599_608_pdb    10.0\n",
        "                Rpb2     603         Rpb2_603_pdb     1.0     Rpb2_599_608_pdb    10.0\n",
        "                Rpb2     604         Rpb2_604_pdb     1.0     Rpb2_599_608_pdb    10.0\n",
        "                Rpb2     605         Rpb2_605_pdb     1.0     Rpb2_599_608_pdb    10.0\n",
        "                Rpb2     606         Rpb2_606_pdb     1.0     Rpb2_599_608_pdb    10.0\n",
        "                Rpb2     607         Rpb2_607_pdb     1.0     Rpb2_599_608_pdb    10.0\n",
        "                Rpb2     608         Rpb2_608_pdb     1.0     Rpb2_599_608_pdb    10.0\n",
        "                Rpb2     609         Rpb2_609_pdb     1.0     Rpb2_609_618_pdb    10.0\n",
        "                Rpb2     610         Rpb2_610_pdb     1.0     Rpb2_609_618_pdb    10.0\n",
        "                Rpb2     611         Rpb2_611_pdb     1.0     Rpb2_609_618_pdb    10.0\n",
        "                Rpb2     612         Rpb2_612_pdb     1.0     Rpb2_609_618_pdb    10.0\n",
        "                Rpb2     613         Rpb2_613_pdb     1.0     Rpb2_609_618_pdb    10.0\n",
        "                Rpb2     614         Rpb2_614_pdb     1.0     Rpb2_609_618_pdb    10.0\n",
        "                Rpb2     615         Rpb2_615_pdb     1.0     Rpb2_609_618_pdb    10.0\n",
        "                Rpb2     616         Rpb2_616_pdb     1.0     Rpb2_609_618_pdb    10.0\n",
        "                Rpb2     617         Rpb2_617_pdb     1.0     Rpb2_609_618_pdb    10.0\n",
        "                Rpb2     618         Rpb2_618_pdb     1.0     Rpb2_609_618_pdb    10.0\n",
        "                Rpb2     619         Rpb2_619_pdb     1.0     Rpb2_619_628_pdb    10.0\n",
        "                Rpb2     620         Rpb2_620_pdb     1.0     Rpb2_619_628_pdb    10.0\n",
        "                Rpb2     621         Rpb2_621_pdb     1.0     Rpb2_619_628_pdb    10.0\n",
        "                Rpb2     622         Rpb2_622_pdb     1.0     Rpb2_619_628_pdb    10.0\n",
        "                Rpb2     623         Rpb2_623_pdb     1.0     Rpb2_619_628_pdb    10.0\n",
        "                Rpb2     624         Rpb2_624_pdb     1.0     Rpb2_619_628_pdb    10.0\n",
        "                Rpb2     625         Rpb2_625_pdb     1.0     Rpb2_619_628_pdb    10.0\n",
        "                Rpb2     626         Rpb2_626_pdb     1.0     Rpb2_619_628_pdb    10.0\n",
        "                Rpb2     627         Rpb2_627_pdb     1.0     Rpb2_619_628_pdb    10.0\n",
        "                Rpb2     628         Rpb2_628_pdb     1.0     Rpb2_619_628_pdb    10.0\n",
        "                Rpb2     629         Rpb2_629_pdb     1.0     Rpb2_629_638_pdb    10.0\n",
        "                Rpb2     630         Rpb2_630_pdb     1.0     Rpb2_629_638_pdb    10.0\n",
        "                Rpb2     631         Rpb2_631_pdb     1.0     Rpb2_629_638_pdb    10.0\n",
        "                Rpb2     632         Rpb2_632_pdb     1.0     Rpb2_629_638_pdb    10.0\n",
        "                Rpb2     633         Rpb2_633_pdb     1.0     Rpb2_629_638_pdb    10.0\n",
        "                Rpb2     634         Rpb2_634_pdb     1.0     Rpb2_629_638_pdb    10.0\n",
        "                Rpb2     635         Rpb2_635_pdb     1.0     Rpb2_629_638_pdb    10.0\n",
        "                Rpb2     636         Rpb2_636_pdb     1.0     Rpb2_629_638_pdb    10.0\n",
        "                Rpb2     637         Rpb2_637_pdb     1.0     Rpb2_629_638_pdb    10.0\n",
        "                Rpb2     638         Rpb2_638_pdb     1.0     Rpb2_629_638_pdb    10.0\n",
        "                Rpb2     639         Rpb2_639_pdb     1.0     Rpb2_639_648_pdb    10.0\n",
        "                Rpb2     640         Rpb2_640_pdb     1.0     Rpb2_639_648_pdb    10.0\n",
        "                Rpb2     641         Rpb2_641_pdb     1.0     Rpb2_639_648_pdb    10.0\n",
        "                Rpb2     642         Rpb2_642_pdb     1.0     Rpb2_639_648_pdb    10.0\n",
        "                Rpb2     643         Rpb2_643_pdb     1.0     Rpb2_639_648_pdb    10.0\n",
        "                Rpb2     644         Rpb2_644_pdb     1.0     Rpb2_639_648_pdb    10.0\n",
        "                Rpb2     645         Rpb2_645_pdb     1.0     Rpb2_639_648_pdb    10.0\n",
        "                Rpb2     646         Rpb2_646_pdb     1.0     Rpb2_639_648_pdb    10.0\n",
        "                Rpb2     647         Rpb2_647_pdb     1.0     Rpb2_639_648_pdb    10.0\n",
        "                Rpb2     648         Rpb2_648_pdb     1.0     Rpb2_639_648_pdb    10.0\n",
        "                Rpb2     649         Rpb2_649_pdb     1.0     Rpb2_649_658_pdb    10.0\n",
        "                Rpb2     650         Rpb2_650_pdb     1.0     Rpb2_649_658_pdb    10.0\n",
        "                Rpb2     651         Rpb2_651_pdb     1.0     Rpb2_649_658_pdb    10.0\n",
        "                Rpb2     652         Rpb2_652_pdb     1.0     Rpb2_649_658_pdb    10.0\n",
        "                Rpb2     653         Rpb2_653_pdb     1.0     Rpb2_649_658_pdb    10.0\n",
        "                Rpb2     654         Rpb2_654_pdb     1.0     Rpb2_649_658_pdb    10.0\n",
        "                Rpb2     655         Rpb2_655_pdb     1.0     Rpb2_649_658_pdb    10.0\n",
        "                Rpb2     656         Rpb2_656_pdb     1.0     Rpb2_649_658_pdb    10.0\n",
        "                Rpb2     657         Rpb2_657_pdb     1.0     Rpb2_649_658_pdb    10.0\n",
        "                Rpb2     658         Rpb2_658_pdb     1.0     Rpb2_649_658_pdb    10.0\n",
        "                Rpb2     659         Rpb2_659_pdb     1.0     Rpb2_659_668_pdb    10.0\n",
        "                Rpb2     660         Rpb2_660_pdb     1.0     Rpb2_659_668_pdb    10.0\n",
        "                Rpb2     661         Rpb2_661_pdb     1.0     Rpb2_659_668_pdb    10.0\n",
        "                Rpb2     662         Rpb2_662_pdb     1.0     Rpb2_659_668_pdb    10.0\n",
        "                Rpb2     663         Rpb2_663_pdb     1.0     Rpb2_659_668_pdb    10.0\n",
        "                Rpb2     664         Rpb2_664_pdb     1.0     Rpb2_659_668_pdb    10.0\n",
        "                Rpb2     665         Rpb2_665_pdb     1.0     Rpb2_659_668_pdb    10.0\n",
        "                Rpb2     666         Rpb2_666_pdb     1.0     Rpb2_659_668_pdb    10.0\n",
        "                Rpb2     667         Rpb2_667_pdb     1.0     Rpb2_659_668_pdb    10.0\n",
        "                Rpb2     668         Rpb2_668_pdb     1.0     Rpb2_659_668_pdb    10.0\n",
        "                Rpb2     669 "
       ]
      },
      {
       "output_type": "stream",
       "stream": "stdout",
       "text": [
        "   Rpb2_669-677_bead     9.0\n",
        "                Rpb2     670    Rpb2_669-677_bead     9.0\n",
        "                Rpb2     671    Rpb2_669-677_bead     9.0\n",
        "                Rpb2     672    Rpb2_669-677_bead     9.0\n",
        "                Rpb2     673    Rpb2_669-677_bead     9.0\n",
        "                Rpb2     674    Rpb2_669-677_bead     9.0\n",
        "                Rpb2     675    Rpb2_669-677_bead     9.0\n",
        "                Rpb2     676    Rpb2_669-677_bead     9.0\n",
        "                Rpb2     677    Rpb2_669-677_bead     9.0\n",
        "                Rpb2     678         Rpb2_678_pdb     1.0     Rpb2_678_687_pdb    10.0\n",
        "                Rpb2     679         Rpb2_679_pdb     1.0     Rpb2_678_687_pdb    10.0\n",
        "                Rpb2     680         Rpb2_680_pdb     1.0     Rpb2_678_687_pdb    10.0\n",
        "                Rpb2     681         Rpb2_681_pdb     1.0     Rpb2_678_687_pdb    10.0\n",
        "                Rpb2     682         Rpb2_682_pdb     1.0     Rpb2_678_687_pdb    10.0\n",
        "                Rpb2     683         Rpb2_683_pdb     1.0     Rpb2_678_687_pdb    10.0\n",
        "                Rpb2     684         Rpb2_684_pdb     1.0     Rpb2_678_687_pdb    10.0\n",
        "                Rpb2     685         Rpb2_685_pdb     1.0     Rpb2_678_687_pdb    10.0\n",
        "                Rpb2     686         Rpb2_686_pdb     1.0     Rpb2_678_687_pdb    10.0\n",
        "                Rpb2     687         Rpb2_687_pdb     1.0     Rpb2_678_687_pdb    10.0\n",
        "                Rpb2     688         Rpb2_688_pdb     1.0     Rpb2_688_697_pdb    10.0\n",
        "                Rpb2     689         Rpb2_689_pdb     1.0     Rpb2_688_697_pdb    10.0\n",
        "                Rpb2     690         Rpb2_690_pdb     1.0     Rpb2_688_697_pdb    10.0\n",
        "                Rpb2     691         Rpb2_691_pdb     1.0     Rpb2_688_697_pdb    10.0\n",
        "                Rpb2     692         Rpb2_692_pdb     1.0     Rpb2_688_697_pdb    10.0\n",
        "                Rpb2     693         Rpb2_693_pdb     1.0     Rpb2_688_697_pdb    10.0\n",
        "                Rpb2     694         Rpb2_694_pdb     1.0     Rpb2_688_697_pdb    10.0\n",
        "                Rpb2     695         Rpb2_695_pdb     1.0     Rpb2_688_697_pdb    10.0\n",
        "                Rpb2     696         Rpb2_696_pdb     1.0     Rpb2_688_697_pdb    10.0\n",
        "                Rpb2     697         Rpb2_697_pdb     1.0     Rpb2_688_697_pdb    10.0\n",
        "                Rpb2     698         Rpb2_698_pdb     1.0     Rpb2_698_707_pdb    10.0\n",
        "                Rpb2     699         Rpb2_699_pdb     1.0     Rpb2_698_707_pdb    10.0\n",
        "                Rpb2     700         Rpb2_700_pdb     1.0     Rpb2_698_707_pdb    10.0\n",
        "                Rpb2     701         Rpb2_701_pdb     1.0     Rpb2_698_707_pdb    10.0\n",
        "                Rpb2     702         Rpb2_702_pdb     1.0     Rpb2_698_707_pdb    10.0\n",
        "                Rpb2     703         Rpb2_703_pdb     1.0     Rpb2_698_707_pdb    10.0\n",
        "                Rpb2     704         Rpb2_704_pdb     1.0     Rpb2_698_707_pdb    10.0\n",
        "                Rpb2     705         Rpb2_705_pdb     1.0     Rpb2_698_707_pdb    10.0\n",
        "                Rpb2     706         Rpb2_706_pdb     1.0     Rpb2_698_707_pdb    10.0\n",
        "                Rpb2     707         Rpb2_707_pdb     1.0     Rpb2_698_707_pdb    10.0\n",
        "                Rpb2     708         Rpb2_708_pdb     1.0     Rpb2_708_715_pdb    10.0\n",
        "                Rpb2     709         Rpb2_709_pdb     1.0     Rpb2_708_715_pdb    10.0\n",
        "                Rpb2     710         Rpb2_710_pdb     1.0     Rpb2_708_715_pdb    10.0\n",
        "                Rpb2     711         Rpb2_711_pdb     1.0     Rpb2_708_715_pdb    10.0\n",
        "                Rpb2     712         Rpb2_712_pdb     1.0     Rpb2_708_715_pdb    10.0\n",
        "                Rpb2     713         Rpb2_713_pdb     1.0     Rpb2_708_715_pdb    10.0\n",
        "                Rpb2     714         Rpb2_714_pdb     1.0     Rpb2_708_715_pdb    10.0\n",
        "                Rpb2     715 "
       ]
      },
      {
       "output_type": "stream",
       "stream": "stdout",
       "text": [
        "        Rpb2_715_pdb     1.0     Rpb2_708_715_pdb    10.0\n",
        "                Rpb2     716    Rpb2_716-721_bead     6.0\n",
        "                Rpb2     717    Rpb2_716-721_bead     6.0\n",
        "                Rpb2     718    Rpb2_716-721_bead     6.0\n",
        "                Rpb2     719    Rpb2_716-721_bead     6.0\n",
        "                Rpb2     720    Rpb2_716-721_bead     6.0\n",
        "                Rpb2     721    Rpb2_716-721_bead     6.0\n",
        "                Rpb2     722         Rpb2_722_pdb     1.0     Rpb2_722_731_pdb    10.0\n",
        "                Rpb2     723         Rpb2_723_pdb     1.0     Rpb2_722_731_pdb    10.0\n",
        "                Rpb2     724         Rpb2_724_pdb     1.0     Rpb2_722_731_pdb    10.0\n",
        "                Rpb2     725         Rpb2_725_pdb     1.0     Rpb2_722_731_pdb    10.0\n",
        "                Rpb2     726         Rpb2_726_pdb     1.0     Rpb2_722_731_pdb    10.0\n",
        "                Rpb2     727         Rpb2_727_pdb     1.0     Rpb2_722_731_pdb    10.0\n",
        "                Rpb2     728         Rpb2_728_pdb     1.0     Rpb2_722_731_pdb    10.0\n",
        "                Rpb2     729         Rpb2_729_pdb     1.0     Rpb2_722_731_pdb    10.0\n",
        "                Rpb2     730         Rpb2_730_pdb     1.0     Rpb2_722_731_pdb    10.0\n",
        "                Rpb2     731         Rpb2_731_pdb     1.0     Rpb2_722_731_pdb    10.0\n",
        "                Rpb2     732         Rpb2_732_pdb     1.0     Rpb2_732_741_pdb    10.0\n",
        "                Rpb2     733         Rpb2_733_pdb     1.0     Rpb2_732_741_pdb    10.0\n",
        "                Rpb2     734         Rpb2_734_pdb     1.0     Rpb2_732_741_pdb    10.0\n",
        "                Rpb2     735         Rpb2_735_pdb     1.0     Rpb2_732_741_pdb    10.0\n",
        "                Rpb2     736         Rpb2_736_pdb     1.0     Rpb2_732_741_pdb    10.0\n",
        "                Rpb2     737         Rpb2_737_pdb     1.0     Rpb2_732_741_pdb    10.0\n",
        "                Rpb2     738         Rpb2_738_pdb     1.0     Rpb2_732_741_pdb    10.0\n",
        "                Rpb2     739         Rpb2_739_pdb     1.0     Rpb2_732_741_pdb    10.0\n",
        "                Rpb2     740         Rpb2_740_pdb     1.0     Rpb2_732_741_pdb    10.0\n",
        "                Rpb2     741         Rpb2_741_pdb     1.0     Rpb2_732_741_pdb    10.0\n",
        "                Rpb2     742         Rpb2_742_pdb     1.0     Rpb2_742_751_pdb    10.0\n",
        "                Rpb2     743         Rpb2_743_pdb     1.0     Rpb2_742_751_pdb    10.0\n",
        "                Rpb2     744         Rpb2_744_pdb     1.0     Rpb2_742_751_pdb    10.0\n",
        "                Rpb2     745         Rpb2_745_pdb     1.0     Rpb2_742_751_pdb    10.0\n",
        "                Rpb2     746         Rpb2_746_pdb     1.0     Rpb2_742_751_pdb    10.0\n",
        "                Rpb2     747         Rpb2_747_pdb     1.0     Rpb2_742_751_pdb    10.0\n",
        "                Rpb2     748         Rpb2_748_pdb     1.0     Rpb2_742_751_pdb    10.0\n",
        "                Rpb2     749         Rpb2_749_pdb     1.0     Rpb2_742_751_pdb    10.0\n",
        "                Rpb2     750         Rpb2_750_pdb     1.0     Rpb2_742_751_pdb    10.0\n",
        "                Rpb2     751         Rpb2_751_pdb     1.0     Rpb2_742_751_pdb    10.0\n",
        "                Rpb2     752         Rpb2_752_pdb     1.0     Rpb2_752_761_pdb    10.0\n",
        "                Rpb2     753         Rpb2_753_pdb     1.0     Rpb2_752_761_pdb    10.0\n",
        "                Rpb2     754         Rpb2_754_pdb     1.0     Rpb2_752_761_pdb    10.0\n",
        "                Rpb2     755         Rpb2_755_pdb     1.0     Rpb2_752_761_pdb    10.0\n",
        "                Rpb2     756         Rpb2_756_pdb     1.0     Rpb2_752_761_pdb    10.0\n",
        "                Rpb2     757         Rpb2_757_pdb     1.0     Rpb2_752_761_pdb    10.0\n",
        "                Rpb2     758         Rpb2_758_pdb     1.0     Rpb2_752_761_pdb    10.0\n",
        "                Rpb2     759         Rpb2_759_pdb     1.0     Rpb2_752_761_pdb    10.0\n",
        "                Rpb2     760         Rpb2_760_pdb     1.0     Rpb2_752_761_pdb    10.0\n",
        "                Rpb2     761         Rpb2_761_pdb     1.0     Rpb2_752_761_pdb    10.0\n",
        "                Rpb2     762         Rpb2_762_pdb     1.0     Rpb2_762_771_pdb    10.0\n",
        "                Rpb2     763         Rpb2_763_pdb     1.0     Rpb2_762_771_pdb    10.0\n",
        "                Rpb2     764         Rpb2_764_pdb     1.0     Rpb2_762_771_pdb    10.0\n",
        "                Rpb2     765         Rpb2_765_pdb     1.0     Rpb2_762_771_pdb    10.0\n",
        "                Rpb2     766         Rpb2_766_pdb     1.0     Rpb2_762_771_pdb    10.0\n",
        "                Rpb2     767         Rpb2_767_pdb     1.0     Rpb2_762_771_pdb    10.0\n",
        "                Rpb2     768         Rpb2_768_pdb     1.0     Rpb2_762_771_pdb    10.0\n",
        "                Rpb2     769         Rpb2_769_pdb     1.0     Rpb2_762_771_pdb    10.0\n",
        "                Rpb2     770         Rpb2_770_pdb     1.0     Rpb2_762_771_pdb    10.0\n",
        "                Rpb2     771         Rpb2_771_pdb     1.0     Rpb2_762_771_pdb    10.0\n",
        "                Rpb2     772         Rpb2_772_pdb     1.0     Rpb2_772_781_pdb    10.0\n",
        "                Rpb2     773         Rpb2_773_pdb     1.0     Rpb2_772_781_pdb    10.0\n",
        "                Rpb2     774         Rpb2_774_pdb     1.0     Rpb2_772_781_pdb    10.0\n",
        "                Rpb2     775         Rpb2_775_pdb     1.0     Rpb2_772_781_pdb    10.0\n",
        "                Rpb2     776         Rpb2_776_pdb     1.0     Rpb2_772_781_pdb    10.0\n",
        "                Rpb2     777         Rpb2_777_pdb     1.0     Rpb2_772_781_pdb    10.0\n",
        "                Rpb2     778         Rpb2_778_pdb     1.0     Rpb2_772_781_pdb    10.0\n",
        "                Rpb2     779         Rpb2_779_pdb     1.0     Rpb2_772_781_pdb    10.0\n",
        "                Rpb2     780         Rpb2_780_pdb     1.0     Rpb2_772_781_pdb    10.0\n",
        "                Rpb2     781         Rpb2_781_pdb     1.0     Rpb2_772_781_pdb    10.0\n",
        "                Rpb2     782         Rpb2_782_pdb     1.0     Rpb2_782_791_pdb    10.0\n",
        "                Rpb2     783         Rpb2_783_pdb     1.0     Rpb2_782_791_pdb    10.0\n",
        "                Rpb2     784         Rpb2_784_pdb     1.0     Rpb2_782_791_pdb    10.0\n",
        "                Rpb2     785         Rpb2_785_pdb     1.0     Rpb2_782_791_pdb    10.0\n",
        "                Rpb2     786         Rpb2_786_pdb     1.0     Rpb2_782_791_pdb    10.0\n",
        "                Rpb2     787         Rpb2_787_pdb     1.0     Rpb2_782_791_pdb    10.0\n",
        "                Rpb2     788         Rpb2_788_pdb     1.0     Rpb2_782_791_pdb    10.0\n",
        "                Rpb2     789         Rpb2_789_pdb     1.0     Rpb2_782_791_pdb    10.0\n",
        "                Rpb2     790         Rpb2_790_pdb     1.0     Rpb2_782_791_pdb    10.0\n",
        "                Rpb2     791         Rpb2_791_pdb     1.0     Rpb2_782_791_pdb    10.0\n",
        "                Rpb2     792         Rpb2_792_pdb     1.0     Rpb2_792_801_pdb    10.0\n",
        "                Rpb2     793         Rpb2_793_pdb     1.0     Rpb2_792_801_pdb    10.0\n",
        "                Rpb2     794         Rpb2_794_pdb     1.0     Rpb2_792_801_pdb    10.0\n",
        "                Rpb2     795         Rpb2_795_pdb     1.0     Rpb2_792_801_pdb    10.0\n",
        "                Rpb2     796         Rpb2_796_pdb     1.0     Rpb2_792_801_pdb    10.0\n",
        "                Rpb2     797         Rpb2_797_pdb     1.0     Rpb2_792_801_pdb    10.0\n",
        "                Rpb2     798         Rpb2_798_pdb     1.0     Rpb2_792_801_pdb    10.0\n",
        "                Rpb2     799         Rpb2_799_pdb     1.0     Rpb2_792_801_pdb    10.0\n",
        "                Rpb2     800         Rpb2_800_pdb     1.0     Rpb2_792_801_pdb    10.0\n",
        "                Rpb2     801         Rpb2_801_pdb     1.0     Rpb2_792_801_pdb    10.0\n",
        "                Rpb2     802         Rpb2_802_pdb     1.0     Rpb2_802_811_pdb    10.0\n",
        "                Rpb2     803         Rpb2_803_pdb     1.0     Rpb2_802_811_pdb    10.0\n",
        "                Rpb2     804         Rpb2_804_pdb     1.0     Rpb2_802_811_pdb    10.0\n",
        "                Rpb2     805         Rpb2_805_pdb     1.0     Rpb2_802_811_pdb    10.0\n",
        "                Rpb2     806         Rpb2_806_pdb     1.0     Rpb2_802_811_pdb    10.0\n",
        "                Rpb2     807         Rpb2_807_pdb     1.0     Rpb2_802_811_pdb    10.0\n",
        "                Rpb2     808         Rpb2_808_pdb     1.0     Rpb2_802_811_pdb    10.0\n",
        "                Rpb2     809         Rpb2_809_pdb     1.0     Rpb2_802_811_pdb    10.0\n",
        "                Rpb2     810         Rpb2_810_pdb     1.0     Rpb2_802_811_pdb    10.0\n",
        "                Rpb2     811         Rpb2_811_pdb     1.0     Rpb2_802_811_pdb    10.0\n",
        "                Rpb2     812         Rpb2_812_pdb     1.0     Rpb2_812_821_pdb    10.0\n",
        "                Rpb2     813         Rpb2_813_pdb     1.0     Rpb2_812_821_pdb    10.0\n",
        "                Rpb2     814         Rpb2_814_pdb     1.0     Rpb2_812_821_pdb    10.0\n",
        "                Rpb2     815         Rpb2_815_pdb     1.0     Rpb2_812_821_pdb    10.0\n",
        "                Rpb2     816         Rpb2_816_pdb     1.0     Rpb2_812_821_pdb    10.0\n",
        "                Rpb2     817         Rpb2_817_pdb     1.0     Rpb2_812_821_pdb    10.0\n",
        "                Rpb2     818         Rpb2_818_pdb     1.0     Rpb2_812_821_pdb    10.0\n",
        "                Rpb2     819         Rpb2_819_pdb     1.0     Rpb2_812_821_pdb    10.0\n",
        "                Rpb2     820         Rpb2_820_pdb     1.0     Rpb2_812_821_pdb    10.0\n",
        "                Rpb2     821         Rpb2_821_pdb     1.0     Rpb2_812_821_pdb    10.0\n",
        "                Rpb2     822         Rpb2_822_pdb     1.0     Rpb2_822_831_pdb    10.0\n",
        "                Rpb2     823         Rpb2_823_pdb     1.0     Rpb2_822_831_pdb    10.0\n",
        "                Rpb2     824         Rpb2_824_pdb     1.0     Rpb2_822_831_pdb    10.0\n",
        "                Rpb2     825         Rpb2_825_pdb     1.0     Rpb2_822_831_pdb    10.0\n",
        "                Rpb2     826         Rpb2_826_pdb     1.0     Rpb2_822_831_pdb    10.0\n",
        "                Rpb2     827         Rpb2_827_pdb     1.0     Rpb2_822_831_pdb    10.0\n",
        "                Rpb2     828         Rpb2_828_pdb     1.0     Rpb2_822_831_pdb    10.0\n",
        "                Rpb2     829         Rpb2_829_pdb     1.0     Rpb2_822_831_pdb    10.0\n",
        "                Rpb2     830         Rpb2_830_pdb     1.0     Rpb2_822_831_pdb    10.0\n",
        "                Rpb2     831         Rpb2_831_pdb     1.0     Rpb2_822_831_pdb    10.0\n",
        "                Rpb2     832         Rpb2_832_pdb     1.0     Rpb2_832_841_pdb    10.0\n",
        "                Rpb2     833         Rpb2_833_pdb     1.0     Rpb2_832_841_pdb    10.0\n",
        "                Rpb2     834         Rpb2_834_pdb     1.0     Rpb2_832_841_pdb    10.0\n",
        "                Rpb2     835         Rpb2_835_pdb     1.0     Rpb2_832_841_pdb    10.0\n",
        "                Rpb2     836         Rpb2_836_pdb     1.0     Rpb2_832_841_pdb    10.0\n",
        "                Rpb2     837         Rpb2_837_pdb     1.0     Rpb2_832_841_pdb    10.0\n",
        "                Rpb2     838         Rpb2_838_pdb     1.0     Rpb2_832_841_pdb    10.0\n",
        "                Rpb2     839         Rpb2_839_pdb     1.0     Rpb2_832_841_pdb    10.0\n",
        "                Rpb2     840         Rpb2_840_pdb     1.0     Rpb2_832_841_pdb    10.0\n",
        "                Rpb2     841         Rpb2_841_pdb     1.0     Rpb2_832_841_pdb    10.0\n",
        "                Rpb2     842         Rpb2_842_pdb     1.0     Rpb2_842_851_pdb    10.0\n",
        "                Rpb2     843         Rpb2_843_pdb     1.0     Rpb2_842_851_pdb    10.0\n",
        "                Rpb2     844         Rpb2_844_pdb     1.0     Rpb2_842_851_pdb    10.0\n",
        "                Rpb2     845         Rpb2_845_pdb     1.0     Rpb2_842_851_pdb    10.0\n",
        "                Rpb2     846         Rpb2_846_pdb     1.0     Rpb2_842_851_pdb    10.0\n",
        "                Rpb2     847         Rpb2_847_pdb     1.0     Rpb2_842_851_pdb    10.0\n",
        "                Rpb2     848         Rpb2_848_pdb     1.0     Rpb2_842_851_pdb    10.0\n",
        "                Rpb2     849         Rpb2_849_pdb     1.0     Rpb2_842_851_pdb    10.0\n",
        "                Rpb2     850         Rpb2_850_pdb     1.0     Rpb2_842_851_pdb    10.0\n",
        "                Rpb2     851         Rpb2_851_pdb     1.0     Rpb2_842_851_pdb    10.0\n",
        "                Rpb2     852         Rpb2_852_pdb     1.0     Rpb2_852_861_pdb    10.0\n",
        "                Rpb2     853         Rpb2_853_pdb     1.0     Rpb2_852_861_pdb    10.0\n",
        "                Rpb2     854         Rpb2_854_pdb     1.0     Rpb2_852_861_pdb    10.0\n",
        "                Rpb2     855         Rpb2_855_pdb     1.0     Rpb2_852_861_pdb    10.0\n",
        "                Rpb2     856         Rpb2_856_pdb     1.0     Rpb2_852_861_pdb    10.0\n",
        "                Rpb2     857         Rpb2_857_pdb     1.0     Rpb2_852_861_pdb    10.0\n",
        "                Rpb2     858         Rpb2_858_pdb     1.0     Rpb2_852_861_pdb    10.0\n",
        "                Rpb2     859         Rpb2_859_pdb     1.0     Rpb2_852_861_pdb    10.0\n",
        "                Rpb2     860         Rpb2_860_pdb     1.0     Rpb2_852_861_pdb    10.0\n",
        "                Rpb2     861         Rpb2_861_pdb     1.0     Rpb2_852_861_pdb    10.0\n",
        "                Rpb2     862         Rpb2_862_pdb     1.0     Rpb2_862_871_pdb    10.0\n",
        "                Rpb2     863         Rpb2_863_pdb     1.0     Rpb2_862_871_pdb    10.0\n",
        "                Rpb2     864         Rpb2_864_pdb     1.0     Rpb2_862_871_pdb    10.0\n",
        "                Rpb2     865         Rpb2_865_pdb     1.0     Rpb2_862_871_pdb    10.0\n",
        "                Rpb2     866         Rpb2_866_pdb     1.0     Rpb2_862_871_pdb    10.0\n",
        "                Rpb2     867         Rpb2_867_pdb     1.0     Rpb2_862_871_pdb    10.0\n",
        "                Rpb2     868         Rpb2_868_pdb     1.0     Rpb2_862_871_pdb    10.0\n",
        "                Rpb2     869         Rpb2_869_pdb     1.0     Rpb2_862_871_pdb    10.0\n",
        "                Rpb2     870         Rpb2_870_pdb     1.0     Rpb2_862_871_pdb    10.0\n",
        "                Rpb2     871         Rpb2_871_pdb     1.0     Rpb2_862_871_pdb    10.0\n",
        "                Rpb2     872         Rpb2_872_pdb     1.0     Rpb2_872_881_pdb    10.0\n",
        "                Rpb2     873         Rpb2_873_pdb     1.0     Rpb2_872_881_pdb    10.0\n",
        "                Rpb2     874         Rpb2_874_pdb     1.0     Rpb2_872_881_pdb    10.0\n",
        "                Rpb2     875         Rpb2_875_pdb     1.0     Rpb2_872_881_pdb    10.0\n",
        "                Rpb2     876         Rpb2_876_pdb     1.0     Rpb2_872_881_pdb    10.0\n",
        "                Rpb2     877         Rpb2_877_pdb     1.0     Rpb2_872_881_pdb    10.0\n",
        "                Rpb2     878         Rpb2_878_pdb     1.0     Rpb2_872_881_pdb    10.0\n",
        "                Rpb2     879         Rpb2_879_pdb     1.0     Rpb2_872_881_pdb    10.0\n",
        "                Rpb2     880         Rpb2_880_pdb     1.0     Rpb2_872_881_pdb    10.0\n",
        "                Rpb2     881         Rpb2_881_pdb     1.0     Rpb2_872_881_pdb    10.0\n",
        "                Rpb2     882         Rpb2_882_pdb     1.0     Rpb2_882_891_pdb    10.0\n",
        "                Rpb2     883         Rpb2_883_pdb     1.0     Rpb2_882_891_pdb    10.0\n",
        "                Rpb2     884         Rpb2_884_pdb     1.0     Rpb2_882_891_pdb    10.0\n",
        "                Rpb2     885         Rpb2_885_pdb     1.0     Rpb2_882_891_pdb    10.0\n",
        "                Rpb2     886         Rpb2_886_pdb     1.0     Rpb2_882_891_pdb    10.0\n",
        "                Rpb2     887         Rpb2_887_pdb     1.0     Rpb2_882_891_pdb    10.0\n",
        "                Rpb2     888         Rpb2_888_pdb     1.0     Rpb2_882_891_pdb    10.0\n",
        "                Rpb2     889         Rpb2_889_pdb     1.0     Rpb2_882_891_pdb    10.0\n",
        "                Rpb2     890         Rpb2_890_pdb     1.0     Rpb2_882_891_pdb    10.0\n",
        "                Rpb2     891         Rpb2_891_pdb     1.0     Rpb2_882_891_pdb    10.0\n",
        "                Rpb2     892         Rpb2_892_pdb     1.0     Rpb2_892_901_pdb    10.0\n",
        "                Rpb2     893         Rpb2_893_pdb     1.0     Rpb2_892_901_pdb    10.0\n",
        "                Rpb2     894         Rpb2_894_pdb     1.0     Rpb2_892_901_pdb    10.0\n",
        "                Rpb2     895         Rpb2_895_pdb     1.0     Rpb2_892_901_pdb    10.0\n",
        "                Rpb2     896 "
       ]
      },
      {
       "output_type": "stream",
       "stream": "stdout",
       "text": [
        "        Rpb2_896_pdb     1.0     Rpb2_892_901_pdb    10.0\n",
        "                Rpb2     897         Rpb2_897_pdb     1.0     Rpb2_892_901_pdb    10.0\n",
        "                Rpb2     898         Rpb2_898_pdb     1.0     Rpb2_892_901_pdb    10.0\n",
        "                Rpb2     899         Rpb2_899_pdb     1.0     Rpb2_892_901_pdb    10.0\n",
        "                Rpb2     900         Rpb2_900_pdb     1.0     Rpb2_892_901_pdb    10.0\n",
        "                Rpb2     901         Rpb2_901_pdb     1.0     Rpb2_892_901_pdb    10.0\n",
        "                Rpb2     902         Rpb2_902_pdb     1.0     Rpb2_902_911_pdb    10.0\n",
        "                Rpb2     903         Rpb2_903_pdb     1.0     Rpb2_902_911_pdb    10.0\n",
        "                Rpb2     904         Rpb2_904_pdb     1.0     Rpb2_902_911_pdb    10.0\n",
        "                Rpb2     905         Rpb2_905_pdb     1.0     Rpb2_902_911_pdb    10.0\n",
        "                Rpb2     906         Rpb2_906_pdb     1.0     Rpb2_902_911_pdb    10.0\n",
        "                Rpb2     907         Rpb2_907_pdb     1.0     Rpb2_902_911_pdb    10.0\n",
        "                Rpb2     908         Rpb2_908_pdb     1.0     Rpb2_902_911_pdb    10.0\n",
        "                Rpb2     909         Rpb2_909_pdb     1.0     Rpb2_902_911_pdb    10.0\n",
        "                Rpb2     910         Rpb2_910_pdb     1.0     Rpb2_902_911_pdb    10.0\n",
        "                Rpb2     911         Rpb2_911_pdb     1.0     Rpb2_902_911_pdb    10.0\n",
        "                Rpb2     912         Rpb2_912_pdb     1.0     Rpb2_912_919_pdb    10.0\n",
        "                Rpb2     913         Rpb2_913_pdb     1.0     Rpb2_912_919_pdb    10.0\n",
        "                Rpb2     914         Rpb2_914_pdb     1.0     Rpb2_912_919_pdb    10.0\n",
        "                Rpb2     915         Rpb2_915_pdb     1.0     Rpb2_912_919_pdb    10.0\n",
        "                Rpb2     916         Rpb2_916_pdb     1.0     Rpb2_912_919_pdb    10.0\n",
        "                Rpb2     917         Rpb2_917_pdb     1.0     Rpb2_912_919_pdb    10.0\n",
        "                Rpb2     918         Rpb2_918_pdb     1.0     Rpb2_912_919_pdb    10.0\n",
        "                Rpb2     919         Rpb2_919_pdb     1.0     Rpb2_912_919_pdb    10.0\n",
        "                Rpb2     920    Rpb2_920-932_bead    13.0\n",
        "                Rpb2     921    Rpb2_920-932_bead    13.0\n",
        "                Rpb2     922    Rpb2_920-932_bead    13.0\n",
        "                Rpb2     923    Rpb2_920-932_bead    13.0\n",
        "                Rpb2     924    Rpb2_920-932_bead    13.0\n",
        "                Rpb2     925    Rpb2_920-932_bead    13.0\n",
        "                Rpb2     926    Rpb2_920-932_bead    13.0\n",
        "                Rpb2     927    Rpb2_920-932_bead    13.0\n",
        "                Rpb2     928    Rpb2_920-932_bead    13.0\n",
        "                Rpb2     929    Rpb2_920-932_bead    13.0\n",
        "                Rpb2     930    Rpb2_920-932_bead    13.0\n",
        "                Rpb2     931    Rpb2_920-932_bead    13.0\n",
        "                Rpb2     932    Rpb2_920-932_bead    13.0\n",
        "                Rpb2     933         Rpb2_933_pdb     1.0     Rpb2_933_942_pdb    10.0\n",
        "                Rpb2     934         Rpb2_934_pdb     1.0     Rpb2_933_942_pdb    10.0\n",
        "                Rpb2     935         Rpb2_935_pdb     1.0     Rpb2_933_942_pdb    10.0\n",
        "                Rpb2     936         Rpb2_936_pdb     1.0     Rpb2_933_942_pdb    10.0\n",
        "                Rpb2     937         Rpb2_937_pdb     1.0     Rpb2_933_942_pdb    10.0\n",
        "                Rpb2     938         Rpb2_938_pdb     1.0     Rpb2_933_942_pdb    10.0\n",
        "                Rpb2     939         Rpb2_939_pdb     1.0     Rpb2_933_942_pdb    10.0\n",
        "                Rpb2     940         Rpb2_940_pdb     1.0     Rpb2_933_942_pdb    10.0\n",
        "                Rpb2     941         Rpb2_941_pdb     1.0     Rpb2_933_942_pdb    10.0\n",
        "                Rpb2     942         Rpb2_942_pdb     1.0     Rpb2_933_942_pdb    10.0\n",
        "                Rpb2     943         Rpb2_943_pdb     1.0     Rpb2_943_952_pdb    10.0\n",
        "                Rpb2     944         Rpb2_944_pdb     1.0     Rpb2_943_952_pdb    10.0\n",
        "                Rpb2     945         Rpb2_945_pdb     1.0     Rpb2_943_952_pdb    10.0\n",
        "                Rpb2     946         Rpb2_946_pdb     1.0     Rpb2_943_952_pdb    10.0\n",
        "                Rpb2     947         Rpb2_947_pdb     1.0     Rpb2_943_952_pdb    10.0\n",
        "                Rpb2     948         Rpb2_948_pdb     1.0     Rpb2_943_952_pdb    10.0\n",
        "                Rpb2     949         Rpb2_949_pdb     1.0     Rpb2_943_952_pdb    10.0\n",
        "                Rpb2     950         Rpb2_950_pdb     1.0     Rpb2_943_952_pdb    10.0\n",
        "                Rpb2     951         Rpb2_951_pdb     1.0     Rpb2_943_952_pdb    10.0\n",
        "                Rpb2     952         Rpb2_952_pdb     1.0     Rpb2_943_952_pdb    10.0\n",
        "                Rpb2     953         Rpb2_953_pdb     1.0     Rpb2_953_962_pdb    10.0\n",
        "                Rpb2     954         Rpb2_954_pdb     1.0     Rpb2_953_962_pdb    10.0\n",
        "                Rpb2     955         Rpb2_955_pdb     1.0     Rpb2_953_962_pdb    10.0\n",
        "                Rpb2     956         Rpb2_956_pdb     1.0     Rpb2_953_962_pdb    10.0\n",
        "                Rpb2     957         Rpb2_957_pdb     1.0     Rpb2_953_962_pdb    10.0\n",
        "                Rpb2     958         Rpb2_958_pdb     1.0     Rpb2_953_962_pdb    10.0\n",
        "                Rpb2     959         Rpb2_959_pdb     1.0     Rpb2_953_962_pdb    10.0\n",
        "                Rpb2     960         Rpb2_960_pdb     1.0     Rpb2_953_962_pdb    10.0\n",
        "                Rpb2     961         Rpb2_961_pdb     1.0     Rpb2_953_962_pdb    10.0\n",
        "                Rpb2     962         Rpb2_962_pdb     1.0     Rpb2_953_962_pdb    10.0\n",
        "                Rpb2     963         Rpb2_963_pdb     1.0     Rpb2_963_972_pdb    10.0\n",
        "                Rpb2     964         Rpb2_964_pdb     1.0     Rpb2_963_972_pdb    10.0\n",
        "                Rpb2     965         Rpb2_965_pdb     1.0     Rpb2_963_972_pdb    10.0\n",
        "                Rpb2     966         Rpb2_966_pdb     1.0     Rpb2_963_972_pdb    10.0\n",
        "                Rpb2     967         Rpb2_967_pdb     1.0     Rpb2_963_972_pdb    10.0\n",
        "                Rpb2     968         Rpb2_968_pdb     1.0     Rpb2_963_972_pdb    10.0\n",
        "                Rpb2     969         Rpb2_969_pdb     1.0     Rpb2_963_972_pdb    10.0\n",
        "                Rpb2     970         Rpb2_970_pdb     1.0     Rpb2_963_972_pdb    10.0\n",
        "                Rpb2     971         Rpb2_971_pdb     1.0     Rpb2_963_972_pdb    10.0\n",
        "                Rpb2     972         Rpb2_972_pdb     1.0     Rpb2_963_972_pdb    10.0\n",
        "                Rpb2     973         Rpb2_973_pdb     1.0     Rpb2_973_982_pdb    10.0\n",
        "                Rpb2     974         Rpb2_974_pdb     1.0     Rpb2_973_982_pdb    10.0\n",
        "                Rpb2     975         Rpb2_975_pdb     1.0     Rpb2_973_982_pdb    10.0\n",
        "                Rpb2     976         Rpb2_976_pdb     1.0     Rpb2_973_982_pdb    10.0\n",
        "                Rpb2     977         Rpb2_977_pdb     1.0     Rpb2_973_982_pdb    10.0\n",
        "                Rpb2     978         Rpb2_978_pdb     1.0     Rpb2_973_982_pdb    10.0\n",
        "                Rpb2     979         Rpb2_979_pdb     1.0     Rpb2_973_982_pdb    10.0\n",
        "                Rpb2     980         Rpb2_980_pdb     1.0     Rpb2_973_982_pdb    10.0\n",
        "                Rpb2     981         Rpb2_981_pdb     1.0     Rpb2_973_982_pdb    10.0\n",
        "                Rpb2     982         Rpb2_982_pdb     1.0     Rpb2_973_982_pdb    10.0\n",
        "                Rpb2     983         Rpb2_983_pdb     1.0     Rpb2_983_992_pdb    10.0\n",
        "                Rpb2     984         Rpb2_984_pdb     1.0     Rpb2_983_992_pdb    10.0\n",
        "                Rpb2     985         Rpb2_985_pdb     1.0     Rpb2_983_992_pdb    10.0\n",
        "                Rpb2     986         Rpb2_986_pdb     1.0     Rpb2_983_992_pdb    10.0\n",
        "                Rpb2     987         Rpb2_987_pdb     1.0     Rpb2_983_992_pdb    10.0\n",
        "                Rpb2     988         Rpb2_988_pdb     1.0     Rpb2_983_992_pdb    10.0\n",
        "                Rpb2     989         Rpb2_989_pdb     1.0     Rpb2_983_992_pdb    10.0\n",
        "                Rpb2     990         Rpb2_990_pdb     1.0     Rpb2_983_992_pdb    10.0\n",
        "                Rpb2     991         Rpb2_991_pdb     1.0     Rpb2_983_992_pdb    10.0\n",
        "                Rpb2     992         Rpb2_992_pdb     1.0     Rpb2_983_992_pdb    10.0\n",
        "                Rpb2     993         Rpb2_993_pdb     1.0    Rpb2_993_1002_pdb    10.0\n",
        "                Rpb2     994         Rpb2_994_pdb     1.0    Rpb2_993_1002_pdb    10.0\n",
        "                Rpb2     995         Rpb2_995_pdb     1.0    Rpb2_993_1002_pdb    10.0\n",
        "                Rpb2     996         Rpb2_996_pdb     1.0    Rpb2_993_1002_pdb    10.0\n",
        "                Rpb2     997         Rpb2_997_pdb     1.0    Rpb2_993_1002_pdb    10.0\n",
        "                Rpb2     998         Rpb2_998_pdb     1.0    Rpb2_993_1002_pdb    10.0\n",
        "                Rpb2     999         Rpb2_999_pdb     1.0    Rpb2_993_1002_pdb    10.0\n",
        "                Rpb2    1000        Rpb2_1000_pdb     1.0    Rpb2_993_1002_pdb    10.0\n",
        "                Rpb2    1001        Rpb2_1001_pdb     1.0    Rpb2_993_1002_pdb    10.0\n",
        "                Rpb2    1002        Rpb2_1002_pdb     1.0    Rpb2_993_1002_pdb    10.0\n",
        "                Rpb2    1003        Rpb2_1003_pdb     1.0   Rpb2_1003_1012_pdb    10.0\n",
        "                Rpb2    1004        Rpb2_1004_pdb     1.0   Rpb2_1003_1012_pdb    10.0\n",
        "                Rpb2    1005        Rpb2_1005_pdb     1.0   Rpb2_1003_1012_pdb    10.0\n",
        "                Rpb2    1006        Rpb2_1006_pdb     1.0   Rpb2_1003_1012_pdb    10.0\n",
        "                Rpb2    1007        Rpb2_1007_pdb     1.0   Rpb2_1003_1012_pdb    10.0\n",
        "                Rpb2    1008        Rpb2_1008_pdb     1.0   Rpb2_1003_1012_pdb    10.0\n",
        "                Rpb2    1009        Rpb2_1009_pdb     1.0   Rpb2_1003_1012_pdb    10.0\n",
        "                Rpb2    1010        Rpb2_1010_pdb     1.0   Rpb2_1003_1012_pdb    10.0\n",
        "                Rpb2    1011        Rpb2_1011_pdb     1.0   Rpb2_1003_1012_pdb    10.0\n",
        "                Rpb2    1012        Rpb2_1012_pdb     1.0   Rpb2_1003_1012_pdb    10.0\n",
        "                Rpb2    1013        Rpb2_1013_pdb     1.0   Rpb2_1013_1022_pdb    10.0\n",
        "                Rpb2    1014        Rpb2_1014_pdb     1.0   Rpb2_1013_1022_pdb    10.0\n",
        "                Rpb2    1015        Rpb2_1015_pdb     1.0   Rpb2_1013_1022_pdb    10.0\n",
        "                Rpb2    1016        Rpb2_1016_pdb     1.0   Rpb2_1013_1022_pdb    10.0\n",
        "                Rpb2    1017        Rpb2_1017_pdb     1.0   Rpb2_1013_1022_pdb    10.0\n",
        "                Rpb2    1018        Rpb2_1018_pdb     1.0   Rpb2_1013_1022_pdb    10.0\n",
        "                Rpb2    1019        Rpb2_1019_pdb     1.0   Rpb2_1013_1022_pdb    10.0\n",
        "                Rpb2    1020        Rpb2_1020_pdb     1.0   Rpb2_1013_1022_pdb    10.0\n",
        "                Rpb2    1021        Rpb2_1021_pdb     1.0   Rpb2_1013_1022_pdb    10.0\n",
        "                Rpb2    1022        Rpb2_1022_pdb     1.0   Rpb2_1013_1022_pdb    10.0\n",
        "                Rpb2    1023        Rpb2_1023_pdb     1.0   Rpb2_1023_1032_pdb    10.0\n",
        "                Rpb2    1024        Rpb2_1024_pdb     1.0   Rpb2_1023_1032_pdb    10.0\n",
        "                Rpb2    1025        Rpb2_1025_pdb     1.0   Rpb2_1023_1032_pdb    10.0\n",
        "                Rpb2    1026        Rpb2_1026_pdb     1.0   Rpb2_1023_1032_pdb    10.0\n",
        "                Rpb2    1027        Rpb2_1027_pdb     1.0   Rpb2_1023_1032_pdb    10.0\n",
        "                Rpb2    1028        Rpb2_1028_pdb     1.0   Rpb2_1023_1032_pdb    10.0\n",
        "                Rpb2    1029        Rpb2_1029_pdb     1.0   Rpb2_1023_1032_pdb    10.0\n",
        "                Rpb2    1030        Rpb2_1030_pdb     1.0   Rpb2_1023_1032_pdb    10.0\n",
        "                Rpb2    1031        Rpb2_1031_pdb     1.0   Rpb2_1023_1032_pdb    10.0\n",
        "                Rpb2    1032        Rpb2_1032_pdb     1.0   Rpb2_1023_1032_pdb    10.0\n",
        "                Rpb2    1033        Rpb2_1033_pdb     1.0   Rpb2_1033_1042_pdb    10.0\n",
        "                Rpb2    1034        Rpb2_1034_pdb     1.0   Rpb2_1033_1042_pdb    10.0\n",
        "                Rpb2    1035        Rpb2_1035_pdb     1.0   Rpb2_1033_1042_pdb    10.0\n",
        "                Rpb2    1036        Rpb2_1036_pdb     1.0   Rpb2_1033_1042_pdb    10.0\n",
        "                Rpb2    1037        Rpb2_1037_pdb     1.0   Rpb2_1033_1042_pdb    10.0\n",
        "                Rpb2    1038        Rpb2_1038_pdb     1.0   Rpb2_1033_1042_pdb    10.0\n",
        "                Rpb2    1039        Rpb2_1039_pdb     1.0   Rpb2_1033_1042_pdb    10.0\n",
        "                Rpb2    1040        Rpb2_1040_pdb     1.0   Rpb2_1033_1042_pdb    10.0\n",
        "                Rpb2    1041        Rpb2_1041_pdb     1.0   Rpb2_1033_1042_pdb    10.0\n",
        "                Rpb2    1042        Rpb2_1042_pdb     1.0   Rpb2_1033_1042_pdb    10.0\n",
        "                Rpb2    1043        Rpb2_1043_pdb     1.0   Rpb2_1043_1052_pdb    10.0\n",
        "                Rpb2    1044        Rpb2_1044_pdb     1.0   Rpb2_1043_1052_pdb    10.0\n",
        "                Rpb2    1045        Rpb2_1045_pdb     1.0   Rpb2_1043_1052_pdb    10.0\n",
        "                Rpb2    1046        Rpb2_1046_pdb     1.0   Rpb2_1043_1052_pdb    10.0\n",
        "                Rpb2    1047        Rpb2_1047_pdb     1.0   Rpb2_1043_1052_pdb    10.0\n",
        "                Rpb2    1048        Rpb2_1048_pdb     1.0   Rpb2_1043_1052_pdb    10.0\n",
        "                Rpb2    1049        Rpb2_1049_pdb     1.0   Rpb2_1043_1052_pdb    10.0\n",
        "                Rpb2    1050        Rpb2_1050_pdb     1.0   Rpb2_1043_1052_pdb    10.0\n",
        "                Rpb2    1051        Rpb2_1051_pdb     1.0   Rpb2_1043_1052_pdb    10.0\n",
        "                Rpb2    1052        Rpb2_1052_pdb     1.0   Rpb2_1043_1052_pdb    10.0\n",
        "                Rpb2    1053        Rpb2_1053_pdb     1.0   Rpb2_1053_1062_pdb    10.0\n",
        "                Rpb2    1054        Rpb2_1054_pdb     1.0   Rpb2_1053_1062_pdb    10.0\n",
        "                Rpb2    1055        Rpb2_1055_pdb     1.0   Rpb2_1053_1062_pdb    10.0\n",
        "                Rpb2    1056        Rpb2_1056_pdb     1.0   Rpb2_1053_1062_pdb    10.0\n",
        "                Rpb2    1057        Rpb2_1057_pdb     1.0   Rpb2_1053_1062_pdb    10.0\n",
        "                Rpb2    1058        Rpb2_1058_pdb     1.0   Rpb2_1053_1062_pdb    10.0\n",
        "                Rpb2    1059        Rpb2_1059_pdb     1.0   Rpb2_1053_1062_pdb    10.0\n",
        "                Rpb2    1060        Rpb2_1060_pdb     1.0   Rpb2_1053_1062_pdb    10.0\n",
        "                Rpb2    1061        Rpb2_1061_pdb     1.0   Rpb2_1053_1062_pdb    10.0\n",
        "                Rpb2    1062"
       ]
      },
      {
       "output_type": "stream",
       "stream": "stdout",
       "text": [
        "        Rpb2_1062_pdb     1.0   Rpb2_1053_1062_pdb    10.0\n",
        "                Rpb2    1063        Rpb2_1063_pdb     1.0   Rpb2_1063_1072_pdb    10.0\n",
        "                Rpb2    1064        Rpb2_1064_pdb     1.0   Rpb2_1063_1072_pdb    10.0\n",
        "                Rpb2    1065        Rpb2_1065_pdb     1.0   Rpb2_1063_1072_pdb    10.0\n",
        "                Rpb2    1066        Rpb2_1066_pdb     1.0   Rpb2_1063_1072_pdb    10.0\n",
        "                Rpb2    1067        Rpb2_1067_pdb     1.0   Rpb2_1063_1072_pdb    10.0\n",
        "                Rpb2    1068        Rpb2_1068_pdb     1.0   Rpb2_1063_1072_pdb    10.0\n",
        "                Rpb2    1069        Rpb2_1069_pdb     1.0   Rpb2_1063_1072_pdb    10.0\n",
        "                Rpb2    1070        Rpb2_1070_pdb     1.0   Rpb2_1063_1072_pdb    10.0\n",
        "                Rpb2    1071        Rpb2_1071_pdb     1.0   Rpb2_1063_1072_pdb    10.0\n",
        "                Rpb2    1072        Rpb2_1072_pdb     1.0   Rpb2_1063_1072_pdb    10.0\n",
        "                Rpb2    1073        Rpb2_1073_pdb     1.0   Rpb2_1073_1082_pdb    10.0\n",
        "                Rpb2    1074        Rpb2_1074_pdb     1.0   Rpb2_1073_1082_pdb    10.0\n",
        "                Rpb2    1075        Rpb2_1075_pdb     1.0   Rpb2_1073_1082_pdb    10.0\n",
        "                Rpb2    1076        Rpb2_1076_pdb     1.0   Rpb2_1073_1082_pdb    10.0\n",
        "                Rpb2    1077        Rpb2_1077_pdb     1.0   Rpb2_1073_1082_pdb    10.0\n",
        "                Rpb2    1078        Rpb2_1078_pdb     1.0   Rpb2_1073_1082_pdb    10.0\n",
        "                Rpb2    1079        Rpb2_1079_pdb     1.0   Rpb2_1073_1082_pdb    10.0\n",
        "                Rpb2    1080        Rpb2_1080_pdb     1.0   Rpb2_1073_1082_pdb    10.0\n",
        "                Rpb2    1081        Rpb2_1081_pdb     1.0   Rpb2_1073_1082_pdb    10.0\n",
        "                Rpb2    1082        Rpb2_1082_pdb     1.0   Rpb2_1073_1082_pdb    10.0\n",
        "                Rpb2    1083        Rpb2_1083_pdb     1.0   Rpb2_1083_1092_pdb    10.0\n",
        "                Rpb2    1084        Rpb2_1084_pdb     1.0   Rpb2_1083_1092_pdb    10.0\n",
        "                Rpb2    1085        Rpb2_1085_pdb     1.0   Rpb2_1083_1092_pdb    10.0\n",
        "                Rpb2    1086        Rpb2_1086_pdb     1.0   Rpb2_1083_1092_pdb    10.0\n",
        "                Rpb2    1087        Rpb2_1087_pdb     1.0   Rpb2_1083_1092_pdb    10.0\n",
        "                Rpb2    1088        Rpb2_1088_pdb     1.0   Rpb2_1083_1092_pdb    10.0\n",
        "                Rpb2    1089        Rpb2_1089_pdb     1.0   Rpb2_1083_1092_pdb    10.0\n",
        "                Rpb2    1090        Rpb2_1090_pdb     1.0   Rpb2_1083_1092_pdb    10.0\n",
        "                Rpb2    1091        Rpb2_1091_pdb     1.0   Rpb2_1083_1092_pdb    10.0\n",
        "                Rpb2    1092        Rpb2_1092_pdb     1.0   Rpb2_1083_1092_pdb    10.0\n",
        "                Rpb2    1093        Rpb2_1093_pdb     1.0   Rpb2_1093_1102_pdb    10.0\n",
        "                Rpb2    1094        Rpb2_1094_pdb     1.0   Rpb2_1093_1102_pdb    10.0\n",
        "                Rpb2    1095        Rpb2_1095_pdb     1.0   Rpb2_1093_1102_pdb    10.0\n",
        "                Rpb2    1096        Rpb2_1096_pdb     1.0   Rpb2_1093_1102_pdb    10.0\n",
        "                Rpb2    1097        Rpb2_1097_pdb     1.0   Rpb2_1093_1102_pdb    10.0\n",
        "                Rpb2    1098        Rpb2_1098_pdb     1.0   Rpb2_1093_1102_pdb    10.0\n",
        "                Rpb2    1099        Rpb2_1099_pdb     1.0   Rpb2_1093_1102_pdb    10.0\n",
        "                Rpb2    1100        Rpb2_1100_pdb     1.0   Rpb2_1093_1102_pdb    10.0\n",
        "                Rpb2    1101        Rpb2_1101_pdb     1.0   Rpb2_1093_1102_pdb    10.0\n",
        "                Rpb2    1102        Rpb2_1102_pdb     1.0   Rpb2_1093_1102_pdb    10.0\n",
        "                Rpb2    1103        Rpb2_1103_pdb     1.0   Rpb2_1103_1112_pdb    10.0\n",
        "                Rpb2    1104        Rpb2_1104_pdb     1.0   Rpb2_1103_1112_pdb    10.0\n",
        "                Rpb2    1105        Rpb2_1105_pdb     1.0   Rpb2_1103_1112_pdb    10.0\n",
        "                Rpb2    1106        Rpb2_1106_pdb     1.0   Rpb2_1103_1112_pdb    10.0\n",
        "                Rpb2    1107        Rpb2_1107_pdb     1.0   Rpb2_1103_1112_pdb    10.0\n",
        "                Rpb2    1108        Rpb2_1108_pdb     1.0   Rpb2_1103_1112_pdb    10.0\n",
        "                Rpb2    1109        Rpb2_1109_pdb     1.0   Rpb2_1103_1112_pdb    10.0\n",
        "                Rpb2    1110        Rpb2_1110_pdb     1.0   Rpb2_1103_1112_pdb    10.0\n",
        "                Rpb2    1111        Rpb2_1111_pdb     1.0   Rpb2_1103_1112_pdb    10.0\n",
        "                Rpb2    1112        Rpb2_1112_pdb     1.0   Rpb2_1103_1112_pdb    10.0\n",
        "                Rpb2    1113        Rpb2_1113_pdb     1.0   Rpb2_1113_1122_pdb    10.0\n",
        "                Rpb2    1114        Rpb2_1114_pdb     1.0   Rpb2_1113_1122_pdb    10.0\n",
        "                Rpb2    1115        Rpb2_1115_pdb     1.0   Rpb2_1113_1122_pdb    10.0\n",
        "                Rpb2    1116        Rpb2_1116_pdb     1.0   Rpb2_1113_1122_pdb    10.0\n",
        "                Rpb2    1117        Rpb2_1117_pdb     1.0   Rpb2_1113_1122_pdb    10.0\n",
        "                Rpb2    1118        Rpb2_1118_pdb     1.0   Rpb2_1113_1122_pdb    10.0\n",
        "                Rpb2    1119        Rpb2_1119_pdb     1.0   Rpb2_1113_1122_pdb    10.0\n",
        "                Rpb2    1120        Rpb2_1120_pdb     1.0   Rpb2_1113_1122_pdb    10.0\n",
        "                Rpb2    1121        Rpb2_1121_pdb     1.0   Rpb2_1113_1122_pdb    10.0\n",
        "                Rpb2    1122        Rpb2_1122_pdb     1.0   Rpb2_1113_1122_pdb    10.0\n",
        "                Rpb2    1123        Rpb2_1123_pdb     1.0   Rpb2_1123_1132_pdb    10.0\n",
        "                Rpb2    1124        Rpb2_1124_pdb     1.0   Rpb2_1123_1132_pdb    10.0\n",
        "                Rpb2    1125        Rpb2_1125_pdb     1.0   Rpb2_1123_1132_pdb    10.0\n",
        "                Rpb2    1126        Rpb2_1126_pdb     1.0   Rpb2_1123_1132_pdb    10.0\n",
        "                Rpb2    1127        Rpb2_1127_pdb     1.0   Rpb2_1123_1132_pdb    10.0\n",
        "                Rpb2    1128        Rpb2_1128_pdb     1.0   Rpb2_1123_1132_pdb    10.0\n",
        "                Rpb2    1129        Rpb2_1129_pdb     1.0   Rpb2_1123_1132_pdb    10.0\n",
        "                Rpb2    1130        Rpb2_1130_pdb     1.0   Rpb2_1123_1132_pdb    10.0\n",
        "                Rpb2    1131        Rpb2_1131_pdb     1.0   Rpb2_1123_1132_pdb    10.0\n",
        "                Rpb2    1132        Rpb2_1132_pdb     1.0   Rpb2_1123_1132_pdb    10.0\n",
        "                Rpb2    1133        Rpb2_1133_pdb     1.0   Rpb2_1133_1142_pdb    10.0\n",
        "                Rpb2    1134        Rpb2_1134_pdb     1.0   Rpb2_1133_1142_pdb    10.0\n",
        "                Rpb2    1135        Rpb2_1135_pdb     1.0   Rpb2_1133_1142_pdb    10.0\n",
        "                Rpb2    1136        Rpb2_1136_pdb     1.0   Rpb2_1133_1142_pdb    10.0\n",
        "                Rpb2    1137        Rpb2_1137_pdb     1.0   Rpb2_1133_1142_pdb    10.0\n",
        "                Rpb2    1138        Rpb2_1138_pdb     1.0   Rpb2_1133_1142_pdb    10.0\n",
        "                Rpb2    1139        Rpb2_1139_pdb     1.0   Rpb2_1133_1142_pdb    10.0\n",
        "                Rpb2    1140        Rpb2_1140_pdb     1.0   Rpb2_1133_1142_pdb    10.0\n",
        "                Rpb2    1141        Rpb2_1141_pdb     1.0   Rpb2_1133_1142_pdb    10.0\n",
        "                Rpb2    1142        Rpb2_1142_pdb     1.0   Rpb2_1133_1142_pdb    10.0\n",
        "                Rpb2    1143        Rpb2_1143_pdb     1.0   Rpb2_1143_1152_pdb    10.0\n",
        "                Rpb2    1144        Rpb2_1144_pdb     1.0   Rpb2_1143_1152_pdb    10.0\n",
        "                Rpb2    1145        Rpb2_1145_pdb     1.0   Rpb2_1143_1152_pdb    10.0\n",
        "                Rpb2    1146        Rpb2_1146_pdb     1.0   Rpb2_1143_1152_pdb    10.0\n",
        "                Rpb2    1147        Rpb2_1147_pdb     1.0   Rpb2_1143_1152_pdb    10.0\n",
        "                Rpb2    1148        Rpb2_1148_pdb     1.0   Rpb2_1143_1152_pdb    10.0\n",
        "                Rpb2    1149        Rpb2_1149_pdb     1.0   Rpb2_1143_1152_pdb    10.0\n",
        "                Rpb2    1150        Rpb2_1150_pdb     1.0   Rpb2_1143_1152_pdb    10.0\n",
        "                Rpb2    1151        Rpb2_1151_pdb     1.0   Rpb2_1143_1152_pdb    10.0\n",
        "                Rpb2    1152        Rpb2_1152_pdb     1.0   Rpb2_1143_1152_pdb    10.0\n",
        "                Rpb2    1153        Rpb2_1153_pdb     1.0   Rpb2_1153_1162_pdb    10.0\n",
        "                Rpb2    1154        Rpb2_1154_pdb     1.0   Rpb2_1153_1162_pdb    10.0\n",
        "                Rpb2    1155        Rpb2_1155_pdb     1.0   Rpb2_1153_1162_pdb    10.0\n",
        "                Rpb2    1156        Rpb2_1156_pdb     1.0   Rpb2_1153_1162_pdb    10.0\n",
        "                Rpb2    1157        Rpb2_1157_pdb     1.0   Rpb2_1153_1162_pdb    10.0\n",
        "                Rpb2    1158        Rpb2_1158_pdb     1.0   Rpb2_1153_1162_pdb    10.0\n",
        "                Rpb2    1159        Rpb2_1159_pdb     1.0   Rpb2_1153_1162_pdb    10.0\n",
        "                Rpb2    1160        Rpb2_1160_pdb     1.0   Rpb2_1153_1162_pdb    10.0\n",
        "                Rpb2    1161        Rpb2_1161_pdb     1.0   Rpb2_1153_1162_pdb    10.0\n",
        "                Rpb2    1162        Rpb2_1162_pdb     1.0   Rpb2_1153_1162_pdb    10.0\n",
        "                Rpb2    1163        Rpb2_1163_pdb     1.0   Rpb2_1163_1172_pdb    10.0\n",
        "                Rpb2    1164        Rpb2_1164_pdb     1.0   Rpb2_1163_1172_pdb    10.0\n",
        "                Rpb2    1165        Rpb2_1165_pdb     1.0   Rpb2_1163_1172_pdb    10.0\n",
        "                Rpb2    1166        Rpb2_1166_pdb     1.0   Rpb2_1163_1172_pdb    10.0\n",
        "                Rpb2    1167        Rpb2_1167_pdb     1.0   Rpb2_1163_1172_pdb    10.0\n",
        "                Rpb2    1168        Rpb2_1168_pdb     1.0   Rpb2_1163_1172_pdb    10.0\n",
        "                Rpb2    1169        Rpb2_1169_pdb     1.0   Rpb2_1163_1172_pdb    10.0\n",
        "                Rpb2    1170        Rpb2_1170_pdb     1.0   Rpb2_1163_1172_pdb    10.0\n",
        "                Rpb2    1171        Rpb2_1171_pdb     1.0   Rpb2_1163_1172_pdb    10.0\n",
        "                Rpb2    1172        Rpb2_1172_pdb     1.0   Rpb2_1163_1172_pdb    10.0\n",
        "                Rpb2    1173        Rpb2_1173_pdb     1.0   Rpb2_1173_1182_pdb    10.0\n",
        "                Rpb2    1174        Rpb2_1174_pdb     1.0   Rpb2_1173_1182_pdb    10.0\n",
        "                Rpb2    1175        Rpb2_1175_pdb     1.0   Rpb2_1173_1182_pdb    10.0\n",
        "                Rpb2    1176        Rpb2_1176_pdb     1.0   Rpb2_1173_1182_pdb    10.0\n",
        "                Rpb2    1177        Rpb2_1177_pdb     1.0   Rpb2_1173_1182_pdb    10.0\n",
        "                Rpb2    1178        Rpb2_1178_pdb     1.0   Rpb2_1173_1182_pdb    10.0\n",
        "                Rpb2    1179        Rpb2_1179_pdb     1.0   Rpb2_1173_1182_pdb    10.0\n",
        "                Rpb2    1180        Rpb2_1180_pdb     1.0   Rpb2_1173_1182_pdb    10.0\n",
        "                Rpb2    1181        Rpb2_1181_pdb     1.0   Rpb2_1173_1182_pdb    10.0\n",
        "                Rpb2    1182        Rpb2_1182_pdb     1.0   Rpb2_1173_1182_pdb    10.0\n",
        "                Rpb2    1183        Rpb2_1183_pdb     1.0   Rpb2_1183_1192_pdb    10.0\n",
        "                Rpb2    1184        Rpb2_1184_pdb     1.0   Rpb2_1183_1192_pdb    10.0\n",
        "                Rpb2    1185        Rpb2_1185_pdb     1.0   Rpb2_1183_1192_pdb    10.0\n",
        "                Rpb2    1186        Rpb2_1186_pdb     1.0   Rpb2_1183_1192_pdb    10.0\n",
        "                Rpb2    1187        Rpb2_1187_pdb     1.0   Rpb2_1183_1192_pdb    10.0\n",
        "                Rpb2    1188        Rpb2_1188_pdb     1.0   Rpb2_1183_1192_pdb    10.0\n",
        "                Rpb2    1189        Rpb2_1189_pdb     1.0   Rpb2_1183_1192_pdb    10.0\n",
        "                Rpb2    1190        Rpb2_1190_pdb     1.0   Rpb2_1183_1192_pdb    10.0\n",
        "                Rpb2    1191        Rpb2_1191_pdb     1.0   Rpb2_1183_1192_pdb    10.0\n",
        "                Rpb2    1192        Rpb2_1192_pdb     1.0   Rpb2_1183_1192_pdb    10.0\n",
        "                Rpb2    1193        Rpb2_1193_pdb     1.0   Rpb2_1193_1202_pdb    10.0\n",
        "                Rpb2    1194        Rpb2_1194_pdb     1.0   Rpb2_1193_1202_pdb    10.0\n",
        "                Rpb2    1195        Rpb2_1195_pdb     1.0   Rpb2_1193_1202_pdb    10.0\n",
        "                Rpb2    1196        Rpb2_1196_pdb     1.0   Rpb2_1193_1202_pdb    10.0\n",
        "                Rpb2    1197        Rpb2_1197_pdb     1.0   Rpb2_1193_1202_pdb    10.0\n",
        "                Rpb2    1198        Rpb2_1198_pdb     1.0   Rpb2_1193_1202_pdb    10.0\n",
        "                Rpb2    1199        Rpb2_1199_pdb     1.0   Rpb2_1193_1202_pdb    10.0\n",
        "                Rpb2    1200        Rpb2_1200_pdb     1.0   Rpb2_1193_1202_pdb    10.0\n",
        "                Rpb2    1201        Rpb2_1201_pdb     1.0   Rpb2_1193_1202_pdb    10.0\n",
        "                Rpb2    1202        Rpb2_1202_pdb     1.0   Rpb2_1193_1202_pdb    10.0\n",
        "                Rpb2    1203        Rpb2_1203_pdb     1.0   Rpb2_1203_1212_pdb    10.0\n",
        "                Rpb2    1204        Rpb2_1204_pdb     1.0   Rpb2_1203_1212_pdb    10.0\n",
        "                Rpb2    1205"
       ]
      },
      {
       "output_type": "stream",
       "stream": "stdout",
       "text": [
        "        Rpb2_1205_pdb     1.0   Rpb2_1203_1212_pdb    10.0\n",
        "                Rpb2    1206        Rpb2_1206_pdb     1.0   Rpb2_1203_1212_pdb    10.0\n",
        "                Rpb2    1207        Rpb2_1207_pdb     1.0   Rpb2_1203_1212_pdb    10.0\n",
        "                Rpb2    1208        Rpb2_1208_pdb     1.0   Rpb2_1203_1212_pdb    10.0\n",
        "                Rpb2    1209        Rpb2_1209_pdb     1.0   Rpb2_1203_1212_pdb    10.0\n",
        "                Rpb2    1210        Rpb2_1210_pdb     1.0   Rpb2_1203_1212_pdb    10.0\n",
        "                Rpb2    1211        Rpb2_1211_pdb     1.0   Rpb2_1203_1212_pdb    10.0\n",
        "                Rpb2    1212        Rpb2_1212_pdb     1.0   Rpb2_1203_1212_pdb    10.0\n",
        "                Rpb2    1213        Rpb2_1213_pdb     1.0   Rpb2_1213_1222_pdb    10.0\n",
        "                Rpb2    1214        Rpb2_1214_pdb     1.0   Rpb2_1213_1222_pdb    10.0\n",
        "                Rpb2    1215        Rpb2_1215_pdb     1.0   Rpb2_1213_1222_pdb    10.0\n",
        "                Rpb2    1216        Rpb2_1216_pdb     1.0   Rpb2_1213_1222_pdb    10.0\n",
        "                Rpb2    1217        Rpb2_1217_pdb     1.0   Rpb2_1213_1222_pdb    10.0\n",
        "                Rpb2    1218        Rpb2_1218_pdb     1.0   Rpb2_1213_1222_pdb    10.0\n",
        "                Rpb2    1219        Rpb2_1219_pdb     1.0   Rpb2_1213_1222_pdb    10.0\n",
        "                Rpb2    1220        Rpb2_1220_pdb     1.0   Rpb2_1213_1222_pdb    10.0\n",
        "                Rpb2    1221        Rpb2_1221_pdb     1.0   Rpb2_1213_1222_pdb    10.0\n",
        "                Rpb2    1222        Rpb2_1222_pdb     1.0   Rpb2_1213_1222_pdb    10.0\n",
        "                Rpb2    1223        Rpb2_1223_pdb     1.0   Rpb2_1223_1224_pdb    10.0\n",
        "                Rpb2    1224        Rpb2_1224_pdb     1.0   Rpb2_1223_1224_pdb    10.0\n",
        "Adding sequence connectivity restraint between"
       ]
      },
      {
       "output_type": "stream",
       "stream": "stdout",
       "text": [
        " Rpb2_1-19_bead  and  Rpb2_20_pdb\n",
        "Adding sequence connectivity restraint between Rpb2_70_pdb  and  Rpb2_71-89_bead\n",
        "Adding sequence connectivity restraint between Rpb2_71-89_bead  and  Rpb2_90_pdb\n",
        "Adding sequence connectivity restraint between Rpb2_134_pdb  and  Rpb2_135-154_bead\n",
        "Adding sequence connectivity restraint between Rpb2_135-154_bead  and  Rpb2_155-163_bead\n",
        "Adding sequence connectivity restraint between Rpb2_155-163_bead  and  Rpb2_164_pdb\n",
        "Adding sequence connectivity restraint between Rpb2_335_pdb  and  Rpb2_336-344_bead\n",
        "Adding sequence connectivity restraint between Rpb2_336-344_bead  and  Rpb2_345_pdb\n",
        "Adding sequence connectivity restraint between Rpb2_437_pdb  and  Rpb2_438-445_bead\n",
        "Adding sequence connectivity restraint between Rpb2_438-445_bead  and  Rpb2_446_pdb\n",
        "Adding sequence connectivity restraint between Rpb2_467_pdb  and  Rpb2_468-476_bead\n",
        "Adding sequence connectivity restraint between Rpb2_468-476_bead  and  Rpb2_477_pdb\n",
        "Adding sequence connectivity restraint between Rpb2_502_pdb  and  Rpb2_503-508_bead\n",
        "Adding sequence connectivity restraint between Rpb2_503-508_bead  and  Rpb2_509_pdb\n",
        "Adding sequence connectivity restraint between Rpb2_668_pdb  and  Rpb2_669-677_bead\n",
        "Adding sequence connectivity restraint between Rpb2_669-677_bead  and  Rpb2_678_pdb\n",
        "Adding sequence connectivity restraint between Rpb2_715_pdb  and  Rpb2_716-721_bead\n",
        "Adding sequence connectivity restraint between Rpb2_716-721_bead  and  Rpb2_722_pdb\n",
        "Adding sequence connectivity restraint between Rpb2_919_pdb  and  Rpb2_920-932_bead\n",
        "Adding sequence connectivity restraint between Rpb2_920-932_bead  and  Rpb2_933_pdb\n",
        "autobuild_model: constructing Rpb3 from pdb /Users/riccardopellarin/imp-200114/imp-fast/data/pmi/1WCM.pdb and chain C\n",
        "autobuild_model: constructing fragment (1, 2) as a bead"
       ]
      },
      {
       "output_type": "stream",
       "stream": "stdout",
       "text": [
        "\n",
        "autobuild_model: constructing fragment (3, 268) from pdb\n",
        "autobuild_model: constructing fragment (269, 318) as a bead"
       ]
      },
      {
       "output_type": "stream",
       "stream": "stdout",
       "text": [
        "\n",
        "                Rpb3       1        Rpb3_1-2_bead     2.0\n",
        "                Rpb3       2        Rpb3_1-2_bead     2.0\n",
        "                Rpb3       3           Rpb3_3_pdb     1.0        Rpb3_3_12_pdb    10.0\n",
        "                Rpb3       4           Rpb3_4_pdb     1.0        Rpb3_3_12_pdb    10.0\n",
        "                Rpb3       5           Rpb3_5_pdb     1.0        Rpb3_3_12_pdb    10.0\n",
        "                Rpb3       6           Rpb3_6_pdb     1.0        Rpb3_3_12_pdb    10.0\n",
        "                Rpb3       7           Rpb3_7_pdb     1.0        Rpb3_3_12_pdb    10.0\n",
        "                Rpb3       8           Rpb3_8_pdb     1.0        Rpb3_3_12_pdb    10.0\n",
        "                Rpb3       9           Rpb3_9_pdb     1.0        Rpb3_3_12_pdb    10.0\n",
        "                Rpb3      10          Rpb3_10_pdb     1.0        Rpb3_3_12_pdb    10.0\n",
        "                Rpb3      11          Rpb3_11_pdb     1.0        Rpb3_3_12_pdb    10.0\n",
        "                Rpb3      12          Rpb3_12_pdb     1.0        Rpb3_3_12_pdb    10.0\n",
        "                Rpb3      13          Rpb3_13_pdb     1.0       Rpb3_13_22_pdb    10.0\n",
        "                Rpb3      14          Rpb3_14_pdb     1.0       Rpb3_13_22_pdb    10.0\n",
        "                Rpb3      15          Rpb3_15_pdb     1.0       Rpb3_13_22_pdb    10.0\n",
        "                Rpb3      16          Rpb3_16_pdb     1.0       Rpb3_13_22_pdb    10.0\n",
        "                Rpb3      17          Rpb3_17_pdb     1.0       Rpb3_13_22_pdb    10.0\n",
        "                Rpb3      18          Rpb3_18_pdb     1.0       Rpb3_13_22_pdb    10.0\n",
        "                Rpb3      19          Rpb3_19_pdb     1.0       Rpb3_13_22_pdb    10.0\n",
        "                Rpb3      20          Rpb3_20_pdb     1.0       Rpb3_13_22_pdb    10.0\n",
        "                Rpb3      21          Rpb3_21_pdb     1.0       Rpb3_13_22_pdb    10.0\n",
        "                Rpb3      22          Rpb3_22_pdb     1.0       Rpb3_13_22_pdb    10.0\n",
        "                Rpb3      23          Rpb3_23_pdb     1.0       Rpb3_23_32_pdb    10.0\n",
        "                Rpb3      24          Rpb3_24_pdb     1.0       Rpb3_23_32_pdb    10.0\n",
        "                Rpb3      25          Rpb3_25_pdb     1.0       Rpb3_23_32_pdb    10.0\n",
        "                Rpb3      26          Rpb3_26_pdb     1.0       Rpb3_23_32_pdb    10.0\n",
        "                Rpb3      27          Rpb3_27_pdb     1.0       Rpb3_23_32_pdb    10.0\n",
        "                Rpb3      28          Rpb3_28_pdb     1.0       Rpb3_23_32_pdb    10.0\n",
        "                Rpb3      29          Rpb3_29_pdb     1.0       Rpb3_23_32_pdb    10.0\n",
        "                Rpb3      30          Rpb3_30_pdb     1.0       Rpb3_23_32_pdb    10.0\n",
        "                Rpb3      31          Rpb3_31_pdb     1.0       Rpb3_23_32_pdb    10.0\n",
        "                Rpb3      32          Rpb3_32_pdb     1.0       Rpb3_23_32_pdb    10.0\n",
        "                Rpb3      33          Rpb3_33_pdb     1.0       Rpb3_33_42_pdb    10.0\n",
        "                Rpb3      34          Rpb3_34_pdb     1.0       Rpb3_33_42_pdb    10.0\n",
        "                Rpb3      35          Rpb3_35_pdb     1.0       Rpb3_33_42_pdb    10.0\n",
        "                Rpb3      36          Rpb3_36_pdb     1.0       Rpb3_33_42_pdb    10.0\n",
        "                Rpb3      37          Rpb3_37_pdb     1.0       Rpb3_33_42_pdb    10.0\n",
        "                Rpb3      38          Rpb3_38_pdb     1.0       Rpb3_33_42_pdb    10.0\n",
        "                Rpb3      39          Rpb3_39_pdb     1.0       Rpb3_33_42_pdb    10.0\n",
        "                Rpb3      40          Rpb3_40_pdb     1.0       Rpb3_33_42_pdb    10.0\n",
        "                Rpb3      41          Rpb3_41_pdb     1.0       Rpb3_33_42_pdb    10.0\n",
        "                Rpb3      42          Rpb3_42_pdb     1.0       Rpb3_33_42_pdb    10.0\n",
        "                Rpb3      43          Rpb3_43_pdb     1.0       Rpb3_43_52_pdb    10.0\n",
        "                Rpb3      44          Rpb3_44_pdb     1.0       Rpb3_43_52_pdb    10.0\n",
        "                Rpb3      45          Rpb3_45_pdb     1.0       Rpb3_43_52_pdb    10.0\n",
        "                Rpb3      46          Rpb3_46_pdb     1.0       Rpb3_43_52_pdb    10.0\n",
        "                Rpb3      47          Rpb3_47_pdb     1.0       Rpb3_43_52_pdb    10.0\n",
        "                Rpb3      48          Rpb3_48_pdb     1.0       Rpb3_43_52_pdb    10.0\n",
        "                Rpb3      49          Rpb3_49_pdb     1.0       Rpb3_43_52_pdb    10.0\n",
        "                Rpb3      50          Rpb3_50_pdb     1.0       Rpb3_43_52_pdb    10.0\n",
        "                Rpb3      51          Rpb3_51_pdb     1.0       Rpb3_43_52_pdb    10.0\n",
        "                Rpb3      52          Rpb3_52_pdb     1.0       Rpb3_43_52_pdb    10.0\n",
        "                Rpb3      53          Rpb3_53_pdb     1.0       Rpb3_53_62_pdb    10.0\n",
        "                Rpb3      54          Rpb3_54_pdb     1.0       Rpb3_53_62_pdb    10.0\n",
        "                Rpb3      55          Rpb3_55_pdb     1.0       Rpb3_53_62_pdb    10.0\n",
        "                Rpb3      56          Rpb3_56_pdb     1.0       Rpb3_53_62_pdb    10.0\n",
        "                Rpb3      57          Rpb3_57_pdb     1.0       Rpb3_53_62_pdb    10.0\n",
        "                Rpb3      58          Rpb3_58_pdb     1.0       Rpb3_53_62_pdb    10.0\n",
        "                Rpb3      59          Rpb3_59_pdb     1.0       Rpb3_53_62_pdb    10.0\n",
        "                Rpb3      60          Rpb3_60_pdb     1.0       Rpb3_53_62_pdb    10.0\n",
        "                Rpb3      61          Rpb3_61_pdb     1.0       Rpb3_53_62_pdb    10.0\n",
        "                Rpb3      62          Rpb3_62_pdb     1.0       Rpb3_53_62_pdb    10.0\n",
        "                Rpb3      63          Rpb3_63_pdb     1.0       Rpb3_63_72_pdb    10.0\n",
        "                Rpb3      64          Rpb3_64_pdb     1.0       Rpb3_63_72_pdb    10.0\n",
        "                Rpb3      65          Rpb3_65_pdb     1.0       Rpb3_63_72_pdb    10.0\n",
        "                Rpb3      66          Rpb3_66_pdb     1.0       Rpb3_63_72_pdb    10.0\n",
        "                Rpb3      67          Rpb3_67_pdb     1.0       Rpb3_63_72_pdb    10.0\n",
        "                Rpb3      68          Rpb3_68_pdb     1.0       Rpb3_63_72_pdb    10.0\n",
        "                Rpb3      69          Rpb3_69_pdb     1.0       Rpb3_63_72_pdb    10.0\n",
        "                Rpb3      70          Rpb3_70_pdb     1.0       Rpb3_63_72_pdb    10.0\n",
        "                Rpb3      71          Rpb3_71_pdb     1.0       Rpb3_63_72_pdb    10.0\n",
        "                Rpb3      72          Rpb3_72_pdb     1.0       Rpb3_63_72_pdb    10.0\n",
        "                Rpb3      73          Rpb3_73_pdb     1.0       Rpb3_73_82_pdb    10.0\n",
        "                Rpb3      74          Rpb3_74_pdb     1.0       Rpb3_73_82_pdb    10.0\n",
        "                Rpb3      75          Rpb3_75_pdb     1.0       Rpb3_73_82_pdb    10.0\n",
        "                Rpb3      76          Rpb3_76_pdb     1.0       Rpb3_73_82_pdb    10.0\n",
        "                Rpb3      77          Rpb3_77_pdb     1.0       Rpb3_73_82_pdb    10.0\n",
        "                Rpb3      78          Rpb3_78_pdb     1.0       Rpb3_73_82_pdb    10.0\n",
        "                Rpb3      79          Rpb3_79_pdb     1.0       Rpb3_73_82_pdb    10.0\n",
        "                Rpb3      80          Rpb3_80_pdb     1.0       Rpb3_73_82_pdb    10.0\n",
        "                Rpb3      81          Rpb3_81_pdb     1.0       Rpb3_73_82_pdb    10.0\n",
        "                Rpb3      82          Rpb3_82_pdb     1.0       Rpb3_73_82_pdb    10.0\n",
        "                Rpb3      83          Rpb3_83_pdb     1.0       Rpb3_83_92_pdb    10.0\n",
        "                Rpb3      84          Rpb3_84_pdb     1.0       Rpb3_83_92_pdb    10.0\n",
        "                Rpb3      85          Rpb3_85_pdb     1.0       Rpb3_83_92_pdb    10.0\n",
        "                Rpb3      86          Rpb3_86_pdb     1.0       Rpb3_83_92_pdb    10.0\n",
        "                Rpb3      87          Rpb3_87_pdb     1.0       Rpb3_83_92_pdb    10.0\n",
        "                Rpb3      88          Rpb3_88_pdb     1.0       Rpb3_83_92_pdb    10.0\n",
        "                Rpb3      89          Rpb3_89_pdb     1.0       Rpb3_83_92_pdb    10.0\n",
        "                Rpb3      90          Rpb3_90_pdb     1.0       Rpb3_83_92_pdb    10.0\n",
        "                Rpb3      91          Rpb3_91_pdb     1.0       Rpb3_83_92_pdb    10.0\n",
        "                Rpb3      92          Rpb3_92_pdb     1.0       Rpb3_83_92_pdb    10.0\n",
        "                Rpb3      93          Rpb3_93_pdb     1.0      Rpb3_93_102_pdb    10.0\n",
        "                Rpb3      94          Rpb3_94_pdb     1.0      Rpb3_93_102_pdb    10.0\n",
        "                Rpb3      95          Rpb3_95_pdb     1.0      Rpb3_93_102_pdb    10.0\n",
        "                Rpb3      96          Rpb3_96_pdb     1.0      Rpb3_93_102_pdb    10.0\n",
        "                Rpb3      97          Rpb3_97_pdb     1.0      Rpb3_93_102_pdb    10.0\n",
        "                Rpb3      98          Rpb3_98_pdb     1.0      Rpb3_93_102_pdb    10.0\n",
        "                Rpb3      99          Rpb3_99_pdb     1.0      Rpb3_93_102_pdb    10.0\n",
        "                Rpb3     100         Rpb3_100_pdb     1.0      Rpb3_93_102_pdb    10.0\n",
        "                Rpb3     101         Rpb3_101_pdb     1.0      Rpb3_93_102_pdb    10.0\n",
        "                Rpb3     102         Rpb3_102_pdb     1.0      Rpb3_93_102_pdb    10.0\n",
        "                Rpb3     103         Rpb3_103_pdb     1.0     Rpb3_103_112_pdb    10.0\n",
        "                Rpb3     104         Rpb3_104_pdb     1.0     Rpb3_103_112_pdb    10.0\n",
        "                Rpb3     105         Rpb3_105_pdb     1.0     Rpb3_103_112_pdb    10.0\n",
        "                Rpb3     106         Rpb3_106_pdb     1.0     Rpb3_103_112_pdb    10.0\n",
        "                Rpb3     107         Rpb3_107_pdb     1.0     Rpb3_103_112_pdb    10.0\n",
        "                Rpb3     108         Rpb3_108_pdb     1.0     Rpb3_103_112_pdb    10.0\n",
        "                Rpb3     109         Rpb3_109_pdb     1.0     Rpb3_103_112_pdb    10.0\n",
        "                Rpb3     110         Rpb3_110_pdb     1.0     Rpb3_103_112_pdb    10.0\n",
        "                Rpb3     111         Rpb3_111_pdb     1.0     Rpb3_103_112_pdb    10.0\n",
        "                Rpb3     112         Rpb3_112_pdb     1.0     Rpb3_103_112_pdb    10.0\n",
        "                Rpb3     113         Rpb3_113_pdb     1.0     Rpb3_113_122_pdb    10.0\n",
        "                Rpb3     114         Rpb3_114_pdb     1.0     Rpb3_113_122_pdb    10.0\n",
        "                Rpb3     115         Rpb3_115_pdb     1.0     Rpb3_113_122_pdb    10.0\n",
        "                Rpb3     116         Rpb3_116_pdb     1.0     Rpb3_113_122_pdb    10.0\n",
        "                Rpb3     117         Rpb3_117_pdb     1.0     Rpb3_113_122_pdb    10.0\n",
        "                Rpb3     118         Rpb3_118_pdb     1.0     Rpb3_113_122_pdb    10.0\n",
        "                Rpb3     119         Rpb3_119_pdb     1.0     Rpb3_113_122_pdb    10.0\n",
        "                Rpb3     120         Rpb3_120_pdb     1.0     Rpb3_113_122_pdb    10.0\n",
        "                Rpb3     121         Rpb3_121_pdb     1.0     Rpb3_113_122_pdb    10.0\n",
        "                Rpb3     122         Rpb3_122_pdb     1.0     Rpb3_113_122_pdb    10.0\n",
        "                Rpb3     123         Rpb3_123_pdb     1.0     Rpb3_123_132_pdb    10.0\n",
        "                Rpb3     124         Rpb3_124_pdb     1.0     Rpb3_123_132_pdb    10.0\n",
        "                Rpb3     125         Rpb3_125_pdb     1.0     Rpb3_123_132_pdb    10.0\n",
        "                Rpb3     126         Rpb3_126_pdb     1.0     Rpb3_123_132_pdb    10.0\n",
        "                Rpb3     127         Rpb3_127_pdb     1.0     Rpb3_123_132_pdb    10.0\n",
        "                Rpb3     128         Rpb3_128_pdb     1.0     Rpb3_123_132_pdb    10.0\n",
        "                Rpb3     129         Rpb3_129_pdb     1.0     Rpb3_123_132_pdb    10.0\n",
        "                Rpb3     130         Rpb3_130_pdb     1.0     Rpb3_123_132_pdb    10.0\n",
        "                Rpb3     131         Rpb3_131_pdb     1.0     Rpb3_123_132_pdb    10.0\n",
        "                Rpb3     132         Rpb3_132_pdb     1.0     Rpb3_123_132_pdb    10.0\n",
        "                Rpb3     133         Rpb3_133_pdb     1.0     Rpb3_133_142_pdb    10.0\n",
        "                Rpb3     134         Rpb3_134_pdb     1.0     Rpb3_133_142_pdb    10.0\n",
        "                Rpb3     135         Rpb3_135_pdb     1.0     Rpb3_133_142_pdb    10.0\n",
        "                Rpb3     136         Rpb3_136_pdb     1.0     Rpb3_133_142_pdb    10.0\n",
        "                Rpb3     137         Rpb3_137_pdb     1.0     Rpb3_133_142_pdb    10.0\n",
        "                Rpb3     138         Rpb3_138_pdb     1.0     Rpb3_133_142_pdb    10.0\n",
        "                Rpb3     139         Rpb3_139_pdb     1.0     Rpb3_133_142_pdb    10.0\n",
        "                Rpb3     140         Rpb3_140_pdb     1.0     Rpb3_133_142_pdb    10.0\n",
        "                Rpb3     141         Rpb3_141_pdb     1.0     Rpb3_133_142_pdb    10.0\n",
        "                Rpb3     142         Rpb3_142_pdb     1.0     Rpb3_133_142_pdb    10.0\n",
        "                Rpb3     143         Rpb3_143_pdb     1.0     Rpb3_143_152_pdb    10.0\n",
        "                Rpb3     144         Rpb3_144_pdb     1.0     Rpb3_143_152_pdb    10.0\n",
        "                Rpb3     145         Rpb3_145_pdb     1.0     Rpb3_143_152_pdb    10.0\n",
        "                Rpb3     146         Rpb3_146_pdb     1.0     Rpb3_143_152_pdb    10.0\n",
        "                Rpb3     147         Rpb3_147_pdb     1.0     Rpb3_143_152_pdb    10.0\n",
        "                Rpb3     148         Rpb3_148_pdb     1.0     Rpb3_143_152_pdb    10.0\n",
        "                Rpb3     149         Rpb3_149_pdb     1.0     Rpb3_143_152_pdb    10.0\n",
        "                Rpb3     150         Rpb3_150_pdb     1.0     Rpb3_143_152_pdb    10.0\n",
        "                Rpb3     151         Rpb3_151_pdb     1.0     Rpb3_143_152_pdb    10.0\n",
        "                Rpb3     152         Rpb3_152_pdb     1.0     Rpb3_143_152_pdb    10.0\n",
        "                Rpb3     153         Rpb3_153_pdb     1.0     Rpb3_153_162_pdb    10.0\n",
        "                Rpb3     154         Rpb3_154_pdb     1.0     Rpb3_153_162_pdb    10.0\n",
        "                Rpb3     155         Rpb3_155_pdb     1.0     Rpb3_153_162_pdb    10.0\n",
        "                Rpb3     156         Rpb3_156_pdb     1.0     Rpb3_153_162_pdb    10.0\n",
        "                Rpb3     157         Rpb3_157_pdb     1.0     Rpb3_153_162_pdb    10.0\n",
        "                Rpb3     158         Rpb3_158_pdb     1.0     Rpb3_153_162_pdb    10.0\n",
        "                Rpb3     159         Rpb3_159_pdb     1.0     Rpb3_153_162_pdb    10.0\n",
        "                Rpb3     160         Rpb3_160_pdb     1.0     Rpb3_153_162_pdb    10.0\n",
        "                Rpb3     161         Rpb3_161_pdb     1.0     Rpb3_153_162_pdb    10.0\n",
        "                Rpb3     162         Rpb3_162_pdb     1.0     Rpb3_153_162_pdb    10.0\n",
        "                Rpb3     163         Rpb3_163_pdb     1.0     Rpb3_163_172_pdb    10.0\n",
        "                Rpb3     164         Rpb3_164_pdb     1.0     Rpb3_163_172_pdb    10.0\n",
        "                Rpb3     165         Rpb3_165_pdb     1.0     Rpb3_163_172_pdb    10.0\n",
        "                Rpb3     166         Rpb3_166_pdb     1.0     Rpb3_163_172_pdb    10.0\n",
        "                Rpb3     167         Rpb3_167_pdb     1.0     Rpb3_163_172_pdb    10.0\n",
        "                Rpb3     168         Rpb3_168_pdb     1.0     Rpb3_163_172_pdb    10.0\n",
        "                Rpb3     169         Rpb3_169_pdb     1.0     Rpb3_163_172_pdb    10.0\n",
        "                Rpb3     170         Rpb3_170_pdb     1.0     Rpb3_163_172_pdb    10.0\n",
        "                Rpb3     171         Rpb3_171_pdb     1.0     Rpb3_163_172_pdb    10.0\n",
        "                Rpb3     172         Rpb3_172_pdb     1.0     Rpb3_163_172_pdb    10.0\n",
        "                Rpb3     173         Rpb3_173_pdb     1.0     Rpb3_173_182_pdb    10.0\n",
        "                Rpb3     174         Rpb3_174_pdb     1.0     Rpb3_173_182_pdb    10.0\n",
        "                Rpb3     175         Rpb3_175_pdb     1.0     Rpb3_173_182_pdb    10.0\n",
        "                Rpb3     176         Rpb3_176_pdb     1.0     Rpb3_173_182_pdb    10.0\n",
        "                Rpb3     177         Rpb3_177_pdb     1.0     Rpb3_173_182_pdb    10.0\n",
        "                Rpb3     178         Rpb3_178_pdb     1.0     Rpb3_173_182_pdb    10.0\n",
        "                Rpb3     179         Rpb3_179_pdb     1.0     Rpb3_173_182_pdb    10.0\n",
        "                Rpb3     180         Rpb3_180_pdb     1.0     Rpb3_173_182_pdb    10.0\n",
        "                Rpb3     181         Rpb3_181_pdb     1.0     Rpb3_173_182_pdb    10.0\n",
        "                Rpb3     182         Rpb3_182_pdb     1.0     Rpb3_173_182_pdb    10.0\n",
        "                Rpb3     183         Rpb3_183_pdb     1.0     Rpb3_183_192_pdb    10.0\n",
        "                Rpb3     184         Rpb3_184_pdb     1.0     Rpb3_183_192_pdb    10.0\n",
        "                Rpb3     185         Rpb3_185_pdb     1.0     Rpb3_183_192_pdb    10.0\n",
        "                Rpb3     186         Rpb3_186_pdb     1.0     Rpb3_183_192_pdb    10.0\n",
        "                Rpb3     187         Rpb3_187_pdb     1.0     Rpb3_183_192_pdb    10.0\n",
        "                Rpb3     188         Rpb3_188_pdb     1.0     Rpb3_183_192_pdb    10.0\n",
        "                Rpb3     189         Rpb3_189_pdb     1.0     Rpb3_183_192_pdb    10.0\n",
        "                Rpb3     190         Rpb3_190_pdb     1.0     Rpb3_183_192_pdb    10.0\n",
        "                Rpb3     191         Rpb3_191_pdb     1.0     Rpb3_183_192_pdb    10.0\n",
        "                Rpb3     192         Rpb3_192_pdb     1.0     Rpb3_183_192_pdb    10.0\n",
        "                Rpb3     193         Rpb3_193_pdb     1.0     Rpb3_193_202_pdb    10.0\n",
        "                Rpb3     194         Rpb3_194_pdb     1.0     Rpb3_193_202_pdb    10.0\n",
        "                Rpb3     195         Rpb3_195_pdb     1.0     Rpb3_193_202_pdb    10.0\n",
        "                Rpb3     196         Rpb3_196_pdb     1.0     Rpb3_193_202_pdb    10.0\n",
        "                Rpb3     197         Rpb3_197_pdb     1.0     Rpb3_193_202_pdb    10.0\n",
        "                Rpb3     198         Rpb3_198_pdb     1.0     Rpb3_193_202_pdb    10.0\n",
        "                Rpb3     199         Rpb3_199_pdb     1.0     Rpb3_193_202_pdb    10.0\n",
        "                Rpb3     200         Rpb3_200_pdb     1.0     Rpb3_193_202_pdb    10.0\n",
        "                Rpb3     201         Rpb3_201_pdb     1.0     Rpb3_193_202_pdb    10.0\n",
        "                Rpb3     202         Rpb3_202_pdb     1.0     Rpb3_193_202_pdb    10.0\n",
        "                Rpb3     203         Rpb3_203_pdb     1.0     Rpb3_203_212_pdb    10.0\n",
        "                Rpb3     204         Rpb3_204_pdb     1.0     Rpb3_203_212_pdb    10.0\n",
        "                Rpb3     205         Rpb3_205_pdb     1.0     Rpb3_203_212_pdb    10.0\n",
        "                Rpb3     206         Rpb3_206_pdb     1.0     Rpb3_203_212_pdb    10.0\n",
        "                Rpb3     207         Rpb3_207_pdb     1.0     Rpb3_203_212_pdb    10.0\n",
        "                Rpb3     208         Rpb3_208_pdb     1.0     Rpb3_203_212_pdb    10.0\n",
        "                Rpb3     209         Rpb3_209_pdb     1.0     Rpb3_203_212_pdb    10.0\n",
        "                Rpb3     210         Rpb3_210_pdb     1.0     Rpb3_203_212_pdb    10.0\n",
        "                Rpb3     211         Rpb3_211_pdb     1.0     Rpb3_203_212_pdb    10.0\n",
        "                Rpb3     212         Rpb3_212_pdb     1.0     Rpb3_203_212_pdb    10.0\n",
        "                Rpb3     213         Rpb3_213_pdb     1.0     Rpb3_213_222_pdb    10.0\n",
        "                Rpb3     214         Rpb3_214_pdb     1.0     Rpb3_213_222_pdb    10.0\n",
        "                Rpb3     215         Rpb3_215_pdb     1.0     Rpb3_213_222_pdb    10.0\n",
        "                Rpb3     216         Rpb3_216_pdb     1.0     Rpb3_213_222_pdb    10.0\n",
        "                Rpb3     217         Rpb3_217_pdb     1.0     Rpb3_213_222_pdb    10.0\n",
        "                Rpb3     218         Rpb3_218_pdb     1.0     Rpb3_213_222_pdb    10.0\n",
        "                Rpb3     219         Rpb3_219_pdb     1.0     Rpb3_213_222_pdb    10.0\n",
        "                Rpb3     220 "
       ]
      },
      {
       "output_type": "stream",
       "stream": "stdout",
       "text": [
        "        Rpb3_220_pdb     1.0     Rpb3_213_222_pdb    10.0\n",
        "                Rpb3     221         Rpb3_221_pdb     1.0     Rpb3_213_222_pdb    10.0\n",
        "                Rpb3     222         Rpb3_222_pdb     1.0     Rpb3_213_222_pdb    10.0\n",
        "                Rpb3     223         Rpb3_223_pdb     1.0     Rpb3_223_232_pdb    10.0\n",
        "                Rpb3     224         Rpb3_224_pdb     1.0     Rpb3_223_232_pdb    10.0\n",
        "                Rpb3     225         Rpb3_225_pdb     1.0     Rpb3_223_232_pdb    10.0\n",
        "                Rpb3     226         Rpb3_226_pdb     1.0     Rpb3_223_232_pdb    10.0\n",
        "                Rpb3     227         Rpb3_227_pdb     1.0     Rpb3_223_232_pdb    10.0\n",
        "                Rpb3     228         Rpb3_228_pdb     1.0     Rpb3_223_232_pdb    10.0\n",
        "                Rpb3     229         Rpb3_229_pdb     1.0     Rpb3_223_232_pdb    10.0\n",
        "                Rpb3     230         Rpb3_230_pdb     1.0     Rpb3_223_232_pdb    10.0\n",
        "                Rpb3     231         Rpb3_231_pdb     1.0     Rpb3_223_232_pdb    10.0\n",
        "                Rpb3     232         Rpb3_232_pdb     1.0     Rpb3_223_232_pdb    10.0\n",
        "                Rpb3     233         Rpb3_233_pdb     1.0     Rpb3_233_242_pdb    10.0\n",
        "                Rpb3     234         Rpb3_234_pdb     1.0     Rpb3_233_242_pdb    10.0\n",
        "                Rpb3     235         Rpb3_235_pdb     1.0     Rpb3_233_242_pdb    10.0\n",
        "                Rpb3     236         Rpb3_236_pdb     1.0     Rpb3_233_242_pdb    10.0\n",
        "                Rpb3     237         Rpb3_237_pdb     1.0     Rpb3_233_242_pdb    10.0\n",
        "                Rpb3     238         Rpb3_238_pdb     1.0     Rpb3_233_242_pdb    10.0\n",
        "                Rpb3     239         Rpb3_239_pdb     1.0     Rpb3_233_242_pdb    10.0\n",
        "                Rpb3     240         Rpb3_240_pdb     1.0     Rpb3_233_242_pdb    10.0\n",
        "                Rpb3     241         Rpb3_241_pdb     1.0     Rpb3_233_242_pdb    10.0\n",
        "                Rpb3     242         Rpb3_242_pdb     1.0     Rpb3_233_242_pdb    10.0\n",
        "                Rpb3     243         Rpb3_243_pdb     1.0     Rpb3_243_252_pdb    10.0\n",
        "                Rpb3     244         Rpb3_244_pdb     1.0     Rpb3_243_252_pdb    10.0\n",
        "                Rpb3     245         Rpb3_245_pdb     1.0     Rpb3_243_252_pdb    10.0\n",
        "                Rpb3     246         Rpb3_246_pdb     1.0     Rpb3_243_252_pdb    10.0\n",
        "                Rpb3     247         Rpb3_247_pdb     1.0     Rpb3_243_252_pdb    10.0\n",
        "                Rpb3     248         Rpb3_248_pdb     1.0     Rpb3_243_252_pdb    10.0\n",
        "                Rpb3     249         Rpb3_249_pdb     1.0     Rpb3_243_252_pdb    10.0\n",
        "                Rpb3     250         Rpb3_250_pdb     1.0     Rpb3_243_252_pdb    10.0\n",
        "                Rpb3     251         Rpb3_251_pdb     1.0     Rpb3_243_252_pdb    10.0\n",
        "                Rpb3     252         Rpb3_252_pdb     1.0     Rpb3_243_252_pdb    10.0\n",
        "                Rpb3     253         Rpb3_253_pdb     1.0     Rpb3_253_262_pdb    10.0\n",
        "                Rpb3     254         Rpb3_254_pdb     1.0     Rpb3_253_262_pdb    10.0\n",
        "                Rpb3     255         Rpb3_255_pdb     1.0     Rpb3_253_262_pdb    10.0\n",
        "                Rpb3     256         Rpb3_256_pdb     1.0     Rpb3_253_262_pdb    10.0\n",
        "                Rpb3     257         Rpb3_257_pdb     1.0     Rpb3_253_262_pdb    10.0\n",
        "                Rpb3     258         Rpb3_258_pdb     1.0     Rpb3_253_262_pdb    10.0\n",
        "                Rpb3     259         Rpb3_259_pdb     1.0     Rpb3_253_262_pdb    10.0\n",
        "                Rpb3     260         Rpb3_260_pdb     1.0     Rpb3_253_262_pdb    10.0\n",
        "                Rpb3     261         Rpb3_261_pdb     1.0     Rpb3_253_262_pdb    10.0\n",
        "                Rpb3     262         Rpb3_262_pdb     1.0     Rpb3_253_262_pdb    10.0\n",
        "                Rpb3     263         Rpb3_263_pdb     1.0     Rpb3_263_268_pdb    10.0\n",
        "                Rpb3     264         Rpb3_264_pdb     1.0     Rpb3_263_268_pdb    10.0\n",
        "                Rpb3     265         Rpb3_265_pdb     1.0     Rpb3_263_268_pdb    10.0\n",
        "                Rpb3     266         Rpb3_266_pdb     1.0     Rpb3_263_268_pdb    10.0\n",
        "                Rpb3     267         Rpb3_267_pdb     1.0     Rpb3_263_268_pdb    10.0\n",
        "                Rpb3     268         Rpb3_268_pdb     1.0     Rpb3_263_268_pdb    10.0\n",
        "                Rpb3     269    Rpb3_269-288_bead    20.0\n",
        "                Rpb3     270    Rpb3_269-288_bead    20.0\n",
        "                Rpb3     271    Rpb3_269-288_bead    20.0\n",
        "                Rpb3     272    Rpb3_269-288_bead    20.0\n",
        "                Rpb3     273    Rpb3_269-288_bead    20.0\n",
        "                Rpb3     274    Rpb3_269-288_bead    20.0\n",
        "                Rpb3     275    Rpb3_269-288_bead    20.0\n",
        "                Rpb3     276    Rpb3_269-288_bead    20.0\n",
        "                Rpb3     277    Rpb3_269-288_bead    20.0\n",
        "                Rpb3     278    Rpb3_269-288_bead    20.0\n",
        "                Rpb3     279    Rpb3_269-288_bead    20.0\n",
        "                Rpb3     280    Rpb3_269-288_bead    20.0\n",
        "                Rpb3     281    Rpb3_269-288_bead    20.0\n",
        "                Rpb3     282    Rpb3_269-288_bead    20.0\n",
        "                Rpb3     283    Rpb3_269-288_bead    20.0\n",
        "                Rpb3     284    Rpb3_269-288_bead    20.0\n",
        "                Rpb3     285    Rpb3_269-288_bead    20.0\n",
        "                Rpb3     286    Rpb3_269-288_bead    20.0\n",
        "                Rpb3     287    Rpb3_269-288_bead    20.0\n",
        "                Rpb3     288    Rpb3_269-288_bead    20.0\n",
        "                Rpb3     289    Rpb3_289-308_bead    20.0\n",
        "                Rpb3     290    Rpb3_289-308_bead    20.0\n",
        "                Rpb3     291    Rpb3_289-308_bead    20.0\n",
        "                Rpb3     292    Rpb3_289-308_bead    20.0\n",
        "                Rpb3     293    Rpb3_289-308_bead    20.0\n",
        "                Rpb3     294    Rpb3_289-308_bead    20.0\n",
        "                Rpb3     295    Rpb3_289-308_bead    20.0\n",
        "                Rpb3     296    Rpb3_289-308_bead    20.0\n",
        "                Rpb3     297    Rpb3_289-308_bead    20.0\n",
        "                Rpb3     298    Rpb3_289-308_bead    20.0\n",
        "                Rpb3     299    Rpb3_289-308_bead    20.0\n",
        "                Rpb3     300    Rpb3_289-308_bead    20.0\n",
        "                Rpb3     301    Rpb3_289-308_bead    20.0\n",
        "                Rpb3     302    Rpb3_289-308_bead    20.0\n",
        "                Rpb3     303    Rpb3_289-308_bead    20.0\n",
        "                Rpb3     304    Rpb3_289-308_bead    20.0\n",
        "                Rpb3     305    Rpb3_289-308_bead    20.0\n",
        "                Rpb3     306    Rpb3_289-308_bead    20.0\n",
        "                Rpb3     307    Rpb3_289-308_bead    20.0\n",
        "                Rpb3     308    Rpb3_289-308_bead    20.0\n",
        "                Rpb3     309    Rpb3_309-318_bead    10.0\n",
        "                Rpb3     310    Rpb3_309-318_bead    10.0\n",
        "                Rpb3     311    Rpb3_309-318_bead    10.0\n",
        "                Rpb3     312    Rpb3_309-318_bead    10.0\n",
        "                Rpb3     313    Rpb3_309-318_bead    10.0\n",
        "                Rpb3     314    Rpb3_309-318_bead    10.0\n",
        "                Rpb3     315    Rpb3_309-318_bead    10.0\n",
        "                Rpb3     316    Rpb3_309-318_bead    10.0\n",
        "                Rpb3     317    Rpb3_309-318_bead    10.0\n",
        "                Rpb3     318    Rpb3_309-318_bead    10.0\n",
        "Adding sequence connectivity restraint between"
       ]
      },
      {
       "output_type": "stream",
       "stream": "stdout",
       "text": [
        " Rpb3_1-2_bead  and  Rpb3_3_pdb\n",
        "Adding sequence connectivity restraint between Rpb3_268_pdb  and  Rpb3_269-288_bead\n",
        "Adding sequence connectivity restraint between Rpb3_269-288_bead  and  Rpb3_289-308_bead\n",
        "Adding sequence connectivity restraint between Rpb3_289-308_bead  and  Rpb3_309-318_bead\n",
        "autobuild_model: constructing Rpb4 from pdb /Users/riccardopellarin/imp-200114/imp-fast/data/pmi/1WCM.pdb and chain D\n",
        "autobuild_model: constructing fragment (1, 3) as a bead"
       ]
      },
      {
       "output_type": "stream",
       "stream": "stdout",
       "text": [
        "\n",
        "autobuild_model: constructing fragment (4, 76) from pdb\n",
        "autobuild_model: constructing fragment (77, 117) as a bead"
       ]
      },
      {
       "output_type": "stream",
       "stream": "stdout",
       "text": [
        "\n",
        "autobuild_model: constructing fragment (118, 177) from pdb\n",
        "                Rpb4       1"
       ]
      },
      {
       "output_type": "stream",
       "stream": "stdout",
       "text": [
        "        Rpb4_1-3_bead     3.0\n",
        "                Rpb4       2        Rpb4_1-3_bead     3.0\n",
        "                Rpb4       3        Rpb4_1-3_bead     3.0\n",
        "                Rpb4       4           Rpb4_4_pdb     1.0        Rpb4_4_13_pdb    10.0\n",
        "                Rpb4       5           Rpb4_5_pdb     1.0        Rpb4_4_13_pdb    10.0\n",
        "                Rpb4       6           Rpb4_6_pdb     1.0        Rpb4_4_13_pdb    10.0\n",
        "                Rpb4       7           Rpb4_7_pdb     1.0        Rpb4_4_13_pdb    10.0\n",
        "                Rpb4       8           Rpb4_8_pdb     1.0        Rpb4_4_13_pdb    10.0\n",
        "                Rpb4       9           Rpb4_9_pdb     1.0        Rpb4_4_13_pdb    10.0\n",
        "                Rpb4      10          Rpb4_10_pdb     1.0        Rpb4_4_13_pdb    10.0\n",
        "                Rpb4      11          Rpb4_11_pdb     1.0        Rpb4_4_13_pdb    10.0\n",
        "                Rpb4      12          Rpb4_12_pdb     1.0        Rpb4_4_13_pdb    10.0\n",
        "                Rpb4      13          Rpb4_13_pdb     1.0        Rpb4_4_13_pdb    10.0\n",
        "                Rpb4      14          Rpb4_14_pdb     1.0       Rpb4_14_23_pdb    10.0\n",
        "                Rpb4      15          Rpb4_15_pdb     1.0       Rpb4_14_23_pdb    10.0\n",
        "                Rpb4      16          Rpb4_16_pdb     1.0       Rpb4_14_23_pdb    10.0\n",
        "                Rpb4      17          Rpb4_17_pdb     1.0       Rpb4_14_23_pdb    10.0\n",
        "                Rpb4      18          Rpb4_18_pdb     1.0       Rpb4_14_23_pdb    10.0\n",
        "                Rpb4      19          Rpb4_19_pdb     1.0       Rpb4_14_23_pdb    10.0\n",
        "                Rpb4      20          Rpb4_20_pdb     1.0       Rpb4_14_23_pdb    10.0\n",
        "                Rpb4      21          Rpb4_21_pdb     1.0       Rpb4_14_23_pdb    10.0\n",
        "                Rpb4      22          Rpb4_22_pdb     1.0       Rpb4_14_23_pdb    10.0\n",
        "                Rpb4      23          Rpb4_23_pdb     1.0       Rpb4_14_23_pdb    10.0\n",
        "                Rpb4      24          Rpb4_24_pdb     1.0       Rpb4_24_33_pdb    10.0\n",
        "                Rpb4      25          Rpb4_25_pdb     1.0       Rpb4_24_33_pdb    10.0\n",
        "                Rpb4      26          Rpb4_26_pdb     1.0       Rpb4_24_33_pdb    10.0\n",
        "                Rpb4      27          Rpb4_27_pdb     1.0       Rpb4_24_33_pdb    10.0\n",
        "                Rpb4      28          Rpb4_28_pdb     1.0       Rpb4_24_33_pdb    10.0\n",
        "                Rpb4      29          Rpb4_29_pdb     1.0       Rpb4_24_33_pdb    10.0\n",
        "                Rpb4      30          Rpb4_30_pdb     1.0       Rpb4_24_33_pdb    10.0\n",
        "                Rpb4      31          Rpb4_31_pdb     1.0       Rpb4_24_33_pdb    10.0\n",
        "                Rpb4      32          Rpb4_32_pdb     1.0       Rpb4_24_33_pdb    10.0\n",
        "                Rpb4      33          Rpb4_33_pdb     1.0       Rpb4_24_33_pdb    10.0\n",
        "                Rpb4      34          Rpb4_34_pdb     1.0       Rpb4_34_43_pdb    10.0\n",
        "                Rpb4      35          Rpb4_35_pdb     1.0       Rpb4_34_43_pdb    10.0\n",
        "                Rpb4      36          Rpb4_36_pdb     1.0       Rpb4_34_43_pdb    10.0\n",
        "                Rpb4      37          Rpb4_37_pdb     1.0       Rpb4_34_43_pdb    10.0\n",
        "                Rpb4      38          Rpb4_38_pdb     1.0       Rpb4_34_43_pdb    10.0\n",
        "                Rpb4      39          Rpb4_39_pdb     1.0       Rpb4_34_43_pdb    10.0\n",
        "                Rpb4      40          Rpb4_40_pdb     1.0       Rpb4_34_43_pdb    10.0\n",
        "                Rpb4      41          Rpb4_41_pdb     1.0       Rpb4_34_43_pdb    10.0\n",
        "                Rpb4      42          Rpb4_42_pdb     1.0       Rpb4_34_43_pdb    10.0\n",
        "                Rpb4      43          Rpb4_43_pdb     1.0       Rpb4_34_43_pdb    10.0\n",
        "                Rpb4      44          Rpb4_44_pdb     1.0       Rpb4_44_53_pdb    10.0\n",
        "                Rpb4      45          Rpb4_45_pdb     1.0       Rpb4_44_53_pdb    10.0\n",
        "                Rpb4      46          Rpb4_46_pdb     1.0       Rpb4_44_53_pdb    10.0\n",
        "                Rpb4      47          Rpb4_47_pdb     1.0       Rpb4_44_53_pdb    10.0\n",
        "                Rpb4      48          Rpb4_48_pdb     1.0       Rpb4_44_53_pdb    10.0\n",
        "                Rpb4      49          Rpb4_49_pdb     1.0       Rpb4_44_53_pdb    10.0\n",
        "                Rpb4      50          Rpb4_50_pdb     1.0       Rpb4_44_53_pdb    10.0\n",
        "                Rpb4      51          Rpb4_51_pdb     1.0       Rpb4_44_53_pdb    10.0\n",
        "                Rpb4      52          Rpb4_52_pdb     1.0       Rpb4_44_53_pdb    10.0\n",
        "                Rpb4      53          Rpb4_53_pdb     1.0       Rpb4_44_53_pdb    10.0\n",
        "                Rpb4      54          Rpb4_54_pdb     1.0       Rpb4_54_63_pdb    10.0\n",
        "                Rpb4      55          Rpb4_55_pdb     1.0       Rpb4_54_63_pdb    10.0\n",
        "                Rpb4      56          Rpb4_56_pdb     1.0       Rpb4_54_63_pdb    10.0\n",
        "                Rpb4      57          Rpb4_57_pdb     1.0       Rpb4_54_63_pdb    10.0\n",
        "                Rpb4      58          Rpb4_58_pdb     1.0       Rpb4_54_63_pdb    10.0\n",
        "                Rpb4      59          Rpb4_59_pdb     1.0       Rpb4_54_63_pdb    10.0\n",
        "                Rpb4      60          Rpb4_60_pdb     1.0       Rpb4_54_63_pdb    10.0\n",
        "                Rpb4      61          Rpb4_61_pdb     1.0       Rpb4_54_63_pdb    10.0\n",
        "                Rpb4      62          Rpb4_62_pdb     1.0       Rpb4_54_63_pdb    10.0\n",
        "                Rpb4      63          Rpb4_63_pdb     1.0       Rpb4_54_63_pdb    10.0\n",
        "                Rpb4      64          Rpb4_64_pdb     1.0       Rpb4_64_73_pdb    10.0\n",
        "                Rpb4      65          Rpb4_65_pdb     1.0       Rpb4_64_73_pdb    10.0\n",
        "                Rpb4      66          Rpb4_66_pdb     1.0       Rpb4_64_73_pdb    10.0\n",
        "                Rpb4      67          Rpb4_67_pdb     1.0       Rpb4_64_73_pdb    10.0\n",
        "                Rpb4      68          Rpb4_68_pdb     1.0       Rpb4_64_73_pdb    10.0\n",
        "                Rpb4      69          Rpb4_69_pdb     1.0       Rpb4_64_73_pdb    10.0\n",
        "                Rpb4      70          Rpb4_70_pdb     1.0       Rpb4_64_73_pdb    10.0\n",
        "                Rpb4      71          Rpb4_71_pdb     1.0       Rpb4_64_73_pdb    10.0\n",
        "                Rpb4      72          Rpb4_72_pdb     1.0       Rpb4_64_73_pdb    10.0\n",
        "                Rpb4      73          Rpb4_73_pdb     1.0       Rpb4_64_73_pdb    10.0\n",
        "                Rpb4      74          Rpb4_74_pdb     1.0       Rpb4_74_76_pdb    10.0\n",
        "                Rpb4      75          Rpb4_75_pdb     1.0       Rpb4_74_76_pdb    10.0\n",
        "                Rpb4      76          Rpb4_76_pdb     1.0       Rpb4_74_76_pdb    10.0\n",
        "                Rpb4      77      Rpb4_77-96_bead    20.0\n",
        "                Rpb4      78      Rpb4_77-96_bead    20.0\n",
        "                Rpb4      79      Rpb4_77-96_bead    20.0\n",
        "                Rpb4      80      Rpb4_77-96_bead    20.0\n",
        "                Rpb4      81      Rpb4_77-96_bead    20.0\n",
        "                Rpb4      82      Rpb4_77-96_bead    20.0\n",
        "                Rpb4      83      Rpb4_77-96_bead    20.0\n",
        "                Rpb4      84      Rpb4_77-96_bead    20.0\n",
        "                Rpb4      85      Rpb4_77-96_bead    20.0\n",
        "                Rpb4      86      Rpb4_77-96_bead    20.0\n",
        "                Rpb4      87      Rpb4_77-96_bead    20.0\n",
        "                Rpb4      88      Rpb4_77-96_bead    20.0\n",
        "                Rpb4      89      Rpb4_77-96_bead    20.0\n",
        "                Rpb4      90      Rpb4_77-96_bead    20.0\n",
        "                Rpb4      91      Rpb4_77-96_bead    20.0\n",
        "                Rpb4      92      Rpb4_77-96_bead    20.0\n",
        "                Rpb4      93      Rpb4_77-96_bead    20.0\n",
        "                Rpb4      94      Rpb4_77-96_bead    20.0\n",
        "                Rpb4      95      Rpb4_77-96_bead    20.0\n",
        "                Rpb4      96      Rpb4_77-96_bead    20.0\n",
        "                Rpb4      97     Rpb4_97-116_bead    20.0\n",
        "                Rpb4      98     Rpb4_97-116_bead    20.0\n",
        "                Rpb4      99     Rpb4_97-116_bead    20.0\n",
        "                Rpb4     100     Rpb4_97-116_bead    20.0\n",
        "                Rpb4     101     Rpb4_97-116_bead    20.0\n",
        "                Rpb4     102     Rpb4_97-116_bead    20.0\n",
        "                Rpb4     103     Rpb4_97-116_bead    20.0\n",
        "                Rpb4     104     Rpb4_97-116_bead    20.0\n",
        "                Rpb4     105     Rpb4_97-116_bead    20.0\n",
        "                Rpb4     106     Rpb4_97-116_bead    20.0\n",
        "                Rpb4     107     Rpb4_97-116_bead    20.0\n",
        "                Rpb4     108     Rpb4_97-116_bead    20.0\n",
        "                Rpb4     109     Rpb4_97-116_bead    20.0\n",
        "                Rpb4     110     Rpb4_97-116_bead    20.0\n",
        "                Rpb4     111     Rpb4_97-116_bead    20.0\n",
        "                Rpb4     112     Rpb4_97-116_bead    20.0\n",
        "                Rpb4     113     Rpb4_97-116_bead    20.0\n",
        "                Rpb4     114     Rpb4_97-116_bead    20.0\n",
        "                Rpb4     115     Rpb4_97-116_bead    20.0\n",
        "                Rpb4     116     Rpb4_97-116_bead    20.0\n",
        "                Rpb4     117        Rpb4_117_bead     1.0\n",
        "                Rpb4     118         Rpb4_118_pdb     1.0     Rpb4_118_127_pdb    10.0\n",
        "                Rpb4     119         Rpb4_119_pdb     1.0     Rpb4_118_127_pdb    10.0\n",
        "                Rpb4     120         Rpb4_120_pdb     1.0     Rpb4_118_127_pdb    10.0\n",
        "                Rpb4     121         Rpb4_121_pdb     1.0     Rpb4_118_127_pdb    10.0\n",
        "                Rpb4     122         Rpb4_122_pdb     1.0     Rpb4_118_127_pdb    10.0\n",
        "                Rpb4     123         Rpb4_123_pdb     1.0     Rpb4_118_127_pdb    10.0\n",
        "                Rpb4     124         Rpb4_124_pdb     1.0     Rpb4_118_127_pdb    10.0\n",
        "                Rpb4     125         Rpb4_125_pdb     1.0     Rpb4_118_127_pdb    10.0\n",
        "                Rpb4     126         Rpb4_126_pdb     1.0     Rpb4_118_127_pdb    10.0\n",
        "                Rpb4     127         Rpb4_127_pdb     1.0     Rpb4_118_127_pdb    10.0\n",
        "                Rpb4     128         Rpb4_128_pdb     1.0     Rpb4_128_137_pdb    10.0\n",
        "                Rpb4     129         Rpb4_129_pdb     1.0     Rpb4_128_137_pdb    10.0\n",
        "                Rpb4     130         Rpb4_130_pdb     1.0     Rpb4_128_137_pdb    10.0\n",
        "                Rpb4     131         Rpb4_131_pdb     1.0     Rpb4_128_137_pdb    10.0\n",
        "                Rpb4     132         Rpb4_132_pdb     1.0     Rpb4_128_137_pdb    10.0\n",
        "                Rpb4     133         Rpb4_133_pdb     1.0     Rpb4_128_137_pdb    10.0\n",
        "                Rpb4     134         Rpb4_134_pdb     1.0     Rpb4_128_137_pdb    10.0\n",
        "                Rpb4     135         Rpb4_135_pdb     1.0     Rpb4_128_137_pdb    10.0\n",
        "                Rpb4     136         Rpb4_136_pdb     1.0     Rpb4_128_137_pdb    10.0\n",
        "                Rpb4     137         Rpb4_137_pdb     1.0     Rpb4_128_137_pdb    10.0\n",
        "                Rpb4     138         Rpb4_138_pdb     1.0     Rpb4_138_147_pdb    10.0\n",
        "                Rpb4     139         Rpb4_139_pdb     1.0     Rpb4_138_147_pdb    10.0\n",
        "                Rpb4     140         Rpb4_140_pdb     1.0     Rpb4_138_147_pdb    10.0\n",
        "                Rpb4     141         Rpb4_141_pdb     1.0     Rpb4_138_147_pdb    10.0\n",
        "                Rpb4     142         Rpb4_142_pdb     1.0     Rpb4_138_147_pdb    10.0\n",
        "                Rpb4     143         Rpb4_143_pdb     1.0     Rpb4_138_147_pdb    10.0\n",
        "                Rpb4     144         Rpb4_144_pdb     1.0     Rpb4_138_147_pdb    10.0\n",
        "                Rpb4     145         Rpb4_145_pdb     1.0     Rpb4_138_147_pdb    10.0\n",
        "                Rpb4     146         Rpb4_146_pdb     1.0     Rpb4_138_147_pdb    10.0\n",
        "                Rpb4     147         Rpb4_147_pdb     1.0     Rpb4_138_147_pdb    10.0\n",
        "                Rpb4     148         Rpb4_148_pdb     1.0     Rpb4_148_157_pdb    10.0\n",
        "                Rpb4     149         Rpb4_149_pdb     1.0     Rpb4_148_157_pdb    10.0\n",
        "                Rpb4     150         Rpb4_150_pdb     1.0     Rpb4_148_157_pdb    10.0\n",
        "                Rpb4     151         Rpb4_151_pdb     1.0     Rpb4_148_157_pdb    10.0\n",
        "                Rpb4     152         Rpb4_152_pdb     1.0     Rpb4_148_157_pdb    10.0\n",
        "                Rpb4     153         Rpb4_153_pdb     1.0     Rpb4_148_157_pdb    10.0\n",
        "                Rpb4     154         Rpb4_154_pdb     1.0     Rpb4_148_157_pdb    10.0\n",
        "                Rpb4     155         Rpb4_155_pdb     1.0     Rpb4_148_157_pdb    10.0\n",
        "                Rpb4     156         Rpb4_156_pdb     1.0     Rpb4_148_157_pdb    10.0\n",
        "                Rpb4     157         Rpb4_157_pdb     1.0     Rpb4_148_157_pdb    10.0\n",
        "                Rpb4     158         Rpb4_158_pdb     1.0     Rpb4_158_167_pdb    10.0\n",
        "                Rpb4     159         Rpb4_159_pdb     1.0     Rpb4_158_167_pdb    10.0\n",
        "                Rpb4     160         Rpb4_160_pdb     1.0     Rpb4_158_167_pdb    10.0\n",
        "                Rpb4     161         Rpb4_161_pdb     1.0     Rpb4_158_167_pdb    10.0\n",
        "                Rpb4     162         Rpb4_162_pdb     1.0     Rpb4_158_167_pdb    10.0\n",
        "                Rpb4     163         Rpb4_163_pdb     1.0     Rpb4_158_167_pdb    10.0\n",
        "                Rpb4     164         Rpb4_164_pdb     1.0     Rpb4_158_167_pdb    10.0\n",
        "                Rpb4     165         Rpb4_165_pdb     1.0     Rpb4_158_167_pdb    10.0\n",
        "                Rpb4     166         Rpb4_166_pdb     1.0     Rpb4_158_167_pdb    10.0\n",
        "                Rpb4     167         Rpb4_167_pdb     1.0     Rpb4_158_167_pdb    10.0\n",
        "                Rpb4     168         Rpb4_168_pdb     1.0     Rpb4_168_177_pdb    10.0\n",
        "                Rpb4     169         Rpb4_169_pdb     1.0     Rpb4_168_177_pdb    10.0\n",
        "                Rpb4     170         Rpb4_170_pdb     1.0     Rpb4_168_177_pdb    10.0\n",
        "                Rpb4     171         Rpb4_171_pdb     1.0     Rpb4_168_177_pdb    10.0\n",
        "                Rpb4     172         Rpb4_172_pdb     1.0     Rpb4_168_177_pdb    10.0\n",
        "                Rpb4     173         Rpb4_173_pdb     1.0     Rpb4_168_177_pdb    10.0\n",
        "                Rpb4     174         Rpb4_174_pdb     1.0     Rpb4_168_177_pdb    10.0\n",
        "                Rpb4     175         Rpb4_175_pdb     1.0     Rpb4_168_177_pdb    10.0\n",
        "                Rpb4     176         Rpb4_176_pdb     1.0     Rpb4_168_177_pdb    10.0\n",
        "                Rpb4     177         Rpb4_177_pdb     1.0     Rpb4_168_177_pdb    10.0\n",
        "Adding sequence connectivity restraint between"
       ]
      },
      {
       "output_type": "stream",
       "stream": "stdout",
       "text": [
        " Rpb4_1-3_bead  and  Rpb4_4_pdb\n",
        "Adding sequence connectivity restraint between Rpb4_76_pdb  and  Rpb4_77-96_bead\n",
        "Adding sequence connectivity restraint between Rpb4_77-96_bead  and  Rpb4_97-116_bead\n",
        "Adding sequence connectivity restraint between Rpb4_97-116_bead  and  Rpb4_117_bead\n",
        "Adding sequence connectivity restraint between Rpb4_117_bead  and  Rpb4_118_pdb\n",
        "autobuild_model: constructing Rpb5 from pdb /Users/riccardopellarin/imp-200114/imp-fast/data/pmi/1WCM.pdb and chain E\n",
        "autobuild_model: constructing fragment (1, 1) as a bead"
       ]
      },
      {
       "output_type": "stream",
       "stream": "stdout",
       "text": [
        "\n",
        "autobuild_model: constructing fragment (2, 215) from pdb\n",
        "                Rpb5       1"
       ]
      },
      {
       "output_type": "stream",
       "stream": "stdout",
       "text": [
        "          Rpb5_1_bead     1.0\n",
        "                Rpb5       2           Rpb5_2_pdb     1.0        Rpb5_2_11_pdb    10.0\n",
        "                Rpb5       3           Rpb5_3_pdb     1.0        Rpb5_2_11_pdb    10.0\n",
        "                Rpb5       4           Rpb5_4_pdb     1.0        Rpb5_2_11_pdb    10.0\n",
        "                Rpb5       5           Rpb5_5_pdb     1.0        Rpb5_2_11_pdb    10.0\n",
        "                Rpb5       6           Rpb5_6_pdb     1.0        Rpb5_2_11_pdb    10.0\n",
        "                Rpb5       7           Rpb5_7_pdb     1.0        Rpb5_2_11_pdb    10.0\n",
        "                Rpb5       8           Rpb5_8_pdb     1.0        Rpb5_2_11_pdb    10.0\n",
        "                Rpb5       9           Rpb5_9_pdb     1.0        Rpb5_2_11_pdb    10.0\n",
        "                Rpb5      10          Rpb5_10_pdb     1.0        Rpb5_2_11_pdb    10.0\n",
        "                Rpb5      11          Rpb5_11_pdb     1.0        Rpb5_2_11_pdb    10.0\n",
        "                Rpb5      12          Rpb5_12_pdb     1.0       Rpb5_12_21_pdb    10.0\n",
        "                Rpb5      13          Rpb5_13_pdb     1.0       Rpb5_12_21_pdb    10.0\n",
        "                Rpb5      14          Rpb5_14_pdb     1.0       Rpb5_12_21_pdb    10.0\n",
        "                Rpb5      15          Rpb5_15_pdb     1.0       Rpb5_12_21_pdb    10.0\n",
        "                Rpb5      16          Rpb5_16_pdb     1.0       Rpb5_12_21_pdb    10.0\n",
        "                Rpb5      17          Rpb5_17_pdb     1.0       Rpb5_12_21_pdb    10.0\n",
        "                Rpb5      18          Rpb5_18_pdb     1.0       Rpb5_12_21_pdb    10.0\n",
        "                Rpb5      19          Rpb5_19_pdb     1.0       Rpb5_12_21_pdb    10.0\n",
        "                Rpb5      20          Rpb5_20_pdb     1.0       Rpb5_12_21_pdb    10.0\n",
        "                Rpb5      21          Rpb5_21_pdb     1.0       Rpb5_12_21_pdb    10.0\n",
        "                Rpb5      22          Rpb5_22_pdb     1.0       Rpb5_22_31_pdb    10.0\n",
        "                Rpb5      23          Rpb5_23_pdb     1.0       Rpb5_22_31_pdb    10.0\n",
        "                Rpb5      24          Rpb5_24_pdb     1.0       Rpb5_22_31_pdb    10.0\n",
        "                Rpb5      25          Rpb5_25_pdb     1.0       Rpb5_22_31_pdb    10.0\n",
        "                Rpb5      26          Rpb5_26_pdb     1.0       Rpb5_22_31_pdb    10.0\n",
        "                Rpb5      27          Rpb5_27_pdb     1.0       Rpb5_22_31_pdb    10.0\n",
        "                Rpb5      28          Rpb5_28_pdb     1.0       Rpb5_22_31_pdb    10.0\n",
        "                Rpb5      29          Rpb5_29_pdb     1.0       Rpb5_22_31_pdb    10.0\n",
        "                Rpb5      30          Rpb5_30_pdb     1.0       Rpb5_22_31_pdb    10.0\n",
        "                Rpb5      31          Rpb5_31_pdb     1.0       Rpb5_22_31_pdb    10.0\n",
        "                Rpb5      32          Rpb5_32_pdb     1.0       Rpb5_32_41_pdb    10.0\n",
        "                Rpb5      33          Rpb5_33_pdb     1.0       Rpb5_32_41_pdb    10.0\n",
        "                Rpb5      34          Rpb5_34_pdb     1.0       Rpb5_32_41_pdb    10.0\n",
        "                Rpb5      35          Rpb5_35_pdb     1.0       Rpb5_32_41_pdb    10.0\n",
        "                Rpb5      36          Rpb5_36_pdb     1.0       Rpb5_32_41_pdb    10.0\n",
        "                Rpb5      37          Rpb5_37_pdb     1.0       Rpb5_32_41_pdb    10.0\n",
        "                Rpb5      38          Rpb5_38_pdb     1.0       Rpb5_32_41_pdb    10.0\n",
        "                Rpb5      39          Rpb5_39_pdb     1.0       Rpb5_32_41_pdb    10.0\n",
        "                Rpb5      40          Rpb5_40_pdb     1.0       Rpb5_32_41_pdb    10.0\n",
        "                Rpb5      41          Rpb5_41_pdb     1.0       Rpb5_32_41_pdb    10.0\n",
        "                Rpb5      42          Rpb5_42_pdb     1.0       Rpb5_42_51_pdb    10.0\n",
        "                Rpb5      43          Rpb5_43_pdb     1.0       Rpb5_42_51_pdb    10.0\n",
        "                Rpb5      44          Rpb5_44_pdb     1.0       Rpb5_42_51_pdb    10.0\n",
        "                Rpb5      45          Rpb5_45_pdb     1.0       Rpb5_42_51_pdb    10.0\n",
        "                Rpb5      46          Rpb5_46_pdb     1.0       Rpb5_42_51_pdb    10.0\n",
        "                Rpb5      47          Rpb5_47_pdb     1.0       Rpb5_42_51_pdb    10.0\n",
        "                Rpb5      48          Rpb5_48_pdb     1.0       Rpb5_42_51_pdb    10.0\n",
        "                Rpb5      49          Rpb5_49_pdb     1.0       Rpb5_42_51_pdb    10.0\n",
        "                Rpb5      50          Rpb5_50_pdb     1.0       Rpb5_42_51_pdb    10.0\n",
        "                Rpb5      51          Rpb5_51_pdb     1.0       Rpb5_42_51_pdb    10.0\n",
        "                Rpb5      52          Rpb5_52_pdb     1.0       Rpb5_52_61_pdb    10.0\n",
        "                Rpb5      53          Rpb5_53_pdb     1.0       Rpb5_52_61_pdb    10.0\n",
        "                Rpb5      54          Rpb5_54_pdb     1.0       Rpb5_52_61_pdb    10.0\n",
        "                Rpb5      55          Rpb5_55_pdb     1.0       Rpb5_52_61_pdb    10.0\n",
        "                Rpb5      56          Rpb5_56_pdb     1.0       Rpb5_52_61_pdb    10.0\n",
        "                Rpb5      57          Rpb5_57_pdb     1.0       Rpb5_52_61_pdb    10.0\n",
        "                Rpb5      58          Rpb5_58_pdb     1.0       Rpb5_52_61_pdb    10.0\n",
        "                Rpb5      59          Rpb5_59_pdb     1.0       Rpb5_52_61_pdb    10.0\n",
        "                Rpb5      60          Rpb5_60_pdb     1.0       Rpb5_52_61_pdb    10.0\n",
        "                Rpb5      61          Rpb5_61_pdb     1.0       Rpb5_52_61_pdb    10.0\n",
        "                Rpb5      62          Rpb5_62_pdb     1.0       Rpb5_62_71_pdb    10.0\n",
        "                Rpb5      63          Rpb5_63_pdb     1.0       Rpb5_62_71_pdb    10.0\n",
        "                Rpb5      64          Rpb5_64_pdb     1.0       Rpb5_62_71_pdb    10.0\n",
        "                Rpb5      65          Rpb5_65_pdb     1.0       Rpb5_62_71_pdb    10.0\n",
        "                Rpb5      66          Rpb5_66_pdb     1.0       Rpb5_62_71_pdb    10.0\n",
        "                Rpb5      67          Rpb5_67_pdb     1.0       Rpb5_62_71_pdb    10.0\n",
        "                Rpb5      68          Rpb5_68_pdb     1.0       Rpb5_62_71_pdb    10.0\n",
        "                Rpb5      69          Rpb5_69_pdb     1.0       Rpb5_62_71_pdb    10.0\n",
        "                Rpb5      70          Rpb5_70_pdb     1.0       Rpb5_62_71_pdb    10.0\n",
        "                Rpb5      71          Rpb5_71_pdb     1.0       Rpb5_62_71_pdb    10.0\n",
        "                Rpb5      72          Rpb5_72_pdb     1.0       Rpb5_72_81_pdb    10.0\n",
        "                Rpb5      73          Rpb5_73_pdb     1.0       Rpb5_72_81_pdb    10.0\n",
        "                Rpb5      74          Rpb5_74_pdb     1.0       Rpb5_72_81_pdb    10.0\n",
        "                Rpb5      75          Rpb5_75_pdb     1.0       Rpb5_72_81_pdb    10.0\n",
        "                Rpb5      76          Rpb5_76_pdb     1.0       Rpb5_72_81_pdb    10.0\n",
        "                Rpb5      77          Rpb5_77_pdb     1.0       Rpb5_72_81_pdb    10.0\n",
        "                Rpb5      78          Rpb5_78_pdb     1.0       Rpb5_72_81_pdb    10.0\n",
        "                Rpb5      79          Rpb5_79_pdb     1.0       Rpb5_72_81_pdb    10.0\n",
        "                Rpb5      80          Rpb5_80_pdb     1.0       Rpb5_72_81_pdb    10.0\n",
        "                Rpb5      81          Rpb5_81_pdb     1.0       Rpb5_72_81_pdb    10.0\n",
        "                Rpb5      82          Rpb5_82_pdb     1.0       Rpb5_82_91_pdb    10.0\n",
        "                Rpb5      83          Rpb5_83_pdb     1.0       Rpb5_82_91_pdb    10.0\n",
        "                Rpb5      84          Rpb5_84_pdb     1.0       Rpb5_82_91_pdb    10.0\n",
        "                Rpb5      85          Rpb5_85_pdb     1.0       Rpb5_82_91_pdb    10.0\n",
        "                Rpb5      86          Rpb5_86_pdb     1.0       Rpb5_82_91_pdb    10.0\n",
        "                Rpb5      87          Rpb5_87_pdb     1.0       Rpb5_82_91_pdb    10.0\n",
        "                Rpb5      88          Rpb5_88_pdb     1.0       Rpb5_82_91_pdb    10.0\n",
        "                Rpb5      89          Rpb5_89_pdb     1.0       Rpb5_82_91_pdb    10.0\n",
        "                Rpb5      90          Rpb5_90_pdb     1.0       Rpb5_82_91_pdb    10.0\n",
        "                Rpb5      91          Rpb5_91_pdb     1.0       Rpb5_82_91_pdb    10.0\n",
        "                Rpb5      92          Rpb5_92_pdb     1.0      Rpb5_92_101_pdb    10.0\n",
        "                Rpb5      93          Rpb5_93_pdb     1.0      Rpb5_92_101_pdb    10.0\n",
        "                Rpb5      94          Rpb5_94_pdb     1.0      Rpb5_92_101_pdb    10.0\n",
        "                Rpb5      95          Rpb5_95_pdb     1.0      Rpb5_92_101_pdb    10.0\n",
        "                Rpb5      96          Rpb5_96_pdb     1.0      Rpb5_92_101_pdb    10.0\n",
        "                Rpb5      97          Rpb5_97_pdb     1.0      Rpb5_92_101_pdb    10.0\n",
        "                Rpb5      98          Rpb5_98_pdb     1.0      Rpb5_92_101_pdb    10.0\n",
        "                Rpb5      99          Rpb5_99_pdb     1.0      Rpb5_92_101_pdb    10.0\n",
        "                Rpb5     100         Rpb5_100_pdb     1.0      Rpb5_92_101_pdb    10.0\n",
        "                Rpb5     101         Rpb5_101_pdb     1.0      Rpb5_92_101_pdb    10.0\n",
        "                Rpb5     102         Rpb5_102_pdb     1.0     Rpb5_102_111_pdb    10.0\n",
        "                Rpb5     103         Rpb5_103_pdb     1.0     Rpb5_102_111_pdb    10.0\n",
        "                Rpb5     104         Rpb5_104_pdb     1.0     Rpb5_102_111_pdb    10.0\n",
        "                Rpb5     105         Rpb5_105_pdb     1.0     Rpb5_102_111_pdb    10.0\n",
        "                Rpb5     106         Rpb5_106_pdb     1.0     Rpb5_102_111_pdb    10.0\n",
        "                Rpb5     107         Rpb5_107_pdb     1.0     Rpb5_102_111_pdb    10.0\n",
        "                Rpb5     108         Rpb5_108_pdb     1.0     Rpb5_102_111_pdb    10.0\n",
        "                Rpb5     109         Rpb5_109_pdb     1.0     Rpb5_102_111_pdb    10.0\n",
        "                Rpb5     110         Rpb5_110_pdb     1.0     Rpb5_102_111_pdb    10.0\n",
        "                Rpb5     111         Rpb5_111_pdb     1.0     Rpb5_102_111_pdb    10.0\n",
        "                Rpb5     112         Rpb5_112_pdb     1.0     Rpb5_112_121_pdb    10.0\n",
        "                Rpb5     113         Rpb5_113_pdb     1.0     Rpb5_112_121_pdb    10.0\n",
        "                Rpb5     114         Rpb5_114_pdb     1.0     Rpb5_112_121_pdb    10.0\n",
        "                Rpb5     115         Rpb5_115_pdb     1.0     Rpb5_112_121_pdb    10.0\n",
        "                Rpb5     116         Rpb5_116_pdb     1.0     Rpb5_112_121_pdb    10.0\n",
        "                Rpb5     117         Rpb5_117_pdb     1.0     Rpb5_112_121_pdb    10.0\n",
        "                Rpb5     118         Rpb5_118_pdb     1.0     Rpb5_112_121_pdb    10.0\n",
        "                Rpb5     119         Rpb5_119_pdb     1.0     Rpb5_112_121_pdb    10.0\n",
        "                Rpb5     120         Rpb5_120_pdb     1.0     Rpb5_112_121_pdb    10.0\n",
        "                Rpb5     121         Rpb5_121_pdb     1.0     Rpb5_112_121_pdb    10.0\n",
        "                Rpb5     122         Rpb5_122_pdb     1.0     Rpb5_122_131_pdb    10.0\n",
        "                Rpb5     123         Rpb5_123_pdb     1.0     Rpb5_122_131_pdb    10.0\n",
        "                Rpb5     124         Rpb5_124_pdb     1.0     Rpb5_122_131_pdb    10.0\n",
        "                Rpb5     125         Rpb5_125_pdb     1.0     Rpb5_122_131_pdb    10.0\n",
        "                Rpb5     126         Rpb5_126_pdb     1.0     Rpb5_122_131_pdb    10.0\n",
        "                Rpb5     127         Rpb5_127_pdb     1.0     Rpb5_122_131_pdb    10.0\n",
        "                Rpb5     128         Rpb5_128_pdb     1.0     Rpb5_122_131_pdb    10.0\n",
        "                Rpb5     129         Rpb5_129_pdb     1.0     Rpb5_122_131_pdb    10.0\n",
        "                Rpb5     130         Rpb5_130_pdb     1.0     Rpb5_122_131_pdb    10.0\n",
        "                Rpb5     131         Rpb5_131_pdb     1.0     Rpb5_122_131_pdb    10.0\n",
        "                Rpb5     132         Rpb5_132_pdb     1.0     Rpb5_132_141_pdb    10.0\n",
        "                Rpb5     133         Rpb5_133_pdb     1.0     Rpb5_132_141_pdb    10.0\n",
        "                Rpb5     134         Rpb5_134_pdb     1.0     Rpb5_132_141_pdb    10.0\n",
        "                Rpb5     135         Rpb5_135_pdb     1.0     Rpb5_132_141_pdb    10.0\n",
        "                Rpb5     136         Rpb5_136_pdb     1.0     Rpb5_132_141_pdb    10.0\n",
        "                Rpb5     137         Rpb5_137_pdb     1.0     Rpb5_132_141_pdb    10.0\n",
        "                Rpb5     138         Rpb5_138_pdb     1.0     Rpb5_132_141_pdb    10.0\n",
        "                Rpb5     139         Rpb5_139_pdb     1.0     Rpb5_132_141_pdb    10.0\n",
        "                Rpb5     140         Rpb5_140_pdb     1.0     Rpb5_132_141_pdb    10.0\n",
        "                Rpb5     141         Rpb5_141_pdb     1.0     Rpb5_132_141_pdb    10.0\n",
        "                Rpb5     142         Rpb5_142_pdb     1.0     Rpb5_142_151_pdb    10.0\n",
        "                Rpb5     143         Rpb5_143_pdb     1.0     Rpb5_142_151_pdb    10.0\n",
        "                Rpb5     144         Rpb5_144_pdb     1.0     Rpb5_142_151_pdb    10.0\n",
        "                Rpb5     145         Rpb5_145_pdb     1.0     Rpb5_142_151_pdb    10.0\n",
        "                Rpb5     146         Rpb5_146_pdb     1.0     Rpb5_142_151_pdb    10.0\n",
        "                Rpb5     147         Rpb5_147_pdb     1.0     Rpb5_142_151_pdb    10.0\n",
        "                Rpb5     148         Rpb5_148_pdb     1.0     Rpb5_142_151_pdb    10.0\n",
        "                Rpb5     149         Rpb5_149_pdb     1.0     Rpb5_142_151_pdb    10.0\n",
        "                Rpb5     150         Rpb5_150_pdb     1.0     Rpb5_142_151_pdb    10.0\n",
        "                Rpb5     151         Rpb5_151_pdb     1.0     Rpb5_142_151_pdb    10.0\n",
        "                Rpb5     152         Rpb5_152_pdb     1.0     Rpb5_152_161_pdb    10.0\n",
        "                Rpb5     153         Rpb5_153_pdb     1.0     Rpb5_152_161_pdb    10.0\n",
        "                Rpb5     154         Rpb5_154_pdb     1.0     Rpb5_152_161_pdb    10.0\n",
        "                Rpb5     155         Rpb5_155_pdb     1.0     Rpb5_152_161_pdb    10.0\n",
        "                Rpb5     156         Rpb5_156_pdb     1.0     Rpb5_152_161_pdb    10.0\n",
        "                Rpb5     157         Rpb5_157_pdb     1.0     Rpb5_152_161_pdb    10.0\n",
        "                Rpb5     158         Rpb5_158_pdb     1.0     Rpb5_152_161_pdb    10.0\n",
        "                Rpb5     159         Rpb5_159_pdb     1.0     Rpb5_152_161_pdb    10.0\n",
        "                Rpb5     160         Rpb5_160_pdb     1.0     Rpb5_152_161_pdb    10.0\n",
        "                Rpb5     161         Rpb5_161_pdb     1.0     Rpb5_152_161_pdb    10.0\n",
        "                Rpb5     162         Rpb5_162_pdb     1.0     Rpb5_162_171_pdb    10.0\n",
        "                Rpb5     163         Rpb5_163_pdb     1.0     Rpb5_162_171_pdb    10.0\n",
        "                Rpb5     164         Rpb5_164_pdb     1.0     Rpb5_162_171_pdb    10.0\n",
        "                Rpb5     165         Rpb5_165_pdb     1.0     Rpb5_162_171_pdb    10.0\n",
        "                Rpb5     166         Rpb5_166_pdb     1.0     Rpb5_162_171_pdb    10.0\n",
        "                Rpb5     167         Rpb5_167_pdb     1.0     Rpb5_162_171_pdb    10.0\n",
        "                Rpb5     168         Rpb5_168_pdb     1.0     Rpb5_162_171_pdb    10.0\n",
        "                Rpb5     169         Rpb5_169_pdb     1.0     Rpb5_162_171_pdb    10.0\n",
        "                Rpb5     170         Rpb5_170_pdb     1.0     Rpb5_162_171_pdb    10.0\n",
        "                Rpb5     171         Rpb5_171_pdb     1.0     Rpb5_162_171_pdb    10.0\n",
        "                Rpb5     172         Rpb5_172_pdb     1.0     Rpb5_172_181_pdb    10.0\n",
        "                Rpb5     173         Rpb5_173_pdb     1.0     Rpb5_172_181_pdb    10.0\n",
        "                Rpb5     174         Rpb5_174_pdb     1.0     Rpb5_172_181_pdb    10.0\n",
        "                Rpb5     175         Rpb5_175_pdb     1.0     Rpb5_172_181_pdb    10.0\n",
        "                Rpb5     176         Rpb5_176_pdb     1.0     Rpb5_172_181_pdb    10.0\n",
        "                Rpb5     177         Rpb5_177_pdb     1.0     Rpb5_172_181_pdb    10.0\n",
        "                Rpb5     178         Rpb5_178_pdb     1.0     Rpb5_172_181_pdb    10.0\n",
        "                Rpb5     179         Rpb5_179_pdb     1.0     Rpb5_172_181_pdb    10.0\n",
        "                Rpb5     180         Rpb5_180_pdb     1.0     Rpb5_172_181_pdb    10.0\n",
        "                Rpb5     181         Rpb5_181_pdb     1.0     Rpb5_172_181_pdb    10.0\n",
        "                Rpb5     182         Rpb5_182_pdb     1.0     Rpb5_182_191_pdb    10.0\n",
        "                Rpb5     183         Rpb5_183_pdb     1.0     Rpb5_182_191_pdb    10.0\n",
        "                Rpb5     184         Rpb5_184_pdb     1.0     Rpb5_182_191_pdb    10.0\n",
        "                Rpb5     185         Rpb5_185_pdb     1.0     Rpb5_182_191_pdb    10.0\n",
        "                Rpb5     186         Rpb5_186_pdb     1.0     Rpb5_182_191_pdb    10.0\n",
        "                Rpb5     187         Rpb5_187_pdb     1.0     Rpb5_182_191_pdb    10.0\n",
        "                Rpb5     188         Rpb5_188_pdb     1.0     Rpb5_182_191_pdb    10.0\n",
        "                Rpb5     189         Rpb5_189_pdb     1.0     Rpb5_182_191_pdb    10.0\n",
        "                Rpb5     190         Rpb5_190_pdb     1.0     Rpb5_182_191_pdb    10.0\n",
        "                Rpb5     191         Rpb5_191_pdb     1.0     Rpb5_182_191_pdb    10.0\n",
        "                Rpb5     192         Rpb5_192_pdb     1.0     Rpb5_192_201_pdb    10.0\n",
        "                Rpb5     193         Rpb5_193_pdb     1.0     Rpb5_192_201_pdb    10.0\n",
        "                Rpb5     194         Rpb5_194_pdb     1.0     Rpb5_192_201_pdb    10.0\n",
        "                Rpb5     195         Rpb5_195_pdb     1.0     Rpb5_192_201_pdb    10.0\n",
        "                Rpb5     196         Rpb5_196_pdb     1.0     Rpb5_192_201_pdb    10.0\n",
        "                Rpb5     197         Rpb5_197_pdb     1.0     Rpb5_192_201_pdb    10.0\n",
        "                Rpb5     198         Rpb5_198_pdb     1.0     Rpb5_192_201_pdb    10.0\n",
        "                Rpb5     199         Rpb5_199_pdb     1.0     Rpb5_192_201_pdb    10.0\n",
        "                Rpb5     200         Rpb5_200_pdb     1.0     Rpb5_192_201_pdb    10.0\n",
        "                Rpb5     201         Rpb5_201_pdb     1.0     Rpb5_192_201_pdb    10.0\n",
        "                Rpb5     202         Rpb5_202_pdb     1.0     Rpb5_202_211_pdb    10.0\n",
        "                Rpb5     203         Rpb5_203_pdb     1.0     Rpb5_202_211_pdb    10.0\n",
        "                Rpb5     204         Rpb5_204_pdb     1.0     Rpb5_202_211_pdb    10.0\n",
        "                Rpb5     205         Rpb5_205_pdb     1.0     Rpb5_202_211_pdb    10.0\n",
        "                Rpb5     206         Rpb5_206_pdb     1.0     Rpb5_202_211_pdb    10.0\n",
        "                Rpb5     207         Rpb5_207_pdb     1.0     Rpb5_202_211_pdb    10.0\n",
        "                Rpb5     208         Rpb5_208_pdb     1.0     Rpb5_202_211_pdb    10.0\n",
        "                Rpb5     209         Rpb5_209_pdb     1.0     Rpb5_202_211_pdb    10.0\n",
        "                Rpb5     210         Rpb5_210_pdb     1.0     Rpb5_202_211_pdb    10.0\n",
        "                Rpb5     211         Rpb5_211_pdb     1.0     Rpb5_202_211_pdb    10.0\n",
        "                Rpb5     212         Rpb5_212_pdb     1.0     Rpb5_212_215_pdb    10.0\n",
        "                Rpb5     213         Rpb5_213_pdb     1.0     Rpb5_212_215_pdb    10.0\n",
        "                Rpb5     214         Rpb5_214_pdb     1.0     Rpb5_212_215_pdb    10.0\n",
        "                Rpb5     215         Rpb5_215_pdb     1.0     Rpb5_212_215_pdb    10.0\n",
        "Adding sequence connectivity restraint between"
       ]
      },
      {
       "output_type": "stream",
       "stream": "stdout",
       "text": [
        " Rpb5_1_bead  and  Rpb5_2_pdb\n",
        "autobuild_model: constructing Rpb6 from pdb /Users/riccardopellarin/imp-200114/imp-fast/data/pmi/1WCM.pdb and chain F\n",
        "autobuild_model: constructing fragment (1, 71) as a bead"
       ]
      },
      {
       "output_type": "stream",
       "stream": "stdout",
       "text": [
        "\n",
        "autobuild_model: constructing fragment (72, 155) from pdb\n",
        "                Rpb6       1"
       ]
      },
      {
       "output_type": "stream",
       "stream": "stdout",
       "text": [
        "       Rpb6_1-20_bead    20.0\n",
        "                Rpb6       2       Rpb6_1-20_bead    20.0\n",
        "                Rpb6       3       Rpb6_1-20_bead    20.0\n",
        "                Rpb6       4       Rpb6_1-20_bead    20.0\n",
        "                Rpb6       5       Rpb6_1-20_bead    20.0\n",
        "                Rpb6       6       Rpb6_1-20_bead    20.0\n",
        "                Rpb6       7       Rpb6_1-20_bead    20.0\n",
        "                Rpb6       8       Rpb6_1-20_bead    20.0\n",
        "                Rpb6       9       Rpb6_1-20_bead    20.0\n",
        "                Rpb6      10       Rpb6_1-20_bead    20.0\n",
        "                Rpb6      11       Rpb6_1-20_bead    20.0\n",
        "                Rpb6      12       Rpb6_1-20_bead    20.0\n",
        "                Rpb6      13       Rpb6_1-20_bead    20.0\n",
        "                Rpb6      14       Rpb6_1-20_bead    20.0\n",
        "                Rpb6      15       Rpb6_1-20_bead    20.0\n",
        "                Rpb6      16       Rpb6_1-20_bead    20.0\n",
        "                Rpb6      17       Rpb6_1-20_bead    20.0\n",
        "                Rpb6      18       Rpb6_1-20_bead    20.0\n",
        "                Rpb6      19       Rpb6_1-20_bead    20.0\n",
        "                Rpb6      20       Rpb6_1-20_bead    20.0\n",
        "                Rpb6      21      Rpb6_21-40_bead    20.0\n",
        "                Rpb6      22      Rpb6_21-40_bead    20.0\n",
        "                Rpb6      23      Rpb6_21-40_bead    20.0\n",
        "                Rpb6      24      Rpb6_21-40_bead    20.0\n",
        "                Rpb6      25      Rpb6_21-40_bead    20.0\n",
        "                Rpb6      26      Rpb6_21-40_bead    20.0\n",
        "                Rpb6      27      Rpb6_21-40_bead    20.0\n",
        "                Rpb6      28      Rpb6_21-40_bead    20.0\n",
        "                Rpb6      29      Rpb6_21-40_bead    20.0\n",
        "                Rpb6      30      Rpb6_21-40_bead    20.0\n",
        "                Rpb6      31      Rpb6_21-40_bead    20.0\n",
        "                Rpb6      32      Rpb6_21-40_bead    20.0\n",
        "                Rpb6      33      Rpb6_21-40_bead    20.0\n",
        "                Rpb6      34      Rpb6_21-40_bead    20.0\n",
        "                Rpb6      35      Rpb6_21-40_bead    20.0\n",
        "                Rpb6      36      Rpb6_21-40_bead    20.0\n",
        "                Rpb6      37      Rpb6_21-40_bead    20.0\n",
        "                Rpb6      38      Rpb6_21-40_bead    20.0\n",
        "                Rpb6      39      Rpb6_21-40_bead    20.0\n",
        "                Rpb6      40      Rpb6_21-40_bead    20.0\n",
        "                Rpb6      41      Rpb6_41-60_bead    20.0\n",
        "                Rpb6      42      Rpb6_41-60_bead    20.0\n",
        "                Rpb6      43      Rpb6_41-60_bead    20.0\n",
        "                Rpb6      44      Rpb6_41-60_bead    20.0\n",
        "                Rpb6      45      Rpb6_41-60_bead    20.0\n",
        "                Rpb6      46      Rpb6_41-60_bead    20.0\n",
        "                Rpb6      47      Rpb6_41-60_bead    20.0\n",
        "                Rpb6      48      Rpb6_41-60_bead    20.0\n",
        "                Rpb6      49      Rpb6_41-60_bead    20.0\n",
        "                Rpb6      50      Rpb6_41-60_bead    20.0\n",
        "                Rpb6      51      Rpb6_41-60_bead    20.0\n",
        "                Rpb6      52      Rpb6_41-60_bead    20.0\n",
        "                Rpb6      53      Rpb6_41-60_bead    20.0\n",
        "                Rpb6      54      Rpb6_41-60_bead    20.0\n",
        "                Rpb6      55      Rpb6_41-60_bead    20.0\n",
        "                Rpb6      56      Rpb6_41-60_bead    20.0\n",
        "                Rpb6      57      Rpb6_41-60_bead    20.0\n",
        "                Rpb6      58      Rpb6_41-60_bead    20.0\n",
        "                Rpb6      59      Rpb6_41-60_bead    20.0\n",
        "                Rpb6      60      Rpb6_41-60_bead    20.0\n",
        "                Rpb6      61      Rpb6_61-71_bead    11.0\n",
        "                Rpb6      62      Rpb6_61-71_bead    11.0\n",
        "                Rpb6      63      Rpb6_61-71_bead    11.0\n",
        "                Rpb6      64      Rpb6_61-71_bead    11.0\n",
        "                Rpb6      65      Rpb6_61-71_bead    11.0\n",
        "                Rpb6      66      Rpb6_61-71_bead    11.0\n",
        "                Rpb6      67      Rpb6_61-71_bead    11.0\n",
        "                Rpb6      68      Rpb6_61-71_bead    11.0\n",
        "                Rpb6      69      Rpb6_61-71_bead    11.0\n",
        "                Rpb6      70      Rpb6_61-71_bead    11.0\n",
        "                Rpb6      71      Rpb6_61-71_bead    11.0\n",
        "                Rpb6      72          Rpb6_72_pdb     1.0       Rpb6_72_81_pdb    10.0\n",
        "                Rpb6      73          Rpb6_73_pdb     1.0       Rpb6_72_81_pdb    10.0\n",
        "                Rpb6      74          Rpb6_74_pdb     1.0       Rpb6_72_81_pdb    10.0\n",
        "                Rpb6      75          Rpb6_75_pdb     1.0       Rpb6_72_81_pdb    10.0\n",
        "                Rpb6      76          Rpb6_76_pdb     1.0       Rpb6_72_81_pdb    10.0\n",
        "                Rpb6      77          Rpb6_77_pdb     1.0       Rpb6_72_81_pdb    10.0\n",
        "                Rpb6      78          Rpb6_78_pdb     1.0       Rpb6_72_81_pdb    10.0\n",
        "                Rpb6      79          Rpb6_79_pdb     1.0       Rpb6_72_81_pdb    10.0\n",
        "                Rpb6      80          Rpb6_80_pdb     1.0       Rpb6_72_81_pdb    10.0\n",
        "                Rpb6      81          Rpb6_81_pdb     1.0       Rpb6_72_81_pdb    10.0\n",
        "                Rpb6      82          Rpb6_82_pdb     1.0       Rpb6_82_91_pdb    10.0\n",
        "                Rpb6      83          Rpb6_83_pdb     1.0       Rpb6_82_91_pdb    10.0\n",
        "                Rpb6      84          Rpb6_84_pdb     1.0       Rpb6_82_91_pdb    10.0\n",
        "                Rpb6      85          Rpb6_85_pdb     1.0       Rpb6_82_91_pdb    10.0\n",
        "                Rpb6      86          Rpb6_86_pdb     1.0       Rpb6_82_91_pdb    10.0\n",
        "                Rpb6      87          Rpb6_87_pdb     1.0       Rpb6_82_91_pdb    10.0\n",
        "                Rpb6      88          Rpb6_88_pdb     1.0       Rpb6_82_91_pdb    10.0\n",
        "                Rpb6      89          Rpb6_89_pdb     1.0       Rpb6_82_91_pdb    10.0\n",
        "                Rpb6      90          Rpb6_90_pdb     1.0       Rpb6_82_91_pdb    10.0\n",
        "                Rpb6      91          Rpb6_91_pdb     1.0       Rpb6_82_91_pdb    10.0\n",
        "                Rpb6      92          Rpb6_92_pdb     1.0      Rpb6_92_101_pdb    10.0\n",
        "                Rpb6      93          Rpb6_93_pdb     1.0      Rpb6_92_101_pdb    10.0\n",
        "                Rpb6      94          Rpb6_94_pdb     1.0      Rpb6_92_101_pdb    10.0\n",
        "                Rpb6      95          Rpb6_95_pdb     1.0      Rpb6_92_101_pdb    10.0\n",
        "                Rpb6      96          Rpb6_96_pdb     1.0      Rpb6_92_101_pdb    10.0\n",
        "                Rpb6      97          Rpb6_97_pdb     1.0      Rpb6_92_101_pdb    10.0\n",
        "                Rpb6      98          Rpb6_98_pdb     1.0      Rpb6_92_101_pdb    10.0\n",
        "                Rpb6      99          Rpb6_99_pdb     1.0      Rpb6_92_101_pdb    10.0\n",
        "                Rpb6     100         Rpb6_100_pdb     1.0      Rpb6_92_101_pdb    10.0\n",
        "                Rpb6     101         Rpb6_101_pdb     1.0      Rpb6_92_101_pdb    10.0\n",
        "                Rpb6     102         Rpb6_102_pdb     1.0     Rpb6_102_111_pdb    10.0\n",
        "                Rpb6     103         Rpb6_103_pdb     1.0     Rpb6_102_111_pdb    10.0\n",
        "                Rpb6     104         Rpb6_104_pdb     1.0     Rpb6_102_111_pdb    10.0\n",
        "                Rpb6     105         Rpb6_105_pdb     1.0     Rpb6_102_111_pdb    10.0\n",
        "                Rpb6     106         Rpb6_106_pdb     1.0     Rpb6_102_111_pdb    10.0\n",
        "                Rpb6     107         Rpb6_107_pdb     1.0     Rpb6_102_111_pdb    10.0\n",
        "                Rpb6     108         Rpb6_108_pdb     1.0     Rpb6_102_111_pdb    10.0\n",
        "                Rpb6     109         Rpb6_109_pdb     1.0     Rpb6_102_111_pdb    10.0\n",
        "                Rpb6     110         Rpb6_110_pdb     1.0     Rpb6_102_111_pdb    10.0\n",
        "                Rpb6     111         Rpb6_111_pdb     1.0     Rpb6_102_111_pdb    10.0\n",
        "                Rpb6     112         Rpb6_112_pdb     1.0     Rpb6_112_121_pdb    10.0\n",
        "                Rpb6     113         Rpb6_113_pdb     1.0     Rpb6_112_121_pdb    10.0\n",
        "                Rpb6     114         Rpb6_114_pdb     1.0     Rpb6_112_121_pdb    10.0\n",
        "                Rpb6     115         Rpb6_115_pdb     1.0     Rpb6_112_121_pdb    10.0\n",
        "                Rpb6     116         Rpb6_116_pdb     1.0     Rpb6_112_121_pdb    10.0\n",
        "                Rpb6     117         Rpb6_117_pdb     1.0     Rpb6_112_121_pdb    10.0\n",
        "                Rpb6     118         Rpb6_118_pdb     1.0     Rpb6_112_121_pdb    10.0\n",
        "                Rpb6     119         Rpb6_119_pdb     1.0     Rpb6_112_121_pdb    10.0\n",
        "                Rpb6     120         Rpb6_120_pdb     1.0     Rpb6_112_121_pdb    10.0\n",
        "                Rpb6     121         Rpb6_121_pdb     1.0     Rpb6_112_121_pdb    10.0\n",
        "                Rpb6     122         Rpb6_122_pdb     1.0     Rpb6_122_131_pdb    10.0\n",
        "                Rpb6     123         Rpb6_123_pdb     1.0     Rpb6_122_131_pdb    10.0\n",
        "                Rpb6     124         Rpb6_124_pdb     1.0     Rpb6_122_131_pdb    10.0\n",
        "                Rpb6     125         Rpb6_125_pdb     1.0     Rpb6_122_131_pdb    10.0\n",
        "                Rpb6     126         Rpb6_126_pdb     1.0     Rpb6_122_131_pdb    10.0\n",
        "                Rpb6     127         Rpb6_127_pdb     1.0     Rpb6_122_131_pdb    10.0\n",
        "                Rpb6     128         Rpb6_128_pdb     1.0     Rpb6_122_131_pdb    10.0\n",
        "                Rpb6     129         Rpb6_129_pdb     1.0     Rpb6_122_131_pdb    10.0\n",
        "                Rpb6     130         Rpb6_130_pdb     1.0     Rpb6_122_131_pdb    10.0\n",
        "                Rpb6     131         Rpb6_131_pdb     1.0     Rpb6_122_131_pdb    10.0\n",
        "                Rpb6     132         Rpb6_132_pdb     1.0     Rpb6_132_141_pdb    10.0\n",
        "                Rpb6     133         Rpb6_133_pdb     1.0     Rpb6_132_141_pdb    10.0\n",
        "                Rpb6     134         Rpb6_134_pdb     1.0     Rpb6_132_141_pdb    10.0\n",
        "                Rpb6     135         Rpb6_135_pdb     1.0     Rpb6_132_141_pdb    10.0\n",
        "                Rpb6     136         Rpb6_136_pdb     1.0     Rpb6_132_141_pdb    10.0\n",
        "                Rpb6     137         Rpb6_137_pdb     1.0     Rpb6_132_141_pdb    10.0\n",
        "                Rpb6     138         Rpb6_138_pdb     1.0     Rpb6_132_141_pdb    10.0\n",
        "                Rpb6     139         Rpb6_139_pdb     1.0     Rpb6_132_141_pdb    10.0\n",
        "                Rpb6     140         Rpb6_140_pdb     1.0     Rpb6_132_141_pdb    10.0\n",
        "                Rpb6     141         Rpb6_141_pdb     1.0     Rpb6_132_141_pdb    10.0\n",
        "                Rpb6     142         Rpb6_142_pdb     1.0     Rpb6_142_151_pdb    10.0\n",
        "                Rpb6     143         Rpb6_143_pdb     1.0     Rpb6_142_151_pdb    10.0\n",
        "                Rpb6     144         Rpb6_144_pdb     1.0     Rpb6_142_151_pdb    10.0\n",
        "                Rpb6     145         Rpb6_145_pdb     1.0     Rpb6_142_151_pdb    10.0\n",
        "                Rpb6     146         Rpb6_146_pdb     1.0     Rpb6_142_151_pdb    10.0\n",
        "                Rpb6     147         Rpb6_147_pdb     1.0     Rpb6_142_151_pdb    10.0\n",
        "                Rpb6     148         Rpb6_148_pdb     1.0     Rpb6_142_151_pdb    10.0\n",
        "                Rpb6     149         Rpb6_149_pdb     1.0     Rpb6_142_151_pdb    10.0\n",
        "                Rpb6     150         Rpb6_150_pdb     1.0     Rpb6_142_151_pdb    10.0\n",
        "                Rpb6     151         Rpb6_151_pdb     1.0     Rpb6_142_151_pdb    10.0\n",
        "                Rpb6     152         Rpb6_152_pdb     1.0     Rpb6_152_155_pdb    10.0\n",
        "                Rpb6     153         Rpb6_153_pdb     1.0     Rpb6_152_155_pdb    10.0\n",
        "                Rpb6     154         Rpb6_154_pdb     1.0     Rpb6_152_155_pdb    10.0\n",
        "                Rpb6     155         Rpb6_155_pdb     1.0     Rpb6_152_155_pdb    10.0\n",
        "Adding sequence connectivity restraint between Rpb6_1-20_bead  and  Rpb6_21-40_bead\n",
        "Adding sequence connectivity restraint between Rpb6_21-40_bead  and  Rpb6_41-60_bead\n",
        "Adding sequence connectivity restraint between Rpb6_41-60_bead  and  Rpb6_61-71_bead\n",
        "Adding sequence connectivity restraint between Rpb6_61-71_bead  and  Rpb6_72_pdb\n",
        "autobuild_model: constructing Rpb7 from pdb /Users/riccardopellarin/imp-200114/imp-fast/data/pmi/1WCM.pdb and chain G\n",
        "autobuild_model: constructing fragment (1, 171) from pdb"
       ]
      },
      {
       "output_type": "stream",
       "stream": "stdout",
       "text": [
        "\n",
        "                Rpb7       1"
       ]
      },
      {
       "output_type": "stream",
       "stream": "stdout",
       "text": [
        "           Rpb7_1_pdb     1.0        Rpb7_1_10_pdb    10.0\n",
        "                Rpb7       2           Rpb7_2_pdb     1.0        Rpb7_1_10_pdb    10.0\n",
        "                Rpb7       3           Rpb7_3_pdb     1.0        Rpb7_1_10_pdb    10.0\n",
        "                Rpb7       4           Rpb7_4_pdb     1.0        Rpb7_1_10_pdb    10.0\n",
        "                Rpb7       5           Rpb7_5_pdb     1.0        Rpb7_1_10_pdb    10.0\n",
        "                Rpb7       6           Rpb7_6_pdb     1.0        Rpb7_1_10_pdb    10.0\n",
        "                Rpb7       7           Rpb7_7_pdb     1.0        Rpb7_1_10_pdb    10.0\n",
        "                Rpb7       8           Rpb7_8_pdb     1.0        Rpb7_1_10_pdb    10.0\n",
        "                Rpb7       9           Rpb7_9_pdb     1.0        Rpb7_1_10_pdb    10.0\n",
        "                Rpb7      10          Rpb7_10_pdb     1.0        Rpb7_1_10_pdb    10.0\n",
        "                Rpb7      11          Rpb7_11_pdb     1.0       Rpb7_11_20_pdb    10.0\n",
        "                Rpb7      12          Rpb7_12_pdb     1.0       Rpb7_11_20_pdb    10.0\n",
        "                Rpb7      13          Rpb7_13_pdb     1.0       Rpb7_11_20_pdb    10.0\n",
        "                Rpb7      14          Rpb7_14_pdb     1.0       Rpb7_11_20_pdb    10.0\n",
        "                Rpb7      15          Rpb7_15_pdb     1.0       Rpb7_11_20_pdb    10.0\n",
        "                Rpb7      16          Rpb7_16_pdb     1.0       Rpb7_11_20_pdb    10.0\n",
        "                Rpb7      17          Rpb7_17_pdb     1.0       Rpb7_11_20_pdb    10.0\n",
        "                Rpb7      18          Rpb7_18_pdb     1.0       Rpb7_11_20_pdb    10.0\n",
        "                Rpb7      19          Rpb7_19_pdb     1.0       Rpb7_11_20_pdb    10.0\n",
        "                Rpb7      20          Rpb7_20_pdb     1.0       Rpb7_11_20_pdb    10.0\n",
        "                Rpb7      21          Rpb7_21_pdb     1.0       Rpb7_21_30_pdb    10.0\n",
        "                Rpb7      22          Rpb7_22_pdb     1.0       Rpb7_21_30_pdb    10.0\n",
        "                Rpb7      23          Rpb7_23_pdb     1.0       Rpb7_21_30_pdb    10.0\n",
        "                Rpb7      24          Rpb7_24_pdb     1.0       Rpb7_21_30_pdb    10.0\n",
        "                Rpb7      25          Rpb7_25_pdb     1.0       Rpb7_21_30_pdb    10.0\n",
        "                Rpb7      26          Rpb7_26_pdb     1.0       Rpb7_21_30_pdb    10.0\n",
        "                Rpb7      27          Rpb7_27_pdb     1.0       Rpb7_21_30_pdb    10.0\n",
        "                Rpb7      28          Rpb7_28_pdb     1.0       Rpb7_21_30_pdb    10.0\n",
        "                Rpb7      29          Rpb7_29_pdb     1.0       Rpb7_21_30_pdb    10.0\n",
        "                Rpb7      30          Rpb7_30_pdb     1.0       Rpb7_21_30_pdb    10.0\n",
        "                Rpb7      31          Rpb7_31_pdb     1.0       Rpb7_31_40_pdb    10.0\n",
        "                Rpb7      32          Rpb7_32_pdb     1.0       Rpb7_31_40_pdb    10.0\n",
        "                Rpb7      33          Rpb7_33_pdb     1.0       Rpb7_31_40_pdb    10.0\n",
        "                Rpb7      34          Rpb7_34_pdb     1.0       Rpb7_31_40_pdb    10.0\n",
        "                Rpb7      35          Rpb7_35_pdb     1.0       Rpb7_31_40_pdb    10.0\n",
        "                Rpb7      36          Rpb7_36_pdb     1.0       Rpb7_31_40_pdb    10.0\n",
        "                Rpb7      37          Rpb7_37_pdb     1.0       Rpb7_31_40_pdb    10.0\n",
        "                Rpb7      38          Rpb7_38_pdb     1.0       Rpb7_31_40_pdb    10.0\n",
        "                Rpb7      39          Rpb7_39_pdb     1.0       Rpb7_31_40_pdb    10.0\n",
        "                Rpb7      40          Rpb7_40_pdb     1.0       Rpb7_31_40_pdb    10.0\n",
        "                Rpb7      41          Rpb7_41_pdb     1.0       Rpb7_41_50_pdb    10.0\n",
        "                Rpb7      42          Rpb7_42_pdb     1.0       Rpb7_41_50_pdb    10.0\n",
        "                Rpb7      43          Rpb7_43_pdb     1.0       Rpb7_41_50_pdb    10.0\n",
        "                Rpb7      44          Rpb7_44_pdb     1.0       Rpb7_41_50_pdb    10.0\n",
        "                Rpb7      45          Rpb7_45_pdb     1.0       Rpb7_41_50_pdb    10.0\n",
        "                Rpb7      46          Rpb7_46_pdb     1.0       Rpb7_41_50_pdb    10.0\n",
        "                Rpb7      47          Rpb7_47_pdb     1.0       Rpb7_41_50_pdb    10.0\n",
        "                Rpb7      48          Rpb7_48_pdb     1.0       Rpb7_41_50_pdb    10.0\n",
        "                Rpb7      49          Rpb7_49_pdb     1.0       Rpb7_41_50_pdb    10.0\n",
        "                Rpb7      50          Rpb7_50_pdb     1.0       Rpb7_41_50_pdb    10.0\n",
        "                Rpb7      51          Rpb7_51_pdb     1.0       Rpb7_51_60_pdb    10.0\n",
        "                Rpb7      52          Rpb7_52_pdb     1.0       Rpb7_51_60_pdb    10.0\n",
        "                Rpb7      53          Rpb7_53_pdb     1.0       Rpb7_51_60_pdb    10.0\n",
        "                Rpb7      54          Rpb7_54_pdb     1.0       Rpb7_51_60_pdb    10.0\n",
        "                Rpb7      55          Rpb7_55_pdb     1.0       Rpb7_51_60_pdb    10.0\n",
        "                Rpb7      56          Rpb7_56_pdb     1.0       Rpb7_51_60_pdb    10.0\n",
        "                Rpb7      57          Rpb7_57_pdb     1.0       Rpb7_51_60_pdb    10.0\n",
        "                Rpb7      58          Rpb7_58_pdb     1.0       Rpb7_51_60_pdb    10.0\n",
        "                Rpb7      59          Rpb7_59_pdb     1.0       Rpb7_51_60_pdb    10.0\n",
        "                Rpb7      60          Rpb7_60_pdb     1.0       Rpb7_51_60_pdb    10.0\n",
        "                Rpb7      61          Rpb7_61_pdb     1.0       Rpb7_61_70_pdb    10.0\n",
        "                Rpb7      62          Rpb7_62_pdb     1.0       Rpb7_61_70_pdb    10.0\n",
        "                Rpb7      63          Rpb7_63_pdb     1.0       Rpb7_61_70_pdb    10.0\n",
        "                Rpb7      64          Rpb7_64_pdb     1.0       Rpb7_61_70_pdb    10.0\n",
        "                Rpb7      65          Rpb7_65_pdb     1.0       Rpb7_61_70_pdb    10.0\n",
        "                Rpb7      66          Rpb7_66_pdb     1.0       Rpb7_61_70_pdb    10.0\n",
        "                Rpb7      67          Rpb7_67_pdb     1.0       Rpb7_61_70_pdb    10.0\n",
        "                Rpb7      68          Rpb7_68_pdb     1.0       Rpb7_61_70_pdb    10.0\n",
        "                Rpb7      69          Rpb7_69_pdb     1.0       Rpb7_61_70_pdb    10.0\n",
        "                Rpb7      70          Rpb7_70_pdb     1.0       Rpb7_61_70_pdb    10.0\n",
        "                Rpb7      71          Rpb7_71_pdb     1.0       Rpb7_71_80_pdb    10.0\n",
        "                Rpb7      72          Rpb7_72_pdb     1.0       Rpb7_71_80_pdb    10.0\n",
        "                Rpb7      73          Rpb7_73_pdb     1.0       Rpb7_71_80_pdb    10.0\n",
        "                Rpb7      74          Rpb7_74_pdb     1.0       Rpb7_71_80_pdb    10.0\n",
        "                Rpb7      75          Rpb7_75_pdb     1.0       Rpb7_71_80_pdb    10.0\n",
        "                Rpb7      76          Rpb7_76_pdb     1.0       Rpb7_71_80_pdb    10.0\n",
        "                Rpb7      77          Rpb7_77_pdb     1.0       Rpb7_71_80_pdb    10.0\n",
        "                Rpb7      78          Rpb7_78_pdb     1.0       Rpb7_71_80_pdb    10.0\n",
        "                Rpb7      79          Rpb7_79_pdb     1.0       Rpb7_71_80_pdb    10.0\n",
        "                Rpb7      80          Rpb7_80_pdb     1.0       Rpb7_71_80_pdb    10.0\n",
        "                Rpb7      81          Rpb7_81_pdb     1.0       Rpb7_81_90_pdb    10.0\n",
        "                Rpb7      82          Rpb7_82_pdb     1.0       Rpb7_81_90_pdb    10.0\n",
        "                Rpb7      83          Rpb7_83_pdb     1.0       Rpb7_81_90_pdb    10.0\n",
        "                Rpb7      84          Rpb7_84_pdb     1.0       Rpb7_81_90_pdb    10.0\n",
        "                Rpb7      85          Rpb7_85_pdb     1.0       Rpb7_81_90_pdb    10.0\n",
        "                Rpb7      86          Rpb7_86_pdb     1.0       Rpb7_81_90_pdb    10.0\n",
        "                Rpb7      87          Rpb7_87_pdb     1.0       Rpb7_81_90_pdb    10.0\n",
        "                Rpb7      88          Rpb7_88_pdb     1.0       Rpb7_81_90_pdb    10.0\n",
        "                Rpb7      89          Rpb7_89_pdb     1.0       Rpb7_81_90_pdb    10.0\n",
        "                Rpb7      90          Rpb7_90_pdb     1.0       Rpb7_81_90_pdb    10.0\n",
        "                Rpb7      91          Rpb7_91_pdb     1.0      Rpb7_91_100_pdb    10.0\n",
        "                Rpb7      92          Rpb7_92_pdb     1.0      Rpb7_91_100_pdb    10.0\n",
        "                Rpb7      93          Rpb7_93_pdb     1.0      Rpb7_91_100_pdb    10.0\n",
        "                Rpb7      94          Rpb7_94_pdb     1.0      Rpb7_91_100_pdb    10.0\n",
        "                Rpb7      95          Rpb7_95_pdb     1.0      Rpb7_91_100_pdb    10.0\n",
        "                Rpb7      96          Rpb7_96_pdb     1.0      Rpb7_91_100_pdb    10.0\n",
        "                Rpb7      97          Rpb7_97_pdb     1.0      Rpb7_91_100_pdb    10.0\n",
        "                Rpb7      98          Rpb7_98_pdb     1.0      Rpb7_91_100_pdb    10.0\n",
        "                Rpb7      99          Rpb7_99_pdb     1.0      Rpb7_91_100_pdb    10.0\n",
        "                Rpb7     100         Rpb7_100_pdb     1.0      Rpb7_91_100_pdb    10.0\n",
        "                Rpb7     101         Rpb7_101_pdb     1.0     Rpb7_101_110_pdb    10.0\n",
        "                Rpb7     102         Rpb7_102_pdb     1.0     Rpb7_101_110_pdb    10.0\n",
        "                Rpb7     103         Rpb7_103_pdb     1.0     Rpb7_101_110_pdb    10.0\n",
        "                Rpb7     104         Rpb7_104_pdb     1.0     Rpb7_101_110_pdb    10.0\n",
        "                Rpb7     105         Rpb7_105_pdb     1.0     Rpb7_101_110_pdb    10.0\n",
        "                Rpb7     106         Rpb7_106_pdb     1.0     Rpb7_101_110_pdb    10.0\n",
        "                Rpb7     107         Rpb7_107_pdb     1.0     Rpb7_101_110_pdb    10.0\n",
        "                Rpb7     108         Rpb7_108_pdb     1.0     Rpb7_101_110_pdb    10.0\n",
        "                Rpb7     109         Rpb7_109_pdb     1.0     Rpb7_101_110_pdb    10.0\n",
        "                Rpb7     110         Rpb7_110_pdb     1.0     Rpb7_101_110_pdb    10.0\n",
        "                Rpb7     111         Rpb7_111_pdb     1.0     Rpb7_111_120_pdb    10.0\n",
        "                Rpb7     112         Rpb7_112_pdb     1.0     Rpb7_111_120_pdb    10.0\n",
        "                Rpb7     113         Rpb7_113_pdb     1.0     Rpb7_111_120_pdb    10.0\n",
        "                Rpb7     114         Rpb7_114_pdb     1.0     Rpb7_111_120_pdb    10.0\n",
        "                Rpb7     115         Rpb7_115_pdb     1.0     Rpb7_111_120_pdb    10.0\n",
        "                Rpb7     116         Rpb7_116_pdb     1.0     Rpb7_111_120_pdb    10.0\n",
        "                Rpb7     117         Rpb7_117_pdb     1.0     Rpb7_111_120_pdb    10.0\n",
        "                Rpb7     118         Rpb7_118_pdb     1.0     Rpb7_111_120_pdb    10.0\n",
        "                Rpb7     119         Rpb7_119_pdb     1.0     Rpb7_111_120_pdb    10.0\n",
        "                Rpb7     120         Rpb7_120_pdb     1.0     Rpb7_111_120_pdb    10.0\n",
        "                Rpb7     121         Rpb7_121_pdb     1.0     Rpb7_121_130_pdb    10.0\n",
        "                Rpb7     122         Rpb7_122_pdb     1.0     Rpb7_121_130_pdb    10.0\n",
        "                Rpb7     123         Rpb7_123_pdb     1.0     Rpb7_121_130_pdb    10.0\n",
        "                Rpb7     124         Rpb7_124_pdb     1.0     Rpb7_121_130_pdb    10.0\n",
        "                Rpb7     125         Rpb7_125_pdb     1.0     Rpb7_121_130_pdb    10.0\n",
        "                Rpb7     126         Rpb7_126_pdb     1.0     Rpb7_121_130_pdb    10.0\n",
        "                Rpb7     127         Rpb7_127_pdb     1.0     Rpb7_121_130_pdb    10.0\n",
        "                Rpb7     128         Rpb7_128_pdb     1.0     Rpb7_121_130_pdb    10.0\n",
        "                Rpb7     129         Rpb7_129_pdb     1.0     Rpb7_121_130_pdb    10.0\n",
        "                Rpb7     130         Rpb7_130_pdb     1.0     Rpb7_121_130_pdb    10.0\n",
        "                Rpb7     131         Rpb7_131_pdb     1.0     Rpb7_131_140_pdb    10.0\n",
        "                Rpb7     132         Rpb7_132_pdb     1.0     Rpb7_131_140_pdb    10.0\n",
        "                Rpb7     133         Rpb7_133_pdb     1.0     Rpb7_131_140_pdb    10.0\n",
        "                Rpb7     134         Rpb7_134_pdb     1.0     Rpb7_131_140_pdb    10.0\n",
        "                Rpb7     135         Rpb7_135_pdb     1.0     Rpb7_131_140_pdb    10.0\n",
        "                Rpb7     136         Rpb7_136_pdb     1.0     Rpb7_131_140_pdb    10.0\n",
        "                Rpb7     137         Rpb7_137_pdb     1.0     Rpb7_131_140_pdb    10.0\n",
        "                Rpb7     138         Rpb7_138_pdb     1.0     Rpb7_131_140_pdb    10.0\n",
        "                Rpb7     139         Rpb7_139_pdb     1.0     Rpb7_131_140_pdb    10.0\n",
        "                Rpb7     140         Rpb7_140_pdb     1.0     Rpb7_131_140_pdb    10.0\n",
        "                Rpb7     141         Rpb7_141_pdb     1.0     Rpb7_141_150_pdb    10.0\n",
        "                Rpb7     142         Rpb7_142_pdb     1.0     Rpb7_141_150_pdb    10.0\n",
        "                Rpb7     143         Rpb7_143_pdb     1.0     Rpb7_141_150_pdb    10.0\n",
        "                Rpb7     144         Rpb7_144_pdb     1.0     Rpb7_141_150_pdb    10.0\n",
        "                Rpb7     145         Rpb7_145_pdb     1.0     Rpb7_141_150_pdb    10.0\n",
        "                Rpb7     146         Rpb7_146_pdb     1.0     Rpb7_141_150_pdb    10.0\n",
        "                Rpb7     147         Rpb7_147_pdb     1.0     Rpb7_141_150_pdb    10.0\n",
        "                Rpb7     148         Rpb7_148_pdb     1.0     Rpb7_141_150_pdb    10.0\n",
        "                Rpb7     149         Rpb7_149_pdb     1.0     Rpb7_141_150_pdb    10.0\n",
        "                Rpb7     150         Rpb7_150_pdb     1.0     Rpb7_141_150_pdb    10.0\n",
        "                Rpb7     151         Rpb7_151_pdb     1.0     Rpb7_151_160_pdb    10.0\n",
        "                Rpb7     152         Rpb7_152_pdb     1.0     Rpb7_151_160_pdb    10.0\n",
        "                Rpb7     153         Rpb7_153_pdb     1.0     Rpb7_151_160_pdb    10.0\n",
        "                Rpb7     154         Rpb7_154_pdb     1.0     Rpb7_151_160_pdb    10.0\n",
        "                Rpb7     155         Rpb7_155_pdb     1.0     Rpb7_151_160_pdb    10.0\n",
        "                Rpb7     156         Rpb7_156_pdb     1.0     Rpb7_151_160_pdb    10.0\n",
        "                Rpb7     157         Rpb7_157_pdb     1.0     Rpb7_151_160_pdb    10.0\n",
        "                Rpb7     158         Rpb7_158_pdb     1.0     Rpb7_151_160_pdb    10.0\n",
        "                Rpb7     159         Rpb7_159_pdb     1.0     Rpb7_151_160_pdb    10.0\n",
        "                Rpb7     160         Rpb7_160_pdb     1.0     Rpb7_151_160_pdb    10.0\n",
        "                Rpb7     161         Rpb7_161_pdb     1.0     Rpb7_161_170_pdb    10.0\n",
        "                Rpb7     162         Rpb7_162_pdb     1.0     Rpb7_161_170_pdb    10.0\n",
        "                Rpb7     163         Rpb7_163_pdb     1.0     Rpb7_161_170_pdb    10.0\n",
        "                Rpb7     164         Rpb7_164_pdb     1.0     Rpb7_161_170_pdb    10.0\n",
        "                Rpb7     165         Rpb7_165_pdb     1.0     Rpb7_161_170_pdb    10.0\n",
        "                Rpb7     166         Rpb7_166_pdb     1.0     Rpb7_161_170_pdb    10.0\n",
        "                Rpb7     167         Rpb7_167_pdb     1.0     Rpb7_161_170_pdb    10.0\n",
        "                Rpb7     168         Rpb7_168_pdb     1.0     Rpb7_161_170_pdb    10.0\n",
        "                Rpb7     169         Rpb7_169_pdb     1.0     Rpb7_161_170_pdb    10.0\n",
        "                Rpb7     170         Rpb7_170_pdb     1.0     Rpb7_161_170_pdb    10.0\n",
        "                Rpb7     171         Rpb7_171_pdb     1.0         Rpb7_171_pdb    10.0\n",
        "autobuild_model: constructing Rpb8 from pdb /Users/riccardopellarin/imp-200114/imp-fast/data/pmi/1WCM.pdb and chain H\n",
        "autobuild_model: constructing fragment (1, 1) as a bead"
       ]
      },
      {
       "output_type": "stream",
       "stream": "stdout",
       "text": [
        "\n",
        "autobuild_model: constructing fragment (2, 63) from pdb\n",
        "autobuild_model: constructing fragment (64, 75) as a bead"
       ]
      },
      {
       "output_type": "stream",
       "stream": "stdout",
       "text": [
        "\n",
        "autobuild_model: constructing fragment (76, 146) from pdb\n",
        "                Rpb8       1"
       ]
      },
      {
       "output_type": "stream",
       "stream": "stdout",
       "text": [
        "          Rpb8_1_bead     1.0\n",
        "                Rpb8       2           Rpb8_2_pdb     1.0        Rpb8_2_11_pdb    10.0\n",
        "                Rpb8       3           Rpb8_3_pdb     1.0        Rpb8_2_11_pdb    10.0\n",
        "                Rpb8       4           Rpb8_4_pdb     1.0        Rpb8_2_11_pdb    10.0\n",
        "                Rpb8       5           Rpb8_5_pdb     1.0        Rpb8_2_11_pdb    10.0\n",
        "                Rpb8       6           Rpb8_6_pdb     1.0        Rpb8_2_11_pdb    10.0\n",
        "                Rpb8       7           Rpb8_7_pdb     1.0        Rpb8_2_11_pdb    10.0\n",
        "                Rpb8       8           Rpb8_8_pdb     1.0        Rpb8_2_11_pdb    10.0\n",
        "                Rpb8       9           Rpb8_9_pdb     1.0        Rpb8_2_11_pdb    10.0\n",
        "                Rpb8      10          Rpb8_10_pdb     1.0        Rpb8_2_11_pdb    10.0\n",
        "                Rpb8      11          Rpb8_11_pdb     1.0        Rpb8_2_11_pdb    10.0\n",
        "                Rpb8      12          Rpb8_12_pdb     1.0       Rpb8_12_21_pdb    10.0\n",
        "                Rpb8      13          Rpb8_13_pdb     1.0       Rpb8_12_21_pdb    10.0\n",
        "                Rpb8      14          Rpb8_14_pdb     1.0       Rpb8_12_21_pdb    10.0\n",
        "                Rpb8      15          Rpb8_15_pdb     1.0       Rpb8_12_21_pdb    10.0\n",
        "                Rpb8      16          Rpb8_16_pdb     1.0       Rpb8_12_21_pdb    10.0\n",
        "                Rpb8      17          Rpb8_17_pdb     1.0       Rpb8_12_21_pdb    10.0\n",
        "                Rpb8      18          Rpb8_18_pdb     1.0       Rpb8_12_21_pdb    10.0\n",
        "                Rpb8      19          Rpb8_19_pdb     1.0       Rpb8_12_21_pdb    10.0\n",
        "                Rpb8      20          Rpb8_20_pdb     1.0       Rpb8_12_21_pdb    10.0\n",
        "                Rpb8      21          Rpb8_21_pdb     1.0       Rpb8_12_21_pdb    10.0\n",
        "                Rpb8      22          Rpb8_22_pdb     1.0       Rpb8_22_31_pdb    10.0\n",
        "                Rpb8      23          Rpb8_23_pdb     1.0       Rpb8_22_31_pdb    10.0\n",
        "                Rpb8      24          Rpb8_24_pdb     1.0       Rpb8_22_31_pdb    10.0\n",
        "                Rpb8      25          Rpb8_25_pdb     1.0       Rpb8_22_31_pdb    10.0\n",
        "                Rpb8      26          Rpb8_26_pdb     1.0       Rpb8_22_31_pdb    10.0\n",
        "                Rpb8      27          Rpb8_27_pdb     1.0       Rpb8_22_31_pdb    10.0\n",
        "                Rpb8      28          Rpb8_28_pdb     1.0       Rpb8_22_31_pdb    10.0\n",
        "                Rpb8      29          Rpb8_29_pdb     1.0       Rpb8_22_31_pdb    10.0\n",
        "                Rpb8      30          Rpb8_30_pdb     1.0       Rpb8_22_31_pdb    10.0\n",
        "                Rpb8      31          Rpb8_31_pdb     1.0       Rpb8_22_31_pdb    10.0\n",
        "                Rpb8      32          Rpb8_32_pdb     1.0       Rpb8_32_41_pdb    10.0\n",
        "                Rpb8      33          Rpb8_33_pdb     1.0       Rpb8_32_41_pdb    10.0\n",
        "                Rpb8      34          Rpb8_34_pdb     1.0       Rpb8_32_41_pdb    10.0\n",
        "                Rpb8      35          Rpb8_35_pdb     1.0       Rpb8_32_41_pdb    10.0\n",
        "                Rpb8      36          Rpb8_36_pdb     1.0       Rpb8_32_41_pdb    10.0\n",
        "                Rpb8      37          Rpb8_37_pdb     1.0       Rpb8_32_41_pdb    10.0\n",
        "                Rpb8      38          Rpb8_38_pdb     1.0       Rpb8_32_41_pdb    10.0\n",
        "                Rpb8      39          Rpb8_39_pdb     1.0       Rpb8_32_41_pdb    10.0\n",
        "                Rpb8      40          Rpb8_40_pdb     1.0       Rpb8_32_41_pdb    10.0\n",
        "                Rpb8      41          Rpb8_41_pdb     1.0       Rpb8_32_41_pdb    10.0\n",
        "                Rpb8      42          Rpb8_42_pdb     1.0       Rpb8_42_51_pdb    10.0\n",
        "                Rpb8      43          Rpb8_43_pdb     1.0       Rpb8_42_51_pdb    10.0\n",
        "                Rpb8      44          Rpb8_44_pdb     1.0       Rpb8_42_51_pdb    10.0\n",
        "                Rpb8      45          Rpb8_45_pdb     1.0       Rpb8_42_51_pdb    10.0\n",
        "                Rpb8      46          Rpb8_46_pdb     1.0       Rpb8_42_51_pdb    10.0\n",
        "                Rpb8      47          Rpb8_47_pdb     1.0       Rpb8_42_51_pdb    10.0\n",
        "                Rpb8      48          Rpb8_48_pdb     1.0       Rpb8_42_51_pdb    10.0\n",
        "                Rpb8      49          Rpb8_49_pdb     1.0       Rpb8_42_51_pdb    10.0\n",
        "                Rpb8      50          Rpb8_50_pdb     1.0       Rpb8_42_51_pdb    10.0\n",
        "                Rpb8      51          Rpb8_51_pdb     1.0       Rpb8_42_51_pdb    10.0\n",
        "                Rpb8      52          Rpb8_52_pdb     1.0       Rpb8_52_61_pdb    10.0\n",
        "                Rpb8      53          Rpb8_53_pdb     1.0       Rpb8_52_61_pdb    10.0\n",
        "                Rpb8      54          Rpb8_54_pdb     1.0       Rpb8_52_61_pdb    10.0\n",
        "                Rpb8      55          Rpb8_55_pdb     1.0       Rpb8_52_61_pdb    10.0\n",
        "                Rpb8      56          Rpb8_56_pdb     1.0       Rpb8_52_61_pdb    10.0\n",
        "                Rpb8      57          Rpb8_57_pdb     1.0       Rpb8_52_61_pdb    10.0\n",
        "                Rpb8      58          Rpb8_58_pdb     1.0       Rpb8_52_61_pdb    10.0\n",
        "                Rpb8      59          Rpb8_59_pdb     1.0       Rpb8_52_61_pdb    10.0\n",
        "                Rpb8      60          Rpb8_60_pdb     1.0       Rpb8_52_61_pdb    10.0\n",
        "                Rpb8      61          Rpb8_61_pdb     1.0       Rpb8_52_61_pdb    10.0\n",
        "                Rpb8      62          Rpb8_62_pdb     1.0       Rpb8_62_63_pdb    10.0\n",
        "                Rpb8      63          Rpb8_63_pdb     1.0       Rpb8_62_63_pdb    10.0\n",
        "                Rpb8      64      Rpb8_64-75_bead    12.0\n",
        "                Rpb8      65      Rpb8_64-75_bead    12.0\n",
        "                Rpb8      66      Rpb8_64-75_bead    12.0\n",
        "                Rpb8      67      Rpb8_64-75_bead    12.0\n",
        "                Rpb8      68      Rpb8_64-75_bead    12.0\n",
        "                Rpb8      69      Rpb8_64-75_bead    12.0\n",
        "                Rpb8      70      Rpb8_64-75_bead    12.0\n",
        "                Rpb8      71      Rpb8_64-75_bead    12.0\n",
        "                Rpb8      72      Rpb8_64-75_bead    12.0\n",
        "                Rpb8      73      Rpb8_64-75_bead    12.0\n",
        "                Rpb8      74      Rpb8_64-75_bead    12.0\n",
        "                Rpb8      75      Rpb8_64-75_bead    12.0\n",
        "                Rpb8      76          Rpb8_76_pdb     1.0       Rpb8_76_85_pdb    10.0\n",
        "                Rpb8      77          Rpb8_77_pdb     1.0       Rpb8_76_85_pdb    10.0\n",
        "                Rpb8      78          Rpb8_78_pdb     1.0       Rpb8_76_85_pdb    10.0\n",
        "                Rpb8      79          Rpb8_79_pdb     1.0       Rpb8_76_85_pdb    10.0\n",
        "                Rpb8      80          Rpb8_80_pdb     1.0       Rpb8_76_85_pdb    10.0\n",
        "                Rpb8      81          Rpb8_81_pdb     1.0       Rpb8_76_85_pdb    10.0\n",
        "                Rpb8      82          Rpb8_82_pdb     1.0       Rpb8_76_85_pdb    10.0\n",
        "                Rpb8      83          Rpb8_83_pdb     1.0       Rpb8_76_85_pdb    10.0\n",
        "                Rpb8      84          Rpb8_84_pdb     1.0       Rpb8_76_85_pdb    10.0\n",
        "                Rpb8      85          Rpb8_85_pdb     1.0       Rpb8_76_85_pdb    10.0\n",
        "                Rpb8      86          Rpb8_86_pdb     1.0       Rpb8_86_95_pdb    10.0\n",
        "                Rpb8      87          Rpb8_87_pdb     1.0       Rpb8_86_95_pdb    10.0\n",
        "                Rpb8      88          Rpb8_88_pdb     1.0       Rpb8_86_95_pdb    10.0\n",
        "                Rpb8      89          Rpb8_89_pdb     1.0       Rpb8_86_95_pdb    10.0\n",
        "                Rpb8      90          Rpb8_90_pdb     1.0       Rpb8_86_95_pdb    10.0\n",
        "                Rpb8      91          Rpb8_91_pdb     1.0       Rpb8_86_95_pdb    10.0\n",
        "                Rpb8      92          Rpb8_92_pdb     1.0       Rpb8_86_95_pdb    10.0\n",
        "                Rpb8      93          Rpb8_93_pdb     1.0       Rpb8_86_95_pdb    10.0\n",
        "                Rpb8      94          Rpb8_94_pdb     1.0       Rpb8_86_95_pdb    10.0\n",
        "                Rpb8      95          Rpb8_95_pdb     1.0       Rpb8_86_95_pdb    10.0\n",
        "                Rpb8      96          Rpb8_96_pdb     1.0      Rpb8_96_105_pdb    10.0\n",
        "                Rpb8      97          Rpb8_97_pdb     1.0      Rpb8_96_105_pdb    10.0\n",
        "                Rpb8      98          Rpb8_98_pdb     1.0      Rpb8_96_105_pdb    10.0\n",
        "                Rpb8      99          Rpb8_99_pdb     1.0      Rpb8_96_105_pdb    10.0\n",
        "                Rpb8     100         Rpb8_100_pdb     1.0      Rpb8_96_105_pdb    10.0\n",
        "                Rpb8     101         Rpb8_101_pdb     1.0      Rpb8_96_105_pdb    10.0\n",
        "                Rpb8     102         Rpb8_102_pdb     1.0      Rpb8_96_105_pdb    10.0\n",
        "                Rpb8     103         Rpb8_103_pdb     1.0      Rpb8_96_105_pdb    10.0\n",
        "                Rpb8     104         Rpb8_104_pdb     1.0      Rpb8_96_105_pdb    10.0\n",
        "                Rpb8     105         Rpb8_105_pdb     1.0      Rpb8_96_105_pdb    10.0\n",
        "                Rpb8     106         Rpb8_106_pdb     1.0     Rpb8_106_115_pdb    10.0\n",
        "                Rpb8     107         Rpb8_107_pdb     1.0     Rpb8_106_115_pdb    10.0\n",
        "                Rpb8     108         Rpb8_108_pdb     1.0     Rpb8_106_115_pdb    10.0\n",
        "                Rpb8     109         Rpb8_109_pdb     1.0     Rpb8_106_115_pdb    10.0\n",
        "                Rpb8     110         Rpb8_110_pdb     1.0     Rpb8_106_115_pdb    10.0\n",
        "                Rpb8     111         Rpb8_111_pdb     1.0     Rpb8_106_115_pdb    10.0\n",
        "                Rpb8     112         Rpb8_112_pdb     1.0     Rpb8_106_115_pdb    10.0\n",
        "                Rpb8     113         Rpb8_113_pdb     1.0     Rpb8_106_115_pdb    10.0\n",
        "                Rpb8     114         Rpb8_114_pdb     1.0     Rpb8_106_115_pdb    10.0\n",
        "                Rpb8     115         Rpb8_115_pdb     1.0     Rpb8_106_115_pdb    10.0\n",
        "                Rpb8     116         Rpb8_116_pdb     1.0     Rpb8_116_125_pdb    10.0\n",
        "                Rpb8     117         Rpb8_117_pdb     1.0     Rpb8_116_125_pdb    10.0\n",
        "                Rpb8     118         Rpb8_118_pdb     1.0     Rpb8_116_125_pdb    10.0\n",
        "                Rpb8     119         Rpb8_119_pdb     1.0     Rpb8_116_125_pdb    10.0\n",
        "                Rpb8     120         Rpb8_120_pdb     1.0     Rpb8_116_125_pdb    10.0\n",
        "                Rpb8     121         Rpb8_121_pdb     1.0     Rpb8_116_125_pdb    10.0\n",
        "                Rpb8     122         Rpb8_122_pdb     1.0     Rpb8_116_125_pdb    10.0\n",
        "                Rpb8     123         Rpb8_123_pdb     1.0     Rpb8_116_125_pdb    10.0\n",
        "                Rpb8     124         Rpb8_124_pdb     1.0     Rpb8_116_125_pdb    10.0\n",
        "                Rpb8     125         Rpb8_125_pdb     1.0     Rpb8_116_125_pdb    10.0\n",
        "                Rpb8     126         Rpb8_126_pdb     1.0     Rpb8_126_135_pdb    10.0\n",
        "                Rpb8     127         Rpb8_127_pdb     1.0     Rpb8_126_135_pdb    10.0\n",
        "                Rpb8     128         Rpb8_128_pdb     1.0     Rpb8_126_135_pdb    10.0\n",
        "                Rpb8     129         Rpb8_129_pdb     1.0     Rpb8_126_135_pdb    10.0\n",
        "                Rpb8     130         Rpb8_130_pdb     1.0     Rpb8_126_135_pdb    10.0\n",
        "                Rpb8     131         Rpb8_131_pdb     1.0     Rpb8_126_135_pdb    10.0\n",
        "                Rpb8     132         Rpb8_132_pdb     1.0     Rpb8_126_135_pdb    10.0\n",
        "                Rpb8     133         Rpb8_133_pdb     1.0     Rpb8_126_135_pdb    10.0\n",
        "                Rpb8     134         Rpb8_134_pdb     1.0     Rpb8_126_135_pdb    10.0\n",
        "                Rpb8     135         Rpb8_135_pdb     1.0     Rpb8_126_135_pdb    10.0\n",
        "                Rpb8     136         Rpb8_136_pdb     1.0     Rpb8_136_145_pdb    10.0\n",
        "                Rpb8     137         Rpb8_137_pdb     1.0     Rpb8_136_145_pdb    10.0\n",
        "                Rpb8     138         Rpb8_138_pdb     1.0     Rpb8_136_145_pdb    10.0\n",
        "                Rpb8     139         Rpb8_139_pdb     1.0     Rpb8_136_145_pdb    10.0\n",
        "                Rpb8     140         Rpb8_140_pdb     1.0     Rpb8_136_145_pdb    10.0\n",
        "                Rpb8     141         Rpb8_141_pdb     1.0     Rpb8_136_145_pdb    10.0\n",
        "                Rpb8     142         Rpb8_142_pdb     1.0     Rpb8_136_145_pdb    10.0\n",
        "                Rpb8     143         Rpb8_143_pdb     1.0     Rpb8_136_145_pdb    10.0\n",
        "                Rpb8     144         Rpb8_144_pdb     1.0     Rpb8_136_145_pdb    10.0\n",
        "                Rpb8     145         Rpb8_145_pdb     1.0     Rpb8_136_145_pdb    10.0\n",
        "                Rpb8     146         Rpb8_146_pdb     1.0         Rpb8_146_pdb    10.0\n",
        "Adding sequence connectivity restraint between Rpb8_1_bead  and  Rpb8_2_pdb"
       ]
      },
      {
       "output_type": "stream",
       "stream": "stdout",
       "text": [
        "\n",
        "Adding sequence connectivity restraint between Rpb8_63_pdb  and  Rpb8_64-75_bead\n",
        "Adding sequence connectivity restraint between Rpb8_64-75_bead  and  Rpb8_76_pdb\n",
        "autobuild_model: constructing Rpb9 from pdb /Users/riccardopellarin/imp-200114/imp-fast/data/pmi/1WCM.pdb and chain I\n",
        "autobuild_model: constructing fragment (1, 1) as a bead"
       ]
      },
      {
       "output_type": "stream",
       "stream": "stdout",
       "text": [
        "\n",
        "autobuild_model: constructing fragment (2, 120) from pdb\n",
        "autobuild_model: constructing fragment (121, 122) as a bead"
       ]
      },
      {
       "output_type": "stream",
       "stream": "stdout",
       "text": [
        "\n",
        "                Rpb9       1          Rpb9_1_bead     1.0\n",
        "                Rpb9       2           Rpb9_2_pdb     1.0        Rpb9_2_11_pdb    10.0\n",
        "                Rpb9       3           Rpb9_3_pdb     1.0        Rpb9_2_11_pdb    10.0\n",
        "                Rpb9       4           Rpb9_4_pdb     1.0        Rpb9_2_11_pdb    10.0\n",
        "                Rpb9       5           Rpb9_5_pdb     1.0        Rpb9_2_11_pdb    10.0\n",
        "                Rpb9       6           Rpb9_6_pdb     1.0        Rpb9_2_11_pdb    10.0\n",
        "                Rpb9       7           Rpb9_7_pdb     1.0        Rpb9_2_11_pdb    10.0\n",
        "                Rpb9       8           Rpb9_8_pdb     1.0        Rpb9_2_11_pdb    10.0\n",
        "                Rpb9       9           Rpb9_9_pdb     1.0        Rpb9_2_11_pdb    10.0\n",
        "                Rpb9      10          Rpb9_10_pdb     1.0        Rpb9_2_11_pdb    10.0\n",
        "                Rpb9      11          Rpb9_11_pdb     1.0        Rpb9_2_11_pdb    10.0\n",
        "                Rpb9      12          Rpb9_12_pdb     1.0       Rpb9_12_21_pdb    10.0\n",
        "                Rpb9      13          Rpb9_13_pdb     1.0       Rpb9_12_21_pdb    10.0\n",
        "                Rpb9      14          Rpb9_14_pdb     1.0       Rpb9_12_21_pdb    10.0\n",
        "                Rpb9      15          Rpb9_15_pdb     1.0       Rpb9_12_21_pdb    10.0\n",
        "                Rpb9      16          Rpb9_16_pdb     1.0       Rpb9_12_21_pdb    10.0\n",
        "                Rpb9      17          Rpb9_17_pdb     1.0       Rpb9_12_21_pdb    10.0\n",
        "                Rpb9      18          Rpb9_18_pdb     1.0       Rpb9_12_21_pdb    10.0\n",
        "                Rpb9      19          Rpb9_19_pdb     1.0       Rpb9_12_21_pdb    10.0\n",
        "                Rpb9      20          Rpb9_20_pdb     1.0       Rpb9_12_21_pdb    10.0\n",
        "                Rpb9      21          Rpb9_21_pdb     1.0       Rpb9_12_21_pdb    10.0\n",
        "                Rpb9      22          Rpb9_22_pdb     1.0       Rpb9_22_31_pdb    10.0\n",
        "                Rpb9      23          Rpb9_23_pdb     1.0       Rpb9_22_31_pdb    10.0\n",
        "                Rpb9      24          Rpb9_24_pdb     1.0       Rpb9_22_31_pdb    10.0\n",
        "                Rpb9      25          Rpb9_25_pdb     1.0       Rpb9_22_31_pdb    10.0\n",
        "                Rpb9      26          Rpb9_26_pdb     1.0       Rpb9_22_31_pdb    10.0\n",
        "                Rpb9      27          Rpb9_27_pdb     1.0       Rpb9_22_31_pdb    10.0\n",
        "                Rpb9      28          Rpb9_28_pdb     1.0       Rpb9_22_31_pdb    10.0\n",
        "                Rpb9      29          Rpb9_29_pdb     1.0       Rpb9_22_31_pdb    10.0\n",
        "                Rpb9      30          Rpb9_30_pdb     1.0       Rpb9_22_31_pdb    10.0\n",
        "                Rpb9      31          Rpb9_31_pdb     1.0       Rpb9_22_31_pdb    10.0\n",
        "                Rpb9      32          Rpb9_32_pdb     1.0       Rpb9_32_41_pdb    10.0\n",
        "                Rpb9      33          Rpb9_33_pdb     1.0       Rpb9_32_41_pdb    10.0\n",
        "                Rpb9      34          Rpb9_34_pdb     1.0       Rpb9_32_41_pdb    10.0\n",
        "                Rpb9      35          Rpb9_35_pdb     1.0       Rpb9_32_41_pdb    10.0\n",
        "                Rpb9      36          Rpb9_36_pdb     1.0       Rpb9_32_41_pdb    10.0\n",
        "                Rpb9      37          Rpb9_37_pdb     1.0       Rpb9_32_41_pdb    10.0\n",
        "                Rpb9      38          Rpb9_38_pdb     1.0       Rpb9_32_41_pdb    10.0\n",
        "                Rpb9      39          Rpb9_39_pdb     1.0       Rpb9_32_41_pdb    10.0\n",
        "                Rpb9      40          Rpb9_40_pdb     1.0       Rpb9_32_41_pdb    10.0\n",
        "                Rpb9      41          Rpb9_41_pdb     1.0       Rpb9_32_41_pdb    10.0\n",
        "                Rpb9      42          Rpb9_42_pdb     1.0       Rpb9_42_51_pdb    10.0\n",
        "                Rpb9      43          Rpb9_43_pdb     1.0       Rpb9_42_51_pdb    10.0\n",
        "                Rpb9      44          Rpb9_44_pdb     1.0       Rpb9_42_51_pdb    10.0\n",
        "                Rpb9      45          Rpb9_45_pdb     1.0       Rpb9_42_51_pdb    10.0\n",
        "                Rpb9      46          Rpb9_46_pdb     1.0       Rpb9_42_51_pdb    10.0\n",
        "                Rpb9      47          Rpb9_47_pdb     1.0       Rpb9_42_51_pdb    10.0\n",
        "                Rpb9      48          Rpb9_48_pdb     1.0       Rpb9_42_51_pdb    10.0\n",
        "                Rpb9      49          Rpb9_49_pdb     1.0       Rpb9_42_51_pdb    10.0\n",
        "                Rpb9      50          Rpb9_50_pdb     1.0       Rpb9_42_51_pdb    10.0\n",
        "                Rpb9      51          Rpb9_51_pdb     1.0       Rpb9_42_51_pdb    10.0\n",
        "                Rpb9      52          Rpb9_52_pdb     1.0       Rpb9_52_61_pdb    10.0\n",
        "                Rpb9      53          Rpb9_53_pdb     1.0       Rpb9_52_61_pdb    10.0\n",
        "                Rpb9      54          Rpb9_54_pdb     1.0       Rpb9_52_61_pdb    10.0\n",
        "                Rpb9      55          Rpb9_55_pdb     1.0       Rpb9_52_61_pdb    10.0\n",
        "                Rpb9      56          Rpb9_56_pdb     1.0       Rpb9_52_61_pdb    10.0\n",
        "                Rpb9      57          Rpb9_57_pdb     1.0       Rpb9_52_61_pdb    10.0\n",
        "                Rpb9      58          Rpb9_58_pdb     1.0       Rpb9_52_61_pdb    10.0\n",
        "                Rpb9      59          Rpb9_59_pdb     1.0       Rpb9_52_61_pdb    10.0\n",
        "                Rpb9      60          Rpb9_60_pdb     1.0       Rpb9_52_61_pdb    10.0\n",
        "                Rpb9      61          Rpb9_61_pdb     1.0       Rpb9_52_61_pdb    10.0\n",
        "                Rpb9      62          Rpb9_62_pdb     1.0       Rpb9_62_71_pdb    10.0\n",
        "                Rpb9      63          Rpb9_63_pdb     1.0       Rpb9_62_71_pdb    10.0\n",
        "                Rpb9      64          Rpb9_64_pdb     1.0       Rpb9_62_71_pdb    10.0\n",
        "                Rpb9      65          Rpb9_65_pdb     1.0       Rpb9_62_71_pdb    10.0\n",
        "                Rpb9      66          Rpb9_66_pdb     1.0       Rpb9_62_71_pdb    10.0\n",
        "                Rpb9      67          Rpb9_67_pdb     1.0       Rpb9_62_71_pdb    10.0\n",
        "                Rpb9      68          Rpb9_68_pdb     1.0       Rpb9_62_71_pdb    10.0\n",
        "                Rpb9      69          Rpb9_69_pdb     1.0       Rpb9_62_71_pdb    10.0\n",
        "                Rpb9      70          Rpb9_70_pdb     1.0       Rpb9_62_71_pdb    10.0\n",
        "                Rpb9      71          Rpb9_71_pdb     1.0       Rpb9_62_71_pdb    10.0\n",
        "                Rpb9      72          Rpb9_72_pdb     1.0       Rpb9_72_81_pdb    10.0\n",
        "                Rpb9      73          Rpb9_73_pdb     1.0       Rpb9_72_81_pdb    10.0\n",
        "                Rpb9      74          Rpb9_74_pdb     1.0       Rpb9_72_81_pdb    10.0\n",
        "                Rpb9      75          Rpb9_75_pdb     1.0       Rpb9_72_81_pdb    10.0\n",
        "                Rpb9      76          Rpb9_76_pdb     1.0       Rpb9_72_81_pdb    10.0\n",
        "                Rpb9      77          Rpb9_77_pdb     1.0       Rpb9_72_81_pdb    10.0\n",
        "                Rpb9      78          Rpb9_78_pdb     1.0       Rpb9_72_81_pdb    10.0\n",
        "                Rpb9      79          Rpb9_79_pdb     1.0       Rpb9_72_81_pdb    10.0\n",
        "                Rpb9      80          Rpb9_80_pdb     1.0       Rpb9_72_81_pdb    10.0\n",
        "                Rpb9      81          Rpb9_81_pdb     1.0       Rpb9_72_81_pdb    10.0\n",
        "                Rpb9      82          Rpb9_82_pdb     1.0       Rpb9_82_91_pdb    10.0\n",
        "                Rpb9      83          Rpb9_83_pdb     1.0       Rpb9_82_91_pdb    10.0\n",
        "                Rpb9      84          Rpb9_84_pdb     1.0       Rpb9_82_91_pdb    10.0\n",
        "                Rpb9      85          Rpb9_85_pdb     1.0       Rpb9_82_91_pdb    10.0\n",
        "                Rpb9      86          Rpb9_86_pdb     1.0       Rpb9_82_91_pdb    10.0\n",
        "                Rpb9      87          Rpb9_87_pdb     1.0       Rpb9_82_91_pdb    10.0\n",
        "                Rpb9      88          Rpb9_88_pdb     1.0       Rpb9_82_91_pdb    10.0\n",
        "                Rpb9      89          Rpb9_89_pdb     1.0       Rpb9_82_91_pdb    10.0\n",
        "                Rpb9      90          Rpb9_90_pdb     1.0       Rpb9_82_91_pdb    10.0\n",
        "                Rpb9      91          Rpb9_91_pdb     1.0       Rpb9_82_91_pdb    10.0\n",
        "                Rpb9      92          Rpb9_92_pdb     1.0      Rpb9_92_101_pdb    10.0\n",
        "                Rpb9      93          Rpb9_93_pdb     1.0      Rpb9_92_101_pdb    10.0\n",
        "                Rpb9      94          Rpb9_94_pdb     1.0      Rpb9_92_101_pdb    10.0\n",
        "                Rpb9      95          Rpb9_95_pdb     1.0      Rpb9_92_101_pdb    10.0\n",
        "                Rpb9      96          Rpb9_96_pdb     1.0      Rpb9_92_101_pdb    10.0\n",
        "                Rpb9      97          Rpb9_97_pdb     1.0      Rpb9_92_101_pdb    10.0\n",
        "                Rpb9      98          Rpb9_98_pdb     1.0      Rpb9_92_101_pdb    10.0\n",
        "                Rpb9      99          Rpb9_99_pdb     1.0      Rpb9_92_101_pdb    10.0\n",
        "                Rpb9     100         Rpb9_100_pdb     1.0      Rpb9_92_101_pdb    10.0\n",
        "                Rpb9     101         Rpb9_101_pdb     1.0      Rpb9_92_101_pdb    10.0\n",
        "                Rpb9     102         Rpb9_102_pdb     1.0     Rpb9_102_111_pdb    10.0\n",
        "                Rpb9     103         Rpb9_103_pdb     1.0     Rpb9_102_111_pdb    10.0\n",
        "                Rpb9     104         Rpb9_104_pdb     1.0     Rpb9_102_111_pdb    10.0\n",
        "                Rpb9     105         Rpb9_105_pdb     1.0     Rpb9_102_111_pdb    10.0\n",
        "                Rpb9     106         Rpb9_106_pdb     1.0     Rpb9_102_111_pdb    10.0\n",
        "                Rpb9     107         Rpb9_107_pdb     1.0     Rpb9_102_111_pdb    10.0\n",
        "                Rpb9     108         Rpb9_108_pdb     1.0     Rpb9_102_111_pdb    10.0\n",
        "                Rpb9     109         Rpb9_109_pdb     1.0     Rpb9_102_111_pdb    10.0\n",
        "                Rpb9     110         Rpb9_110_pdb     1.0     Rpb9_102_111_pdb    10.0\n",
        "                Rpb9     111         Rpb9_111_pdb     1.0     Rpb9_102_111_pdb    10.0\n",
        "                Rpb9     112         Rpb9_112_pdb     1.0     Rpb9_112_120_pdb    10.0\n",
        "                Rpb9     113         Rpb9_113_pdb     1.0     Rpb9_112_120_pdb    10.0\n",
        "                Rpb9     114         Rpb9_114_pdb     1.0     Rpb9_112_120_pdb    10.0\n",
        "                Rpb9     115         Rpb9_115_pdb     1.0     Rpb9_112_120_pdb    10.0\n",
        "                Rpb9     116         Rpb9_116_pdb     1.0     Rpb9_112_120_pdb    10.0\n",
        "                Rpb9     117         Rpb9_117_pdb     1.0     Rpb9_112_120_pdb    10.0\n",
        "                Rpb9     118         Rpb9_118_pdb     1.0     Rpb9_112_120_pdb    10.0\n",
        "                Rpb9     119         Rpb9_119_pdb     1.0     Rpb9_112_120_pdb    10.0\n",
        "                Rpb9     120         Rpb9_120_pdb     1.0     Rpb9_112_120_pdb    10.0\n",
        "                Rpb9     121    Rpb9_121-122_bead     2.0\n",
        "                Rpb9     122    Rpb9_121-122_bead     2.0\n",
        "Adding sequence connectivity restraint between"
       ]
      },
      {
       "output_type": "stream",
       "stream": "stdout",
       "text": [
        " Rpb9_1_bead  and  Rpb9_2_pdb\n",
        "Adding sequence connectivity restraint between Rpb9_120_pdb  and  Rpb9_121-122_bead\n",
        "autobuild_model: constructing Rpb10 from pdb /Users/riccardopellarin/imp-200114/imp-fast/data/pmi/1WCM.pdb and chain L\n",
        "autobuild_model: constructing fragment (1, 24) as a bead\n",
        "autobuild_model: constructing fragment (25, 70) from pdb"
       ]
      },
      {
       "output_type": "stream",
       "stream": "stdout",
       "text": [
        "\n",
        "               Rpb10       1"
       ]
      },
      {
       "output_type": "stream",
       "stream": "stdout",
       "text": [
        "      Rpb10_1-20_bead    20.0\n",
        "               Rpb10       2      Rpb10_1-20_bead    20.0\n",
        "               Rpb10       3      Rpb10_1-20_bead    20.0\n",
        "               Rpb10       4      Rpb10_1-20_bead    20.0\n",
        "               Rpb10       5      Rpb10_1-20_bead    20.0\n",
        "               Rpb10       6      Rpb10_1-20_bead    20.0\n",
        "               Rpb10       7      Rpb10_1-20_bead    20.0\n",
        "               Rpb10       8      Rpb10_1-20_bead    20.0\n",
        "               Rpb10       9      Rpb10_1-20_bead    20.0\n",
        "               Rpb10      10      Rpb10_1-20_bead    20.0\n",
        "               Rpb10      11      Rpb10_1-20_bead    20.0\n",
        "               Rpb10      12      Rpb10_1-20_bead    20.0\n",
        "               Rpb10      13      Rpb10_1-20_bead    20.0\n",
        "               Rpb10      14      Rpb10_1-20_bead    20.0\n",
        "               Rpb10      15      Rpb10_1-20_bead    20.0\n",
        "               Rpb10      16      Rpb10_1-20_bead    20.0\n",
        "               Rpb10      17      Rpb10_1-20_bead    20.0\n",
        "               Rpb10      18      Rpb10_1-20_bead    20.0\n",
        "               Rpb10      19      Rpb10_1-20_bead    20.0\n",
        "               Rpb10      20      Rpb10_1-20_bead    20.0\n",
        "               Rpb10      21     Rpb10_21-24_bead     4.0\n",
        "               Rpb10      22     Rpb10_21-24_bead     4.0\n",
        "               Rpb10      23     Rpb10_21-24_bead     4.0\n",
        "               Rpb10      24     Rpb10_21-24_bead     4.0\n",
        "               Rpb10      25         Rpb10_25_pdb     1.0      Rpb10_25_34_pdb    10.0\n",
        "               Rpb10      26         Rpb10_26_pdb     1.0      Rpb10_25_34_pdb    10.0\n",
        "               Rpb10      27         Rpb10_27_pdb     1.0      Rpb10_25_34_pdb    10.0\n",
        "               Rpb10      28         Rpb10_28_pdb     1.0      Rpb10_25_34_pdb    10.0\n",
        "               Rpb10      29         Rpb10_29_pdb     1.0      Rpb10_25_34_pdb    10.0\n",
        "               Rpb10      30         Rpb10_30_pdb     1.0      Rpb10_25_34_pdb    10.0\n",
        "               Rpb10      31         Rpb10_31_pdb     1.0      Rpb10_25_34_pdb    10.0\n",
        "               Rpb10      32         Rpb10_32_pdb     1.0      Rpb10_25_34_pdb    10.0\n",
        "               Rpb10      33         Rpb10_33_pdb     1.0      Rpb10_25_34_pdb    10.0\n",
        "               Rpb10      34         Rpb10_34_pdb     1.0      Rpb10_25_34_pdb    10.0\n",
        "               Rpb10      35         Rpb10_35_pdb     1.0      Rpb10_35_44_pdb    10.0\n",
        "               Rpb10      36         Rpb10_36_pdb     1.0      Rpb10_35_44_pdb    10.0\n",
        "               Rpb10      37         Rpb10_37_pdb     1.0      Rpb10_35_44_pdb    10.0\n",
        "               Rpb10      38         Rpb10_38_pdb     1.0      Rpb10_35_44_pdb    10.0\n",
        "               Rpb10      39         Rpb10_39_pdb     1.0      Rpb10_35_44_pdb    10.0\n",
        "               Rpb10      40         Rpb10_40_pdb     1.0      Rpb10_35_44_pdb    10.0\n",
        "               Rpb10      41         Rpb10_41_pdb     1.0      Rpb10_35_44_pdb    10.0\n",
        "               Rpb10      42         Rpb10_42_pdb     1.0      Rpb10_35_44_pdb    10.0\n",
        "               Rpb10      43         Rpb10_43_pdb     1.0      Rpb10_35_44_pdb    10.0\n",
        "               Rpb10      44         Rpb10_44_pdb     1.0      Rpb10_35_44_pdb    10.0\n",
        "               Rpb10      45         Rpb10_45_pdb     1.0      Rpb10_45_54_pdb    10.0\n",
        "               Rpb10      46         Rpb10_46_pdb     1.0      Rpb10_45_54_pdb    10.0\n",
        "               Rpb10      47         Rpb10_47_pdb     1.0      Rpb10_45_54_pdb    10.0\n",
        "               Rpb10      48         Rpb10_48_pdb     1.0      Rpb10_45_54_pdb    10.0\n",
        "               Rpb10      49         Rpb10_49_pdb     1.0      Rpb10_45_54_pdb    10.0\n",
        "               Rpb10      50         Rpb10_50_pdb     1.0      Rpb10_45_54_pdb    10.0\n",
        "               Rpb10      51         Rpb10_51_pdb     1.0      Rpb10_45_54_pdb    10.0\n",
        "               Rpb10      52         Rpb10_52_pdb     1.0      Rpb10_45_54_pdb    10.0\n",
        "               Rpb10      53         Rpb10_53_pdb     1.0      Rpb10_45_54_pdb    10.0\n",
        "               Rpb10      54         Rpb10_54_pdb     1.0      Rpb10_45_54_pdb    10.0\n",
        "               Rpb10      55         Rpb10_55_pdb     1.0      Rpb10_55_64_pdb    10.0\n",
        "               Rpb10      56         Rpb10_56_pdb     1.0      Rpb10_55_64_pdb    10.0\n",
        "               Rpb10      57         Rpb10_57_pdb     1.0      Rpb10_55_64_pdb    10.0\n",
        "               Rpb10      58         Rpb10_58_pdb     1.0      Rpb10_55_64_pdb    10.0\n",
        "               Rpb10      59         Rpb10_59_pdb     1.0      Rpb10_55_64_pdb    10.0\n",
        "               Rpb10      60         Rpb10_60_pdb     1.0      Rpb10_55_64_pdb    10.0\n",
        "               Rpb10      61         Rpb10_61_pdb     1.0      Rpb10_55_64_pdb    10.0\n",
        "               Rpb10      62         Rpb10_62_pdb     1.0      Rpb10_55_64_pdb    10.0\n",
        "               Rpb10      63         Rpb10_63_pdb     1.0      Rpb10_55_64_pdb    10.0\n",
        "               Rpb10      64         Rpb10_64_pdb     1.0      Rpb10_55_64_pdb    10.0\n",
        "               Rpb10      65         Rpb10_65_pdb     1.0      Rpb10_65_70_pdb    10.0\n",
        "               Rpb10      66         Rpb10_66_pdb     1.0      Rpb10_65_70_pdb    10.0\n",
        "               Rpb10      67         Rpb10_67_pdb     1.0      Rpb10_65_70_pdb    10.0\n",
        "               Rpb10      68         Rpb10_68_pdb     1.0      Rpb10_65_70_pdb    10.0\n",
        "               Rpb10      69         Rpb10_69_pdb     1.0      Rpb10_65_70_pdb    10.0\n",
        "               Rpb10      70         Rpb10_70_pdb     1.0      Rpb10_65_70_pdb    10.0\n",
        "Adding sequence connectivity restraint between Rpb10_1-20_bead  and  Rpb10_21-24_bead\n",
        "Adding sequence connectivity restraint between Rpb10_21-24_bead  and  Rpb10_25_pdb\n",
        "autobuild_model: constructing Rpb11 from pdb /Users/riccardopellarin/imp-200114/imp-fast/data/pmi/1WCM.pdb and chain J\n",
        "autobuild_model: constructing fragment (1, 65) from pdb"
       ]
      },
      {
       "output_type": "stream",
       "stream": "stdout",
       "text": [
        "\n",
        "autobuild_model: constructing fragment (66, 120) as a bead"
       ]
      },
      {
       "output_type": "stream",
       "stream": "stdout",
       "text": [
        "\n",
        "               Rpb11       1          Rpb11_1_pdb     1.0       Rpb11_1_10_pdb    10.0\n",
        "               Rpb11       2          Rpb11_2_pdb     1.0       Rpb11_1_10_pdb    10.0\n",
        "               Rpb11       3          Rpb11_3_pdb     1.0       Rpb11_1_10_pdb    10.0\n",
        "               Rpb11       4          Rpb11_4_pdb     1.0       Rpb11_1_10_pdb    10.0\n",
        "               Rpb11       5          Rpb11_5_pdb     1.0       Rpb11_1_10_pdb    10.0\n",
        "               Rpb11       6          Rpb11_6_pdb     1.0       Rpb11_1_10_pdb    10.0\n",
        "               Rpb11       7          Rpb11_7_pdb     1.0       Rpb11_1_10_pdb    10.0\n",
        "               Rpb11       8          Rpb11_8_pdb     1.0       Rpb11_1_10_pdb    10.0\n",
        "               Rpb11       9          Rpb11_9_pdb     1.0       Rpb11_1_10_pdb    10.0\n",
        "               Rpb11      10         Rpb11_10_pdb     1.0       Rpb11_1_10_pdb    10.0\n",
        "               Rpb11      11         Rpb11_11_pdb     1.0      Rpb11_11_20_pdb    10.0\n",
        "               Rpb11      12         Rpb11_12_pdb     1.0      Rpb11_11_20_pdb    10.0\n",
        "               Rpb11      13         Rpb11_13_pdb     1.0      Rpb11_11_20_pdb    10.0\n",
        "               Rpb11      14         Rpb11_14_pdb     1.0      Rpb11_11_20_pdb    10.0\n",
        "               Rpb11      15         Rpb11_15_pdb     1.0      Rpb11_11_20_pdb    10.0\n",
        "               Rpb11      16         Rpb11_16_pdb     1.0      Rpb11_11_20_pdb    10.0\n",
        "               Rpb11      17         Rpb11_17_pdb     1.0      Rpb11_11_20_pdb    10.0\n",
        "               Rpb11      18         Rpb11_18_pdb     1.0      Rpb11_11_20_pdb    10.0\n",
        "               Rpb11      19         Rpb11_19_pdb     1.0      Rpb11_11_20_pdb    10.0\n",
        "               Rpb11      20         Rpb11_20_pdb     1.0      Rpb11_11_20_pdb    10.0\n",
        "               Rpb11      21         Rpb11_21_pdb     1.0      Rpb11_21_30_pdb    10.0\n",
        "               Rpb11      22         Rpb11_22_pdb     1.0      Rpb11_21_30_pdb    10.0\n",
        "               Rpb11      23         Rpb11_23_pdb     1.0      Rpb11_21_30_pdb    10.0\n",
        "               Rpb11      24         Rpb11_24_pdb     1.0      Rpb11_21_30_pdb    10.0\n",
        "               Rpb11      25         Rpb11_25_pdb     1.0      Rpb11_21_30_pdb    10.0\n",
        "               Rpb11      26         Rpb11_26_pdb     1.0      Rpb11_21_30_pdb    10.0\n",
        "               Rpb11      27         Rpb11_27_pdb     1.0      Rpb11_21_30_pdb    10.0\n",
        "               Rpb11      28         Rpb11_28_pdb     1.0      Rpb11_21_30_pdb    10.0\n",
        "               Rpb11      29         Rpb11_29_pdb     1.0      Rpb11_21_30_pdb    10.0\n",
        "               Rpb11      30         Rpb11_30_pdb     1.0      Rpb11_21_30_pdb    10.0\n",
        "               Rpb11      31         Rpb11_31_pdb     1.0      Rpb11_31_40_pdb    10.0\n",
        "               Rpb11      32         Rpb11_32_pdb     1.0      Rpb11_31_40_pdb    10.0\n",
        "               Rpb11      33         Rpb11_33_pdb     1.0      Rpb11_31_40_pdb    10.0\n",
        "               Rpb11      34         Rpb11_34_pdb     1.0      Rpb11_31_40_pdb    10.0\n",
        "               Rpb11      35         Rpb11_35_pdb     1.0      Rpb11_31_40_pdb    10.0\n",
        "               Rpb11      36         Rpb11_36_pdb     1.0      Rpb11_31_40_pdb    10.0\n",
        "               Rpb11      37         Rpb11_37_pdb     1.0      Rpb11_31_40_pdb    10.0\n",
        "               Rpb11      38         Rpb11_38_pdb     1.0      Rpb11_31_40_pdb    10.0\n",
        "               Rpb11      39         Rpb11_39_pdb     1.0      Rpb11_31_40_pdb    10.0\n",
        "               Rpb11      40         Rpb11_40_pdb     1.0      Rpb11_31_40_pdb    10.0\n",
        "               Rpb11      41         Rpb11_41_pdb     1.0      Rpb11_41_50_pdb    10.0\n",
        "               Rpb11      42         Rpb11_42_pdb     1.0      Rpb11_41_50_pdb    10.0\n",
        "               Rpb11      43         Rpb11_43_pdb     1.0      Rpb11_41_50_pdb    10.0\n",
        "               Rpb11      44         Rpb11_44_pdb     1.0      Rpb11_41_50_pdb    10.0\n",
        "               Rpb11      45         Rpb11_45_pdb     1.0      Rpb11_41_50_pdb    10.0\n",
        "               Rpb11      46         Rpb11_46_pdb     1.0      Rpb11_41_50_pdb    10.0\n",
        "               Rpb11      47         Rpb11_47_pdb     1.0      Rpb11_41_50_pdb    10.0\n",
        "               Rpb11      48         Rpb11_48_pdb     1.0      Rpb11_41_50_pdb    10.0\n",
        "               Rpb11      49         Rpb11_49_pdb     1.0      Rpb11_41_50_pdb    10.0\n",
        "               Rpb11      50         Rpb11_50_pdb     1.0      Rpb11_41_50_pdb    10.0\n",
        "               Rpb11      51         Rpb11_51_pdb     1.0      Rpb11_51_60_pdb    10.0\n",
        "               Rpb11      52         Rpb11_52_pdb     1.0      Rpb11_51_60_pdb    10.0\n",
        "               Rpb11      53         Rpb11_53_pdb     1.0      Rpb11_51_60_pdb    10.0\n",
        "               Rpb11      54         Rpb11_54_pdb     1.0      Rpb11_51_60_pdb    10.0\n",
        "               Rpb11      55         Rpb11_55_pdb     1.0      Rpb11_51_60_pdb    10.0\n",
        "               Rpb11      56         Rpb11_56_pdb     1.0      Rpb11_51_60_pdb    10.0\n",
        "               Rpb11      57         Rpb11_57_pdb     1.0      Rpb11_51_60_pdb    10.0\n",
        "               Rpb11      58         Rpb11_58_pdb     1.0      Rpb11_51_60_pdb    10.0\n",
        "               Rpb11      59         Rpb11_59_pdb     1.0      Rpb11_51_60_pdb    10.0\n",
        "               Rpb11      60         Rpb11_60_pdb     1.0      Rpb11_51_60_pdb    10.0\n",
        "               Rpb11      61         Rpb11_61_pdb     1.0      Rpb11_61_65_pdb    10.0\n",
        "               Rpb11      62         Rpb11_62_pdb     1.0      Rpb11_61_65_pdb    10.0\n",
        "               Rpb11      63         Rpb11_63_pdb     1.0      Rpb11_61_65_pdb    10.0\n",
        "               Rpb11      64         Rpb11_64_pdb     1.0      Rpb11_61_65_pdb    10.0\n",
        "               Rpb11      65         Rpb11_65_pdb     1.0      Rpb11_61_65_pdb    10.0\n",
        "               Rpb11      66     Rpb11_66-85_bead    20.0\n",
        "               Rpb11      67     Rpb11_66-85_bead    20.0\n",
        "               Rpb11      68     Rpb11_66-85_bead    20.0\n",
        "               Rpb11      69     Rpb11_66-85_bead    20.0\n",
        "               Rpb11      70     Rpb11_66-85_bead    20.0\n",
        "               Rpb11      71     Rpb11_66-85_bead    20.0\n",
        "               Rpb11      72     Rpb11_66-85_bead    20.0\n",
        "               Rpb11      73     Rpb11_66-85_bead    20.0\n",
        "               Rpb11      74     Rpb11_66-85_bead    20.0\n",
        "               Rpb11      75     Rpb11_66-85_bead    20.0\n",
        "               Rpb11      76     Rpb11_66-85_bead    20.0\n",
        "               Rpb11      77     Rpb11_66-85_bead    20.0\n",
        "               Rpb11      78     Rpb11_66-85_bead    20.0\n",
        "               Rpb11      79     Rpb11_66-85_bead    20.0\n",
        "               Rpb11      80     Rpb11_66-85_bead    20.0\n",
        "               Rpb11      81     Rpb11_66-85_bead    20.0\n",
        "               Rpb11      82     Rpb11_66-85_bead    20.0\n",
        "               Rpb11      83     Rpb11_66-85_bead    20.0\n",
        "               Rpb11      84     Rpb11_66-85_bead    20.0\n",
        "               Rpb11      85     Rpb11_66-85_bead    20.0\n",
        "               Rpb11      86    Rpb11_86-105_bead    20.0\n",
        "               Rpb11      87    Rpb11_86-105_bead    20.0\n",
        "               Rpb11      88    Rpb11_86-105_bead    20.0\n",
        "               Rpb11      89    Rpb11_86-105_bead    20.0\n",
        "               Rpb11      90    Rpb11_86-105_bead    20.0\n",
        "               Rpb11      91    Rpb11_86-105_bead    20.0\n",
        "               Rpb11      92    Rpb11_86-105_bead    20.0\n",
        "               Rpb11      93    Rpb11_86-105_bead    20.0\n",
        "               Rpb11      94    Rpb11_86-105_bead    20.0\n",
        "               Rpb11      95    Rpb11_86-105_bead    20.0\n",
        "               Rpb11      96    Rpb11_86-105_bead    20.0\n",
        "               Rpb11      97    Rpb11_86-105_bead    20.0\n",
        "               Rpb11      98    Rpb11_86-105_bead    20.0\n",
        "               Rpb11      99    Rpb11_86-105_bead    20.0\n",
        "               Rpb11     100    Rpb11_86-105_bead    20.0\n",
        "               Rpb11     101    Rpb11_86-105_bead    20.0\n",
        "               Rpb11     102    Rpb11_86-105_bead    20.0\n",
        "               Rpb11     103    Rpb11_86-105_bead    20.0\n",
        "               Rpb11     104    Rpb11_86-105_bead    20.0\n",
        "               Rpb11     105    Rpb11_86-105_bead    20.0\n",
        "               Rpb11     106   Rpb11_106-120_bead    15.0\n",
        "               Rpb11     107   Rpb11_106-120_bead    15.0\n",
        "               Rpb11     108   Rpb11_106-120_bead    15.0\n",
        "               Rpb11     109   Rpb11_106-120_bead    15.0\n",
        "               Rpb11     110   Rpb11_106-120_bead    15.0\n",
        "               Rpb11     111   Rpb11_106-120_bead    15.0\n",
        "               Rpb11     112   Rpb11_106-120_bead    15.0\n",
        "               Rpb11     113   Rpb11_106-120_bead    15.0\n",
        "               Rpb11     114   Rpb11_106-120_bead    15.0\n",
        "               Rpb11     115   Rpb11_106-120_bead    15.0\n",
        "               Rpb11     116   Rpb11_106-120_bead    15.0\n",
        "               Rpb11     117   Rpb11_106-120_bead    15.0\n",
        "               Rpb11     118   Rpb11_106-120_bead    15.0\n",
        "               Rpb11     119   Rpb11_106-120_bead    15.0\n",
        "               Rpb11     120   Rpb11_106-120_bead    15.0\n",
        "Adding sequence connectivity restraint between"
       ]
      },
      {
       "output_type": "stream",
       "stream": "stdout",
       "text": [
        " Rpb11_65_pdb  and  Rpb11_66-85_bead\n",
        "Adding sequence connectivity restraint between Rpb11_66-85_bead  and  Rpb11_86-105_bead\n",
        "Adding sequence connectivity restraint between Rpb11_86-105_bead  and  Rpb11_106-120_bead\n",
        "autobuild_model: constructing Rpb12 from pdb /Users/riccardopellarin/imp-200114/imp-fast/data/pmi/1WCM.pdb and chain K\n",
        "autobuild_model: constructing fragment (1, 70) from pdb"
       ]
      },
      {
       "output_type": "stream",
       "stream": "stdout",
       "text": [
        "\n",
        "               Rpb12       1"
       ]
      },
      {
       "output_type": "stream",
       "stream": "stdout",
       "text": [
        "          Rpb12_1_pdb     1.0       Rpb12_1_10_pdb    10.0\n",
        "               Rpb12       2          Rpb12_2_pdb     1.0       Rpb12_1_10_pdb    10.0\n",
        "               Rpb12       3          Rpb12_3_pdb     1.0       Rpb12_1_10_pdb    10.0\n",
        "               Rpb12       4          Rpb12_4_pdb     1.0       Rpb12_1_10_pdb    10.0\n",
        "               Rpb12       5          Rpb12_5_pdb     1.0       Rpb12_1_10_pdb    10.0\n",
        "               Rpb12       6          Rpb12_6_pdb     1.0       Rpb12_1_10_pdb    10.0\n",
        "               Rpb12       7          Rpb12_7_pdb     1.0       Rpb12_1_10_pdb    10.0\n",
        "               Rpb12       8          Rpb12_8_pdb     1.0       Rpb12_1_10_pdb    10.0\n",
        "               Rpb12       9          Rpb12_9_pdb     1.0       Rpb12_1_10_pdb    10.0\n",
        "               Rpb12      10         Rpb12_10_pdb     1.0       Rpb12_1_10_pdb    10.0\n",
        "               Rpb12      11         Rpb12_11_pdb     1.0      Rpb12_11_20_pdb    10.0\n",
        "               Rpb12      12         Rpb12_12_pdb     1.0      Rpb12_11_20_pdb    10.0\n",
        "               Rpb12      13         Rpb12_13_pdb     1.0      Rpb12_11_20_pdb    10.0\n",
        "               Rpb12      14         Rpb12_14_pdb     1.0      Rpb12_11_20_pdb    10.0\n",
        "               Rpb12      15         Rpb12_15_pdb     1.0      Rpb12_11_20_pdb    10.0\n",
        "               Rpb12      16         Rpb12_16_pdb     1.0      Rpb12_11_20_pdb    10.0\n",
        "               Rpb12      17         Rpb12_17_pdb     1.0      Rpb12_11_20_pdb    10.0\n",
        "               Rpb12      18         Rpb12_18_pdb     1.0      Rpb12_11_20_pdb    10.0\n",
        "               Rpb12      19         Rpb12_19_pdb     1.0      Rpb12_11_20_pdb    10.0\n",
        "               Rpb12      20         Rpb12_20_pdb     1.0      Rpb12_11_20_pdb    10.0\n",
        "               Rpb12      21         Rpb12_21_pdb     1.0      Rpb12_21_30_pdb    10.0\n",
        "               Rpb12      22         Rpb12_22_pdb     1.0      Rpb12_21_30_pdb    10.0\n",
        "               Rpb12      23         Rpb12_23_pdb     1.0      Rpb12_21_30_pdb    10.0\n",
        "               Rpb12      24         Rpb12_24_pdb     1.0      Rpb12_21_30_pdb    10.0\n",
        "               Rpb12      25         Rpb12_25_pdb     1.0      Rpb12_21_30_pdb    10.0\n",
        "               Rpb12      26         Rpb12_26_pdb     1.0      Rpb12_21_30_pdb    10.0\n",
        "               Rpb12      27         Rpb12_27_pdb     1.0      Rpb12_21_30_pdb    10.0\n",
        "               Rpb12      28         Rpb12_28_pdb     1.0      Rpb12_21_30_pdb    10.0\n",
        "               Rpb12      29         Rpb12_29_pdb     1.0      Rpb12_21_30_pdb    10.0\n",
        "               Rpb12      30         Rpb12_30_pdb     1.0      Rpb12_21_30_pdb    10.0\n",
        "               Rpb12      31         Rpb12_31_pdb     1.0      Rpb12_31_40_pdb    10.0\n",
        "               Rpb12      32         Rpb12_32_pdb     1.0      Rpb12_31_40_pdb    10.0\n",
        "               Rpb12      33         Rpb12_33_pdb     1.0      Rpb12_31_40_pdb    10.0\n",
        "               Rpb12      34         Rpb12_34_pdb     1.0      Rpb12_31_40_pdb    10.0\n",
        "               Rpb12      35         Rpb12_35_pdb     1.0      Rpb12_31_40_pdb    10.0\n",
        "               Rpb12      36         Rpb12_36_pdb     1.0      Rpb12_31_40_pdb    10.0\n",
        "               Rpb12      37         Rpb12_37_pdb     1.0      Rpb12_31_40_pdb    10.0\n",
        "               Rpb12      38         Rpb12_38_pdb     1.0      Rpb12_31_40_pdb    10.0\n",
        "               Rpb12      39         Rpb12_39_pdb     1.0      Rpb12_31_40_pdb    10.0\n",
        "               Rpb12      40         Rpb12_40_pdb     1.0      Rpb12_31_40_pdb    10.0\n",
        "               Rpb12      41         Rpb12_41_pdb     1.0      Rpb12_41_50_pdb    10.0\n",
        "               Rpb12      42         Rpb12_42_pdb     1.0      Rpb12_41_50_pdb    10.0\n",
        "               Rpb12      43         Rpb12_43_pdb     1.0      Rpb12_41_50_pdb    10.0\n",
        "               Rpb12      44         Rpb12_44_pdb     1.0      Rpb12_41_50_pdb    10.0\n",
        "               Rpb12      45         Rpb12_45_pdb     1.0      Rpb12_41_50_pdb    10.0\n",
        "               Rpb12      46         Rpb12_46_pdb     1.0      Rpb12_41_50_pdb    10.0\n",
        "               Rpb12      47         Rpb12_47_pdb     1.0      Rpb12_41_50_pdb    10.0\n",
        "               Rpb12      48         Rpb12_48_pdb     1.0      Rpb12_41_50_pdb    10.0\n",
        "               Rpb12      49         Rpb12_49_pdb     1.0      Rpb12_41_50_pdb    10.0\n",
        "               Rpb12      50         Rpb12_50_pdb     1.0      Rpb12_41_50_pdb    10.0\n",
        "               Rpb12      51         Rpb12_51_pdb     1.0      Rpb12_51_60_pdb    10.0\n",
        "               Rpb12      52         Rpb12_52_pdb     1.0      Rpb12_51_60_pdb    10.0\n",
        "               Rpb12      53         Rpb12_53_pdb     1.0      Rpb12_51_60_pdb    10.0\n",
        "               Rpb12      54         Rpb12_54_pdb     1.0      Rpb12_51_60_pdb    10.0\n",
        "               Rpb12      55         Rpb12_55_pdb     1.0      Rpb12_51_60_pdb    10.0\n",
        "               Rpb12      56         Rpb12_56_pdb     1.0      Rpb12_51_60_pdb    10.0\n",
        "               Rpb12      57         Rpb12_57_pdb     1.0      Rpb12_51_60_pdb    10.0\n",
        "               Rpb12      58         Rpb12_58_pdb     1.0      Rpb12_51_60_pdb    10.0\n",
        "               Rpb12      59         Rpb12_59_pdb     1.0      Rpb12_51_60_pdb    10.0\n",
        "               Rpb12      60         Rpb12_60_pdb     1.0      Rpb12_51_60_pdb    10.0\n",
        "               Rpb12      61         Rpb12_61_pdb     1.0      Rpb12_61_70_pdb    10.0\n",
        "               Rpb12      62         Rpb12_62_pdb     1.0      Rpb12_61_70_pdb    10.0\n",
        "               Rpb12      63         Rpb12_63_pdb     1.0      Rpb12_61_70_pdb    10.0\n",
        "               Rpb12      64         Rpb12_64_pdb     1.0      Rpb12_61_70_pdb    10.0\n",
        "               Rpb12      65         Rpb12_65_pdb     1.0      Rpb12_61_70_pdb    10.0\n",
        "               Rpb12      66         Rpb12_66_pdb     1.0      Rpb12_61_70_pdb    10.0\n",
        "               Rpb12      67         Rpb12_67_pdb     1.0      Rpb12_61_70_pdb    10.0\n",
        "               Rpb12      68         Rpb12_68_pdb     1.0      Rpb12_61_70_pdb    10.0\n",
        "               Rpb12      69         Rpb12_69_pdb     1.0      Rpb12_61_70_pdb    10.0\n",
        "               Rpb12      70         Rpb12_70_pdb     1.0      Rpb12_61_70_pdb    10.0\n",
        "I'm trying to make this particle flexible although it was assigned to a rigid body Rpb1_1_bead_floppy_body\n",
        "I'm trying to make this particle flexible although it was assigned to a rigid body Rpb1_187-194_bead_floppy_body\n",
        "I'm trying to make this particle flexible although it was assigned to a rigid body Rpb1_1082-1091_bead_floppy_body\n",
        "I'm trying to make this particle flexible although it was assigned to a rigid body Rpb1_1177-1186_bead_floppy_body\n",
        "I'm trying to make this particle flexible although it was assigned to a rigid body Rpb1_1244-1253_bead_floppy_body\n",
        "I'm trying to make this particle flexible although it was assigned to a rigid body Rpb1_1456-1475_bead_floppy_body\n",
        "I'm trying to make this particle flexible although it was assigned to a rigid body Rpb1_1476-1495_bead_floppy_body\n",
        "I'm trying to make this particle flexible although it was assigned to a rigid body Rpb1_1496-1515_bead_floppy_body\n",
        "I'm trying to make this particle flexible although it was assigned to a rigid body Rpb1_1516-1535_bead_floppy_body\n",
        "I'm trying to make this particle flexible although it was assigned to a rigid body Rpb1_1536-1555_bead_floppy_body\n",
        "I'm trying to make this particle flexible although it was assigned to a rigid body Rpb1_1556-1575_bead_floppy_body\n",
        "I'm trying to make this particle flexible although it was assigned to a rigid body Rpb1_1576-1595_bead_floppy_body\n",
        "I'm trying to make this particle flexible although it was assigned to a rigid body Rpb1_1596-1615_bead_floppy_body\n",
        "I'm trying to make this particle flexible although it was assigned to a rigid body Rpb1_1616-1635_bead_floppy_body\n",
        "I'm trying to make this particle flexible although it was assigned to a rigid body Rpb1_1636-1655_bead_floppy_body\n",
        "I'm trying to make this particle flexible although it was assigned to a rigid body Rpb1_1656-1675_bead_floppy_body\n",
        "I'm trying to make this particle flexible although it was assigned to a rigid body Rpb1_1676-1695_bead_floppy_body\n",
        "I'm trying to make this particle flexible although it was assigned to a rigid body Rpb1_1696-1715_bead_floppy_body\n",
        "I'm trying to make this particle flexible although it was assigned to a rigid body Rpb1_1716-1733_bead_floppy_body\n",
        "I'm trying to make this particle flexible although it was assigned to a rigid body Rpb2_1-19_bead_floppy_body\n",
        "I'm trying to make this particle flexible although it was assigned to a rigid body Rpb2_71-89_bead_floppy_body\n",
        "I'm trying to make this particle flexible although it was assigned to a rigid body Rpb2_135-154_bead_floppy_body\n",
        "I'm trying to make this particle flexible although it was assigned to a rigid body Rpb2_155-163_bead_floppy_body\n",
        "I'm trying to make this particle flexible although it was assigned to a rigid body Rpb2_336-344_bead_floppy_body\n",
        "I'm trying to make this particle flexible although it was assigned to a rigid body Rpb2_438-445_bead_floppy_body\n",
        "I'm trying to make this particle flexible although it was assigned to a rigid body Rpb2_468-476_bead_floppy_body\n",
        "I'm trying to make this particle flexible although it was assigned to a rigid body Rpb2_503-508_bead_floppy_body\n",
        "I'm trying to make this particle flexible although it was assigned to a rigid body Rpb2_669-677_bead_floppy_body\n",
        "I'm trying to make this particle flexible although it was assigned to a rigid body Rpb2_716-721_bead_floppy_body\n",
        "I'm trying to make this particle flexible although it was assigned to a rigid body Rpb2_920-932_bead_floppy_body\n",
        "I'm trying to make this particle flexible although it was assigned to a rigid body Rpb3_1-2_bead_floppy_body\n",
        "I'm trying to make this particle flexible although it was assigned to a rigid body Rpb3_269-288_bead_floppy_body\n",
        "I'm trying to make this particle flexible although it was assigned to a rigid body Rpb3_289-308_bead_floppy_body\n",
        "I'm trying to make this particle flexible although it was assigned to a rigid body Rpb3_309-318_bead_floppy_body\n",
        "I'm trying to make this particle flexible although it was assigned to a rigid body Rpb4_1-3_bead_floppy_body\n",
        "I'm trying to make this particle flexible although it was assigned to a rigid body Rpb4_77-96_bead_floppy_body\n",
        "I'm trying to make this particle flexible although it was assigned to a rigid body Rpb4_97-116_bead_floppy_body\n",
        "I'm trying to make this particle flexible although it was assigned to a rigid body Rpb4_117_bead_floppy_body\n",
        "I'm trying to make this particle flexible although it was assigned to a rigid body Rpb5_1_bead_floppy_body\n",
        "I'm trying to make this particle flexible although it was assigned to a rigid body Rpb6_1-20_bead_floppy_body\n",
        "I'm trying to make this particle flexible although it was assigned to a rigid body Rpb6_21-40_bead_floppy_body\n",
        "I'm trying to make this particle flexible although it was assigned to a rigid body Rpb6_41-60_bead_floppy_body\n",
        "I'm trying to make this particle flexible although it was assigned to a rigid body Rpb6_61-71_bead_floppy_body\n",
        "I'm trying to make this particle flexible although it was assigned to a rigid body Rpb8_1_bead_floppy_body\n",
        "I'm trying to make this particle flexible although it was assigned to a rigid body Rpb8_64-75_bead_floppy_body\n",
        "I'm trying to make this particle flexible although it was assigned to a rigid body Rpb9_1_bead_floppy_body\n",
        "I'm trying to make this particle flexible although it was assigned to a rigid body Rpb9_121-122_bead_floppy_body\n",
        "I'm trying to make this particle flexible although it was assigned to a rigid body Rpb10_1-20_bead_floppy_body\n",
        "I'm trying to make this particle flexible although it was assigned to a rigid body Rpb10_21-24_bead_floppy_body\n",
        "I'm trying to make this particle flexible although it was assigned to a rigid body Rpb11_66-85_bead_floppy_body\n",
        "I'm trying to make this particle flexible although it was assigned to a rigid body Rpb11_86-105_bead_floppy_body\n",
        "I'm trying to make this particle flexible although it was assigned to a rigid body Rpb11_106-120_bead_floppy_body\n"
       ]
      }
     ],
     "prompt_number": 9
    },
    {
     "cell_type": "code",
     "collapsed": false,
     "input": [
      "r.shuffle_configuration(100,avoidcollision=True)\n",
      "\n",
      "log_objects.append(r)"
     ],
     "language": "python",
     "metadata": {},
     "outputs": [
      {
       "output_type": "stream",
       "stream": "stdout",
       "text": [
        "shuffle_configuration: rigid body placed close to other 34675 particles, trying again...\n",
        "shuffle_configuration: rigid body name: ['Rpb1']_rigid_body\n",
        "shuffle_configuration: rigid body placed close to other 15203 particles, trying again..."
       ]
      },
      {
       "output_type": "stream",
       "stream": "stdout",
       "text": [
        "\n",
        "shuffle_configuration: rigid body name: ['Rpb1']_rigid_body\n",
        "shuffle_configuration: rigid body placed close to other 179 particles, trying again..."
       ]
      },
      {
       "output_type": "stream",
       "stream": "stdout",
       "text": [
        "\n",
        "shuffle_configuration: rigid body name: ['Rpb2']_rigid_body\n",
        "shuffle_configuration: rigid body placed close to other 234 particles, trying again..."
       ]
      },
      {
       "output_type": "stream",
       "stream": "stdout",
       "text": [
        "\n",
        "shuffle_configuration: rigid body name: ['Rpb3']_rigid_body\n",
        "shuffle_configuration: rigid body placed close to other 4772 particles, trying again..."
       ]
      },
      {
       "output_type": "stream",
       "stream": "stdout",
       "text": [
        "\n",
        "shuffle_configuration: rigid body name: ['Rpb3']_rigid_body\n",
        "shuffle_configuration: rigid body placed close to other 15029 particles, trying again..."
       ]
      },
      {
       "output_type": "stream",
       "stream": "stdout",
       "text": [
        "\n",
        "shuffle_configuration: rigid body name: ['Rpb5']_rigid_body\n",
        "shuffle_configuration: rigid body placed close to other 160 particles, trying again..."
       ]
      },
      {
       "output_type": "stream",
       "stream": "stdout",
       "text": [
        "\n",
        "shuffle_configuration: rigid body name: ['Rpb6']_rigid_body\n",
        "shuffle_configuration: rigid body placed close to other 1592 particles, trying again..."
       ]
      },
      {
       "output_type": "stream",
       "stream": "stdout",
       "text": [
        "\n",
        "shuffle_configuration: rigid body name: ['Rpb6']_rigid_body\n",
        "shuffle_configuration: rigid body placed close to other 288 particles, trying again..."
       ]
      },
      {
       "output_type": "stream",
       "stream": "stdout",
       "text": [
        "\n",
        "shuffle_configuration: rigid body name: ['Rpb6']_rigid_body\n",
        "shuffle_configuration: rigid body placed close to other 282 particles, trying again..."
       ]
      },
      {
       "output_type": "stream",
       "stream": "stdout",
       "text": [
        "\n",
        "shuffle_configuration: rigid body name: ['Rpb7']_rigid_body\n",
        "shuffle_configuration: rigid body placed close to other 2328 particles, trying again..."
       ]
      },
      {
       "output_type": "stream",
       "stream": "stdout",
       "text": [
        "\n",
        "shuffle_configuration: rigid body name: ['Rpb9']_rigid_body\n",
        "shuffle_configuration: rigid body placed close to other 187 particles, trying again..."
       ]
      },
      {
       "output_type": "stream",
       "stream": "stdout",
       "text": [
        "\n",
        "shuffle_configuration: rigid body name: ['Rpb12']_rigid_body\n"
       ]
      }
     ],
     "prompt_number": 9
    },
    {
     "cell_type": "code",
     "collapsed": false,
     "input": [
      "ev=stereochemistry.ExcludedVolumeSphere(r,resolution=10)\n",
      "ev.add_to_model()\n",
      "log_objects.append(ev)"
     ],
     "language": "python",
     "metadata": {},
     "outputs": [],
     "prompt_number": 10
    },
    {
     "cell_type": "code",
     "collapsed": false,
     "input": [
      "xl = crosslinking.SigmoidalCrossLinkMS(\n",
      "        r, \n",
      "        crosslink_file,\n",
      "        inflection=30,\n",
      "        slope=2.0,\n",
      "        amplitude=5.0,\n",
      "        linear_slope=0.1,\n",
      "        resolution=1,\n",
      "        columnmapping=columnmap,\n",
      "        csvfile=True)  \n",
      "xl.add_to_model()\n",
      "log_objects.append(xl)"
     ],
     "language": "python",
     "metadata": {},
     "outputs": [
      {
       "output_type": "stream",
       "stream": "stdout",
       "text": [
        "SigmoidalCrossLinkMS> crosslink 171 Rpb5 67 Rpb6 was already found, adding 5 to the amplitude, amplitude is now 10\n",
        "SigmoidalCrossLinkMS> crosslink 70 Rpb6 166 Rpb5 was already found, adding 5 to the amplitude, amplitude is now 10"
       ]
      },
      {
       "output_type": "stream",
       "stream": "stdout",
       "text": [
        "\n",
        "SigmoidalCrossLinkMS: WARNING> residue 212 of chain Rpb4 is not there"
       ]
      },
      {
       "output_type": "stream",
       "stream": "stdout",
       "text": [
        "\n",
        "SigmoidalCrossLinkMS> crosslink 15 Rpb1 70 Rpb6 was already found, adding 5 to the amplitude, amplitude is now 10"
       ]
      },
      {
       "output_type": "stream",
       "stream": "stdout",
       "text": [
        "\n",
        "SigmoidalCrossLinkMS> crosslink 471 Rpb2 423 Rpb2 was already found, adding 5 to the amplitude, amplitude is now 10"
       ]
      },
      {
       "output_type": "stream",
       "stream": "stdout",
       "text": [
        "\n",
        "SigmoidalCrossLinkMS> crosslink 201 Rpb5 941 Rpb1 was already found, adding 5 to the amplitude, amplitude is now 10"
       ]
      },
      {
       "output_type": "stream",
       "stream": "stdout",
       "text": [
        "\n"
       ]
      }
     ],
     "prompt_number": 11
    },
    {
     "cell_type": "code",
     "collapsed": false,
     "input": [
      "#move the movers outside ang get the movers from representation and restraints\n",
      "#helper function to generate samplers samplers.get_movers([r,xl])\n",
      "# something like: mc = samplers.MonteCarlo(m,samplers.get_movers([r,xl]), 1.0)\n",
      "mc = samplers.MonteCarlo(m,[r], 1.0)\n",
      "mc.set_simulated_annealing(min_temp=1.0,\n",
      "                           max_temp=5.0,\n",
      "                           min_temp_time=200,\n",
      "                           max_temp_time=50)\n",
      "log_objects.append(mc)"
     ],
     "language": "python",
     "metadata": {},
     "outputs": [],
     "prompt_number": 12
    },
    {
     "cell_type": "code",
     "collapsed": false,
     "input": [
      "o = output.Output()\n",
      "rmf=o.init_rmf(\"conformations.rmf3\",[r.prot])\n",
      "#there is a function in IMP: redundant!\n",
      "#for the pdb use write_pdb_of_c_alphas\n",
      "#write_pdb_of_c_alphas(IMP.pmi.tools.select(r,resolution=1))\n",
      "o.add_restraints_to_rmf(\"conformations.rmf3\",[xl])\n",
      "o.init_stat2(\"modeling.stat\",log_objects)\n",
      "#remove the frame index\n",
      "o.write_rmf(\"conformations.rmf3\")\n",
      "\n",
      "o.write_rmf(\"conformations.rmf3\")"
     ],
     "language": "python",
     "metadata": {},
     "outputs": [],
     "prompt_number": 13
    },
    {
     "cell_type": "code",
     "collapsed": false,
     "input": [
      "for i in range(0,1000):\n",
      "   print i\n",
      "   mc.optimize(10)\n",
      "   o.write_rmf(\"conformations.rmf3\")\n",
      "   o.write_stats2()\n",
      "   print [(k,r.get_output()[k]) for k in  r.get_output() if \"DRMS\" in k]\n",
      "o.close_rmf(\"conformations.rmf3\")"
     ],
     "language": "python",
     "metadata": {},
     "outputs": [
      {
       "output_type": "stream",
       "stream": "stdout",
       "text": [
        "0\n",
        "[('SimplifiedModel_Reference_RelativeDRMS_None', 355.00842862990464)]"
       ]
      },
      {
       "output_type": "stream",
       "stream": "stdout",
       "text": [
        "\n",
        "1\n",
        "[('SimplifiedModel_Reference_RelativeDRMS_None', 340.20434983599387)]"
       ]
      },
      {
       "output_type": "stream",
       "stream": "stdout",
       "text": [
        "\n",
        "2\n",
        "[('SimplifiedModel_Reference_RelativeDRMS_None', 324.1603227722212)]"
       ]
      },
      {
       "output_type": "stream",
       "stream": "stdout",
       "text": [
        "\n",
        "3\n",
        "[('SimplifiedModel_Reference_RelativeDRMS_None', 308.8349412032153)]"
       ]
      },
      {
       "output_type": "stream",
       "stream": "stdout",
       "text": [
        "\n",
        "4\n",
        "[('SimplifiedModel_Reference_RelativeDRMS_None', 298.5896303256216)]"
       ]
      },
      {
       "output_type": "stream",
       "stream": "stdout",
       "text": [
        "\n",
        "5\n",
        "[('SimplifiedModel_Reference_RelativeDRMS_None', 282.58140081236087)]"
       ]
      },
      {
       "output_type": "stream",
       "stream": "stdout",
       "text": [
        "\n",
        "6\n",
        "[('SimplifiedModel_Reference_RelativeDRMS_None', 262.9319843102198)]"
       ]
      },
      {
       "output_type": "stream",
       "stream": "stdout",
       "text": [
        "\n",
        "7\n",
        "[('SimplifiedModel_Reference_RelativeDRMS_None', 253.25041457162212)]"
       ]
      },
      {
       "output_type": "stream",
       "stream": "stdout",
       "text": [
        "\n",
        "8\n",
        "[('SimplifiedModel_Reference_RelativeDRMS_None', 246.34470767114513)]"
       ]
      },
      {
       "output_type": "stream",
       "stream": "stdout",
       "text": [
        "\n",
        "9\n",
        "[('SimplifiedModel_Reference_RelativeDRMS_None', 234.5739987359313)]"
       ]
      },
      {
       "output_type": "stream",
       "stream": "stdout",
       "text": [
        "\n",
        "10\n",
        "[('SimplifiedModel_Reference_RelativeDRMS_None', 225.52405237795023)]"
       ]
      },
      {
       "output_type": "stream",
       "stream": "stdout",
       "text": [
        "\n",
        "11\n",
        "[('SimplifiedModel_Reference_RelativeDRMS_None', 214.74575011645112)]"
       ]
      },
      {
       "output_type": "stream",
       "stream": "stdout",
       "text": [
        "\n",
        "12\n",
        "[('SimplifiedModel_Reference_RelativeDRMS_None', 205.52266232263645)]"
       ]
      },
      {
       "output_type": "stream",
       "stream": "stdout",
       "text": [
        "\n",
        "13\n",
        "[('SimplifiedModel_Reference_RelativeDRMS_None', 191.5715714930129)]"
       ]
      },
      {
       "output_type": "stream",
       "stream": "stdout",
       "text": [
        "\n",
        "14\n",
        "[('SimplifiedModel_Reference_RelativeDRMS_None', 181.49629641017657)]"
       ]
      },
      {
       "output_type": "stream",
       "stream": "stdout",
       "text": [
        "\n",
        "15\n",
        "[('SimplifiedModel_Reference_RelativeDRMS_None', 171.36407859515984)]"
       ]
      },
      {
       "output_type": "stream",
       "stream": "stdout",
       "text": [
        "\n",
        "16\n",
        "[('SimplifiedModel_Reference_RelativeDRMS_None', 165.72580110595734)]"
       ]
      },
      {
       "output_type": "stream",
       "stream": "stdout",
       "text": [
        "\n",
        "17\n",
        "[('SimplifiedModel_Reference_RelativeDRMS_None', 155.91602550367494)]"
       ]
      },
      {
       "output_type": "stream",
       "stream": "stdout",
       "text": [
        "\n",
        "18\n",
        "[('SimplifiedModel_Reference_RelativeDRMS_None', 154.14192836824168)]"
       ]
      },
      {
       "output_type": "stream",
       "stream": "stdout",
       "text": [
        "\n",
        "19\n",
        "[('SimplifiedModel_Reference_RelativeDRMS_None', 147.10430294679585)]"
       ]
      },
      {
       "output_type": "stream",
       "stream": "stdout",
       "text": [
        "\n",
        "20\n",
        "[('SimplifiedModel_Reference_RelativeDRMS_None', 137.1077205428456)]"
       ]
      },
      {
       "output_type": "stream",
       "stream": "stdout",
       "text": [
        "\n",
        "21\n",
        "[('SimplifiedModel_Reference_RelativeDRMS_None', 129.4444736356817)]"
       ]
      },
      {
       "output_type": "stream",
       "stream": "stdout",
       "text": [
        "\n",
        "22\n",
        "[('SimplifiedModel_Reference_RelativeDRMS_None', 121.57735465402224)]"
       ]
      },
      {
       "output_type": "stream",
       "stream": "stdout",
       "text": [
        "\n",
        "23\n",
        "[('SimplifiedModel_Reference_RelativeDRMS_None', 119.68048648008832)]"
       ]
      },
      {
       "output_type": "stream",
       "stream": "stdout",
       "text": [
        "\n",
        "24\n",
        "[('SimplifiedModel_Reference_RelativeDRMS_None', 113.87180764958823)]"
       ]
      },
      {
       "output_type": "stream",
       "stream": "stdout",
       "text": [
        "\n",
        "25\n",
        "[('SimplifiedModel_Reference_RelativeDRMS_None', 109.49576135105795)]"
       ]
      },
      {
       "output_type": "stream",
       "stream": "stdout",
       "text": [
        "\n",
        "26\n",
        "[('SimplifiedModel_Reference_RelativeDRMS_None', 103.87020979287914)]"
       ]
      },
      {
       "output_type": "stream",
       "stream": "stdout",
       "text": [
        "\n",
        "27\n",
        "[('SimplifiedModel_Reference_RelativeDRMS_None', 101.70469014802714)]"
       ]
      },
      {
       "output_type": "stream",
       "stream": "stdout",
       "text": [
        "\n",
        "28\n",
        "[('SimplifiedModel_Reference_RelativeDRMS_None', 99.1791059580587)]"
       ]
      },
      {
       "output_type": "stream",
       "stream": "stdout",
       "text": [
        "\n",
        "29\n",
        "[('SimplifiedModel_Reference_RelativeDRMS_None', 97.4399668279927)]"
       ]
      },
      {
       "output_type": "stream",
       "stream": "stdout",
       "text": [
        "\n",
        "30\n",
        "[('SimplifiedModel_Reference_RelativeDRMS_None', 95.4471252160947)]"
       ]
      },
      {
       "output_type": "stream",
       "stream": "stdout",
       "text": [
        "\n",
        "31\n",
        "[('SimplifiedModel_Reference_RelativeDRMS_None', 93.36187557771487)]"
       ]
      },
      {
       "output_type": "stream",
       "stream": "stdout",
       "text": [
        "\n",
        "32\n",
        "[('SimplifiedModel_Reference_RelativeDRMS_None', 91.50560514319805)]"
       ]
      },
      {
       "output_type": "stream",
       "stream": "stdout",
       "text": [
        "\n",
        "33\n",
        "[('SimplifiedModel_Reference_RelativeDRMS_None', 90.03202441513149)]"
       ]
      },
      {
       "output_type": "stream",
       "stream": "stdout",
       "text": [
        "\n",
        "34\n",
        "[('SimplifiedModel_Reference_RelativeDRMS_None', 91.20641055460695)]"
       ]
      },
      {
       "output_type": "stream",
       "stream": "stdout",
       "text": [
        "\n",
        "35\n",
        "[('SimplifiedModel_Reference_RelativeDRMS_None', 88.25514126850443)]"
       ]
      },
      {
       "output_type": "stream",
       "stream": "stdout",
       "text": [
        "\n",
        "36\n",
        "[('SimplifiedModel_Reference_RelativeDRMS_None', 87.07022362471528)]"
       ]
      },
      {
       "output_type": "stream",
       "stream": "stdout",
       "text": [
        "\n",
        "37\n",
        "[('SimplifiedModel_Reference_RelativeDRMS_None', 83.77271022328439)]"
       ]
      },
      {
       "output_type": "stream",
       "stream": "stdout",
       "text": [
        "\n",
        "38\n",
        "[('SimplifiedModel_Reference_RelativeDRMS_None', 80.15288972484144)]"
       ]
      },
      {
       "output_type": "stream",
       "stream": "stdout",
       "text": [
        "\n",
        "39\n",
        "[('SimplifiedModel_Reference_RelativeDRMS_None', 76.04343492571037)]"
       ]
      },
      {
       "output_type": "stream",
       "stream": "stdout",
       "text": [
        "\n",
        "40\n",
        "[('SimplifiedModel_Reference_RelativeDRMS_None', 75.25396087327537)]"
       ]
      },
      {
       "output_type": "stream",
       "stream": "stdout",
       "text": [
        "\n",
        "41\n",
        "[('SimplifiedModel_Reference_RelativeDRMS_None', 72.19271645397774)]"
       ]
      },
      {
       "output_type": "stream",
       "stream": "stdout",
       "text": [
        "\n",
        "42\n",
        "[('SimplifiedModel_Reference_RelativeDRMS_None', 74.95935065893163)]"
       ]
      },
      {
       "output_type": "stream",
       "stream": "stdout",
       "text": [
        "\n",
        "43\n",
        "[('SimplifiedModel_Reference_RelativeDRMS_None', 72.82270625653801)]"
       ]
      },
      {
       "output_type": "stream",
       "stream": "stdout",
       "text": [
        "\n",
        "44\n",
        "[('SimplifiedModel_Reference_RelativeDRMS_None', 70.99330777974372)]"
       ]
      },
      {
       "output_type": "stream",
       "stream": "stdout",
       "text": [
        "\n",
        "45\n",
        "[('SimplifiedModel_Reference_RelativeDRMS_None', 69.02640077228054)]"
       ]
      },
      {
       "output_type": "stream",
       "stream": "stdout",
       "text": [
        "\n",
        "46\n",
        "[('SimplifiedModel_Reference_RelativeDRMS_None', 66.72801570626164)]"
       ]
      },
      {
       "output_type": "stream",
       "stream": "stdout",
       "text": [
        "\n",
        "47\n",
        "[('SimplifiedModel_Reference_RelativeDRMS_None', 66.56293233740881)]"
       ]
      },
      {
       "output_type": "stream",
       "stream": "stdout",
       "text": [
        "\n",
        "48\n",
        "[('SimplifiedModel_Reference_RelativeDRMS_None', 66.95060271096727)]"
       ]
      },
      {
       "output_type": "stream",
       "stream": "stdout",
       "text": [
        "\n",
        "49\n",
        "[('SimplifiedModel_Reference_RelativeDRMS_None', 68.85597781808849)]"
       ]
      },
      {
       "output_type": "stream",
       "stream": "stdout",
       "text": [
        "\n",
        "50\n",
        "[('SimplifiedModel_Reference_RelativeDRMS_None', 70.29181967945696)]"
       ]
      },
      {
       "output_type": "stream",
       "stream": "stdout",
       "text": [
        "\n",
        "51\n",
        "[('SimplifiedModel_Reference_RelativeDRMS_None', 66.84281894761398)]"
       ]
      },
      {
       "output_type": "stream",
       "stream": "stdout",
       "text": [
        "\n",
        "52\n",
        "[('SimplifiedModel_Reference_RelativeDRMS_None', 68.50805520890943)]"
       ]
      },
      {
       "output_type": "stream",
       "stream": "stdout",
       "text": [
        "\n",
        "53\n",
        "[('SimplifiedModel_Reference_RelativeDRMS_None', 70.20268981310228)]"
       ]
      },
      {
       "output_type": "stream",
       "stream": "stdout",
       "text": [
        "\n",
        "54\n",
        "[('SimplifiedModel_Reference_RelativeDRMS_None', 69.4482278171241)]"
       ]
      },
      {
       "output_type": "stream",
       "stream": "stdout",
       "text": [
        "\n",
        "55\n",
        "[('SimplifiedModel_Reference_RelativeDRMS_None', 67.63029131711251)]"
       ]
      },
      {
       "output_type": "stream",
       "stream": "stdout",
       "text": [
        "\n",
        "56\n",
        "[('SimplifiedModel_Reference_RelativeDRMS_None', 67.58578306858315)]"
       ]
      },
      {
       "output_type": "stream",
       "stream": "stdout",
       "text": [
        "\n",
        "57\n",
        "[('SimplifiedModel_Reference_RelativeDRMS_None', 66.32281582456673)]"
       ]
      },
      {
       "output_type": "stream",
       "stream": "stdout",
       "text": [
        "\n",
        "58\n",
        "[('SimplifiedModel_Reference_RelativeDRMS_None', 66.87417273763577)]"
       ]
      },
      {
       "output_type": "stream",
       "stream": "stdout",
       "text": [
        "\n",
        "59\n",
        "[('SimplifiedModel_Reference_RelativeDRMS_None', 68.05725163490253)]"
       ]
      },
      {
       "output_type": "stream",
       "stream": "stdout",
       "text": [
        "\n",
        "60\n",
        "[('SimplifiedModel_Reference_RelativeDRMS_None', 67.22338499340206)]"
       ]
      },
      {
       "output_type": "stream",
       "stream": "stdout",
       "text": [
        "\n",
        "61\n",
        "[('SimplifiedModel_Reference_RelativeDRMS_None', 67.3098196615899)]"
       ]
      },
      {
       "output_type": "stream",
       "stream": "stdout",
       "text": [
        "\n",
        "62\n",
        "[('SimplifiedModel_Reference_RelativeDRMS_None', 67.67774967238336)]"
       ]
      },
      {
       "output_type": "stream",
       "stream": "stdout",
       "text": [
        "\n",
        "63\n",
        "[('SimplifiedModel_Reference_RelativeDRMS_None', 68.25562096157198)]"
       ]
      },
      {
       "output_type": "stream",
       "stream": "stdout",
       "text": [
        "\n",
        "64\n",
        "[('SimplifiedModel_Reference_RelativeDRMS_None', 69.07241714881934)]"
       ]
      },
      {
       "output_type": "stream",
       "stream": "stdout",
       "text": [
        "\n",
        "65\n",
        "[('SimplifiedModel_Reference_RelativeDRMS_None', 68.6869223722616)]"
       ]
      },
      {
       "output_type": "stream",
       "stream": "stdout",
       "text": [
        "\n",
        "66\n",
        "[('SimplifiedModel_Reference_RelativeDRMS_None', 70.73556372470495)]"
       ]
      },
      {
       "output_type": "stream",
       "stream": "stdout",
       "text": [
        "\n",
        "67\n",
        "[('SimplifiedModel_Reference_RelativeDRMS_None', 74.21017132440511)]"
       ]
      },
      {
       "output_type": "stream",
       "stream": "stdout",
       "text": [
        "\n",
        "68\n",
        "[('SimplifiedModel_Reference_RelativeDRMS_None', 75.09254432173256)]"
       ]
      },
      {
       "output_type": "stream",
       "stream": "stdout",
       "text": [
        "\n",
        "69\n",
        "[('SimplifiedModel_Reference_RelativeDRMS_None', 74.60292075873821)]"
       ]
      },
      {
       "output_type": "stream",
       "stream": "stdout",
       "text": [
        "\n",
        "70\n",
        "[('SimplifiedModel_Reference_RelativeDRMS_None', 74.16261931198498)]"
       ]
      },
      {
       "output_type": "stream",
       "stream": "stdout",
       "text": [
        "\n",
        "71\n",
        "[('SimplifiedModel_Reference_RelativeDRMS_None', 72.15643291815819)]"
       ]
      },
      {
       "output_type": "stream",
       "stream": "stdout",
       "text": [
        "\n",
        "72\n",
        "[('SimplifiedModel_Reference_RelativeDRMS_None', 71.35443426258973)]"
       ]
      },
      {
       "output_type": "stream",
       "stream": "stdout",
       "text": [
        "\n",
        "73\n",
        "[('SimplifiedModel_Reference_RelativeDRMS_None', 71.27444780118499)]"
       ]
      },
      {
       "output_type": "stream",
       "stream": "stdout",
       "text": [
        "\n",
        "74\n",
        "[('SimplifiedModel_Reference_RelativeDRMS_None', 69.4464060056541)]"
       ]
      },
      {
       "output_type": "stream",
       "stream": "stdout",
       "text": [
        "\n",
        "75\n",
        "[('SimplifiedModel_Reference_RelativeDRMS_None', 70.1387401095974)]"
       ]
      },
      {
       "output_type": "stream",
       "stream": "stdout",
       "text": [
        "\n",
        "76\n",
        "[('SimplifiedModel_Reference_RelativeDRMS_None', 71.12131135716972)]"
       ]
      },
      {
       "output_type": "stream",
       "stream": "stdout",
       "text": [
        "\n",
        "77\n",
        "[('SimplifiedModel_Reference_RelativeDRMS_None', 69.81139402212189)]"
       ]
      },
      {
       "output_type": "stream",
       "stream": "stdout",
       "text": [
        "\n",
        "78\n",
        "[('SimplifiedModel_Reference_RelativeDRMS_None', 70.30794806818531)]"
       ]
      },
      {
       "output_type": "stream",
       "stream": "stdout",
       "text": [
        "\n",
        "79\n",
        "[('SimplifiedModel_Reference_RelativeDRMS_None', 70.67102881749932)]"
       ]
      },
      {
       "output_type": "stream",
       "stream": "stdout",
       "text": [
        "\n",
        "80\n",
        "[('SimplifiedModel_Reference_RelativeDRMS_None', 69.30516449860974)]"
       ]
      },
      {
       "output_type": "stream",
       "stream": "stdout",
       "text": [
        "\n",
        "81\n",
        "[('SimplifiedModel_Reference_RelativeDRMS_None', 69.12327407162613)]"
       ]
      },
      {
       "output_type": "stream",
       "stream": "stdout",
       "text": [
        "\n",
        "82\n",
        "[('SimplifiedModel_Reference_RelativeDRMS_None', 70.00160845250318)]"
       ]
      },
      {
       "output_type": "stream",
       "stream": "stdout",
       "text": [
        "\n",
        "83\n",
        "[('SimplifiedModel_Reference_RelativeDRMS_None', 69.85498349152093)]"
       ]
      },
      {
       "output_type": "stream",
       "stream": "stdout",
       "text": [
        "\n",
        "84\n",
        "[('SimplifiedModel_Reference_RelativeDRMS_None', 69.32446785618433)]"
       ]
      },
      {
       "output_type": "stream",
       "stream": "stdout",
       "text": [
        "\n",
        "85\n",
        "[('SimplifiedModel_Reference_RelativeDRMS_None', 69.70836910988965)]"
       ]
      },
      {
       "output_type": "stream",
       "stream": "stdout",
       "text": [
        "\n",
        "86\n",
        "[('SimplifiedModel_Reference_RelativeDRMS_None', 71.16651352387784)]"
       ]
      },
      {
       "output_type": "stream",
       "stream": "stdout",
       "text": [
        "\n",
        "87\n",
        "[('SimplifiedModel_Reference_RelativeDRMS_None', 71.77601675575177)]"
       ]
      },
      {
       "output_type": "stream",
       "stream": "stdout",
       "text": [
        "\n",
        "88\n",
        "[('SimplifiedModel_Reference_RelativeDRMS_None', 72.32665911141517)]"
       ]
      },
      {
       "output_type": "stream",
       "stream": "stdout",
       "text": [
        "\n",
        "89\n",
        "[('SimplifiedModel_Reference_RelativeDRMS_None', 71.48851690135258)]"
       ]
      },
      {
       "output_type": "stream",
       "stream": "stdout",
       "text": [
        "\n",
        "90\n",
        "[('SimplifiedModel_Reference_RelativeDRMS_None', 71.44673692536)]"
       ]
      },
      {
       "output_type": "stream",
       "stream": "stdout",
       "text": [
        "\n",
        "91\n",
        "[('SimplifiedModel_Reference_RelativeDRMS_None', 70.81813089830189)]"
       ]
      },
      {
       "output_type": "stream",
       "stream": "stdout",
       "text": [
        "\n",
        "92\n",
        "[('SimplifiedModel_Reference_RelativeDRMS_None', 70.34856394480755)]"
       ]
      },
      {
       "output_type": "stream",
       "stream": "stdout",
       "text": [
        "\n",
        "93\n",
        "[('SimplifiedModel_Reference_RelativeDRMS_None', 71.9944434011903)]"
       ]
      },
      {
       "output_type": "stream",
       "stream": "stdout",
       "text": [
        "\n",
        "94\n",
        "[('SimplifiedModel_Reference_RelativeDRMS_None', 72.67231429749391)]"
       ]
      },
      {
       "output_type": "stream",
       "stream": "stdout",
       "text": [
        "\n",
        "95\n",
        "[('SimplifiedModel_Reference_RelativeDRMS_None', 72.94871012774423)]"
       ]
      },
      {
       "output_type": "stream",
       "stream": "stdout",
       "text": [
        "\n",
        "96\n",
        "[('SimplifiedModel_Reference_RelativeDRMS_None', 74.14784387655439)]"
       ]
      },
      {
       "output_type": "stream",
       "stream": "stdout",
       "text": [
        "\n",
        "97\n",
        "[('SimplifiedModel_Reference_RelativeDRMS_None', 77.86763468458679)]"
       ]
      },
      {
       "output_type": "stream",
       "stream": "stdout",
       "text": [
        "\n",
        "98\n",
        "[('SimplifiedModel_Reference_RelativeDRMS_None', 77.58276838249364)]"
       ]
      },
      {
       "output_type": "stream",
       "stream": "stdout",
       "text": [
        "\n",
        "99\n",
        "[('SimplifiedModel_Reference_RelativeDRMS_None', 75.20081939910078)]"
       ]
      },
      {
       "output_type": "stream",
       "stream": "stdout",
       "text": [
        "\n",
        "100\n",
        "[('SimplifiedModel_Reference_RelativeDRMS_None', 72.22950477729798)]"
       ]
      },
      {
       "output_type": "stream",
       "stream": "stdout",
       "text": [
        "\n",
        "101\n",
        "[('SimplifiedModel_Reference_RelativeDRMS_None', 72.31365605495441)]"
       ]
      },
      {
       "output_type": "stream",
       "stream": "stdout",
       "text": [
        "\n",
        "102\n",
        "[('SimplifiedModel_Reference_RelativeDRMS_None', 74.65830032149499)]"
       ]
      },
      {
       "output_type": "stream",
       "stream": "stdout",
       "text": [
        "\n",
        "103\n",
        "[('SimplifiedModel_Reference_RelativeDRMS_None', 73.96507356115349)]"
       ]
      },
      {
       "output_type": "stream",
       "stream": "stdout",
       "text": [
        "\n",
        "104\n",
        "[('SimplifiedModel_Reference_RelativeDRMS_None', 73.58596328561228)]"
       ]
      },
      {
       "output_type": "stream",
       "stream": "stdout",
       "text": [
        "\n",
        "105\n",
        "[('SimplifiedModel_Reference_RelativeDRMS_None', 73.3559813368552)]"
       ]
      },
      {
       "output_type": "stream",
       "stream": "stdout",
       "text": [
        "\n",
        "106\n",
        "[('SimplifiedModel_Reference_RelativeDRMS_None', 74.78093164497236)]"
       ]
      },
      {
       "output_type": "stream",
       "stream": "stdout",
       "text": [
        "\n",
        "107\n",
        "[('SimplifiedModel_Reference_RelativeDRMS_None', 74.08729310088451)]"
       ]
      },
      {
       "output_type": "stream",
       "stream": "stdout",
       "text": [
        "\n",
        "108\n",
        "[('SimplifiedModel_Reference_RelativeDRMS_None', 75.79714396052434)]"
       ]
      },
      {
       "output_type": "stream",
       "stream": "stdout",
       "text": [
        "\n",
        "109\n",
        "[('SimplifiedModel_Reference_RelativeDRMS_None', 75.09796190508055)]"
       ]
      },
      {
       "output_type": "stream",
       "stream": "stdout",
       "text": [
        "\n",
        "110\n",
        "[('SimplifiedModel_Reference_RelativeDRMS_None', 73.77490669341056)]"
       ]
      },
      {
       "output_type": "stream",
       "stream": "stdout",
       "text": [
        "\n",
        "111\n",
        "[('SimplifiedModel_Reference_RelativeDRMS_None', 74.26733856985814)]"
       ]
      },
      {
       "output_type": "stream",
       "stream": "stdout",
       "text": [
        "\n",
        "112\n",
        "[('SimplifiedModel_Reference_RelativeDRMS_None', 73.91988128936042)]"
       ]
      },
      {
       "output_type": "stream",
       "stream": "stdout",
       "text": [
        "\n",
        "113\n",
        "[('SimplifiedModel_Reference_RelativeDRMS_None', 75.61729040518661)]"
       ]
      },
      {
       "output_type": "stream",
       "stream": "stdout",
       "text": [
        "\n",
        "114\n",
        "[('SimplifiedModel_Reference_RelativeDRMS_None', 74.87965888128889)]"
       ]
      },
      {
       "output_type": "stream",
       "stream": "stdout",
       "text": [
        "\n",
        "115\n",
        "[('SimplifiedModel_Reference_RelativeDRMS_None', 75.53413288839842)]"
       ]
      },
      {
       "output_type": "stream",
       "stream": "stdout",
       "text": [
        "\n",
        "116\n",
        "[('SimplifiedModel_Reference_RelativeDRMS_None', 77.09607098026196)]"
       ]
      },
      {
       "output_type": "stream",
       "stream": "stdout",
       "text": [
        "\n",
        "117\n",
        "[('SimplifiedModel_Reference_RelativeDRMS_None', 75.79572325308791)]"
       ]
      },
      {
       "output_type": "stream",
       "stream": "stdout",
       "text": [
        "\n",
        "118\n",
        "[('SimplifiedModel_Reference_RelativeDRMS_None', 76.59120532900963)]"
       ]
      },
      {
       "output_type": "stream",
       "stream": "stdout",
       "text": [
        "\n",
        "119\n",
        "[('SimplifiedModel_Reference_RelativeDRMS_None', 74.18167972705339)]"
       ]
      },
      {
       "output_type": "stream",
       "stream": "stdout",
       "text": [
        "\n",
        "120\n",
        "[('SimplifiedModel_Reference_RelativeDRMS_None', 73.34448227160132)]"
       ]
      },
      {
       "output_type": "stream",
       "stream": "stdout",
       "text": [
        "\n",
        "121\n",
        "[('SimplifiedModel_Reference_RelativeDRMS_None', 72.14762158834698)]"
       ]
      },
      {
       "output_type": "stream",
       "stream": "stdout",
       "text": [
        "\n",
        "122\n",
        "[('SimplifiedModel_Reference_RelativeDRMS_None', 69.65151847754244)]"
       ]
      },
      {
       "output_type": "stream",
       "stream": "stdout",
       "text": [
        "\n",
        "123\n",
        "[('SimplifiedModel_Reference_RelativeDRMS_None', 69.89188150113807)]"
       ]
      },
      {
       "output_type": "stream",
       "stream": "stdout",
       "text": [
        "\n",
        "124\n",
        "[('SimplifiedModel_Reference_RelativeDRMS_None', 68.4885351669412)]"
       ]
      },
      {
       "output_type": "stream",
       "stream": "stdout",
       "text": [
        "\n",
        "125\n",
        "[('SimplifiedModel_Reference_RelativeDRMS_None', 67.29013705382059)]"
       ]
      },
      {
       "output_type": "stream",
       "stream": "stdout",
       "text": [
        "\n",
        "126\n",
        "[('SimplifiedModel_Reference_RelativeDRMS_None', 67.31833054957728)]"
       ]
      },
      {
       "output_type": "stream",
       "stream": "stdout",
       "text": [
        "\n",
        "127\n",
        "[('SimplifiedModel_Reference_RelativeDRMS_None', 66.55369361164009)]"
       ]
      },
      {
       "output_type": "stream",
       "stream": "stdout",
       "text": [
        "\n",
        "128\n",
        "[('SimplifiedModel_Reference_RelativeDRMS_None', 65.78776121757083)]"
       ]
      },
      {
       "output_type": "stream",
       "stream": "stdout",
       "text": [
        "\n",
        "129\n",
        "[('SimplifiedModel_Reference_RelativeDRMS_None', 66.8230543051809)]"
       ]
      },
      {
       "output_type": "stream",
       "stream": "stdout",
       "text": [
        "\n",
        "130\n",
        "[('SimplifiedModel_Reference_RelativeDRMS_None', 68.01889846039356)]"
       ]
      },
      {
       "output_type": "stream",
       "stream": "stdout",
       "text": [
        "\n",
        "131\n",
        "[('SimplifiedModel_Reference_RelativeDRMS_None', 67.51180207565146)]"
       ]
      },
      {
       "output_type": "stream",
       "stream": "stdout",
       "text": [
        "\n",
        "132\n",
        "[('SimplifiedModel_Reference_RelativeDRMS_None', 67.75885613303757)]"
       ]
      },
      {
       "output_type": "stream",
       "stream": "stdout",
       "text": [
        "\n",
        "133\n",
        "[('SimplifiedModel_Reference_RelativeDRMS_None', 68.87098829401046)]"
       ]
      },
      {
       "output_type": "stream",
       "stream": "stdout",
       "text": [
        "\n",
        "134\n",
        "[('SimplifiedModel_Reference_RelativeDRMS_None', 69.40259283537266)]"
       ]
      },
      {
       "output_type": "stream",
       "stream": "stdout",
       "text": [
        "\n",
        "135\n",
        "[('SimplifiedModel_Reference_RelativeDRMS_None', 70.3092043319847)]"
       ]
      },
      {
       "output_type": "stream",
       "stream": "stdout",
       "text": [
        "\n",
        "136\n",
        "[('SimplifiedModel_Reference_RelativeDRMS_None', 70.0739246215775)]"
       ]
      },
      {
       "output_type": "stream",
       "stream": "stdout",
       "text": [
        "\n",
        "137\n",
        "[('SimplifiedModel_Reference_RelativeDRMS_None', 68.68002915567382)]"
       ]
      },
      {
       "output_type": "stream",
       "stream": "stdout",
       "text": [
        "\n",
        "138\n",
        "[('SimplifiedModel_Reference_RelativeDRMS_None', 69.67452410295265)]"
       ]
      },
      {
       "output_type": "stream",
       "stream": "stdout",
       "text": [
        "\n",
        "139\n",
        "[('SimplifiedModel_Reference_RelativeDRMS_None', 71.00557564952882)]"
       ]
      },
      {
       "output_type": "stream",
       "stream": "stdout",
       "text": [
        "\n",
        "140\n",
        "[('SimplifiedModel_Reference_RelativeDRMS_None', 69.45635201487868)]"
       ]
      },
      {
       "output_type": "stream",
       "stream": "stdout",
       "text": [
        "\n",
        "141\n",
        "[('SimplifiedModel_Reference_RelativeDRMS_None', 70.2099453436184)]"
       ]
      },
      {
       "output_type": "stream",
       "stream": "stdout",
       "text": [
        "\n",
        "142\n",
        "[('SimplifiedModel_Reference_RelativeDRMS_None', 71.57372737046556)]"
       ]
      },
      {
       "output_type": "stream",
       "stream": "stdout",
       "text": [
        "\n",
        "143\n",
        "[('SimplifiedModel_Reference_RelativeDRMS_None', 69.97938169118949)]"
       ]
      },
      {
       "output_type": "stream",
       "stream": "stdout",
       "text": [
        "\n",
        "144\n",
        "[('SimplifiedModel_Reference_RelativeDRMS_None', 66.26331898560444)]"
       ]
      },
      {
       "output_type": "stream",
       "stream": "stdout",
       "text": [
        "\n",
        "145\n",
        "[('SimplifiedModel_Reference_RelativeDRMS_None', 68.0205007817673)]"
       ]
      },
      {
       "output_type": "stream",
       "stream": "stdout",
       "text": [
        "\n",
        "146\n",
        "[('SimplifiedModel_Reference_RelativeDRMS_None', 68.19009823311467)]"
       ]
      },
      {
       "output_type": "stream",
       "stream": "stdout",
       "text": [
        "\n",
        "147\n",
        "[('SimplifiedModel_Reference_RelativeDRMS_None', 70.07133864009734)]"
       ]
      },
      {
       "output_type": "stream",
       "stream": "stdout",
       "text": [
        "\n",
        "148\n",
        "[('SimplifiedModel_Reference_RelativeDRMS_None', 70.15249726767276)]"
       ]
      },
      {
       "output_type": "stream",
       "stream": "stdout",
       "text": [
        "\n",
        "149\n",
        "[('SimplifiedModel_Reference_RelativeDRMS_None', 69.45351497187106)]"
       ]
      },
      {
       "output_type": "stream",
       "stream": "stdout",
       "text": [
        "\n",
        "150\n",
        "[('SimplifiedModel_Reference_RelativeDRMS_None', 67.48668789351312)]"
       ]
      },
      {
       "output_type": "stream",
       "stream": "stdout",
       "text": [
        "\n",
        "151\n",
        "[('SimplifiedModel_Reference_RelativeDRMS_None', 69.11156697238152)]"
       ]
      },
      {
       "output_type": "stream",
       "stream": "stdout",
       "text": [
        "\n",
        "152\n",
        "[('SimplifiedModel_Reference_RelativeDRMS_None', 69.00093226904818)]"
       ]
      },
      {
       "output_type": "stream",
       "stream": "stdout",
       "text": [
        "\n",
        "153\n",
        "[('SimplifiedModel_Reference_RelativeDRMS_None', 68.13629878679284)]"
       ]
      },
      {
       "output_type": "stream",
       "stream": "stdout",
       "text": [
        "\n",
        "154\n",
        "[('SimplifiedModel_Reference_RelativeDRMS_None', 64.03249337822041)]"
       ]
      },
      {
       "output_type": "stream",
       "stream": "stdout",
       "text": [
        "\n",
        "155\n",
        "[('SimplifiedModel_Reference_RelativeDRMS_None', 62.870951928066624)]"
       ]
      },
      {
       "output_type": "stream",
       "stream": "stdout",
       "text": [
        "\n",
        "156\n",
        "[('SimplifiedModel_Reference_RelativeDRMS_None', 60.59441760406745)]"
       ]
      },
      {
       "output_type": "stream",
       "stream": "stdout",
       "text": [
        "\n",
        "157\n",
        "[('SimplifiedModel_Reference_RelativeDRMS_None', 62.548522112234366)]"
       ]
      },
      {
       "output_type": "stream",
       "stream": "stdout",
       "text": [
        "\n",
        "158\n",
        "[('SimplifiedModel_Reference_RelativeDRMS_None', 63.78231334428343)]"
       ]
      },
      {
       "output_type": "stream",
       "stream": "stdout",
       "text": [
        "\n",
        "159\n",
        "[('SimplifiedModel_Reference_RelativeDRMS_None', 64.25960081263709)]"
       ]
      },
      {
       "output_type": "stream",
       "stream": "stdout",
       "text": [
        "\n",
        "160\n",
        "[('SimplifiedModel_Reference_RelativeDRMS_None', 63.68436930621126)]"
       ]
      },
      {
       "output_type": "stream",
       "stream": "stdout",
       "text": [
        "\n",
        "161\n",
        "[('SimplifiedModel_Reference_RelativeDRMS_None', 66.30513164316194)]"
       ]
      },
      {
       "output_type": "stream",
       "stream": "stdout",
       "text": [
        "\n",
        "162\n",
        "[('SimplifiedModel_Reference_RelativeDRMS_None', 64.96802760595014)]"
       ]
      },
      {
       "output_type": "stream",
       "stream": "stdout",
       "text": [
        "\n",
        "163\n",
        "[('SimplifiedModel_Reference_RelativeDRMS_None', 64.11329071832611)]"
       ]
      },
      {
       "output_type": "stream",
       "stream": "stdout",
       "text": [
        "\n",
        "164\n",
        "[('SimplifiedModel_Reference_RelativeDRMS_None', 65.22054091506426)]"
       ]
      },
      {
       "output_type": "stream",
       "stream": "stdout",
       "text": [
        "\n",
        "165\n",
        "[('SimplifiedModel_Reference_RelativeDRMS_None', 62.391343645310826)]"
       ]
      },
      {
       "output_type": "stream",
       "stream": "stdout",
       "text": [
        "\n",
        "166\n",
        "[('SimplifiedModel_Reference_RelativeDRMS_None', 61.364772086005146)]"
       ]
      },
      {
       "output_type": "stream",
       "stream": "stdout",
       "text": [
        "\n",
        "167\n",
        "[('SimplifiedModel_Reference_RelativeDRMS_None', 58.77074894458669)]"
       ]
      },
      {
       "output_type": "stream",
       "stream": "stdout",
       "text": [
        "\n",
        "168\n",
        "[('SimplifiedModel_Reference_RelativeDRMS_None', 58.927766567222335)]"
       ]
      },
      {
       "output_type": "stream",
       "stream": "stdout",
       "text": [
        "\n",
        "169\n",
        "[('SimplifiedModel_Reference_RelativeDRMS_None', 58.71965687077281)]"
       ]
      },
      {
       "output_type": "stream",
       "stream": "stdout",
       "text": [
        "\n",
        "170\n",
        "[('SimplifiedModel_Reference_RelativeDRMS_None', 57.35578824553494)]"
       ]
      },
      {
       "output_type": "stream",
       "stream": "stdout",
       "text": [
        "\n",
        "171\n",
        "[('SimplifiedModel_Reference_RelativeDRMS_None', 57.01730157423421)]"
       ]
      },
      {
       "output_type": "stream",
       "stream": "stdout",
       "text": [
        "\n",
        "172\n",
        "[('SimplifiedModel_Reference_RelativeDRMS_None', 55.792886821591274)]"
       ]
      },
      {
       "output_type": "stream",
       "stream": "stdout",
       "text": [
        "\n",
        "173\n",
        "[('SimplifiedModel_Reference_RelativeDRMS_None', 53.520334473142114)]"
       ]
      },
      {
       "output_type": "stream",
       "stream": "stdout",
       "text": [
        "\n",
        "174\n",
        "[('SimplifiedModel_Reference_RelativeDRMS_None', 51.65592092255979)]"
       ]
      },
      {
       "output_type": "stream",
       "stream": "stdout",
       "text": [
        "\n",
        "175\n",
        "[('SimplifiedModel_Reference_RelativeDRMS_None', 53.12037696377721)]"
       ]
      },
      {
       "output_type": "stream",
       "stream": "stdout",
       "text": [
        "\n",
        "176\n",
        "[('SimplifiedModel_Reference_RelativeDRMS_None', 52.5122248832813)]"
       ]
      },
      {
       "output_type": "stream",
       "stream": "stdout",
       "text": [
        "\n",
        "177\n",
        "[('SimplifiedModel_Reference_RelativeDRMS_None', 52.58947390702339)]"
       ]
      },
      {
       "output_type": "stream",
       "stream": "stdout",
       "text": [
        "\n",
        "178\n",
        "[('SimplifiedModel_Reference_RelativeDRMS_None', 52.2029328006692)]"
       ]
      },
      {
       "output_type": "stream",
       "stream": "stdout",
       "text": [
        "\n",
        "179\n",
        "[('SimplifiedModel_Reference_RelativeDRMS_None', 54.24771559070945)]"
       ]
      },
      {
       "output_type": "stream",
       "stream": "stdout",
       "text": [
        "\n",
        "180\n",
        "[('SimplifiedModel_Reference_RelativeDRMS_None', 55.38968808230796)]"
       ]
      },
      {
       "output_type": "stream",
       "stream": "stdout",
       "text": [
        "\n",
        "181\n",
        "[('SimplifiedModel_Reference_RelativeDRMS_None', 55.28084201309073)]"
       ]
      },
      {
       "output_type": "stream",
       "stream": "stdout",
       "text": [
        "\n",
        "182\n",
        "[('SimplifiedModel_Reference_RelativeDRMS_None', 55.899554119309364)]"
       ]
      },
      {
       "output_type": "stream",
       "stream": "stdout",
       "text": [
        "\n",
        "183\n",
        "[('SimplifiedModel_Reference_RelativeDRMS_None', 57.12816158378996)]"
       ]
      },
      {
       "output_type": "stream",
       "stream": "stdout",
       "text": [
        "\n",
        "184\n",
        "[('SimplifiedModel_Reference_RelativeDRMS_None', 58.123247334666104)]"
       ]
      },
      {
       "output_type": "stream",
       "stream": "stdout",
       "text": [
        "\n",
        "185\n",
        "[('SimplifiedModel_Reference_RelativeDRMS_None', 58.7364053175246)]"
       ]
      },
      {
       "output_type": "stream",
       "stream": "stdout",
       "text": [
        "\n",
        "186\n",
        "[('SimplifiedModel_Reference_RelativeDRMS_None', 61.1186553639503)]"
       ]
      },
      {
       "output_type": "stream",
       "stream": "stdout",
       "text": [
        "\n",
        "187\n",
        "[('SimplifiedModel_Reference_RelativeDRMS_None', 61.70856273683169)]"
       ]
      },
      {
       "output_type": "stream",
       "stream": "stdout",
       "text": [
        "\n",
        "188\n",
        "[('SimplifiedModel_Reference_RelativeDRMS_None', 61.925357185114656)]"
       ]
      },
      {
       "output_type": "stream",
       "stream": "stdout",
       "text": [
        "\n",
        "189\n",
        "[('SimplifiedModel_Reference_RelativeDRMS_None', 58.90098356058622)]"
       ]
      },
      {
       "output_type": "stream",
       "stream": "stdout",
       "text": [
        "\n",
        "190\n",
        "[('SimplifiedModel_Reference_RelativeDRMS_None', 60.292887591113725)]"
       ]
      },
      {
       "output_type": "stream",
       "stream": "stdout",
       "text": [
        "\n",
        "191\n",
        "[('SimplifiedModel_Reference_RelativeDRMS_None', 61.810119614750256)]"
       ]
      },
      {
       "output_type": "stream",
       "stream": "stdout",
       "text": [
        "\n",
        "192\n",
        "[('SimplifiedModel_Reference_RelativeDRMS_None', 63.40787448142036)]"
       ]
      },
      {
       "output_type": "stream",
       "stream": "stdout",
       "text": [
        "\n",
        "193\n",
        "[('SimplifiedModel_Reference_RelativeDRMS_None', 61.69780666124012)]"
       ]
      },
      {
       "output_type": "stream",
       "stream": "stdout",
       "text": [
        "\n",
        "194\n",
        "[('SimplifiedModel_Reference_RelativeDRMS_None', 60.33866340002448)]"
       ]
      },
      {
       "output_type": "stream",
       "stream": "stdout",
       "text": [
        "\n",
        "195\n",
        "[('SimplifiedModel_Reference_RelativeDRMS_None', 61.45428703080783)]"
       ]
      },
      {
       "output_type": "stream",
       "stream": "stdout",
       "text": [
        "\n",
        "196\n",
        "[('SimplifiedModel_Reference_RelativeDRMS_None', 57.584483205962066)]"
       ]
      },
      {
       "output_type": "stream",
       "stream": "stdout",
       "text": [
        "\n",
        "197\n",
        "[('SimplifiedModel_Reference_RelativeDRMS_None', 58.268367687916346)]"
       ]
      },
      {
       "output_type": "stream",
       "stream": "stdout",
       "text": [
        "\n",
        "198\n",
        "[('SimplifiedModel_Reference_RelativeDRMS_None', 58.26550247030604)]"
       ]
      },
      {
       "output_type": "stream",
       "stream": "stdout",
       "text": [
        "\n",
        "199\n",
        "[('SimplifiedModel_Reference_RelativeDRMS_None', 58.69483258328043)]"
       ]
      },
      {
       "output_type": "stream",
       "stream": "stdout",
       "text": [
        "\n",
        "200\n",
        "[('SimplifiedModel_Reference_RelativeDRMS_None', 59.968426254928204)]"
       ]
      },
      {
       "output_type": "stream",
       "stream": "stdout",
       "text": [
        "\n",
        "201\n",
        "[('SimplifiedModel_Reference_RelativeDRMS_None', 59.42661545307888)]"
       ]
      },
      {
       "output_type": "stream",
       "stream": "stdout",
       "text": [
        "\n",
        "202\n",
        "[('SimplifiedModel_Reference_RelativeDRMS_None', 58.85247208566848)]"
       ]
      },
      {
       "output_type": "stream",
       "stream": "stdout",
       "text": [
        "\n",
        "203\n",
        "[('SimplifiedModel_Reference_RelativeDRMS_None', 60.01873365836965)]"
       ]
      },
      {
       "output_type": "stream",
       "stream": "stdout",
       "text": [
        "\n",
        "204\n",
        "[('SimplifiedModel_Reference_RelativeDRMS_None', 58.805572322826684)]"
       ]
      },
      {
       "output_type": "stream",
       "stream": "stdout",
       "text": [
        "\n",
        "205\n",
        "[('SimplifiedModel_Reference_RelativeDRMS_None', 62.12158798638956)]"
       ]
      },
      {
       "output_type": "stream",
       "stream": "stdout",
       "text": [
        "\n",
        "206\n",
        "[('SimplifiedModel_Reference_RelativeDRMS_None', 61.81801261657545)]"
       ]
      },
      {
       "output_type": "stream",
       "stream": "stdout",
       "text": [
        "\n",
        "207\n",
        "[('SimplifiedModel_Reference_RelativeDRMS_None', 61.052073064439405)]"
       ]
      },
      {
       "output_type": "stream",
       "stream": "stdout",
       "text": [
        "\n",
        "208\n",
        "[('SimplifiedModel_Reference_RelativeDRMS_None', 58.82087873140166)]"
       ]
      },
      {
       "output_type": "stream",
       "stream": "stdout",
       "text": [
        "\n",
        "209\n",
        "[('SimplifiedModel_Reference_RelativeDRMS_None', 59.254533719090205)]"
       ]
      },
      {
       "output_type": "stream",
       "stream": "stdout",
       "text": [
        "\n",
        "210\n",
        "[('SimplifiedModel_Reference_RelativeDRMS_None', 59.980243169287775)]"
       ]
      },
      {
       "output_type": "stream",
       "stream": "stdout",
       "text": [
        "\n",
        "211\n",
        "[('SimplifiedModel_Reference_RelativeDRMS_None', 59.77143406685766)]"
       ]
      },
      {
       "output_type": "stream",
       "stream": "stdout",
       "text": [
        "\n",
        "212\n",
        "[('SimplifiedModel_Reference_RelativeDRMS_None', 60.19821379636879)]"
       ]
      },
      {
       "output_type": "stream",
       "stream": "stdout",
       "text": [
        "\n",
        "213\n",
        "[('SimplifiedModel_Reference_RelativeDRMS_None', 61.761537401156474)]"
       ]
      },
      {
       "output_type": "stream",
       "stream": "stdout",
       "text": [
        "\n",
        "214\n",
        "[('SimplifiedModel_Reference_RelativeDRMS_None', 59.62168123002358)]"
       ]
      },
      {
       "output_type": "stream",
       "stream": "stdout",
       "text": [
        "\n",
        "215\n",
        "[('SimplifiedModel_Reference_RelativeDRMS_None', 59.058028491687566)]"
       ]
      },
      {
       "output_type": "stream",
       "stream": "stdout",
       "text": [
        "\n",
        "216\n",
        "[('SimplifiedModel_Reference_RelativeDRMS_None', 60.81666256439361)]"
       ]
      },
      {
       "output_type": "stream",
       "stream": "stdout",
       "text": [
        "\n",
        "217\n",
        "[('SimplifiedModel_Reference_RelativeDRMS_None', 61.286107278828595)]"
       ]
      },
      {
       "output_type": "stream",
       "stream": "stdout",
       "text": [
        "\n",
        "218\n",
        "[('SimplifiedModel_Reference_RelativeDRMS_None', 62.34716152545329)]"
       ]
      },
      {
       "output_type": "stream",
       "stream": "stdout",
       "text": [
        "\n",
        "219\n",
        "[('SimplifiedModel_Reference_RelativeDRMS_None', 63.18073895760472)]"
       ]
      },
      {
       "output_type": "stream",
       "stream": "stdout",
       "text": [
        "\n",
        "220\n",
        "[('SimplifiedModel_Reference_RelativeDRMS_None', 63.16564679708545)]"
       ]
      },
      {
       "output_type": "stream",
       "stream": "stdout",
       "text": [
        "\n",
        "221\n",
        "[('SimplifiedModel_Reference_RelativeDRMS_None', 62.91055529545524)]"
       ]
      },
      {
       "output_type": "stream",
       "stream": "stdout",
       "text": [
        "\n",
        "222\n",
        "[('SimplifiedModel_Reference_RelativeDRMS_None', 64.36996107625525)]"
       ]
      },
      {
       "output_type": "stream",
       "stream": "stdout",
       "text": [
        "\n",
        "223\n",
        "[('SimplifiedModel_Reference_RelativeDRMS_None', 65.56472739842236)]"
       ]
      },
      {
       "output_type": "stream",
       "stream": "stdout",
       "text": [
        "\n",
        "224\n",
        "[('SimplifiedModel_Reference_RelativeDRMS_None', 63.320236459122945)]"
       ]
      },
      {
       "output_type": "stream",
       "stream": "stdout",
       "text": [
        "\n",
        "225\n",
        "[('SimplifiedModel_Reference_RelativeDRMS_None', 65.27414794595839)]"
       ]
      },
      {
       "output_type": "stream",
       "stream": "stdout",
       "text": [
        "\n",
        "226\n",
        "[('SimplifiedModel_Reference_RelativeDRMS_None', 68.7513760604759)]"
       ]
      },
      {
       "output_type": "stream",
       "stream": "stdout",
       "text": [
        "\n",
        "227\n",
        "[('SimplifiedModel_Reference_RelativeDRMS_None', 67.25338382297649)]"
       ]
      },
      {
       "output_type": "stream",
       "stream": "stdout",
       "text": [
        "\n",
        "228\n",
        "[('SimplifiedModel_Reference_RelativeDRMS_None', 68.34383768612845)]"
       ]
      },
      {
       "output_type": "stream",
       "stream": "stdout",
       "text": [
        "\n",
        "229\n",
        "[('SimplifiedModel_Reference_RelativeDRMS_None', 67.90798736926104)]"
       ]
      },
      {
       "output_type": "stream",
       "stream": "stdout",
       "text": [
        "\n",
        "230\n",
        "[('SimplifiedModel_Reference_RelativeDRMS_None', 64.87642601398876)]"
       ]
      },
      {
       "output_type": "stream",
       "stream": "stdout",
       "text": [
        "\n",
        "231\n",
        "[('SimplifiedModel_Reference_RelativeDRMS_None', 66.02220142636797)]"
       ]
      },
      {
       "output_type": "stream",
       "stream": "stdout",
       "text": [
        "\n",
        "232\n",
        "[('SimplifiedModel_Reference_RelativeDRMS_None', 65.77308382574957)]"
       ]
      },
      {
       "output_type": "stream",
       "stream": "stdout",
       "text": [
        "\n",
        "233\n",
        "[('SimplifiedModel_Reference_RelativeDRMS_None', 64.74078375981486)]"
       ]
      },
      {
       "output_type": "stream",
       "stream": "stdout",
       "text": [
        "\n",
        "234\n",
        "[('SimplifiedModel_Reference_RelativeDRMS_None', 63.398061142415834)]"
       ]
      },
      {
       "output_type": "stream",
       "stream": "stdout",
       "text": [
        "\n",
        "235\n",
        "[('SimplifiedModel_Reference_RelativeDRMS_None', 65.01038147908739)]"
       ]
      },
      {
       "output_type": "stream",
       "stream": "stdout",
       "text": [
        "\n",
        "236\n",
        "[('SimplifiedModel_Reference_RelativeDRMS_None', 65.71003209940416)]"
       ]
      },
      {
       "output_type": "stream",
       "stream": "stdout",
       "text": [
        "\n",
        "237\n",
        "[('SimplifiedModel_Reference_RelativeDRMS_None', 63.983655165471696)]"
       ]
      },
      {
       "output_type": "stream",
       "stream": "stdout",
       "text": [
        "\n",
        "238\n",
        "[('SimplifiedModel_Reference_RelativeDRMS_None', 62.243499248711736)]"
       ]
      },
      {
       "output_type": "stream",
       "stream": "stdout",
       "text": [
        "\n",
        "239\n",
        "[('SimplifiedModel_Reference_RelativeDRMS_None', 61.807356739557605)]"
       ]
      },
      {
       "output_type": "stream",
       "stream": "stdout",
       "text": [
        "\n",
        "240\n",
        "[('SimplifiedModel_Reference_RelativeDRMS_None', 59.703552910201346)]"
       ]
      },
      {
       "output_type": "stream",
       "stream": "stdout",
       "text": [
        "\n",
        "241\n",
        "[('SimplifiedModel_Reference_RelativeDRMS_None', 59.04165895640181)]"
       ]
      },
      {
       "output_type": "stream",
       "stream": "stdout",
       "text": [
        "\n",
        "242\n",
        "[('SimplifiedModel_Reference_RelativeDRMS_None', 57.311504922427034)]"
       ]
      },
      {
       "output_type": "stream",
       "stream": "stdout",
       "text": [
        "\n",
        "243\n",
        "[('SimplifiedModel_Reference_RelativeDRMS_None', 54.97121422610439)]"
       ]
      },
      {
       "output_type": "stream",
       "stream": "stdout",
       "text": [
        "\n",
        "244\n",
        "[('SimplifiedModel_Reference_RelativeDRMS_None', 54.55028825774171)]"
       ]
      },
      {
       "output_type": "stream",
       "stream": "stdout",
       "text": [
        "\n",
        "245\n",
        "[('SimplifiedModel_Reference_RelativeDRMS_None', 53.96414638963416)]"
       ]
      },
      {
       "output_type": "stream",
       "stream": "stdout",
       "text": [
        "\n",
        "246\n",
        "[('SimplifiedModel_Reference_RelativeDRMS_None', 54.856642717551324)]"
       ]
      },
      {
       "output_type": "stream",
       "stream": "stdout",
       "text": [
        "\n",
        "247\n",
        "[('SimplifiedModel_Reference_RelativeDRMS_None', 57.18720828251353)]"
       ]
      },
      {
       "output_type": "stream",
       "stream": "stdout",
       "text": [
        "\n",
        "248\n",
        "[('SimplifiedModel_Reference_RelativeDRMS_None', 57.451385396953405)]"
       ]
      },
      {
       "output_type": "stream",
       "stream": "stdout",
       "text": [
        "\n",
        "249\n",
        "[('SimplifiedModel_Reference_RelativeDRMS_None', 59.23155744134561)]"
       ]
      },
      {
       "output_type": "stream",
       "stream": "stdout",
       "text": [
        "\n",
        "250\n",
        "[('SimplifiedModel_Reference_RelativeDRMS_None', 60.47891838616997)]"
       ]
      },
      {
       "output_type": "stream",
       "stream": "stdout",
       "text": [
        "\n",
        "251\n",
        "[('SimplifiedModel_Reference_RelativeDRMS_None', 60.44013042257054)]"
       ]
      },
      {
       "output_type": "stream",
       "stream": "stdout",
       "text": [
        "\n",
        "252\n",
        "[('SimplifiedModel_Reference_RelativeDRMS_None', 58.374761495662064)]"
       ]
      },
      {
       "output_type": "stream",
       "stream": "stdout",
       "text": [
        "\n",
        "253\n",
        "[('SimplifiedModel_Reference_RelativeDRMS_None', 56.67465305077911)]"
       ]
      },
      {
       "output_type": "stream",
       "stream": "stdout",
       "text": [
        "\n",
        "254\n",
        "[('SimplifiedModel_Reference_RelativeDRMS_None', 55.01364881426415)]"
       ]
      },
      {
       "output_type": "stream",
       "stream": "stdout",
       "text": [
        "\n",
        "255\n",
        "[('SimplifiedModel_Reference_RelativeDRMS_None', 53.59710065403252)]"
       ]
      },
      {
       "output_type": "stream",
       "stream": "stdout",
       "text": [
        "\n",
        "256\n",
        "[('SimplifiedModel_Reference_RelativeDRMS_None', 53.14300319259944)]"
       ]
      },
      {
       "output_type": "stream",
       "stream": "stdout",
       "text": [
        "\n",
        "257\n",
        "[('SimplifiedModel_Reference_RelativeDRMS_None', 50.742732801065614)]"
       ]
      },
      {
       "output_type": "stream",
       "stream": "stdout",
       "text": [
        "\n",
        "258\n",
        "[('SimplifiedModel_Reference_RelativeDRMS_None', 52.75855493533239)]"
       ]
      },
      {
       "output_type": "stream",
       "stream": "stdout",
       "text": [
        "\n",
        "259\n",
        "[('SimplifiedModel_Reference_RelativeDRMS_None', 53.92970090888293)]"
       ]
      },
      {
       "output_type": "stream",
       "stream": "stdout",
       "text": [
        "\n",
        "260\n",
        "[('SimplifiedModel_Reference_RelativeDRMS_None', 53.72227897253809)]"
       ]
      },
      {
       "output_type": "stream",
       "stream": "stdout",
       "text": [
        "\n",
        "261\n",
        "[('SimplifiedModel_Reference_RelativeDRMS_None', 54.817147809971765)]"
       ]
      },
      {
       "output_type": "stream",
       "stream": "stdout",
       "text": [
        "\n",
        "262\n",
        "[('SimplifiedModel_Reference_RelativeDRMS_None', 54.90305720434789)]"
       ]
      },
      {
       "output_type": "stream",
       "stream": "stdout",
       "text": [
        "\n",
        "263\n",
        "[('SimplifiedModel_Reference_RelativeDRMS_None', 53.75476190260114)]"
       ]
      },
      {
       "output_type": "stream",
       "stream": "stdout",
       "text": [
        "\n",
        "264\n",
        "[('SimplifiedModel_Reference_RelativeDRMS_None', 55.71971145689952)]"
       ]
      },
      {
       "output_type": "stream",
       "stream": "stdout",
       "text": [
        "\n",
        "265\n",
        "[('SimplifiedModel_Reference_RelativeDRMS_None', 54.46084912648694)]"
       ]
      },
      {
       "output_type": "stream",
       "stream": "stdout",
       "text": [
        "\n",
        "266\n",
        "[('SimplifiedModel_Reference_RelativeDRMS_None', 51.7649223935997)]"
       ]
      },
      {
       "output_type": "stream",
       "stream": "stdout",
       "text": [
        "\n",
        "267\n",
        "[('SimplifiedModel_Reference_RelativeDRMS_None', 50.59270090136124)]"
       ]
      },
      {
       "output_type": "stream",
       "stream": "stdout",
       "text": [
        "\n",
        "268\n",
        "[('SimplifiedModel_Reference_RelativeDRMS_None', 49.65896620282155)]"
       ]
      },
      {
       "output_type": "stream",
       "stream": "stdout",
       "text": [
        "\n",
        "269\n",
        "[('SimplifiedModel_Reference_RelativeDRMS_None', 50.02936186295953)]"
       ]
      },
      {
       "output_type": "stream",
       "stream": "stdout",
       "text": [
        "\n",
        "270\n",
        "[('SimplifiedModel_Reference_RelativeDRMS_None', 50.17191096996472)]"
       ]
      },
      {
       "output_type": "stream",
       "stream": "stdout",
       "text": [
        "\n",
        "271\n",
        "[('SimplifiedModel_Reference_RelativeDRMS_None', 48.271506870335635)]"
       ]
      },
      {
       "output_type": "stream",
       "stream": "stdout",
       "text": [
        "\n",
        "272\n",
        "[('SimplifiedModel_Reference_RelativeDRMS_None', 48.965078523711725)]"
       ]
      },
      {
       "output_type": "stream",
       "stream": "stdout",
       "text": [
        "\n",
        "273\n",
        "[('SimplifiedModel_Reference_RelativeDRMS_None', 47.643368221072315)]"
       ]
      },
      {
       "output_type": "stream",
       "stream": "stdout",
       "text": [
        "\n",
        "274\n",
        "[('SimplifiedModel_Reference_RelativeDRMS_None', 46.08321222061167)]"
       ]
      },
      {
       "output_type": "stream",
       "stream": "stdout",
       "text": [
        "\n",
        "275\n",
        "[('SimplifiedModel_Reference_RelativeDRMS_None', 46.01811717867572)]"
       ]
      },
      {
       "output_type": "stream",
       "stream": "stdout",
       "text": [
        "\n",
        "276\n",
        "[('SimplifiedModel_Reference_RelativeDRMS_None', 45.32063484754374)]"
       ]
      },
      {
       "output_type": "stream",
       "stream": "stdout",
       "text": [
        "\n",
        "277\n",
        "[('SimplifiedModel_Reference_RelativeDRMS_None', 47.1929145742757)]"
       ]
      },
      {
       "output_type": "stream",
       "stream": "stdout",
       "text": [
        "\n",
        "278\n",
        "[('SimplifiedModel_Reference_RelativeDRMS_None', 47.29642313533168)]"
       ]
      },
      {
       "output_type": "stream",
       "stream": "stdout",
       "text": [
        "\n",
        "279\n",
        "[('SimplifiedModel_Reference_RelativeDRMS_None', 47.545847703908834)]"
       ]
      },
      {
       "output_type": "stream",
       "stream": "stdout",
       "text": [
        "\n",
        "280\n",
        "[('SimplifiedModel_Reference_RelativeDRMS_None', 47.50662702500368)]"
       ]
      },
      {
       "output_type": "stream",
       "stream": "stdout",
       "text": [
        "\n",
        "281\n",
        "[('SimplifiedModel_Reference_RelativeDRMS_None', 50.1216263329241)]"
       ]
      },
      {
       "output_type": "stream",
       "stream": "stdout",
       "text": [
        "\n",
        "282\n",
        "[('SimplifiedModel_Reference_RelativeDRMS_None', 49.800112606244554)]"
       ]
      },
      {
       "output_type": "stream",
       "stream": "stdout",
       "text": [
        "\n",
        "283\n",
        "[('SimplifiedModel_Reference_RelativeDRMS_None', 49.47829587947391)]"
       ]
      },
      {
       "output_type": "stream",
       "stream": "stdout",
       "text": [
        "\n",
        "284\n",
        "[('SimplifiedModel_Reference_RelativeDRMS_None', 51.62908761067014)]"
       ]
      },
      {
       "output_type": "stream",
       "stream": "stdout",
       "text": [
        "\n",
        "285\n",
        "[('SimplifiedModel_Reference_RelativeDRMS_None', 52.30242735253237)]"
       ]
      },
      {
       "output_type": "stream",
       "stream": "stdout",
       "text": [
        "\n",
        "286\n",
        "[('SimplifiedModel_Reference_RelativeDRMS_None', 51.68099931862403)]"
       ]
      },
      {
       "output_type": "stream",
       "stream": "stdout",
       "text": [
        "\n",
        "287\n",
        "[('SimplifiedModel_Reference_RelativeDRMS_None', 51.780577139982874)]"
       ]
      },
      {
       "output_type": "stream",
       "stream": "stdout",
       "text": [
        "\n",
        "288\n",
        "[('SimplifiedModel_Reference_RelativeDRMS_None', 51.855328461409826)]"
       ]
      },
      {
       "output_type": "stream",
       "stream": "stdout",
       "text": [
        "\n",
        "289\n",
        "[('SimplifiedModel_Reference_RelativeDRMS_None', 51.639750726289584)]"
       ]
      },
      {
       "output_type": "stream",
       "stream": "stdout",
       "text": [
        "\n",
        "290\n",
        "[('SimplifiedModel_Reference_RelativeDRMS_None', 52.618217502289504)]"
       ]
      },
      {
       "output_type": "stream",
       "stream": "stdout",
       "text": [
        "\n",
        "291\n",
        "[('SimplifiedModel_Reference_RelativeDRMS_None', 53.08500645786576)]"
       ]
      },
      {
       "output_type": "stream",
       "stream": "stdout",
       "text": [
        "\n",
        "292\n",
        "[('SimplifiedModel_Reference_RelativeDRMS_None', 52.10726063486561)]"
       ]
      },
      {
       "output_type": "stream",
       "stream": "stdout",
       "text": [
        "\n",
        "293\n",
        "[('SimplifiedModel_Reference_RelativeDRMS_None', 53.253561707084415)]"
       ]
      },
      {
       "output_type": "stream",
       "stream": "stdout",
       "text": [
        "\n",
        "294\n",
        "[('SimplifiedModel_Reference_RelativeDRMS_None', 51.49237618704169)]"
       ]
      },
      {
       "output_type": "stream",
       "stream": "stdout",
       "text": [
        "\n",
        "295\n",
        "[('SimplifiedModel_Reference_RelativeDRMS_None', 52.381490186236476)]"
       ]
      },
      {
       "output_type": "stream",
       "stream": "stdout",
       "text": [
        "\n",
        "296\n",
        "[('SimplifiedModel_Reference_RelativeDRMS_None', 53.53817902594959)]"
       ]
      },
      {
       "output_type": "stream",
       "stream": "stdout",
       "text": [
        "\n",
        "297\n",
        "[('SimplifiedModel_Reference_RelativeDRMS_None', 53.45536100853409)]"
       ]
      },
      {
       "output_type": "stream",
       "stream": "stdout",
       "text": [
        "\n",
        "298\n",
        "[('SimplifiedModel_Reference_RelativeDRMS_None', 51.20987399414222)]"
       ]
      },
      {
       "output_type": "stream",
       "stream": "stdout",
       "text": [
        "\n",
        "299\n",
        "[('SimplifiedModel_Reference_RelativeDRMS_None', 52.401046972572225)]"
       ]
      },
      {
       "output_type": "stream",
       "stream": "stdout",
       "text": [
        "\n",
        "300\n",
        "[('SimplifiedModel_Reference_RelativeDRMS_None', 53.137793526221294)]"
       ]
      },
      {
       "output_type": "stream",
       "stream": "stdout",
       "text": [
        "\n",
        "301\n",
        "[('SimplifiedModel_Reference_RelativeDRMS_None', 52.362817759143695)]"
       ]
      },
      {
       "output_type": "stream",
       "stream": "stdout",
       "text": [
        "\n",
        "302\n",
        "[('SimplifiedModel_Reference_RelativeDRMS_None', 53.42736377393786)]"
       ]
      },
      {
       "output_type": "stream",
       "stream": "stdout",
       "text": [
        "\n",
        "303\n",
        "[('SimplifiedModel_Reference_RelativeDRMS_None', 54.591258909423054)]"
       ]
      },
      {
       "output_type": "stream",
       "stream": "stdout",
       "text": [
        "\n",
        "304\n",
        "[('SimplifiedModel_Reference_RelativeDRMS_None', 55.09517818252913)]"
       ]
      },
      {
       "output_type": "stream",
       "stream": "stdout",
       "text": [
        "\n",
        "305\n",
        "[('SimplifiedModel_Reference_RelativeDRMS_None', 56.56537413414158)]"
       ]
      },
      {
       "output_type": "stream",
       "stream": "stdout",
       "text": [
        "\n",
        "306\n",
        "[('SimplifiedModel_Reference_RelativeDRMS_None', 57.06554856832216)]"
       ]
      },
      {
       "output_type": "stream",
       "stream": "stdout",
       "text": [
        "\n",
        "307\n",
        "[('SimplifiedModel_Reference_RelativeDRMS_None', 57.015451186986326)]"
       ]
      },
      {
       "output_type": "stream",
       "stream": "stdout",
       "text": [
        "\n",
        "308\n",
        "[('SimplifiedModel_Reference_RelativeDRMS_None', 57.31103677858947)]"
       ]
      },
      {
       "output_type": "stream",
       "stream": "stdout",
       "text": [
        "\n",
        "309\n",
        "[('SimplifiedModel_Reference_RelativeDRMS_None', 55.79845235919418)]"
       ]
      },
      {
       "output_type": "stream",
       "stream": "stdout",
       "text": [
        "\n",
        "310\n",
        "[('SimplifiedModel_Reference_RelativeDRMS_None', 56.92528055025582)]"
       ]
      },
      {
       "output_type": "stream",
       "stream": "stdout",
       "text": [
        "\n",
        "311\n",
        "[('SimplifiedModel_Reference_RelativeDRMS_None', 55.8494218348624)]"
       ]
      },
      {
       "output_type": "stream",
       "stream": "stdout",
       "text": [
        "\n",
        "312\n",
        "[('SimplifiedModel_Reference_RelativeDRMS_None', 54.51936299890173)]"
       ]
      },
      {
       "output_type": "stream",
       "stream": "stdout",
       "text": [
        "\n",
        "313\n",
        "[('SimplifiedModel_Reference_RelativeDRMS_None', 54.52435373435794)]"
       ]
      },
      {
       "output_type": "stream",
       "stream": "stdout",
       "text": [
        "\n",
        "314\n",
        "[('SimplifiedModel_Reference_RelativeDRMS_None', 55.15432621414499)]"
       ]
      },
      {
       "output_type": "stream",
       "stream": "stdout",
       "text": [
        "\n",
        "315\n",
        "[('SimplifiedModel_Reference_RelativeDRMS_None', 54.28931636458177)]"
       ]
      },
      {
       "output_type": "stream",
       "stream": "stdout",
       "text": [
        "\n",
        "316\n",
        "[('SimplifiedModel_Reference_RelativeDRMS_None', 54.87511086073002)]"
       ]
      },
      {
       "output_type": "stream",
       "stream": "stdout",
       "text": [
        "\n",
        "317\n",
        "[('SimplifiedModel_Reference_RelativeDRMS_None', 53.82294085904979)]"
       ]
      },
      {
       "output_type": "stream",
       "stream": "stdout",
       "text": [
        "\n",
        "318\n",
        "[('SimplifiedModel_Reference_RelativeDRMS_None', 53.09571352697181)]"
       ]
      },
      {
       "output_type": "stream",
       "stream": "stdout",
       "text": [
        "\n",
        "319\n",
        "[('SimplifiedModel_Reference_RelativeDRMS_None', 52.333263051809716)]"
       ]
      },
      {
       "output_type": "stream",
       "stream": "stdout",
       "text": [
        "\n",
        "320\n",
        "[('SimplifiedModel_Reference_RelativeDRMS_None', 52.477157064598494)]"
       ]
      },
      {
       "output_type": "stream",
       "stream": "stdout",
       "text": [
        "\n",
        "321\n",
        "[('SimplifiedModel_Reference_RelativeDRMS_None', 51.90844971038295)]"
       ]
      },
      {
       "output_type": "stream",
       "stream": "stdout",
       "text": [
        "\n",
        "322\n",
        "[('SimplifiedModel_Reference_RelativeDRMS_None', 51.94496184475978)]"
       ]
      },
      {
       "output_type": "stream",
       "stream": "stdout",
       "text": [
        "\n",
        "323\n",
        "[('SimplifiedModel_Reference_RelativeDRMS_None', 52.10445058565656)]"
       ]
      },
      {
       "output_type": "stream",
       "stream": "stdout",
       "text": [
        "\n",
        "324\n",
        "[('SimplifiedModel_Reference_RelativeDRMS_None', 52.04115882618604)]"
       ]
      },
      {
       "output_type": "stream",
       "stream": "stdout",
       "text": [
        "\n",
        "325\n",
        "[('SimplifiedModel_Reference_RelativeDRMS_None', 52.01403990320073)]"
       ]
      },
      {
       "output_type": "stream",
       "stream": "stdout",
       "text": [
        "\n",
        "326\n",
        "[('SimplifiedModel_Reference_RelativeDRMS_None', 52.16856826071782)]"
       ]
      },
      {
       "output_type": "stream",
       "stream": "stdout",
       "text": [
        "\n",
        "327\n",
        "[('SimplifiedModel_Reference_RelativeDRMS_None', 52.105853212893386)]"
       ]
      },
      {
       "output_type": "stream",
       "stream": "stdout",
       "text": [
        "\n",
        "328\n",
        "[('SimplifiedModel_Reference_RelativeDRMS_None', 52.202274273584074)]"
       ]
      },
      {
       "output_type": "stream",
       "stream": "stdout",
       "text": [
        "\n",
        "329\n",
        "[('SimplifiedModel_Reference_RelativeDRMS_None', 52.1728464499243)]"
       ]
      },
      {
       "output_type": "stream",
       "stream": "stdout",
       "text": [
        "\n",
        "330\n",
        "[('SimplifiedModel_Reference_RelativeDRMS_None', 54.66495729927037)]"
       ]
      },
      {
       "output_type": "stream",
       "stream": "stdout",
       "text": [
        "\n",
        "331\n",
        "[('SimplifiedModel_Reference_RelativeDRMS_None', 54.709908982418305)]"
       ]
      },
      {
       "output_type": "stream",
       "stream": "stdout",
       "text": [
        "\n",
        "332\n",
        "[('SimplifiedModel_Reference_RelativeDRMS_None', 55.27408680801619)]"
       ]
      },
      {
       "output_type": "stream",
       "stream": "stdout",
       "text": [
        "\n",
        "333\n",
        "[('SimplifiedModel_Reference_RelativeDRMS_None', 54.38265149932145)]"
       ]
      },
      {
       "output_type": "stream",
       "stream": "stdout",
       "text": [
        "\n",
        "334\n",
        "[('SimplifiedModel_Reference_RelativeDRMS_None', 54.853119796611075)]"
       ]
      },
      {
       "output_type": "stream",
       "stream": "stdout",
       "text": [
        "\n",
        "335\n",
        "[('SimplifiedModel_Reference_RelativeDRMS_None', 55.52320352778313)]"
       ]
      },
      {
       "output_type": "stream",
       "stream": "stdout",
       "text": [
        "\n",
        "336\n",
        "[('SimplifiedModel_Reference_RelativeDRMS_None', 55.10230306919097)]"
       ]
      },
      {
       "output_type": "stream",
       "stream": "stdout",
       "text": [
        "\n",
        "337\n",
        "[('SimplifiedModel_Reference_RelativeDRMS_None', 54.01862736975019)]"
       ]
      },
      {
       "output_type": "stream",
       "stream": "stdout",
       "text": [
        "\n",
        "338\n",
        "[('SimplifiedModel_Reference_RelativeDRMS_None', 53.85975362958576)]"
       ]
      },
      {
       "output_type": "stream",
       "stream": "stdout",
       "text": [
        "\n",
        "339\n",
        "[('SimplifiedModel_Reference_RelativeDRMS_None', 54.17474333035823)]"
       ]
      },
      {
       "output_type": "stream",
       "stream": "stdout",
       "text": [
        "\n",
        "340\n",
        "[('SimplifiedModel_Reference_RelativeDRMS_None', 55.320780545285196)]"
       ]
      },
      {
       "output_type": "stream",
       "stream": "stdout",
       "text": [
        "\n",
        "341\n",
        "[('SimplifiedModel_Reference_RelativeDRMS_None', 53.00206885996224)]"
       ]
      },
      {
       "output_type": "stream",
       "stream": "stdout",
       "text": [
        "\n",
        "342\n",
        "[('SimplifiedModel_Reference_RelativeDRMS_None', 51.82173593585737)]"
       ]
      },
      {
       "output_type": "stream",
       "stream": "stdout",
       "text": [
        "\n",
        "343\n",
        "[('SimplifiedModel_Reference_RelativeDRMS_None', 48.81780429692003)]"
       ]
      },
      {
       "output_type": "stream",
       "stream": "stdout",
       "text": [
        "\n",
        "344\n",
        "[('SimplifiedModel_Reference_RelativeDRMS_None', 49.45682379626223)]"
       ]
      },
      {
       "output_type": "stream",
       "stream": "stdout",
       "text": [
        "\n",
        "345\n",
        "[('SimplifiedModel_Reference_RelativeDRMS_None', 49.07568308378299)]"
       ]
      },
      {
       "output_type": "stream",
       "stream": "stdout",
       "text": [
        "\n",
        "346\n",
        "[('SimplifiedModel_Reference_RelativeDRMS_None', 48.18048383814938)]"
       ]
      },
      {
       "output_type": "stream",
       "stream": "stdout",
       "text": [
        "\n",
        "347\n",
        "[('SimplifiedModel_Reference_RelativeDRMS_None', 48.755734814098375)]"
       ]
      },
      {
       "output_type": "stream",
       "stream": "stdout",
       "text": [
        "\n",
        "348\n",
        "[('SimplifiedModel_Reference_RelativeDRMS_None', 47.70018765238541)]"
       ]
      },
      {
       "output_type": "stream",
       "stream": "stdout",
       "text": [
        "\n",
        "349\n",
        "[('SimplifiedModel_Reference_RelativeDRMS_None', 44.808107152457175)]"
       ]
      },
      {
       "output_type": "stream",
       "stream": "stdout",
       "text": [
        "\n",
        "350\n",
        "[('SimplifiedModel_Reference_RelativeDRMS_None', 45.188523633584275)]"
       ]
      },
      {
       "output_type": "stream",
       "stream": "stdout",
       "text": [
        "\n",
        "351\n",
        "[('SimplifiedModel_Reference_RelativeDRMS_None', 46.63971764651259)]"
       ]
      },
      {
       "output_type": "stream",
       "stream": "stdout",
       "text": [
        "\n",
        "352\n",
        "[('SimplifiedModel_Reference_RelativeDRMS_None', 47.8669211551507)]"
       ]
      },
      {
       "output_type": "stream",
       "stream": "stdout",
       "text": [
        "\n",
        "353\n",
        "[('SimplifiedModel_Reference_RelativeDRMS_None', 48.40261652650916)]"
       ]
      },
      {
       "output_type": "stream",
       "stream": "stdout",
       "text": [
        "\n",
        "354\n",
        "[('SimplifiedModel_Reference_RelativeDRMS_None', 48.103364486628266)]"
       ]
      },
      {
       "output_type": "stream",
       "stream": "stdout",
       "text": [
        "\n",
        "355\n",
        "[('SimplifiedModel_Reference_RelativeDRMS_None', 48.35781970389466)]"
       ]
      },
      {
       "output_type": "stream",
       "stream": "stdout",
       "text": [
        "\n",
        "356\n",
        "[('SimplifiedModel_Reference_RelativeDRMS_None', 49.83633031654858)]"
       ]
      },
      {
       "output_type": "stream",
       "stream": "stdout",
       "text": [
        "\n",
        "357\n",
        "[('SimplifiedModel_Reference_RelativeDRMS_None', 51.93454700323102)]"
       ]
      },
      {
       "output_type": "stream",
       "stream": "stdout",
       "text": [
        "\n",
        "358\n",
        "[('SimplifiedModel_Reference_RelativeDRMS_None', 51.57253078405652)]"
       ]
      },
      {
       "output_type": "stream",
       "stream": "stdout",
       "text": [
        "\n",
        "359\n",
        "[('SimplifiedModel_Reference_RelativeDRMS_None', 51.34176438501086)]"
       ]
      },
      {
       "output_type": "stream",
       "stream": "stdout",
       "text": [
        "\n",
        "360\n",
        "[('SimplifiedModel_Reference_RelativeDRMS_None', 51.66957258698554)]"
       ]
      },
      {
       "output_type": "stream",
       "stream": "stdout",
       "text": [
        "\n",
        "361\n",
        "[('SimplifiedModel_Reference_RelativeDRMS_None', 51.736648958187956)]"
       ]
      },
      {
       "output_type": "stream",
       "stream": "stdout",
       "text": [
        "\n",
        "362\n",
        "[('SimplifiedModel_Reference_RelativeDRMS_None', 51.98705072106378)]"
       ]
      },
      {
       "output_type": "stream",
       "stream": "stdout",
       "text": [
        "\n",
        "363\n",
        "[('SimplifiedModel_Reference_RelativeDRMS_None', 52.860687939008585)]"
       ]
      },
      {
       "output_type": "stream",
       "stream": "stdout",
       "text": [
        "\n",
        "364\n",
        "[('SimplifiedModel_Reference_RelativeDRMS_None', 51.94125491809314)]"
       ]
      },
      {
       "output_type": "stream",
       "stream": "stdout",
       "text": [
        "\n",
        "365\n",
        "[('SimplifiedModel_Reference_RelativeDRMS_None', 53.53650075794819)]"
       ]
      },
      {
       "output_type": "stream",
       "stream": "stdout",
       "text": [
        "\n",
        "366\n",
        "[('SimplifiedModel_Reference_RelativeDRMS_None', 53.33532788267692)]"
       ]
      },
      {
       "output_type": "stream",
       "stream": "stdout",
       "text": [
        "\n",
        "367\n",
        "[('SimplifiedModel_Reference_RelativeDRMS_None', 51.57618834773005)]"
       ]
      },
      {
       "output_type": "stream",
       "stream": "stdout",
       "text": [
        "\n",
        "368\n",
        "[('SimplifiedModel_Reference_RelativeDRMS_None', 51.49332315392257)]"
       ]
      },
      {
       "output_type": "stream",
       "stream": "stdout",
       "text": [
        "\n",
        "369\n",
        "[('SimplifiedModel_Reference_RelativeDRMS_None', 51.846520657055386)]"
       ]
      },
      {
       "output_type": "stream",
       "stream": "stdout",
       "text": [
        "\n",
        "370\n",
        "[('SimplifiedModel_Reference_RelativeDRMS_None', 52.25199132046391)]"
       ]
      },
      {
       "output_type": "stream",
       "stream": "stdout",
       "text": [
        "\n",
        "371\n",
        "[('SimplifiedModel_Reference_RelativeDRMS_None', 51.109197197982496)]"
       ]
      },
      {
       "output_type": "stream",
       "stream": "stdout",
       "text": [
        "\n",
        "372\n",
        "[('SimplifiedModel_Reference_RelativeDRMS_None', 51.86453652074241)]"
       ]
      },
      {
       "output_type": "stream",
       "stream": "stdout",
       "text": [
        "\n",
        "373\n",
        "[('SimplifiedModel_Reference_RelativeDRMS_None', 50.0407265230829)]"
       ]
      },
      {
       "output_type": "stream",
       "stream": "stdout",
       "text": [
        "\n",
        "374\n",
        "[('SimplifiedModel_Reference_RelativeDRMS_None', 49.04122390038169)]"
       ]
      },
      {
       "output_type": "stream",
       "stream": "stdout",
       "text": [
        "\n",
        "375\n",
        "[('SimplifiedModel_Reference_RelativeDRMS_None', 46.95864184701304)]"
       ]
      },
      {
       "output_type": "stream",
       "stream": "stdout",
       "text": [
        "\n",
        "376\n",
        "[('SimplifiedModel_Reference_RelativeDRMS_None', 45.74870587249982)]"
       ]
      },
      {
       "output_type": "stream",
       "stream": "stdout",
       "text": [
        "\n",
        "377\n",
        "[('SimplifiedModel_Reference_RelativeDRMS_None', 48.018296250121594)]"
       ]
      },
      {
       "output_type": "stream",
       "stream": "stdout",
       "text": [
        "\n",
        "378\n",
        "[('SimplifiedModel_Reference_RelativeDRMS_None', 46.81454505014458)]"
       ]
      },
      {
       "output_type": "stream",
       "stream": "stdout",
       "text": [
        "\n",
        "379\n",
        "[('SimplifiedModel_Reference_RelativeDRMS_None', 45.87786032666327)]"
       ]
      },
      {
       "output_type": "stream",
       "stream": "stdout",
       "text": [
        "\n",
        "380\n",
        "[('SimplifiedModel_Reference_RelativeDRMS_None', 46.3339514200666)]"
       ]
      },
      {
       "output_type": "stream",
       "stream": "stdout",
       "text": [
        "\n",
        "381\n",
        "[('SimplifiedModel_Reference_RelativeDRMS_None', 45.15917367913428)]"
       ]
      },
      {
       "output_type": "stream",
       "stream": "stdout",
       "text": [
        "\n",
        "382\n",
        "[('SimplifiedModel_Reference_RelativeDRMS_None', 43.919239474506696)]"
       ]
      },
      {
       "output_type": "stream",
       "stream": "stdout",
       "text": [
        "\n",
        "383\n",
        "[('SimplifiedModel_Reference_RelativeDRMS_None', 46.962666454689874)]"
       ]
      },
      {
       "output_type": "stream",
       "stream": "stdout",
       "text": [
        "\n",
        "384\n",
        "[('SimplifiedModel_Reference_RelativeDRMS_None', 46.99660677031497)]"
       ]
      },
      {
       "output_type": "stream",
       "stream": "stdout",
       "text": [
        "\n",
        "385\n",
        "[('SimplifiedModel_Reference_RelativeDRMS_None', 47.23609699428683)]"
       ]
      },
      {
       "output_type": "stream",
       "stream": "stdout",
       "text": [
        "\n",
        "386\n",
        "[('SimplifiedModel_Reference_RelativeDRMS_None', 46.11025805520606)]"
       ]
      },
      {
       "output_type": "stream",
       "stream": "stdout",
       "text": [
        "\n",
        "387\n",
        "[('SimplifiedModel_Reference_RelativeDRMS_None', 46.635121760407806)]"
       ]
      },
      {
       "output_type": "stream",
       "stream": "stdout",
       "text": [
        "\n",
        "388\n",
        "[('SimplifiedModel_Reference_RelativeDRMS_None', 49.09689127889432)]"
       ]
      },
      {
       "output_type": "stream",
       "stream": "stdout",
       "text": [
        "\n",
        "389\n",
        "[('SimplifiedModel_Reference_RelativeDRMS_None', 49.433258452594956)]"
       ]
      },
      {
       "output_type": "stream",
       "stream": "stdout",
       "text": [
        "\n",
        "390\n",
        "[('SimplifiedModel_Reference_RelativeDRMS_None', 48.54611871199099)]"
       ]
      },
      {
       "output_type": "stream",
       "stream": "stdout",
       "text": [
        "\n",
        "391\n",
        "[('SimplifiedModel_Reference_RelativeDRMS_None', 48.15870046012653)]"
       ]
      },
      {
       "output_type": "stream",
       "stream": "stdout",
       "text": [
        "\n",
        "392\n",
        "[('SimplifiedModel_Reference_RelativeDRMS_None', 48.555522168198586)]"
       ]
      },
      {
       "output_type": "stream",
       "stream": "stdout",
       "text": [
        "\n",
        "393\n",
        "[('SimplifiedModel_Reference_RelativeDRMS_None', 49.47941376125842)]"
       ]
      },
      {
       "output_type": "stream",
       "stream": "stdout",
       "text": [
        "\n",
        "394\n",
        "[('SimplifiedModel_Reference_RelativeDRMS_None', 49.80369606287219)]"
       ]
      },
      {
       "output_type": "stream",
       "stream": "stdout",
       "text": [
        "\n",
        "395\n",
        "[('SimplifiedModel_Reference_RelativeDRMS_None', 50.134992313518694)]"
       ]
      },
      {
       "output_type": "stream",
       "stream": "stdout",
       "text": [
        "\n",
        "396\n",
        "[('SimplifiedModel_Reference_RelativeDRMS_None', 52.19545089621677)]"
       ]
      },
      {
       "output_type": "stream",
       "stream": "stdout",
       "text": [
        "\n",
        "397\n",
        "[('SimplifiedModel_Reference_RelativeDRMS_None', 52.69454653469154)]"
       ]
      },
      {
       "output_type": "stream",
       "stream": "stdout",
       "text": [
        "\n",
        "398\n",
        "[('SimplifiedModel_Reference_RelativeDRMS_None', 53.72118563670657)]"
       ]
      },
      {
       "output_type": "stream",
       "stream": "stdout",
       "text": [
        "\n",
        "399\n",
        "[('SimplifiedModel_Reference_RelativeDRMS_None', 52.86600496853609)]"
       ]
      },
      {
       "output_type": "stream",
       "stream": "stdout",
       "text": [
        "\n",
        "400\n",
        "[('SimplifiedModel_Reference_RelativeDRMS_None', 52.43731611088981)]"
       ]
      },
      {
       "output_type": "stream",
       "stream": "stdout",
       "text": [
        "\n",
        "401\n",
        "[('SimplifiedModel_Reference_RelativeDRMS_None', 49.575279689968426)]"
       ]
      },
      {
       "output_type": "stream",
       "stream": "stdout",
       "text": [
        "\n",
        "402\n",
        "[('SimplifiedModel_Reference_RelativeDRMS_None', 49.57905807808598)]"
       ]
      },
      {
       "output_type": "stream",
       "stream": "stdout",
       "text": [
        "\n",
        "403\n",
        "[('SimplifiedModel_Reference_RelativeDRMS_None', 50.35898465926768)]"
       ]
      },
      {
       "output_type": "stream",
       "stream": "stdout",
       "text": [
        "\n",
        "404\n",
        "[('SimplifiedModel_Reference_RelativeDRMS_None', 49.43807586650768)]"
       ]
      },
      {
       "output_type": "stream",
       "stream": "stdout",
       "text": [
        "\n",
        "405\n",
        "[('SimplifiedModel_Reference_RelativeDRMS_None', 50.41285700882444)]"
       ]
      },
      {
       "output_type": "stream",
       "stream": "stdout",
       "text": [
        "\n",
        "406\n",
        "[('SimplifiedModel_Reference_RelativeDRMS_None', 49.87738118189638)]"
       ]
      },
      {
       "output_type": "stream",
       "stream": "stdout",
       "text": [
        "\n",
        "407\n",
        "[('SimplifiedModel_Reference_RelativeDRMS_None', 48.61010783158952)]"
       ]
      },
      {
       "output_type": "stream",
       "stream": "stdout",
       "text": [
        "\n",
        "408\n",
        "[('SimplifiedModel_Reference_RelativeDRMS_None', 49.15686493264975)]"
       ]
      },
      {
       "output_type": "stream",
       "stream": "stdout",
       "text": [
        "\n",
        "409\n",
        "[('SimplifiedModel_Reference_RelativeDRMS_None', 48.11307703633566)]"
       ]
      },
      {
       "output_type": "stream",
       "stream": "stdout",
       "text": [
        "\n",
        "410\n",
        "[('SimplifiedModel_Reference_RelativeDRMS_None', 49.77308125033772)]"
       ]
      },
      {
       "output_type": "stream",
       "stream": "stdout",
       "text": [
        "\n",
        "411\n",
        "[('SimplifiedModel_Reference_RelativeDRMS_None', 49.21556856149597)]"
       ]
      },
      {
       "output_type": "stream",
       "stream": "stdout",
       "text": [
        "\n",
        "412\n",
        "[('SimplifiedModel_Reference_RelativeDRMS_None', 49.52540362023026)]"
       ]
      },
      {
       "output_type": "stream",
       "stream": "stdout",
       "text": [
        "\n",
        "413\n",
        "[('SimplifiedModel_Reference_RelativeDRMS_None', 52.0838962564834)]"
       ]
      },
      {
       "output_type": "stream",
       "stream": "stdout",
       "text": [
        "\n",
        "414\n",
        "[('SimplifiedModel_Reference_RelativeDRMS_None', 52.25568512580435)]"
       ]
      },
      {
       "output_type": "stream",
       "stream": "stdout",
       "text": [
        "\n",
        "415\n",
        "[('SimplifiedModel_Reference_RelativeDRMS_None', 53.41671351650579)]"
       ]
      },
      {
       "output_type": "stream",
       "stream": "stdout",
       "text": [
        "\n",
        "416\n",
        "[('SimplifiedModel_Reference_RelativeDRMS_None', 52.90862150361415)]"
       ]
      },
      {
       "output_type": "stream",
       "stream": "stdout",
       "text": [
        "\n",
        "417\n",
        "[('SimplifiedModel_Reference_RelativeDRMS_None', 50.75251871444275)]"
       ]
      },
      {
       "output_type": "stream",
       "stream": "stdout",
       "text": [
        "\n",
        "418\n",
        "[('SimplifiedModel_Reference_RelativeDRMS_None', 51.56294673426652)]"
       ]
      },
      {
       "output_type": "stream",
       "stream": "stdout",
       "text": [
        "\n",
        "419\n",
        "[('SimplifiedModel_Reference_RelativeDRMS_None', 50.57183425754791)]"
       ]
      },
      {
       "output_type": "stream",
       "stream": "stdout",
       "text": [
        "\n",
        "420\n",
        "[('SimplifiedModel_Reference_RelativeDRMS_None', 49.75173402452671)]"
       ]
      },
      {
       "output_type": "stream",
       "stream": "stdout",
       "text": [
        "\n",
        "421\n",
        "[('SimplifiedModel_Reference_RelativeDRMS_None', 49.469184500606424)]"
       ]
      },
      {
       "output_type": "stream",
       "stream": "stdout",
       "text": [
        "\n",
        "422\n",
        "[('SimplifiedModel_Reference_RelativeDRMS_None', 50.79191270623468)]"
       ]
      },
      {
       "output_type": "stream",
       "stream": "stdout",
       "text": [
        "\n",
        "423\n",
        "[('SimplifiedModel_Reference_RelativeDRMS_None', 51.61065322066978)]"
       ]
      },
      {
       "output_type": "stream",
       "stream": "stdout",
       "text": [
        "\n",
        "424\n",
        "[('SimplifiedModel_Reference_RelativeDRMS_None', 53.48369860185152)]"
       ]
      },
      {
       "output_type": "stream",
       "stream": "stdout",
       "text": [
        "\n",
        "425\n",
        "[('SimplifiedModel_Reference_RelativeDRMS_None', 50.352680734248096)]"
       ]
      },
      {
       "output_type": "stream",
       "stream": "stdout",
       "text": [
        "\n",
        "426\n",
        "[('SimplifiedModel_Reference_RelativeDRMS_None', 48.728568791774414)]"
       ]
      },
      {
       "output_type": "stream",
       "stream": "stdout",
       "text": [
        "\n",
        "427\n",
        "[('SimplifiedModel_Reference_RelativeDRMS_None', 48.3177197374283)]"
       ]
      },
      {
       "output_type": "stream",
       "stream": "stdout",
       "text": [
        "\n",
        "428\n",
        "[('SimplifiedModel_Reference_RelativeDRMS_None', 47.11477836620022)]"
       ]
      },
      {
       "output_type": "stream",
       "stream": "stdout",
       "text": [
        "\n",
        "429\n",
        "[('SimplifiedModel_Reference_RelativeDRMS_None', 46.099533806806285)]"
       ]
      },
      {
       "output_type": "stream",
       "stream": "stdout",
       "text": [
        "\n",
        "430\n",
        "[('SimplifiedModel_Reference_RelativeDRMS_None', 47.80292806867336)]"
       ]
      },
      {
       "output_type": "stream",
       "stream": "stdout",
       "text": [
        "\n",
        "431\n",
        "[('SimplifiedModel_Reference_RelativeDRMS_None', 48.484709136220424)]"
       ]
      },
      {
       "output_type": "stream",
       "stream": "stdout",
       "text": [
        "\n",
        "432\n",
        "[('SimplifiedModel_Reference_RelativeDRMS_None', 48.44679217677189)]"
       ]
      },
      {
       "output_type": "stream",
       "stream": "stdout",
       "text": [
        "\n",
        "433\n",
        "[('SimplifiedModel_Reference_RelativeDRMS_None', 48.83438715862397)]"
       ]
      },
      {
       "output_type": "stream",
       "stream": "stdout",
       "text": [
        "\n",
        "434\n",
        "[('SimplifiedModel_Reference_RelativeDRMS_None', 50.2613631535341)]"
       ]
      },
      {
       "output_type": "stream",
       "stream": "stdout",
       "text": [
        "\n",
        "435\n",
        "[('SimplifiedModel_Reference_RelativeDRMS_None', 49.89247295736758)]"
       ]
      },
      {
       "output_type": "stream",
       "stream": "stdout",
       "text": [
        "\n",
        "436\n",
        "[('SimplifiedModel_Reference_RelativeDRMS_None', 51.27347127658004)]"
       ]
      },
      {
       "output_type": "stream",
       "stream": "stdout",
       "text": [
        "\n",
        "437\n",
        "[('SimplifiedModel_Reference_RelativeDRMS_None', 52.476658132742685)]"
       ]
      },
      {
       "output_type": "stream",
       "stream": "stdout",
       "text": [
        "\n",
        "438\n",
        "[('SimplifiedModel_Reference_RelativeDRMS_None', 53.21422519459598)]"
       ]
      },
      {
       "output_type": "stream",
       "stream": "stdout",
       "text": [
        "\n",
        "439\n",
        "[('SimplifiedModel_Reference_RelativeDRMS_None', 52.391839415436735)]"
       ]
      },
      {
       "output_type": "stream",
       "stream": "stdout",
       "text": [
        "\n",
        "440\n",
        "[('SimplifiedModel_Reference_RelativeDRMS_None', 55.125490942539294)]"
       ]
      },
      {
       "output_type": "stream",
       "stream": "stdout",
       "text": [
        "\n",
        "441\n",
        "[('SimplifiedModel_Reference_RelativeDRMS_None', 52.67210514151154)]"
       ]
      },
      {
       "output_type": "stream",
       "stream": "stdout",
       "text": [
        "\n",
        "442\n",
        "[('SimplifiedModel_Reference_RelativeDRMS_None', 52.10856167101717)]"
       ]
      },
      {
       "output_type": "stream",
       "stream": "stdout",
       "text": [
        "\n",
        "443\n",
        "[('SimplifiedModel_Reference_RelativeDRMS_None', 51.27666479153532)]"
       ]
      },
      {
       "output_type": "stream",
       "stream": "stdout",
       "text": [
        "\n",
        "444\n",
        "[('SimplifiedModel_Reference_RelativeDRMS_None', 49.532912104616194)]"
       ]
      },
      {
       "output_type": "stream",
       "stream": "stdout",
       "text": [
        "\n",
        "445\n",
        "[('SimplifiedModel_Reference_RelativeDRMS_None', 49.504251200967936)]"
       ]
      },
      {
       "output_type": "stream",
       "stream": "stdout",
       "text": [
        "\n",
        "446\n",
        "[('SimplifiedModel_Reference_RelativeDRMS_None', 47.19363354549093)]"
       ]
      },
      {
       "output_type": "stream",
       "stream": "stdout",
       "text": [
        "\n",
        "447\n",
        "[('SimplifiedModel_Reference_RelativeDRMS_None', 47.10201949031067)]"
       ]
      },
      {
       "output_type": "stream",
       "stream": "stdout",
       "text": [
        "\n",
        "448\n",
        "[('SimplifiedModel_Reference_RelativeDRMS_None', 45.0588898064897)]"
       ]
      },
      {
       "output_type": "stream",
       "stream": "stdout",
       "text": [
        "\n",
        "449\n",
        "[('SimplifiedModel_Reference_RelativeDRMS_None', 44.742489017827374)]"
       ]
      },
      {
       "output_type": "stream",
       "stream": "stdout",
       "text": [
        "\n",
        "450\n",
        "[('SimplifiedModel_Reference_RelativeDRMS_None', 46.26173910603175)]"
       ]
      },
      {
       "output_type": "stream",
       "stream": "stdout",
       "text": [
        "\n",
        "451\n",
        "[('SimplifiedModel_Reference_RelativeDRMS_None', 48.01920929467451)]"
       ]
      },
      {
       "output_type": "stream",
       "stream": "stdout",
       "text": [
        "\n",
        "452\n",
        "[('SimplifiedModel_Reference_RelativeDRMS_None', 47.91104399271501)]"
       ]
      },
      {
       "output_type": "stream",
       "stream": "stdout",
       "text": [
        "\n",
        "453\n",
        "[('SimplifiedModel_Reference_RelativeDRMS_None', 47.92073745077791)]"
       ]
      },
      {
       "output_type": "stream",
       "stream": "stdout",
       "text": [
        "\n",
        "454\n",
        "[('SimplifiedModel_Reference_RelativeDRMS_None', 50.84848347415906)]"
       ]
      },
      {
       "output_type": "stream",
       "stream": "stdout",
       "text": [
        "\n",
        "455\n",
        "[('SimplifiedModel_Reference_RelativeDRMS_None', 51.28938636780691)]"
       ]
      },
      {
       "output_type": "stream",
       "stream": "stdout",
       "text": [
        "\n",
        "456\n",
        "[('SimplifiedModel_Reference_RelativeDRMS_None', 49.36636990046837)]"
       ]
      },
      {
       "output_type": "stream",
       "stream": "stdout",
       "text": [
        "\n",
        "457\n",
        "[('SimplifiedModel_Reference_RelativeDRMS_None', 47.73564385207512)]"
       ]
      },
      {
       "output_type": "stream",
       "stream": "stdout",
       "text": [
        "\n",
        "458\n",
        "[('SimplifiedModel_Reference_RelativeDRMS_None', 49.684638907240064)]"
       ]
      },
      {
       "output_type": "stream",
       "stream": "stdout",
       "text": [
        "\n",
        "459\n",
        "[('SimplifiedModel_Reference_RelativeDRMS_None', 46.48533245512347)]"
       ]
      },
      {
       "output_type": "stream",
       "stream": "stdout",
       "text": [
        "\n",
        "460\n",
        "[('SimplifiedModel_Reference_RelativeDRMS_None', 47.09172368470179)]"
       ]
      },
      {
       "output_type": "stream",
       "stream": "stdout",
       "text": [
        "\n",
        "461\n",
        "[('SimplifiedModel_Reference_RelativeDRMS_None', 47.72156215839705)]"
       ]
      },
      {
       "output_type": "stream",
       "stream": "stdout",
       "text": [
        "\n",
        "462\n",
        "[('SimplifiedModel_Reference_RelativeDRMS_None', 47.51556674451679)]"
       ]
      },
      {
       "output_type": "stream",
       "stream": "stdout",
       "text": [
        "\n",
        "463\n",
        "[('SimplifiedModel_Reference_RelativeDRMS_None', 48.99795730490648)]"
       ]
      },
      {
       "output_type": "stream",
       "stream": "stdout",
       "text": [
        "\n",
        "464\n",
        "[('SimplifiedModel_Reference_RelativeDRMS_None', 47.992202177919225)]"
       ]
      },
      {
       "output_type": "stream",
       "stream": "stdout",
       "text": [
        "\n",
        "465\n",
        "[('SimplifiedModel_Reference_RelativeDRMS_None', 49.554606027152104)]"
       ]
      },
      {
       "output_type": "stream",
       "stream": "stdout",
       "text": [
        "\n",
        "466\n",
        "[('SimplifiedModel_Reference_RelativeDRMS_None', 49.16696430406435)]"
       ]
      },
      {
       "output_type": "stream",
       "stream": "stdout",
       "text": [
        "\n",
        "467\n",
        "[('SimplifiedModel_Reference_RelativeDRMS_None', 49.109763887892576)]"
       ]
      },
      {
       "output_type": "stream",
       "stream": "stdout",
       "text": [
        "\n",
        "468\n",
        "[('SimplifiedModel_Reference_RelativeDRMS_None', 49.11856758098996)]"
       ]
      },
      {
       "output_type": "stream",
       "stream": "stdout",
       "text": [
        "\n",
        "469\n",
        "[('SimplifiedModel_Reference_RelativeDRMS_None', 48.35144729856779)]"
       ]
      },
      {
       "output_type": "stream",
       "stream": "stdout",
       "text": [
        "\n",
        "470\n",
        "[('SimplifiedModel_Reference_RelativeDRMS_None', 49.4065013771067)]"
       ]
      },
      {
       "output_type": "stream",
       "stream": "stdout",
       "text": [
        "\n",
        "471\n",
        "[('SimplifiedModel_Reference_RelativeDRMS_None', 51.83731799350843)]"
       ]
      },
      {
       "output_type": "stream",
       "stream": "stdout",
       "text": [
        "\n",
        "472\n",
        "[('SimplifiedModel_Reference_RelativeDRMS_None', 51.29418620715482)]"
       ]
      },
      {
       "output_type": "stream",
       "stream": "stdout",
       "text": [
        "\n",
        "473\n",
        "[('SimplifiedModel_Reference_RelativeDRMS_None', 49.637653064685146)]"
       ]
      },
      {
       "output_type": "stream",
       "stream": "stdout",
       "text": [
        "\n",
        "474\n",
        "[('SimplifiedModel_Reference_RelativeDRMS_None', 49.696148792941926)]"
       ]
      },
      {
       "output_type": "stream",
       "stream": "stdout",
       "text": [
        "\n",
        "475\n",
        "[('SimplifiedModel_Reference_RelativeDRMS_None', 48.42405943093953)]"
       ]
      },
      {
       "output_type": "stream",
       "stream": "stdout",
       "text": [
        "\n",
        "476\n",
        "[('SimplifiedModel_Reference_RelativeDRMS_None', 46.90035673089839)]"
       ]
      },
      {
       "output_type": "stream",
       "stream": "stdout",
       "text": [
        "\n",
        "477\n",
        "[('SimplifiedModel_Reference_RelativeDRMS_None', 48.25529939998461)]"
       ]
      },
      {
       "output_type": "stream",
       "stream": "stdout",
       "text": [
        "\n",
        "478\n",
        "[('SimplifiedModel_Reference_RelativeDRMS_None', 49.550181352981106)]"
       ]
      },
      {
       "output_type": "stream",
       "stream": "stdout",
       "text": [
        "\n",
        "479\n",
        "[('SimplifiedModel_Reference_RelativeDRMS_None', 48.608224415639754)]"
       ]
      },
      {
       "output_type": "stream",
       "stream": "stdout",
       "text": [
        "\n",
        "480\n",
        "[('SimplifiedModel_Reference_RelativeDRMS_None', 48.909201962883756)]"
       ]
      },
      {
       "output_type": "stream",
       "stream": "stdout",
       "text": [
        "\n",
        "481\n",
        "[('SimplifiedModel_Reference_RelativeDRMS_None', 48.11378156591624)]"
       ]
      },
      {
       "output_type": "stream",
       "stream": "stdout",
       "text": [
        "\n",
        "482\n",
        "[('SimplifiedModel_Reference_RelativeDRMS_None', 46.96610705593071)]"
       ]
      },
      {
       "output_type": "stream",
       "stream": "stdout",
       "text": [
        "\n",
        "483\n",
        "[('SimplifiedModel_Reference_RelativeDRMS_None', 48.42282249282448)]"
       ]
      },
      {
       "output_type": "stream",
       "stream": "stdout",
       "text": [
        "\n",
        "484\n",
        "[('SimplifiedModel_Reference_RelativeDRMS_None', 46.17042071272071)]"
       ]
      },
      {
       "output_type": "stream",
       "stream": "stdout",
       "text": [
        "\n",
        "485\n",
        "[('SimplifiedModel_Reference_RelativeDRMS_None', 47.015762696333596)]"
       ]
      },
      {
       "output_type": "stream",
       "stream": "stdout",
       "text": [
        "\n",
        "486\n",
        "[('SimplifiedModel_Reference_RelativeDRMS_None', 46.5001271067906)]"
       ]
      },
      {
       "output_type": "stream",
       "stream": "stdout",
       "text": [
        "\n",
        "487\n",
        "[('SimplifiedModel_Reference_RelativeDRMS_None', 44.90990443100099)]"
       ]
      },
      {
       "output_type": "stream",
       "stream": "stdout",
       "text": [
        "\n",
        "488\n",
        "[('SimplifiedModel_Reference_RelativeDRMS_None', 46.951457536072525)]"
       ]
      },
      {
       "output_type": "stream",
       "stream": "stdout",
       "text": [
        "\n",
        "489\n",
        "[('SimplifiedModel_Reference_RelativeDRMS_None', 48.500803044089956)]"
       ]
      },
      {
       "output_type": "stream",
       "stream": "stdout",
       "text": [
        "\n",
        "490\n",
        "[('SimplifiedModel_Reference_RelativeDRMS_None', 47.025758312820656)]"
       ]
      },
      {
       "output_type": "stream",
       "stream": "stdout",
       "text": [
        "\n",
        "491\n",
        "[('SimplifiedModel_Reference_RelativeDRMS_None', 46.742483407889544)]"
       ]
      },
      {
       "output_type": "stream",
       "stream": "stdout",
       "text": [
        "\n",
        "492\n",
        "[('SimplifiedModel_Reference_RelativeDRMS_None', 46.654738765665435)]"
       ]
      },
      {
       "output_type": "stream",
       "stream": "stdout",
       "text": [
        "\n",
        "493\n",
        "[('SimplifiedModel_Reference_RelativeDRMS_None', 48.05687391342394)]"
       ]
      },
      {
       "output_type": "stream",
       "stream": "stdout",
       "text": [
        "\n",
        "494\n",
        "[('SimplifiedModel_Reference_RelativeDRMS_None', 47.71152612637112)]"
       ]
      },
      {
       "output_type": "stream",
       "stream": "stdout",
       "text": [
        "\n",
        "495\n",
        "[('SimplifiedModel_Reference_RelativeDRMS_None', 51.51224629223837)]"
       ]
      },
      {
       "output_type": "stream",
       "stream": "stdout",
       "text": [
        "\n",
        "496\n",
        "[('SimplifiedModel_Reference_RelativeDRMS_None', 50.42330893406525)]"
       ]
      },
      {
       "output_type": "stream",
       "stream": "stdout",
       "text": [
        "\n",
        "497\n",
        "[('SimplifiedModel_Reference_RelativeDRMS_None', 50.79121579482082)]"
       ]
      },
      {
       "output_type": "stream",
       "stream": "stdout",
       "text": [
        "\n",
        "498\n",
        "[('SimplifiedModel_Reference_RelativeDRMS_None', 50.89969448191022)]"
       ]
      },
      {
       "output_type": "stream",
       "stream": "stdout",
       "text": [
        "\n",
        "499\n",
        "[('SimplifiedModel_Reference_RelativeDRMS_None', 50.367617772822285)]"
       ]
      },
      {
       "output_type": "stream",
       "stream": "stdout",
       "text": [
        "\n",
        "500\n",
        "[('SimplifiedModel_Reference_RelativeDRMS_None', 50.2961543073552)]"
       ]
      },
      {
       "output_type": "stream",
       "stream": "stdout",
       "text": [
        "\n",
        "501\n",
        "[('SimplifiedModel_Reference_RelativeDRMS_None', 51.336356164552456)]"
       ]
      },
      {
       "output_type": "stream",
       "stream": "stdout",
       "text": [
        "\n",
        "502\n",
        "[('SimplifiedModel_Reference_RelativeDRMS_None', 52.119129531020086)]"
       ]
      },
      {
       "output_type": "stream",
       "stream": "stdout",
       "text": [
        "\n",
        "503\n",
        "[('SimplifiedModel_Reference_RelativeDRMS_None', 53.35373761418376)]"
       ]
      },
      {
       "output_type": "stream",
       "stream": "stdout",
       "text": [
        "\n",
        "504\n",
        "[('SimplifiedModel_Reference_RelativeDRMS_None', 53.56840702829317)]"
       ]
      },
      {
       "output_type": "stream",
       "stream": "stdout",
       "text": [
        "\n",
        "505\n",
        "[('SimplifiedModel_Reference_RelativeDRMS_None', 52.46318795984391)]"
       ]
      },
      {
       "output_type": "stream",
       "stream": "stdout",
       "text": [
        "\n",
        "506\n",
        "[('SimplifiedModel_Reference_RelativeDRMS_None', 50.295049114420216)]"
       ]
      },
      {
       "output_type": "stream",
       "stream": "stdout",
       "text": [
        "\n",
        "507\n",
        "[('SimplifiedModel_Reference_RelativeDRMS_None', 50.678497362032125)]"
       ]
      },
      {
       "output_type": "stream",
       "stream": "stdout",
       "text": [
        "\n",
        "508\n",
        "[('SimplifiedModel_Reference_RelativeDRMS_None', 50.16334246644953)]"
       ]
      },
      {
       "output_type": "stream",
       "stream": "stdout",
       "text": [
        "\n",
        "509\n",
        "[('SimplifiedModel_Reference_RelativeDRMS_None', 50.358920881801005)]"
       ]
      },
      {
       "output_type": "stream",
       "stream": "stdout",
       "text": [
        "\n",
        "510\n",
        "[('SimplifiedModel_Reference_RelativeDRMS_None', 48.906855253178534)]"
       ]
      },
      {
       "output_type": "stream",
       "stream": "stdout",
       "text": [
        "\n",
        "511\n",
        "[('SimplifiedModel_Reference_RelativeDRMS_None', 47.698790804221936)]"
       ]
      },
      {
       "output_type": "stream",
       "stream": "stdout",
       "text": [
        "\n",
        "512\n",
        "[('SimplifiedModel_Reference_RelativeDRMS_None', 47.86500313456442)]"
       ]
      },
      {
       "output_type": "stream",
       "stream": "stdout",
       "text": [
        "\n",
        "513\n",
        "[('SimplifiedModel_Reference_RelativeDRMS_None', 48.092110658474496)]"
       ]
      },
      {
       "output_type": "stream",
       "stream": "stdout",
       "text": [
        "\n",
        "514\n",
        "[('SimplifiedModel_Reference_RelativeDRMS_None', 48.86837758785487)]"
       ]
      },
      {
       "output_type": "stream",
       "stream": "stdout",
       "text": [
        "\n",
        "515\n",
        "[('SimplifiedModel_Reference_RelativeDRMS_None', 48.080951466615325)]"
       ]
      },
      {
       "output_type": "stream",
       "stream": "stdout",
       "text": [
        "\n",
        "516\n",
        "[('SimplifiedModel_Reference_RelativeDRMS_None', 49.04602335822378)]"
       ]
      },
      {
       "output_type": "stream",
       "stream": "stdout",
       "text": [
        "\n",
        "517\n",
        "[('SimplifiedModel_Reference_RelativeDRMS_None', 46.343516471206996)]"
       ]
      },
      {
       "output_type": "stream",
       "stream": "stdout",
       "text": [
        "\n",
        "518\n",
        "[('SimplifiedModel_Reference_RelativeDRMS_None', 46.22716518299924)]"
       ]
      },
      {
       "output_type": "stream",
       "stream": "stdout",
       "text": [
        "\n",
        "519\n",
        "[('SimplifiedModel_Reference_RelativeDRMS_None', 44.6099159890656)]"
       ]
      },
      {
       "output_type": "stream",
       "stream": "stdout",
       "text": [
        "\n",
        "520\n",
        "[('SimplifiedModel_Reference_RelativeDRMS_None', 44.281365034877275)]"
       ]
      },
      {
       "output_type": "stream",
       "stream": "stdout",
       "text": [
        "\n",
        "521\n",
        "[('SimplifiedModel_Reference_RelativeDRMS_None', 43.356376625248934)]"
       ]
      },
      {
       "output_type": "stream",
       "stream": "stdout",
       "text": [
        "\n",
        "522\n",
        "[('SimplifiedModel_Reference_RelativeDRMS_None', 43.969110698888336)]"
       ]
      },
      {
       "output_type": "stream",
       "stream": "stdout",
       "text": [
        "\n",
        "523\n",
        "[('SimplifiedModel_Reference_RelativeDRMS_None', 45.7915596410879)]"
       ]
      },
      {
       "output_type": "stream",
       "stream": "stdout",
       "text": [
        "\n",
        "524\n",
        "[('SimplifiedModel_Reference_RelativeDRMS_None', 45.05066635574587)]"
       ]
      },
      {
       "output_type": "stream",
       "stream": "stdout",
       "text": [
        "\n",
        "525\n",
        "[('SimplifiedModel_Reference_RelativeDRMS_None', 45.75100177646556)]"
       ]
      },
      {
       "output_type": "stream",
       "stream": "stdout",
       "text": [
        "\n",
        "526\n",
        "[('SimplifiedModel_Reference_RelativeDRMS_None', 45.728351572422)]"
       ]
      },
      {
       "output_type": "stream",
       "stream": "stdout",
       "text": [
        "\n",
        "527\n",
        "[('SimplifiedModel_Reference_RelativeDRMS_None', 43.96952941664825)]"
       ]
      },
      {
       "output_type": "stream",
       "stream": "stdout",
       "text": [
        "\n",
        "528\n",
        "[('SimplifiedModel_Reference_RelativeDRMS_None', 46.55254714483628)]"
       ]
      },
      {
       "output_type": "stream",
       "stream": "stdout",
       "text": [
        "\n",
        "529\n",
        "[('SimplifiedModel_Reference_RelativeDRMS_None', 42.88561730145496)]"
       ]
      },
      {
       "output_type": "stream",
       "stream": "stdout",
       "text": [
        "\n",
        "530\n",
        "[('SimplifiedModel_Reference_RelativeDRMS_None', 41.43361801910585)]"
       ]
      },
      {
       "output_type": "stream",
       "stream": "stdout",
       "text": [
        "\n",
        "531\n",
        "[('SimplifiedModel_Reference_RelativeDRMS_None', 40.87439562423018)]"
       ]
      },
      {
       "output_type": "stream",
       "stream": "stdout",
       "text": [
        "\n",
        "532\n",
        "[('SimplifiedModel_Reference_RelativeDRMS_None', 41.04409758866331)]"
       ]
      },
      {
       "output_type": "stream",
       "stream": "stdout",
       "text": [
        "\n",
        "533\n",
        "[('SimplifiedModel_Reference_RelativeDRMS_None', 40.91130692148302)]"
       ]
      },
      {
       "output_type": "stream",
       "stream": "stdout",
       "text": [
        "\n",
        "534\n",
        "[('SimplifiedModel_Reference_RelativeDRMS_None', 41.330700152796965)]"
       ]
      },
      {
       "output_type": "stream",
       "stream": "stdout",
       "text": [
        "\n",
        "535\n",
        "[('SimplifiedModel_Reference_RelativeDRMS_None', 40.943623998079026)]"
       ]
      },
      {
       "output_type": "stream",
       "stream": "stdout",
       "text": [
        "\n",
        "536\n",
        "[('SimplifiedModel_Reference_RelativeDRMS_None', 41.728407273404414)]"
       ]
      },
      {
       "output_type": "stream",
       "stream": "stdout",
       "text": [
        "\n",
        "537\n",
        "[('SimplifiedModel_Reference_RelativeDRMS_None', 41.38263052780182)]"
       ]
      },
      {
       "output_type": "stream",
       "stream": "stdout",
       "text": [
        "\n",
        "538\n",
        "[('SimplifiedModel_Reference_RelativeDRMS_None', 41.071257933496)]"
       ]
      },
      {
       "output_type": "stream",
       "stream": "stdout",
       "text": [
        "\n",
        "539\n",
        "[('SimplifiedModel_Reference_RelativeDRMS_None', 41.49752761736177)]"
       ]
      },
      {
       "output_type": "stream",
       "stream": "stdout",
       "text": [
        "\n",
        "540\n",
        "[('SimplifiedModel_Reference_RelativeDRMS_None', 42.08477018836665)]"
       ]
      },
      {
       "output_type": "stream",
       "stream": "stdout",
       "text": [
        "\n",
        "541\n",
        "[('SimplifiedModel_Reference_RelativeDRMS_None', 42.97777104541133)]"
       ]
      },
      {
       "output_type": "stream",
       "stream": "stdout",
       "text": [
        "\n",
        "542\n",
        "[('SimplifiedModel_Reference_RelativeDRMS_None', 42.76603991666295)]"
       ]
      },
      {
       "output_type": "stream",
       "stream": "stdout",
       "text": [
        "\n",
        "543\n",
        "[('SimplifiedModel_Reference_RelativeDRMS_None', 40.443394573299976)]"
       ]
      },
      {
       "output_type": "stream",
       "stream": "stdout",
       "text": [
        "\n",
        "544\n",
        "[('SimplifiedModel_Reference_RelativeDRMS_None', 40.10781911217938)]"
       ]
      },
      {
       "output_type": "stream",
       "stream": "stdout",
       "text": [
        "\n",
        "545\n",
        "[('SimplifiedModel_Reference_RelativeDRMS_None', 41.265751921300875)]"
       ]
      },
      {
       "output_type": "stream",
       "stream": "stdout",
       "text": [
        "\n",
        "546\n",
        "[('SimplifiedModel_Reference_RelativeDRMS_None', 40.51956656985371)]"
       ]
      },
      {
       "output_type": "stream",
       "stream": "stdout",
       "text": [
        "\n",
        "547\n",
        "[('SimplifiedModel_Reference_RelativeDRMS_None', 41.03920551375804)]"
       ]
      },
      {
       "output_type": "stream",
       "stream": "stdout",
       "text": [
        "\n",
        "548\n",
        "[('SimplifiedModel_Reference_RelativeDRMS_None', 41.090020586314864)]"
       ]
      },
      {
       "output_type": "stream",
       "stream": "stdout",
       "text": [
        "\n",
        "549\n",
        "[('SimplifiedModel_Reference_RelativeDRMS_None', 41.52786306875539)]"
       ]
      },
      {
       "output_type": "stream",
       "stream": "stdout",
       "text": [
        "\n",
        "550\n",
        "[('SimplifiedModel_Reference_RelativeDRMS_None', 42.47519521902218)]"
       ]
      },
      {
       "output_type": "stream",
       "stream": "stdout",
       "text": [
        "\n",
        "551\n",
        "[('SimplifiedModel_Reference_RelativeDRMS_None', 41.76754154909744)]"
       ]
      },
      {
       "output_type": "stream",
       "stream": "stdout",
       "text": [
        "\n",
        "552\n",
        "[('SimplifiedModel_Reference_RelativeDRMS_None', 41.510679122791494)]"
       ]
      },
      {
       "output_type": "stream",
       "stream": "stdout",
       "text": [
        "\n",
        "553\n",
        "[('SimplifiedModel_Reference_RelativeDRMS_None', 40.25541410843029)]"
       ]
      },
      {
       "output_type": "stream",
       "stream": "stdout",
       "text": [
        "\n",
        "554\n",
        "[('SimplifiedModel_Reference_RelativeDRMS_None', 39.961283976396984)]"
       ]
      },
      {
       "output_type": "stream",
       "stream": "stdout",
       "text": [
        "\n",
        "555\n",
        "[('SimplifiedModel_Reference_RelativeDRMS_None', 39.41326114554511)]"
       ]
      },
      {
       "output_type": "stream",
       "stream": "stdout",
       "text": [
        "\n",
        "556\n",
        "[('SimplifiedModel_Reference_RelativeDRMS_None', 37.84426972135305)]"
       ]
      },
      {
       "output_type": "stream",
       "stream": "stdout",
       "text": [
        "\n",
        "557\n",
        "[('SimplifiedModel_Reference_RelativeDRMS_None', 38.383127036837365)]"
       ]
      },
      {
       "output_type": "stream",
       "stream": "stdout",
       "text": [
        "\n",
        "558\n",
        "[('SimplifiedModel_Reference_RelativeDRMS_None', 40.05602368551458)]"
       ]
      },
      {
       "output_type": "stream",
       "stream": "stdout",
       "text": [
        "\n",
        "559\n",
        "[('SimplifiedModel_Reference_RelativeDRMS_None', 39.864870619882396)]"
       ]
      },
      {
       "output_type": "stream",
       "stream": "stdout",
       "text": [
        "\n",
        "560\n",
        "[('SimplifiedModel_Reference_RelativeDRMS_None', 38.35534926494909)]"
       ]
      },
      {
       "output_type": "stream",
       "stream": "stdout",
       "text": [
        "\n",
        "561\n",
        "[('SimplifiedModel_Reference_RelativeDRMS_None', 37.998008837326104)]"
       ]
      },
      {
       "output_type": "stream",
       "stream": "stdout",
       "text": [
        "\n",
        "562\n",
        "[('SimplifiedModel_Reference_RelativeDRMS_None', 38.09393049970039)]"
       ]
      },
      {
       "output_type": "stream",
       "stream": "stdout",
       "text": [
        "\n",
        "563\n",
        "[('SimplifiedModel_Reference_RelativeDRMS_None', 38.81114861718658)]"
       ]
      },
      {
       "output_type": "stream",
       "stream": "stdout",
       "text": [
        "\n",
        "564\n",
        "[('SimplifiedModel_Reference_RelativeDRMS_None', 36.835779373084065)]"
       ]
      },
      {
       "output_type": "stream",
       "stream": "stdout",
       "text": [
        "\n",
        "565\n",
        "[('SimplifiedModel_Reference_RelativeDRMS_None', 37.2196304593742)]"
       ]
      },
      {
       "output_type": "stream",
       "stream": "stdout",
       "text": [
        "\n",
        "566\n",
        "[('SimplifiedModel_Reference_RelativeDRMS_None', 37.360481218976666)]"
       ]
      },
      {
       "output_type": "stream",
       "stream": "stdout",
       "text": [
        "\n",
        "567\n",
        "[('SimplifiedModel_Reference_RelativeDRMS_None', 37.13664904909843)]"
       ]
      },
      {
       "output_type": "stream",
       "stream": "stdout",
       "text": [
        "\n",
        "568\n",
        "[('SimplifiedModel_Reference_RelativeDRMS_None', 38.1496100828445)]"
       ]
      },
      {
       "output_type": "stream",
       "stream": "stdout",
       "text": [
        "\n",
        "569\n",
        "[('SimplifiedModel_Reference_RelativeDRMS_None', 36.8253133869234)]"
       ]
      },
      {
       "output_type": "stream",
       "stream": "stdout",
       "text": [
        "\n",
        "570\n",
        "[('SimplifiedModel_Reference_RelativeDRMS_None', 37.60018295424161)]"
       ]
      },
      {
       "output_type": "stream",
       "stream": "stdout",
       "text": [
        "\n",
        "571\n",
        "[('SimplifiedModel_Reference_RelativeDRMS_None', 37.612995996673575)]"
       ]
      },
      {
       "output_type": "stream",
       "stream": "stdout",
       "text": [
        "\n",
        "572\n",
        "[('SimplifiedModel_Reference_RelativeDRMS_None', 37.170555270860405)]"
       ]
      },
      {
       "output_type": "stream",
       "stream": "stdout",
       "text": [
        "\n",
        "573\n",
        "[('SimplifiedModel_Reference_RelativeDRMS_None', 38.00711389687905)]"
       ]
      },
      {
       "output_type": "stream",
       "stream": "stdout",
       "text": [
        "\n",
        "574\n",
        "[('SimplifiedModel_Reference_RelativeDRMS_None', 37.859910676991724)]"
       ]
      },
      {
       "output_type": "stream",
       "stream": "stdout",
       "text": [
        "\n",
        "575\n",
        "[('SimplifiedModel_Reference_RelativeDRMS_None', 37.15317025200836)]"
       ]
      },
      {
       "output_type": "stream",
       "stream": "stdout",
       "text": [
        "\n",
        "576\n",
        "[('SimplifiedModel_Reference_RelativeDRMS_None', 36.99605320264291)]"
       ]
      },
      {
       "output_type": "stream",
       "stream": "stdout",
       "text": [
        "\n",
        "577\n",
        "[('SimplifiedModel_Reference_RelativeDRMS_None', 36.10281589113885)]"
       ]
      },
      {
       "output_type": "stream",
       "stream": "stdout",
       "text": [
        "\n",
        "578\n",
        "[('SimplifiedModel_Reference_RelativeDRMS_None', 36.54483361345824)]"
       ]
      },
      {
       "output_type": "stream",
       "stream": "stdout",
       "text": [
        "\n",
        "579\n",
        "[('SimplifiedModel_Reference_RelativeDRMS_None', 36.78321812785838)]"
       ]
      },
      {
       "output_type": "stream",
       "stream": "stdout",
       "text": [
        "\n",
        "580\n",
        "[('SimplifiedModel_Reference_RelativeDRMS_None', 36.35167868639317)]"
       ]
      },
      {
       "output_type": "stream",
       "stream": "stdout",
       "text": [
        "\n",
        "581\n",
        "[('SimplifiedModel_Reference_RelativeDRMS_None', 36.16498106286669)]"
       ]
      },
      {
       "output_type": "stream",
       "stream": "stdout",
       "text": [
        "\n",
        "582\n",
        "[('SimplifiedModel_Reference_RelativeDRMS_None', 35.84542512565182)]"
       ]
      },
      {
       "output_type": "stream",
       "stream": "stdout",
       "text": [
        "\n",
        "583\n",
        "[('SimplifiedModel_Reference_RelativeDRMS_None', 35.15542740931068)]"
       ]
      },
      {
       "output_type": "stream",
       "stream": "stdout",
       "text": [
        "\n",
        "584\n",
        "[('SimplifiedModel_Reference_RelativeDRMS_None', 34.524949153267414)]"
       ]
      },
      {
       "output_type": "stream",
       "stream": "stdout",
       "text": [
        "\n",
        "585\n",
        "[('SimplifiedModel_Reference_RelativeDRMS_None', 35.56968511051272)]"
       ]
      },
      {
       "output_type": "stream",
       "stream": "stdout",
       "text": [
        "\n",
        "586\n",
        "[('SimplifiedModel_Reference_RelativeDRMS_None', 35.904074525348335)]"
       ]
      },
      {
       "output_type": "stream",
       "stream": "stdout",
       "text": [
        "\n",
        "587\n",
        "[('SimplifiedModel_Reference_RelativeDRMS_None', 36.764081740267834)]"
       ]
      },
      {
       "output_type": "stream",
       "stream": "stdout",
       "text": [
        "\n",
        "588\n",
        "[('SimplifiedModel_Reference_RelativeDRMS_None', 35.67875271312333)]"
       ]
      },
      {
       "output_type": "stream",
       "stream": "stdout",
       "text": [
        "\n",
        "589\n",
        "[('SimplifiedModel_Reference_RelativeDRMS_None', 34.81606937170326)]"
       ]
      },
      {
       "output_type": "stream",
       "stream": "stdout",
       "text": [
        "\n",
        "590\n",
        "[('SimplifiedModel_Reference_RelativeDRMS_None', 34.34746588425287)]"
       ]
      },
      {
       "output_type": "stream",
       "stream": "stdout",
       "text": [
        "\n",
        "591\n",
        "[('SimplifiedModel_Reference_RelativeDRMS_None', 34.75755306560739)]"
       ]
      },
      {
       "output_type": "stream",
       "stream": "stdout",
       "text": [
        "\n",
        "592\n",
        "[('SimplifiedModel_Reference_RelativeDRMS_None', 34.456432527802036)]"
       ]
      },
      {
       "output_type": "stream",
       "stream": "stdout",
       "text": [
        "\n",
        "593\n",
        "[('SimplifiedModel_Reference_RelativeDRMS_None', 34.84806339343337)]"
       ]
      },
      {
       "output_type": "stream",
       "stream": "stdout",
       "text": [
        "\n",
        "594\n",
        "[('SimplifiedModel_Reference_RelativeDRMS_None', 34.76329202003881)]"
       ]
      },
      {
       "output_type": "stream",
       "stream": "stdout",
       "text": [
        "\n",
        "595\n",
        "[('SimplifiedModel_Reference_RelativeDRMS_None', 33.954291378237166)]"
       ]
      },
      {
       "output_type": "stream",
       "stream": "stdout",
       "text": [
        "\n",
        "596\n",
        "[('SimplifiedModel_Reference_RelativeDRMS_None', 33.361429517152665)]"
       ]
      },
      {
       "output_type": "stream",
       "stream": "stdout",
       "text": [
        "\n",
        "597\n",
        "[('SimplifiedModel_Reference_RelativeDRMS_None', 34.379112747659754)]"
       ]
      },
      {
       "output_type": "stream",
       "stream": "stdout",
       "text": [
        "\n",
        "598\n",
        "[('SimplifiedModel_Reference_RelativeDRMS_None', 34.553570781330635)]"
       ]
      },
      {
       "output_type": "stream",
       "stream": "stdout",
       "text": [
        "\n",
        "599\n",
        "[('SimplifiedModel_Reference_RelativeDRMS_None', 34.38867073280008)]"
       ]
      },
      {
       "output_type": "stream",
       "stream": "stdout",
       "text": [
        "\n",
        "600\n",
        "[('SimplifiedModel_Reference_RelativeDRMS_None', 33.7561992972546)]"
       ]
      },
      {
       "output_type": "stream",
       "stream": "stdout",
       "text": [
        "\n",
        "601\n",
        "[('SimplifiedModel_Reference_RelativeDRMS_None', 33.79972549980658)]"
       ]
      },
      {
       "output_type": "stream",
       "stream": "stdout",
       "text": [
        "\n",
        "602\n",
        "[('SimplifiedModel_Reference_RelativeDRMS_None', 33.78623216478859)]"
       ]
      },
      {
       "output_type": "stream",
       "stream": "stdout",
       "text": [
        "\n",
        "603\n",
        "[('SimplifiedModel_Reference_RelativeDRMS_None', 33.549420618735155)]"
       ]
      },
      {
       "output_type": "stream",
       "stream": "stdout",
       "text": [
        "\n",
        "604\n",
        "[('SimplifiedModel_Reference_RelativeDRMS_None', 33.70137929032599)]"
       ]
      },
      {
       "output_type": "stream",
       "stream": "stdout",
       "text": [
        "\n",
        "605\n",
        "[('SimplifiedModel_Reference_RelativeDRMS_None', 33.74945495630584)]"
       ]
      },
      {
       "output_type": "stream",
       "stream": "stdout",
       "text": [
        "\n",
        "606\n",
        "[('SimplifiedModel_Reference_RelativeDRMS_None', 33.32127487193582)]"
       ]
      },
      {
       "output_type": "stream",
       "stream": "stdout",
       "text": [
        "\n",
        "607\n",
        "[('SimplifiedModel_Reference_RelativeDRMS_None', 33.21998919324813)]"
       ]
      },
      {
       "output_type": "stream",
       "stream": "stdout",
       "text": [
        "\n",
        "608\n",
        "[('SimplifiedModel_Reference_RelativeDRMS_None', 32.30903359971207)]"
       ]
      },
      {
       "output_type": "stream",
       "stream": "stdout",
       "text": [
        "\n",
        "609\n",
        "[('SimplifiedModel_Reference_RelativeDRMS_None', 31.41564659062586)]"
       ]
      },
      {
       "output_type": "stream",
       "stream": "stdout",
       "text": [
        "\n",
        "610\n",
        "[('SimplifiedModel_Reference_RelativeDRMS_None', 31.69880974995985)]"
       ]
      },
      {
       "output_type": "stream",
       "stream": "stdout",
       "text": [
        "\n",
        "611\n",
        "[('SimplifiedModel_Reference_RelativeDRMS_None', 30.844727116460323)]"
       ]
      },
      {
       "output_type": "stream",
       "stream": "stdout",
       "text": [
        "\n",
        "612\n",
        "[('SimplifiedModel_Reference_RelativeDRMS_None', 31.931110674961044)]"
       ]
      },
      {
       "output_type": "stream",
       "stream": "stdout",
       "text": [
        "\n",
        "613\n",
        "[('SimplifiedModel_Reference_RelativeDRMS_None', 31.893797832274668)]"
       ]
      },
      {
       "output_type": "stream",
       "stream": "stdout",
       "text": [
        "\n",
        "614\n",
        "[('SimplifiedModel_Reference_RelativeDRMS_None', 32.841245914896135)]"
       ]
      },
      {
       "output_type": "stream",
       "stream": "stdout",
       "text": [
        "\n",
        "615\n",
        "[('SimplifiedModel_Reference_RelativeDRMS_None', 33.78838447304257)]"
       ]
      },
      {
       "output_type": "stream",
       "stream": "stdout",
       "text": [
        "\n",
        "616\n",
        "[('SimplifiedModel_Reference_RelativeDRMS_None', 34.07190044552722)]"
       ]
      },
      {
       "output_type": "stream",
       "stream": "stdout",
       "text": [
        "\n",
        "617\n",
        "[('SimplifiedModel_Reference_RelativeDRMS_None', 33.75218643654774)]"
       ]
      },
      {
       "output_type": "stream",
       "stream": "stdout",
       "text": [
        "\n",
        "618\n",
        "[('SimplifiedModel_Reference_RelativeDRMS_None', 35.056408641138184)]"
       ]
      },
      {
       "output_type": "stream",
       "stream": "stdout",
       "text": [
        "\n",
        "619\n",
        "[('SimplifiedModel_Reference_RelativeDRMS_None', 35.59936365599523)]"
       ]
      },
      {
       "output_type": "stream",
       "stream": "stdout",
       "text": [
        "\n",
        "620\n",
        "[('SimplifiedModel_Reference_RelativeDRMS_None', 36.07296802028623)]"
       ]
      },
      {
       "output_type": "stream",
       "stream": "stdout",
       "text": [
        "\n",
        "621\n",
        "[('SimplifiedModel_Reference_RelativeDRMS_None', 34.867823191797214)]"
       ]
      },
      {
       "output_type": "stream",
       "stream": "stdout",
       "text": [
        "\n",
        "622\n",
        "[('SimplifiedModel_Reference_RelativeDRMS_None', 34.665124526543565)]"
       ]
      },
      {
       "output_type": "stream",
       "stream": "stdout",
       "text": [
        "\n",
        "623\n",
        "[('SimplifiedModel_Reference_RelativeDRMS_None', 34.181491776431805)]"
       ]
      },
      {
       "output_type": "stream",
       "stream": "stdout",
       "text": [
        "\n",
        "624\n",
        "[('SimplifiedModel_Reference_RelativeDRMS_None', 33.96537010902789)]"
       ]
      },
      {
       "output_type": "stream",
       "stream": "stdout",
       "text": [
        "\n",
        "625\n",
        "[('SimplifiedModel_Reference_RelativeDRMS_None', 34.22134213120588)]"
       ]
      },
      {
       "output_type": "stream",
       "stream": "stdout",
       "text": [
        "\n",
        "626\n",
        "[('SimplifiedModel_Reference_RelativeDRMS_None', 33.8629824402825)]"
       ]
      },
      {
       "output_type": "stream",
       "stream": "stdout",
       "text": [
        "\n",
        "627\n",
        "[('SimplifiedModel_Reference_RelativeDRMS_None', 32.97603323872256)]"
       ]
      },
      {
       "output_type": "stream",
       "stream": "stdout",
       "text": [
        "\n",
        "628\n",
        "[('SimplifiedModel_Reference_RelativeDRMS_None', 32.34021754940073)]"
       ]
      },
      {
       "output_type": "stream",
       "stream": "stdout",
       "text": [
        "\n",
        "629\n",
        "[('SimplifiedModel_Reference_RelativeDRMS_None', 34.00308249657024)]"
       ]
      },
      {
       "output_type": "stream",
       "stream": "stdout",
       "text": [
        "\n",
        "630\n",
        "[('SimplifiedModel_Reference_RelativeDRMS_None', 34.702753756404206)]"
       ]
      },
      {
       "output_type": "stream",
       "stream": "stdout",
       "text": [
        "\n",
        "631\n",
        "[('SimplifiedModel_Reference_RelativeDRMS_None', 34.99830710441319)]"
       ]
      },
      {
       "output_type": "stream",
       "stream": "stdout",
       "text": [
        "\n",
        "632\n",
        "[('SimplifiedModel_Reference_RelativeDRMS_None', 33.443279869982)]"
       ]
      },
      {
       "output_type": "stream",
       "stream": "stdout",
       "text": [
        "\n",
        "633\n",
        "[('SimplifiedModel_Reference_RelativeDRMS_None', 34.450931474195826)]"
       ]
      },
      {
       "output_type": "stream",
       "stream": "stdout",
       "text": [
        "\n",
        "634\n",
        "[('SimplifiedModel_Reference_RelativeDRMS_None', 35.367374722821296)]"
       ]
      },
      {
       "output_type": "stream",
       "stream": "stdout",
       "text": [
        "\n",
        "635\n",
        "[('SimplifiedModel_Reference_RelativeDRMS_None', 34.32647037151201)]"
       ]
      },
      {
       "output_type": "stream",
       "stream": "stdout",
       "text": [
        "\n",
        "636\n",
        "[('SimplifiedModel_Reference_RelativeDRMS_None', 33.89466591621858)]"
       ]
      },
      {
       "output_type": "stream",
       "stream": "stdout",
       "text": [
        "\n",
        "637\n",
        "[('SimplifiedModel_Reference_RelativeDRMS_None', 35.26267319499454)]"
       ]
      },
      {
       "output_type": "stream",
       "stream": "stdout",
       "text": [
        "\n",
        "638\n",
        "[('SimplifiedModel_Reference_RelativeDRMS_None', 34.45707116002875)]"
       ]
      },
      {
       "output_type": "stream",
       "stream": "stdout",
       "text": [
        "\n",
        "639\n",
        "[('SimplifiedModel_Reference_RelativeDRMS_None', 36.273686645176895)]"
       ]
      },
      {
       "output_type": "stream",
       "stream": "stdout",
       "text": [
        "\n",
        "640\n",
        "[('SimplifiedModel_Reference_RelativeDRMS_None', 36.11614771693228)]"
       ]
      },
      {
       "output_type": "stream",
       "stream": "stdout",
       "text": [
        "\n",
        "641\n",
        "[('SimplifiedModel_Reference_RelativeDRMS_None', 35.950572468062596)]"
       ]
      },
      {
       "output_type": "stream",
       "stream": "stdout",
       "text": [
        "\n",
        "642\n",
        "[('SimplifiedModel_Reference_RelativeDRMS_None', 35.4140530296024)]"
       ]
      },
      {
       "output_type": "stream",
       "stream": "stdout",
       "text": [
        "\n",
        "643\n",
        "[('SimplifiedModel_Reference_RelativeDRMS_None', 35.26307757863269)]"
       ]
      },
      {
       "output_type": "stream",
       "stream": "stdout",
       "text": [
        "\n",
        "644\n",
        "[('SimplifiedModel_Reference_RelativeDRMS_None', 36.18965164138782)]"
       ]
      },
      {
       "output_type": "stream",
       "stream": "stdout",
       "text": [
        "\n",
        "645\n",
        "[('SimplifiedModel_Reference_RelativeDRMS_None', 35.59295181712371)]"
       ]
      },
      {
       "output_type": "stream",
       "stream": "stdout",
       "text": [
        "\n",
        "646\n",
        "[('SimplifiedModel_Reference_RelativeDRMS_None', 35.599890048532636)]"
       ]
      },
      {
       "output_type": "stream",
       "stream": "stdout",
       "text": [
        "\n",
        "647\n",
        "[('SimplifiedModel_Reference_RelativeDRMS_None', 35.79786482550126)]"
       ]
      },
      {
       "output_type": "stream",
       "stream": "stdout",
       "text": [
        "\n",
        "648\n",
        "[('SimplifiedModel_Reference_RelativeDRMS_None', 35.37503795220408)]"
       ]
      },
      {
       "output_type": "stream",
       "stream": "stdout",
       "text": [
        "\n",
        "649\n",
        "[('SimplifiedModel_Reference_RelativeDRMS_None', 35.50249552623774)]"
       ]
      },
      {
       "output_type": "stream",
       "stream": "stdout",
       "text": [
        "\n",
        "650\n",
        "[('SimplifiedModel_Reference_RelativeDRMS_None', 35.38431634754579)]"
       ]
      },
      {
       "output_type": "stream",
       "stream": "stdout",
       "text": [
        "\n",
        "651\n",
        "[('SimplifiedModel_Reference_RelativeDRMS_None', 35.90783992696252)]"
       ]
      },
      {
       "output_type": "stream",
       "stream": "stdout",
       "text": [
        "\n",
        "652\n",
        "[('SimplifiedModel_Reference_RelativeDRMS_None', 36.669900569445495)]"
       ]
      },
      {
       "output_type": "stream",
       "stream": "stdout",
       "text": [
        "\n",
        "653\n",
        "[('SimplifiedModel_Reference_RelativeDRMS_None', 36.684702140697866)]"
       ]
      },
      {
       "output_type": "stream",
       "stream": "stdout",
       "text": [
        "\n",
        "654\n",
        "[('SimplifiedModel_Reference_RelativeDRMS_None', 36.77513380872763)]"
       ]
      },
      {
       "output_type": "stream",
       "stream": "stdout",
       "text": [
        "\n",
        "655\n",
        "[('SimplifiedModel_Reference_RelativeDRMS_None', 35.856596103045696)]"
       ]
      },
      {
       "output_type": "stream",
       "stream": "stdout",
       "text": [
        "\n",
        "656\n",
        "[('SimplifiedModel_Reference_RelativeDRMS_None', 35.46143292440157)]"
       ]
      },
      {
       "output_type": "stream",
       "stream": "stdout",
       "text": [
        "\n",
        "657\n",
        "[('SimplifiedModel_Reference_RelativeDRMS_None', 35.508203044181144)]"
       ]
      },
      {
       "output_type": "stream",
       "stream": "stdout",
       "text": [
        "\n",
        "658\n",
        "[('SimplifiedModel_Reference_RelativeDRMS_None', 36.582017803549356)]"
       ]
      },
      {
       "output_type": "stream",
       "stream": "stdout",
       "text": [
        "\n",
        "659\n",
        "[('SimplifiedModel_Reference_RelativeDRMS_None', 36.07087819597307)]"
       ]
      },
      {
       "output_type": "stream",
       "stream": "stdout",
       "text": [
        "\n",
        "660\n",
        "[('SimplifiedModel_Reference_RelativeDRMS_None', 35.75513590384426)]"
       ]
      },
      {
       "output_type": "stream",
       "stream": "stdout",
       "text": [
        "\n",
        "661\n",
        "[('SimplifiedModel_Reference_RelativeDRMS_None', 34.951045850552696)]"
       ]
      },
      {
       "output_type": "stream",
       "stream": "stdout",
       "text": [
        "\n",
        "662\n",
        "[('SimplifiedModel_Reference_RelativeDRMS_None', 35.39998303598582)]"
       ]
      },
      {
       "output_type": "stream",
       "stream": "stdout",
       "text": [
        "\n",
        "663\n",
        "[('SimplifiedModel_Reference_RelativeDRMS_None', 35.3163101148073)]"
       ]
      },
      {
       "output_type": "stream",
       "stream": "stdout",
       "text": [
        "\n",
        "664\n",
        "[('SimplifiedModel_Reference_RelativeDRMS_None', 35.29514928512364)]"
       ]
      },
      {
       "output_type": "stream",
       "stream": "stdout",
       "text": [
        "\n",
        "665\n",
        "[('SimplifiedModel_Reference_RelativeDRMS_None', 34.5829738618421)]"
       ]
      },
      {
       "output_type": "stream",
       "stream": "stdout",
       "text": [
        "\n",
        "666\n",
        "[('SimplifiedModel_Reference_RelativeDRMS_None', 33.86019454055317)]"
       ]
      },
      {
       "output_type": "stream",
       "stream": "stdout",
       "text": [
        "\n",
        "667\n",
        "[('SimplifiedModel_Reference_RelativeDRMS_None', 35.261450156474694)]"
       ]
      },
      {
       "output_type": "stream",
       "stream": "stdout",
       "text": [
        "\n",
        "668\n",
        "[('SimplifiedModel_Reference_RelativeDRMS_None', 34.93935232311949)]"
       ]
      },
      {
       "output_type": "stream",
       "stream": "stdout",
       "text": [
        "\n",
        "669\n",
        "[('SimplifiedModel_Reference_RelativeDRMS_None', 34.205621133468995)]"
       ]
      },
      {
       "output_type": "stream",
       "stream": "stdout",
       "text": [
        "\n",
        "670\n",
        "[('SimplifiedModel_Reference_RelativeDRMS_None', 34.49425087652875)]"
       ]
      },
      {
       "output_type": "stream",
       "stream": "stdout",
       "text": [
        "\n",
        "671\n",
        "[('SimplifiedModel_Reference_RelativeDRMS_None', 35.39174489399642)]"
       ]
      },
      {
       "output_type": "stream",
       "stream": "stdout",
       "text": [
        "\n",
        "672\n",
        "[('SimplifiedModel_Reference_RelativeDRMS_None', 33.683915080462654)]"
       ]
      },
      {
       "output_type": "stream",
       "stream": "stdout",
       "text": [
        "\n",
        "673\n",
        "[('SimplifiedModel_Reference_RelativeDRMS_None', 34.74657617791337)]"
       ]
      },
      {
       "output_type": "stream",
       "stream": "stdout",
       "text": [
        "\n",
        "674\n",
        "[('SimplifiedModel_Reference_RelativeDRMS_None', 34.83763218288504)]"
       ]
      },
      {
       "output_type": "stream",
       "stream": "stdout",
       "text": [
        "\n",
        "675\n",
        "[('SimplifiedModel_Reference_RelativeDRMS_None', 36.41911619661971)]"
       ]
      },
      {
       "output_type": "stream",
       "stream": "stdout",
       "text": [
        "\n",
        "676\n",
        "[('SimplifiedModel_Reference_RelativeDRMS_None', 37.09429943863174)]"
       ]
      },
      {
       "output_type": "stream",
       "stream": "stdout",
       "text": [
        "\n",
        "677\n",
        "[('SimplifiedModel_Reference_RelativeDRMS_None', 36.48930985604539)]"
       ]
      },
      {
       "output_type": "stream",
       "stream": "stdout",
       "text": [
        "\n",
        "678\n",
        "[('SimplifiedModel_Reference_RelativeDRMS_None', 36.17969402283612)]"
       ]
      },
      {
       "output_type": "stream",
       "stream": "stdout",
       "text": [
        "\n",
        "679\n",
        "[('SimplifiedModel_Reference_RelativeDRMS_None', 37.084718933845245)]"
       ]
      },
      {
       "output_type": "stream",
       "stream": "stdout",
       "text": [
        "\n",
        "680\n",
        "[('SimplifiedModel_Reference_RelativeDRMS_None', 36.50134757688739)]"
       ]
      },
      {
       "output_type": "stream",
       "stream": "stdout",
       "text": [
        "\n",
        "681\n",
        "[('SimplifiedModel_Reference_RelativeDRMS_None', 37.65933439058792)]"
       ]
      },
      {
       "output_type": "stream",
       "stream": "stdout",
       "text": [
        "\n",
        "682\n",
        "[('SimplifiedModel_Reference_RelativeDRMS_None', 36.5920260134068)]"
       ]
      },
      {
       "output_type": "stream",
       "stream": "stdout",
       "text": [
        "\n",
        "683\n",
        "[('SimplifiedModel_Reference_RelativeDRMS_None', 37.52808759181539)]"
       ]
      },
      {
       "output_type": "stream",
       "stream": "stdout",
       "text": [
        "\n",
        "684\n",
        "[('SimplifiedModel_Reference_RelativeDRMS_None', 36.396658521794926)]"
       ]
      },
      {
       "output_type": "stream",
       "stream": "stdout",
       "text": [
        "\n",
        "685\n",
        "[('SimplifiedModel_Reference_RelativeDRMS_None', 36.88234240708424)]"
       ]
      },
      {
       "output_type": "stream",
       "stream": "stdout",
       "text": [
        "\n",
        "686\n",
        "[('SimplifiedModel_Reference_RelativeDRMS_None', 36.31684185030024)]"
       ]
      },
      {
       "output_type": "stream",
       "stream": "stdout",
       "text": [
        "\n",
        "687\n",
        "[('SimplifiedModel_Reference_RelativeDRMS_None', 36.165249021583634)]"
       ]
      },
      {
       "output_type": "stream",
       "stream": "stdout",
       "text": [
        "\n",
        "688\n",
        "[('SimplifiedModel_Reference_RelativeDRMS_None', 36.46896107040897)]"
       ]
      },
      {
       "output_type": "stream",
       "stream": "stdout",
       "text": [
        "\n",
        "689\n",
        "[('SimplifiedModel_Reference_RelativeDRMS_None', 36.87905615285626)]"
       ]
      },
      {
       "output_type": "stream",
       "stream": "stdout",
       "text": [
        "\n",
        "690\n",
        "[('SimplifiedModel_Reference_RelativeDRMS_None', 37.79718263187237)]"
       ]
      },
      {
       "output_type": "stream",
       "stream": "stdout",
       "text": [
        "\n",
        "691\n",
        "[('SimplifiedModel_Reference_RelativeDRMS_None', 37.94269609064458)]"
       ]
      },
      {
       "output_type": "stream",
       "stream": "stdout",
       "text": [
        "\n",
        "692\n",
        "[('SimplifiedModel_Reference_RelativeDRMS_None', 38.928648078278435)]"
       ]
      },
      {
       "output_type": "stream",
       "stream": "stdout",
       "text": [
        "\n",
        "693\n",
        "[('SimplifiedModel_Reference_RelativeDRMS_None', 38.370469507321424)]"
       ]
      },
      {
       "output_type": "stream",
       "stream": "stdout",
       "text": [
        "\n",
        "694\n",
        "[('SimplifiedModel_Reference_RelativeDRMS_None', 38.93970356391572)]"
       ]
      },
      {
       "output_type": "stream",
       "stream": "stdout",
       "text": [
        "\n",
        "695\n",
        "[('SimplifiedModel_Reference_RelativeDRMS_None', 39.17482008209612)]"
       ]
      },
      {
       "output_type": "stream",
       "stream": "stdout",
       "text": [
        "\n",
        "696\n",
        "[('SimplifiedModel_Reference_RelativeDRMS_None', 38.62140839007287)]"
       ]
      },
      {
       "output_type": "stream",
       "stream": "stdout",
       "text": [
        "\n",
        "697\n",
        "[('SimplifiedModel_Reference_RelativeDRMS_None', 38.148925359225984)]"
       ]
      },
      {
       "output_type": "stream",
       "stream": "stdout",
       "text": [
        "\n",
        "698\n",
        "[('SimplifiedModel_Reference_RelativeDRMS_None', 39.329907319343285)]"
       ]
      },
      {
       "output_type": "stream",
       "stream": "stdout",
       "text": [
        "\n",
        "699\n",
        "[('SimplifiedModel_Reference_RelativeDRMS_None', 39.04374018721574)]"
       ]
      },
      {
       "output_type": "stream",
       "stream": "stdout",
       "text": [
        "\n",
        "700\n",
        "[('SimplifiedModel_Reference_RelativeDRMS_None', 38.45200462254388)]"
       ]
      },
      {
       "output_type": "stream",
       "stream": "stdout",
       "text": [
        "\n",
        "701\n",
        "[('SimplifiedModel_Reference_RelativeDRMS_None', 39.89359766388262)]"
       ]
      },
      {
       "output_type": "stream",
       "stream": "stdout",
       "text": [
        "\n",
        "702\n",
        "[('SimplifiedModel_Reference_RelativeDRMS_None', 39.43890863412746)]"
       ]
      },
      {
       "output_type": "stream",
       "stream": "stdout",
       "text": [
        "\n",
        "703\n",
        "[('SimplifiedModel_Reference_RelativeDRMS_None', 39.928100815153385)]"
       ]
      },
      {
       "output_type": "stream",
       "stream": "stdout",
       "text": [
        "\n",
        "704\n",
        "[('SimplifiedModel_Reference_RelativeDRMS_None', 39.261144218754964)]"
       ]
      },
      {
       "output_type": "stream",
       "stream": "stdout",
       "text": [
        "\n",
        "705\n",
        "[('SimplifiedModel_Reference_RelativeDRMS_None', 41.292871242838665)]"
       ]
      },
      {
       "output_type": "stream",
       "stream": "stdout",
       "text": [
        "\n",
        "706\n",
        "[('SimplifiedModel_Reference_RelativeDRMS_None', 41.40684095033637)]"
       ]
      },
      {
       "output_type": "stream",
       "stream": "stdout",
       "text": [
        "\n",
        "707\n",
        "[('SimplifiedModel_Reference_RelativeDRMS_None', 41.8363401904749)]"
       ]
      },
      {
       "output_type": "stream",
       "stream": "stdout",
       "text": [
        "\n",
        "708\n",
        "[('SimplifiedModel_Reference_RelativeDRMS_None', 42.1914907258391)]"
       ]
      },
      {
       "output_type": "stream",
       "stream": "stdout",
       "text": [
        "\n",
        "709\n",
        "[('SimplifiedModel_Reference_RelativeDRMS_None', 42.309547548844435)]"
       ]
      },
      {
       "output_type": "stream",
       "stream": "stdout",
       "text": [
        "\n",
        "710\n",
        "[('SimplifiedModel_Reference_RelativeDRMS_None', 43.16776056853602)]"
       ]
      },
      {
       "output_type": "stream",
       "stream": "stdout",
       "text": [
        "\n",
        "711\n",
        "[('SimplifiedModel_Reference_RelativeDRMS_None', 43.40095322547523)]"
       ]
      },
      {
       "output_type": "stream",
       "stream": "stdout",
       "text": [
        "\n",
        "712\n",
        "[('SimplifiedModel_Reference_RelativeDRMS_None', 42.936918623022265)]"
       ]
      },
      {
       "output_type": "stream",
       "stream": "stdout",
       "text": [
        "\n",
        "713\n",
        "[('SimplifiedModel_Reference_RelativeDRMS_None', 46.47503731720798)]"
       ]
      },
      {
       "output_type": "stream",
       "stream": "stdout",
       "text": [
        "\n",
        "714\n",
        "[('SimplifiedModel_Reference_RelativeDRMS_None', 45.50248818325955)]"
       ]
      },
      {
       "output_type": "stream",
       "stream": "stdout",
       "text": [
        "\n",
        "715\n",
        "[('SimplifiedModel_Reference_RelativeDRMS_None', 44.43020764714368)]"
       ]
      },
      {
       "output_type": "stream",
       "stream": "stdout",
       "text": [
        "\n",
        "716\n",
        "[('SimplifiedModel_Reference_RelativeDRMS_None', 45.89386348329549)]"
       ]
      },
      {
       "output_type": "stream",
       "stream": "stdout",
       "text": [
        "\n",
        "717\n",
        "[('SimplifiedModel_Reference_RelativeDRMS_None', 47.06889851179731)]"
       ]
      },
      {
       "output_type": "stream",
       "stream": "stdout",
       "text": [
        "\n",
        "718\n",
        "[('SimplifiedModel_Reference_RelativeDRMS_None', 47.74662918765534)]"
       ]
      },
      {
       "output_type": "stream",
       "stream": "stdout",
       "text": [
        "\n",
        "719\n",
        "[('SimplifiedModel_Reference_RelativeDRMS_None', 47.883308206054316)]"
       ]
      },
      {
       "output_type": "stream",
       "stream": "stdout",
       "text": [
        "\n",
        "720\n",
        "[('SimplifiedModel_Reference_RelativeDRMS_None', 48.805388781028114)]"
       ]
      },
      {
       "output_type": "stream",
       "stream": "stdout",
       "text": [
        "\n",
        "721\n",
        "[('SimplifiedModel_Reference_RelativeDRMS_None', 49.45193453080763)]"
       ]
      },
      {
       "output_type": "stream",
       "stream": "stdout",
       "text": [
        "\n",
        "722\n",
        "[('SimplifiedModel_Reference_RelativeDRMS_None', 50.282549879747734)]"
       ]
      },
      {
       "output_type": "stream",
       "stream": "stdout",
       "text": [
        "\n",
        "723\n",
        "[('SimplifiedModel_Reference_RelativeDRMS_None', 51.816814791270474)]"
       ]
      },
      {
       "output_type": "stream",
       "stream": "stdout",
       "text": [
        "\n",
        "724\n",
        "[('SimplifiedModel_Reference_RelativeDRMS_None', 52.58225907044893)]"
       ]
      },
      {
       "output_type": "stream",
       "stream": "stdout",
       "text": [
        "\n",
        "725\n",
        "[('SimplifiedModel_Reference_RelativeDRMS_None', 54.125275655782374)]"
       ]
      },
      {
       "output_type": "stream",
       "stream": "stdout",
       "text": [
        "\n",
        "726\n",
        "[('SimplifiedModel_Reference_RelativeDRMS_None', 53.496257091039915)]"
       ]
      },
      {
       "output_type": "stream",
       "stream": "stdout",
       "text": [
        "\n",
        "727\n",
        "[('SimplifiedModel_Reference_RelativeDRMS_None', 55.21345874785588)]"
       ]
      },
      {
       "output_type": "stream",
       "stream": "stdout",
       "text": [
        "\n",
        "728\n",
        "[('SimplifiedModel_Reference_RelativeDRMS_None', 52.344574368137714)]"
       ]
      },
      {
       "output_type": "stream",
       "stream": "stdout",
       "text": [
        "\n",
        "729\n",
        "[('SimplifiedModel_Reference_RelativeDRMS_None', 52.07289176832805)]"
       ]
      },
      {
       "output_type": "stream",
       "stream": "stdout",
       "text": [
        "\n",
        "730\n",
        "[('SimplifiedModel_Reference_RelativeDRMS_None', 51.87376394224876)]"
       ]
      },
      {
       "output_type": "stream",
       "stream": "stdout",
       "text": [
        "\n",
        "731\n",
        "[('SimplifiedModel_Reference_RelativeDRMS_None', 52.98364701461229)]"
       ]
      },
      {
       "output_type": "stream",
       "stream": "stdout",
       "text": [
        "\n",
        "732\n",
        "[('SimplifiedModel_Reference_RelativeDRMS_None', 53.117255097947556)]"
       ]
      },
      {
       "output_type": "stream",
       "stream": "stdout",
       "text": [
        "\n",
        "733\n",
        "[('SimplifiedModel_Reference_RelativeDRMS_None', 54.492004878746954)]"
       ]
      },
      {
       "output_type": "stream",
       "stream": "stdout",
       "text": [
        "\n",
        "734\n",
        "[('SimplifiedModel_Reference_RelativeDRMS_None', 55.727908016565024)]"
       ]
      },
      {
       "output_type": "stream",
       "stream": "stdout",
       "text": [
        "\n",
        "735\n",
        "[('SimplifiedModel_Reference_RelativeDRMS_None', 57.60347002722297)]"
       ]
      },
      {
       "output_type": "stream",
       "stream": "stdout",
       "text": [
        "\n",
        "736\n",
        "[('SimplifiedModel_Reference_RelativeDRMS_None', 56.80222312734404)]"
       ]
      },
      {
       "output_type": "stream",
       "stream": "stdout",
       "text": [
        "\n",
        "737\n",
        "[('SimplifiedModel_Reference_RelativeDRMS_None', 55.17673259845927)]"
       ]
      },
      {
       "output_type": "stream",
       "stream": "stdout",
       "text": [
        "\n",
        "738\n",
        "[('SimplifiedModel_Reference_RelativeDRMS_None', 56.6160577323902)]"
       ]
      },
      {
       "output_type": "stream",
       "stream": "stdout",
       "text": [
        "\n",
        "739\n",
        "[('SimplifiedModel_Reference_RelativeDRMS_None', 56.86409097143046)]"
       ]
      },
      {
       "output_type": "stream",
       "stream": "stdout",
       "text": [
        "\n",
        "740\n",
        "[('SimplifiedModel_Reference_RelativeDRMS_None', 56.9802982495185)]"
       ]
      },
      {
       "output_type": "stream",
       "stream": "stdout",
       "text": [
        "\n",
        "741\n",
        "[('SimplifiedModel_Reference_RelativeDRMS_None', 56.6166037498722)]"
       ]
      },
      {
       "output_type": "stream",
       "stream": "stdout",
       "text": [
        "\n",
        "742\n",
        "[('SimplifiedModel_Reference_RelativeDRMS_None', 55.95713841062596)]"
       ]
      },
      {
       "output_type": "stream",
       "stream": "stdout",
       "text": [
        "\n",
        "743\n",
        "[('SimplifiedModel_Reference_RelativeDRMS_None', 54.84404857867548)]"
       ]
      },
      {
       "output_type": "stream",
       "stream": "stdout",
       "text": [
        "\n",
        "744\n",
        "[('SimplifiedModel_Reference_RelativeDRMS_None', 54.32569554051892)]"
       ]
      },
      {
       "output_type": "stream",
       "stream": "stdout",
       "text": [
        "\n",
        "745\n",
        "[('SimplifiedModel_Reference_RelativeDRMS_None', 56.55086761573414)]"
       ]
      },
      {
       "output_type": "stream",
       "stream": "stdout",
       "text": [
        "\n",
        "746\n",
        "[('SimplifiedModel_Reference_RelativeDRMS_None', 56.878611205454504)]"
       ]
      },
      {
       "output_type": "stream",
       "stream": "stdout",
       "text": [
        "\n",
        "747\n",
        "[('SimplifiedModel_Reference_RelativeDRMS_None', 57.33300471682553)]"
       ]
      },
      {
       "output_type": "stream",
       "stream": "stdout",
       "text": [
        "\n",
        "748\n",
        "[('SimplifiedModel_Reference_RelativeDRMS_None', 60.086895302373506)]"
       ]
      },
      {
       "output_type": "stream",
       "stream": "stdout",
       "text": [
        "\n",
        "749\n",
        "[('SimplifiedModel_Reference_RelativeDRMS_None', 60.02557926861554)]"
       ]
      },
      {
       "output_type": "stream",
       "stream": "stdout",
       "text": [
        "\n",
        "750\n",
        "[('SimplifiedModel_Reference_RelativeDRMS_None', 58.73739786861045)]"
       ]
      },
      {
       "output_type": "stream",
       "stream": "stdout",
       "text": [
        "\n",
        "751\n",
        "[('SimplifiedModel_Reference_RelativeDRMS_None', 55.35784996182561)]"
       ]
      },
      {
       "output_type": "stream",
       "stream": "stdout",
       "text": [
        "\n",
        "752\n",
        "[('SimplifiedModel_Reference_RelativeDRMS_None', 57.13412403506118)]"
       ]
      },
      {
       "output_type": "stream",
       "stream": "stdout",
       "text": [
        "\n",
        "753\n",
        "[('SimplifiedModel_Reference_RelativeDRMS_None', 58.06720951768152)]"
       ]
      },
      {
       "output_type": "stream",
       "stream": "stdout",
       "text": [
        "\n",
        "754\n",
        "[('SimplifiedModel_Reference_RelativeDRMS_None', 58.622377470042316)]"
       ]
      },
      {
       "output_type": "stream",
       "stream": "stdout",
       "text": [
        "\n",
        "755\n",
        "[('SimplifiedModel_Reference_RelativeDRMS_None', 59.75587221849745)]"
       ]
      },
      {
       "output_type": "stream",
       "stream": "stdout",
       "text": [
        "\n",
        "756\n",
        "[('SimplifiedModel_Reference_RelativeDRMS_None', 58.23622399413424)]"
       ]
      },
      {
       "output_type": "stream",
       "stream": "stdout",
       "text": [
        "\n",
        "757\n",
        "[('SimplifiedModel_Reference_RelativeDRMS_None', 59.761393777740864)]"
       ]
      },
      {
       "output_type": "stream",
       "stream": "stdout",
       "text": [
        "\n",
        "758\n",
        "[('SimplifiedModel_Reference_RelativeDRMS_None', 60.25056736001316)]"
       ]
      },
      {
       "output_type": "stream",
       "stream": "stdout",
       "text": [
        "\n",
        "759\n",
        "[('SimplifiedModel_Reference_RelativeDRMS_None', 59.23687698818957)]"
       ]
      },
      {
       "output_type": "stream",
       "stream": "stdout",
       "text": [
        "\n",
        "760\n",
        "[('SimplifiedModel_Reference_RelativeDRMS_None', 59.83394689345341)]"
       ]
      },
      {
       "output_type": "stream",
       "stream": "stdout",
       "text": [
        "\n",
        "761\n",
        "[('SimplifiedModel_Reference_RelativeDRMS_None', 59.347786772815596)]"
       ]
      },
      {
       "output_type": "stream",
       "stream": "stdout",
       "text": [
        "\n",
        "762\n",
        "[('SimplifiedModel_Reference_RelativeDRMS_None', 59.12322904140124)]"
       ]
      },
      {
       "output_type": "stream",
       "stream": "stdout",
       "text": [
        "\n",
        "763\n",
        "[('SimplifiedModel_Reference_RelativeDRMS_None', 57.81283234683228)]"
       ]
      },
      {
       "output_type": "stream",
       "stream": "stdout",
       "text": [
        "\n",
        "764\n",
        "[('SimplifiedModel_Reference_RelativeDRMS_None', 57.21336713067098)]"
       ]
      },
      {
       "output_type": "stream",
       "stream": "stdout",
       "text": [
        "\n",
        "765\n",
        "[('SimplifiedModel_Reference_RelativeDRMS_None', 57.64112295307798)]"
       ]
      },
      {
       "output_type": "stream",
       "stream": "stdout",
       "text": [
        "\n",
        "766\n",
        "[('SimplifiedModel_Reference_RelativeDRMS_None', 57.55925386361267)]"
       ]
      },
      {
       "output_type": "stream",
       "stream": "stdout",
       "text": [
        "\n",
        "767\n",
        "[('SimplifiedModel_Reference_RelativeDRMS_None', 57.235162684246305)]"
       ]
      },
      {
       "output_type": "stream",
       "stream": "stdout",
       "text": [
        "\n",
        "768\n",
        "[('SimplifiedModel_Reference_RelativeDRMS_None', 61.10628519474891)]"
       ]
      },
      {
       "output_type": "stream",
       "stream": "stdout",
       "text": [
        "\n",
        "769\n",
        "[('SimplifiedModel_Reference_RelativeDRMS_None', 62.02568680310309)]"
       ]
      },
      {
       "output_type": "stream",
       "stream": "stdout",
       "text": [
        "\n",
        "770\n",
        "[('SimplifiedModel_Reference_RelativeDRMS_None', 62.35929456606781)]"
       ]
      },
      {
       "output_type": "stream",
       "stream": "stdout",
       "text": [
        "\n",
        "771\n",
        "[('SimplifiedModel_Reference_RelativeDRMS_None', 59.98308276680426)]"
       ]
      },
      {
       "output_type": "stream",
       "stream": "stdout",
       "text": [
        "\n",
        "772\n",
        "[('SimplifiedModel_Reference_RelativeDRMS_None', 59.005931627675636)]"
       ]
      },
      {
       "output_type": "stream",
       "stream": "stdout",
       "text": [
        "\n",
        "773\n",
        "[('SimplifiedModel_Reference_RelativeDRMS_None', 58.96863387603773)]"
       ]
      },
      {
       "output_type": "stream",
       "stream": "stdout",
       "text": [
        "\n",
        "774\n",
        "[('SimplifiedModel_Reference_RelativeDRMS_None', 59.732461876856185)]"
       ]
      },
      {
       "output_type": "stream",
       "stream": "stdout",
       "text": [
        "\n",
        "775\n",
        "[('SimplifiedModel_Reference_RelativeDRMS_None', 59.3484793475575)]"
       ]
      },
      {
       "output_type": "stream",
       "stream": "stdout",
       "text": [
        "\n",
        "776\n",
        "[('SimplifiedModel_Reference_RelativeDRMS_None', 58.6372671787976)]"
       ]
      },
      {
       "output_type": "stream",
       "stream": "stdout",
       "text": [
        "\n",
        "777\n",
        "[('SimplifiedModel_Reference_RelativeDRMS_None', 59.014135234824685)]"
       ]
      },
      {
       "output_type": "stream",
       "stream": "stdout",
       "text": [
        "\n",
        "778\n",
        "[('SimplifiedModel_Reference_RelativeDRMS_None', 58.143917034350224)]"
       ]
      },
      {
       "output_type": "stream",
       "stream": "stdout",
       "text": [
        "\n",
        "779\n",
        "[('SimplifiedModel_Reference_RelativeDRMS_None', 57.44704267842733)]"
       ]
      },
      {
       "output_type": "stream",
       "stream": "stdout",
       "text": [
        "\n",
        "780\n",
        "[('SimplifiedModel_Reference_RelativeDRMS_None', 58.160926105652266)]"
       ]
      },
      {
       "output_type": "stream",
       "stream": "stdout",
       "text": [
        "\n",
        "781\n",
        "[('SimplifiedModel_Reference_RelativeDRMS_None', 59.73734140098984)]"
       ]
      },
      {
       "output_type": "stream",
       "stream": "stdout",
       "text": [
        "\n",
        "782\n",
        "[('SimplifiedModel_Reference_RelativeDRMS_None', 62.093430936363575)]"
       ]
      },
      {
       "output_type": "stream",
       "stream": "stdout",
       "text": [
        "\n",
        "783\n",
        "[('SimplifiedModel_Reference_RelativeDRMS_None', 62.60185589448275)]"
       ]
      },
      {
       "output_type": "stream",
       "stream": "stdout",
       "text": [
        "\n",
        "784\n",
        "[('SimplifiedModel_Reference_RelativeDRMS_None', 61.537520089156835)]"
       ]
      },
      {
       "output_type": "stream",
       "stream": "stdout",
       "text": [
        "\n",
        "785\n",
        "[('SimplifiedModel_Reference_RelativeDRMS_None', 62.04906661796576)]"
       ]
      },
      {
       "output_type": "stream",
       "stream": "stdout",
       "text": [
        "\n",
        "786\n",
        "[('SimplifiedModel_Reference_RelativeDRMS_None', 62.28888327880902)]"
       ]
      },
      {
       "output_type": "stream",
       "stream": "stdout",
       "text": [
        "\n",
        "787\n",
        "[('SimplifiedModel_Reference_RelativeDRMS_None', 61.80048833073363)]"
       ]
      },
      {
       "output_type": "stream",
       "stream": "stdout",
       "text": [
        "\n",
        "788\n",
        "[('SimplifiedModel_Reference_RelativeDRMS_None', 60.71034920251337)]"
       ]
      },
      {
       "output_type": "stream",
       "stream": "stdout",
       "text": [
        "\n",
        "789\n",
        "[('SimplifiedModel_Reference_RelativeDRMS_None', 62.263890270898976)]"
       ]
      },
      {
       "output_type": "stream",
       "stream": "stdout",
       "text": [
        "\n",
        "790\n",
        "[('SimplifiedModel_Reference_RelativeDRMS_None', 63.113770835659274)]"
       ]
      },
      {
       "output_type": "stream",
       "stream": "stdout",
       "text": [
        "\n",
        "791\n",
        "[('SimplifiedModel_Reference_RelativeDRMS_None', 62.29184874449497)]"
       ]
      },
      {
       "output_type": "stream",
       "stream": "stdout",
       "text": [
        "\n",
        "792\n",
        "[('SimplifiedModel_Reference_RelativeDRMS_None', 60.956043549579384)]"
       ]
      },
      {
       "output_type": "stream",
       "stream": "stdout",
       "text": [
        "\n",
        "793\n",
        "[('SimplifiedModel_Reference_RelativeDRMS_None', 58.61539040962193)]"
       ]
      },
      {
       "output_type": "stream",
       "stream": "stdout",
       "text": [
        "\n",
        "794\n",
        "[('SimplifiedModel_Reference_RelativeDRMS_None', 58.44282186003404)]"
       ]
      },
      {
       "output_type": "stream",
       "stream": "stdout",
       "text": [
        "\n",
        "795\n",
        "[('SimplifiedModel_Reference_RelativeDRMS_None', 56.46469312161919)]"
       ]
      },
      {
       "output_type": "stream",
       "stream": "stdout",
       "text": [
        "\n",
        "796\n",
        "[('SimplifiedModel_Reference_RelativeDRMS_None', 54.57580562699476)]"
       ]
      },
      {
       "output_type": "stream",
       "stream": "stdout",
       "text": [
        "\n",
        "797\n",
        "[('SimplifiedModel_Reference_RelativeDRMS_None', 53.710836618150054)]"
       ]
      },
      {
       "output_type": "stream",
       "stream": "stdout",
       "text": [
        "\n",
        "798\n",
        "[('SimplifiedModel_Reference_RelativeDRMS_None', 51.64982256285626)]"
       ]
      },
      {
       "output_type": "stream",
       "stream": "stdout",
       "text": [
        "\n",
        "799\n",
        "[('SimplifiedModel_Reference_RelativeDRMS_None', 52.27048070617533)]"
       ]
      },
      {
       "output_type": "stream",
       "stream": "stdout",
       "text": [
        "\n",
        "800\n",
        "[('SimplifiedModel_Reference_RelativeDRMS_None', 49.66705867142504)]"
       ]
      },
      {
       "output_type": "stream",
       "stream": "stdout",
       "text": [
        "\n",
        "801\n",
        "[('SimplifiedModel_Reference_RelativeDRMS_None', 48.23094148050595)]"
       ]
      },
      {
       "output_type": "stream",
       "stream": "stdout",
       "text": [
        "\n",
        "802\n",
        "[('SimplifiedModel_Reference_RelativeDRMS_None', 48.078774957125816)]"
       ]
      },
      {
       "output_type": "stream",
       "stream": "stdout",
       "text": [
        "\n",
        "803\n",
        "[('SimplifiedModel_Reference_RelativeDRMS_None', 47.74903491335011)]"
       ]
      },
      {
       "output_type": "stream",
       "stream": "stdout",
       "text": [
        "\n",
        "804\n",
        "[('SimplifiedModel_Reference_RelativeDRMS_None', 50.230077936923)]"
       ]
      },
      {
       "output_type": "stream",
       "stream": "stdout",
       "text": [
        "\n",
        "805\n",
        "[('SimplifiedModel_Reference_RelativeDRMS_None', 51.368269149807865)]"
       ]
      },
      {
       "output_type": "stream",
       "stream": "stdout",
       "text": [
        "\n",
        "806\n",
        "[('SimplifiedModel_Reference_RelativeDRMS_None', 51.86531868959657)]"
       ]
      },
      {
       "output_type": "stream",
       "stream": "stdout",
       "text": [
        "\n",
        "807\n",
        "[('SimplifiedModel_Reference_RelativeDRMS_None', 52.383908741497606)]"
       ]
      },
      {
       "output_type": "stream",
       "stream": "stdout",
       "text": [
        "\n",
        "808\n",
        "[('SimplifiedModel_Reference_RelativeDRMS_None', 52.080493399494166)]"
       ]
      },
      {
       "output_type": "stream",
       "stream": "stdout",
       "text": [
        "\n",
        "809\n",
        "[('SimplifiedModel_Reference_RelativeDRMS_None', 51.59104700244773)]"
       ]
      },
      {
       "output_type": "stream",
       "stream": "stdout",
       "text": [
        "\n",
        "810\n",
        "[('SimplifiedModel_Reference_RelativeDRMS_None', 50.20536865308979)]"
       ]
      },
      {
       "output_type": "stream",
       "stream": "stdout",
       "text": [
        "\n",
        "811\n",
        "[('SimplifiedModel_Reference_RelativeDRMS_None', 50.929488831263036)]"
       ]
      },
      {
       "output_type": "stream",
       "stream": "stdout",
       "text": [
        "\n",
        "812\n",
        "[('SimplifiedModel_Reference_RelativeDRMS_None', 50.08364730838249)]"
       ]
      },
      {
       "output_type": "stream",
       "stream": "stdout",
       "text": [
        "\n",
        "813\n",
        "[('SimplifiedModel_Reference_RelativeDRMS_None', 52.31078321522)]"
       ]
      },
      {
       "output_type": "stream",
       "stream": "stdout",
       "text": [
        "\n",
        "814\n",
        "[('SimplifiedModel_Reference_RelativeDRMS_None', 50.31387391779012)]"
       ]
      },
      {
       "output_type": "stream",
       "stream": "stdout",
       "text": [
        "\n",
        "815\n",
        "[('SimplifiedModel_Reference_RelativeDRMS_None', 50.41806076065413)]"
       ]
      },
      {
       "output_type": "stream",
       "stream": "stdout",
       "text": [
        "\n",
        "816\n",
        "[('SimplifiedModel_Reference_RelativeDRMS_None', 51.180168182933414)]"
       ]
      },
      {
       "output_type": "stream",
       "stream": "stdout",
       "text": [
        "\n",
        "817\n",
        "[('SimplifiedModel_Reference_RelativeDRMS_None', 52.736851274488366)]"
       ]
      },
      {
       "output_type": "stream",
       "stream": "stdout",
       "text": [
        "\n",
        "818\n",
        "[('SimplifiedModel_Reference_RelativeDRMS_None', 53.571465127513825)]"
       ]
      },
      {
       "output_type": "stream",
       "stream": "stdout",
       "text": [
        "\n",
        "819\n",
        "[('SimplifiedModel_Reference_RelativeDRMS_None', 51.410281497153576)]"
       ]
      },
      {
       "output_type": "stream",
       "stream": "stdout",
       "text": [
        "\n",
        "820\n",
        "[('SimplifiedModel_Reference_RelativeDRMS_None', 51.18846903675519)]"
       ]
      },
      {
       "output_type": "stream",
       "stream": "stdout",
       "text": [
        "\n",
        "821\n",
        "[('SimplifiedModel_Reference_RelativeDRMS_None', 52.07797010931975)]"
       ]
      },
      {
       "output_type": "stream",
       "stream": "stdout",
       "text": [
        "\n",
        "822\n",
        "[('SimplifiedModel_Reference_RelativeDRMS_None', 53.949818241928114)]"
       ]
      },
      {
       "output_type": "stream",
       "stream": "stdout",
       "text": [
        "\n",
        "823\n",
        "[('SimplifiedModel_Reference_RelativeDRMS_None', 51.954781237705724)]"
       ]
      },
      {
       "output_type": "stream",
       "stream": "stdout",
       "text": [
        "\n",
        "824\n",
        "[('SimplifiedModel_Reference_RelativeDRMS_None', 49.994719149604926)]"
       ]
      },
      {
       "output_type": "stream",
       "stream": "stdout",
       "text": [
        "\n",
        "825\n",
        "[('SimplifiedModel_Reference_RelativeDRMS_None', 48.614893507659154)]"
       ]
      },
      {
       "output_type": "stream",
       "stream": "stdout",
       "text": [
        "\n",
        "826\n",
        "[('SimplifiedModel_Reference_RelativeDRMS_None', 50.16227214301443)]"
       ]
      },
      {
       "output_type": "stream",
       "stream": "stdout",
       "text": [
        "\n",
        "827\n",
        "[('SimplifiedModel_Reference_RelativeDRMS_None', 50.03038133957967)]"
       ]
      },
      {
       "output_type": "stream",
       "stream": "stdout",
       "text": [
        "\n",
        "828\n",
        "[('SimplifiedModel_Reference_RelativeDRMS_None', 49.05613288831724)]"
       ]
      },
      {
       "output_type": "stream",
       "stream": "stdout",
       "text": [
        "\n",
        "829\n",
        "[('SimplifiedModel_Reference_RelativeDRMS_None', 49.66136020619625)]"
       ]
      },
      {
       "output_type": "stream",
       "stream": "stdout",
       "text": [
        "\n",
        "830\n",
        "[('SimplifiedModel_Reference_RelativeDRMS_None', 49.2696177207159)]"
       ]
      },
      {
       "output_type": "stream",
       "stream": "stdout",
       "text": [
        "\n",
        "831\n",
        "[('SimplifiedModel_Reference_RelativeDRMS_None', 50.071483432988224)]"
       ]
      },
      {
       "output_type": "stream",
       "stream": "stdout",
       "text": [
        "\n",
        "832\n",
        "[('SimplifiedModel_Reference_RelativeDRMS_None', 51.101401173812675)]"
       ]
      },
      {
       "output_type": "stream",
       "stream": "stdout",
       "text": [
        "\n",
        "833\n",
        "[('SimplifiedModel_Reference_RelativeDRMS_None', 50.65142316081322)]"
       ]
      },
      {
       "output_type": "stream",
       "stream": "stdout",
       "text": [
        "\n",
        "834\n",
        "[('SimplifiedModel_Reference_RelativeDRMS_None', 51.42954309321198)]"
       ]
      },
      {
       "output_type": "stream",
       "stream": "stdout",
       "text": [
        "\n",
        "835\n",
        "[('SimplifiedModel_Reference_RelativeDRMS_None', 51.48501655545421)]"
       ]
      },
      {
       "output_type": "stream",
       "stream": "stdout",
       "text": [
        "\n",
        "836\n",
        "[('SimplifiedModel_Reference_RelativeDRMS_None', 51.48180631784149)]"
       ]
      },
      {
       "output_type": "stream",
       "stream": "stdout",
       "text": [
        "\n",
        "837\n",
        "[('SimplifiedModel_Reference_RelativeDRMS_None', 51.955842623770465)]"
       ]
      },
      {
       "output_type": "stream",
       "stream": "stdout",
       "text": [
        "\n",
        "838\n",
        "[('SimplifiedModel_Reference_RelativeDRMS_None', 51.56821610252632)]"
       ]
      },
      {
       "output_type": "stream",
       "stream": "stdout",
       "text": [
        "\n",
        "839\n",
        "[('SimplifiedModel_Reference_RelativeDRMS_None', 53.19045617909318)]"
       ]
      },
      {
       "output_type": "stream",
       "stream": "stdout",
       "text": [
        "\n",
        "840\n",
        "[('SimplifiedModel_Reference_RelativeDRMS_None', 54.00417547774446)]"
       ]
      },
      {
       "output_type": "stream",
       "stream": "stdout",
       "text": [
        "\n",
        "841\n",
        "[('SimplifiedModel_Reference_RelativeDRMS_None', 54.972768312329904)]"
       ]
      },
      {
       "output_type": "stream",
       "stream": "stdout",
       "text": [
        "\n",
        "842\n",
        "[('SimplifiedModel_Reference_RelativeDRMS_None', 54.572634988479045)]"
       ]
      },
      {
       "output_type": "stream",
       "stream": "stdout",
       "text": [
        "\n",
        "843\n",
        "[('SimplifiedModel_Reference_RelativeDRMS_None', 54.87920539443122)]"
       ]
      },
      {
       "output_type": "stream",
       "stream": "stdout",
       "text": [
        "\n",
        "844\n",
        "[('SimplifiedModel_Reference_RelativeDRMS_None', 54.70689485372075)]"
       ]
      },
      {
       "output_type": "stream",
       "stream": "stdout",
       "text": [
        "\n",
        "845\n",
        "[('SimplifiedModel_Reference_RelativeDRMS_None', 53.67184231554406)]"
       ]
      },
      {
       "output_type": "stream",
       "stream": "stdout",
       "text": [
        "\n",
        "846\n",
        "[('SimplifiedModel_Reference_RelativeDRMS_None', 54.17663059650366)]"
       ]
      },
      {
       "output_type": "stream",
       "stream": "stdout",
       "text": [
        "\n",
        "847\n",
        "[('SimplifiedModel_Reference_RelativeDRMS_None', 54.13717165390888)]"
       ]
      },
      {
       "output_type": "stream",
       "stream": "stdout",
       "text": [
        "\n",
        "848\n",
        "[('SimplifiedModel_Reference_RelativeDRMS_None', 53.54295185073688)]"
       ]
      },
      {
       "output_type": "stream",
       "stream": "stdout",
       "text": [
        "\n",
        "849\n",
        "[('SimplifiedModel_Reference_RelativeDRMS_None', 54.33482115562978)]"
       ]
      },
      {
       "output_type": "stream",
       "stream": "stdout",
       "text": [
        "\n",
        "850\n",
        "[('SimplifiedModel_Reference_RelativeDRMS_None', 54.261101439162715)]"
       ]
      },
      {
       "output_type": "stream",
       "stream": "stdout",
       "text": [
        "\n",
        "851\n",
        "[('SimplifiedModel_Reference_RelativeDRMS_None', 54.17499477079694)]"
       ]
      },
      {
       "output_type": "stream",
       "stream": "stdout",
       "text": [
        "\n",
        "852\n",
        "[('SimplifiedModel_Reference_RelativeDRMS_None', 54.042052613298004)]"
       ]
      },
      {
       "output_type": "stream",
       "stream": "stdout",
       "text": [
        "\n",
        "853\n",
        "[('SimplifiedModel_Reference_RelativeDRMS_None', 55.344245529230164)]"
       ]
      },
      {
       "output_type": "stream",
       "stream": "stdout",
       "text": [
        "\n",
        "854\n",
        "[('SimplifiedModel_Reference_RelativeDRMS_None', 56.209315773484334)]"
       ]
      },
      {
       "output_type": "stream",
       "stream": "stdout",
       "text": [
        "\n",
        "855\n",
        "[('SimplifiedModel_Reference_RelativeDRMS_None', 55.377197415973455)]"
       ]
      },
      {
       "output_type": "stream",
       "stream": "stdout",
       "text": [
        "\n",
        "856\n",
        "[('SimplifiedModel_Reference_RelativeDRMS_None', 54.37090806193781)]"
       ]
      },
      {
       "output_type": "stream",
       "stream": "stdout",
       "text": [
        "\n",
        "857\n",
        "[('SimplifiedModel_Reference_RelativeDRMS_None', 52.0439115931043)]"
       ]
      },
      {
       "output_type": "stream",
       "stream": "stdout",
       "text": [
        "\n",
        "858\n",
        "[('SimplifiedModel_Reference_RelativeDRMS_None', 53.68891886204869)]"
       ]
      },
      {
       "output_type": "stream",
       "stream": "stdout",
       "text": [
        "\n",
        "859\n",
        "[('SimplifiedModel_Reference_RelativeDRMS_None', 54.133008904716306)]"
       ]
      },
      {
       "output_type": "stream",
       "stream": "stdout",
       "text": [
        "\n",
        "860\n",
        "[('SimplifiedModel_Reference_RelativeDRMS_None', 54.2967652883373)]"
       ]
      },
      {
       "output_type": "stream",
       "stream": "stdout",
       "text": [
        "\n",
        "861\n",
        "[('SimplifiedModel_Reference_RelativeDRMS_None', 54.78861656512417)]"
       ]
      },
      {
       "output_type": "stream",
       "stream": "stdout",
       "text": [
        "\n",
        "862\n",
        "[('SimplifiedModel_Reference_RelativeDRMS_None', 53.641936388310604)]"
       ]
      },
      {
       "output_type": "stream",
       "stream": "stdout",
       "text": [
        "\n",
        "863\n",
        "[('SimplifiedModel_Reference_RelativeDRMS_None', 53.64932722010632)]"
       ]
      },
      {
       "output_type": "stream",
       "stream": "stdout",
       "text": [
        "\n",
        "864\n",
        "[('SimplifiedModel_Reference_RelativeDRMS_None', 56.21303900556444)]"
       ]
      },
      {
       "output_type": "stream",
       "stream": "stdout",
       "text": [
        "\n",
        "865\n",
        "[('SimplifiedModel_Reference_RelativeDRMS_None', 56.19829214440051)]"
       ]
      },
      {
       "output_type": "stream",
       "stream": "stdout",
       "text": [
        "\n",
        "866\n",
        "[('SimplifiedModel_Reference_RelativeDRMS_None', 56.04462895466454)]"
       ]
      },
      {
       "output_type": "stream",
       "stream": "stdout",
       "text": [
        "\n",
        "867\n",
        "[('SimplifiedModel_Reference_RelativeDRMS_None', 54.70821203390192)]"
       ]
      },
      {
       "output_type": "stream",
       "stream": "stdout",
       "text": [
        "\n",
        "868\n",
        "[('SimplifiedModel_Reference_RelativeDRMS_None', 54.484171930217116)]"
       ]
      },
      {
       "output_type": "stream",
       "stream": "stdout",
       "text": [
        "\n",
        "869\n",
        "[('SimplifiedModel_Reference_RelativeDRMS_None', 53.342384520415706)]"
       ]
      },
      {
       "output_type": "stream",
       "stream": "stdout",
       "text": [
        "\n",
        "870\n",
        "[('SimplifiedModel_Reference_RelativeDRMS_None', 53.187974460644874)]"
       ]
      },
      {
       "output_type": "stream",
       "stream": "stdout",
       "text": [
        "\n",
        "871\n",
        "[('SimplifiedModel_Reference_RelativeDRMS_None', 52.11511323487091)]"
       ]
      },
      {
       "output_type": "stream",
       "stream": "stdout",
       "text": [
        "\n",
        "872\n",
        "[('SimplifiedModel_Reference_RelativeDRMS_None', 51.12469969333491)]"
       ]
      },
      {
       "output_type": "stream",
       "stream": "stdout",
       "text": [
        "\n",
        "873\n",
        "[('SimplifiedModel_Reference_RelativeDRMS_None', 50.89654303192627)]"
       ]
      },
      {
       "output_type": "stream",
       "stream": "stdout",
       "text": [
        "\n",
        "874\n",
        "[('SimplifiedModel_Reference_RelativeDRMS_None', 50.474882089400374)]"
       ]
      },
      {
       "output_type": "stream",
       "stream": "stdout",
       "text": [
        "\n",
        "875\n",
        "[('SimplifiedModel_Reference_RelativeDRMS_None', 48.56949053542963)]"
       ]
      },
      {
       "output_type": "stream",
       "stream": "stdout",
       "text": [
        "\n",
        "876\n",
        "[('SimplifiedModel_Reference_RelativeDRMS_None', 49.62708864348194)]"
       ]
      },
      {
       "output_type": "stream",
       "stream": "stdout",
       "text": [
        "\n",
        "877\n",
        "[('SimplifiedModel_Reference_RelativeDRMS_None', 49.75077949921982)]"
       ]
      },
      {
       "output_type": "stream",
       "stream": "stdout",
       "text": [
        "\n",
        "878\n",
        "[('SimplifiedModel_Reference_RelativeDRMS_None', 50.517018209576236)]"
       ]
      },
      {
       "output_type": "stream",
       "stream": "stdout",
       "text": [
        "\n",
        "879\n",
        "[('SimplifiedModel_Reference_RelativeDRMS_None', 52.43236247399217)]"
       ]
      },
      {
       "output_type": "stream",
       "stream": "stdout",
       "text": [
        "\n",
        "880\n",
        "[('SimplifiedModel_Reference_RelativeDRMS_None', 52.9442175307665)]"
       ]
      },
      {
       "output_type": "stream",
       "stream": "stdout",
       "text": [
        "\n",
        "881\n",
        "[('SimplifiedModel_Reference_RelativeDRMS_None', 51.160158583446744)]"
       ]
      },
      {
       "output_type": "stream",
       "stream": "stdout",
       "text": [
        "\n",
        "882\n",
        "[('SimplifiedModel_Reference_RelativeDRMS_None', 51.39249895422037)]"
       ]
      },
      {
       "output_type": "stream",
       "stream": "stdout",
       "text": [
        "\n",
        "883\n",
        "[('SimplifiedModel_Reference_RelativeDRMS_None', 51.02808308588225)]"
       ]
      },
      {
       "output_type": "stream",
       "stream": "stdout",
       "text": [
        "\n",
        "884\n",
        "[('SimplifiedModel_Reference_RelativeDRMS_None', 49.26384764551202)]"
       ]
      },
      {
       "output_type": "stream",
       "stream": "stdout",
       "text": [
        "\n",
        "885\n",
        "[('SimplifiedModel_Reference_RelativeDRMS_None', 49.525460363042)]"
       ]
      },
      {
       "output_type": "stream",
       "stream": "stdout",
       "text": [
        "\n",
        "886\n",
        "[('SimplifiedModel_Reference_RelativeDRMS_None', 50.017783609056906)]"
       ]
      },
      {
       "output_type": "stream",
       "stream": "stdout",
       "text": [
        "\n",
        "887\n",
        "[('SimplifiedModel_Reference_RelativeDRMS_None', 50.12351083938008)]"
       ]
      },
      {
       "output_type": "stream",
       "stream": "stdout",
       "text": [
        "\n",
        "888\n",
        "[('SimplifiedModel_Reference_RelativeDRMS_None', 50.90687096413662)]"
       ]
      },
      {
       "output_type": "stream",
       "stream": "stdout",
       "text": [
        "\n",
        "889\n",
        "[('SimplifiedModel_Reference_RelativeDRMS_None', 52.82008014877381)]"
       ]
      },
      {
       "output_type": "stream",
       "stream": "stdout",
       "text": [
        "\n",
        "890\n",
        "[('SimplifiedModel_Reference_RelativeDRMS_None', 53.58457363945302)]"
       ]
      },
      {
       "output_type": "stream",
       "stream": "stdout",
       "text": [
        "\n",
        "891\n",
        "[('SimplifiedModel_Reference_RelativeDRMS_None', 53.63342364445458)]"
       ]
      },
      {
       "output_type": "stream",
       "stream": "stdout",
       "text": [
        "\n",
        "892\n",
        "[('SimplifiedModel_Reference_RelativeDRMS_None', 53.25508158892008)]"
       ]
      },
      {
       "output_type": "stream",
       "stream": "stdout",
       "text": [
        "\n",
        "893\n",
        "[('SimplifiedModel_Reference_RelativeDRMS_None', 52.4533712781709)]"
       ]
      },
      {
       "output_type": "stream",
       "stream": "stdout",
       "text": [
        "\n",
        "894\n",
        "[('SimplifiedModel_Reference_RelativeDRMS_None', 50.978066046254064)]"
       ]
      },
      {
       "output_type": "stream",
       "stream": "stdout",
       "text": [
        "\n",
        "895\n",
        "[('SimplifiedModel_Reference_RelativeDRMS_None', 49.535356122286046)]"
       ]
      },
      {
       "output_type": "stream",
       "stream": "stdout",
       "text": [
        "\n",
        "896\n",
        "[('SimplifiedModel_Reference_RelativeDRMS_None', 48.120824270823725)]"
       ]
      },
      {
       "output_type": "stream",
       "stream": "stdout",
       "text": [
        "\n",
        "897\n",
        "[('SimplifiedModel_Reference_RelativeDRMS_None', 46.17387552477489)]"
       ]
      },
      {
       "output_type": "stream",
       "stream": "stdout",
       "text": [
        "\n",
        "898\n",
        "[('SimplifiedModel_Reference_RelativeDRMS_None', 47.084273501781816)]"
       ]
      },
      {
       "output_type": "stream",
       "stream": "stdout",
       "text": [
        "\n",
        "899\n",
        "[('SimplifiedModel_Reference_RelativeDRMS_None', 46.54202401064725)]"
       ]
      },
      {
       "output_type": "stream",
       "stream": "stdout",
       "text": [
        "\n",
        "900\n",
        "[('SimplifiedModel_Reference_RelativeDRMS_None', 46.12289941486155)]"
       ]
      },
      {
       "output_type": "stream",
       "stream": "stdout",
       "text": [
        "\n",
        "901\n",
        "[('SimplifiedModel_Reference_RelativeDRMS_None', 45.63911972602434)]"
       ]
      },
      {
       "output_type": "stream",
       "stream": "stdout",
       "text": [
        "\n",
        "902\n",
        "[('SimplifiedModel_Reference_RelativeDRMS_None', 45.66560848998458)]"
       ]
      },
      {
       "output_type": "stream",
       "stream": "stdout",
       "text": [
        "\n",
        "903\n",
        "[('SimplifiedModel_Reference_RelativeDRMS_None', 44.11213755411048)]"
       ]
      },
      {
       "output_type": "stream",
       "stream": "stdout",
       "text": [
        "\n",
        "904\n",
        "[('SimplifiedModel_Reference_RelativeDRMS_None', 45.89608420844302)]"
       ]
      },
      {
       "output_type": "stream",
       "stream": "stdout",
       "text": [
        "\n",
        "905\n",
        "[('SimplifiedModel_Reference_RelativeDRMS_None', 45.29497189444377)]"
       ]
      },
      {
       "output_type": "stream",
       "stream": "stdout",
       "text": [
        "\n",
        "906\n",
        "[('SimplifiedModel_Reference_RelativeDRMS_None', 44.3400383984622)]"
       ]
      },
      {
       "output_type": "stream",
       "stream": "stdout",
       "text": [
        "\n",
        "907\n",
        "[('SimplifiedModel_Reference_RelativeDRMS_None', 44.634706976531845)]"
       ]
      },
      {
       "output_type": "stream",
       "stream": "stdout",
       "text": [
        "\n",
        "908\n",
        "[('SimplifiedModel_Reference_RelativeDRMS_None', 45.60546489872357)]"
       ]
      },
      {
       "output_type": "stream",
       "stream": "stdout",
       "text": [
        "\n",
        "909\n",
        "[('SimplifiedModel_Reference_RelativeDRMS_None', 47.34435649281951)]"
       ]
      },
      {
       "output_type": "stream",
       "stream": "stdout",
       "text": [
        "\n",
        "910\n",
        "[('SimplifiedModel_Reference_RelativeDRMS_None', 47.43828424512871)]"
       ]
      },
      {
       "output_type": "stream",
       "stream": "stdout",
       "text": [
        "\n",
        "911\n",
        "[('SimplifiedModel_Reference_RelativeDRMS_None', 47.59586415001749)]"
       ]
      },
      {
       "output_type": "stream",
       "stream": "stdout",
       "text": [
        "\n",
        "912\n",
        "[('SimplifiedModel_Reference_RelativeDRMS_None', 47.99341263834236)]"
       ]
      },
      {
       "output_type": "stream",
       "stream": "stdout",
       "text": [
        "\n",
        "913\n",
        "[('SimplifiedModel_Reference_RelativeDRMS_None', 47.20378744465756)]"
       ]
      },
      {
       "output_type": "stream",
       "stream": "stdout",
       "text": [
        "\n",
        "914\n",
        "[('SimplifiedModel_Reference_RelativeDRMS_None', 49.12897128056482)]"
       ]
      },
      {
       "output_type": "stream",
       "stream": "stdout",
       "text": [
        "\n",
        "915\n",
        "[('SimplifiedModel_Reference_RelativeDRMS_None', 49.223042905018204)]"
       ]
      },
      {
       "output_type": "stream",
       "stream": "stdout",
       "text": [
        "\n",
        "916\n",
        "[('SimplifiedModel_Reference_RelativeDRMS_None', 49.05573017389589)]"
       ]
      },
      {
       "output_type": "stream",
       "stream": "stdout",
       "text": [
        "\n",
        "917\n",
        "[('SimplifiedModel_Reference_RelativeDRMS_None', 49.704460608259446)]"
       ]
      },
      {
       "output_type": "stream",
       "stream": "stdout",
       "text": [
        "\n",
        "918\n",
        "[('SimplifiedModel_Reference_RelativeDRMS_None', 49.3147339209811)]"
       ]
      },
      {
       "output_type": "stream",
       "stream": "stdout",
       "text": [
        "\n",
        "919\n",
        "[('SimplifiedModel_Reference_RelativeDRMS_None', 48.048178290813865)]"
       ]
      },
      {
       "output_type": "stream",
       "stream": "stdout",
       "text": [
        "\n",
        "920\n",
        "[('SimplifiedModel_Reference_RelativeDRMS_None', 49.015213520066)]"
       ]
      },
      {
       "output_type": "stream",
       "stream": "stdout",
       "text": [
        "\n",
        "921\n",
        "[('SimplifiedModel_Reference_RelativeDRMS_None', 47.10649767897309)]"
       ]
      },
      {
       "output_type": "stream",
       "stream": "stdout",
       "text": [
        "\n",
        "922\n",
        "[('SimplifiedModel_Reference_RelativeDRMS_None', 49.597369042149815)]"
       ]
      },
      {
       "output_type": "stream",
       "stream": "stdout",
       "text": [
        "\n",
        "923\n",
        "[('SimplifiedModel_Reference_RelativeDRMS_None', 47.724002790633264)]"
       ]
      },
      {
       "output_type": "stream",
       "stream": "stdout",
       "text": [
        "\n",
        "924\n",
        "[('SimplifiedModel_Reference_RelativeDRMS_None', 45.140082770270055)]"
       ]
      },
      {
       "output_type": "stream",
       "stream": "stdout",
       "text": [
        "\n",
        "925\n",
        "[('SimplifiedModel_Reference_RelativeDRMS_None', 45.865676298409824)]"
       ]
      },
      {
       "output_type": "stream",
       "stream": "stdout",
       "text": [
        "\n",
        "926\n",
        "[('SimplifiedModel_Reference_RelativeDRMS_None', 44.33022869173292)]"
       ]
      },
      {
       "output_type": "stream",
       "stream": "stdout",
       "text": [
        "\n",
        "927\n",
        "[('SimplifiedModel_Reference_RelativeDRMS_None', 44.86702733083495)]"
       ]
      },
      {
       "output_type": "stream",
       "stream": "stdout",
       "text": [
        "\n",
        "928\n",
        "[('SimplifiedModel_Reference_RelativeDRMS_None', 45.15243309554217)]"
       ]
      },
      {
       "output_type": "stream",
       "stream": "stdout",
       "text": [
        "\n",
        "929\n",
        "[('SimplifiedModel_Reference_RelativeDRMS_None', 44.61634475469272)]"
       ]
      },
      {
       "output_type": "stream",
       "stream": "stdout",
       "text": [
        "\n",
        "930\n",
        "[('SimplifiedModel_Reference_RelativeDRMS_None', 45.83425403119398)]"
       ]
      },
      {
       "output_type": "stream",
       "stream": "stdout",
       "text": [
        "\n",
        "931\n",
        "[('SimplifiedModel_Reference_RelativeDRMS_None', 47.26696357235985)]"
       ]
      },
      {
       "output_type": "stream",
       "stream": "stdout",
       "text": [
        "\n",
        "932\n",
        "[('SimplifiedModel_Reference_RelativeDRMS_None', 45.950150438243256)]"
       ]
      },
      {
       "output_type": "stream",
       "stream": "stdout",
       "text": [
        "\n",
        "933\n",
        "[('SimplifiedModel_Reference_RelativeDRMS_None', 46.59686840473284)]"
       ]
      },
      {
       "output_type": "stream",
       "stream": "stdout",
       "text": [
        "\n",
        "934\n",
        "[('SimplifiedModel_Reference_RelativeDRMS_None', 46.10571981868078)]"
       ]
      },
      {
       "output_type": "stream",
       "stream": "stdout",
       "text": [
        "\n",
        "935\n",
        "[('SimplifiedModel_Reference_RelativeDRMS_None', 47.58655735383409)]"
       ]
      },
      {
       "output_type": "stream",
       "stream": "stdout",
       "text": [
        "\n",
        "936\n",
        "[('SimplifiedModel_Reference_RelativeDRMS_None', 45.97596491500348)]"
       ]
      },
      {
       "output_type": "stream",
       "stream": "stdout",
       "text": [
        "\n",
        "937\n",
        "[('SimplifiedModel_Reference_RelativeDRMS_None', 45.02161704260827)]"
       ]
      },
      {
       "output_type": "stream",
       "stream": "stdout",
       "text": [
        "\n",
        "938\n",
        "[('SimplifiedModel_Reference_RelativeDRMS_None', 45.83453637537156)]"
       ]
      },
      {
       "output_type": "stream",
       "stream": "stdout",
       "text": [
        "\n",
        "939\n",
        "[('SimplifiedModel_Reference_RelativeDRMS_None', 46.47067313898535)]"
       ]
      },
      {
       "output_type": "stream",
       "stream": "stdout",
       "text": [
        "\n",
        "940\n",
        "[('SimplifiedModel_Reference_RelativeDRMS_None', 45.16451634466028)]"
       ]
      },
      {
       "output_type": "stream",
       "stream": "stdout",
       "text": [
        "\n",
        "941\n",
        "[('SimplifiedModel_Reference_RelativeDRMS_None', 45.673299239834684)]"
       ]
      },
      {
       "output_type": "stream",
       "stream": "stdout",
       "text": [
        "\n",
        "942\n",
        "[('SimplifiedModel_Reference_RelativeDRMS_None', 45.20717124710841)]"
       ]
      },
      {
       "output_type": "stream",
       "stream": "stdout",
       "text": [
        "\n",
        "943\n",
        "[('SimplifiedModel_Reference_RelativeDRMS_None', 45.76117041549824)]"
       ]
      },
      {
       "output_type": "stream",
       "stream": "stdout",
       "text": [
        "\n",
        "944\n",
        "[('SimplifiedModel_Reference_RelativeDRMS_None', 44.84437088223509)]"
       ]
      },
      {
       "output_type": "stream",
       "stream": "stdout",
       "text": [
        "\n",
        "945\n",
        "[('SimplifiedModel_Reference_RelativeDRMS_None', 46.597564764467045)]"
       ]
      },
      {
       "output_type": "stream",
       "stream": "stdout",
       "text": [
        "\n",
        "946\n",
        "[('SimplifiedModel_Reference_RelativeDRMS_None', 45.48933875240691)]"
       ]
      },
      {
       "output_type": "stream",
       "stream": "stdout",
       "text": [
        "\n",
        "947\n",
        "[('SimplifiedModel_Reference_RelativeDRMS_None', 46.01239338138711)]"
       ]
      },
      {
       "output_type": "stream",
       "stream": "stdout",
       "text": [
        "\n",
        "948\n",
        "[('SimplifiedModel_Reference_RelativeDRMS_None', 46.6071522262285)]"
       ]
      },
      {
       "output_type": "stream",
       "stream": "stdout",
       "text": [
        "\n",
        "949\n",
        "[('SimplifiedModel_Reference_RelativeDRMS_None', 45.36859071143312)]"
       ]
      },
      {
       "output_type": "stream",
       "stream": "stdout",
       "text": [
        "\n",
        "950\n",
        "[('SimplifiedModel_Reference_RelativeDRMS_None', 45.486956617798185)]"
       ]
      },
      {
       "output_type": "stream",
       "stream": "stdout",
       "text": [
        "\n",
        "951\n",
        "[('SimplifiedModel_Reference_RelativeDRMS_None', 45.93112298606817)]"
       ]
      },
      {
       "output_type": "stream",
       "stream": "stdout",
       "text": [
        "\n",
        "952\n",
        "[('SimplifiedModel_Reference_RelativeDRMS_None', 46.363030204670295)]"
       ]
      },
      {
       "output_type": "stream",
       "stream": "stdout",
       "text": [
        "\n",
        "953\n",
        "[('SimplifiedModel_Reference_RelativeDRMS_None', 47.30348295513396)]"
       ]
      },
      {
       "output_type": "stream",
       "stream": "stdout",
       "text": [
        "\n",
        "954\n",
        "[('SimplifiedModel_Reference_RelativeDRMS_None', 49.83464241807407)]"
       ]
      },
      {
       "output_type": "stream",
       "stream": "stdout",
       "text": [
        "\n",
        "955\n",
        "[('SimplifiedModel_Reference_RelativeDRMS_None', 49.52445807637403)]"
       ]
      },
      {
       "output_type": "stream",
       "stream": "stdout",
       "text": [
        "\n",
        "956\n",
        "[('SimplifiedModel_Reference_RelativeDRMS_None', 49.597293225487)]"
       ]
      },
      {
       "output_type": "stream",
       "stream": "stdout",
       "text": [
        "\n",
        "957\n",
        "[('SimplifiedModel_Reference_RelativeDRMS_None', 50.10793005251488)]"
       ]
      },
      {
       "output_type": "stream",
       "stream": "stdout",
       "text": [
        "\n",
        "958\n",
        "[('SimplifiedModel_Reference_RelativeDRMS_None', 52.15316930894551)]"
       ]
      },
      {
       "output_type": "stream",
       "stream": "stdout",
       "text": [
        "\n",
        "959\n",
        "[('SimplifiedModel_Reference_RelativeDRMS_None', 53.44136291531299)]"
       ]
      },
      {
       "output_type": "stream",
       "stream": "stdout",
       "text": [
        "\n",
        "960\n",
        "[('SimplifiedModel_Reference_RelativeDRMS_None', 55.201042029601446)]"
       ]
      },
      {
       "output_type": "stream",
       "stream": "stdout",
       "text": [
        "\n",
        "961\n",
        "[('SimplifiedModel_Reference_RelativeDRMS_None', 57.09604516800833)]"
       ]
      },
      {
       "output_type": "stream",
       "stream": "stdout",
       "text": [
        "\n",
        "962\n",
        "[('SimplifiedModel_Reference_RelativeDRMS_None', 57.443901783486766)]"
       ]
      },
      {
       "output_type": "stream",
       "stream": "stdout",
       "text": [
        "\n",
        "963\n",
        "[('SimplifiedModel_Reference_RelativeDRMS_None', 53.301452086362104)]"
       ]
      },
      {
       "output_type": "stream",
       "stream": "stdout",
       "text": [
        "\n",
        "964\n",
        "[('SimplifiedModel_Reference_RelativeDRMS_None', 52.62536085437678)]"
       ]
      },
      {
       "output_type": "stream",
       "stream": "stdout",
       "text": [
        "\n",
        "965\n",
        "[('SimplifiedModel_Reference_RelativeDRMS_None', 51.90735234077389)]"
       ]
      },
      {
       "output_type": "stream",
       "stream": "stdout",
       "text": [
        "\n",
        "966\n",
        "[('SimplifiedModel_Reference_RelativeDRMS_None', 49.90413735969363)]"
       ]
      },
      {
       "output_type": "stream",
       "stream": "stdout",
       "text": [
        "\n",
        "967\n",
        "[('SimplifiedModel_Reference_RelativeDRMS_None', 49.665038445408726)]"
       ]
      },
      {
       "output_type": "stream",
       "stream": "stdout",
       "text": [
        "\n",
        "968\n",
        "[('SimplifiedModel_Reference_RelativeDRMS_None', 51.492172212333095)]"
       ]
      },
      {
       "output_type": "stream",
       "stream": "stdout",
       "text": [
        "\n",
        "969\n",
        "[('SimplifiedModel_Reference_RelativeDRMS_None', 51.40261691121892)]"
       ]
      },
      {
       "output_type": "stream",
       "stream": "stdout",
       "text": [
        "\n",
        "970\n",
        "[('SimplifiedModel_Reference_RelativeDRMS_None', 51.7439510232996)]"
       ]
      },
      {
       "output_type": "stream",
       "stream": "stdout",
       "text": [
        "\n",
        "971\n",
        "[('SimplifiedModel_Reference_RelativeDRMS_None', 53.4969840153548)]"
       ]
      },
      {
       "output_type": "stream",
       "stream": "stdout",
       "text": [
        "\n",
        "972\n",
        "[('SimplifiedModel_Reference_RelativeDRMS_None', 53.173723235207596)]"
       ]
      },
      {
       "output_type": "stream",
       "stream": "stdout",
       "text": [
        "\n",
        "973\n",
        "[('SimplifiedModel_Reference_RelativeDRMS_None', 56.08414795555828)]"
       ]
      },
      {
       "output_type": "stream",
       "stream": "stdout",
       "text": [
        "\n",
        "974\n",
        "[('SimplifiedModel_Reference_RelativeDRMS_None', 58.01812019961979)]"
       ]
      },
      {
       "output_type": "stream",
       "stream": "stdout",
       "text": [
        "\n",
        "975\n",
        "[('SimplifiedModel_Reference_RelativeDRMS_None', 58.418562254347854)]"
       ]
      },
      {
       "output_type": "stream",
       "stream": "stdout",
       "text": [
        "\n",
        "976\n",
        "[('SimplifiedModel_Reference_RelativeDRMS_None', 58.76092602868644)]"
       ]
      },
      {
       "output_type": "stream",
       "stream": "stdout",
       "text": [
        "\n",
        "977\n",
        "[('SimplifiedModel_Reference_RelativeDRMS_None', 60.42401676351508)]"
       ]
      },
      {
       "output_type": "stream",
       "stream": "stdout",
       "text": [
        "\n",
        "978\n",
        "[('SimplifiedModel_Reference_RelativeDRMS_None', 60.58146358826891)]"
       ]
      },
      {
       "output_type": "stream",
       "stream": "stdout",
       "text": [
        "\n",
        "979\n",
        "[('SimplifiedModel_Reference_RelativeDRMS_None', 61.713460264599284)]"
       ]
      },
      {
       "output_type": "stream",
       "stream": "stdout",
       "text": [
        "\n",
        "980\n",
        "[('SimplifiedModel_Reference_RelativeDRMS_None', 61.026279486859345)]"
       ]
      },
      {
       "output_type": "stream",
       "stream": "stdout",
       "text": [
        "\n",
        "981\n",
        "[('SimplifiedModel_Reference_RelativeDRMS_None', 61.859154599827356)]"
       ]
      },
      {
       "output_type": "stream",
       "stream": "stdout",
       "text": [
        "\n",
        "982\n",
        "[('SimplifiedModel_Reference_RelativeDRMS_None', 63.30680937169872)]"
       ]
      },
      {
       "output_type": "stream",
       "stream": "stdout",
       "text": [
        "\n",
        "983\n",
        "[('SimplifiedModel_Reference_RelativeDRMS_None', 63.463606544217804)]"
       ]
      },
      {
       "output_type": "stream",
       "stream": "stdout",
       "text": [
        "\n",
        "984\n",
        "[('SimplifiedModel_Reference_RelativeDRMS_None', 62.836126279475764)]"
       ]
      },
      {
       "output_type": "stream",
       "stream": "stdout",
       "text": [
        "\n",
        "985\n",
        "[('SimplifiedModel_Reference_RelativeDRMS_None', 63.620474474916826)]"
       ]
      },
      {
       "output_type": "stream",
       "stream": "stdout",
       "text": [
        "\n",
        "986\n",
        "[('SimplifiedModel_Reference_RelativeDRMS_None', 64.23746763603107)]"
       ]
      },
      {
       "output_type": "stream",
       "stream": "stdout",
       "text": [
        "\n",
        "987\n",
        "[('SimplifiedModel_Reference_RelativeDRMS_None', 63.30178688975157)]"
       ]
      },
      {
       "output_type": "stream",
       "stream": "stdout",
       "text": [
        "\n",
        "988\n",
        "[('SimplifiedModel_Reference_RelativeDRMS_None', 64.55605314629832)]"
       ]
      },
      {
       "output_type": "stream",
       "stream": "stdout",
       "text": [
        "\n",
        "989\n",
        "[('SimplifiedModel_Reference_RelativeDRMS_None', 65.76986450493493)]"
       ]
      },
      {
       "output_type": "stream",
       "stream": "stdout",
       "text": [
        "\n",
        "990\n",
        "[('SimplifiedModel_Reference_RelativeDRMS_None', 65.72882241793654)]"
       ]
      },
      {
       "output_type": "stream",
       "stream": "stdout",
       "text": [
        "\n",
        "991\n",
        "[('SimplifiedModel_Reference_RelativeDRMS_None', 66.70783241588829)]"
       ]
      },
      {
       "output_type": "stream",
       "stream": "stdout",
       "text": [
        "\n",
        "992\n",
        "[('SimplifiedModel_Reference_RelativeDRMS_None', 63.569542973174194)]"
       ]
      },
      {
       "output_type": "stream",
       "stream": "stdout",
       "text": [
        "\n",
        "993\n",
        "[('SimplifiedModel_Reference_RelativeDRMS_None', 61.96868390203306)]"
       ]
      },
      {
       "output_type": "stream",
       "stream": "stdout",
       "text": [
        "\n",
        "994\n",
        "[('SimplifiedModel_Reference_RelativeDRMS_None', 58.81909908760453)]"
       ]
      },
      {
       "output_type": "stream",
       "stream": "stdout",
       "text": [
        "\n",
        "995\n",
        "[('SimplifiedModel_Reference_RelativeDRMS_None', 60.572813032947906)]"
       ]
      },
      {
       "output_type": "stream",
       "stream": "stdout",
       "text": [
        "\n",
        "996\n",
        "[('SimplifiedModel_Reference_RelativeDRMS_None', 58.52971228455729)]"
       ]
      },
      {
       "output_type": "stream",
       "stream": "stdout",
       "text": [
        "\n",
        "997\n",
        "[('SimplifiedModel_Reference_RelativeDRMS_None', 58.83771309405074)]"
       ]
      },
      {
       "output_type": "stream",
       "stream": "stdout",
       "text": [
        "\n",
        "998\n",
        "[('SimplifiedModel_Reference_RelativeDRMS_None', 59.650170030642784)]"
       ]
      },
      {
       "output_type": "stream",
       "stream": "stdout",
       "text": [
        "\n",
        "999\n",
        "[('SimplifiedModel_Reference_RelativeDRMS_None', 60.78968825250364)]"
       ]
      },
      {
       "output_type": "stream",
       "stream": "stdout",
       "text": [
        "\n"
       ]
      }
     ],
     "prompt_number": 14
    },
    {
     "cell_type": "code",
     "collapsed": false,
     "input": [
      "po=IMP.pmi.output.ProcessOutput(\"modeling.stat\")"
     ],
     "language": "python",
     "metadata": {},
     "outputs": [],
     "prompt_number": 3
    },
    {
     "cell_type": "code",
     "collapsed": false,
     "input": [
      "for k in po.get_keys():\n",
      "    print k"
     ],
     "language": "python",
     "metadata": {},
     "outputs": [
      {
       "output_type": "stream",
       "stream": "stdout",
       "text": [
        "ExcludedVolumeSphere_None\n",
        "LinkerRestraint-Rpb10_1-20_bead-Rpb10_21-24_bead_None\n",
        "LinkerRestraint-Rpb10_21-24_bead-Rpb10_25_pdb_None\n",
        "LinkerRestraint-Rpb11_65_pdb-Rpb11_66-85_bead_None\n",
        "LinkerRestraint-Rpb11_66-85_bead-Rpb11_86-105_bead_None\n",
        "LinkerRestraint-Rpb11_86-105_bead-Rpb11_106-120_bead_None\n",
        "LinkerRestraint-Rpb1_1081_pdb-Rpb1_1082-1091_bead_None\n",
        "LinkerRestraint-Rpb1_1082-1091_bead-Rpb1_1092_pdb_None\n",
        "LinkerRestraint-Rpb1_1176_pdb-Rpb1_1177-1186_bead_None\n",
        "LinkerRestraint-Rpb1_1177-1186_bead-Rpb1_1187_pdb_None\n",
        "LinkerRestraint-Rpb1_1243_pdb-Rpb1_1244-1253_bead_None\n",
        "LinkerRestraint-Rpb1_1244-1253_bead-Rpb1_1254_pdb_None\n",
        "LinkerRestraint-Rpb1_1455_pdb-Rpb1_1456-1475_bead_None\n",
        "LinkerRestraint-Rpb1_1456-1475_bead-Rpb1_1476-1495_bead_None\n",
        "LinkerRestraint-Rpb1_1476-1495_bead-Rpb1_1496-1515_bead_None\n",
        "LinkerRestraint-Rpb1_1496-1515_bead-Rpb1_1516-1535_bead_None\n",
        "LinkerRestraint-Rpb1_1516-1535_bead-Rpb1_1536-1555_bead_None\n",
        "LinkerRestraint-Rpb1_1536-1555_bead-Rpb1_1556-1575_bead_None\n",
        "LinkerRestraint-Rpb1_1556-1575_bead-Rpb1_1576-1595_bead_None\n",
        "LinkerRestraint-Rpb1_1576-1595_bead-Rpb1_1596-1615_bead_None\n",
        "LinkerRestraint-Rpb1_1596-1615_bead-Rpb1_1616-1635_bead_None\n",
        "LinkerRestraint-Rpb1_1616-1635_bead-Rpb1_1636-1655_bead_None\n",
        "LinkerRestraint-Rpb1_1636-1655_bead-Rpb1_1656-1675_bead_None\n",
        "LinkerRestraint-Rpb1_1656-1675_bead-Rpb1_1676-1695_bead_None\n",
        "LinkerRestraint-Rpb1_1676-1695_bead-Rpb1_1696-1715_bead_None\n",
        "LinkerRestraint-Rpb1_1696-1715_bead-Rpb1_1716-1733_bead_None\n",
        "LinkerRestraint-Rpb1_186_pdb-Rpb1_187-194_bead_None\n",
        "LinkerRestraint-Rpb1_187-194_bead-Rpb1_195_pdb_None\n",
        "LinkerRestraint-Rpb1_1_bead-Rpb1_2_pdb_None\n",
        "LinkerRestraint-Rpb2_1-19_bead-Rpb2_20_pdb_None\n",
        "LinkerRestraint-Rpb2_134_pdb-Rpb2_135-154_bead_None\n",
        "LinkerRestraint-Rpb2_135-154_bead-Rpb2_155-163_bead_None\n",
        "LinkerRestraint-Rpb2_155-163_bead-Rpb2_164_pdb_None\n",
        "LinkerRestraint-Rpb2_335_pdb-Rpb2_336-344_bead_None\n",
        "LinkerRestraint-Rpb2_336-344_bead-Rpb2_345_pdb_None\n",
        "LinkerRestraint-Rpb2_437_pdb-Rpb2_438-445_bead_None\n",
        "LinkerRestraint-Rpb2_438-445_bead-Rpb2_446_pdb_None\n",
        "LinkerRestraint-Rpb2_467_pdb-Rpb2_468-476_bead_None\n",
        "LinkerRestraint-Rpb2_468-476_bead-Rpb2_477_pdb_None\n",
        "LinkerRestraint-Rpb2_502_pdb-Rpb2_503-508_bead_None\n",
        "LinkerRestraint-Rpb2_503-508_bead-Rpb2_509_pdb_None\n",
        "LinkerRestraint-Rpb2_668_pdb-Rpb2_669-677_bead_None\n",
        "LinkerRestraint-Rpb2_669-677_bead-Rpb2_678_pdb_None\n",
        "LinkerRestraint-Rpb2_70_pdb-Rpb2_71-89_bead_None\n",
        "LinkerRestraint-Rpb2_71-89_bead-Rpb2_90_pdb_None\n",
        "LinkerRestraint-Rpb2_715_pdb-Rpb2_716-721_bead_None\n",
        "LinkerRestraint-Rpb2_716-721_bead-Rpb2_722_pdb_None\n",
        "LinkerRestraint-Rpb2_919_pdb-Rpb2_920-932_bead_None\n",
        "LinkerRestraint-Rpb2_920-932_bead-Rpb2_933_pdb_None\n",
        "LinkerRestraint-Rpb3_1-2_bead-Rpb3_3_pdb_None\n",
        "LinkerRestraint-Rpb3_268_pdb-Rpb3_269-288_bead_None\n",
        "LinkerRestraint-Rpb3_269-288_bead-Rpb3_289-308_bead_None\n",
        "LinkerRestraint-Rpb3_289-308_bead-Rpb3_309-318_bead_None\n",
        "LinkerRestraint-Rpb4_1-3_bead-Rpb4_4_pdb_None\n",
        "LinkerRestraint-Rpb4_117_bead-Rpb4_118_pdb_None\n",
        "LinkerRestraint-Rpb4_76_pdb-Rpb4_77-96_bead_None\n",
        "LinkerRestraint-Rpb4_77-96_bead-Rpb4_97-116_bead_None\n",
        "LinkerRestraint-Rpb4_97-116_bead-Rpb4_117_bead_None\n",
        "LinkerRestraint-Rpb5_1_bead-Rpb5_2_pdb_None\n",
        "LinkerRestraint-Rpb6_1-20_bead-Rpb6_21-40_bead_None\n",
        "LinkerRestraint-Rpb6_21-40_bead-Rpb6_41-60_bead_None\n",
        "LinkerRestraint-Rpb6_41-60_bead-Rpb6_61-71_bead_None\n",
        "LinkerRestraint-Rpb6_61-71_bead-Rpb6_72_pdb_None\n",
        "LinkerRestraint-Rpb8_1_bead-Rpb8_2_pdb_None\n",
        "LinkerRestraint-Rpb8_63_pdb-Rpb8_64-75_bead_None\n",
        "LinkerRestraint-Rpb8_64-75_bead-Rpb8_76_pdb_None\n",
        "LinkerRestraint-Rpb9_120_pdb-Rpb9_121-122_bead_None\n",
        "LinkerRestraint-Rpb9_1_bead-Rpb9_2_pdb_None\n",
        "MonteCarlo_Acceptance_Floppy_Bodies_SimplifiedModel_12\n",
        "MonteCarlo_Acceptance_Floppy_Bodies_SimplifiedModel_13\n",
        "MonteCarlo_Acceptance_Floppy_Bodies_SimplifiedModel_14\n",
        "MonteCarlo_Acceptance_Floppy_Bodies_SimplifiedModel_15\n",
        "MonteCarlo_Acceptance_Floppy_Bodies_SimplifiedModel_16\n",
        "MonteCarlo_Acceptance_Floppy_Bodies_SimplifiedModel_17\n",
        "MonteCarlo_Acceptance_Floppy_Bodies_SimplifiedModel_18\n",
        "MonteCarlo_Acceptance_Floppy_Bodies_SimplifiedModel_19\n",
        "MonteCarlo_Acceptance_Floppy_Bodies_SimplifiedModel_20\n",
        "MonteCarlo_Acceptance_Floppy_Bodies_SimplifiedModel_21\n",
        "MonteCarlo_Acceptance_Floppy_Bodies_SimplifiedModel_22\n",
        "MonteCarlo_Acceptance_Floppy_Bodies_SimplifiedModel_23\n",
        "MonteCarlo_Acceptance_Floppy_Bodies_SimplifiedModel_24\n",
        "MonteCarlo_Acceptance_Floppy_Bodies_SimplifiedModel_25\n",
        "MonteCarlo_Acceptance_Floppy_Bodies_SimplifiedModel_26\n",
        "MonteCarlo_Acceptance_Floppy_Bodies_SimplifiedModel_27\n",
        "MonteCarlo_Acceptance_Floppy_Bodies_SimplifiedModel_28\n",
        "MonteCarlo_Acceptance_Floppy_Bodies_SimplifiedModel_29\n",
        "MonteCarlo_Acceptance_Floppy_Bodies_SimplifiedModel_30\n",
        "MonteCarlo_Acceptance_Floppy_Bodies_SimplifiedModel_31\n",
        "MonteCarlo_Acceptance_Floppy_Bodies_SimplifiedModel_32\n",
        "MonteCarlo_Acceptance_Floppy_Bodies_SimplifiedModel_33\n",
        "MonteCarlo_Acceptance_Floppy_Bodies_SimplifiedModel_34\n",
        "MonteCarlo_Acceptance_Floppy_Bodies_SimplifiedModel_35\n",
        "MonteCarlo_Acceptance_Floppy_Bodies_SimplifiedModel_36\n",
        "MonteCarlo_Acceptance_Floppy_Bodies_SimplifiedModel_37\n",
        "MonteCarlo_Acceptance_Floppy_Bodies_SimplifiedModel_38\n",
        "MonteCarlo_Acceptance_Floppy_Bodies_SimplifiedModel_39\n",
        "MonteCarlo_Acceptance_Floppy_Bodies_SimplifiedModel_40\n",
        "MonteCarlo_Acceptance_Floppy_Bodies_SimplifiedModel_41\n",
        "MonteCarlo_Acceptance_Floppy_Bodies_SimplifiedModel_42\n",
        "MonteCarlo_Acceptance_Floppy_Bodies_SimplifiedModel_43\n",
        "MonteCarlo_Acceptance_Floppy_Bodies_SimplifiedModel_44\n",
        "MonteCarlo_Acceptance_Floppy_Bodies_SimplifiedModel_45\n",
        "MonteCarlo_Acceptance_Floppy_Bodies_SimplifiedModel_46\n",
        "MonteCarlo_Acceptance_Floppy_Bodies_SimplifiedModel_47\n",
        "MonteCarlo_Acceptance_Floppy_Bodies_SimplifiedModel_48\n",
        "MonteCarlo_Acceptance_Floppy_Bodies_SimplifiedModel_49\n",
        "MonteCarlo_Acceptance_Floppy_Bodies_SimplifiedModel_50\n",
        "MonteCarlo_Acceptance_Floppy_Bodies_SimplifiedModel_51\n",
        "MonteCarlo_Acceptance_Floppy_Bodies_SimplifiedModel_52\n",
        "MonteCarlo_Acceptance_Floppy_Bodies_SimplifiedModel_53\n",
        "MonteCarlo_Acceptance_Floppy_Bodies_SimplifiedModel_54\n",
        "MonteCarlo_Acceptance_Floppy_Bodies_SimplifiedModel_55\n",
        "MonteCarlo_Acceptance_Floppy_Bodies_SimplifiedModel_56\n",
        "MonteCarlo_Acceptance_Floppy_Bodies_SimplifiedModel_57\n",
        "MonteCarlo_Acceptance_Floppy_Bodies_SimplifiedModel_58\n",
        "MonteCarlo_Acceptance_Floppy_Bodies_SimplifiedModel_59\n",
        "MonteCarlo_Acceptance_Floppy_Bodies_SimplifiedModel_60\n",
        "MonteCarlo_Acceptance_Floppy_Bodies_SimplifiedModel_61\n",
        "MonteCarlo_Acceptance_Floppy_Bodies_SimplifiedModel_62\n",
        "MonteCarlo_Acceptance_Floppy_Bodies_SimplifiedModel_63\n",
        "MonteCarlo_Acceptance_Rigid_Bodies_SimplifiedModel_0\n",
        "MonteCarlo_Acceptance_Rigid_Bodies_SimplifiedModel_1\n",
        "MonteCarlo_Acceptance_Rigid_Bodies_SimplifiedModel_10\n",
        "MonteCarlo_Acceptance_Rigid_Bodies_SimplifiedModel_11\n",
        "MonteCarlo_Acceptance_Rigid_Bodies_SimplifiedModel_2\n",
        "MonteCarlo_Acceptance_Rigid_Bodies_SimplifiedModel_3\n",
        "MonteCarlo_Acceptance_Rigid_Bodies_SimplifiedModel_4\n",
        "MonteCarlo_Acceptance_Rigid_Bodies_SimplifiedModel_5\n",
        "MonteCarlo_Acceptance_Rigid_Bodies_SimplifiedModel_6\n",
        "MonteCarlo_Acceptance_Rigid_Bodies_SimplifiedModel_7\n",
        "MonteCarlo_Acceptance_Rigid_Bodies_SimplifiedModel_8\n",
        "MonteCarlo_Acceptance_Rigid_Bodies_SimplifiedModel_9\n",
        "MonteCarlo_Nframe\n",
        "MonteCarlo_Temperature\n",
        "SigmoidalCrossLinkMS_Distance_1003:Rpb1_166:Rpb5\n",
        "SigmoidalCrossLinkMS_Distance_1003:Rpb1_197:Rpb5\n",
        "SigmoidalCrossLinkMS_Distance_1003:Rpb1_67:Rpb6\n",
        "SigmoidalCrossLinkMS_Distance_1057:Rpb2_199:Rpb3\n",
        "SigmoidalCrossLinkMS_Distance_1093:Rpb1_1102:Rpb1\n",
        "SigmoidalCrossLinkMS_Distance_1102:Rpb1_332:Rpb1\n",
        "SigmoidalCrossLinkMS_Distance_1102:Rpb1_510:Rpb2\n",
        "SigmoidalCrossLinkMS_Distance_1102:Rpb2_987:Rpb2\n",
        "SigmoidalCrossLinkMS_Distance_1109:Rpb1_507:Rpb2\n",
        "SigmoidalCrossLinkMS_Distance_1112:Rpb1_1093:Rpb1\n",
        "SigmoidalCrossLinkMS_Distance_1112:Rpb1_1102:Rpb1\n",
        "SigmoidalCrossLinkMS_Distance_1112:Rpb1_507:Rpb2\n",
        "SigmoidalCrossLinkMS_Distance_1112:Rpb1_773:Rpb1\n",
        "SigmoidalCrossLinkMS_Distance_1112:Rpb1_830:Rpb1\n",
        "SigmoidalCrossLinkMS_Distance_1132:Rpb1_1286:Rpb1\n",
        "SigmoidalCrossLinkMS_Distance_1132:Rpb1_705:Rpb1\n",
        "SigmoidalCrossLinkMS_Distance_1148:Rpb2_1:Rpb1\n",
        "SigmoidalCrossLinkMS_Distance_121:Rpb4_60:Rpb4\n",
        "SigmoidalCrossLinkMS_Distance_123:Rpb6_129:Rpb6\n",
        "SigmoidalCrossLinkMS_Distance_1262:Rpb1_1246:Rpb1\n",
        "SigmoidalCrossLinkMS_Distance_129:Rpb1_161:Rpb5\n",
        "SigmoidalCrossLinkMS_Distance_129:Rpb1_171:Rpb5\n",
        "SigmoidalCrossLinkMS_Distance_129:Rpb1_67:Rpb6\n",
        "SigmoidalCrossLinkMS_Distance_1300:Rpb1_1093:Rpb1\n",
        "SigmoidalCrossLinkMS_Distance_1300:Rpb1_1286:Rpb1\n",
        "SigmoidalCrossLinkMS_Distance_1350:Rpb1_1093:Rpb1\n",
        "SigmoidalCrossLinkMS_Distance_1350:Rpb1_201:Rpb5\n",
        "SigmoidalCrossLinkMS_Distance_140:Rpb7_139:Rpb4\n",
        "SigmoidalCrossLinkMS_Distance_148:Rpb2_87:Rpb2\n",
        "SigmoidalCrossLinkMS_Distance_152:Rpb5_201:Rpb5\n",
        "SigmoidalCrossLinkMS_Distance_154:Rpb3_161:Rpb3\n",
        "SigmoidalCrossLinkMS_Distance_15:Rpb1_171:Rpb5\n",
        "SigmoidalCrossLinkMS_Distance_15:Rpb1_176:Rpb1\n",
        "SigmoidalCrossLinkMS_Distance_15:Rpb1_1:Rpb1\n",
        "SigmoidalCrossLinkMS_Distance_15:Rpb1_34:Rpb1\n",
        "SigmoidalCrossLinkMS_Distance_15:Rpb1_67:Rpb6\n",
        "SigmoidalCrossLinkMS_Distance_15:Rpb1_72:Rpb6\n",
        "SigmoidalCrossLinkMS_Distance_15:Rpb1_73:Rpb7\n",
        "SigmoidalCrossLinkMS_Distance_15:Rpb3_137:Rpb3\n",
        "SigmoidalCrossLinkMS_Distance_171:Rpb5_166:Rpb5\n",
        "SigmoidalCrossLinkMS_Distance_18:Rpb11_253:Rpb3\n",
        "SigmoidalCrossLinkMS_Distance_1:Rpb1_343:Rpb1\n",
        "SigmoidalCrossLinkMS_Distance_1:Rpb1_72:Rpb6\n",
        "SigmoidalCrossLinkMS_Distance_1:Rpb1_886:Rpb2\n",
        "SigmoidalCrossLinkMS_Distance_1:Rpb1_934:Rpb2\n",
        "SigmoidalCrossLinkMS_Distance_201:Rpb5_197:Rpb5\n",
        "SigmoidalCrossLinkMS_Distance_20:Rpb11_72:Rpb11\n",
        "SigmoidalCrossLinkMS_Distance_227:Rpb2_1093:Rpb1\n",
        "SigmoidalCrossLinkMS_Distance_227:Rpb2_507:Rpb2\n",
        "SigmoidalCrossLinkMS_Distance_227:Rpb2_510:Rpb2\n",
        "SigmoidalCrossLinkMS_Distance_228:Rpb2_246:Rpb2\n",
        "SigmoidalCrossLinkMS_Distance_228:Rpb2_257:Rpb2\n",
        "SigmoidalCrossLinkMS_Distance_228:Rpb2_270:Rpb2\n",
        "SigmoidalCrossLinkMS_Distance_228:Rpb2_277:Rpb2\n",
        "SigmoidalCrossLinkMS_Distance_228:Rpb2_510:Rpb2\n",
        "SigmoidalCrossLinkMS_Distance_23:Rpb7_70:Rpb6\n",
        "SigmoidalCrossLinkMS_Distance_23:Rpb7_76:Rpb4\n",
        "SigmoidalCrossLinkMS_Distance_246:Rpb2_471:Rpb2\n",
        "SigmoidalCrossLinkMS_Distance_246:Rpb2_507:Rpb2\n",
        "SigmoidalCrossLinkMS_Distance_253:Rpb3_161:Rpb3\n",
        "SigmoidalCrossLinkMS_Distance_253:Rpb3_165:Rpb3\n",
        "SigmoidalCrossLinkMS_Distance_26:Rpb11_644:Rpb1\n",
        "SigmoidalCrossLinkMS_Distance_277:Rpb2_246:Rpb2\n",
        "SigmoidalCrossLinkMS_Distance_323:Rpb1_176:Rpb1\n",
        "SigmoidalCrossLinkMS_Distance_323:Rpb1_330:Rpb1\n",
        "SigmoidalCrossLinkMS_Distance_323:Rpb1_332:Rpb1\n",
        "SigmoidalCrossLinkMS_Distance_330:Rpb1_176:Rpb1\n",
        "SigmoidalCrossLinkMS_Distance_330:Rpb1_471:Rpb2\n",
        "SigmoidalCrossLinkMS_Distance_330:Rpb1_507:Rpb2\n",
        "SigmoidalCrossLinkMS_Distance_332:Rpb1_176:Rpb1\n",
        "SigmoidalCrossLinkMS_Distance_332:Rpb1_471:Rpb2\n",
        "SigmoidalCrossLinkMS_Distance_343:Rpb1_1102:Rpb2\n",
        "SigmoidalCrossLinkMS_Distance_343:Rpb1_330:Rpb1\n",
        "SigmoidalCrossLinkMS_Distance_343:Rpb1_332:Rpb1\n",
        "SigmoidalCrossLinkMS_Distance_34:Rpb1_49:Rpb1\n",
        "SigmoidalCrossLinkMS_Distance_353:Rpb2_345:Rpb2\n",
        "SigmoidalCrossLinkMS_Distance_353:Rpb2_347:Rpb2\n",
        "SigmoidalCrossLinkMS_Distance_358:Rpb2_246:Rpb2\n",
        "SigmoidalCrossLinkMS_Distance_368:Rpb1_37:Rpb11\n",
        "SigmoidalCrossLinkMS_Distance_368:Rpb1_461:Rpb1\n",
        "SigmoidalCrossLinkMS_Distance_372:Rpb1_1102:Rpb2\n",
        "SigmoidalCrossLinkMS_Distance_372:Rpb1_403:Rpb1\n",
        "SigmoidalCrossLinkMS_Distance_37:Rpb11_165:Rpb3\n",
        "SigmoidalCrossLinkMS_Distance_403:Rpb1_1102:Rpb2\n",
        "SigmoidalCrossLinkMS_Distance_403:Rpb1_1:Rpb1\n",
        "SigmoidalCrossLinkMS_Distance_426:Rpb2_422:Rpb2\n",
        "SigmoidalCrossLinkMS_Distance_426:Rpb2_471:Rpb2\n",
        "SigmoidalCrossLinkMS_Distance_431:Rpb1_1:Rpb1\n",
        "SigmoidalCrossLinkMS_Distance_458:Rpb2_471:Rpb2\n",
        "SigmoidalCrossLinkMS_Distance_45:Rpb5_20:Rpb5\n",
        "SigmoidalCrossLinkMS_Distance_461:Rpb1_644:Rpb1\n",
        "SigmoidalCrossLinkMS_Distance_470:Rpb2_423:Rpb2\n",
        "SigmoidalCrossLinkMS_Distance_471:Rpb2_323:Rpb1\n",
        "SigmoidalCrossLinkMS_Distance_471:Rpb2_422:Rpb2\n",
        "SigmoidalCrossLinkMS_Distance_471:Rpb2_507:Rpb2\n",
        "SigmoidalCrossLinkMS_Distance_507:Rpb2_1093:Rpb1\n",
        "SigmoidalCrossLinkMS_Distance_507:Rpb2_1102:Rpb1\n",
        "SigmoidalCrossLinkMS_Distance_507:Rpb2_228:Rpb2\n",
        "SigmoidalCrossLinkMS_Distance_507:Rpb2_332:Rpb1\n",
        "SigmoidalCrossLinkMS_Distance_59:Rpb10_813:Rpb2\n",
        "SigmoidalCrossLinkMS_Distance_606:Rpb2_606:Rpb2\n",
        "SigmoidalCrossLinkMS_Distance_652:Rpb2_606:Rpb2\n",
        "SigmoidalCrossLinkMS_Distance_67:Rpb6_161:Rpb5\n",
        "SigmoidalCrossLinkMS_Distance_67:Rpb6_166:Rpb5\n",
        "SigmoidalCrossLinkMS_Distance_688:Rpb1_728:Rpb1\n",
        "SigmoidalCrossLinkMS_Distance_689:Rpb1_728:Rpb1\n",
        "SigmoidalCrossLinkMS_Distance_68:Rpb10_149:Rpb3\n",
        "SigmoidalCrossLinkMS_Distance_68:Rpb10_59:Rpb10\n",
        "SigmoidalCrossLinkMS_Distance_705:Rpb1_1093:Rpb1\n",
        "SigmoidalCrossLinkMS_Distance_705:Rpb1_1286:Rpb1\n",
        "SigmoidalCrossLinkMS_Distance_705:Rpb1_689:Rpb1\n",
        "SigmoidalCrossLinkMS_Distance_70:Rpb6_171:Rpb5\n",
        "SigmoidalCrossLinkMS_Distance_71:Rpb4_75:Rpb4\n",
        "SigmoidalCrossLinkMS_Distance_72:Rpb6_166:Rpb5\n",
        "SigmoidalCrossLinkMS_Distance_72:Rpb6_171:Rpb5\n",
        "SigmoidalCrossLinkMS_Distance_738:Rpb1_728:Rpb1\n",
        "SigmoidalCrossLinkMS_Distance_73:Rpb7_70:Rpb6\n",
        "SigmoidalCrossLinkMS_Distance_73:Rpb7_72:Rpb6\n",
        "SigmoidalCrossLinkMS_Distance_76:Rpb4_71:Rpb4\n",
        "SigmoidalCrossLinkMS_Distance_76:Rpb6_1003:Rpb1\n",
        "SigmoidalCrossLinkMS_Distance_76:Rpb6_23:Rpb7\n",
        "SigmoidalCrossLinkMS_Distance_773:Rpb1_1093:Rpb1\n",
        "SigmoidalCrossLinkMS_Distance_775:Rpb2_1102:Rpb2\n",
        "SigmoidalCrossLinkMS_Distance_775:Rpb2_987:Rpb2\n",
        "SigmoidalCrossLinkMS_Distance_830:Rpb1_1092:Rpb1\n",
        "SigmoidalCrossLinkMS_Distance_830:Rpb1_1093:Rpb1\n",
        "SigmoidalCrossLinkMS_Distance_830:Rpb1_1102:Rpb1\n",
        "SigmoidalCrossLinkMS_Distance_830:Rpb1_507:Rpb2\n",
        "SigmoidalCrossLinkMS_Distance_843:Rpb1_332:Rpb1\n",
        "SigmoidalCrossLinkMS_Distance_84:Rpb11_55:Rpb11\n",
        "SigmoidalCrossLinkMS_Distance_864:Rpb2_471:Rpb2\n",
        "SigmoidalCrossLinkMS_Distance_864:Rpb2_58:Rpb12\n",
        "SigmoidalCrossLinkMS_Distance_864:Rpb2_934:Rpb2\n",
        "SigmoidalCrossLinkMS_Distance_865:Rpb2_934:Rpb2\n",
        "SigmoidalCrossLinkMS_Distance_880:Rpb1_620:Rpb1\n",
        "SigmoidalCrossLinkMS_Distance_886:Rpb2_343:Rpb1\n",
        "SigmoidalCrossLinkMS_Distance_88:Rpb11_55:Rpb11\n",
        "SigmoidalCrossLinkMS_Distance_934:Rpb2_330:Rpb1\n",
        "SigmoidalCrossLinkMS_Distance_934:Rpb2_332:Rpb1\n",
        "SigmoidalCrossLinkMS_Distance_934:Rpb2_343:Rpb1\n",
        "SigmoidalCrossLinkMS_Distance_934:Rpb2_419:Rpb1\n",
        "SigmoidalCrossLinkMS_Distance_934:Rpb2_49:Rpb1\n",
        "SigmoidalCrossLinkMS_Distance_938:Rpb1_941:Rpb1\n",
        "SigmoidalCrossLinkMS_Distance_941:Rpb1_201:Rpb5\n",
        "SigmoidalCrossLinkMS_Distance_94:Rpb2_164:Rpb2\n",
        "SigmoidalCrossLinkMS_Distance_962:Rpb2_58:Rpb12\n",
        "SigmoidalCrossLinkMS_Distance_972:Rpb2_1102:Rpb2\n",
        "SigmoidalCrossLinkMS_Distance_972:Rpb2_962:Rpb2\n",
        "SigmoidalCrossLinkMS_Distance_979:Rpb2_1102:Rpb2\n",
        "SigmoidalCrossLinkMS_Distance_979:Rpb2_987:Rpb2\n",
        "SigmoidalCrossLinkMS_Distance_99:Rpb2_164:Rpb2\n",
        "SigmoidalCrossLinkMS_Score_None\n",
        "SigmoidalCrossLinkMS_Score_standard_1003:Rpb1_166:Rpb5\n",
        "SigmoidalCrossLinkMS_Score_standard_1003:Rpb1_197:Rpb5\n",
        "SigmoidalCrossLinkMS_Score_standard_1003:Rpb1_67:Rpb6\n",
        "SigmoidalCrossLinkMS_Score_standard_1057:Rpb2_199:Rpb3\n",
        "SigmoidalCrossLinkMS_Score_standard_1093:Rpb1_1102:Rpb1\n",
        "SigmoidalCrossLinkMS_Score_standard_1102:Rpb1_332:Rpb1\n",
        "SigmoidalCrossLinkMS_Score_standard_1102:Rpb1_510:Rpb2\n",
        "SigmoidalCrossLinkMS_Score_standard_1102:Rpb2_987:Rpb2\n",
        "SigmoidalCrossLinkMS_Score_standard_1109:Rpb1_507:Rpb2\n",
        "SigmoidalCrossLinkMS_Score_standard_1112:Rpb1_1093:Rpb1\n",
        "SigmoidalCrossLinkMS_Score_standard_1112:Rpb1_1102:Rpb1\n",
        "SigmoidalCrossLinkMS_Score_standard_1112:Rpb1_507:Rpb2\n",
        "SigmoidalCrossLinkMS_Score_standard_1112:Rpb1_773:Rpb1\n",
        "SigmoidalCrossLinkMS_Score_standard_1112:Rpb1_830:Rpb1\n",
        "SigmoidalCrossLinkMS_Score_standard_1132:Rpb1_1286:Rpb1\n",
        "SigmoidalCrossLinkMS_Score_standard_1132:Rpb1_705:Rpb1\n",
        "SigmoidalCrossLinkMS_Score_standard_1148:Rpb2_1:Rpb1\n",
        "SigmoidalCrossLinkMS_Score_standard_121:Rpb4_60:Rpb4\n",
        "SigmoidalCrossLinkMS_Score_standard_123:Rpb6_129:Rpb6\n",
        "SigmoidalCrossLinkMS_Score_standard_1262:Rpb1_1246:Rpb1\n",
        "SigmoidalCrossLinkMS_Score_standard_129:Rpb1_161:Rpb5\n",
        "SigmoidalCrossLinkMS_Score_standard_129:Rpb1_171:Rpb5\n",
        "SigmoidalCrossLinkMS_Score_standard_129:Rpb1_67:Rpb6\n",
        "SigmoidalCrossLinkMS_Score_standard_1300:Rpb1_1093:Rpb1\n",
        "SigmoidalCrossLinkMS_Score_standard_1300:Rpb1_1286:Rpb1\n",
        "SigmoidalCrossLinkMS_Score_standard_1350:Rpb1_1093:Rpb1\n",
        "SigmoidalCrossLinkMS_Score_standard_1350:Rpb1_201:Rpb5\n",
        "SigmoidalCrossLinkMS_Score_standard_140:Rpb7_139:Rpb4\n",
        "SigmoidalCrossLinkMS_Score_standard_148:Rpb2_87:Rpb2\n",
        "SigmoidalCrossLinkMS_Score_standard_152:Rpb5_201:Rpb5\n",
        "SigmoidalCrossLinkMS_Score_standard_154:Rpb3_161:Rpb3\n",
        "SigmoidalCrossLinkMS_Score_standard_15:Rpb1_171:Rpb5\n",
        "SigmoidalCrossLinkMS_Score_standard_15:Rpb1_176:Rpb1\n",
        "SigmoidalCrossLinkMS_Score_standard_15:Rpb1_1:Rpb1\n",
        "SigmoidalCrossLinkMS_Score_standard_15:Rpb1_34:Rpb1\n",
        "SigmoidalCrossLinkMS_Score_standard_15:Rpb1_67:Rpb6\n",
        "SigmoidalCrossLinkMS_Score_standard_15:Rpb1_72:Rpb6\n",
        "SigmoidalCrossLinkMS_Score_standard_15:Rpb1_73:Rpb7\n",
        "SigmoidalCrossLinkMS_Score_standard_15:Rpb3_137:Rpb3\n",
        "SigmoidalCrossLinkMS_Score_standard_171:Rpb5_166:Rpb5\n",
        "SigmoidalCrossLinkMS_Score_standard_18:Rpb11_253:Rpb3\n",
        "SigmoidalCrossLinkMS_Score_standard_1:Rpb1_343:Rpb1\n",
        "SigmoidalCrossLinkMS_Score_standard_1:Rpb1_72:Rpb6\n",
        "SigmoidalCrossLinkMS_Score_standard_1:Rpb1_886:Rpb2\n",
        "SigmoidalCrossLinkMS_Score_standard_1:Rpb1_934:Rpb2\n",
        "SigmoidalCrossLinkMS_Score_standard_201:Rpb5_197:Rpb5\n",
        "SigmoidalCrossLinkMS_Score_standard_20:Rpb11_72:Rpb11\n",
        "SigmoidalCrossLinkMS_Score_standard_227:Rpb2_1093:Rpb1\n",
        "SigmoidalCrossLinkMS_Score_standard_227:Rpb2_507:Rpb2\n",
        "SigmoidalCrossLinkMS_Score_standard_227:Rpb2_510:Rpb2\n",
        "SigmoidalCrossLinkMS_Score_standard_228:Rpb2_246:Rpb2\n",
        "SigmoidalCrossLinkMS_Score_standard_228:Rpb2_257:Rpb2\n",
        "SigmoidalCrossLinkMS_Score_standard_228:Rpb2_270:Rpb2\n",
        "SigmoidalCrossLinkMS_Score_standard_228:Rpb2_277:Rpb2\n",
        "SigmoidalCrossLinkMS_Score_standard_228:Rpb2_510:Rpb2\n",
        "SigmoidalCrossLinkMS_Score_standard_23:Rpb7_70:Rpb6\n",
        "SigmoidalCrossLinkMS_Score_standard_23:Rpb7_76:Rpb4\n",
        "SigmoidalCrossLinkMS_Score_standard_246:Rpb2_471:Rpb2\n",
        "SigmoidalCrossLinkMS_Score_standard_246:Rpb2_507:Rpb2\n",
        "SigmoidalCrossLinkMS_Score_standard_253:Rpb3_161:Rpb3\n",
        "SigmoidalCrossLinkMS_Score_standard_253:Rpb3_165:Rpb3\n",
        "SigmoidalCrossLinkMS_Score_standard_26:Rpb11_644:Rpb1\n",
        "SigmoidalCrossLinkMS_Score_standard_277:Rpb2_246:Rpb2\n",
        "SigmoidalCrossLinkMS_Score_standard_323:Rpb1_176:Rpb1\n",
        "SigmoidalCrossLinkMS_Score_standard_323:Rpb1_330:Rpb1\n",
        "SigmoidalCrossLinkMS_Score_standard_323:Rpb1_332:Rpb1\n",
        "SigmoidalCrossLinkMS_Score_standard_330:Rpb1_176:Rpb1\n",
        "SigmoidalCrossLinkMS_Score_standard_330:Rpb1_471:Rpb2\n",
        "SigmoidalCrossLinkMS_Score_standard_330:Rpb1_507:Rpb2\n",
        "SigmoidalCrossLinkMS_Score_standard_332:Rpb1_176:Rpb1\n",
        "SigmoidalCrossLinkMS_Score_standard_332:Rpb1_471:Rpb2\n",
        "SigmoidalCrossLinkMS_Score_standard_343:Rpb1_1102:Rpb2\n",
        "SigmoidalCrossLinkMS_Score_standard_343:Rpb1_330:Rpb1\n",
        "SigmoidalCrossLinkMS_Score_standard_343:Rpb1_332:Rpb1\n",
        "SigmoidalCrossLinkMS_Score_standard_34:Rpb1_49:Rpb1\n",
        "SigmoidalCrossLinkMS_Score_standard_353:Rpb2_345:Rpb2\n",
        "SigmoidalCrossLinkMS_Score_standard_353:Rpb2_347:Rpb2\n",
        "SigmoidalCrossLinkMS_Score_standard_358:Rpb2_246:Rpb2\n",
        "SigmoidalCrossLinkMS_Score_standard_368:Rpb1_37:Rpb11\n",
        "SigmoidalCrossLinkMS_Score_standard_368:Rpb1_461:Rpb1\n",
        "SigmoidalCrossLinkMS_Score_standard_372:Rpb1_1102:Rpb2\n",
        "SigmoidalCrossLinkMS_Score_standard_372:Rpb1_403:Rpb1\n",
        "SigmoidalCrossLinkMS_Score_standard_37:Rpb11_165:Rpb3\n",
        "SigmoidalCrossLinkMS_Score_standard_403:Rpb1_1102:Rpb2\n",
        "SigmoidalCrossLinkMS_Score_standard_403:Rpb1_1:Rpb1\n",
        "SigmoidalCrossLinkMS_Score_standard_426:Rpb2_422:Rpb2\n",
        "SigmoidalCrossLinkMS_Score_standard_426:Rpb2_471:Rpb2\n",
        "SigmoidalCrossLinkMS_Score_standard_431:Rpb1_1:Rpb1\n",
        "SigmoidalCrossLinkMS_Score_standard_458:Rpb2_471:Rpb2\n",
        "SigmoidalCrossLinkMS_Score_standard_45:Rpb5_20:Rpb5\n",
        "SigmoidalCrossLinkMS_Score_standard_461:Rpb1_644:Rpb1\n",
        "SigmoidalCrossLinkMS_Score_standard_470:Rpb2_423:Rpb2\n",
        "SigmoidalCrossLinkMS_Score_standard_471:Rpb2_323:Rpb1\n",
        "SigmoidalCrossLinkMS_Score_standard_471:Rpb2_422:Rpb2\n",
        "SigmoidalCrossLinkMS_Score_standard_471:Rpb2_507:Rpb2\n",
        "SigmoidalCrossLinkMS_Score_standard_507:Rpb2_1093:Rpb1\n",
        "SigmoidalCrossLinkMS_Score_standard_507:Rpb2_1102:Rpb1\n",
        "SigmoidalCrossLinkMS_Score_standard_507:Rpb2_228:Rpb2\n",
        "SigmoidalCrossLinkMS_Score_standard_507:Rpb2_332:Rpb1\n",
        "SigmoidalCrossLinkMS_Score_standard_59:Rpb10_813:Rpb2\n",
        "SigmoidalCrossLinkMS_Score_standard_606:Rpb2_606:Rpb2\n",
        "SigmoidalCrossLinkMS_Score_standard_652:Rpb2_606:Rpb2\n",
        "SigmoidalCrossLinkMS_Score_standard_67:Rpb6_161:Rpb5\n",
        "SigmoidalCrossLinkMS_Score_standard_67:Rpb6_166:Rpb5\n",
        "SigmoidalCrossLinkMS_Score_standard_688:Rpb1_728:Rpb1\n",
        "SigmoidalCrossLinkMS_Score_standard_689:Rpb1_728:Rpb1\n",
        "SigmoidalCrossLinkMS_Score_standard_68:Rpb10_149:Rpb3\n",
        "SigmoidalCrossLinkMS_Score_standard_68:Rpb10_59:Rpb10\n",
        "SigmoidalCrossLinkMS_Score_standard_705:Rpb1_1093:Rpb1\n",
        "SigmoidalCrossLinkMS_Score_standard_705:Rpb1_1286:Rpb1\n",
        "SigmoidalCrossLinkMS_Score_standard_705:Rpb1_689:Rpb1\n",
        "SigmoidalCrossLinkMS_Score_standard_70:Rpb6_171:Rpb5\n",
        "SigmoidalCrossLinkMS_Score_standard_71:Rpb4_75:Rpb4\n",
        "SigmoidalCrossLinkMS_Score_standard_72:Rpb6_166:Rpb5\n",
        "SigmoidalCrossLinkMS_Score_standard_72:Rpb6_171:Rpb5\n",
        "SigmoidalCrossLinkMS_Score_standard_738:Rpb1_728:Rpb1\n",
        "SigmoidalCrossLinkMS_Score_standard_73:Rpb7_70:Rpb6\n",
        "SigmoidalCrossLinkMS_Score_standard_73:Rpb7_72:Rpb6\n",
        "SigmoidalCrossLinkMS_Score_standard_76:Rpb4_71:Rpb4\n",
        "SigmoidalCrossLinkMS_Score_standard_76:Rpb6_1003:Rpb1\n",
        "SigmoidalCrossLinkMS_Score_standard_76:Rpb6_23:Rpb7\n",
        "SigmoidalCrossLinkMS_Score_standard_773:Rpb1_1093:Rpb1\n",
        "SigmoidalCrossLinkMS_Score_standard_775:Rpb2_1102:Rpb2\n",
        "SigmoidalCrossLinkMS_Score_standard_775:Rpb2_987:Rpb2\n",
        "SigmoidalCrossLinkMS_Score_standard_830:Rpb1_1092:Rpb1\n",
        "SigmoidalCrossLinkMS_Score_standard_830:Rpb1_1093:Rpb1\n",
        "SigmoidalCrossLinkMS_Score_standard_830:Rpb1_1102:Rpb1\n",
        "SigmoidalCrossLinkMS_Score_standard_830:Rpb1_507:Rpb2\n",
        "SigmoidalCrossLinkMS_Score_standard_843:Rpb1_332:Rpb1\n",
        "SigmoidalCrossLinkMS_Score_standard_84:Rpb11_55:Rpb11\n",
        "SigmoidalCrossLinkMS_Score_standard_864:Rpb2_471:Rpb2\n",
        "SigmoidalCrossLinkMS_Score_standard_864:Rpb2_58:Rpb12\n",
        "SigmoidalCrossLinkMS_Score_standard_864:Rpb2_934:Rpb2\n",
        "SigmoidalCrossLinkMS_Score_standard_865:Rpb2_934:Rpb2\n",
        "SigmoidalCrossLinkMS_Score_standard_880:Rpb1_620:Rpb1\n",
        "SigmoidalCrossLinkMS_Score_standard_886:Rpb2_343:Rpb1\n",
        "SigmoidalCrossLinkMS_Score_standard_88:Rpb11_55:Rpb11\n",
        "SigmoidalCrossLinkMS_Score_standard_934:Rpb2_330:Rpb1\n",
        "SigmoidalCrossLinkMS_Score_standard_934:Rpb2_332:Rpb1\n",
        "SigmoidalCrossLinkMS_Score_standard_934:Rpb2_343:Rpb1\n",
        "SigmoidalCrossLinkMS_Score_standard_934:Rpb2_419:Rpb1\n",
        "SigmoidalCrossLinkMS_Score_standard_934:Rpb2_49:Rpb1\n",
        "SigmoidalCrossLinkMS_Score_standard_938:Rpb1_941:Rpb1\n",
        "SigmoidalCrossLinkMS_Score_standard_941:Rpb1_201:Rpb5\n",
        "SigmoidalCrossLinkMS_Score_standard_94:Rpb2_164:Rpb2\n",
        "SigmoidalCrossLinkMS_Score_standard_962:Rpb2_58:Rpb12\n",
        "SigmoidalCrossLinkMS_Score_standard_972:Rpb2_1102:Rpb2\n",
        "SigmoidalCrossLinkMS_Score_standard_972:Rpb2_962:Rpb2\n",
        "SigmoidalCrossLinkMS_Score_standard_979:Rpb2_1102:Rpb2\n",
        "SigmoidalCrossLinkMS_Score_standard_979:Rpb2_987:Rpb2\n",
        "SigmoidalCrossLinkMS_Score_standard_99:Rpb2_164:Rpb2\n",
        "SimplifiedModel_Link_SortedSegments_Rpb10_None\n",
        "SimplifiedModel_Link_SortedSegments_Rpb11_None\n",
        "SimplifiedModel_Link_SortedSegments_Rpb12_None\n",
        "SimplifiedModel_Link_SortedSegments_Rpb1_None\n",
        "SimplifiedModel_Link_SortedSegments_Rpb2_None\n",
        "SimplifiedModel_Link_SortedSegments_Rpb3_None\n",
        "SimplifiedModel_Link_SortedSegments_Rpb4_None\n",
        "SimplifiedModel_Link_SortedSegments_Rpb5_None\n",
        "SimplifiedModel_Link_SortedSegments_Rpb6_None\n",
        "SimplifiedModel_Link_SortedSegments_Rpb7_None\n",
        "SimplifiedModel_Link_SortedSegments_Rpb8_None\n",
        "SimplifiedModel_Link_SortedSegments_Rpb9_None\n",
        "SimplifiedModel_Link_UnmodeledRegions_Rpb10_None\n",
        "SimplifiedModel_Link_UnmodeledRegions_Rpb11_None\n",
        "SimplifiedModel_Link_UnmodeledRegions_Rpb12_None\n",
        "SimplifiedModel_Link_UnmodeledRegions_Rpb1_None\n",
        "SimplifiedModel_Link_UnmodeledRegions_Rpb2_None\n",
        "SimplifiedModel_Link_UnmodeledRegions_Rpb3_None\n",
        "SimplifiedModel_Link_UnmodeledRegions_Rpb4_None\n",
        "SimplifiedModel_Link_UnmodeledRegions_Rpb5_None\n",
        "SimplifiedModel_Link_UnmodeledRegions_Rpb6_None\n",
        "SimplifiedModel_Link_UnmodeledRegions_Rpb7_None\n",
        "SimplifiedModel_Link_UnmodeledRegions_Rpb8_None\n",
        "SimplifiedModel_Link_UnmodeledRegions_Rpb9_None\n",
        "SimplifiedModel_Linker_Score_None\n",
        "SimplifiedModel_Reference_GlobalRMSD_None\n",
        "SimplifiedModel_Reference_RelativeDRMS_None\n",
        "SimplifiedModel_Total_Score_None\n"
       ]
      }
     ],
     "prompt_number": 4
    },
    {
     "cell_type": "code",
     "collapsed": false,
     "input": [
      "print \"SimplifiedModel_Total_Score_None\", \"SimplifiedModel_Reference_RelativeDRMS_None\"\n",
      "fs=po.get_fields([\"SimplifiedModel_Total_Score_None\", \"SimplifiedModel_Reference_RelativeDRMS_None\", \"ExcludedVolumeSphere_None\"])"
     ],
     "language": "python",
     "metadata": {},
     "outputs": [
      {
       "output_type": "stream",
       "stream": "stdout",
       "text": [
        "SimplifiedModel_Total_Score_None SimplifiedModel_Reference_RelativeDRMS_None\n"
       ]
      }
     ],
     "prompt_number": 5
    },
    {
     "cell_type": "code",
     "collapsed": false,
     "input": [
      "%  matplotlib inline\n",
      "IMP.pmi.output.plot_scatter_xy_data(fs[\"SimplifiedModel_Reference_RelativeDRMS_None\"],\n",
      "                                    fs[\"SimplifiedModel_Total_Score_None\"],\n",
      "                                    labelx=\"RMSD\",labely=\"Score\",\n",
      "                                    xmin=0,xmax=200,ymin=600,ymax=2000)"
     ],
     "language": "python",
     "metadata": {},
     "outputs": [
      {
       "output_type": "stream",
       "stream": "stderr",
       "text": [
        "/Library/Python/2.7/site-packages/matplotlib-1.3.0-py2.7-macosx-10.8-intel.egg/matplotlib/axes.py:4747: UserWarning: No labeled objects found. Use label='...' kwarg on individual plots.\n",
        "  warnings.warn(\"No labeled objects found. \"\n"
       ]
      },
      {
       "metadata": {},
       "output_type": "display_data",
       "png": "[encoded data removed]",
       "text": [
        "<matplotlib.figure.Figure at 0x1118085d0>"
       ]
      }
     ],
     "prompt_number": 6
    },
    {
     "cell_type": "code",
     "collapsed": false,
     "input": [
      "IMP.pmi.output.plot_fields(fs,framemin=100)"
     ],
     "language": "python",
     "metadata": {},
     "outputs": [
      {
       "metadata": {},
       "output_type": "display_data",
       "png": "[encoded data removed]",
       "text": [
        "<matplotlib.figure.Figure at 0x1120d94d0>"
       ]
      }
     ],
     "prompt_number": 7
    },
    {
     "cell_type": "code",
     "collapsed": false,
     "input": [
      "IMP.pmi.output.plot_field_histogram(\"RMSD\",fs[\"SimplifiedModel_Reference_RelativeDRMS_None\"],valuename=\"RMSD [Ang]\")"
     ],
     "language": "python",
     "metadata": {},
     "outputs": [
      {
       "metadata": {},
       "output_type": "display_data",
       "png": "[encoded data removed]",
       "text": [
        "<matplotlib.figure.Figure at 0x111e26950>"
       ]
      }
     ],
     "prompt_number": 8
    },
    {
     "cell_type": "code",
     "collapsed": false,
     "input": [],
     "language": "python",
     "metadata": {},
     "outputs": []
    }
   ],
   "metadata": {}
  }
 ]
}