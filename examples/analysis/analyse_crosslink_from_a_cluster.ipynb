{
 "metadata": {
  "name": ""
 },
 "nbformat": 3,
 "nbformat_minor": 0,
 "worksheets": [
  {
   "cells": [
    {
     "cell_type": "markdown",
     "metadata": {},
     "source": [
      "This script when it is run in a clustering directory"
     ]
    },
    {
     "cell_type": "code",
     "collapsed": false,
     "input": [
      "import IMP\n",
      "import IMP.pmi\n",
      "import IMP.pmi.analysis\n",
      "\n",
      "model=IMP.Model()\n",
      "rmf_file='0.rmf3'\n",
      "frame_number=0\n",
      "prot=IMP.pmi.analysis.get_hier_from_rmf(model,frame_number,rmf_file)\n",
      "\n",
      "\n",
      "\n",
      "cm=IMP.pmi.analysis.CrossLinkTable()\n",
      "\n",
      "# Since the protein names and the residue numbers are retrieved from the stat file,\n",
      "# you have to provide the positions within the key of the corresponding fields\n",
      "# after splitting at every \"_\" , \"-\" and \":\"\n",
      "# example key ISDCrossLinkMS_Distance_intrarb_937-State:0-108:PROT1_55:PROT2-1-1-0.1_None\n",
      "# resid1 = 6 , chain1 = 7 , resid2 = 8 , chain2 = 9\n",
      "\n",
      "namemap={}\n",
      "namemap[\"Protein1\"]=7\n",
      "namemap[\"Protein2\"]=9\n",
      "namemap[\"Residue1\"]=6\n",
      "namemap[\"Residue2\"]=8\n",
      "\n",
      "\n",
      "cm.set_crosslinks(\"stat.out\",search_label='ISDCrossLinkMS_Distance_',mapping=namemap)\n",
      "cm.set_hierarchy(prot)\n",
      "cm.plot(filename=\"xl_all\")"
     ],
     "language": "python",
     "metadata": {},
     "outputs": []
    }
   ],
   "metadata": {}
  }
 ]
}