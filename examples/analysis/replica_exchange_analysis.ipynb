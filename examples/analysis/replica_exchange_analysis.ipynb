{
 "metadata": {
  "name": "replica_exchange_analysis"
 },
 "nbformat": 3,
 "nbformat_minor": 0,
 "worksheets": [
  {
   "cells": [
    {
     "cell_type": "code",
     "collapsed": false,
     "input": [
      "import IMP\n",
      "import IMP.pmi.output as output"
     ],
     "language": "python",
     "metadata": {},
     "outputs": [],
     "prompt_number": 34
    },
    {
     "cell_type": "code",
     "collapsed": false,
     "input": [
      "po=IMP.pmi.output.ProcessOutput(\"stat_replica.0.out\")\n",
      "po.show_keys()"
     ],
     "language": "python",
     "metadata": {},
     "outputs": [
      {
       "output_type": "stream",
       "stream": "stdout",
       "text": [
        "ReplicaExchange_CurrentTemp                                      ReplicaExchange_SwapSuccessRatio                                 \n",
        "ReplicaExchange_MaxTempFrequency                                 score                                                            \n",
        "ReplicaExchange_MinTempFrequency                                                                                                  \n"
       ]
      }
     ],
     "prompt_number": 35
    },
    {
     "cell_type": "code",
     "collapsed": false,
     "input": [
      "fs=po.get_fields([\"ReplicaExchange_SwapSuccessRatio\",\"score\",\"ReplicaExchange_CurrentTemp\"])"
     ],
     "language": "python",
     "metadata": {},
     "outputs": [],
     "prompt_number": 36
    },
    {
     "cell_type": "code",
     "collapsed": false,
     "input": [
      "IMP.pmi.output.plot_fields(fs)"
     ],
     "language": "python",
     "metadata": {},
     "outputs": [],
     "prompt_number": 37
    },
    {
     "cell_type": "heading",
     "level": 2,
     "metadata": {},
     "source": [
      "Plot score histograms for all replicas"
     ]
    },
    {
     "cell_type": "code",
     "collapsed": false,
     "input": [
      "values=[]\n",
      "for i in range(0,64):\n",
      "    po=IMP.pmi.output.ProcessOutput(\"stat_replica.\"+str(i)+\".out\")\n",
      "    values.append(po.get_fields([\"score\"])[\"score\"])"
     ],
     "language": "python",
     "metadata": {},
     "outputs": []
    },
    {
     "cell_type": "code",
     "collapsed": false,
     "input": [
      "output.plot_field_histogram(\"scores\",values,yplotrange=[0,0.02])"
     ],
     "language": "python",
     "metadata": {},
     "outputs": []
    },
    {
     "cell_type": "code",
     "collapsed": false,
     "input": [],
     "language": "python",
     "metadata": {},
     "outputs": []
    }
   ],
   "metadata": {}
  }
 ]
}